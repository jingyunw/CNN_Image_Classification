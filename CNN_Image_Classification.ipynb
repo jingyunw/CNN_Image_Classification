{
 "cells": [
  {
   "cell_type": "markdown",
   "metadata": {},
   "source": [
    "# Detecting Pneumonia by Using CNNs"
   ]
  },
  {
   "cell_type": "markdown",
   "metadata": {},
   "source": [
    "## I. Overview"
   ]
  },
  {
   "cell_type": "markdown",
   "metadata": {},
   "source": [
    "## II. Business Problem"
   ]
  },
  {
   "cell_type": "markdown",
   "metadata": {},
   "source": [
    "## III. Data Understanding"
   ]
  },
  {
   "cell_type": "markdown",
   "metadata": {},
   "source": [
    "## IV. Data Preparation"
   ]
  },
  {
   "cell_type": "code",
   "execution_count": 21,
   "metadata": {
    "ExecuteTime": {
     "end_time": "2021-05-13T02:00:46.650224Z",
     "start_time": "2021-05-13T02:00:46.644450Z"
    }
   },
   "outputs": [],
   "source": [
    "import os\n",
    "import pandas as pd\n",
    "\n",
    "import numpy as np\n",
    "np.set_printoptions(precision=4, suppress=True)\n",
    "\n",
    "import matplotlib.pyplot as plt\n",
    "%matplotlib inline"
   ]
  },
  {
   "cell_type": "code",
   "execution_count": 22,
   "metadata": {
    "ExecuteTime": {
     "end_time": "2021-05-13T02:00:46.656375Z",
     "start_time": "2021-05-13T02:00:46.652174Z"
    }
   },
   "outputs": [],
   "source": [
    "from tensorflow import random\n",
    "from tensorflow.keras.preprocessing.image import ImageDataGenerator, array_to_img, img_to_array, load_img\n",
    "\n",
    "from tensorflow.keras import models\n",
    "from tensorflow.keras import layers\n",
    "\n",
    "from tensorflow.keras import regularizers\n",
    "\n",
    "from tensorflow.keras.models import load_model\n",
    "\n",
    "from tensorflow.keras.callbacks import EarlyStopping, ModelCheckpoint"
   ]
  },
  {
   "cell_type": "code",
   "execution_count": 23,
   "metadata": {
    "ExecuteTime": {
     "end_time": "2021-05-13T02:00:46.670293Z",
     "start_time": "2021-05-13T02:00:46.658711Z"
    }
   },
   "outputs": [],
   "source": [
    "random.set_seed(24)"
   ]
  },
  {
   "cell_type": "code",
   "execution_count": 24,
   "metadata": {
    "ExecuteTime": {
     "end_time": "2021-05-13T02:00:46.674192Z",
     "start_time": "2021-05-13T02:00:46.672059Z"
    }
   },
   "outputs": [],
   "source": [
    "# File directory\n",
    "train_dir = 'chest_xray/train'\n",
    "test_dir = 'chest_xray/test'\n",
    "val_dir = 'chest_xray/val'"
   ]
  },
  {
   "cell_type": "code",
   "execution_count": 25,
   "metadata": {
    "ExecuteTime": {
     "end_time": "2021-05-13T02:00:47.221161Z",
     "start_time": "2021-05-13T02:00:46.675540Z"
    }
   },
   "outputs": [
    {
     "name": "stdout",
     "output_type": "stream",
     "text": [
      "Found 5216 images belonging to 2 classes.\n",
      "Found 624 images belonging to 2 classes.\n",
      "Found 16 images belonging to 2 classes.\n"
     ]
    }
   ],
   "source": [
    "# Get all the train data (5216) in the directory, scale, and reshape\n",
    "train_generator = ImageDataGenerator(rescale=1./255)\\\n",
    "                  .flow_from_directory(train_dir, target_size=(128,128), batch_size=5216)\n",
    "\n",
    "# Get all the test data (624) in the directory, scale, and reshape\n",
    "test_generator = ImageDataGenerator(rescale=1./255)\\\n",
    "                 .flow_from_directory(test_dir, target_size=(128,128), batch_size=624) \n",
    "\n",
    "# Get all the validation data (16) in the directory, scale, and reshape\n",
    "val_generator = ImageDataGenerator(rescale=1./255)\\\n",
    "                .flow_from_directory(val_dir, target_size=(128,128), batch_size=16) "
   ]
  },
  {
   "cell_type": "code",
   "execution_count": 26,
   "metadata": {
    "ExecuteTime": {
     "end_time": "2021-05-13T02:01:36.642395Z",
     "start_time": "2021-05-13T02:00:47.223828Z"
    }
   },
   "outputs": [],
   "source": [
    "# create the data sets\n",
    "# next - retrieve the next item from iterator\n",
    "X_train, train_labels = next(train_generator)\n",
    "X_test, test_labels = next(test_generator)\n",
    "X_val, val_labels = next(val_generator)"
   ]
  },
  {
   "cell_type": "code",
   "execution_count": 27,
   "metadata": {
    "ExecuteTime": {
     "end_time": "2021-05-13T02:01:36.648036Z",
     "start_time": "2021-05-13T02:01:36.644003Z"
    }
   },
   "outputs": [
    {
     "name": "stdout",
     "output_type": "stream",
     "text": [
      "train_images shape: (5216, 128, 128, 3)\n",
      "train_labels shape: (5216, 2)\n",
      "test_images shape: (624, 128, 128, 3)\n",
      "test_labels shape: (624, 2)\n",
      "val_images shape: (16, 128, 128, 3)\n",
      "val_labels shape: (16, 2)\n"
     ]
    }
   ],
   "source": [
    "# Check the shape\n",
    "print (\"train_images shape: \" + str(X_train.shape))\n",
    "print (\"train_labels shape: \" + str(train_labels.shape))\n",
    "\n",
    "print (\"test_images shape: \" + str(X_test.shape))\n",
    "print (\"test_labels shape: \" + str(test_labels.shape))\n",
    "\n",
    "print (\"val_images shape: \" + str(X_val.shape))\n",
    "print (\"val_labels shape: \" + str(val_labels.shape))"
   ]
  },
  {
   "cell_type": "code",
   "execution_count": 28,
   "metadata": {
    "ExecuteTime": {
     "end_time": "2021-05-13T02:01:36.655183Z",
     "start_time": "2021-05-13T02:01:36.651362Z"
    }
   },
   "outputs": [
    {
     "name": "stdout",
     "output_type": "stream",
     "text": [
      "(5216, 1)\n",
      "(624, 1)\n",
      "(16, 1)\n"
     ]
    }
   ],
   "source": [
    "y_train = np.reshape(train_labels[:,0], (5216,1))\n",
    "y_test = np.reshape(test_labels[:,0], (624,1))\n",
    "y_val = np.reshape(val_labels[:,0], (16,1))\n",
    "\n",
    "print(y_train.shape)\n",
    "print(y_test.shape)\n",
    "print(y_val.shape)"
   ]
  },
  {
   "cell_type": "code",
   "execution_count": 29,
   "metadata": {
    "ExecuteTime": {
     "end_time": "2021-05-13T02:01:36.664316Z",
     "start_time": "2021-05-13T02:01:36.656876Z"
    }
   },
   "outputs": [],
   "source": [
    "def visualize_training_results(history):\n",
    "    '''\n",
    "    From https://machinelearningmastery.com/display-deep-learning-model-training-history-in-keras/\n",
    "    \n",
    "    Input: keras history object (output from trained model)\n",
    "    '''\n",
    "    fig, (ax1, ax2) = plt.subplots(2, sharex=True)\n",
    "    fig.suptitle('Model Results')\n",
    "\n",
    "    # summarize history for accuracy\n",
    "    ax1.plot(history.history['accuracy'])\n",
    "    ax1.plot(history.history['val_accuracy'])\n",
    "    ax1.set_ylabel('Accuracy')\n",
    "    ax1.legend(['train', 'test'], loc='upper left')\n",
    "    \n",
    "    # summarize history for loss\n",
    "    ax2.plot(history.history['loss'])\n",
    "    ax2.plot(history.history['val_loss'])\n",
    "    ax2.set_ylabel('Loss')\n",
    "    ax2.legend(['train', 'test'], loc='upper left')\n",
    "    \n",
    "    plt.xlabel('Epoch')\n",
    "    plt.show()"
   ]
  },
  {
   "cell_type": "code",
   "execution_count": 30,
   "metadata": {
    "ExecuteTime": {
     "end_time": "2021-05-13T02:01:36.669447Z",
     "start_time": "2021-05-13T02:01:36.665775Z"
    }
   },
   "outputs": [],
   "source": [
    "def model_evaluation(model):\n",
    "    result_train = model.evaluate(X_train, y_train)\n",
    "    print(f'Training Loss:{result_train[0]:.4}')\n",
    "    print(f'Training Accuracy:{result_train[1]:.4}')\n",
    "    \n",
    "    result_val = model.evaluate(X_val, y_val)\n",
    "    print(f'Val Loss:{result_val[0]:.4}')\n",
    "    print(f'Val Accuracy:{result_val[1]:.4}')"
   ]
  },
  {
   "cell_type": "markdown",
   "metadata": {},
   "source": [
    "### Note:\n",
    "- Since the <u>*validation set*</u> contains much less data than the <u>*test set*</u>, I will use the <u>*test set*</u> as my validation during the model fit step\n",
    "- <u>*validation set*</u> will be used as true holdout which only use at the end \n",
    "\n",
    "### Problem of small validation set\n",
    "- If the validation set contains much less data than training set, the validation curves (accuracy and loss) will be spiky before convergence. In other words, more epochs and longer training time will be required"
   ]
  },
  {
   "cell_type": "markdown",
   "metadata": {},
   "source": [
    "## V. Modeling"
   ]
  },
  {
   "cell_type": "markdown",
   "metadata": {},
   "source": [
    "### MLP"
   ]
  },
  {
   "cell_type": "code",
   "execution_count": null,
   "metadata": {},
   "outputs": [],
   "source": [
    "mlp = models.Sequential()\n",
    "mlp.add(layers.Dense(100, activation='relu', input_shape=(49152,)))\n",
    "mlp.add(layers.Dense(50, activation='relu'))\n",
    "mlp.add(layers.Dense(25, activation='relu'))\n",
    "mlp.add(layers.Dense(1, activation='sigmoid'))"
   ]
  },
  {
   "cell_type": "code",
   "execution_count": null,
   "metadata": {},
   "outputs": [],
   "source": [
    "mlp.compile(optimizer='adam',\n",
    "            loss='binary_crossentropy',\n",
    "            metrics=['accuracy'])"
   ]
  },
  {
   "cell_type": "code",
   "execution_count": null,
   "metadata": {},
   "outputs": [],
   "source": [
    "mlp_history = mlp.fit(train_x, y_train,\n",
    "                      epochs=50,\n",
    "                      batch_size=25,\n",
    "                      validation_data=(test_x, y_test))"
   ]
  },
  {
   "cell_type": "code",
   "execution_count": null,
   "metadata": {},
   "outputs": [],
   "source": [
    "result_train = base_model.evaluate(train_x, y_train)\n",
    "print(result_train)\n",
    "\n",
    "result_test = base_model.evaluate(val_x, y_val)\n",
    "print(result_test)"
   ]
  },
  {
   "cell_type": "markdown",
   "metadata": {},
   "source": [
    "### CNN Baseline Model\n",
    "- 3 block"
   ]
  },
  {
   "cell_type": "code",
   "execution_count": 11,
   "metadata": {
    "ExecuteTime": {
     "end_time": "2021-05-12T15:55:57.975992Z",
     "start_time": "2021-05-12T15:55:57.865600Z"
    }
   },
   "outputs": [],
   "source": [
    "base_model = models.Sequential()\n",
    "base_model.add(layers.Conv2D(32, (3, 3), activation='relu', input_shape=(128,128,3)))\n",
    "base_model.add(layers.MaxPooling2D((2, 2)))\n",
    "\n",
    "base_model.add(layers.Conv2D(64, (3, 3), activation='relu'))\n",
    "base_model.add(layers.MaxPooling2D((2, 2)))\n",
    "\n",
    "base_model.add(layers.Conv2D(128, (3, 3), activation='relu'))\n",
    "base_model.add(layers.MaxPooling2D((2, 2)))\n",
    "\n",
    "base_model.add(layers.Flatten())\n",
    "base_model.add(layers.Dense(128, activation='relu'))\n",
    "base_model.add(layers.Dense(1, activation='sigmoid'))\n",
    "\n",
    "base_model.compile(optimizer='adam',\n",
    "                   loss='binary_crossentropy',\n",
    "                   metrics=['accuracy'])"
   ]
  },
  {
   "cell_type": "code",
   "execution_count": 12,
   "metadata": {
    "ExecuteTime": {
     "end_time": "2021-05-12T16:38:27.328865Z",
     "start_time": "2021-05-12T15:55:57.977414Z"
    },
    "scrolled": false
   },
   "outputs": [
    {
     "name": "stdout",
     "output_type": "stream",
     "text": [
      "Epoch 1/50\n",
      "163/163 [==============================] - 43s 260ms/step - loss: 0.4430 - accuracy: 0.7968 - val_loss: 0.4689 - val_accuracy: 0.8013\n",
      "Epoch 2/50\n",
      "163/163 [==============================] - 41s 254ms/step - loss: 0.1252 - accuracy: 0.9530 - val_loss: 1.1855 - val_accuracy: 0.7276\n",
      "Epoch 3/50\n",
      "163/163 [==============================] - 41s 254ms/step - loss: 0.0680 - accuracy: 0.9765 - val_loss: 0.8361 - val_accuracy: 0.7596\n",
      "Epoch 4/50\n",
      "163/163 [==============================] - 42s 256ms/step - loss: 0.0622 - accuracy: 0.9807 - val_loss: 0.8057 - val_accuracy: 0.7772\n",
      "Epoch 5/50\n",
      "163/163 [==============================] - 42s 257ms/step - loss: 0.0582 - accuracy: 0.9804 - val_loss: 0.8775 - val_accuracy: 0.7724\n",
      "Epoch 6/50\n",
      "163/163 [==============================] - 42s 258ms/step - loss: 0.0506 - accuracy: 0.9828 - val_loss: 1.0743 - val_accuracy: 0.7420\n",
      "Epoch 7/50\n",
      "163/163 [==============================] - 42s 259ms/step - loss: 0.0376 - accuracy: 0.9871 - val_loss: 1.0228 - val_accuracy: 0.7901\n",
      "Epoch 8/50\n",
      "163/163 [==============================] - 42s 258ms/step - loss: 0.0509 - accuracy: 0.9815 - val_loss: 0.9525 - val_accuracy: 0.7804\n",
      "Epoch 9/50\n",
      "163/163 [==============================] - 42s 260ms/step - loss: 0.0334 - accuracy: 0.9890 - val_loss: 1.1947 - val_accuracy: 0.7596\n",
      "Epoch 10/50\n",
      "163/163 [==============================] - 42s 260ms/step - loss: 0.0199 - accuracy: 0.9936 - val_loss: 1.7056 - val_accuracy: 0.7436\n",
      "Epoch 11/50\n",
      "163/163 [==============================] - 42s 260ms/step - loss: 0.0163 - accuracy: 0.9916 - val_loss: 1.6298 - val_accuracy: 0.7516\n",
      "Epoch 12/50\n",
      "163/163 [==============================] - 42s 260ms/step - loss: 0.0151 - accuracy: 0.9956 - val_loss: 2.0310 - val_accuracy: 0.7628\n",
      "Epoch 13/50\n",
      "163/163 [==============================] - 42s 260ms/step - loss: 0.0090 - accuracy: 0.9970 - val_loss: 3.2538 - val_accuracy: 0.7019\n",
      "Epoch 14/50\n",
      "163/163 [==============================] - 42s 260ms/step - loss: 0.0167 - accuracy: 0.9933 - val_loss: 2.9312 - val_accuracy: 0.7115\n",
      "Epoch 15/50\n",
      "163/163 [==============================] - 42s 259ms/step - loss: 0.0173 - accuracy: 0.9934 - val_loss: 2.4013 - val_accuracy: 0.7436\n",
      "Epoch 16/50\n",
      "163/163 [==============================] - 486s 3s/step - loss: 0.0094 - accuracy: 0.9969 - val_loss: 2.2586 - val_accuracy: 0.7452\n",
      "Epoch 17/50\n",
      "163/163 [==============================] - 42s 257ms/step - loss: 0.0075 - accuracy: 0.9976 - val_loss: 2.3087 - val_accuracy: 0.7692\n",
      "Epoch 18/50\n",
      "163/163 [==============================] - 42s 258ms/step - loss: 0.0020 - accuracy: 1.0000 - val_loss: 3.3254 - val_accuracy: 0.7452\n",
      "Epoch 19/50\n",
      "163/163 [==============================] - 42s 258ms/step - loss: 3.8014e-04 - accuracy: 1.0000 - val_loss: 4.0418 - val_accuracy: 0.7372\n",
      "Epoch 20/50\n",
      "163/163 [==============================] - 42s 259ms/step - loss: 1.1957e-04 - accuracy: 1.0000 - val_loss: 3.8749 - val_accuracy: 0.7516\n",
      "Epoch 21/50\n",
      "163/163 [==============================] - 42s 258ms/step - loss: 5.9933e-05 - accuracy: 1.0000 - val_loss: 3.9663 - val_accuracy: 0.7516\n",
      "Epoch 22/50\n",
      "163/163 [==============================] - 42s 258ms/step - loss: 4.9255e-05 - accuracy: 1.0000 - val_loss: 4.0889 - val_accuracy: 0.7500\n",
      "Epoch 23/50\n",
      "163/163 [==============================] - 42s 258ms/step - loss: 3.2044e-05 - accuracy: 1.0000 - val_loss: 4.1524 - val_accuracy: 0.7500\n",
      "Epoch 24/50\n",
      "163/163 [==============================] - 42s 258ms/step - loss: 2.8374e-05 - accuracy: 1.0000 - val_loss: 4.1858 - val_accuracy: 0.7532\n",
      "Epoch 25/50\n",
      "163/163 [==============================] - 42s 258ms/step - loss: 3.4466e-05 - accuracy: 1.0000 - val_loss: 4.2032 - val_accuracy: 0.7532\n",
      "Epoch 26/50\n",
      "163/163 [==============================] - 42s 259ms/step - loss: 2.8492e-05 - accuracy: 1.0000 - val_loss: 4.2668 - val_accuracy: 0.7532\n",
      "Epoch 27/50\n",
      "163/163 [==============================] - 42s 256ms/step - loss: 2.2625e-05 - accuracy: 1.0000 - val_loss: 4.3570 - val_accuracy: 0.7516\n",
      "Epoch 28/50\n",
      "163/163 [==============================] - 42s 257ms/step - loss: 1.6446e-05 - accuracy: 1.0000 - val_loss: 4.4519 - val_accuracy: 0.7484\n",
      "Epoch 29/50\n",
      "163/163 [==============================] - 42s 259ms/step - loss: 1.5442e-05 - accuracy: 1.0000 - val_loss: 4.4528 - val_accuracy: 0.7500\n",
      "Epoch 30/50\n",
      "163/163 [==============================] - 42s 259ms/step - loss: 1.4399e-05 - accuracy: 1.0000 - val_loss: 4.5552 - val_accuracy: 0.7500\n",
      "Epoch 31/50\n",
      "163/163 [==============================] - 42s 259ms/step - loss: 1.3802e-05 - accuracy: 1.0000 - val_loss: 4.6334 - val_accuracy: 0.7484\n",
      "Epoch 32/50\n",
      "163/163 [==============================] - 42s 260ms/step - loss: 1.3025e-05 - accuracy: 1.0000 - val_loss: 4.5675 - val_accuracy: 0.7500\n",
      "Epoch 33/50\n",
      "163/163 [==============================] - 42s 259ms/step - loss: 1.0514e-05 - accuracy: 1.0000 - val_loss: 4.6682 - val_accuracy: 0.7500\n",
      "Epoch 34/50\n",
      "163/163 [==============================] - 42s 259ms/step - loss: 9.3588e-06 - accuracy: 1.0000 - val_loss: 4.6923 - val_accuracy: 0.7500\n",
      "Epoch 35/50\n",
      "163/163 [==============================] - 42s 259ms/step - loss: 9.7058e-06 - accuracy: 1.0000 - val_loss: 4.7376 - val_accuracy: 0.7500\n",
      "Epoch 36/50\n",
      "163/163 [==============================] - 42s 260ms/step - loss: 7.7743e-06 - accuracy: 1.0000 - val_loss: 4.8343 - val_accuracy: 0.7500\n",
      "Epoch 37/50\n",
      "163/163 [==============================] - 42s 259ms/step - loss: 6.1952e-06 - accuracy: 1.0000 - val_loss: 4.8297 - val_accuracy: 0.7500\n",
      "Epoch 38/50\n",
      "163/163 [==============================] - 42s 256ms/step - loss: 6.4805e-06 - accuracy: 1.0000 - val_loss: 4.8925 - val_accuracy: 0.7500\n",
      "Epoch 39/50\n",
      "163/163 [==============================] - 42s 256ms/step - loss: 6.3643e-06 - accuracy: 1.0000 - val_loss: 4.8016 - val_accuracy: 0.7516\n",
      "Epoch 40/50\n",
      "163/163 [==============================] - 42s 257ms/step - loss: 5.6579e-06 - accuracy: 1.0000 - val_loss: 4.9828 - val_accuracy: 0.7500\n",
      "Epoch 41/50\n",
      "163/163 [==============================] - 42s 257ms/step - loss: 5.1900e-06 - accuracy: 1.0000 - val_loss: 4.9811 - val_accuracy: 0.7500\n",
      "Epoch 42/50\n",
      "163/163 [==============================] - 42s 258ms/step - loss: 3.5609e-06 - accuracy: 1.0000 - val_loss: 5.0850 - val_accuracy: 0.7468\n",
      "Epoch 43/50\n",
      "163/163 [==============================] - 42s 257ms/step - loss: 3.9501e-06 - accuracy: 1.0000 - val_loss: 5.0884 - val_accuracy: 0.7500\n",
      "Epoch 44/50\n",
      "163/163 [==============================] - 42s 258ms/step - loss: 4.5551e-06 - accuracy: 1.0000 - val_loss: 5.0858 - val_accuracy: 0.7500\n",
      "Epoch 45/50\n",
      "163/163 [==============================] - 42s 259ms/step - loss: 3.2939e-06 - accuracy: 1.0000 - val_loss: 5.1683 - val_accuracy: 0.7500\n",
      "Epoch 46/50\n",
      "163/163 [==============================] - 42s 258ms/step - loss: 3.1520e-06 - accuracy: 1.0000 - val_loss: 5.2476 - val_accuracy: 0.7468\n",
      "Epoch 47/50\n",
      "163/163 [==============================] - 42s 259ms/step - loss: 2.4442e-06 - accuracy: 1.0000 - val_loss: 5.2578 - val_accuracy: 0.7484\n",
      "Epoch 48/50\n",
      "163/163 [==============================] - 42s 260ms/step - loss: 2.3802e-06 - accuracy: 1.0000 - val_loss: 5.3841 - val_accuracy: 0.7452\n",
      "Epoch 49/50\n",
      "163/163 [==============================] - 42s 259ms/step - loss: 2.0355e-06 - accuracy: 1.0000 - val_loss: 5.3207 - val_accuracy: 0.7484\n",
      "Epoch 50/50\n",
      "163/163 [==============================] - 42s 258ms/step - loss: 2.0520e-06 - accuracy: 1.0000 - val_loss: 5.4111 - val_accuracy: 0.7468\n"
     ]
    }
   ],
   "source": [
    "base_history = base_model.fit(X_train, y_train,\n",
    "                              epochs=50,\n",
    "                              batch_size=32,\n",
    "                              validation_data=(X_test, y_test))"
   ]
  },
  {
   "cell_type": "code",
   "execution_count": 13,
   "metadata": {
    "ExecuteTime": {
     "end_time": "2021-05-12T16:38:27.604437Z",
     "start_time": "2021-05-12T16:38:27.330165Z"
    }
   },
   "outputs": [
    {
     "data": {
      "image/png": "[encoded data removed]",
      "text/plain": [
       "<Figure size 432x288 with 2 Axes>"
      ]
     },
     "metadata": {
      "needs_background": "light"
     },
     "output_type": "display_data"
    }
   ],
   "source": [
    "visualize_training_results(base_history)"
   ]
  },
  {
   "cell_type": "code",
   "execution_count": 14,
   "metadata": {
    "ExecuteTime": {
     "end_time": "2021-05-12T16:38:27.657512Z",
     "start_time": "2021-05-12T16:38:27.606107Z"
    }
   },
   "outputs": [],
   "source": [
    "base_model.save('base_model.h5')"
   ]
  },
  {
   "cell_type": "code",
   "execution_count": 15,
   "metadata": {
    "ExecuteTime": {
     "end_time": "2021-05-12T16:51:22.229003Z",
     "start_time": "2021-05-12T16:51:11.809710Z"
    }
   },
   "outputs": [
    {
     "name": "stdout",
     "output_type": "stream",
     "text": [
      "163/163 [==============================] - 10s 62ms/step - loss: 1.8565e-06 - accuracy: 1.0000\n",
      "Training Loss:1.857e-06\n",
      "Training Accuracy:1.0\n",
      "1/1 [==============================] - 0s 125ms/step - loss: 0.4588 - accuracy: 0.9375\n",
      "Val Loss:0.4588\n",
      "Val Accuracy:0.9375\n"
     ]
    }
   ],
   "source": [
    "base = load_model('base_model.h5')\n",
    "model_evaluation(base)"
   ]
  },
  {
   "cell_type": "markdown",
   "metadata": {},
   "source": [
    ">**Comment:** *Baseline Model*\n",
    "- The CNN baseline model took about 40 minutes to run\n",
    "- The train accuracy (1.0) is higher than val accuracy (0.9375) which indicates that the baseline model is overfit\n",
    "- The accuracy plot shows that test accuracy reaches convergence after 20 epochs \n",
    "- The loss plot shows that test loss still increase after 20 epochs\n",
    "- Early stopping can be used for iteration model tunning to prevent overfit and saving time"
   ]
  },
  {
   "cell_type": "markdown",
   "metadata": {},
   "source": [
    "### Try some pred_prob"
   ]
  },
  {
   "cell_type": "code",
   "execution_count": null,
   "metadata": {},
   "outputs": [],
   "source": [
    "base.predict_prob(X_val)"
   ]
  },
  {
   "cell_type": "code",
   "execution_count": null,
   "metadata": {},
   "outputs": [],
   "source": []
  },
  {
   "cell_type": "code",
   "execution_count": null,
   "metadata": {},
   "outputs": [],
   "source": []
  },
  {
   "cell_type": "code",
   "execution_count": null,
   "metadata": {},
   "outputs": [],
   "source": []
  },
  {
   "cell_type": "markdown",
   "metadata": {},
   "source": [
    "### Dropout 20\n",
    "- Add (20%) dropout layers and earlystopping "
   ]
  },
  {
   "cell_type": "code",
   "execution_count": 16,
   "metadata": {
    "ExecuteTime": {
     "end_time": "2021-05-12T16:51:57.382798Z",
     "start_time": "2021-05-12T16:51:57.294455Z"
    }
   },
   "outputs": [],
   "source": [
    "dropout_20 = models.Sequential()\n",
    "dropout_20.add(layers.Conv2D(32, (3, 3), activation='relu', input_shape=(128,128,3)))\n",
    "dropout_20.add(layers.MaxPooling2D((2, 2)))\n",
    "dropout_20.add(layers.Dropout(0.2))\n",
    "\n",
    "dropout_20.add(layers.Conv2D(64, (3, 3), activation='relu'))\n",
    "dropout_20.add(layers.MaxPooling2D((2, 2)))\n",
    "dropout_20.add(layers.Dropout(0.2))\n",
    "\n",
    "dropout_20.add(layers.Conv2D(128, (3, 3), activation='relu'))\n",
    "dropout_20.add(layers.MaxPooling2D((2, 2)))\n",
    "dropout_20.add(layers.Dropout(0.2))\n",
    "\n",
    "dropout_20.add(layers.Flatten())\n",
    "dropout_20.add(layers.Dense(128, activation='relu'))\n",
    "dropout_20.add(layers.Dense(1, activation='sigmoid'))\n",
    "\n",
    "dropout_20.compile(optimizer='adam',\n",
    "                    loss='binary_crossentropy',\n",
    "                    metrics=['accuracy'])"
   ]
  },
  {
   "cell_type": "code",
   "execution_count": 17,
   "metadata": {
    "ExecuteTime": {
     "end_time": "2021-05-12T16:51:57.387350Z",
     "start_time": "2021-05-12T16:51:57.384734Z"
    }
   },
   "outputs": [],
   "source": [
    "es_dp_20 = [EarlyStopping(monitor='val_loss', mode='min', verbose=1, patience=6),\n",
    "         ModelCheckpoint(filepath='best_dropout_20.h5', monitor='val_accuracy', \n",
    "                         mode='max', verbose=1, save_best_only=True)]"
   ]
  },
  {
   "cell_type": "code",
   "execution_count": 18,
   "metadata": {
    "ExecuteTime": {
     "end_time": "2021-05-12T17:03:56.933719Z",
     "start_time": "2021-05-12T16:51:57.389703Z"
    }
   },
   "outputs": [
    {
     "name": "stdout",
     "output_type": "stream",
     "text": [
      "Epoch 1/50\n",
      "163/163 [==============================] - 49s 295ms/step - loss: 0.5665 - accuracy: 0.7648 - val_loss: 0.7180 - val_accuracy: 0.7388\n",
      "\n",
      "Epoch 00001: val_accuracy improved from -inf to 0.73878, saving model to best_dropout_20.h5\n",
      "Epoch 2/50\n",
      "163/163 [==============================] - 47s 291ms/step - loss: 0.1443 - accuracy: 0.9426 - val_loss: 0.8041 - val_accuracy: 0.7564\n",
      "\n",
      "Epoch 00002: val_accuracy improved from 0.73878 to 0.75641, saving model to best_dropout_20.h5\n",
      "Epoch 3/50\n",
      "163/163 [==============================] - 49s 301ms/step - loss: 0.0971 - accuracy: 0.9613 - val_loss: 0.7375 - val_accuracy: 0.7756\n",
      "\n",
      "Epoch 00003: val_accuracy improved from 0.75641 to 0.77564, saving model to best_dropout_20.h5\n",
      "Epoch 4/50\n",
      "163/163 [==============================] - 48s 293ms/step - loss: 0.0764 - accuracy: 0.9723 - val_loss: 0.5995 - val_accuracy: 0.7853\n",
      "\n",
      "Epoch 00004: val_accuracy improved from 0.77564 to 0.78526, saving model to best_dropout_20.h5\n",
      "Epoch 5/50\n",
      "163/163 [==============================] - 48s 292ms/step - loss: 0.0840 - accuracy: 0.9673 - val_loss: 0.7536 - val_accuracy: 0.7708\n",
      "\n",
      "Epoch 00005: val_accuracy did not improve from 0.78526\n",
      "Epoch 6/50\n",
      "163/163 [==============================] - 48s 293ms/step - loss: 0.0718 - accuracy: 0.9741 - val_loss: 0.8788 - val_accuracy: 0.7724\n",
      "\n",
      "Epoch 00006: val_accuracy did not improve from 0.78526\n",
      "Epoch 7/50\n",
      "163/163 [==============================] - 48s 292ms/step - loss: 0.0609 - accuracy: 0.9769 - val_loss: 0.5903 - val_accuracy: 0.8301\n",
      "\n",
      "Epoch 00007: val_accuracy improved from 0.78526 to 0.83013, saving model to best_dropout_20.h5\n",
      "Epoch 8/50\n",
      "163/163 [==============================] - 48s 291ms/step - loss: 0.0522 - accuracy: 0.9832 - val_loss: 0.9876 - val_accuracy: 0.7756\n",
      "\n",
      "Epoch 00008: val_accuracy did not improve from 0.83013\n",
      "Epoch 9/50\n",
      "163/163 [==============================] - 48s 292ms/step - loss: 0.0495 - accuracy: 0.9818 - val_loss: 0.5207 - val_accuracy: 0.8285\n",
      "\n",
      "Epoch 00009: val_accuracy did not improve from 0.83013\n",
      "Epoch 10/50\n",
      "163/163 [==============================] - 47s 291ms/step - loss: 0.0583 - accuracy: 0.9806 - val_loss: 1.3426 - val_accuracy: 0.7660\n",
      "\n",
      "Epoch 00010: val_accuracy did not improve from 0.83013\n",
      "Epoch 11/50\n",
      "163/163 [==============================] - 48s 292ms/step - loss: 0.0442 - accuracy: 0.9809 - val_loss: 1.0012 - val_accuracy: 0.7933\n",
      "\n",
      "Epoch 00011: val_accuracy did not improve from 0.83013\n",
      "Epoch 12/50\n",
      "163/163 [==============================] - 48s 291ms/step - loss: 0.0390 - accuracy: 0.9862 - val_loss: 1.0131 - val_accuracy: 0.7869\n",
      "\n",
      "Epoch 00012: val_accuracy did not improve from 0.83013\n",
      "Epoch 13/50\n",
      "163/163 [==============================] - 47s 291ms/step - loss: 0.0332 - accuracy: 0.9874 - val_loss: 1.3623 - val_accuracy: 0.7708\n",
      "\n",
      "Epoch 00013: val_accuracy did not improve from 0.83013\n",
      "Epoch 14/50\n",
      "163/163 [==============================] - 50s 305ms/step - loss: 0.0391 - accuracy: 0.9859 - val_loss: 1.5138 - val_accuracy: 0.7372\n",
      "\n",
      "Epoch 00014: val_accuracy did not improve from 0.83013\n",
      "Epoch 15/50\n",
      "163/163 [==============================] - 49s 300ms/step - loss: 0.0242 - accuracy: 0.9912 - val_loss: 1.3387 - val_accuracy: 0.7788\n",
      "\n",
      "Epoch 00015: val_accuracy did not improve from 0.83013\n",
      "Epoch 00015: early stopping\n"
     ]
    }
   ],
   "source": [
    "dropout_20_history = dropout_20.fit(X_train, y_train,\n",
    "                                epochs=50,\n",
    "                                batch_size=32,\n",
    "                                callbacks=es_dp_20,\n",
    "                                validation_data=(X_test, y_test))"
   ]
  },
  {
   "cell_type": "code",
   "execution_count": 19,
   "metadata": {
    "ExecuteTime": {
     "end_time": "2021-05-12T17:03:57.205809Z",
     "start_time": "2021-05-12T17:03:56.935667Z"
    },
    "scrolled": true
   },
   "outputs": [
    {
     "data": {
      "image/png": "[encoded data removed]",
      "text/plain": [
       "<Figure size 432x288 with 2 Axes>"
      ]
     },
     "metadata": {
      "needs_background": "light"
     },
     "output_type": "display_data"
    }
   ],
   "source": [
    "visualize_training_results(dropout_20_history)"
   ]
  },
  {
   "cell_type": "code",
   "execution_count": 20,
   "metadata": {
    "ExecuteTime": {
     "end_time": "2021-05-12T17:04:08.401462Z",
     "start_time": "2021-05-12T17:03:57.207588Z"
    }
   },
   "outputs": [
    {
     "name": "stdout",
     "output_type": "stream",
     "text": [
      "163/163 [==============================] - 11s 66ms/step - loss: 0.0766 - accuracy: 0.9712\n",
      "Training Loss:0.07663\n",
      "Training Accuracy:0.9712\n",
      "1/1 [==============================] - 0s 129ms/step - loss: 0.0855 - accuracy: 1.0000\n",
      "Val Loss:0.08555\n",
      "Val Accuracy:1.0\n"
     ]
    }
   ],
   "source": [
    "dp20 = load_model('best_dropout_20.h5')\n",
    "model_evaluation(dp20)"
   ]
  },
  {
   "cell_type": "markdown",
   "metadata": {},
   "source": [
    ">**Comment:** Dropout 20%\n",
    "- The dropout_20 model took less time to run compare with the baseline model\n",
    "- The train accuracy (0.9712) is lower than val accuracy (1.0) which indicates the model is slightly underfit\n",
    "- Using a dropout layer decrease the complexity of the model thus cause underfitting"
   ]
  },
  {
   "cell_type": "markdown",
   "metadata": {},
   "source": [
    "#### Dropout 20b"
   ]
  },
  {
   "cell_type": "code",
   "execution_count": 11,
   "metadata": {
    "ExecuteTime": {
     "end_time": "2021-05-12T21:24:36.661050Z",
     "start_time": "2021-05-12T21:24:36.546035Z"
    }
   },
   "outputs": [],
   "source": [
    "dropout_20b = models.Sequential()\n",
    "dropout_20b.add(layers.Conv2D(32, (3, 3), activation='relu', input_shape=(128,128,3)))\n",
    "dropout_20b.add(layers.MaxPooling2D((2, 2)))\n",
    "dropout_20b.add(layers.Dropout(0.2))\n",
    "\n",
    "dropout_20b.add(layers.Conv2D(64, (3, 3), activation='relu'))\n",
    "dropout_20b.add(layers.MaxPooling2D((2, 2)))\n",
    "dropout_20b.add(layers.Dropout(0.2))\n",
    "\n",
    "dropout_20b.add(layers.Conv2D(128, (3, 3), activation='relu'))\n",
    "dropout_20b.add(layers.MaxPooling2D((2, 2)))\n",
    "dropout_20b.add(layers.Dropout(0.2))\n",
    "\n",
    "dropout_20b.add(layers.Flatten())\n",
    "dropout_20b.add(layers.Dense(128, activation='relu'))\n",
    "dropout_20b.add(layers.Dropout(0.2))\n",
    "dropout_20b.add(layers.Dense(1, activation='sigmoid'))\n",
    "\n",
    "dropout_20b.compile(optimizer='adam',\n",
    "                    loss='binary_crossentropy',\n",
    "                    metrics=['accuracy'])"
   ]
  },
  {
   "cell_type": "code",
   "execution_count": 12,
   "metadata": {
    "ExecuteTime": {
     "end_time": "2021-05-12T21:24:36.665292Z",
     "start_time": "2021-05-12T21:24:36.662792Z"
    }
   },
   "outputs": [],
   "source": [
    "es_dp_20b = [EarlyStopping(monitor='val_loss', mode='min', verbose=1, patience=6),\n",
    "            ModelCheckpoint(filepath='best_dropout_20b.h5', \n",
    "                            monitor='val_accuracy', mode='max', verbose=1, save_best_only=True)]  "
   ]
  },
  {
   "cell_type": "code",
   "execution_count": 13,
   "metadata": {
    "ExecuteTime": {
     "end_time": "2021-05-12T21:30:53.887119Z",
     "start_time": "2021-05-12T21:24:36.667791Z"
    }
   },
   "outputs": [
    {
     "name": "stdout",
     "output_type": "stream",
     "text": [
      "Epoch 1/50\n",
      "163/163 [==============================] - 48s 293ms/step - loss: 0.5207 - accuracy: 0.7878 - val_loss: 0.7091 - val_accuracy: 0.7260\n",
      "\n",
      "Epoch 00001: val_accuracy improved from -inf to 0.72596, saving model to best_dropout_20b.h5\n",
      "Epoch 2/50\n",
      "163/163 [==============================] - 47s 287ms/step - loss: 0.1186 - accuracy: 0.9572 - val_loss: 0.5289 - val_accuracy: 0.7885\n",
      "\n",
      "Epoch 00002: val_accuracy improved from 0.72596 to 0.78846, saving model to best_dropout_20b.h5\n",
      "Epoch 3/50\n",
      "163/163 [==============================] - 47s 288ms/step - loss: 0.1032 - accuracy: 0.9669 - val_loss: 0.7739 - val_accuracy: 0.7404\n",
      "\n",
      "Epoch 00003: val_accuracy did not improve from 0.78846\n",
      "Epoch 4/50\n",
      "163/163 [==============================] - 47s 287ms/step - loss: 0.0949 - accuracy: 0.9670 - val_loss: 0.7697 - val_accuracy: 0.7804\n",
      "\n",
      "Epoch 00004: val_accuracy did not improve from 0.78846\n",
      "Epoch 5/50\n",
      "163/163 [==============================] - 47s 287ms/step - loss: 0.0672 - accuracy: 0.9758 - val_loss: 0.9273 - val_accuracy: 0.7692\n",
      "\n",
      "Epoch 00005: val_accuracy did not improve from 0.78846\n",
      "Epoch 6/50\n",
      "163/163 [==============================] - 47s 289ms/step - loss: 0.0743 - accuracy: 0.9705 - val_loss: 1.0124 - val_accuracy: 0.7612\n",
      "\n",
      "Epoch 00006: val_accuracy did not improve from 0.78846\n",
      "Epoch 7/50\n",
      "163/163 [==============================] - 47s 289ms/step - loss: 0.0540 - accuracy: 0.9834 - val_loss: 1.2035 - val_accuracy: 0.7660\n",
      "\n",
      "Epoch 00007: val_accuracy did not improve from 0.78846\n",
      "Epoch 8/50\n",
      "163/163 [==============================] - 47s 289ms/step - loss: 0.0468 - accuracy: 0.9837 - val_loss: 1.3001 - val_accuracy: 0.7308\n",
      "\n",
      "Epoch 00008: val_accuracy did not improve from 0.78846\n",
      "Epoch 00008: early stopping\n"
     ]
    }
   ],
   "source": [
    "dropout_20b_history = dropout_20b.fit(X_train, y_train,\n",
    "                                epochs=50,\n",
    "                                batch_size=32,\n",
    "                                callbacks=es_dp_20b,\n",
    "                                validation_data=(X_test, y_test))"
   ]
  },
  {
   "cell_type": "code",
   "execution_count": 14,
   "metadata": {
    "ExecuteTime": {
     "end_time": "2021-05-12T21:30:54.186921Z",
     "start_time": "2021-05-12T21:30:53.888647Z"
    }
   },
   "outputs": [
    {
     "data": {
      "image/png": "[encoded data removed]",
      "text/plain": [
       "<Figure size 432x288 with 2 Axes>"
      ]
     },
     "metadata": {
      "needs_background": "light"
     },
     "output_type": "display_data"
    }
   ],
   "source": [
    "visualize_training_results(dropout_20b_history)"
   ]
  },
  {
   "cell_type": "code",
   "execution_count": 15,
   "metadata": {
    "ExecuteTime": {
     "end_time": "2021-05-12T21:31:05.348207Z",
     "start_time": "2021-05-12T21:30:54.189198Z"
    }
   },
   "outputs": [
    {
     "name": "stdout",
     "output_type": "stream",
     "text": [
      "163/163 [==============================] - 11s 66ms/step - loss: 0.1055 - accuracy: 0.9680\n",
      "Training Loss:0.1055\n",
      "Training Accuracy:0.968\n",
      "1/1 [==============================] - 0s 130ms/step - loss: 0.3069 - accuracy: 0.8125\n",
      "Val Loss:0.3069\n",
      "Val Accuracy:0.8125\n"
     ]
    }
   ],
   "source": [
    "dp20b = load_model('best_dropout_20b.h5')\n",
    "model_evaluation(dp20b)"
   ]
  },
  {
   "cell_type": "markdown",
   "metadata": {
    "heading_collapsed": true
   },
   "source": [
    "#### Dropout 50\n",
    "- Add (50%) dropout layer and earlystopping"
   ]
  },
  {
   "cell_type": "code",
   "execution_count": 21,
   "metadata": {
    "ExecuteTime": {
     "end_time": "2021-05-12T17:04:28.512839Z",
     "start_time": "2021-05-12T17:04:28.425070Z"
    },
    "hidden": true
   },
   "outputs": [],
   "source": [
    "dropout_50 = models.Sequential()\n",
    "dropout_50.add(layers.Conv2D(32, (3, 3), activation='relu', input_shape=(128,128,3)))\n",
    "dropout_50.add(layers.MaxPooling2D((2, 2)))\n",
    "dropout_50.add(layers.Dropout(0.5))\n",
    "\n",
    "dropout_50.add(layers.Conv2D(64, (3, 3), activation='relu'))\n",
    "dropout_50.add(layers.MaxPooling2D((2, 2)))\n",
    "dropout_50.add(layers.Dropout(0.5))\n",
    "\n",
    "dropout_50.add(layers.Conv2D(128, (3, 3), activation='relu'))\n",
    "dropout_50.add(layers.MaxPooling2D((2, 2)))\n",
    "dropout_50.add(layers.Dropout(0.5))\n",
    "\n",
    "dropout_50.add(layers.Flatten())\n",
    "dropout_50.add(layers.Dense(128, activation='relu'))\n",
    "dropout_50.add(layers.Dense(1, activation='sigmoid'))\n",
    "\n",
    "dropout_50.compile(optimizer='adam',\n",
    "                   loss='binary_crossentropy',\n",
    "                   metrics=['accuracy'])"
   ]
  },
  {
   "cell_type": "code",
   "execution_count": 22,
   "metadata": {
    "ExecuteTime": {
     "end_time": "2021-05-12T17:04:28.517221Z",
     "start_time": "2021-05-12T17:04:28.514671Z"
    },
    "hidden": true
   },
   "outputs": [],
   "source": [
    "es_dp_50 = [EarlyStopping(monitor='val_loss', mode='min', verbose=1, patience=6),\n",
    "            ModelCheckpoint(filepath='best_dropout_50.h5', monitor='val_accuracy', \n",
    "                            mode='max', verbose=1, save_best_only=True)]"
   ]
  },
  {
   "cell_type": "code",
   "execution_count": 23,
   "metadata": {
    "ExecuteTime": {
     "end_time": "2021-05-12T17:10:09.563098Z",
     "start_time": "2021-05-12T17:04:28.519449Z"
    },
    "hidden": true
   },
   "outputs": [
    {
     "name": "stdout",
     "output_type": "stream",
     "text": [
      "Epoch 1/50\n",
      "163/163 [==============================] - 49s 295ms/step - loss: 0.6889 - accuracy: 0.7211 - val_loss: 0.4302 - val_accuracy: 0.8077\n",
      "\n",
      "Epoch 00001: val_accuracy improved from -inf to 0.80769, saving model to best_dropout_50.h5\n",
      "Epoch 2/50\n",
      "163/163 [==============================] - 47s 290ms/step - loss: 0.2108 - accuracy: 0.9120 - val_loss: 0.6183 - val_accuracy: 0.7484\n",
      "\n",
      "Epoch 00002: val_accuracy did not improve from 0.80769\n",
      "Epoch 3/50\n",
      "163/163 [==============================] - 48s 292ms/step - loss: 0.1517 - accuracy: 0.9385 - val_loss: 0.5473 - val_accuracy: 0.7740\n",
      "\n",
      "Epoch 00003: val_accuracy did not improve from 0.80769\n",
      "Epoch 4/50\n",
      "163/163 [==============================] - 48s 297ms/step - loss: 0.1238 - accuracy: 0.9581 - val_loss: 0.7113 - val_accuracy: 0.7163\n",
      "\n",
      "Epoch 00004: val_accuracy did not improve from 0.80769\n",
      "Epoch 5/50\n",
      "163/163 [==============================] - 50s 306ms/step - loss: 0.1278 - accuracy: 0.9532 - val_loss: 0.5873 - val_accuracy: 0.7484\n",
      "\n",
      "Epoch 00005: val_accuracy did not improve from 0.80769\n",
      "Epoch 6/50\n",
      "163/163 [==============================] - 51s 310ms/step - loss: 0.1060 - accuracy: 0.9583 - val_loss: 0.6799 - val_accuracy: 0.7372\n",
      "\n",
      "Epoch 00006: val_accuracy did not improve from 0.80769\n",
      "Epoch 7/50\n",
      "163/163 [==============================] - 49s 298ms/step - loss: 0.1083 - accuracy: 0.9620 - val_loss: 0.4507 - val_accuracy: 0.8157\n",
      "\n",
      "Epoch 00007: val_accuracy improved from 0.80769 to 0.81571, saving model to best_dropout_50.h5\n",
      "Epoch 00007: early stopping\n"
     ]
    }
   ],
   "source": [
    "dropout_50_history = dropout_50.fit(X_train, y_train,\n",
    "                                epochs=50,\n",
    "                                batch_size=32,\n",
    "                                callbacks=es_dp_50,\n",
    "                                validation_data=(X_test, y_test))"
   ]
  },
  {
   "cell_type": "code",
   "execution_count": 24,
   "metadata": {
    "ExecuteTime": {
     "end_time": "2021-05-12T17:10:09.856232Z",
     "start_time": "2021-05-12T17:10:09.565072Z"
    },
    "hidden": true,
    "scrolled": true
   },
   "outputs": [
    {
     "data": {
      "image/png": "[encoded data removed]",
      "text/plain": [
       "<Figure size 432x288 with 2 Axes>"
      ]
     },
     "metadata": {
      "needs_background": "light"
     },
     "output_type": "display_data"
    }
   ],
   "source": [
    "visualize_training_results(dropout_50_history)"
   ]
  },
  {
   "cell_type": "code",
   "execution_count": 25,
   "metadata": {
    "ExecuteTime": {
     "end_time": "2021-05-12T17:10:21.647634Z",
     "start_time": "2021-05-12T17:10:09.857721Z"
    },
    "hidden": true
   },
   "outputs": [
    {
     "name": "stdout",
     "output_type": "stream",
     "text": [
      "163/163 [==============================] - 11s 70ms/step - loss: 0.1172 - accuracy: 0.9689\n",
      "Training Loss:0.1172\n",
      "Training Accuracy:0.9689\n",
      "1/1 [==============================] - 0s 131ms/step - loss: 0.2597 - accuracy: 1.0000\n",
      "Val Loss:0.2597\n",
      "Val Accuracy:1.0\n"
     ]
    }
   ],
   "source": [
    "dp50 = load_model('best_dropout_50.h5')\n",
    "model_evaluation(dp50)"
   ]
  },
  {
   "cell_type": "markdown",
   "metadata": {
    "heading_collapsed": true
   },
   "source": [
    "### L2 Regularizer"
   ]
  },
  {
   "cell_type": "code",
   "execution_count": 11,
   "metadata": {
    "ExecuteTime": {
     "end_time": "2021-05-12T20:38:25.772585Z",
     "start_time": "2021-05-12T20:38:25.669576Z"
    },
    "hidden": true
   },
   "outputs": [],
   "source": [
    "L2_reg = models.Sequential()\n",
    "L2_reg.add(layers.Conv2D(32, (3, 3), kernel_regularizer=regularizers.l2(0.005), activation='relu', input_shape=(128,128,3)))\n",
    "L2_reg.add(layers.MaxPooling2D((2, 2)))\n",
    "\n",
    "L2_reg.add(layers.Conv2D(64, (3, 3), kernel_regularizer=regularizers.l2(0.005), activation='relu'))\n",
    "L2_reg.add(layers.MaxPooling2D((2, 2)))\n",
    "\n",
    "L2_reg.add(layers.Conv2D(128, (3, 3), kernel_regularizer=regularizers.l2(0.005), activation='relu'))\n",
    "L2_reg.add(layers.MaxPooling2D((2, 2)))\n",
    "\n",
    "L2_reg.add(layers.Flatten())\n",
    "L2_reg.add(layers.Dense(128, activation='relu'))\n",
    "L2_reg.add(layers.Dense(1, activation='sigmoid'))\n",
    "\n",
    "L2_reg.compile(optimizer='adam',\n",
    "               loss='binary_crossentropy',\n",
    "               metrics=['accuracy'])"
   ]
  },
  {
   "cell_type": "code",
   "execution_count": 12,
   "metadata": {
    "ExecuteTime": {
     "end_time": "2021-05-12T20:38:25.776611Z",
     "start_time": "2021-05-12T20:38:25.774267Z"
    },
    "hidden": true
   },
   "outputs": [],
   "source": [
    "es_L2 = [EarlyStopping(monitor='val_loss', mode='min', verbose=1, patience=6),\n",
    "         ModelCheckpoint(filepath='best_L2.h5', \n",
    "                         monitor='val_accuracy', mode='max', verbose=1, save_best_only=True)]"
   ]
  },
  {
   "cell_type": "code",
   "execution_count": 13,
   "metadata": {
    "ExecuteTime": {
     "end_time": "2021-05-12T20:44:09.431306Z",
     "start_time": "2021-05-12T20:38:25.778693Z"
    },
    "hidden": true
   },
   "outputs": [
    {
     "name": "stdout",
     "output_type": "stream",
     "text": [
      "Epoch 1/50\n",
      "163/163 [==============================] - 43s 263ms/step - loss: 0.8190 - accuracy: 0.7902 - val_loss: 0.7795 - val_accuracy: 0.7724\n",
      "\n",
      "Epoch 00001: val_accuracy improved from -inf to 0.77244, saving model to best_L2.h5\n",
      "Epoch 2/50\n",
      "163/163 [==============================] - 43s 261ms/step - loss: 0.2205 - accuracy: 0.9598 - val_loss: 0.6571 - val_accuracy: 0.7837\n",
      "\n",
      "Epoch 00002: val_accuracy improved from 0.77244 to 0.78365, saving model to best_L2.h5\n",
      "Epoch 3/50\n",
      "163/163 [==============================] - 43s 262ms/step - loss: 0.1693 - accuracy: 0.9684 - val_loss: 0.8769 - val_accuracy: 0.7676\n",
      "\n",
      "Epoch 00003: val_accuracy did not improve from 0.78365\n",
      "Epoch 4/50\n",
      "163/163 [==============================] - 43s 264ms/step - loss: 0.1539 - accuracy: 0.9647 - val_loss: 0.7050 - val_accuracy: 0.7853\n",
      "\n",
      "Epoch 00004: val_accuracy improved from 0.78365 to 0.78526, saving model to best_L2.h5\n",
      "Epoch 5/50\n",
      "163/163 [==============================] - 43s 264ms/step - loss: 0.1283 - accuracy: 0.9707 - val_loss: 0.7354 - val_accuracy: 0.7804\n",
      "\n",
      "Epoch 00005: val_accuracy did not improve from 0.78526\n",
      "Epoch 6/50\n",
      "163/163 [==============================] - 44s 269ms/step - loss: 0.1100 - accuracy: 0.9740 - val_loss: 1.1941 - val_accuracy: 0.7196\n",
      "\n",
      "Epoch 00006: val_accuracy did not improve from 0.78526\n",
      "Epoch 7/50\n",
      "163/163 [==============================] - 42s 260ms/step - loss: 0.1176 - accuracy: 0.9726 - val_loss: 1.1238 - val_accuracy: 0.7580\n",
      "\n",
      "Epoch 00007: val_accuracy did not improve from 0.78526\n",
      "Epoch 8/50\n",
      "163/163 [==============================] - 42s 259ms/step - loss: 0.1011 - accuracy: 0.9767 - val_loss: 0.7664 - val_accuracy: 0.7933\n",
      "\n",
      "Epoch 00008: val_accuracy improved from 0.78526 to 0.79327, saving model to best_L2.h5\n",
      "Epoch 00008: early stopping\n"
     ]
    }
   ],
   "source": [
    "L2_reg_history = L2_reg.fit(X_train, y_train,\n",
    "                            epochs=50,\n",
    "                            batch_size=32,\n",
    "                            callbacks=es_L2,\n",
    "                            validation_data=(X_test, y_test))"
   ]
  },
  {
   "cell_type": "code",
   "execution_count": 14,
   "metadata": {
    "ExecuteTime": {
     "end_time": "2021-05-12T20:44:09.720862Z",
     "start_time": "2021-05-12T20:44:09.433473Z"
    },
    "hidden": true,
    "scrolled": true
   },
   "outputs": [
    {
     "data": {
      "image/png": "[encoded data removed]",
      "text/plain": [
       "<Figure size 432x288 with 2 Axes>"
      ]
     },
     "metadata": {
      "needs_background": "light"
     },
     "output_type": "display_data"
    }
   ],
   "source": [
    "visualize_training_results(L2_reg_history)"
   ]
  },
  {
   "cell_type": "code",
   "execution_count": 15,
   "metadata": {
    "ExecuteTime": {
     "end_time": "2021-05-12T20:44:21.319079Z",
     "start_time": "2021-05-12T20:44:09.722403Z"
    },
    "hidden": true,
    "scrolled": true
   },
   "outputs": [
    {
     "name": "stdout",
     "output_type": "stream",
     "text": [
      "163/163 [==============================] - 11s 68ms/step - loss: 0.0959 - accuracy: 0.9808\n",
      "Training Loss:0.0959\n",
      "Training Accuracy:0.9808\n",
      "1/1 [==============================] - 0s 145ms/step - loss: 0.3370 - accuracy: 0.8125\n",
      "Val Loss:0.337\n",
      "Val Accuracy:0.8125\n"
     ]
    }
   ],
   "source": [
    "L2 = load_model('best_L2.h5')\n",
    "model_evaluation(L2)"
   ]
  },
  {
   "cell_type": "markdown",
   "metadata": {
    "hidden": true
   },
   "source": [
    ">**Comment:** \n",
    "- The L2 model took less time to run compare with the baseline model\n",
    "- The train accuracy (0.9808) is higher than val accuracy (0.8126) which indicates the mode is overfit\n",
    "- Using a L2 regularizer can not effectively improve the model performance"
   ]
  },
  {
   "cell_type": "markdown",
   "metadata": {
    "hidden": true
   },
   "source": [
    "#### L2_01"
   ]
  },
  {
   "cell_type": "code",
   "execution_count": 16,
   "metadata": {
    "ExecuteTime": {
     "end_time": "2021-05-12T20:53:08.685774Z",
     "start_time": "2021-05-12T20:53:08.608792Z"
    },
    "hidden": true
   },
   "outputs": [],
   "source": [
    "L2_01 = models.Sequential()\n",
    "L2_01.add(layers.Conv2D(32, (3, 3), kernel_regularizer=regularizers.l2(0.01), activation='relu', input_shape=(128,128,3)))\n",
    "L2_01.add(layers.MaxPooling2D((2, 2)))\n",
    "\n",
    "L2_01.add(layers.Conv2D(64, (3, 3), kernel_regularizer=regularizers.l2(0.01), activation='relu'))\n",
    "L2_01.add(layers.MaxPooling2D((2, 2)))\n",
    "\n",
    "L2_01.add(layers.Conv2D(128, (3, 3), kernel_regularizer=regularizers.l2(0.01), activation='relu'))\n",
    "L2_01.add(layers.MaxPooling2D((2, 2)))\n",
    "\n",
    "L2_01.add(layers.Flatten())\n",
    "L2_01.add(layers.Dense(128, activation='relu'))\n",
    "L2_01.add(layers.Dense(1, activation='sigmoid'))\n",
    "\n",
    "L2_01.compile(optimizer='adam',\n",
    "                    loss='binary_crossentropy',\n",
    "                    metrics=['accuracy'])"
   ]
  },
  {
   "cell_type": "code",
   "execution_count": 17,
   "metadata": {
    "ExecuteTime": {
     "end_time": "2021-05-12T20:53:08.690089Z",
     "start_time": "2021-05-12T20:53:08.687588Z"
    },
    "hidden": true
   },
   "outputs": [],
   "source": [
    "es_L2_01 = [EarlyStopping(monitor='val_loss', mode='min', verbose=1, patience=6),\n",
    "                    ModelCheckpoint(filepath='best_L2_01.h5', \n",
    "                                    monitor='val_accuracy', mode='max', verbose=1, save_best_only=True)]"
   ]
  },
  {
   "cell_type": "code",
   "execution_count": 18,
   "metadata": {
    "ExecuteTime": {
     "end_time": "2021-05-12T21:01:13.745547Z",
     "start_time": "2021-05-12T20:53:08.692192Z"
    },
    "hidden": true
   },
   "outputs": [
    {
     "name": "stdout",
     "output_type": "stream",
     "text": [
      "Epoch 1/50\n",
      "163/163 [==============================] - 43s 261ms/step - loss: 1.1511 - accuracy: 0.7802 - val_loss: 0.8041 - val_accuracy: 0.7612\n",
      "\n",
      "Epoch 00001: val_accuracy improved from -inf to 0.76122, saving model to best_L2_01.h5\n",
      "Epoch 2/50\n",
      "163/163 [==============================] - 43s 266ms/step - loss: 0.2782 - accuracy: 0.9547 - val_loss: 0.6924 - val_accuracy: 0.7692\n",
      "\n",
      "Epoch 00002: val_accuracy improved from 0.76122 to 0.76923, saving model to best_L2_01.h5\n",
      "Epoch 3/50\n",
      "163/163 [==============================] - 43s 263ms/step - loss: 0.2047 - accuracy: 0.9644 - val_loss: 0.7289 - val_accuracy: 0.7885\n",
      "\n",
      "Epoch 00003: val_accuracy improved from 0.76923 to 0.78846, saving model to best_L2_01.h5\n",
      "Epoch 4/50\n",
      "163/163 [==============================] - 46s 280ms/step - loss: 0.1814 - accuracy: 0.9639 - val_loss: 0.7634 - val_accuracy: 0.7628\n",
      "\n",
      "Epoch 00004: val_accuracy did not improve from 0.78846\n",
      "Epoch 5/50\n",
      "163/163 [==============================] - 46s 284ms/step - loss: 0.1462 - accuracy: 0.9669 - val_loss: 0.6291 - val_accuracy: 0.7740\n",
      "\n",
      "Epoch 00005: val_accuracy did not improve from 0.78846\n",
      "Epoch 6/50\n",
      "163/163 [==============================] - 46s 284ms/step - loss: 0.1281 - accuracy: 0.9728 - val_loss: 0.9264 - val_accuracy: 0.7019\n",
      "\n",
      "Epoch 00006: val_accuracy did not improve from 0.78846\n",
      "Epoch 7/50\n",
      "163/163 [==============================] - 44s 272ms/step - loss: 0.1452 - accuracy: 0.9606 - val_loss: 1.0046 - val_accuracy: 0.7612\n",
      "\n",
      "Epoch 00007: val_accuracy did not improve from 0.78846\n",
      "Epoch 8/50\n",
      "163/163 [==============================] - 43s 264ms/step - loss: 0.1108 - accuracy: 0.9734 - val_loss: 0.8988 - val_accuracy: 0.7676\n",
      "\n",
      "Epoch 00008: val_accuracy did not improve from 0.78846\n",
      "Epoch 9/50\n",
      "163/163 [==============================] - 43s 265ms/step - loss: 0.1084 - accuracy: 0.9714 - val_loss: 1.0987 - val_accuracy: 0.7244\n",
      "\n",
      "Epoch 00009: val_accuracy did not improve from 0.78846\n",
      "Epoch 10/50\n",
      "163/163 [==============================] - 43s 267ms/step - loss: 0.1133 - accuracy: 0.9707 - val_loss: 1.1416 - val_accuracy: 0.7404\n",
      "\n",
      "Epoch 00010: val_accuracy did not improve from 0.78846\n",
      "Epoch 11/50\n",
      "163/163 [==============================] - 43s 266ms/step - loss: 0.1061 - accuracy: 0.9698 - val_loss: 0.9292 - val_accuracy: 0.7548\n",
      "\n",
      "Epoch 00011: val_accuracy did not improve from 0.78846\n",
      "Epoch 00011: early stopping\n"
     ]
    }
   ],
   "source": [
    "L2_01_history = L2_01.fit(X_train, y_train,\n",
    "                                epochs=50,\n",
    "                                batch_size=32,\n",
    "                                callbacks=es_L2_01,\n",
    "                                validation_data=(X_test, y_test))"
   ]
  },
  {
   "cell_type": "code",
   "execution_count": 19,
   "metadata": {
    "ExecuteTime": {
     "end_time": "2021-05-12T21:01:14.012693Z",
     "start_time": "2021-05-12T21:01:13.747217Z"
    },
    "hidden": true,
    "scrolled": true
   },
   "outputs": [
    {
     "data": {
      "image/png": "[encoded data removed]",
      "text/plain": [
       "<Figure size 432x288 with 2 Axes>"
      ]
     },
     "metadata": {
      "needs_background": "light"
     },
     "output_type": "display_data"
    }
   ],
   "source": [
    "visualize_training_results(L2_01_history)"
   ]
  },
  {
   "cell_type": "code",
   "execution_count": 20,
   "metadata": {
    "ExecuteTime": {
     "end_time": "2021-05-12T21:01:25.808550Z",
     "start_time": "2021-05-12T21:01:14.014232Z"
    },
    "hidden": true
   },
   "outputs": [
    {
     "name": "stdout",
     "output_type": "stream",
     "text": [
      "163/163 [==============================] - 11s 70ms/step - loss: 0.1782 - accuracy: 0.9615\n",
      "Training Loss:0.1782\n",
      "Training Accuracy:0.9615\n",
      "1/1 [==============================] - 0s 142ms/step - loss: 0.2084 - accuracy: 1.0000\n",
      "Val Loss:0.2084\n",
      "Val Accuracy:1.0\n"
     ]
    }
   ],
   "source": [
    "L201 = load_model('best_L2_01.h5')\n",
    "model_evaluation(L201)"
   ]
  },
  {
   "cell_type": "markdown",
   "metadata": {},
   "source": [
    "### L1 Regularizer"
   ]
  },
  {
   "cell_type": "code",
   "execution_count": 21,
   "metadata": {
    "ExecuteTime": {
     "end_time": "2021-05-12T21:03:34.028608Z",
     "start_time": "2021-05-12T21:03:33.950535Z"
    }
   },
   "outputs": [],
   "source": [
    "L1_reg = models.Sequential()\n",
    "L1_reg.add(layers.Conv2D(32, (3, 3), kernel_regularizer=regularizers.l1(0.005), activation='relu', input_shape=(128,128,3)))\n",
    "L1_reg.add(layers.MaxPooling2D((2, 2)))\n",
    "\n",
    "L1_reg.add(layers.Conv2D(64, (3, 3), kernel_regularizer=regularizers.l1(0.005), activation='relu'))\n",
    "L1_reg.add(layers.MaxPooling2D((2, 2)))\n",
    "\n",
    "L1_reg.add(layers.Conv2D(128, (3, 3), kernel_regularizer=regularizers.l1(0.005), activation='relu'))\n",
    "L1_reg.add(layers.MaxPooling2D((2, 2)))\n",
    "\n",
    "L1_reg.add(layers.Flatten())\n",
    "L1_reg.add(layers.Dense(128, activation='relu'))\n",
    "L1_reg.add(layers.Dense(1, activation='sigmoid'))\n",
    "\n",
    "L1_reg.compile(optimizer='adam',\n",
    "               loss='binary_crossentropy',\n",
    "               metrics=['accuracy'])"
   ]
  },
  {
   "cell_type": "code",
   "execution_count": 22,
   "metadata": {
    "ExecuteTime": {
     "end_time": "2021-05-12T21:03:34.033079Z",
     "start_time": "2021-05-12T21:03:34.030343Z"
    }
   },
   "outputs": [],
   "source": [
    "es_L1 = [EarlyStopping(monitor='val_loss', mode='min', verbose=1, patience=6),\n",
    "         ModelCheckpoint(filepath='best_L1.h5', monitor='val_accuracy', \n",
    "                         mode='max', verbose=1, save_best_only=True)]"
   ]
  },
  {
   "cell_type": "code",
   "execution_count": 23,
   "metadata": {
    "ExecuteTime": {
     "end_time": "2021-05-12T21:08:34.165697Z",
     "start_time": "2021-05-12T21:03:34.035393Z"
    }
   },
   "outputs": [
    {
     "name": "stdout",
     "output_type": "stream",
     "text": [
      "Epoch 1/50\n",
      "163/163 [==============================] - 43s 263ms/step - loss: 6.7566 - accuracy: 0.7530 - val_loss: 0.6154 - val_accuracy: 0.8317\n",
      "\n",
      "Epoch 00001: val_accuracy improved from -inf to 0.83173, saving model to best_L1.h5\n",
      "Epoch 2/50\n",
      "163/163 [==============================] - 42s 260ms/step - loss: 0.3986 - accuracy: 0.9262 - val_loss: 0.8050 - val_accuracy: 0.7500\n",
      "\n",
      "Epoch 00002: val_accuracy did not improve from 0.83173\n",
      "Epoch 3/50\n",
      "163/163 [==============================] - 43s 263ms/step - loss: 0.2983 - accuracy: 0.9464 - val_loss: 0.7473 - val_accuracy: 0.7740\n",
      "\n",
      "Epoch 00003: val_accuracy did not improve from 0.83173\n",
      "Epoch 4/50\n",
      "163/163 [==============================] - 43s 263ms/step - loss: 0.2671 - accuracy: 0.9529 - val_loss: 0.6348 - val_accuracy: 0.7965\n",
      "\n",
      "Epoch 00004: val_accuracy did not improve from 0.83173\n",
      "Epoch 5/50\n",
      "163/163 [==============================] - 43s 264ms/step - loss: 0.2381 - accuracy: 0.9552 - val_loss: 0.7924 - val_accuracy: 0.7532\n",
      "\n",
      "Epoch 00005: val_accuracy did not improve from 0.83173\n",
      "Epoch 6/50\n",
      "163/163 [==============================] - 43s 266ms/step - loss: 0.2158 - accuracy: 0.9663 - val_loss: 0.8458 - val_accuracy: 0.7404\n",
      "\n",
      "Epoch 00006: val_accuracy did not improve from 0.83173\n",
      "Epoch 7/50\n",
      "163/163 [==============================] - 42s 259ms/step - loss: 0.2192 - accuracy: 0.9603 - val_loss: 1.0048 - val_accuracy: 0.7420\n",
      "\n",
      "Epoch 00007: val_accuracy did not improve from 0.83173\n",
      "Epoch 00007: early stopping\n"
     ]
    }
   ],
   "source": [
    "L1_reg_history = L1_reg.fit(X_train, y_train,\n",
    "                            epochs=50,\n",
    "                            batch_size=32,\n",
    "                            callbacks=es_L1,\n",
    "                            validation_data=(X_test, y_test))"
   ]
  },
  {
   "cell_type": "code",
   "execution_count": 24,
   "metadata": {
    "ExecuteTime": {
     "end_time": "2021-05-12T21:08:34.508078Z",
     "start_time": "2021-05-12T21:08:34.168179Z"
    },
    "scrolled": true
   },
   "outputs": [
    {
     "data": {
      "image/png": "[encoded data removed]",
      "text/plain": [
       "<Figure size 432x288 with 2 Axes>"
      ]
     },
     "metadata": {
      "needs_background": "light"
     },
     "output_type": "display_data"
    }
   ],
   "source": [
    "visualize_training_results(L1_reg_history)"
   ]
  },
  {
   "cell_type": "code",
   "execution_count": 25,
   "metadata": {
    "ExecuteTime": {
     "end_time": "2021-05-12T21:08:46.582741Z",
     "start_time": "2021-05-12T21:08:34.510030Z"
    }
   },
   "outputs": [
    {
     "name": "stdout",
     "output_type": "stream",
     "text": [
      "163/163 [==============================] - 12s 71ms/step - loss: 0.4379 - accuracy: 0.9294\n",
      "Training Loss:0.4379\n",
      "Training Accuracy:0.9294\n",
      "1/1 [==============================] - 0s 137ms/step - loss: 0.7701 - accuracy: 0.8125\n",
      "Val Loss:0.7701\n",
      "Val Accuracy:0.8125\n"
     ]
    }
   ],
   "source": [
    "L1 = load_model('best_L1.h5')\n",
    "model_evaluation(L1)"
   ]
  },
  {
   "cell_type": "markdown",
   "metadata": {
    "heading_collapsed": true
   },
   "source": [
    "### Valid"
   ]
  },
  {
   "cell_type": "code",
   "execution_count": 97,
   "metadata": {
    "ExecuteTime": {
     "end_time": "2021-05-13T04:30:52.871774Z",
     "start_time": "2021-05-13T04:30:52.798603Z"
    },
    "hidden": true
   },
   "outputs": [],
   "source": [
    "valid = models.Sequential()\n",
    "valid.add(layers.Conv2D(32, (3, 3), padding='valid', activation='relu', input_shape=(128,128,3)))\n",
    "valid.add(layers.MaxPooling2D((2, 2)))\n",
    "\n",
    "valid.add(layers.Conv2D(64, (3, 3), padding='valid', activation='relu'))\n",
    "valid.add(layers.MaxPooling2D((2, 2)))\n",
    "\n",
    "valid.add(layers.Conv2D(128, (3, 3), padding='valid', activation='relu'))\n",
    "valid.add(layers.MaxPooling2D((2, 2)))\n",
    "\n",
    "valid.add(layers.Flatten())\n",
    "valid.add(layers.Dense(128, activation='relu'))\n",
    "valid.add(layers.Dense(1, activation='sigmoid'))\n",
    "\n",
    "valid.compile(optimizer='adam',\n",
    "                    loss='binary_crossentropy',\n",
    "                    metrics=['accuracy'])"
   ]
  },
  {
   "cell_type": "code",
   "execution_count": 98,
   "metadata": {
    "ExecuteTime": {
     "end_time": "2021-05-13T04:31:13.555855Z",
     "start_time": "2021-05-13T04:31:13.552841Z"
    },
    "hidden": true
   },
   "outputs": [],
   "source": [
    "es_valid = [EarlyStopping(monitor='val_loss', mode='min', verbose=1, patience=6),\n",
    "                 ModelCheckpoint(filepath='best_valid.h5', \n",
    "                                 monitor='val_accuracy', mode='max', verbose=1, save_best_only=True)]"
   ]
  },
  {
   "cell_type": "code",
   "execution_count": 99,
   "metadata": {
    "ExecuteTime": {
     "end_time": "2021-05-13T04:38:39.797123Z",
     "start_time": "2021-05-13T04:31:34.443724Z"
    },
    "hidden": true
   },
   "outputs": [
    {
     "name": "stdout",
     "output_type": "stream",
     "text": [
      "Epoch 1/50\n",
      "163/163 [==============================] - 44s 268ms/step - loss: 0.3881 - accuracy: 0.8227 - val_loss: 0.9831 - val_accuracy: 0.7532\n",
      "\n",
      "Epoch 00001: val_accuracy improved from -inf to 0.75321, saving model to best_valid.h5\n",
      "Epoch 2/50\n",
      "163/163 [==============================] - 42s 260ms/step - loss: 0.1141 - accuracy: 0.9606 - val_loss: 1.0409 - val_accuracy: 0.7612\n",
      "\n",
      "Epoch 00002: val_accuracy improved from 0.75321 to 0.76122, saving model to best_valid.h5\n",
      "Epoch 3/50\n",
      "163/163 [==============================] - 43s 261ms/step - loss: 0.0700 - accuracy: 0.9748 - val_loss: 1.5113 - val_accuracy: 0.7083\n",
      "\n",
      "Epoch 00003: val_accuracy did not improve from 0.76122\n",
      "Epoch 4/50\n",
      "163/163 [==============================] - 42s 260ms/step - loss: 0.0536 - accuracy: 0.9818 - val_loss: 0.8939 - val_accuracy: 0.8077\n",
      "\n",
      "Epoch 00004: val_accuracy improved from 0.76122 to 0.80769, saving model to best_valid.h5\n",
      "Epoch 5/50\n",
      "163/163 [==============================] - 42s 260ms/step - loss: 0.0498 - accuracy: 0.9815 - val_loss: 1.4722 - val_accuracy: 0.7324\n",
      "\n",
      "Epoch 00005: val_accuracy did not improve from 0.80769\n",
      "Epoch 6/50\n",
      "163/163 [==============================] - 42s 260ms/step - loss: 0.0464 - accuracy: 0.9828 - val_loss: 1.1866 - val_accuracy: 0.7821\n",
      "\n",
      "Epoch 00006: val_accuracy did not improve from 0.80769\n",
      "Epoch 7/50\n",
      "163/163 [==============================] - 42s 259ms/step - loss: 0.0315 - accuracy: 0.9896 - val_loss: 1.2198 - val_accuracy: 0.7772\n",
      "\n",
      "Epoch 00007: val_accuracy did not improve from 0.80769\n",
      "Epoch 8/50\n",
      "163/163 [==============================] - 42s 259ms/step - loss: 0.0218 - accuracy: 0.9917 - val_loss: 2.2268 - val_accuracy: 0.7131\n",
      "\n",
      "Epoch 00008: val_accuracy did not improve from 0.80769\n",
      "Epoch 9/50\n",
      "163/163 [==============================] - 42s 260ms/step - loss: 0.0268 - accuracy: 0.9886 - val_loss: 2.1031 - val_accuracy: 0.7115\n",
      "\n",
      "Epoch 00009: val_accuracy did not improve from 0.80769\n",
      "Epoch 10/50\n",
      "163/163 [==============================] - 42s 259ms/step - loss: 0.0153 - accuracy: 0.9942 - val_loss: 1.6450 - val_accuracy: 0.7772\n",
      "\n",
      "Epoch 00010: val_accuracy did not improve from 0.80769\n",
      "Epoch 00010: early stopping\n"
     ]
    }
   ],
   "source": [
    "valid_history = valid.fit(X_train, y_train,\n",
    "                                epochs=50,\n",
    "                                batch_size=32,\n",
    "                                callbacks=es_valid,\n",
    "                                validation_data=(X_test, y_test))"
   ]
  },
  {
   "cell_type": "code",
   "execution_count": 100,
   "metadata": {
    "ExecuteTime": {
     "end_time": "2021-05-13T04:39:33.421194Z",
     "start_time": "2021-05-13T04:39:33.063239Z"
    },
    "hidden": true
   },
   "outputs": [
    {
     "data": {
      "image/png": "[encoded data removed]",
      "text/plain": [
       "<Figure size 432x288 with 2 Axes>"
      ]
     },
     "metadata": {
      "needs_background": "light"
     },
     "output_type": "display_data"
    }
   ],
   "source": [
    "visualize_training_results(valid_history)"
   ]
  },
  {
   "cell_type": "code",
   "execution_count": 101,
   "metadata": {
    "ExecuteTime": {
     "end_time": "2021-05-13T04:39:48.674493Z",
     "start_time": "2021-05-13T04:39:37.673415Z"
    },
    "hidden": true
   },
   "outputs": [
    {
     "name": "stdout",
     "output_type": "stream",
     "text": [
      "163/163 [==============================] - 11s 65ms/step - loss: 0.0673 - accuracy: 0.9720\n",
      "Training Loss:0.06727\n",
      "Training Accuracy:0.972\n",
      "1/1 [==============================] - 0s 129ms/step - loss: 0.0677 - accuracy: 1.0000\n",
      "Val Loss:0.06771\n",
      "Val Accuracy:1.0\n"
     ]
    }
   ],
   "source": [
    "validd = load_model('best_valid.h5')\n",
    "model_evaluation(validd)"
   ]
  },
  {
   "cell_type": "markdown",
   "metadata": {},
   "source": [
    "### Padding"
   ]
  },
  {
   "cell_type": "code",
   "execution_count": 31,
   "metadata": {
    "ExecuteTime": {
     "end_time": "2021-05-13T02:02:01.392461Z",
     "start_time": "2021-05-13T02:02:01.306631Z"
    }
   },
   "outputs": [],
   "source": [
    "padding = models.Sequential()\n",
    "padding.add(layers.Conv2D(32, (3, 3), padding='same', activation='relu', input_shape=(128,128,3)))\n",
    "padding.add(layers.MaxPooling2D((2, 2)))\n",
    "\n",
    "padding.add(layers.Conv2D(64, (3, 3), padding='same', activation='relu'))\n",
    "padding.add(layers.MaxPooling2D((2, 2)))\n",
    "\n",
    "padding.add(layers.Conv2D(128, (3, 3), padding='same', activation='relu'))\n",
    "padding.add(layers.MaxPooling2D((2, 2)))\n",
    "\n",
    "padding.add(layers.Flatten())\n",
    "padding.add(layers.Dense(128, activation='relu'))\n",
    "padding.add(layers.Dense(1, activation='sigmoid'))\n",
    "\n",
    "padding.compile(optimizer='adam',\n",
    "                    loss='binary_crossentropy',\n",
    "                    metrics=['accuracy'])"
   ]
  },
  {
   "cell_type": "code",
   "execution_count": 32,
   "metadata": {
    "ExecuteTime": {
     "end_time": "2021-05-13T02:02:01.396796Z",
     "start_time": "2021-05-13T02:02:01.394291Z"
    }
   },
   "outputs": [],
   "source": [
    "es_padding = [EarlyStopping(monitor='val_loss', mode='min', verbose=1, patience=6),\n",
    "                 ModelCheckpoint(filepath='best_padding.h5', \n",
    "                                 monitor='val_accuracy', mode='max', verbose=1, save_best_only=True)]"
   ]
  },
  {
   "cell_type": "code",
   "execution_count": 33,
   "metadata": {
    "ExecuteTime": {
     "end_time": "2021-05-13T02:07:38.834522Z",
     "start_time": "2021-05-13T02:02:01.399354Z"
    }
   },
   "outputs": [
    {
     "name": "stdout",
     "output_type": "stream",
     "text": [
      "Epoch 1/50\n",
      "163/163 [==============================] - 49s 299ms/step - loss: 0.4414 - accuracy: 0.8206 - val_loss: 1.0212 - val_accuracy: 0.7404\n",
      "\n",
      "Epoch 00001: val_accuracy improved from -inf to 0.74038, saving model to best_padding.h5\n",
      "Epoch 2/50\n",
      "163/163 [==============================] - 46s 283ms/step - loss: 0.1033 - accuracy: 0.9642 - val_loss: 1.4050 - val_accuracy: 0.7276\n",
      "\n",
      "Epoch 00002: val_accuracy did not improve from 0.74038\n",
      "Epoch 3/50\n",
      "163/163 [==============================] - 47s 289ms/step - loss: 0.0756 - accuracy: 0.9733 - val_loss: 1.4857 - val_accuracy: 0.6955\n",
      "\n",
      "Epoch 00003: val_accuracy did not improve from 0.74038\n",
      "Epoch 4/50\n",
      "163/163 [==============================] - 50s 306ms/step - loss: 0.0620 - accuracy: 0.9753 - val_loss: 1.0816 - val_accuracy: 0.7660\n",
      "\n",
      "Epoch 00004: val_accuracy improved from 0.74038 to 0.76603, saving model to best_padding.h5\n",
      "Epoch 5/50\n",
      "163/163 [==============================] - 48s 296ms/step - loss: 0.0401 - accuracy: 0.9863 - val_loss: 1.4899 - val_accuracy: 0.7179\n",
      "\n",
      "Epoch 00005: val_accuracy did not improve from 0.76603\n",
      "Epoch 6/50\n",
      "163/163 [==============================] - 49s 299ms/step - loss: 0.0371 - accuracy: 0.9867 - val_loss: 1.4078 - val_accuracy: 0.7644\n",
      "\n",
      "Epoch 00006: val_accuracy did not improve from 0.76603\n",
      "Epoch 7/50\n",
      "163/163 [==============================] - 48s 293ms/step - loss: 0.0258 - accuracy: 0.9903 - val_loss: 1.8777 - val_accuracy: 0.7324\n",
      "\n",
      "Epoch 00007: val_accuracy did not improve from 0.76603\n",
      "Epoch 00007: early stopping\n"
     ]
    }
   ],
   "source": [
    "padding_history = padding.fit(X_train, y_train,\n",
    "                                epochs=50,\n",
    "                                batch_size=32,\n",
    "                                callbacks=es_padding,\n",
    "                                validation_data=(X_test, y_test))"
   ]
  },
  {
   "cell_type": "code",
   "execution_count": 34,
   "metadata": {
    "ExecuteTime": {
     "end_time": "2021-05-13T02:07:39.112940Z",
     "start_time": "2021-05-13T02:07:38.836547Z"
    },
    "scrolled": false
   },
   "outputs": [
    {
     "data": {
      "image/png": "[encoded data removed]",
      "text/plain": [
       "<Figure size 432x288 with 2 Axes>"
      ]
     },
     "metadata": {
      "needs_background": "light"
     },
     "output_type": "display_data"
    }
   ],
   "source": [
    "visualize_training_results(padding_history)"
   ]
  },
  {
   "cell_type": "code",
   "execution_count": 35,
   "metadata": {
    "ExecuteTime": {
     "end_time": "2021-05-13T02:07:50.815039Z",
     "start_time": "2021-05-13T02:07:39.115531Z"
    }
   },
   "outputs": [
    {
     "name": "stdout",
     "output_type": "stream",
     "text": [
      "163/163 [==============================] - 11s 68ms/step - loss: 0.0355 - accuracy: 0.9868\n",
      "Training Loss:0.03547\n",
      "Training Accuracy:0.9868\n",
      "1/1 [==============================] - 0s 138ms/step - loss: 0.2367 - accuracy: 0.9375\n",
      "Val Loss:0.2367\n",
      "Val Accuracy:0.9375\n"
     ]
    }
   ],
   "source": [
    "pad = load_model('best_padding.h5')\n",
    "model_evaluation(pad)"
   ]
  },
  {
   "cell_type": "markdown",
   "metadata": {},
   "source": [
    "#### best_padding prediction TRY"
   ]
  },
  {
   "cell_type": "code",
   "execution_count": 87,
   "metadata": {
    "ExecuteTime": {
     "end_time": "2021-05-13T04:26:41.357455Z",
     "start_time": "2021-05-13T04:26:41.281772Z"
    }
   },
   "outputs": [
    {
     "data": {
      "text/plain": [
       "array([[0.9871],\n",
       "       [0.9939],\n",
       "       [0.1664],\n",
       "       [0.0005],\n",
       "       [0.    ],\n",
       "       [0.053 ],\n",
       "       [0.5939],\n",
       "       [0.    ],\n",
       "       [0.8715],\n",
       "       [0.9982],\n",
       "       [0.9687],\n",
       "       [0.    ],\n",
       "       [0.0682],\n",
       "       [0.8899],\n",
       "       [0.0009],\n",
       "       [0.0346]], dtype=float32)"
      ]
     },
     "execution_count": 87,
     "metadata": {},
     "output_type": "execute_result"
    }
   ],
   "source": [
    "pad.predict(X_val)"
   ]
  },
  {
   "cell_type": "code",
   "execution_count": 94,
   "metadata": {
    "ExecuteTime": {
     "end_time": "2021-05-13T04:27:48.424065Z",
     "start_time": "2021-05-13T04:27:48.349639Z"
    }
   },
   "outputs": [
    {
     "data": {
      "text/plain": [
       "array([0.9871, 0.9939, 0.1664, 0.0005, 0.    , 0.053 , 0.5939, 0.    ,\n",
       "       0.8715, 0.9982, 0.9687, 0.    , 0.0682, 0.8899, 0.0009, 0.0346],\n",
       "      dtype=float32)"
      ]
     },
     "execution_count": 94,
     "metadata": {},
     "output_type": "execute_result"
    }
   ],
   "source": [
    "# predict_proba was deprecated\n",
    "prob = pad.predict(X_val).flatten()\n",
    "prob"
   ]
  },
  {
   "cell_type": "code",
   "execution_count": 89,
   "metadata": {
    "ExecuteTime": {
     "end_time": "2021-05-13T04:27:13.430157Z",
     "start_time": "2021-05-13T04:27:13.351870Z"
    }
   },
   "outputs": [
    {
     "data": {
      "text/plain": [
       "array([1, 1, 0, 0, 0, 0, 1, 0, 1, 1, 1, 0, 0, 1, 0, 0], dtype=int32)"
      ]
     },
     "execution_count": 89,
     "metadata": {},
     "output_type": "execute_result"
    }
   ],
   "source": [
    "# pad.predict_classes(X_val) was deprecated\n",
    "pred_val = ((pad.predict(X_val) > 0.5).astype(\"int32\")).flatten()\n",
    "pred_val"
   ]
  },
  {
   "cell_type": "code",
   "execution_count": 90,
   "metadata": {
    "ExecuteTime": {
     "end_time": "2021-05-13T04:27:15.080646Z",
     "start_time": "2021-05-13T04:27:15.077033Z"
    }
   },
   "outputs": [
    {
     "data": {
      "text/plain": [
       "array([1, 1, 0, 0, 0, 0, 1, 0, 1, 1, 1, 0, 1, 1, 0, 0], dtype=int32)"
      ]
     },
     "execution_count": 90,
     "metadata": {},
     "output_type": "execute_result"
    }
   ],
   "source": [
    "act_val = y_val.astype(\"int32\").flatten()\n",
    "act_val"
   ]
  },
  {
   "cell_type": "code",
   "execution_count": 95,
   "metadata": {
    "ExecuteTime": {
     "end_time": "2021-05-13T04:27:53.583293Z",
     "start_time": "2021-05-13T04:27:53.578661Z"
    }
   },
   "outputs": [],
   "source": [
    "padding_actual_pred = pd.concat([pd.Series(act_val, name=\"Actual\"),\n",
    "                                 pd.Series(pred_val, name=\"Predicted\"),\n",
    "                                 pd.Series(prob, name=\"Probabilities\")], axis=1)"
   ]
  },
  {
   "cell_type": "code",
   "execution_count": 96,
   "metadata": {
    "ExecuteTime": {
     "end_time": "2021-05-13T04:27:56.584066Z",
     "start_time": "2021-05-13T04:27:56.576123Z"
    }
   },
   "outputs": [
    {
     "data": {
      "text/html": [
       "<div>\n",
       "<style scoped>\n",
       "    .dataframe tbody tr th:only-of-type {\n",
       "        vertical-align: middle;\n",
       "    }\n",
       "\n",
       "    .dataframe tbody tr th {\n",
       "        vertical-align: top;\n",
       "    }\n",
       "\n",
       "    .dataframe thead th {\n",
       "        text-align: right;\n",
       "    }\n",
       "</style>\n",
       "<table border=\"1\" class=\"dataframe\">\n",
       "  <thead>\n",
       "    <tr style=\"text-align: right;\">\n",
       "      <th></th>\n",
       "      <th>Actual</th>\n",
       "      <th>Predicted</th>\n",
       "      <th>Probabilities</th>\n",
       "    </tr>\n",
       "  </thead>\n",
       "  <tbody>\n",
       "    <tr>\n",
       "      <th>0</th>\n",
       "      <td>1</td>\n",
       "      <td>1</td>\n",
       "      <td>9.871247e-01</td>\n",
       "    </tr>\n",
       "    <tr>\n",
       "      <th>1</th>\n",
       "      <td>1</td>\n",
       "      <td>1</td>\n",
       "      <td>9.939204e-01</td>\n",
       "    </tr>\n",
       "    <tr>\n",
       "      <th>2</th>\n",
       "      <td>0</td>\n",
       "      <td>0</td>\n",
       "      <td>1.663717e-01</td>\n",
       "    </tr>\n",
       "    <tr>\n",
       "      <th>3</th>\n",
       "      <td>0</td>\n",
       "      <td>0</td>\n",
       "      <td>4.838109e-04</td>\n",
       "    </tr>\n",
       "    <tr>\n",
       "      <th>4</th>\n",
       "      <td>0</td>\n",
       "      <td>0</td>\n",
       "      <td>2.925011e-06</td>\n",
       "    </tr>\n",
       "    <tr>\n",
       "      <th>5</th>\n",
       "      <td>0</td>\n",
       "      <td>0</td>\n",
       "      <td>5.295247e-02</td>\n",
       "    </tr>\n",
       "    <tr>\n",
       "      <th>6</th>\n",
       "      <td>1</td>\n",
       "      <td>1</td>\n",
       "      <td>5.939111e-01</td>\n",
       "    </tr>\n",
       "    <tr>\n",
       "      <th>7</th>\n",
       "      <td>0</td>\n",
       "      <td>0</td>\n",
       "      <td>2.594457e-05</td>\n",
       "    </tr>\n",
       "    <tr>\n",
       "      <th>8</th>\n",
       "      <td>1</td>\n",
       "      <td>1</td>\n",
       "      <td>8.714564e-01</td>\n",
       "    </tr>\n",
       "    <tr>\n",
       "      <th>9</th>\n",
       "      <td>1</td>\n",
       "      <td>1</td>\n",
       "      <td>9.981869e-01</td>\n",
       "    </tr>\n",
       "    <tr>\n",
       "      <th>10</th>\n",
       "      <td>1</td>\n",
       "      <td>1</td>\n",
       "      <td>9.687313e-01</td>\n",
       "    </tr>\n",
       "    <tr>\n",
       "      <th>11</th>\n",
       "      <td>0</td>\n",
       "      <td>0</td>\n",
       "      <td>5.980358e-08</td>\n",
       "    </tr>\n",
       "    <tr>\n",
       "      <th>12</th>\n",
       "      <td>1</td>\n",
       "      <td>0</td>\n",
       "      <td>6.816882e-02</td>\n",
       "    </tr>\n",
       "    <tr>\n",
       "      <th>13</th>\n",
       "      <td>1</td>\n",
       "      <td>1</td>\n",
       "      <td>8.898715e-01</td>\n",
       "    </tr>\n",
       "    <tr>\n",
       "      <th>14</th>\n",
       "      <td>0</td>\n",
       "      <td>0</td>\n",
       "      <td>8.804798e-04</td>\n",
       "    </tr>\n",
       "    <tr>\n",
       "      <th>15</th>\n",
       "      <td>0</td>\n",
       "      <td>0</td>\n",
       "      <td>3.464112e-02</td>\n",
       "    </tr>\n",
       "  </tbody>\n",
       "</table>\n",
       "</div>"
      ],
      "text/plain": [
       "    Actual  Predicted  Probabilities\n",
       "0        1          1   9.871247e-01\n",
       "1        1          1   9.939204e-01\n",
       "2        0          0   1.663717e-01\n",
       "3        0          0   4.838109e-04\n",
       "4        0          0   2.925011e-06\n",
       "5        0          0   5.295247e-02\n",
       "6        1          1   5.939111e-01\n",
       "7        0          0   2.594457e-05\n",
       "8        1          1   8.714564e-01\n",
       "9        1          1   9.981869e-01\n",
       "10       1          1   9.687313e-01\n",
       "11       0          0   5.980358e-08\n",
       "12       1          0   6.816882e-02\n",
       "13       1          1   8.898715e-01\n",
       "14       0          0   8.804798e-04\n",
       "15       0          0   3.464112e-02"
      ]
     },
     "execution_count": 96,
     "metadata": {},
     "output_type": "execute_result"
    }
   ],
   "source": [
    "padding_actual_pred"
   ]
  },
  {
   "cell_type": "markdown",
   "metadata": {
    "heading_collapsed": true
   },
   "source": [
    "## he_init"
   ]
  },
  {
   "cell_type": "code",
   "execution_count": 59,
   "metadata": {
    "ExecuteTime": {
     "end_time": "2021-05-13T04:00:59.616590Z",
     "start_time": "2021-05-13T04:00:59.541240Z"
    },
    "hidden": true
   },
   "outputs": [],
   "source": [
    "he_init = models.Sequential()\n",
    "he_init.add(layers.Conv2D(32, (3, 3), kernel_initializer='he_normal', activation='relu', input_shape=(128,128,3)))\n",
    "he_init.add(layers.MaxPooling2D((2, 2)))\n",
    "\n",
    "he_init.add(layers.Conv2D(64, (3, 3), kernel_initializer='he_normal', activation='relu'))\n",
    "he_init.add(layers.MaxPooling2D((2, 2)))\n",
    "\n",
    "he_init.add(layers.Conv2D(128, (3, 3), kernel_initializer='he_normal', activation='relu'))\n",
    "he_init.add(layers.MaxPooling2D((2, 2)))\n",
    "\n",
    "he_init.add(layers.Flatten())\n",
    "he_init.add(layers.Dense(128, activation='relu'))\n",
    "he_init.add(layers.Dense(1, activation='sigmoid'))\n",
    "\n",
    "he_init.compile(optimizer='adam',\n",
    "                    loss='binary_crossentropy',\n",
    "                    metrics=['accuracy'])"
   ]
  },
  {
   "cell_type": "code",
   "execution_count": 60,
   "metadata": {
    "ExecuteTime": {
     "end_time": "2021-05-13T04:00:59.621148Z",
     "start_time": "2021-05-13T04:00:59.618591Z"
    },
    "hidden": true
   },
   "outputs": [],
   "source": [
    "es_he = [EarlyStopping(monitor='val_loss', mode='min', verbose=1, patience=6),\n",
    "                    ModelCheckpoint(filepath='best_he.h5', monitor='val_accuracy', \n",
    "                                    mode='max', verbose=1, save_best_only=True)]"
   ]
  },
  {
   "cell_type": "code",
   "execution_count": 61,
   "metadata": {
    "ExecuteTime": {
     "end_time": "2021-05-13T04:06:29.075300Z",
     "start_time": "2021-05-13T04:00:59.623420Z"
    },
    "hidden": true
   },
   "outputs": [
    {
     "name": "stdout",
     "output_type": "stream",
     "text": [
      "Epoch 1/50\n",
      "163/163 [==============================] - 45s 276ms/step - loss: 0.4984 - accuracy: 0.8660 - val_loss: 1.2603 - val_accuracy: 0.7308\n",
      "\n",
      "Epoch 00001: val_accuracy improved from -inf to 0.73077, saving model to best_he.h5\n",
      "Epoch 2/50\n",
      "163/163 [==============================] - 40s 245ms/step - loss: 0.0955 - accuracy: 0.9656 - val_loss: 0.8698 - val_accuracy: 0.7804\n",
      "\n",
      "Epoch 00002: val_accuracy improved from 0.73077 to 0.78045, saving model to best_he.h5\n",
      "Epoch 3/50\n",
      "163/163 [==============================] - 40s 248ms/step - loss: 0.0581 - accuracy: 0.9780 - val_loss: 1.4375 - val_accuracy: 0.7244\n",
      "\n",
      "Epoch 00003: val_accuracy did not improve from 0.78045\n",
      "Epoch 4/50\n",
      "163/163 [==============================] - 41s 251ms/step - loss: 0.0433 - accuracy: 0.9833 - val_loss: 1.2736 - val_accuracy: 0.7740\n",
      "\n",
      "Epoch 00004: val_accuracy did not improve from 0.78045\n",
      "Epoch 5/50\n",
      "163/163 [==============================] - 41s 250ms/step - loss: 0.0388 - accuracy: 0.9862 - val_loss: 1.4030 - val_accuracy: 0.7276\n",
      "\n",
      "Epoch 00005: val_accuracy did not improve from 0.78045\n",
      "Epoch 6/50\n",
      "163/163 [==============================] - 41s 249ms/step - loss: 0.0377 - accuracy: 0.9851 - val_loss: 1.2585 - val_accuracy: 0.7708\n",
      "\n",
      "Epoch 00006: val_accuracy did not improve from 0.78045\n",
      "Epoch 7/50\n",
      "163/163 [==============================] - 41s 249ms/step - loss: 0.0197 - accuracy: 0.9918 - val_loss: 1.6871 - val_accuracy: 0.7372\n",
      "\n",
      "Epoch 00007: val_accuracy did not improve from 0.78045\n",
      "Epoch 8/50\n",
      "163/163 [==============================] - 41s 249ms/step - loss: 0.0148 - accuracy: 0.9956 - val_loss: 2.1613 - val_accuracy: 0.7308\n",
      "\n",
      "Epoch 00008: val_accuracy did not improve from 0.78045\n",
      "Epoch 00008: early stopping\n"
     ]
    }
   ],
   "source": [
    "he_init_history = he_init.fit(X_train, y_train,\n",
    "                                epochs=50,\n",
    "                                batch_size=32,\n",
    "                                callbacks=es_he,\n",
    "                                validation_data=(X_test, y_test))"
   ]
  },
  {
   "cell_type": "code",
   "execution_count": 62,
   "metadata": {
    "ExecuteTime": {
     "end_time": "2021-05-13T04:06:29.347494Z",
     "start_time": "2021-05-13T04:06:29.077074Z"
    },
    "hidden": true,
    "scrolled": true
   },
   "outputs": [
    {
     "data": {
      "image/png": "[encoded data removed]",
      "text/plain": [
       "<Figure size 432x288 with 2 Axes>"
      ]
     },
     "metadata": {
      "needs_background": "light"
     },
     "output_type": "display_data"
    }
   ],
   "source": [
    "visualize_training_results(he_init_history)"
   ]
  },
  {
   "cell_type": "code",
   "execution_count": 63,
   "metadata": {
    "ExecuteTime": {
     "end_time": "2021-05-13T04:06:39.980326Z",
     "start_time": "2021-05-13T04:06:29.349360Z"
    },
    "hidden": true
   },
   "outputs": [
    {
     "name": "stdout",
     "output_type": "stream",
     "text": [
      "163/163 [==============================] - 10s 63ms/step - loss: 0.0581 - accuracy: 0.9781\n",
      "Training Loss:0.05812\n",
      "Training Accuracy:0.9781\n",
      "1/1 [==============================] - 0s 135ms/step - loss: 0.3599 - accuracy: 0.8125\n",
      "Val Loss:0.3599\n",
      "Val Accuracy:0.8125\n"
     ]
    }
   ],
   "source": [
    "he = load_model('best_he.h5')\n",
    "model_evaluation(he)"
   ]
  },
  {
   "cell_type": "markdown",
   "metadata": {
    "heading_collapsed": true
   },
   "source": [
    "## Lecun_init"
   ]
  },
  {
   "cell_type": "code",
   "execution_count": 68,
   "metadata": {
    "ExecuteTime": {
     "end_time": "2021-05-12T02:02:07.040276Z",
     "start_time": "2021-05-12T02:02:06.962025Z"
    },
    "hidden": true
   },
   "outputs": [],
   "source": [
    "lecun_init = models.Sequential()\n",
    "lecun_init.add(layers.Conv2D(32, (3, 3), kernel_initializer='lecun_normal', activation='relu', input_shape=(128,128,3)))\n",
    "lecun_init.add(layers.MaxPooling2D((2, 2)))\n",
    "\n",
    "lecun_init.add(layers.Conv2D(64, (3, 3), kernel_initializer='lecun_normal', activation='relu'))\n",
    "lecun_init.add(layers.MaxPooling2D((2, 2)))\n",
    "\n",
    "lecun_init.add(layers.Conv2D(128, (3, 3), kernel_initializer='lecun_normal', activation='relu'))\n",
    "lecun_init.add(layers.MaxPooling2D((2, 2)))\n",
    "\n",
    "lecun_init.add(layers.Flatten())\n",
    "lecun_init.add(layers.Dense(128, activation='relu'))\n",
    "lecun_init.add(layers.Dense(1, activation='sigmoid'))\n",
    "\n",
    "lecun_init.compile(optimizer='adam',\n",
    "                    loss='binary_crossentropy',\n",
    "                    metrics=['accuracy'])"
   ]
  },
  {
   "cell_type": "code",
   "execution_count": 69,
   "metadata": {
    "ExecuteTime": {
     "end_time": "2021-05-12T02:02:24.383543Z",
     "start_time": "2021-05-12T02:02:24.380552Z"
    },
    "hidden": true
   },
   "outputs": [],
   "source": [
    "es_lecun = [EarlyStopping(monitor='val_loss', mode='min', verbose=1, patience=6),\n",
    "                    ModelCheckpoint(filepath='best_lecun.h5', monitor='val_accuracy', \n",
    "                                    mode='max', verbose=1, save_best_only=True)]"
   ]
  },
  {
   "cell_type": "code",
   "execution_count": 70,
   "metadata": {
    "ExecuteTime": {
     "end_time": "2021-05-12T02:07:48.381115Z",
     "start_time": "2021-05-12T02:02:47.658911Z"
    },
    "hidden": true
   },
   "outputs": [
    {
     "name": "stdout",
     "output_type": "stream",
     "text": [
      "Epoch 1/50\n",
      "163/163 [==============================] - 45s 273ms/step - loss: 0.5458 - accuracy: 0.8256 - val_loss: 0.5165 - val_accuracy: 0.7965\n",
      "\n",
      "Epoch 00001: val_accuracy improved from -inf to 0.79647, saving model to best_lecun.h5\n",
      "Epoch 2/50\n",
      "163/163 [==============================] - 46s 280ms/step - loss: 0.1056 - accuracy: 0.9610 - val_loss: 0.6939 - val_accuracy: 0.7917\n",
      "\n",
      "Epoch 00002: val_accuracy did not improve from 0.79647\n",
      "Epoch 3/50\n",
      "163/163 [==============================] - 42s 257ms/step - loss: 0.0740 - accuracy: 0.9693 - val_loss: 1.2661 - val_accuracy: 0.7676\n",
      "\n",
      "Epoch 00003: val_accuracy did not improve from 0.79647\n",
      "Epoch 4/50\n",
      "163/163 [==============================] - 42s 255ms/step - loss: 0.0688 - accuracy: 0.9727 - val_loss: 0.9297 - val_accuracy: 0.7276\n",
      "\n",
      "Epoch 00004: val_accuracy did not improve from 0.79647\n",
      "Epoch 5/50\n",
      "163/163 [==============================] - 42s 256ms/step - loss: 0.0737 - accuracy: 0.9747 - val_loss: 0.8173 - val_accuracy: 0.8077\n",
      "\n",
      "Epoch 00005: val_accuracy improved from 0.79647 to 0.80769, saving model to best_lecun.h5\n",
      "Epoch 6/50\n",
      "163/163 [==============================] - 42s 260ms/step - loss: 0.0384 - accuracy: 0.9835 - val_loss: 1.3229 - val_accuracy: 0.7308\n",
      "\n",
      "Epoch 00006: val_accuracy did not improve from 0.80769\n",
      "Epoch 7/50\n",
      "163/163 [==============================] - 42s 260ms/step - loss: 0.0361 - accuracy: 0.9870 - val_loss: 1.5214 - val_accuracy: 0.7388\n",
      "\n",
      "Epoch 00007: val_accuracy did not improve from 0.80769\n",
      "Epoch 00007: early stopping\n"
     ]
    }
   ],
   "source": [
    "lecun_init_history = lecun_init.fit(X_train, y_train,\n",
    "                                epochs=50,\n",
    "                                batch_size=32,\n",
    "                                callbacks=es_lecun,\n",
    "                                validation_data=(X_test, y_test))"
   ]
  },
  {
   "cell_type": "code",
   "execution_count": 71,
   "metadata": {
    "ExecuteTime": {
     "end_time": "2021-05-12T02:08:00.748423Z",
     "start_time": "2021-05-12T02:08:00.485055Z"
    },
    "hidden": true,
    "scrolled": true
   },
   "outputs": [
    {
     "data": {
      "image/png": "[encoded data removed]",
      "text/plain": [
       "<Figure size 432x288 with 2 Axes>"
      ]
     },
     "metadata": {
      "needs_background": "light"
     },
     "output_type": "display_data"
    }
   ],
   "source": [
    "visualize_training_results(lecun_init_history)"
   ]
  },
  {
   "cell_type": "code",
   "execution_count": 72,
   "metadata": {
    "ExecuteTime": {
     "end_time": "2021-05-12T02:08:15.883544Z",
     "start_time": "2021-05-12T02:08:04.850415Z"
    },
    "hidden": true
   },
   "outputs": [
    {
     "name": "stdout",
     "output_type": "stream",
     "text": [
      "163/163 [==============================] - 11s 65ms/step - loss: 0.0518 - accuracy: 0.9812\n",
      "[0.05178162455558777, 0.9812116622924805]\n",
      "1/1 [==============================] - 0s 129ms/step - loss: 0.1005 - accuracy: 0.9375\n",
      "[0.10053324699401855, 0.9375]\n"
     ]
    }
   ],
   "source": [
    "lecun = load_model('best_lecun.h5')\n",
    "model_evaluation(lecun)"
   ]
  }
 ],
 "metadata": {
  "kernelspec": {
   "display_name": "Python 3",
   "language": "python",
   "name": "python3"
  },
  "language_info": {
   "codemirror_mode": {
    "name": "ipython",
    "version": 3
   },
   "file_extension": ".py",
   "mimetype": "text/x-python",
   "name": "python",
   "nbconvert_exporter": "python",
   "pygments_lexer": "ipython3",
   "version": "3.6.9"
  },
  "toc": {
   "base_numbering": 1,
   "nav_menu": {},
   "number_sections": false,
   "sideBar": true,
   "skip_h1_title": false,
   "title_cell": "Table of Contents",
   "title_sidebar": "Contents",
   "toc_cell": false,
   "toc_position": {
    "height": "calc(100% - 180px)",
    "left": "10px",
    "top": "150px",
    "width": "325.81px"
   },
   "toc_section_display": true,
   "toc_window_display": true
  }
 },
 "nbformat": 4,
 "nbformat_minor": 4
}
