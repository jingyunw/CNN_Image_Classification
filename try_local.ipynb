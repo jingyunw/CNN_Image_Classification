{
 "cells": [
  {
   "cell_type": "markdown",
   "metadata": {},
   "source": [
    "# Detecting Pneumonia by Using CNNs"
   ]
  },
  {
   "cell_type": "code",
   "execution_count": 1,
   "metadata": {
    "ExecuteTime": {
     "end_time": "2021-05-12T15:55:11.744386Z",
     "start_time": "2021-05-12T15:55:11.408150Z"
    }
   },
   "outputs": [],
   "source": [
    "import os\n",
    "import numpy as np\n",
    "import matplotlib.pyplot as plt\n",
    "% matplotlib inline"
   ]
  },
  {
   "cell_type": "code",
   "execution_count": 2,
   "metadata": {
    "ExecuteTime": {
     "end_time": "2021-05-12T15:55:14.330428Z",
     "start_time": "2021-05-12T15:55:11.746202Z"
    }
   },
   "outputs": [],
   "source": [
    "from tensorflow import random\n",
    "from tensorflow.keras.preprocessing.image import ImageDataGenerator, array_to_img, img_to_array, load_img\n",
    "\n",
    "from tensorflow.keras import models\n",
    "from tensorflow.keras import layers\n",
    "\n",
    "from tensorflow.keras import regularizers\n",
    "\n",
    "from tensorflow.keras.models import load_model\n",
    "\n",
    "from tensorflow.keras.callbacks import EarlyStopping, ModelCheckpoint"
   ]
  },
  {
   "cell_type": "code",
   "execution_count": 3,
   "metadata": {
    "ExecuteTime": {
     "end_time": "2021-05-12T15:55:14.335241Z",
     "start_time": "2021-05-12T15:55:14.333078Z"
    }
   },
   "outputs": [],
   "source": [
    "random.set_seed(24)"
   ]
  },
  {
   "cell_type": "code",
   "execution_count": 4,
   "metadata": {
    "ExecuteTime": {
     "end_time": "2021-05-12T15:55:14.339318Z",
     "start_time": "2021-05-12T15:55:14.337000Z"
    }
   },
   "outputs": [],
   "source": [
    "# File directory\n",
    "train_dir = 'chest_xray/train'\n",
    "test_dir = 'chest_xray/test'\n",
    "val_dir = 'chest_xray/val'"
   ]
  },
  {
   "cell_type": "code",
   "execution_count": 5,
   "metadata": {
    "ExecuteTime": {
     "end_time": "2021-05-12T15:55:14.880694Z",
     "start_time": "2021-05-12T15:55:14.340841Z"
    }
   },
   "outputs": [
    {
     "name": "stdout",
     "output_type": "stream",
     "text": [
      "Found 5216 images belonging to 2 classes.\n",
      "Found 624 images belonging to 2 classes.\n",
      "Found 16 images belonging to 2 classes.\n"
     ]
    }
   ],
   "source": [
    "# Get all the train data (5216) in the directory, scale, and reshape\n",
    "train_generator = ImageDataGenerator(rescale=1./255)\\\n",
    "                  .flow_from_directory(train_dir, target_size=(128,128), batch_size=5216)\n",
    "\n",
    "# Get all the test data (624) in the directory, scale, and reshape\n",
    "test_generator = ImageDataGenerator(rescale=1./255)\\\n",
    "                 .flow_from_directory(test_dir, target_size=(128,128), batch_size=624) \n",
    "\n",
    "# Get all the validation data (16) in the directory, scale, and reshape\n",
    "val_generator = ImageDataGenerator(rescale=1./255)\\\n",
    "                .flow_from_directory(val_dir, target_size=(128,128), batch_size=16) "
   ]
  },
  {
   "cell_type": "code",
   "execution_count": 6,
   "metadata": {
    "ExecuteTime": {
     "end_time": "2021-05-12T15:55:57.833767Z",
     "start_time": "2021-05-12T15:55:14.882819Z"
    }
   },
   "outputs": [],
   "source": [
    "# create the data sets\n",
    "# next - retrieve the next item from iterator\n",
    "X_train, train_labels = next(train_generator)\n",
    "X_test, test_labels = next(test_generator)\n",
    "X_val, val_labels = next(val_generator)"
   ]
  },
  {
   "cell_type": "code",
   "execution_count": 7,
   "metadata": {
    "ExecuteTime": {
     "end_time": "2021-05-12T15:55:57.839947Z",
     "start_time": "2021-05-12T15:55:57.835199Z"
    }
   },
   "outputs": [
    {
     "name": "stdout",
     "output_type": "stream",
     "text": [
      "train_images shape: (5216, 128, 128, 3)\n",
      "train_labels shape: (5216, 2)\n",
      "test_images shape: (624, 128, 128, 3)\n",
      "test_labels shape: (624, 2)\n",
      "val_images shape: (16, 128, 128, 3)\n",
      "val_labels shape: (16, 2)\n"
     ]
    }
   ],
   "source": [
    "# Check the shape\n",
    "print (\"train_images shape: \" + str(X_train.shape))\n",
    "print (\"train_labels shape: \" + str(train_labels.shape))\n",
    "\n",
    "print (\"test_images shape: \" + str(X_test.shape))\n",
    "print (\"test_labels shape: \" + str(test_labels.shape))\n",
    "\n",
    "print (\"val_images shape: \" + str(X_val.shape))\n",
    "print (\"val_labels shape: \" + str(val_labels.shape))"
   ]
  },
  {
   "cell_type": "code",
   "execution_count": 8,
   "metadata": {
    "ExecuteTime": {
     "end_time": "2021-05-12T15:55:57.849297Z",
     "start_time": "2021-05-12T15:55:57.845403Z"
    }
   },
   "outputs": [
    {
     "name": "stdout",
     "output_type": "stream",
     "text": [
      "(5216, 1)\n",
      "(624, 1)\n",
      "(16, 1)\n"
     ]
    }
   ],
   "source": [
    "y_train = np.reshape(train_labels[:,0], (5216,1))\n",
    "y_test = np.reshape(test_labels[:,0], (624,1))\n",
    "y_val = np.reshape(val_labels[:,0], (16,1))\n",
    "\n",
    "print(y_train.shape)\n",
    "print(y_test.shape)\n",
    "print(y_val.shape)"
   ]
  },
  {
   "cell_type": "code",
   "execution_count": 9,
   "metadata": {
    "ExecuteTime": {
     "end_time": "2021-05-12T15:55:57.859097Z",
     "start_time": "2021-05-12T15:55:57.851761Z"
    }
   },
   "outputs": [],
   "source": [
    "def visualize_training_results(history):\n",
    "    '''\n",
    "    From https://machinelearningmastery.com/display-deep-learning-model-training-history-in-keras/\n",
    "    \n",
    "    Input: keras history object (output from trained model)\n",
    "    '''\n",
    "    fig, (ax1, ax2) = plt.subplots(2, sharex=True)\n",
    "    fig.suptitle('Model Results')\n",
    "\n",
    "    # summarize history for accuracy\n",
    "    ax1.plot(history.history['accuracy'])\n",
    "    ax1.plot(history.history['val_accuracy'])\n",
    "    ax1.set_ylabel('Accuracy')\n",
    "    ax1.legend(['train', 'test'], loc='upper left')\n",
    "    \n",
    "    # summarize history for loss\n",
    "    ax2.plot(history.history['loss'])\n",
    "    ax2.plot(history.history['val_loss'])\n",
    "    ax2.set_ylabel('Loss')\n",
    "    ax2.legend(['train', 'test'], loc='upper left')\n",
    "    \n",
    "    plt.xlabel('Epoch')\n",
    "    plt.show()"
   ]
  },
  {
   "cell_type": "code",
   "execution_count": 10,
   "metadata": {
    "ExecuteTime": {
     "end_time": "2021-05-12T15:55:57.864268Z",
     "start_time": "2021-05-12T15:55:57.860790Z"
    }
   },
   "outputs": [],
   "source": [
    "def model_evaluation(model):\n",
    "    result_train = model.evaluate(X_train, y_train)\n",
    "    print(f'Training Loss:{result_train[0]:.4}')\n",
    "    print(f'Training Accuracy:{result_train[1]:.4}')\n",
    "    \n",
    "    result_val = model.evaluate(X_val, y_val)\n",
    "    print(f'Val Loss:{result_val[0]:.4}')\n",
    "    print(f'Val Accuracy:{result_val[1]:.4}')"
   ]
  },
  {
   "cell_type": "markdown",
   "metadata": {},
   "source": [
    "## CNN Baseline Model\n",
    "- 3 block"
   ]
  },
  {
   "cell_type": "code",
   "execution_count": 11,
   "metadata": {
    "ExecuteTime": {
     "end_time": "2021-05-12T15:55:57.975992Z",
     "start_time": "2021-05-12T15:55:57.865600Z"
    }
   },
   "outputs": [],
   "source": [
    "base_model = models.Sequential()\n",
    "base_model.add(layers.Conv2D(32, (3, 3), activation='relu', input_shape=(128,128,3)))\n",
    "base_model.add(layers.MaxPooling2D((2, 2)))\n",
    "\n",
    "base_model.add(layers.Conv2D(64, (3, 3), activation='relu'))\n",
    "base_model.add(layers.MaxPooling2D((2, 2)))\n",
    "\n",
    "base_model.add(layers.Conv2D(128, (3, 3), activation='relu'))\n",
    "base_model.add(layers.MaxPooling2D((2, 2)))\n",
    "\n",
    "base_model.add(layers.Flatten())\n",
    "base_model.add(layers.Dense(128, activation='relu'))\n",
    "base_model.add(layers.Dense(1, activation='sigmoid'))\n",
    "\n",
    "base_model.compile(optimizer='adam',\n",
    "                   loss='binary_crossentropy',\n",
    "                   metrics=['accuracy'])"
   ]
  },
  {
   "cell_type": "code",
   "execution_count": 12,
   "metadata": {
    "ExecuteTime": {
     "end_time": "2021-05-12T16:38:27.328865Z",
     "start_time": "2021-05-12T15:55:57.977414Z"
    },
    "scrolled": false
   },
   "outputs": [
    {
     "name": "stdout",
     "output_type": "stream",
     "text": [
      "Epoch 1/50\n",
      "163/163 [==============================] - 43s 260ms/step - loss: 0.4430 - accuracy: 0.7968 - val_loss: 0.4689 - val_accuracy: 0.8013\n",
      "Epoch 2/50\n",
      "163/163 [==============================] - 41s 254ms/step - loss: 0.1252 - accuracy: 0.9530 - val_loss: 1.1855 - val_accuracy: 0.7276\n",
      "Epoch 3/50\n",
      "163/163 [==============================] - 41s 254ms/step - loss: 0.0680 - accuracy: 0.9765 - val_loss: 0.8361 - val_accuracy: 0.7596\n",
      "Epoch 4/50\n",
      "163/163 [==============================] - 42s 256ms/step - loss: 0.0622 - accuracy: 0.9807 - val_loss: 0.8057 - val_accuracy: 0.7772\n",
      "Epoch 5/50\n",
      "163/163 [==============================] - 42s 257ms/step - loss: 0.0582 - accuracy: 0.9804 - val_loss: 0.8775 - val_accuracy: 0.7724\n",
      "Epoch 6/50\n",
      "163/163 [==============================] - 42s 258ms/step - loss: 0.0506 - accuracy: 0.9828 - val_loss: 1.0743 - val_accuracy: 0.7420\n",
      "Epoch 7/50\n",
      "163/163 [==============================] - 42s 259ms/step - loss: 0.0376 - accuracy: 0.9871 - val_loss: 1.0228 - val_accuracy: 0.7901\n",
      "Epoch 8/50\n",
      "163/163 [==============================] - 42s 258ms/step - loss: 0.0509 - accuracy: 0.9815 - val_loss: 0.9525 - val_accuracy: 0.7804\n",
      "Epoch 9/50\n",
      "163/163 [==============================] - 42s 260ms/step - loss: 0.0334 - accuracy: 0.9890 - val_loss: 1.1947 - val_accuracy: 0.7596\n",
      "Epoch 10/50\n",
      "163/163 [==============================] - 42s 260ms/step - loss: 0.0199 - accuracy: 0.9936 - val_loss: 1.7056 - val_accuracy: 0.7436\n",
      "Epoch 11/50\n",
      "163/163 [==============================] - 42s 260ms/step - loss: 0.0163 - accuracy: 0.9916 - val_loss: 1.6298 - val_accuracy: 0.7516\n",
      "Epoch 12/50\n",
      "163/163 [==============================] - 42s 260ms/step - loss: 0.0151 - accuracy: 0.9956 - val_loss: 2.0310 - val_accuracy: 0.7628\n",
      "Epoch 13/50\n",
      "163/163 [==============================] - 42s 260ms/step - loss: 0.0090 - accuracy: 0.9970 - val_loss: 3.2538 - val_accuracy: 0.7019\n",
      "Epoch 14/50\n",
      "163/163 [==============================] - 42s 260ms/step - loss: 0.0167 - accuracy: 0.9933 - val_loss: 2.9312 - val_accuracy: 0.7115\n",
      "Epoch 15/50\n",
      "163/163 [==============================] - 42s 259ms/step - loss: 0.0173 - accuracy: 0.9934 - val_loss: 2.4013 - val_accuracy: 0.7436\n",
      "Epoch 16/50\n",
      "163/163 [==============================] - 486s 3s/step - loss: 0.0094 - accuracy: 0.9969 - val_loss: 2.2586 - val_accuracy: 0.7452\n",
      "Epoch 17/50\n",
      "163/163 [==============================] - 42s 257ms/step - loss: 0.0075 - accuracy: 0.9976 - val_loss: 2.3087 - val_accuracy: 0.7692\n",
      "Epoch 18/50\n",
      "163/163 [==============================] - 42s 258ms/step - loss: 0.0020 - accuracy: 1.0000 - val_loss: 3.3254 - val_accuracy: 0.7452\n",
      "Epoch 19/50\n",
      "163/163 [==============================] - 42s 258ms/step - loss: 3.8014e-04 - accuracy: 1.0000 - val_loss: 4.0418 - val_accuracy: 0.7372\n",
      "Epoch 20/50\n",
      "163/163 [==============================] - 42s 259ms/step - loss: 1.1957e-04 - accuracy: 1.0000 - val_loss: 3.8749 - val_accuracy: 0.7516\n",
      "Epoch 21/50\n",
      "163/163 [==============================] - 42s 258ms/step - loss: 5.9933e-05 - accuracy: 1.0000 - val_loss: 3.9663 - val_accuracy: 0.7516\n",
      "Epoch 22/50\n",
      "163/163 [==============================] - 42s 258ms/step - loss: 4.9255e-05 - accuracy: 1.0000 - val_loss: 4.0889 - val_accuracy: 0.7500\n",
      "Epoch 23/50\n",
      "163/163 [==============================] - 42s 258ms/step - loss: 3.2044e-05 - accuracy: 1.0000 - val_loss: 4.1524 - val_accuracy: 0.7500\n",
      "Epoch 24/50\n",
      "163/163 [==============================] - 42s 258ms/step - loss: 2.8374e-05 - accuracy: 1.0000 - val_loss: 4.1858 - val_accuracy: 0.7532\n",
      "Epoch 25/50\n",
      "163/163 [==============================] - 42s 258ms/step - loss: 3.4466e-05 - accuracy: 1.0000 - val_loss: 4.2032 - val_accuracy: 0.7532\n",
      "Epoch 26/50\n",
      "163/163 [==============================] - 42s 259ms/step - loss: 2.8492e-05 - accuracy: 1.0000 - val_loss: 4.2668 - val_accuracy: 0.7532\n",
      "Epoch 27/50\n",
      "163/163 [==============================] - 42s 256ms/step - loss: 2.2625e-05 - accuracy: 1.0000 - val_loss: 4.3570 - val_accuracy: 0.7516\n",
      "Epoch 28/50\n",
      "163/163 [==============================] - 42s 257ms/step - loss: 1.6446e-05 - accuracy: 1.0000 - val_loss: 4.4519 - val_accuracy: 0.7484\n",
      "Epoch 29/50\n",
      "163/163 [==============================] - 42s 259ms/step - loss: 1.5442e-05 - accuracy: 1.0000 - val_loss: 4.4528 - val_accuracy: 0.7500\n",
      "Epoch 30/50\n",
      "163/163 [==============================] - 42s 259ms/step - loss: 1.4399e-05 - accuracy: 1.0000 - val_loss: 4.5552 - val_accuracy: 0.7500\n",
      "Epoch 31/50\n",
      "163/163 [==============================] - 42s 259ms/step - loss: 1.3802e-05 - accuracy: 1.0000 - val_loss: 4.6334 - val_accuracy: 0.7484\n",
      "Epoch 32/50\n",
      "163/163 [==============================] - 42s 260ms/step - loss: 1.3025e-05 - accuracy: 1.0000 - val_loss: 4.5675 - val_accuracy: 0.7500\n",
      "Epoch 33/50\n",
      "163/163 [==============================] - 42s 259ms/step - loss: 1.0514e-05 - accuracy: 1.0000 - val_loss: 4.6682 - val_accuracy: 0.7500\n",
      "Epoch 34/50\n",
      "163/163 [==============================] - 42s 259ms/step - loss: 9.3588e-06 - accuracy: 1.0000 - val_loss: 4.6923 - val_accuracy: 0.7500\n",
      "Epoch 35/50\n",
      "163/163 [==============================] - 42s 259ms/step - loss: 9.7058e-06 - accuracy: 1.0000 - val_loss: 4.7376 - val_accuracy: 0.7500\n",
      "Epoch 36/50\n",
      "163/163 [==============================] - 42s 260ms/step - loss: 7.7743e-06 - accuracy: 1.0000 - val_loss: 4.8343 - val_accuracy: 0.7500\n",
      "Epoch 37/50\n",
      "163/163 [==============================] - 42s 259ms/step - loss: 6.1952e-06 - accuracy: 1.0000 - val_loss: 4.8297 - val_accuracy: 0.7500\n",
      "Epoch 38/50\n",
      "163/163 [==============================] - 42s 256ms/step - loss: 6.4805e-06 - accuracy: 1.0000 - val_loss: 4.8925 - val_accuracy: 0.7500\n",
      "Epoch 39/50\n",
      "163/163 [==============================] - 42s 256ms/step - loss: 6.3643e-06 - accuracy: 1.0000 - val_loss: 4.8016 - val_accuracy: 0.7516\n",
      "Epoch 40/50\n",
      "163/163 [==============================] - 42s 257ms/step - loss: 5.6579e-06 - accuracy: 1.0000 - val_loss: 4.9828 - val_accuracy: 0.7500\n",
      "Epoch 41/50\n",
      "163/163 [==============================] - 42s 257ms/step - loss: 5.1900e-06 - accuracy: 1.0000 - val_loss: 4.9811 - val_accuracy: 0.7500\n",
      "Epoch 42/50\n",
      "163/163 [==============================] - 42s 258ms/step - loss: 3.5609e-06 - accuracy: 1.0000 - val_loss: 5.0850 - val_accuracy: 0.7468\n",
      "Epoch 43/50\n",
      "163/163 [==============================] - 42s 257ms/step - loss: 3.9501e-06 - accuracy: 1.0000 - val_loss: 5.0884 - val_accuracy: 0.7500\n",
      "Epoch 44/50\n",
      "163/163 [==============================] - 42s 258ms/step - loss: 4.5551e-06 - accuracy: 1.0000 - val_loss: 5.0858 - val_accuracy: 0.7500\n",
      "Epoch 45/50\n",
      "163/163 [==============================] - 42s 259ms/step - loss: 3.2939e-06 - accuracy: 1.0000 - val_loss: 5.1683 - val_accuracy: 0.7500\n",
      "Epoch 46/50\n",
      "163/163 [==============================] - 42s 258ms/step - loss: 3.1520e-06 - accuracy: 1.0000 - val_loss: 5.2476 - val_accuracy: 0.7468\n",
      "Epoch 47/50\n",
      "163/163 [==============================] - 42s 259ms/step - loss: 2.4442e-06 - accuracy: 1.0000 - val_loss: 5.2578 - val_accuracy: 0.7484\n",
      "Epoch 48/50\n",
      "163/163 [==============================] - 42s 260ms/step - loss: 2.3802e-06 - accuracy: 1.0000 - val_loss: 5.3841 - val_accuracy: 0.7452\n",
      "Epoch 49/50\n",
      "163/163 [==============================] - 42s 259ms/step - loss: 2.0355e-06 - accuracy: 1.0000 - val_loss: 5.3207 - val_accuracy: 0.7484\n",
      "Epoch 50/50\n",
      "163/163 [==============================] - 42s 258ms/step - loss: 2.0520e-06 - accuracy: 1.0000 - val_loss: 5.4111 - val_accuracy: 0.7468\n"
     ]
    }
   ],
   "source": [
    "base_history = base_model.fit(X_train, y_train,\n",
    "                              epochs=50,\n",
    "                              batch_size=32,\n",
    "                              validation_data=(X_test, y_test))"
   ]
  },
  {
   "cell_type": "code",
   "execution_count": 13,
   "metadata": {
    "ExecuteTime": {
     "end_time": "2021-05-12T16:38:27.604437Z",
     "start_time": "2021-05-12T16:38:27.330165Z"
    }
   },
   "outputs": [
    {
     "data": {
      "image/png": "[encoded data removed]",
      "text/plain": [
       "<Figure size 432x288 with 2 Axes>"
      ]
     },
     "metadata": {
      "needs_background": "light"
     },
     "output_type": "display_data"
    }
   ],
   "source": [
    "visualize_training_results(base_history)"
   ]
  },
  {
   "cell_type": "code",
   "execution_count": 14,
   "metadata": {
    "ExecuteTime": {
     "end_time": "2021-05-12T16:38:27.657512Z",
     "start_time": "2021-05-12T16:38:27.606107Z"
    }
   },
   "outputs": [],
   "source": [
    "base_model.save('base_model.h5')"
   ]
  },
  {
   "cell_type": "code",
   "execution_count": 15,
   "metadata": {
    "ExecuteTime": {
     "end_time": "2021-05-12T16:51:22.229003Z",
     "start_time": "2021-05-12T16:51:11.809710Z"
    }
   },
   "outputs": [
    {
     "name": "stdout",
     "output_type": "stream",
     "text": [
      "163/163 [==============================] - 10s 62ms/step - loss: 1.8565e-06 - accuracy: 1.0000\n",
      "Training Loss:1.857e-06\n",
      "Training Accuracy:1.0\n",
      "1/1 [==============================] - 0s 125ms/step - loss: 0.4588 - accuracy: 0.9375\n",
      "Val Loss:0.4588\n",
      "Val Accuracy:0.9375\n"
     ]
    }
   ],
   "source": [
    "base = load_model('base_model.h5')\n",
    "model_evaluation(base)"
   ]
  },
  {
   "cell_type": "markdown",
   "metadata": {},
   "source": [
    ">**Comment:** *Baseline Model*\n",
    "- The baseline model took about 40 minutes to run\n",
    "- The train accuracy (1.0) is higher than val accuracy (0.9375) which indicates that the baseline model is overfit\n",
    "- The visualization shows test accuracy did not show too much improvements after 20 epochs while the test loss shows an increase trend\n",
    "- Early stoppling can be applied for iteration model tunning to prevent overfit and saving time"
   ]
  },
  {
   "cell_type": "markdown",
   "metadata": {},
   "source": [
    "## Dropout 20\n",
    "- Add (20%) dropout layers and earlystopping "
   ]
  },
  {
   "cell_type": "code",
   "execution_count": 16,
   "metadata": {
    "ExecuteTime": {
     "end_time": "2021-05-12T16:51:57.382798Z",
     "start_time": "2021-05-12T16:51:57.294455Z"
    }
   },
   "outputs": [],
   "source": [
    "dropout_20 = models.Sequential()\n",
    "dropout_20.add(layers.Conv2D(32, (3, 3), activation='relu', input_shape=(128,128,3)))\n",
    "dropout_20.add(layers.MaxPooling2D((2, 2)))\n",
    "dropout_20.add(layers.Dropout(0.2))\n",
    "\n",
    "dropout_20.add(layers.Conv2D(64, (3, 3), activation='relu'))\n",
    "dropout_20.add(layers.MaxPooling2D((2, 2)))\n",
    "dropout_20.add(layers.Dropout(0.2))\n",
    "\n",
    "dropout_20.add(layers.Conv2D(128, (3, 3), activation='relu'))\n",
    "dropout_20.add(layers.MaxPooling2D((2, 2)))\n",
    "dropout_20.add(layers.Dropout(0.2))\n",
    "\n",
    "dropout_20.add(layers.Flatten())\n",
    "dropout_20.add(layers.Dense(128, activation='relu'))\n",
    "dropout_20.add(layers.Dense(1, activation='sigmoid'))\n",
    "\n",
    "dropout_20.compile(optimizer='adam',\n",
    "                    loss='binary_crossentropy',\n",
    "                    metrics=['accuracy'])"
   ]
  },
  {
   "cell_type": "code",
   "execution_count": 17,
   "metadata": {
    "ExecuteTime": {
     "end_time": "2021-05-12T16:51:57.387350Z",
     "start_time": "2021-05-12T16:51:57.384734Z"
    }
   },
   "outputs": [],
   "source": [
    "es_dp_20 = [EarlyStopping(monitor='val_loss', mode='min', verbose=1, patience=6),\n",
    "         ModelCheckpoint(filepath='best_dropout_20.h5', monitor='val_accuracy', \n",
    "                         mode='max', verbose=1, save_best_only=True)]"
   ]
  },
  {
   "cell_type": "code",
   "execution_count": 18,
   "metadata": {
    "ExecuteTime": {
     "end_time": "2021-05-12T17:03:56.933719Z",
     "start_time": "2021-05-12T16:51:57.389703Z"
    }
   },
   "outputs": [
    {
     "name": "stdout",
     "output_type": "stream",
     "text": [
      "Epoch 1/50\n",
      "163/163 [==============================] - 49s 295ms/step - loss: 0.5665 - accuracy: 0.7648 - val_loss: 0.7180 - val_accuracy: 0.7388\n",
      "\n",
      "Epoch 00001: val_accuracy improved from -inf to 0.73878, saving model to best_dropout_20.h5\n",
      "Epoch 2/50\n",
      "163/163 [==============================] - 47s 291ms/step - loss: 0.1443 - accuracy: 0.9426 - val_loss: 0.8041 - val_accuracy: 0.7564\n",
      "\n",
      "Epoch 00002: val_accuracy improved from 0.73878 to 0.75641, saving model to best_dropout_20.h5\n",
      "Epoch 3/50\n",
      "163/163 [==============================] - 49s 301ms/step - loss: 0.0971 - accuracy: 0.9613 - val_loss: 0.7375 - val_accuracy: 0.7756\n",
      "\n",
      "Epoch 00003: val_accuracy improved from 0.75641 to 0.77564, saving model to best_dropout_20.h5\n",
      "Epoch 4/50\n",
      "163/163 [==============================] - 48s 293ms/step - loss: 0.0764 - accuracy: 0.9723 - val_loss: 0.5995 - val_accuracy: 0.7853\n",
      "\n",
      "Epoch 00004: val_accuracy improved from 0.77564 to 0.78526, saving model to best_dropout_20.h5\n",
      "Epoch 5/50\n",
      "163/163 [==============================] - 48s 292ms/step - loss: 0.0840 - accuracy: 0.9673 - val_loss: 0.7536 - val_accuracy: 0.7708\n",
      "\n",
      "Epoch 00005: val_accuracy did not improve from 0.78526\n",
      "Epoch 6/50\n",
      "163/163 [==============================] - 48s 293ms/step - loss: 0.0718 - accuracy: 0.9741 - val_loss: 0.8788 - val_accuracy: 0.7724\n",
      "\n",
      "Epoch 00006: val_accuracy did not improve from 0.78526\n",
      "Epoch 7/50\n",
      "163/163 [==============================] - 48s 292ms/step - loss: 0.0609 - accuracy: 0.9769 - val_loss: 0.5903 - val_accuracy: 0.8301\n",
      "\n",
      "Epoch 00007: val_accuracy improved from 0.78526 to 0.83013, saving model to best_dropout_20.h5\n",
      "Epoch 8/50\n",
      "163/163 [==============================] - 48s 291ms/step - loss: 0.0522 - accuracy: 0.9832 - val_loss: 0.9876 - val_accuracy: 0.7756\n",
      "\n",
      "Epoch 00008: val_accuracy did not improve from 0.83013\n",
      "Epoch 9/50\n",
      "163/163 [==============================] - 48s 292ms/step - loss: 0.0495 - accuracy: 0.9818 - val_loss: 0.5207 - val_accuracy: 0.8285\n",
      "\n",
      "Epoch 00009: val_accuracy did not improve from 0.83013\n",
      "Epoch 10/50\n",
      "163/163 [==============================] - 47s 291ms/step - loss: 0.0583 - accuracy: 0.9806 - val_loss: 1.3426 - val_accuracy: 0.7660\n",
      "\n",
      "Epoch 00010: val_accuracy did not improve from 0.83013\n",
      "Epoch 11/50\n",
      "163/163 [==============================] - 48s 292ms/step - loss: 0.0442 - accuracy: 0.9809 - val_loss: 1.0012 - val_accuracy: 0.7933\n",
      "\n",
      "Epoch 00011: val_accuracy did not improve from 0.83013\n",
      "Epoch 12/50\n",
      "163/163 [==============================] - 48s 291ms/step - loss: 0.0390 - accuracy: 0.9862 - val_loss: 1.0131 - val_accuracy: 0.7869\n",
      "\n",
      "Epoch 00012: val_accuracy did not improve from 0.83013\n",
      "Epoch 13/50\n",
      "163/163 [==============================] - 47s 291ms/step - loss: 0.0332 - accuracy: 0.9874 - val_loss: 1.3623 - val_accuracy: 0.7708\n",
      "\n",
      "Epoch 00013: val_accuracy did not improve from 0.83013\n",
      "Epoch 14/50\n",
      "163/163 [==============================] - 50s 305ms/step - loss: 0.0391 - accuracy: 0.9859 - val_loss: 1.5138 - val_accuracy: 0.7372\n",
      "\n",
      "Epoch 00014: val_accuracy did not improve from 0.83013\n",
      "Epoch 15/50\n",
      "163/163 [==============================] - 49s 300ms/step - loss: 0.0242 - accuracy: 0.9912 - val_loss: 1.3387 - val_accuracy: 0.7788\n",
      "\n",
      "Epoch 00015: val_accuracy did not improve from 0.83013\n",
      "Epoch 00015: early stopping\n"
     ]
    }
   ],
   "source": [
    "dropout_20_history = dropout_20.fit(X_train, y_train,\n",
    "                                epochs=50,\n",
    "                                batch_size=32,\n",
    "                                callbacks=es_dp_20,\n",
    "                                validation_data=(X_test, y_test))"
   ]
  },
  {
   "cell_type": "code",
   "execution_count": 19,
   "metadata": {
    "ExecuteTime": {
     "end_time": "2021-05-12T17:03:57.205809Z",
     "start_time": "2021-05-12T17:03:56.935667Z"
    },
    "scrolled": true
   },
   "outputs": [
    {
     "data": {
      "image/png": "[encoded data removed]",
      "text/plain": [
       "<Figure size 432x288 with 2 Axes>"
      ]
     },
     "metadata": {
      "needs_background": "light"
     },
     "output_type": "display_data"
    }
   ],
   "source": [
    "visualize_training_results(dropout_20_history)"
   ]
  },
  {
   "cell_type": "code",
   "execution_count": 20,
   "metadata": {
    "ExecuteTime": {
     "end_time": "2021-05-12T17:04:08.401462Z",
     "start_time": "2021-05-12T17:03:57.207588Z"
    }
   },
   "outputs": [
    {
     "name": "stdout",
     "output_type": "stream",
     "text": [
      "163/163 [==============================] - 11s 66ms/step - loss: 0.0766 - accuracy: 0.9712\n",
      "Training Loss:0.07663\n",
      "Training Accuracy:0.9712\n",
      "1/1 [==============================] - 0s 129ms/step - loss: 0.0855 - accuracy: 1.0000\n",
      "Val Loss:0.08555\n",
      "Val Accuracy:1.0\n"
     ]
    }
   ],
   "source": [
    "dp20 = load_model('best_dropout_20.h5')\n",
    "model_evaluation(dp20)"
   ]
  },
  {
   "cell_type": "markdown",
   "metadata": {},
   "source": [
    "## Dropout 50\n",
    "- Add (50%) dropout layer and earlystopping"
   ]
  },
  {
   "cell_type": "code",
   "execution_count": 21,
   "metadata": {
    "ExecuteTime": {
     "end_time": "2021-05-12T17:04:28.512839Z",
     "start_time": "2021-05-12T17:04:28.425070Z"
    }
   },
   "outputs": [],
   "source": [
    "dropout_50 = models.Sequential()\n",
    "dropout_50.add(layers.Conv2D(32, (3, 3), activation='relu', input_shape=(128,128,3)))\n",
    "dropout_50.add(layers.MaxPooling2D((2, 2)))\n",
    "dropout_50.add(layers.Dropout(0.5))\n",
    "\n",
    "dropout_50.add(layers.Conv2D(64, (3, 3), activation='relu'))\n",
    "dropout_50.add(layers.MaxPooling2D((2, 2)))\n",
    "dropout_50.add(layers.Dropout(0.5))\n",
    "\n",
    "dropout_50.add(layers.Conv2D(128, (3, 3), activation='relu'))\n",
    "dropout_50.add(layers.MaxPooling2D((2, 2)))\n",
    "dropout_50.add(layers.Dropout(0.5))\n",
    "\n",
    "dropout_50.add(layers.Flatten())\n",
    "dropout_50.add(layers.Dense(128, activation='relu'))\n",
    "dropout_50.add(layers.Dense(1, activation='sigmoid'))\n",
    "\n",
    "dropout_50.compile(optimizer='adam',\n",
    "                   loss='binary_crossentropy',\n",
    "                   metrics=['accuracy'])"
   ]
  },
  {
   "cell_type": "code",
   "execution_count": 22,
   "metadata": {
    "ExecuteTime": {
     "end_time": "2021-05-12T17:04:28.517221Z",
     "start_time": "2021-05-12T17:04:28.514671Z"
    }
   },
   "outputs": [],
   "source": [
    "es_dp_50 = [EarlyStopping(monitor='val_loss', mode='min', verbose=1, patience=6),\n",
    "            ModelCheckpoint(filepath='best_dropout_50.h5', monitor='val_accuracy', \n",
    "                            mode='max', verbose=1, save_best_only=True)]"
   ]
  },
  {
   "cell_type": "code",
   "execution_count": 23,
   "metadata": {
    "ExecuteTime": {
     "end_time": "2021-05-12T17:10:09.563098Z",
     "start_time": "2021-05-12T17:04:28.519449Z"
    }
   },
   "outputs": [
    {
     "name": "stdout",
     "output_type": "stream",
     "text": [
      "Epoch 1/50\n",
      "163/163 [==============================] - 49s 295ms/step - loss: 0.6889 - accuracy: 0.7211 - val_loss: 0.4302 - val_accuracy: 0.8077\n",
      "\n",
      "Epoch 00001: val_accuracy improved from -inf to 0.80769, saving model to best_dropout_50.h5\n",
      "Epoch 2/50\n",
      "163/163 [==============================] - 47s 290ms/step - loss: 0.2108 - accuracy: 0.9120 - val_loss: 0.6183 - val_accuracy: 0.7484\n",
      "\n",
      "Epoch 00002: val_accuracy did not improve from 0.80769\n",
      "Epoch 3/50\n",
      "163/163 [==============================] - 48s 292ms/step - loss: 0.1517 - accuracy: 0.9385 - val_loss: 0.5473 - val_accuracy: 0.7740\n",
      "\n",
      "Epoch 00003: val_accuracy did not improve from 0.80769\n",
      "Epoch 4/50\n",
      "163/163 [==============================] - 48s 297ms/step - loss: 0.1238 - accuracy: 0.9581 - val_loss: 0.7113 - val_accuracy: 0.7163\n",
      "\n",
      "Epoch 00004: val_accuracy did not improve from 0.80769\n",
      "Epoch 5/50\n",
      "163/163 [==============================] - 50s 306ms/step - loss: 0.1278 - accuracy: 0.9532 - val_loss: 0.5873 - val_accuracy: 0.7484\n",
      "\n",
      "Epoch 00005: val_accuracy did not improve from 0.80769\n",
      "Epoch 6/50\n",
      "163/163 [==============================] - 51s 310ms/step - loss: 0.1060 - accuracy: 0.9583 - val_loss: 0.6799 - val_accuracy: 0.7372\n",
      "\n",
      "Epoch 00006: val_accuracy did not improve from 0.80769\n",
      "Epoch 7/50\n",
      "163/163 [==============================] - 49s 298ms/step - loss: 0.1083 - accuracy: 0.9620 - val_loss: 0.4507 - val_accuracy: 0.8157\n",
      "\n",
      "Epoch 00007: val_accuracy improved from 0.80769 to 0.81571, saving model to best_dropout_50.h5\n",
      "Epoch 00007: early stopping\n"
     ]
    }
   ],
   "source": [
    "dropout_50_history = dropout_50.fit(X_train, y_train,\n",
    "                                epochs=50,\n",
    "                                batch_size=32,\n",
    "                                callbacks=es_dp_50,\n",
    "                                validation_data=(X_test, y_test))"
   ]
  },
  {
   "cell_type": "code",
   "execution_count": 24,
   "metadata": {
    "ExecuteTime": {
     "end_time": "2021-05-12T17:10:09.856232Z",
     "start_time": "2021-05-12T17:10:09.565072Z"
    },
    "scrolled": true
   },
   "outputs": [
    {
     "data": {
      "image/png": "[encoded data removed]",
      "text/plain": [
       "<Figure size 432x288 with 2 Axes>"
      ]
     },
     "metadata": {
      "needs_background": "light"
     },
     "output_type": "display_data"
    }
   ],
   "source": [
    "visualize_training_results(dropout_50_history)"
   ]
  },
  {
   "cell_type": "code",
   "execution_count": 25,
   "metadata": {
    "ExecuteTime": {
     "end_time": "2021-05-12T17:10:21.647634Z",
     "start_time": "2021-05-12T17:10:09.857721Z"
    }
   },
   "outputs": [
    {
     "name": "stdout",
     "output_type": "stream",
     "text": [
      "163/163 [==============================] - 11s 70ms/step - loss: 0.1172 - accuracy: 0.9689\n",
      "Training Loss:0.1172\n",
      "Training Accuracy:0.9689\n",
      "1/1 [==============================] - 0s 131ms/step - loss: 0.2597 - accuracy: 1.0000\n",
      "Val Loss:0.2597\n",
      "Val Accuracy:1.0\n"
     ]
    }
   ],
   "source": [
    "dp50 = load_model('best_dropout_50.h5')\n",
    "model_evaluation(dp50)"
   ]
  },
  {
   "cell_type": "markdown",
   "metadata": {},
   "source": [
    "## Dropout 35"
   ]
  },
  {
   "cell_type": "code",
   "execution_count": 40,
   "metadata": {
    "ExecuteTime": {
     "end_time": "2021-05-12T01:05:05.913875Z",
     "start_time": "2021-05-12T01:05:05.817053Z"
    }
   },
   "outputs": [],
   "source": [
    "dropout_35 = models.Sequential()\n",
    "dropout_35.add(layers.Conv2D(32, (3, 3), activation='relu', input_shape=(128,128,3)))\n",
    "dropout_35.add(layers.MaxPooling2D((2, 2)))\n",
    "dropout_35.add(layers.Dropout(0.25))\n",
    "\n",
    "dropout_35.add(layers.Conv2D(64, (3, 3), activation='relu'))\n",
    "dropout_35.add(layers.MaxPooling2D((2, 2)))\n",
    "dropout_25.add(layers.Dropout(0.25))\n",
    "\n",
    "dropout_35.add(layers.Conv2D(128, (3, 3), activation='relu'))\n",
    "dropout_35.add(layers.MaxPooling2D((2, 2)))\n",
    "dropout_35.add(layers.Dropout(0.25))\n",
    "\n",
    "dropout_35.add(layers.Flatten())\n",
    "dropout_35.add(layers.Dense(128, activation='relu'))\n",
    "dropout_35.add(layers.Dense(1, activation='sigmoid'))\n",
    "\n",
    "dropout_35.compile(optimizer='adam',\n",
    "                    loss='binary_crossentropy',\n",
    "                    metrics=['accuracy'])"
   ]
  },
  {
   "cell_type": "code",
   "execution_count": 42,
   "metadata": {
    "ExecuteTime": {
     "end_time": "2021-05-12T01:05:44.283122Z",
     "start_time": "2021-05-12T01:05:44.280096Z"
    }
   },
   "outputs": [],
   "source": [
    "es_dp_35 = [EarlyStopping(monitor='val_loss', mode='min', verbose=1, patience=6),\n",
    "            ModelCheckpoint(filepath='best_dropout_35.h5', monitor='val_accuracy', \n",
    "                            mode='max', verbose=1, save_best_only=True)]"
   ]
  },
  {
   "cell_type": "code",
   "execution_count": 43,
   "metadata": {
    "ExecuteTime": {
     "end_time": "2021-05-12T01:11:11.549933Z",
     "start_time": "2021-05-12T01:05:45.950584Z"
    }
   },
   "outputs": [
    {
     "name": "stdout",
     "output_type": "stream",
     "text": [
      "Epoch 1/50\n",
      "163/163 [==============================] - 48s 291ms/step - loss: 0.5277 - accuracy: 0.7511 - val_loss: 0.6833 - val_accuracy: 0.7644\n",
      "\n",
      "Epoch 00001: val_accuracy improved from -inf to 0.76442, saving model to best_dropout_35.h5\n",
      "Epoch 2/50\n",
      "163/163 [==============================] - 47s 289ms/step - loss: 0.1234 - accuracy: 0.9510 - val_loss: 0.7531 - val_accuracy: 0.7644\n",
      "\n",
      "Epoch 00002: val_accuracy did not improve from 0.76442\n",
      "Epoch 3/50\n",
      "163/163 [==============================] - 46s 284ms/step - loss: 0.1117 - accuracy: 0.9590 - val_loss: 0.8451 - val_accuracy: 0.7628\n",
      "\n",
      "Epoch 00003: val_accuracy did not improve from 0.76442\n",
      "Epoch 4/50\n",
      "163/163 [==============================] - 46s 280ms/step - loss: 0.0742 - accuracy: 0.9708 - val_loss: 1.0304 - val_accuracy: 0.7356\n",
      "\n",
      "Epoch 00004: val_accuracy did not improve from 0.76442\n",
      "Epoch 5/50\n",
      "163/163 [==============================] - 46s 280ms/step - loss: 0.0729 - accuracy: 0.9714 - val_loss: 0.9976 - val_accuracy: 0.7436\n",
      "\n",
      "Epoch 00005: val_accuracy did not improve from 0.76442\n",
      "Epoch 6/50\n",
      "163/163 [==============================] - 46s 284ms/step - loss: 0.0674 - accuracy: 0.9739 - val_loss: 0.9533 - val_accuracy: 0.7516\n",
      "\n",
      "Epoch 00006: val_accuracy did not improve from 0.76442\n",
      "Epoch 7/50\n",
      "163/163 [==============================] - 47s 286ms/step - loss: 0.0720 - accuracy: 0.9720 - val_loss: 1.7384 - val_accuracy: 0.7244\n",
      "\n",
      "Epoch 00007: val_accuracy did not improve from 0.76442\n",
      "Epoch 00007: early stopping\n"
     ]
    }
   ],
   "source": [
    "dropout_35_history = dropout_35.fit(X_train, y_train,\n",
    "                                epochs=50,\n",
    "                                batch_size=32,\n",
    "                                callbacks=es_dp_35,\n",
    "                                validation_data=(X_test, y_test))"
   ]
  },
  {
   "cell_type": "code",
   "execution_count": 44,
   "metadata": {
    "ExecuteTime": {
     "end_time": "2021-05-12T01:12:04.241216Z",
     "start_time": "2021-05-12T01:12:03.977876Z"
    }
   },
   "outputs": [
    {
     "data": {
      "image/png": "[encoded data removed]",
      "text/plain": [
       "<Figure size 432x288 with 2 Axes>"
      ]
     },
     "metadata": {
      "needs_background": "light"
     },
     "output_type": "display_data"
    }
   ],
   "source": [
    "visualize_training_results(dropout_35_history)"
   ]
  },
  {
   "cell_type": "code",
   "execution_count": 45,
   "metadata": {
    "ExecuteTime": {
     "end_time": "2021-05-12T01:12:20.193060Z",
     "start_time": "2021-05-12T01:12:09.260211Z"
    }
   },
   "outputs": [
    {
     "name": "stdout",
     "output_type": "stream",
     "text": [
      "163/163 [==============================] - 11s 65ms/step - loss: 0.0998 - accuracy: 0.9615\n",
      "[0.09980279207229614, 0.9614647030830383]\n",
      "1/1 [==============================] - 0s 130ms/step - loss: 0.6258 - accuracy: 0.6250\n",
      "[0.6258485317230225, 0.625]\n"
     ]
    }
   ],
   "source": [
    "dp35 = load_model('best_dropout_35.h5')\n",
    "model_evaluation(dp35)"
   ]
  },
  {
   "cell_type": "markdown",
   "metadata": {},
   "source": [
    "## L2 Regularizer"
   ]
  },
  {
   "cell_type": "code",
   "execution_count": 12,
   "metadata": {
    "ExecuteTime": {
     "end_time": "2021-05-12T05:42:18.075038Z",
     "start_time": "2021-05-12T05:42:17.973566Z"
    }
   },
   "outputs": [],
   "source": [
    "L2_reg = models.Sequential()\n",
    "L2_reg.add(layers.Conv2D(32, (3, 3), kernel_regularizer=regularizers.l2(0.005), activation='relu', input_shape=(128,128,3)))\n",
    "L2_reg.add(layers.MaxPooling2D((2, 2)))\n",
    "\n",
    "L2_reg.add(layers.Conv2D(64, (3, 3), kernel_regularizer=regularizers.l2(0.005), activation='relu'))\n",
    "L2_reg.add(layers.MaxPooling2D((2, 2)))\n",
    "\n",
    "L2_reg.add(layers.Conv2D(128, (3, 3), kernel_regularizer=regularizers.l2(0.005), activation='relu'))\n",
    "L2_reg.add(layers.MaxPooling2D((2, 2)))\n",
    "\n",
    "L2_reg.add(layers.Flatten())\n",
    "L2_reg.add(layers.Dense(128, activation='relu'))\n",
    "L2_reg.add(layers.Dense(1, activation='sigmoid'))\n",
    "\n",
    "L2_reg.compile(optimizer='adam',\n",
    "               loss='binary_crossentropy',\n",
    "               metrics=['accuracy'])"
   ]
  },
  {
   "cell_type": "code",
   "execution_count": 13,
   "metadata": {
    "ExecuteTime": {
     "end_time": "2021-05-12T05:42:18.079198Z",
     "start_time": "2021-05-12T05:42:18.076748Z"
    }
   },
   "outputs": [],
   "source": [
    "es_L2 = [EarlyStopping(monitor='val_loss', mode='min', verbose=1, patience=6),\n",
    "         ModelCheckpoint(filepath='best_L2.h5', monitor='val_accuracy', \n",
    "                         mode='max', verbose=1, save_best_only=True)]"
   ]
  },
  {
   "cell_type": "code",
   "execution_count": 14,
   "metadata": {
    "ExecuteTime": {
     "end_time": "2021-05-12T05:47:08.219011Z",
     "start_time": "2021-05-12T05:42:18.081330Z"
    }
   },
   "outputs": [
    {
     "name": "stdout",
     "output_type": "stream",
     "text": [
      "Epoch 1/50\n",
      "163/163 [==============================] - 43s 263ms/step - loss: 0.9341 - accuracy: 0.7123 - val_loss: 0.6311 - val_accuracy: 0.6635\n",
      "\n",
      "Epoch 00001: val_accuracy improved from -inf to 0.66346, saving model to best_l2.h5\n",
      "Epoch 2/50\n",
      "163/163 [==============================] - 41s 253ms/step - loss: 0.3552 - accuracy: 0.9253 - val_loss: 0.7534 - val_accuracy: 0.7372\n",
      "\n",
      "Epoch 00002: val_accuracy improved from 0.66346 to 0.73718, saving model to best_l2.h5\n",
      "Epoch 3/50\n",
      "163/163 [==============================] - 41s 249ms/step - loss: 0.2808 - accuracy: 0.9505 - val_loss: 0.7813 - val_accuracy: 0.7660\n",
      "\n",
      "Epoch 00003: val_accuracy improved from 0.73718 to 0.76603, saving model to best_l2.h5\n",
      "Epoch 4/50\n",
      "163/163 [==============================] - 41s 252ms/step - loss: 0.2459 - accuracy: 0.9600 - val_loss: 0.8803 - val_accuracy: 0.7244\n",
      "\n",
      "Epoch 00004: val_accuracy did not improve from 0.76603\n",
      "Epoch 5/50\n",
      "163/163 [==============================] - 41s 251ms/step - loss: 0.2126 - accuracy: 0.9684 - val_loss: 0.8116 - val_accuracy: 0.7516\n",
      "\n",
      "Epoch 00005: val_accuracy did not improve from 0.76603\n",
      "Epoch 6/50\n",
      "163/163 [==============================] - 41s 252ms/step - loss: 0.1974 - accuracy: 0.9667 - val_loss: 1.0155 - val_accuracy: 0.7308\n",
      "\n",
      "Epoch 00006: val_accuracy did not improve from 0.76603\n",
      "Epoch 7/50\n",
      "163/163 [==============================] - 41s 254ms/step - loss: 0.1837 - accuracy: 0.9703 - val_loss: 0.8892 - val_accuracy: 0.7885\n",
      "\n",
      "Epoch 00007: val_accuracy improved from 0.76603 to 0.78846, saving model to best_l2.h5\n",
      "Epoch 00007: early stopping\n"
     ]
    }
   ],
   "source": [
    "L2_reg_history = L2_reg.fit(X_train, y_train,\n",
    "                                epochs=50,\n",
    "                                batch_size=32,\n",
    "                                callbacks=es_L2,\n",
    "                                validation_data=(X_test, y_test))"
   ]
  },
  {
   "cell_type": "code",
   "execution_count": 15,
   "metadata": {
    "ExecuteTime": {
     "end_time": "2021-05-12T05:47:08.525830Z",
     "start_time": "2021-05-12T05:47:08.221184Z"
    }
   },
   "outputs": [
    {
     "data": {
      "image/png": "[encoded data removed]",
      "text/plain": [
       "<Figure size 432x288 with 2 Axes>"
      ]
     },
     "metadata": {
      "needs_background": "light"
     },
     "output_type": "display_data"
    }
   ],
   "source": [
    "visualize_training_results(L2_reg_history)"
   ]
  },
  {
   "cell_type": "code",
   "execution_count": 16,
   "metadata": {
    "ExecuteTime": {
     "end_time": "2021-05-12T05:47:20.072042Z",
     "start_time": "2021-05-12T05:47:08.527830Z"
    },
    "scrolled": true
   },
   "outputs": [
    {
     "name": "stdout",
     "output_type": "stream",
     "text": [
      "163/163 [==============================] - 11s 68ms/step - loss: 0.1667 - accuracy: 0.9753\n",
      "Training Loss:0.1667\n",
      "Training Accuracy:0.9753\n",
      "1/1 [==============================] - 0s 139ms/step - loss: 0.3551 - accuracy: 0.8750\n",
      "Val Loss:0.3551\n",
      "Val Accuracy:0.875\n"
     ]
    }
   ],
   "source": [
    "L2 = load_model('best_L2.h5')\n",
    "model_evaluation(L2)"
   ]
  },
  {
   "cell_type": "markdown",
   "metadata": {},
   "source": [
    "## L2_01"
   ]
  },
  {
   "cell_type": "code",
   "execution_count": 30,
   "metadata": {
    "ExecuteTime": {
     "end_time": "2021-05-12T03:23:35.228938Z",
     "start_time": "2021-05-12T03:23:35.156378Z"
    }
   },
   "outputs": [],
   "source": [
    "L2_01 = models.Sequential()\n",
    "L2_01.add(layers.Conv2D(32, (3, 3), kernel_regularizer=regularizers.l2(0.01), activation='relu', input_shape=(128,128,3)))\n",
    "L2_01.add(layers.MaxPooling2D((2, 2)))\n",
    "\n",
    "L2_01.add(layers.Conv2D(64, (3, 3), kernel_regularizer=regularizers.l2(0.01), activation='relu'))\n",
    "L2_01.add(layers.MaxPooling2D((2, 2)))\n",
    "\n",
    "L2_01.add(layers.Conv2D(128, (3, 3), kernel_regularizer=regularizers.l2(0.01), activation='relu'))\n",
    "L2_01.add(layers.MaxPooling2D((2, 2)))\n",
    "\n",
    "L2_01.add(layers.Flatten())\n",
    "L2_01.add(layers.Dense(128, activation='relu'))\n",
    "L2_01.add(layers.Dense(1, activation='sigmoid'))\n",
    "\n",
    "L2_01.compile(optimizer='adam',\n",
    "                    loss='binary_crossentropy',\n",
    "                    metrics=['accuracy'])"
   ]
  },
  {
   "cell_type": "code",
   "execution_count": 31,
   "metadata": {
    "ExecuteTime": {
     "end_time": "2021-05-12T03:23:35.233653Z",
     "start_time": "2021-05-12T03:23:35.230841Z"
    }
   },
   "outputs": [],
   "source": [
    "es_L2_01 = [EarlyStopping(monitor='val_loss', mode='min', verbose=1, patience=6),\n",
    "                    ModelCheckpoint(filepath='best_L2_01.h5', monitor='val_accuracy', \n",
    "                                    mode='max', verbose=1, save_best_only=True)]"
   ]
  },
  {
   "cell_type": "code",
   "execution_count": 32,
   "metadata": {
    "ExecuteTime": {
     "end_time": "2021-05-12T03:30:41.698226Z",
     "start_time": "2021-05-12T03:23:35.235747Z"
    }
   },
   "outputs": [
    {
     "name": "stdout",
     "output_type": "stream",
     "text": [
      "Epoch 1/50\n",
      "163/163 [==============================] - 43s 263ms/step - loss: 1.0809 - accuracy: 0.7900 - val_loss: 0.6650 - val_accuracy: 0.7804\n",
      "\n",
      "Epoch 00001: val_accuracy improved from -inf to 0.78045, saving model to best_l2_01.h5\n",
      "Epoch 2/50\n",
      "163/163 [==============================] - 43s 261ms/step - loss: 0.2472 - accuracy: 0.9575 - val_loss: 1.0576 - val_accuracy: 0.7292\n",
      "\n",
      "Epoch 00002: val_accuracy did not improve from 0.78045\n",
      "Epoch 3/50\n",
      "163/163 [==============================] - 43s 261ms/step - loss: 0.1939 - accuracy: 0.9598 - val_loss: 0.8674 - val_accuracy: 0.7532\n",
      "\n",
      "Epoch 00003: val_accuracy did not improve from 0.78045\n",
      "Epoch 4/50\n",
      "163/163 [==============================] - 44s 267ms/step - loss: 0.1653 - accuracy: 0.9662 - val_loss: 0.5735 - val_accuracy: 0.8125\n",
      "\n",
      "Epoch 00004: val_accuracy improved from 0.78045 to 0.81250, saving model to best_l2_01.h5\n",
      "Epoch 5/50\n",
      "163/163 [==============================] - 42s 260ms/step - loss: 0.1431 - accuracy: 0.9698 - val_loss: 0.8243 - val_accuracy: 0.7740\n",
      "\n",
      "Epoch 00005: val_accuracy did not improve from 0.81250\n",
      "Epoch 6/50\n",
      "163/163 [==============================] - 42s 258ms/step - loss: 0.1321 - accuracy: 0.9716 - val_loss: 0.9444 - val_accuracy: 0.7500\n",
      "\n",
      "Epoch 00006: val_accuracy did not improve from 0.81250\n",
      "Epoch 7/50\n",
      "163/163 [==============================] - 42s 258ms/step - loss: 0.1225 - accuracy: 0.9769 - val_loss: 0.7211 - val_accuracy: 0.8061\n",
      "\n",
      "Epoch 00007: val_accuracy did not improve from 0.81250\n",
      "Epoch 8/50\n",
      "163/163 [==============================] - 42s 260ms/step - loss: 0.1131 - accuracy: 0.9731 - val_loss: 0.7315 - val_accuracy: 0.7676\n",
      "\n",
      "Epoch 00008: val_accuracy did not improve from 0.81250\n",
      "Epoch 9/50\n",
      "163/163 [==============================] - 43s 262ms/step - loss: 0.1289 - accuracy: 0.9705 - val_loss: 1.2707 - val_accuracy: 0.7179\n",
      "\n",
      "Epoch 00009: val_accuracy did not improve from 0.81250\n",
      "Epoch 10/50\n",
      "163/163 [==============================] - 43s 261ms/step - loss: 0.0966 - accuracy: 0.9804 - val_loss: 1.0248 - val_accuracy: 0.7244\n",
      "\n",
      "Epoch 00010: val_accuracy did not improve from 0.81250\n",
      "Epoch 00010: early stopping\n"
     ]
    }
   ],
   "source": [
    "L2_01_history = L2_01.fit(X_train, y_train,\n",
    "                                epochs=50,\n",
    "                                batch_size=32,\n",
    "                                callbacks=es_L2_01,\n",
    "                                validation_data=(X_test, y_test))"
   ]
  },
  {
   "cell_type": "code",
   "execution_count": 33,
   "metadata": {
    "ExecuteTime": {
     "end_time": "2021-05-12T03:30:41.938429Z",
     "start_time": "2021-05-12T03:30:41.700083Z"
    }
   },
   "outputs": [
    {
     "data": {
      "image/png": "[encoded data removed]",
      "text/plain": [
       "<Figure size 432x288 with 2 Axes>"
      ]
     },
     "metadata": {
      "needs_background": "light"
     },
     "output_type": "display_data"
    }
   ],
   "source": [
    "visualize_training_results(L2_01_history)"
   ]
  },
  {
   "cell_type": "code",
   "execution_count": 34,
   "metadata": {
    "ExecuteTime": {
     "end_time": "2021-05-12T03:30:52.837791Z",
     "start_time": "2021-05-12T03:30:41.940319Z"
    }
   },
   "outputs": [
    {
     "name": "stdout",
     "output_type": "stream",
     "text": [
      "163/163 [==============================] - 11s 65ms/step - loss: 0.1540 - accuracy: 0.9645\n",
      "[0.15400975942611694, 0.964532196521759]\n",
      "1/1 [==============================] - 0s 133ms/step - loss: 0.3600 - accuracy: 0.8750\n",
      "[0.36000385880470276, 0.875]\n"
     ]
    }
   ],
   "source": [
    "L201 = load_model('best_L2_01.h5')\n",
    "model_evaluation(L201)"
   ]
  },
  {
   "cell_type": "code",
   "execution_count": null,
   "metadata": {},
   "outputs": [],
   "source": []
  },
  {
   "cell_type": "code",
   "execution_count": null,
   "metadata": {},
   "outputs": [],
   "source": []
  },
  {
   "cell_type": "code",
   "execution_count": null,
   "metadata": {},
   "outputs": [],
   "source": []
  },
  {
   "cell_type": "markdown",
   "metadata": {
    "heading_collapsed": true
   },
   "source": [
    "## L1 Regularizer"
   ]
  },
  {
   "cell_type": "code",
   "execution_count": 35,
   "metadata": {
    "ExecuteTime": {
     "end_time": "2021-05-12T03:35:34.942228Z",
     "start_time": "2021-05-12T03:35:34.859746Z"
    },
    "hidden": true
   },
   "outputs": [],
   "source": [
    "L1_reg = models.Sequential()\n",
    "L1_reg.add(layers.Conv2D(32, (3, 3), kernel_regularizer=regularizers.l1(0.005), activation='relu', input_shape=(128,128,3)))\n",
    "L1_reg.add(layers.MaxPooling2D((2, 2)))\n",
    "\n",
    "L1_reg.add(layers.Conv2D(64, (3, 3), kernel_regularizer=regularizers.l1(0.005), activation='relu'))\n",
    "L1_reg.add(layers.MaxPooling2D((2, 2)))\n",
    "\n",
    "L1_reg.add(layers.Conv2D(128, (3, 3), kernel_regularizer=regularizers.l1(0.005), activation='relu'))\n",
    "L1_reg.add(layers.MaxPooling2D((2, 2)))\n",
    "\n",
    "L1_reg.add(layers.Flatten())\n",
    "L1_reg.add(layers.Dense(128, activation='relu'))\n",
    "L1_reg.add(layers.Dense(1, activation='sigmoid'))\n",
    "\n",
    "L1_reg.compile(optimizer='adam',\n",
    "               loss='binary_crossentropy',\n",
    "               metrics=['accuracy'])"
   ]
  },
  {
   "cell_type": "code",
   "execution_count": 36,
   "metadata": {
    "ExecuteTime": {
     "end_time": "2021-05-12T03:35:39.198796Z",
     "start_time": "2021-05-12T03:35:39.195758Z"
    },
    "hidden": true
   },
   "outputs": [],
   "source": [
    "es_L1 = [EarlyStopping(monitor='val_loss', mode='min', verbose=1, patience=6),\n",
    "         ModelCheckpoint(filepath='best_L1.h5', monitor='val_accuracy', \n",
    "                         mode='max', verbose=1, save_best_only=True)]"
   ]
  },
  {
   "cell_type": "code",
   "execution_count": 37,
   "metadata": {
    "ExecuteTime": {
     "end_time": "2021-05-12T03:41:54.616184Z",
     "start_time": "2021-05-12T03:35:40.940790Z"
    },
    "hidden": true
   },
   "outputs": [
    {
     "name": "stdout",
     "output_type": "stream",
     "text": [
      "Epoch 1/50\n",
      "163/163 [==============================] - 42s 257ms/step - loss: 7.1895 - accuracy: 0.7974 - val_loss: 0.8748 - val_accuracy: 0.7933\n",
      "\n",
      "Epoch 00001: val_accuracy improved from -inf to 0.79327, saving model to best_l1.h5\n",
      "Epoch 2/50\n",
      "163/163 [==============================] - 42s 260ms/step - loss: 0.4764 - accuracy: 0.9433 - val_loss: 1.1042 - val_accuracy: 0.7324\n",
      "\n",
      "Epoch 00002: val_accuracy did not improve from 0.79327\n",
      "Epoch 3/50\n",
      "163/163 [==============================] - 42s 259ms/step - loss: 0.2929 - accuracy: 0.9567 - val_loss: 0.6715 - val_accuracy: 0.8061\n",
      "\n",
      "Epoch 00003: val_accuracy improved from 0.79327 to 0.80609, saving model to best_l1.h5\n",
      "Epoch 4/50\n",
      "163/163 [==============================] - 43s 262ms/step - loss: 0.2433 - accuracy: 0.9591 - val_loss: 0.7095 - val_accuracy: 0.8045\n",
      "\n",
      "Epoch 00004: val_accuracy did not improve from 0.80609\n",
      "Epoch 5/50\n",
      "163/163 [==============================] - 43s 261ms/step - loss: 0.2138 - accuracy: 0.9612 - val_loss: 0.8114 - val_accuracy: 0.7756\n",
      "\n",
      "Epoch 00005: val_accuracy did not improve from 0.80609\n",
      "Epoch 6/50\n",
      "163/163 [==============================] - 40s 247ms/step - loss: 0.2022 - accuracy: 0.9632 - val_loss: 0.8931 - val_accuracy: 0.7692\n",
      "\n",
      "Epoch 00006: val_accuracy did not improve from 0.80609\n",
      "Epoch 7/50\n",
      "163/163 [==============================] - 41s 249ms/step - loss: 0.1816 - accuracy: 0.9725 - val_loss: 1.0246 - val_accuracy: 0.7548\n",
      "\n",
      "Epoch 00007: val_accuracy did not improve from 0.80609\n",
      "Epoch 8/50\n",
      "163/163 [==============================] - 40s 246ms/step - loss: 0.1715 - accuracy: 0.9737 - val_loss: 0.9116 - val_accuracy: 0.7548\n",
      "\n",
      "Epoch 00008: val_accuracy did not improve from 0.80609\n",
      "Epoch 9/50\n",
      "163/163 [==============================] - 40s 248ms/step - loss: 0.1681 - accuracy: 0.9718 - val_loss: 0.8870 - val_accuracy: 0.7853\n",
      "\n",
      "Epoch 00009: val_accuracy did not improve from 0.80609\n",
      "Epoch 00009: early stopping\n"
     ]
    }
   ],
   "source": [
    "L1_reg_history = L1_reg.fit(X_train, y_train,\n",
    "                            epochs=50,\n",
    "                            batch_size=32,\n",
    "                            callbacks=es_L1,\n",
    "                            validation_data=(X_test, y_test))"
   ]
  },
  {
   "cell_type": "code",
   "execution_count": 38,
   "metadata": {
    "ExecuteTime": {
     "end_time": "2021-05-12T03:43:05.410757Z",
     "start_time": "2021-05-12T03:43:05.150368Z"
    },
    "hidden": true
   },
   "outputs": [
    {
     "data": {
      "image/png": "[encoded data removed]",
      "text/plain": [
       "<Figure size 432x288 with 2 Axes>"
      ]
     },
     "metadata": {
      "needs_background": "light"
     },
     "output_type": "display_data"
    }
   ],
   "source": [
    "visualize_training_results(L1_reg_history)"
   ]
  },
  {
   "cell_type": "code",
   "execution_count": 40,
   "metadata": {
    "ExecuteTime": {
     "end_time": "2021-05-12T03:47:55.890912Z",
     "start_time": "2021-05-12T03:47:45.764489Z"
    },
    "hidden": true
   },
   "outputs": [
    {
     "name": "stdout",
     "output_type": "stream",
     "text": [
      "163/163 [==============================] - 10s 60ms/step - loss: 0.2634 - accuracy: 0.9515\n",
      "[0.26341795921325684, 0.9514954090118408]\n",
      "1/1 [==============================] - 0s 141ms/step - loss: 0.2833 - accuracy: 1.0000\n",
      "[0.28332796692848206, 1.0]\n"
     ]
    }
   ],
   "source": [
    "L1 = load_model('best_L1.h5')\n",
    "model_evaluation(L1)"
   ]
  },
  {
   "cell_type": "markdown",
   "metadata": {
    "heading_collapsed": true
   },
   "source": [
    "## L2 with padding"
   ]
  },
  {
   "cell_type": "code",
   "execution_count": 56,
   "metadata": {
    "ExecuteTime": {
     "end_time": "2021-05-12T01:31:24.561893Z",
     "start_time": "2021-05-12T01:31:24.475681Z"
    },
    "hidden": true
   },
   "outputs": [],
   "source": [
    "L2_padding = models.Sequential()\n",
    "L2_padding.add(layers.Conv2D(32, (3, 3), kernel_regularizer=regularizers.l2(0.005), padding='same',\n",
    "                             activation='relu', input_shape=(128,128,3)))\n",
    "L2_padding.add(layers.MaxPooling2D((2, 2)))\n",
    "\n",
    "L2_padding.add(layers.Conv2D(64, (3, 3), kernel_regularizer=regularizers.l2(0.005), padding='same',\n",
    "                             activation='relu'))\n",
    "L2_padding.add(layers.MaxPooling2D((2, 2)))\n",
    "\n",
    "L2_padding.add(layers.Conv2D(128, (3, 3), kernel_regularizer=regularizers.l2(0.005), padding='same',\n",
    "                             activation='relu'))\n",
    "L2_padding.add(layers.MaxPooling2D((2, 2)))\n",
    "\n",
    "L2_padding.add(layers.Flatten())\n",
    "L2_padding.add(layers.Dense(128, activation='relu'))\n",
    "L2_padding.add(layers.Dense(1, activation='sigmoid'))\n",
    "\n",
    "L2_padding.compile(optimizer='adam',\n",
    "                    loss='binary_crossentropy',\n",
    "                    metrics=['accuracy'])"
   ]
  },
  {
   "cell_type": "code",
   "execution_count": 57,
   "metadata": {
    "ExecuteTime": {
     "end_time": "2021-05-12T01:32:10.214506Z",
     "start_time": "2021-05-12T01:32:10.211214Z"
    },
    "hidden": true
   },
   "outputs": [],
   "source": [
    "es_L2_padding = [EarlyStopping(monitor='val_loss', mode='min', verbose=1, patience=6),\n",
    "                 ModelCheckpoint(filepath='best_L2_padding.h5', monitor='val_accuracy', \n",
    "                                 mode='max', verbose=1, save_best_only=True)]"
   ]
  },
  {
   "cell_type": "code",
   "execution_count": 58,
   "metadata": {
    "ExecuteTime": {
     "end_time": "2021-05-12T01:39:35.935197Z",
     "start_time": "2021-05-12T01:32:44.841103Z"
    },
    "hidden": true
   },
   "outputs": [
    {
     "name": "stdout",
     "output_type": "stream",
     "text": [
      "Epoch 1/50\n",
      "163/163 [==============================] - 48s 292ms/step - loss: 0.8055 - accuracy: 0.8425 - val_loss: 1.2219 - val_accuracy: 0.7083\n",
      "\n",
      "Epoch 00001: val_accuracy improved from -inf to 0.70833, saving model to best_l2_padding.h5\n",
      "Epoch 2/50\n",
      "163/163 [==============================] - 46s 283ms/step - loss: 0.2541 - accuracy: 0.9590 - val_loss: 1.4796 - val_accuracy: 0.7019\n",
      "\n",
      "Epoch 00002: val_accuracy did not improve from 0.70833\n",
      "Epoch 3/50\n",
      "163/163 [==============================] - 45s 275ms/step - loss: 0.1788 - accuracy: 0.9658 - val_loss: 0.7072 - val_accuracy: 0.8109\n",
      "\n",
      "Epoch 00003: val_accuracy improved from 0.70833 to 0.81090, saving model to best_l2_padding.h5\n",
      "Epoch 4/50\n",
      "163/163 [==============================] - 45s 276ms/step - loss: 0.1407 - accuracy: 0.9738 - val_loss: 0.9753 - val_accuracy: 0.7228\n",
      "\n",
      "Epoch 00004: val_accuracy did not improve from 0.81090\n",
      "Epoch 5/50\n",
      "163/163 [==============================] - 46s 283ms/step - loss: 0.1187 - accuracy: 0.9795 - val_loss: 0.7263 - val_accuracy: 0.7933\n",
      "\n",
      "Epoch 00005: val_accuracy did not improve from 0.81090\n",
      "Epoch 6/50\n",
      "163/163 [==============================] - 45s 276ms/step - loss: 0.1166 - accuracy: 0.9740 - val_loss: 1.4292 - val_accuracy: 0.6971\n",
      "\n",
      "Epoch 00006: val_accuracy did not improve from 0.81090\n",
      "Epoch 7/50\n",
      "163/163 [==============================] - 45s 276ms/step - loss: 0.1070 - accuracy: 0.9771 - val_loss: 1.0882 - val_accuracy: 0.7660\n",
      "\n",
      "Epoch 00007: val_accuracy did not improve from 0.81090\n",
      "Epoch 8/50\n",
      "163/163 [==============================] - 45s 279ms/step - loss: 0.0861 - accuracy: 0.9826 - val_loss: 1.2402 - val_accuracy: 0.7179\n",
      "\n",
      "Epoch 00008: val_accuracy did not improve from 0.81090\n",
      "Epoch 9/50\n",
      "163/163 [==============================] - 46s 279ms/step - loss: 0.0862 - accuracy: 0.9801 - val_loss: 1.4794 - val_accuracy: 0.7612\n",
      "\n",
      "Epoch 00009: val_accuracy did not improve from 0.81090\n",
      "Epoch 00009: early stopping\n"
     ]
    }
   ],
   "source": [
    "L2_padding_history = l2_padding.fit(X_train, y_train,\n",
    "                                epochs=50,\n",
    "                                batch_size=32,\n",
    "                                callbacks=es_L2_padding,\n",
    "                                validation_data=(X_test, y_test))"
   ]
  },
  {
   "cell_type": "code",
   "execution_count": 59,
   "metadata": {
    "ExecuteTime": {
     "end_time": "2021-05-12T01:41:21.112636Z",
     "start_time": "2021-05-12T01:41:20.838881Z"
    },
    "hidden": true
   },
   "outputs": [
    {
     "data": {
      "image/png": "[encoded data removed]",
      "text/plain": [
       "<Figure size 432x288 with 2 Axes>"
      ]
     },
     "metadata": {
      "needs_background": "light"
     },
     "output_type": "display_data"
    }
   ],
   "source": [
    "visualize_training_results(L2_padding_history)"
   ]
  },
  {
   "cell_type": "code",
   "execution_count": 60,
   "metadata": {
    "ExecuteTime": {
     "end_time": "2021-05-12T01:41:36.738356Z",
     "start_time": "2021-05-12T01:41:24.887212Z"
    },
    "hidden": true
   },
   "outputs": [
    {
     "name": "stdout",
     "output_type": "stream",
     "text": [
      "163/163 [==============================] - 12s 70ms/step - loss: 0.1642 - accuracy: 0.9653\n",
      "[0.1642114669084549, 0.9652990698814392]\n",
      "1/1 [==============================] - 0s 144ms/step - loss: 0.2222 - accuracy: 0.9375\n",
      "[0.22216513752937317, 0.9375]\n"
     ]
    }
   ],
   "source": [
    "L2_pad = load_model('best_L2_padding.h5')\n",
    "model_evaluation(L2_pad)"
   ]
  },
  {
   "cell_type": "markdown",
   "metadata": {
    "heading_collapsed": true
   },
   "source": [
    "## he_init"
   ]
  },
  {
   "cell_type": "code",
   "execution_count": 63,
   "metadata": {
    "ExecuteTime": {
     "end_time": "2021-05-12T01:51:44.774884Z",
     "start_time": "2021-05-12T01:51:44.692276Z"
    },
    "hidden": true
   },
   "outputs": [],
   "source": [
    "he_init = models.Sequential()\n",
    "he_init.add(layers.Conv2D(32, (3, 3), kernel_initializer='he_normal', activation='relu', input_shape=(128,128,3)))\n",
    "he_init.add(layers.MaxPooling2D((2, 2)))\n",
    "\n",
    "he_init.add(layers.Conv2D(64, (3, 3), kernel_initializer='he_normal', activation='relu'))\n",
    "he_init.add(layers.MaxPooling2D((2, 2)))\n",
    "\n",
    "he_init.add(layers.Conv2D(128, (3, 3), kernel_initializer='he_normal', activation='relu'))\n",
    "he_init.add(layers.MaxPooling2D((2, 2)))\n",
    "\n",
    "he_init.add(layers.Flatten())\n",
    "he_init.add(layers.Dense(128, activation='relu'))\n",
    "he_init.add(layers.Dense(1, activation='sigmoid'))\n",
    "\n",
    "he_init.compile(optimizer='adam',\n",
    "                    loss='binary_crossentropy',\n",
    "                    metrics=['accuracy'])"
   ]
  },
  {
   "cell_type": "code",
   "execution_count": 64,
   "metadata": {
    "ExecuteTime": {
     "end_time": "2021-05-12T01:52:02.444620Z",
     "start_time": "2021-05-12T01:52:02.441425Z"
    },
    "hidden": true
   },
   "outputs": [],
   "source": [
    "es_he = [EarlyStopping(monitor='val_loss', mode='min', verbose=1, patience=6),\n",
    "                    ModelCheckpoint(filepath='best_he.h5', monitor='val_accuracy', \n",
    "                                    mode='max', verbose=1, save_best_only=True)]"
   ]
  },
  {
   "cell_type": "code",
   "execution_count": 65,
   "metadata": {
    "ExecuteTime": {
     "end_time": "2021-05-12T01:58:16.422725Z",
     "start_time": "2021-05-12T01:52:32.996539Z"
    },
    "hidden": true
   },
   "outputs": [
    {
     "name": "stdout",
     "output_type": "stream",
     "text": [
      "Epoch 1/50\n",
      "163/163 [==============================] - 44s 270ms/step - loss: 0.8117 - accuracy: 0.8069 - val_loss: 1.0555 - val_accuracy: 0.7436\n",
      "\n",
      "Epoch 00001: val_accuracy improved from -inf to 0.74359, saving model to best_he.h5\n",
      "Epoch 2/50\n",
      "163/163 [==============================] - 42s 259ms/step - loss: 0.0851 - accuracy: 0.9719 - val_loss: 0.9862 - val_accuracy: 0.7532\n",
      "\n",
      "Epoch 00002: val_accuracy improved from 0.74359 to 0.75321, saving model to best_he.h5\n",
      "Epoch 3/50\n",
      "163/163 [==============================] - 42s 258ms/step - loss: 0.0741 - accuracy: 0.9723 - val_loss: 1.6548 - val_accuracy: 0.6987\n",
      "\n",
      "Epoch 00003: val_accuracy did not improve from 0.75321\n",
      "Epoch 4/50\n",
      "163/163 [==============================] - 43s 261ms/step - loss: 0.0553 - accuracy: 0.9796 - val_loss: 1.0816 - val_accuracy: 0.7676\n",
      "\n",
      "Epoch 00004: val_accuracy improved from 0.75321 to 0.76763, saving model to best_he.h5\n",
      "Epoch 5/50\n",
      "163/163 [==============================] - 43s 262ms/step - loss: 0.0421 - accuracy: 0.9824 - val_loss: 1.5699 - val_accuracy: 0.7212\n",
      "\n",
      "Epoch 00005: val_accuracy did not improve from 0.76763\n",
      "Epoch 6/50\n",
      "163/163 [==============================] - 43s 266ms/step - loss: 0.0372 - accuracy: 0.9854 - val_loss: 1.4686 - val_accuracy: 0.7676\n",
      "\n",
      "Epoch 00006: val_accuracy did not improve from 0.76763\n",
      "Epoch 7/50\n",
      "163/163 [==============================] - 43s 264ms/step - loss: 0.0237 - accuracy: 0.9910 - val_loss: 1.3647 - val_accuracy: 0.7548\n",
      "\n",
      "Epoch 00007: val_accuracy did not improve from 0.76763\n",
      "Epoch 8/50\n",
      "163/163 [==============================] - 43s 264ms/step - loss: 0.0221 - accuracy: 0.9919 - val_loss: 1.7918 - val_accuracy: 0.7484\n",
      "\n",
      "Epoch 00008: val_accuracy did not improve from 0.76763\n",
      "Epoch 00008: early stopping\n"
     ]
    }
   ],
   "source": [
    "he_init_history = he_init.fit(X_train, y_train,\n",
    "                                epochs=50,\n",
    "                                batch_size=32,\n",
    "                                callbacks=es_he,\n",
    "                                validation_data=(X_test, y_test))"
   ]
  },
  {
   "cell_type": "code",
   "execution_count": 66,
   "metadata": {
    "ExecuteTime": {
     "end_time": "2021-05-12T01:59:08.462316Z",
     "start_time": "2021-05-12T01:59:08.191881Z"
    },
    "hidden": true
   },
   "outputs": [
    {
     "data": {
      "image/png": "[encoded data removed]",
      "text/plain": [
       "<Figure size 432x288 with 2 Axes>"
      ]
     },
     "metadata": {
      "needs_background": "light"
     },
     "output_type": "display_data"
    }
   ],
   "source": [
    "visualize_training_results(he_init_history)"
   ]
  },
  {
   "cell_type": "code",
   "execution_count": 67,
   "metadata": {
    "ExecuteTime": {
     "end_time": "2021-05-12T01:59:22.549881Z",
     "start_time": "2021-05-12T01:59:11.644441Z"
    },
    "hidden": true
   },
   "outputs": [
    {
     "name": "stdout",
     "output_type": "stream",
     "text": [
      "163/163 [==============================] - 11s 64ms/step - loss: 0.0359 - accuracy: 0.9870\n",
      "[0.035867590457201004, 0.9869632124900818]\n",
      "1/1 [==============================] - 0s 141ms/step - loss: 0.0882 - accuracy: 1.0000\n",
      "[0.08821989595890045, 1.0]\n"
     ]
    }
   ],
   "source": [
    "he = load_model('best_he.h5')\n",
    "model_evaluation(he)"
   ]
  },
  {
   "cell_type": "markdown",
   "metadata": {
    "heading_collapsed": true
   },
   "source": [
    "## Lecun_init"
   ]
  },
  {
   "cell_type": "code",
   "execution_count": 68,
   "metadata": {
    "ExecuteTime": {
     "end_time": "2021-05-12T02:02:07.040276Z",
     "start_time": "2021-05-12T02:02:06.962025Z"
    },
    "hidden": true
   },
   "outputs": [],
   "source": [
    "lecun_init = models.Sequential()\n",
    "lecun_init.add(layers.Conv2D(32, (3, 3), kernel_initializer='lecun_normal', activation='relu', input_shape=(128,128,3)))\n",
    "lecun_init.add(layers.MaxPooling2D((2, 2)))\n",
    "\n",
    "lecun_init.add(layers.Conv2D(64, (3, 3), kernel_initializer='lecun_normal', activation='relu'))\n",
    "lecun_init.add(layers.MaxPooling2D((2, 2)))\n",
    "\n",
    "lecun_init.add(layers.Conv2D(128, (3, 3), kernel_initializer='lecun_normal', activation='relu'))\n",
    "lecun_init.add(layers.MaxPooling2D((2, 2)))\n",
    "\n",
    "lecun_init.add(layers.Flatten())\n",
    "lecun_init.add(layers.Dense(128, activation='relu'))\n",
    "lecun_init.add(layers.Dense(1, activation='sigmoid'))\n",
    "\n",
    "lecun_init.compile(optimizer='adam',\n",
    "                    loss='binary_crossentropy',\n",
    "                    metrics=['accuracy'])"
   ]
  },
  {
   "cell_type": "code",
   "execution_count": 69,
   "metadata": {
    "ExecuteTime": {
     "end_time": "2021-05-12T02:02:24.383543Z",
     "start_time": "2021-05-12T02:02:24.380552Z"
    },
    "hidden": true
   },
   "outputs": [],
   "source": [
    "es_lecun = [EarlyStopping(monitor='val_loss', mode='min', verbose=1, patience=6),\n",
    "                    ModelCheckpoint(filepath='best_lecun.h5', monitor='val_accuracy', \n",
    "                                    mode='max', verbose=1, save_best_only=True)]"
   ]
  },
  {
   "cell_type": "code",
   "execution_count": 70,
   "metadata": {
    "ExecuteTime": {
     "end_time": "2021-05-12T02:07:48.381115Z",
     "start_time": "2021-05-12T02:02:47.658911Z"
    },
    "hidden": true
   },
   "outputs": [
    {
     "name": "stdout",
     "output_type": "stream",
     "text": [
      "Epoch 1/50\n",
      "163/163 [==============================] - 45s 273ms/step - loss: 0.5458 - accuracy: 0.8256 - val_loss: 0.5165 - val_accuracy: 0.7965\n",
      "\n",
      "Epoch 00001: val_accuracy improved from -inf to 0.79647, saving model to best_lecun.h5\n",
      "Epoch 2/50\n",
      "163/163 [==============================] - 46s 280ms/step - loss: 0.1056 - accuracy: 0.9610 - val_loss: 0.6939 - val_accuracy: 0.7917\n",
      "\n",
      "Epoch 00002: val_accuracy did not improve from 0.79647\n",
      "Epoch 3/50\n",
      "163/163 [==============================] - 42s 257ms/step - loss: 0.0740 - accuracy: 0.9693 - val_loss: 1.2661 - val_accuracy: 0.7676\n",
      "\n",
      "Epoch 00003: val_accuracy did not improve from 0.79647\n",
      "Epoch 4/50\n",
      "163/163 [==============================] - 42s 255ms/step - loss: 0.0688 - accuracy: 0.9727 - val_loss: 0.9297 - val_accuracy: 0.7276\n",
      "\n",
      "Epoch 00004: val_accuracy did not improve from 0.79647\n",
      "Epoch 5/50\n",
      "163/163 [==============================] - 42s 256ms/step - loss: 0.0737 - accuracy: 0.9747 - val_loss: 0.8173 - val_accuracy: 0.8077\n",
      "\n",
      "Epoch 00005: val_accuracy improved from 0.79647 to 0.80769, saving model to best_lecun.h5\n",
      "Epoch 6/50\n",
      "163/163 [==============================] - 42s 260ms/step - loss: 0.0384 - accuracy: 0.9835 - val_loss: 1.3229 - val_accuracy: 0.7308\n",
      "\n",
      "Epoch 00006: val_accuracy did not improve from 0.80769\n",
      "Epoch 7/50\n",
      "163/163 [==============================] - 42s 260ms/step - loss: 0.0361 - accuracy: 0.9870 - val_loss: 1.5214 - val_accuracy: 0.7388\n",
      "\n",
      "Epoch 00007: val_accuracy did not improve from 0.80769\n",
      "Epoch 00007: early stopping\n"
     ]
    }
   ],
   "source": [
    "lecun_init_history = lecun_init.fit(X_train, y_train,\n",
    "                                epochs=50,\n",
    "                                batch_size=32,\n",
    "                                callbacks=es_lecun,\n",
    "                                validation_data=(X_test, y_test))"
   ]
  },
  {
   "cell_type": "code",
   "execution_count": 71,
   "metadata": {
    "ExecuteTime": {
     "end_time": "2021-05-12T02:08:00.748423Z",
     "start_time": "2021-05-12T02:08:00.485055Z"
    },
    "hidden": true,
    "scrolled": true
   },
   "outputs": [
    {
     "data": {
      "image/png": "[encoded data removed]",
      "text/plain": [
       "<Figure size 432x288 with 2 Axes>"
      ]
     },
     "metadata": {
      "needs_background": "light"
     },
     "output_type": "display_data"
    }
   ],
   "source": [
    "visualize_training_results(lecun_init_history)"
   ]
  },
  {
   "cell_type": "code",
   "execution_count": 72,
   "metadata": {
    "ExecuteTime": {
     "end_time": "2021-05-12T02:08:15.883544Z",
     "start_time": "2021-05-12T02:08:04.850415Z"
    },
    "hidden": true
   },
   "outputs": [
    {
     "name": "stdout",
     "output_type": "stream",
     "text": [
      "163/163 [==============================] - 11s 65ms/step - loss: 0.0518 - accuracy: 0.9812\n",
      "[0.05178162455558777, 0.9812116622924805]\n",
      "1/1 [==============================] - 0s 129ms/step - loss: 0.1005 - accuracy: 0.9375\n",
      "[0.10053324699401855, 0.9375]\n"
     ]
    }
   ],
   "source": [
    "lecun = load_model('best_lecun.h5')\n",
    "model_evaluation(lecun)"
   ]
  }
 ],
 "metadata": {
  "kernelspec": {
   "display_name": "Python 3",
   "language": "python",
   "name": "python3"
  },
  "language_info": {
   "codemirror_mode": {
    "name": "ipython",
    "version": 3
   },
   "file_extension": ".py",
   "mimetype": "text/x-python",
   "name": "python",
   "nbconvert_exporter": "python",
   "pygments_lexer": "ipython3",
   "version": "3.6.9"
  },
  "toc": {
   "base_numbering": 1,
   "nav_menu": {},
   "number_sections": true,
   "sideBar": true,
   "skip_h1_title": false,
   "title_cell": "Table of Contents",
   "title_sidebar": "Contents",
   "toc_cell": false,
   "toc_position": {},
   "toc_section_display": true,
   "toc_window_display": true
  }
 },
 "nbformat": 4,
 "nbformat_minor": 4
}
