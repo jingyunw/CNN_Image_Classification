{
 "cells": [
  {
   "cell_type": "markdown",
   "metadata": {},
   "source": [
    "# Pneumonia Detection from Chest X-ray through Deep Learning"
   ]
  },
  {
   "cell_type": "markdown",
   "metadata": {},
   "source": [
    "## I. Overview"
   ]
  },
  {
   "cell_type": "markdown",
   "metadata": {},
   "source": [
    "## II. Business Problem"
   ]
  },
  {
   "cell_type": "markdown",
   "metadata": {},
   "source": [
    "## III. Data Understanding and Preparation\n",
    "- The datasets acquired from [Kaggle](https://www.kaggle.com/paultimothymooney/chest-xray-pneumonia) were downloaded in a \"chest_xray\" folder. This folder has 3 sub-folders inside which are \"train\", \"test\", and \"val\". Each sub-folder contains 2 sub-folders: \"NORMAL\" and \"PNEUMONIA\""
   ]
  },
  {
   "cell_type": "code",
   "execution_count": 1,
   "metadata": {
    "ExecuteTime": {
     "end_time": "2021-05-14T04:38:49.935441Z",
     "start_time": "2021-05-14T04:38:48.538633Z"
    }
   },
   "outputs": [],
   "source": [
    "import os\n",
    "\n",
    "import pandas as pd\n",
    "import numpy as np\n",
    "# Set for displaying prediction probability for later\n",
    "np.set_printoptions(precision=6, suppress=True)  # if absolute value < 1e-4, set equal to 0\n",
    "\n",
    "import matplotlib.pyplot as plt\n",
    "%matplotlib inline\n",
    "import seaborn as sns"
   ]
  },
  {
   "cell_type": "code",
   "execution_count": 2,
   "metadata": {
    "ExecuteTime": {
     "end_time": "2021-05-14T04:38:53.282771Z",
     "start_time": "2021-05-14T04:38:49.937045Z"
    }
   },
   "outputs": [],
   "source": [
    "from tensorflow import random\n",
    "random.set_seed(24)\n",
    "from tensorflow.keras.preprocessing.image import ImageDataGenerator, array_to_img, img_to_array, load_img\n",
    "\n",
    "from tensorflow.keras import models\n",
    "from tensorflow.keras import layers\n",
    "from tensorflow.keras import regularizers\n",
    "from tensorflow.keras import optimizers\n",
    "\n",
    "from tensorflow.keras.callbacks import EarlyStopping, ModelCheckpoint\n",
    "\n",
    "from tensorflow.keras.models import load_model\n",
    "\n",
    "from sklearn.metrics import confusion_matrix"
   ]
  },
  {
   "cell_type": "code",
   "execution_count": 3,
   "metadata": {
    "ExecuteTime": {
     "end_time": "2021-05-14T04:38:53.336516Z",
     "start_time": "2021-05-14T04:38:53.285012Z"
    }
   },
   "outputs": [
    {
     "name": "stdout",
     "output_type": "stream",
     "text": [
      "Train Normal: 1341\n",
      "Train Pneumonia: 3875\n",
      "Train Total: 5216\n",
      "\n",
      "Test Normal: 234\n",
      "Test Pneumonia: 390\n",
      "Test Total: 624\n",
      "\n",
      "Val Normal: 8\n",
      "Val Pneumonia: 8\n",
      "Val Total: 16\n"
     ]
    }
   ],
   "source": [
    "# Check the number of images in each sub-folders\n",
    "\n",
    "# Train\n",
    "train_normal = 'chest_xray/train/NORMAL'\n",
    "train_pneumonia = 'chest_xray/train/PNEUMONIA'\n",
    "\n",
    "print(\"Train Normal:\", len(os.listdir(train_normal)))\n",
    "print(\"Train Pneumonia:\", len(os.listdir(train_pneumonia)))\n",
    "print(\"Train Total:\", len(os.listdir(train_normal)) + len(os.listdir(train_pneumonia)))\n",
    "\n",
    "# Test\n",
    "test_normal = 'chest_xray/test/NORMAL'\n",
    "test_pneumonia = 'chest_xray/test/PNEUMONIA'\n",
    "\n",
    "print(\"\\nTest Normal:\", len(os.listdir(test_normal)))\n",
    "print(\"Test Pneumonia:\", len(os.listdir(test_pneumonia)))\n",
    "print(\"Test Total:\", len(os.listdir(test_normal)) + len(os.listdir(test_pneumonia)))\n",
    "\n",
    "# Validation\n",
    "val_normal = 'chest_xray/val/NORMAL'\n",
    "val_pneumonia = 'chest_xray/val/PNEUMONIA'\n",
    "\n",
    "print(\"\\nVal Normal:\", len(os.listdir(val_normal)))\n",
    "print(\"Val Pneumonia:\", len(os.listdir(val_pneumonia)))\n",
    "print(\"Val Total:\", len(os.listdir(val_normal)) + len(os.listdir(val_pneumonia)))"
   ]
  },
  {
   "cell_type": "code",
   "execution_count": 4,
   "metadata": {
    "ExecuteTime": {
     "end_time": "2021-05-14T04:38:53.340911Z",
     "start_time": "2021-05-14T04:38:53.338585Z"
    }
   },
   "outputs": [],
   "source": [
    "# Create file directory\n",
    "train_dir = 'chest_xray/train'\n",
    "test_dir = 'chest_xray/test'\n",
    "val_dir = 'chest_xray/val'"
   ]
  },
  {
   "cell_type": "code",
   "execution_count": 5,
   "metadata": {
    "ExecuteTime": {
     "end_time": "2021-05-14T04:38:53.882145Z",
     "start_time": "2021-05-14T04:38:53.342608Z"
    }
   },
   "outputs": [
    {
     "name": "stdout",
     "output_type": "stream",
     "text": [
      "Found 5216 images belonging to 2 classes.\n",
      "Found 624 images belonging to 2 classes.\n",
      "Found 16 images belonging to 2 classes.\n"
     ]
    }
   ],
   "source": [
    "# Create data generator\n",
    "# Get all the train data (5216), test data (624), validation data (16) in the corresponding directory\n",
    "# Scale data\n",
    "# Set each image to 128×128 px\n",
    "# Set binary class mode\n",
    "\n",
    "train_generator = ImageDataGenerator(rescale=1./255)\\\n",
    "                  .flow_from_directory(train_dir, target_size=(128,128), batch_size=5216, class_mode='binary')\n",
    "\n",
    "test_generator = ImageDataGenerator(rescale=1./255)\\\n",
    "                 .flow_from_directory(test_dir, target_size=(128,128), batch_size=624, class_mode='binary') \n",
    "\n",
    "val_generator = ImageDataGenerator(rescale=1./255)\\\n",
    "                .flow_from_directory(val_dir, target_size=(128,128), batch_size=16, class_mode='binary') "
   ]
  },
  {
   "cell_type": "code",
   "execution_count": 6,
   "metadata": {
    "ExecuteTime": {
     "end_time": "2021-05-14T04:39:42.657729Z",
     "start_time": "2021-05-14T04:38:53.885001Z"
    },
    "scrolled": true
   },
   "outputs": [],
   "source": [
    "# Create the data sets\n",
    "# next - retrieve the next item from iterator\n",
    "X_train, y_train = next(train_generator)\n",
    "X_test, y_test = next(test_generator)\n",
    "X_val, y_val = next(val_generator)"
   ]
  },
  {
   "cell_type": "code",
   "execution_count": 7,
   "metadata": {
    "ExecuteTime": {
     "end_time": "2021-05-14T04:39:42.663581Z",
     "start_time": "2021-05-14T04:39:42.659501Z"
    }
   },
   "outputs": [
    {
     "name": "stdout",
     "output_type": "stream",
     "text": [
      "X_train shape: (5216, 128, 128, 3)\n",
      "y_train shape: (5216,)\n",
      "\n",
      "X_test shape: (624, 128, 128, 3)\n",
      "y_test shape: (624,)\n",
      "\n",
      "X_val shape: (16, 128, 128, 3)\n",
      "y_val shape: (16,)\n"
     ]
    }
   ],
   "source": [
    "# Check the shape\n",
    "print (\"X_train shape: \" + str(X_train.shape))\n",
    "print (\"y_train shape: \" + str(y_train.shape))\n",
    "\n",
    "print (\"\\nX_test shape: \" + str(X_test.shape))\n",
    "print (\"y_test shape: \" + str(y_test.shape))\n",
    "\n",
    "print (\"\\nX_val shape: \" + str(X_val.shape))\n",
    "print (\"y_val shape: \" + str(y_val.shape))"
   ]
  },
  {
   "cell_type": "code",
   "execution_count": 8,
   "metadata": {
    "ExecuteTime": {
     "end_time": "2021-05-14T04:39:42.670815Z",
     "start_time": "2021-05-14T04:39:42.666851Z"
    }
   },
   "outputs": [
    {
     "data": {
      "text/plain": [
       "{'NORMAL': 0, 'PNEUMONIA': 1}"
      ]
     },
     "execution_count": 8,
     "metadata": {},
     "output_type": "execute_result"
    }
   ],
   "source": [
    "# Check if the binary indicator was correctly labeled\n",
    "train_generator.class_indices"
   ]
  },
  {
   "cell_type": "code",
   "execution_count": 9,
   "metadata": {
    "ExecuteTime": {
     "end_time": "2021-05-14T04:39:42.978637Z",
     "start_time": "2021-05-14T04:39:42.672321Z"
    }
   },
   "outputs": [
    {
     "data": {
      "image/png": "[encoded data removed]",
      "text/plain": [
       "<Figure size 720x720 with 2 Axes>"
      ]
     },
     "metadata": {
      "needs_background": "light"
     },
     "output_type": "display_data"
    }
   ],
   "source": [
    "# Preview the chest x-ray\n",
    "fig = plt.figure(figsize=(10,10))\n",
    "\n",
    "# Normal\n",
    "ax1 = fig.add_subplot(121)\n",
    "plt.imshow(X_val[3])\n",
    "if y_val[3] == 1:\n",
    "    plt.title(\"Pneumonia\")\n",
    "else:\n",
    "    plt.title(\"Normal\")\n",
    "\n",
    "# Pneumonia        \n",
    "ax2 = fig.add_subplot(122)\n",
    "plt.imshow(X_val[1])\n",
    "if y_val[1] == 1:\n",
    "    plt.title(\"Pneumonia\")\n",
    "else:\n",
    "    plt.title(\"Normal\")"
   ]
  },
  {
   "cell_type": "code",
   "execution_count": 10,
   "metadata": {
    "ExecuteTime": {
     "end_time": "2021-05-14T04:39:42.987204Z",
     "start_time": "2021-05-14T04:39:42.980454Z"
    }
   },
   "outputs": [],
   "source": [
    "def visualize_training_results(history):\n",
    "    '''\n",
    "    Input: keras history object \n",
    "    \n",
    "    '''\n",
    "    \n",
    "    fig, (ax1, ax2) = plt.subplots(2, sharex=True)\n",
    "    fig.suptitle('Model Results')\n",
    "\n",
    "    # summarize history for accuracy\n",
    "    ax1.plot(history.history['accuracy'])\n",
    "    ax1.plot(history.history['val_accuracy'])\n",
    "    ax1.set_ylabel('Accuracy')\n",
    "    ax1.legend(['train', 'test'], loc='upper left')\n",
    "    \n",
    "    # summarize history for loss\n",
    "    ax2.plot(history.history['loss'])\n",
    "    ax2.plot(history.history['val_loss'])\n",
    "    ax2.set_ylabel('Loss')\n",
    "    ax2.legend(['train', 'test'], loc='upper left')\n",
    "    \n",
    "    plt.xlabel('Epoch')\n",
    "    plt.show()"
   ]
  },
  {
   "cell_type": "code",
   "execution_count": 11,
   "metadata": {
    "ExecuteTime": {
     "end_time": "2021-05-14T04:39:43.000259Z",
     "start_time": "2021-05-14T04:39:42.988720Z"
    }
   },
   "outputs": [],
   "source": [
    "def model_evaluation(model):\n",
    "    '''\n",
    "    Input: keras model\n",
    "    \n",
    "    Append accuracy results\n",
    "    \n",
    "    Plot confusion matrix\n",
    "    '''\n",
    "    \n",
    "    train_acc = []\n",
    "    test_acc = []\n",
    "    \n",
    "    # Train loss and accuracy\n",
    "    result_train = model.evaluate(X_train, y_train)\n",
    "    print(f'Training Loss:{result_train[0]:.4}')\n",
    "    print(f'Training Accuracy:{result_train[1]:.4}')\n",
    "    train_acc.append(round(result_train[1], 4))\n",
    "    \n",
    "    # Test loss and accuracy\n",
    "    result_test = model.evaluate(X_test, y_test)\n",
    "    print(f'Test Loss:{result_test[0]:.4}')\n",
    "    print(f'Test Accuracy:{result_test[1]:.4}')\n",
    "    test_acc.append(round(result_test[1], 4))\n",
    "    \n",
    "    # Prediction\n",
    "    y_test_pred = (model.predict(X_test) > 0.5).astype(\"int32\")\n",
    "    \n",
    "    # Plot confusion matrix\n",
    "    cm = confusion_matrix(y_test, y_test_pred)\n",
    "    ax = sns.heatmap(cm, annot=True, cmap='Blues', fmt='d')\n",
    "    ax.set_ylim(2,0)\n",
    "    plt.xlabel('Predictions')\n",
    "    plt.ylabel('Actuals')\n",
    "    plt.show()\n",
    "    \n",
    "    return train_acc, test_acc"
   ]
  },
  {
   "cell_type": "markdown",
   "metadata": {},
   "source": [
    "### Note:\n",
    "- Since the <u>*validation set*</u> contains much less data than the <u>*test set*</u>, I will use the <u>*test set*</u> as my validation during the model fit step\n",
    "- <u>*validation set*</u> will be used as true holdout which only use at the end \n",
    "\n",
    "### Problem of small validation set\n",
    "- If the validation set contains much less data than training set, the validation curves (accuracy and loss) will be spiky before convergence. In other words, more epochs and longer training time will be required"
   ]
  },
  {
   "cell_type": "markdown",
   "metadata": {},
   "source": [
    "## IV. Modeling"
   ]
  },
  {
   "cell_type": "markdown",
   "metadata": {},
   "source": [
    "### CNN Baseline Model"
   ]
  },
  {
   "cell_type": "code",
   "execution_count": 12,
   "metadata": {
    "ExecuteTime": {
     "end_time": "2021-05-13T23:28:07.696452Z",
     "start_time": "2021-05-13T23:28:07.595950Z"
    }
   },
   "outputs": [],
   "source": [
    "base_model = models.Sequential()\n",
    "base_model.add(layers.Conv2D(32, (3, 3), activation='relu', input_shape=X_train.shape[1:]))\n",
    "base_model.add(layers.MaxPooling2D((2, 2)))\n",
    "\n",
    "base_model.add(layers.Conv2D(64, (3, 3), activation='relu'))\n",
    "base_model.add(layers.MaxPooling2D((2, 2)))\n",
    "\n",
    "base_model.add(layers.Conv2D(128, (3, 3), activation='relu'))\n",
    "base_model.add(layers.MaxPooling2D((2, 2)))\n",
    "\n",
    "base_model.add(layers.Flatten())\n",
    "base_model.add(layers.Dense(128, activation='relu'))\n",
    "base_model.add(layers.Dense(1, activation='sigmoid'))\n",
    "\n",
    "base_model.compile(optimizer='adam',\n",
    "                   loss='binary_crossentropy',\n",
    "                   metrics=['accuracy'])"
   ]
  },
  {
   "cell_type": "code",
   "execution_count": 13,
   "metadata": {
    "ExecuteTime": {
     "end_time": "2021-05-14T00:27:53.313068Z",
     "start_time": "2021-05-13T23:28:07.698384Z"
    },
    "scrolled": false
   },
   "outputs": [
    {
     "name": "stdout",
     "output_type": "stream",
     "text": [
      "Epoch 1/50\n",
      "163/163 [==============================] - 44s 267ms/step - loss: 0.4309 - accuracy: 0.8076 - val_loss: 1.0070 - val_accuracy: 0.6955\n",
      "Epoch 2/50\n",
      "163/163 [==============================] - 42s 259ms/step - loss: 0.0984 - accuracy: 0.9634 - val_loss: 0.6370 - val_accuracy: 0.7788\n",
      "Epoch 3/50\n",
      "163/163 [==============================] - 42s 260ms/step - loss: 0.0815 - accuracy: 0.9737 - val_loss: 0.7579 - val_accuracy: 0.7788\n",
      "Epoch 4/50\n",
      "163/163 [==============================] - 42s 259ms/step - loss: 0.0730 - accuracy: 0.9707 - val_loss: 1.4351 - val_accuracy: 0.6955\n",
      "Epoch 5/50\n",
      "163/163 [==============================] - 42s 260ms/step - loss: 0.0738 - accuracy: 0.9740 - val_loss: 0.9536 - val_accuracy: 0.7788\n",
      "Epoch 6/50\n",
      "163/163 [==============================] - 42s 259ms/step - loss: 0.0471 - accuracy: 0.9833 - val_loss: 1.5497 - val_accuracy: 0.7308\n",
      "Epoch 7/50\n",
      "163/163 [==============================] - 42s 259ms/step - loss: 0.0390 - accuracy: 0.9855 - val_loss: 2.0710 - val_accuracy: 0.7067\n",
      "Epoch 8/50\n",
      "163/163 [==============================] - 43s 262ms/step - loss: 0.0407 - accuracy: 0.9831 - val_loss: 1.4931 - val_accuracy: 0.7420\n",
      "Epoch 9/50\n",
      "163/163 [==============================] - 43s 262ms/step - loss: 0.0235 - accuracy: 0.9920 - val_loss: 2.0459 - val_accuracy: 0.7324\n",
      "Epoch 10/50\n",
      "163/163 [==============================] - 43s 263ms/step - loss: 0.0176 - accuracy: 0.9943 - val_loss: 2.3164 - val_accuracy: 0.7372\n",
      "Epoch 11/50\n",
      "163/163 [==============================] - 43s 262ms/step - loss: 0.0160 - accuracy: 0.9945 - val_loss: 1.9299 - val_accuracy: 0.7788\n",
      "Epoch 12/50\n",
      "163/163 [==============================] - 43s 263ms/step - loss: 0.0143 - accuracy: 0.9959 - val_loss: 1.8807 - val_accuracy: 0.7596\n",
      "Epoch 13/50\n",
      "163/163 [==============================] - 43s 263ms/step - loss: 0.0125 - accuracy: 0.9958 - val_loss: 2.8677 - val_accuracy: 0.7404\n",
      "Epoch 14/50\n",
      "163/163 [==============================] - 43s 262ms/step - loss: 0.0159 - accuracy: 0.9950 - val_loss: 3.9766 - val_accuracy: 0.7292\n",
      "Epoch 15/50\n",
      "163/163 [==============================] - 43s 262ms/step - loss: 0.0233 - accuracy: 0.9923 - val_loss: 2.1110 - val_accuracy: 0.7644\n",
      "Epoch 16/50\n",
      "163/163 [==============================] - 707s 4s/step - loss: 0.0050 - accuracy: 0.9979 - val_loss: 2.0386 - val_accuracy: 0.7708\n",
      "Epoch 17/50\n",
      "163/163 [==============================] - 42s 259ms/step - loss: 0.0052 - accuracy: 0.9981 - val_loss: 2.3234 - val_accuracy: 0.7853\n",
      "Epoch 18/50\n",
      "163/163 [==============================] - 42s 259ms/step - loss: 0.0066 - accuracy: 0.9972 - val_loss: 3.9806 - val_accuracy: 0.7276\n",
      "Epoch 19/50\n",
      "163/163 [==============================] - 42s 259ms/step - loss: 0.0032 - accuracy: 0.9987 - val_loss: 3.7439 - val_accuracy: 0.7516\n",
      "Epoch 20/50\n",
      "163/163 [==============================] - 42s 259ms/step - loss: 5.1137e-04 - accuracy: 1.0000 - val_loss: 3.4938 - val_accuracy: 0.7596\n",
      "Epoch 21/50\n",
      "163/163 [==============================] - 42s 259ms/step - loss: 6.9805e-05 - accuracy: 1.0000 - val_loss: 3.6431 - val_accuracy: 0.7564\n",
      "Epoch 22/50\n",
      "163/163 [==============================] - 42s 260ms/step - loss: 4.5422e-05 - accuracy: 1.0000 - val_loss: 3.7115 - val_accuracy: 0.7580\n",
      "Epoch 23/50\n",
      "163/163 [==============================] - 42s 258ms/step - loss: 3.8860e-05 - accuracy: 1.0000 - val_loss: 3.8646 - val_accuracy: 0.7580\n",
      "Epoch 24/50\n",
      "163/163 [==============================] - 42s 259ms/step - loss: 2.6164e-05 - accuracy: 1.0000 - val_loss: 3.9748 - val_accuracy: 0.7548\n",
      "Epoch 25/50\n",
      "163/163 [==============================] - 42s 260ms/step - loss: 2.7054e-05 - accuracy: 1.0000 - val_loss: 4.0059 - val_accuracy: 0.7580\n",
      "Epoch 26/50\n",
      "163/163 [==============================] - 42s 259ms/step - loss: 2.0599e-05 - accuracy: 1.0000 - val_loss: 4.0661 - val_accuracy: 0.7580\n",
      "Epoch 27/50\n",
      "163/163 [==============================] - 42s 259ms/step - loss: 1.8598e-05 - accuracy: 1.0000 - val_loss: 4.1413 - val_accuracy: 0.7564\n",
      "Epoch 28/50\n",
      "163/163 [==============================] - 42s 259ms/step - loss: 1.3762e-05 - accuracy: 1.0000 - val_loss: 4.2380 - val_accuracy: 0.7564\n",
      "Epoch 29/50\n",
      "163/163 [==============================] - 42s 259ms/step - loss: 1.0461e-05 - accuracy: 1.0000 - val_loss: 4.2437 - val_accuracy: 0.7564\n",
      "Epoch 30/50\n",
      "163/163 [==============================] - 42s 260ms/step - loss: 1.0439e-05 - accuracy: 1.0000 - val_loss: 4.3643 - val_accuracy: 0.7548\n",
      "Epoch 31/50\n",
      "163/163 [==============================] - 724s 4s/step - loss: 9.6058e-06 - accuracy: 1.0000 - val_loss: 4.3947 - val_accuracy: 0.7548\n",
      "Epoch 32/50\n",
      "163/163 [==============================] - 149s 916ms/step - loss: 8.4659e-06 - accuracy: 1.0000 - val_loss: 4.4380 - val_accuracy: 0.7548\n",
      "Epoch 33/50\n",
      "163/163 [==============================] - 42s 258ms/step - loss: 7.2622e-06 - accuracy: 1.0000 - val_loss: 4.4658 - val_accuracy: 0.7548\n",
      "Epoch 34/50\n",
      "163/163 [==============================] - 44s 271ms/step - loss: 5.8735e-06 - accuracy: 1.0000 - val_loss: 4.5258 - val_accuracy: 0.7548\n",
      "Epoch 35/50\n",
      "163/163 [==============================] - 43s 263ms/step - loss: 5.5619e-06 - accuracy: 1.0000 - val_loss: 4.5590 - val_accuracy: 0.7548\n",
      "Epoch 36/50\n",
      "163/163 [==============================] - 42s 256ms/step - loss: 5.6160e-06 - accuracy: 1.0000 - val_loss: 4.6127 - val_accuracy: 0.7548\n",
      "Epoch 37/50\n",
      "163/163 [==============================] - 44s 269ms/step - loss: 5.7391e-06 - accuracy: 1.0000 - val_loss: 4.6792 - val_accuracy: 0.7548\n",
      "Epoch 38/50\n",
      "163/163 [==============================] - 43s 263ms/step - loss: 4.5881e-06 - accuracy: 1.0000 - val_loss: 4.6863 - val_accuracy: 0.7548\n",
      "Epoch 39/50\n",
      "163/163 [==============================] - 43s 264ms/step - loss: 3.3822e-06 - accuracy: 1.0000 - val_loss: 4.7377 - val_accuracy: 0.7548\n",
      "Epoch 40/50\n",
      "163/163 [==============================] - 44s 270ms/step - loss: 3.1981e-06 - accuracy: 1.0000 - val_loss: 4.7659 - val_accuracy: 0.7548\n",
      "Epoch 41/50\n",
      "163/163 [==============================] - 43s 265ms/step - loss: 3.6996e-06 - accuracy: 1.0000 - val_loss: 4.8444 - val_accuracy: 0.7532\n",
      "Epoch 42/50\n",
      "163/163 [==============================] - 43s 265ms/step - loss: 3.0452e-06 - accuracy: 1.0000 - val_loss: 4.8799 - val_accuracy: 0.7532\n",
      "Epoch 43/50\n",
      "163/163 [==============================] - 43s 265ms/step - loss: 2.5771e-06 - accuracy: 1.0000 - val_loss: 4.9402 - val_accuracy: 0.7532\n",
      "Epoch 44/50\n",
      "163/163 [==============================] - 43s 266ms/step - loss: 2.1963e-06 - accuracy: 1.0000 - val_loss: 4.9874 - val_accuracy: 0.7532\n",
      "Epoch 45/50\n",
      "163/163 [==============================] - 43s 261ms/step - loss: 2.3860e-06 - accuracy: 1.0000 - val_loss: 4.9962 - val_accuracy: 0.7532\n",
      "Epoch 46/50\n",
      "163/163 [==============================] - 43s 266ms/step - loss: 1.9488e-06 - accuracy: 1.0000 - val_loss: 5.0546 - val_accuracy: 0.7532\n",
      "Epoch 47/50\n",
      "163/163 [==============================] - 43s 266ms/step - loss: 2.0809e-06 - accuracy: 1.0000 - val_loss: 5.1198 - val_accuracy: 0.7548\n",
      "Epoch 48/50\n",
      "163/163 [==============================] - 42s 257ms/step - loss: 1.5720e-06 - accuracy: 1.0000 - val_loss: 5.1678 - val_accuracy: 0.7548\n",
      "Epoch 49/50\n",
      "163/163 [==============================] - 42s 256ms/step - loss: 1.2861e-06 - accuracy: 1.0000 - val_loss: 5.1385 - val_accuracy: 0.7532\n",
      "Epoch 50/50\n",
      "163/163 [==============================] - 43s 266ms/step - loss: 1.3079e-06 - accuracy: 1.0000 - val_loss: 5.2010 - val_accuracy: 0.7532\n"
     ]
    }
   ],
   "source": [
    "base_history = base_model.fit(X_train, y_train,\n",
    "                              epochs=50,\n",
    "                              batch_size=32,\n",
    "                              validation_data=(X_test, y_test))"
   ]
  },
  {
   "cell_type": "code",
   "execution_count": 14,
   "metadata": {
    "ExecuteTime": {
     "end_time": "2021-05-14T00:27:53.600904Z",
     "start_time": "2021-05-14T00:27:53.315099Z"
    },
    "scrolled": true
   },
   "outputs": [
    {
     "data": {
      "image/png": "[encoded data removed]",
      "text/plain": [
       "<Figure size 432x288 with 2 Axes>"
      ]
     },
     "metadata": {
      "needs_background": "light"
     },
     "output_type": "display_data"
    }
   ],
   "source": [
    "visualize_training_results(base_history)"
   ]
  },
  {
   "cell_type": "code",
   "execution_count": 15,
   "metadata": {
    "ExecuteTime": {
     "end_time": "2021-05-14T00:27:53.657376Z",
     "start_time": "2021-05-14T00:27:53.602968Z"
    }
   },
   "outputs": [],
   "source": [
    "base_model.save('saved_models/base_model.h5')"
   ]
  },
  {
   "cell_type": "code",
   "execution_count": 31,
   "metadata": {
    "ExecuteTime": {
     "end_time": "2021-05-14T01:07:33.197633Z",
     "start_time": "2021-05-14T01:07:18.964715Z"
    }
   },
   "outputs": [
    {
     "name": "stdout",
     "output_type": "stream",
     "text": [
      "163/163 [==============================] - 11s 67ms/step - loss: 1.2462e-06 - accuracy: 1.0000\n",
      "Training Loss:1.246e-06\n",
      "Training Accuracy:1.0\n",
      "20/20 [==============================] - 1s 68ms/step - loss: 5.2010 - accuracy: 0.7532\n",
      "Test Loss:5.201\n",
      "Test Accuracy:0.7532\n"
     ]
    },
    {
     "data": {
      "image/png": "[encoded data removed]",
      "text/plain": [
       "<Figure size 432x288 with 2 Axes>"
      ]
     },
     "metadata": {
      "needs_background": "light"
     },
     "output_type": "display_data"
    },
    {
     "data": {
      "text/plain": [
       "([1.0], [0.7532])"
      ]
     },
     "execution_count": 31,
     "metadata": {},
     "output_type": "execute_result"
    }
   ],
   "source": [
    "base = load_model('saved_models/base_model.h5')\n",
    "model_evaluation(base)"
   ]
  },
  {
   "cell_type": "markdown",
   "metadata": {},
   "source": [
    ">**Comment:** *Baseline Model*\n",
    "- The CNN baseline model took more than 40 minutes to run\n",
    "- The train accuracy (100%) is higher than val accuracy (0.753) which indicates that the baseline model is overfit\n",
    "- The accuracy plot shows that test accuracy reaches convergence after 20 epochs \n",
    "- The loss plot shows that test loss still increase after 20 epochs\n",
    "- Early stopping can be used for iteration model tunning to prevent overfit and saving time\n",
    "- There are more false positive than false negative"
   ]
  },
  {
   "cell_type": "markdown",
   "metadata": {},
   "source": [
    "### Dropout 20\n",
    "- Add (20%) dropout layers and earlystopping "
   ]
  },
  {
   "cell_type": "code",
   "execution_count": 32,
   "metadata": {
    "ExecuteTime": {
     "end_time": "2021-05-14T01:12:09.376545Z",
     "start_time": "2021-05-14T01:12:09.284686Z"
    }
   },
   "outputs": [],
   "source": [
    "dropout_20 = models.Sequential()\n",
    "dropout_20.add(layers.Conv2D(32, (3, 3), activation='relu', input_shape=(128,128,3)))\n",
    "dropout_20.add(layers.MaxPooling2D((2, 2)))\n",
    "dropout_20.add(layers.Dropout(0.2))\n",
    "\n",
    "dropout_20.add(layers.Conv2D(64, (3, 3), activation='relu'))\n",
    "dropout_20.add(layers.MaxPooling2D((2, 2)))\n",
    "dropout_20.add(layers.Dropout(0.2))\n",
    "\n",
    "dropout_20.add(layers.Conv2D(128, (3, 3), activation='relu'))\n",
    "dropout_20.add(layers.MaxPooling2D((2, 2)))\n",
    "dropout_20.add(layers.Dropout(0.2))\n",
    "\n",
    "dropout_20.add(layers.Flatten())\n",
    "dropout_20.add(layers.Dense(128, activation='relu'))\n",
    "dropout_20.add(layers.Dense(1, activation='sigmoid'))\n",
    "\n",
    "dropout_20.compile(optimizer='adam',\n",
    "                    loss='binary_crossentropy',\n",
    "                    metrics=['accuracy'])"
   ]
  },
  {
   "cell_type": "code",
   "execution_count": 33,
   "metadata": {
    "ExecuteTime": {
     "end_time": "2021-05-14T01:12:27.637366Z",
     "start_time": "2021-05-14T01:12:27.634406Z"
    }
   },
   "outputs": [],
   "source": [
    "es_dp_20 = [EarlyStopping(monitor='val_loss', mode='min', verbose=1, patience=6),\n",
    "            ModelCheckpoint(filepath='saved_models/best_dropout_20.h5', \n",
    "                            monitor='val_accuracy', mode='max', verbose=1, save_best_only=True)]"
   ]
  },
  {
   "cell_type": "code",
   "execution_count": 34,
   "metadata": {
    "ExecuteTime": {
     "end_time": "2021-05-14T01:18:49.628664Z",
     "start_time": "2021-05-14T01:12:32.843179Z"
    }
   },
   "outputs": [
    {
     "name": "stdout",
     "output_type": "stream",
     "text": [
      "Epoch 1/50\n",
      "163/163 [==============================] - 50s 307ms/step - loss: 0.6226 - accuracy: 0.7624 - val_loss: 0.6808 - val_accuracy: 0.7644\n",
      "\n",
      "Epoch 00001: val_accuracy improved from -inf to 0.76442, saving model to saved_models/best_dropout_20.h5\n",
      "Epoch 2/50\n",
      "163/163 [==============================] - 50s 304ms/step - loss: 0.1236 - accuracy: 0.9561 - val_loss: 0.4815 - val_accuracy: 0.7997\n",
      "\n",
      "Epoch 00002: val_accuracy improved from 0.76442 to 0.79968, saving model to saved_models/best_dropout_20.h5\n",
      "Epoch 3/50\n",
      "163/163 [==============================] - 46s 284ms/step - loss: 0.1147 - accuracy: 0.9558 - val_loss: 0.6525 - val_accuracy: 0.7885\n",
      "\n",
      "Epoch 00003: val_accuracy did not improve from 0.79968\n",
      "Epoch 4/50\n",
      "163/163 [==============================] - 46s 283ms/step - loss: 0.0994 - accuracy: 0.9635 - val_loss: 1.2538 - val_accuracy: 0.7388\n",
      "\n",
      "Epoch 00004: val_accuracy did not improve from 0.79968\n",
      "Epoch 5/50\n",
      "163/163 [==============================] - 46s 281ms/step - loss: 0.0867 - accuracy: 0.9677 - val_loss: 1.0673 - val_accuracy: 0.7500\n",
      "\n",
      "Epoch 00005: val_accuracy did not improve from 0.79968\n",
      "Epoch 6/50\n",
      "163/163 [==============================] - 46s 282ms/step - loss: 0.0732 - accuracy: 0.9717 - val_loss: 1.4507 - val_accuracy: 0.7260\n",
      "\n",
      "Epoch 00006: val_accuracy did not improve from 0.79968\n",
      "Epoch 7/50\n",
      "163/163 [==============================] - 46s 282ms/step - loss: 0.0670 - accuracy: 0.9738 - val_loss: 1.5014 - val_accuracy: 0.7420\n",
      "\n",
      "Epoch 00007: val_accuracy did not improve from 0.79968\n",
      "Epoch 8/50\n",
      "163/163 [==============================] - 46s 284ms/step - loss: 0.0552 - accuracy: 0.9802 - val_loss: 1.1205 - val_accuracy: 0.7484\n",
      "\n",
      "Epoch 00008: val_accuracy did not improve from 0.79968\n",
      "Epoch 00008: early stopping\n"
     ]
    }
   ],
   "source": [
    "dropout_20_history = dropout_20.fit(X_train, y_train,\n",
    "                                    epochs=50,\n",
    "                                    batch_size=32,\n",
    "                                    callbacks=es_dp_20,\n",
    "                                    validation_data=(X_test, y_test))"
   ]
  },
  {
   "cell_type": "code",
   "execution_count": 35,
   "metadata": {
    "ExecuteTime": {
     "end_time": "2021-05-14T01:19:11.280717Z",
     "start_time": "2021-05-14T01:19:10.997160Z"
    },
    "scrolled": true
   },
   "outputs": [
    {
     "data": {
      "image/png": "[encoded data removed]",
      "text/plain": [
       "<Figure size 432x288 with 2 Axes>"
      ]
     },
     "metadata": {
      "needs_background": "light"
     },
     "output_type": "display_data"
    }
   ],
   "source": [
    "visualize_training_results(dropout_20_history)"
   ]
  },
  {
   "cell_type": "code",
   "execution_count": 36,
   "metadata": {
    "ExecuteTime": {
     "end_time": "2021-05-14T01:19:30.596265Z",
     "start_time": "2021-05-14T01:19:16.556779Z"
    }
   },
   "outputs": [
    {
     "name": "stdout",
     "output_type": "stream",
     "text": [
      "163/163 [==============================] - 11s 64ms/step - loss: 0.1166 - accuracy: 0.9659\n",
      "Training Loss:0.1166\n",
      "Training Accuracy:0.9659\n",
      "20/20 [==============================] - 2s 75ms/step - loss: 0.4815 - accuracy: 0.7997\n",
      "Test Loss:0.4815\n",
      "Test Accuracy:0.7997\n"
     ]
    },
    {
     "data": {
      "image/png": "[encoded data removed]",
      "text/plain": [
       "<Figure size 432x288 with 2 Axes>"
      ]
     },
     "metadata": {
      "needs_background": "light"
     },
     "output_type": "display_data"
    },
    {
     "data": {
      "text/plain": [
       "([0.9659], [0.7997])"
      ]
     },
     "execution_count": 36,
     "metadata": {},
     "output_type": "execute_result"
    }
   ],
   "source": [
    "dp20 = load_model('saved_models/best_dropout_20.h5')\n",
    "model_evaluation(dp20)"
   ]
  },
  {
   "cell_type": "markdown",
   "metadata": {},
   "source": [
    ">**Comment:** Dropout 20%\n",
    "- The dropout_20 model took less time to run compare with the baseline model\n",
    "- The train accuracy (0.9659) is higher than test accuracy (0.7997) which indicates the model is overfit \n",
    "- Compare with the baseline model, test accuray shows some improvements\n",
    "- There are more false positive than false negative\n",
    "- dp20 has more FN than base"
   ]
  },
  {
   "cell_type": "markdown",
   "metadata": {
    "heading_collapsed": true
   },
   "source": [
    "#### Dropout 20b"
   ]
  },
  {
   "cell_type": "code",
   "execution_count": 11,
   "metadata": {
    "ExecuteTime": {
     "end_time": "2021-05-12T21:24:36.661050Z",
     "start_time": "2021-05-12T21:24:36.546035Z"
    },
    "hidden": true
   },
   "outputs": [],
   "source": [
    "dropout_20b = models.Sequential()\n",
    "dropout_20b.add(layers.Conv2D(32, (3, 3), activation='relu', input_shape=(128,128,3)))\n",
    "dropout_20b.add(layers.MaxPooling2D((2, 2)))\n",
    "dropout_20b.add(layers.Dropout(0.2))\n",
    "\n",
    "dropout_20b.add(layers.Conv2D(64, (3, 3), activation='relu'))\n",
    "dropout_20b.add(layers.MaxPooling2D((2, 2)))\n",
    "dropout_20b.add(layers.Dropout(0.2))\n",
    "\n",
    "dropout_20b.add(layers.Conv2D(128, (3, 3), activation='relu'))\n",
    "dropout_20b.add(layers.MaxPooling2D((2, 2)))\n",
    "dropout_20b.add(layers.Dropout(0.2))\n",
    "\n",
    "dropout_20b.add(layers.Flatten())\n",
    "dropout_20b.add(layers.Dense(128, activation='relu'))\n",
    "dropout_20b.add(layers.Dropout(0.2))\n",
    "dropout_20b.add(layers.Dense(1, activation='sigmoid'))\n",
    "\n",
    "dropout_20b.compile(optimizer='adam',\n",
    "                    loss='binary_crossentropy',\n",
    "                    metrics=['accuracy'])"
   ]
  },
  {
   "cell_type": "code",
   "execution_count": 12,
   "metadata": {
    "ExecuteTime": {
     "end_time": "2021-05-12T21:24:36.665292Z",
     "start_time": "2021-05-12T21:24:36.662792Z"
    },
    "hidden": true
   },
   "outputs": [],
   "source": [
    "es_dp_20b = [EarlyStopping(monitor='val_loss', mode='min', verbose=1, patience=6),\n",
    "            ModelCheckpoint(filepath='best_dropout_20b.h5', \n",
    "                            monitor='val_accuracy', mode='max', verbose=1, save_best_only=True)]  "
   ]
  },
  {
   "cell_type": "code",
   "execution_count": 13,
   "metadata": {
    "ExecuteTime": {
     "end_time": "2021-05-12T21:30:53.887119Z",
     "start_time": "2021-05-12T21:24:36.667791Z"
    },
    "hidden": true
   },
   "outputs": [
    {
     "name": "stdout",
     "output_type": "stream",
     "text": [
      "Epoch 1/50\n",
      "163/163 [==============================] - 48s 293ms/step - loss: 0.5207 - accuracy: 0.7878 - val_loss: 0.7091 - val_accuracy: 0.7260\n",
      "\n",
      "Epoch 00001: val_accuracy improved from -inf to 0.72596, saving model to best_dropout_20b.h5\n",
      "Epoch 2/50\n",
      "163/163 [==============================] - 47s 287ms/step - loss: 0.1186 - accuracy: 0.9572 - val_loss: 0.5289 - val_accuracy: 0.7885\n",
      "\n",
      "Epoch 00002: val_accuracy improved from 0.72596 to 0.78846, saving model to best_dropout_20b.h5\n",
      "Epoch 3/50\n",
      "163/163 [==============================] - 47s 288ms/step - loss: 0.1032 - accuracy: 0.9669 - val_loss: 0.7739 - val_accuracy: 0.7404\n",
      "\n",
      "Epoch 00003: val_accuracy did not improve from 0.78846\n",
      "Epoch 4/50\n",
      "163/163 [==============================] - 47s 287ms/step - loss: 0.0949 - accuracy: 0.9670 - val_loss: 0.7697 - val_accuracy: 0.7804\n",
      "\n",
      "Epoch 00004: val_accuracy did not improve from 0.78846\n",
      "Epoch 5/50\n",
      "163/163 [==============================] - 47s 287ms/step - loss: 0.0672 - accuracy: 0.9758 - val_loss: 0.9273 - val_accuracy: 0.7692\n",
      "\n",
      "Epoch 00005: val_accuracy did not improve from 0.78846\n",
      "Epoch 6/50\n",
      "163/163 [==============================] - 47s 289ms/step - loss: 0.0743 - accuracy: 0.9705 - val_loss: 1.0124 - val_accuracy: 0.7612\n",
      "\n",
      "Epoch 00006: val_accuracy did not improve from 0.78846\n",
      "Epoch 7/50\n",
      "163/163 [==============================] - 47s 289ms/step - loss: 0.0540 - accuracy: 0.9834 - val_loss: 1.2035 - val_accuracy: 0.7660\n",
      "\n",
      "Epoch 00007: val_accuracy did not improve from 0.78846\n",
      "Epoch 8/50\n",
      "163/163 [==============================] - 47s 289ms/step - loss: 0.0468 - accuracy: 0.9837 - val_loss: 1.3001 - val_accuracy: 0.7308\n",
      "\n",
      "Epoch 00008: val_accuracy did not improve from 0.78846\n",
      "Epoch 00008: early stopping\n"
     ]
    }
   ],
   "source": [
    "dropout_20b_history = dropout_20b.fit(X_train, y_train,\n",
    "                                epochs=50,\n",
    "                                batch_size=32,\n",
    "                                callbacks=es_dp_20b,\n",
    "                                validation_data=(X_test, y_test))"
   ]
  },
  {
   "cell_type": "code",
   "execution_count": 14,
   "metadata": {
    "ExecuteTime": {
     "end_time": "2021-05-12T21:30:54.186921Z",
     "start_time": "2021-05-12T21:30:53.888647Z"
    },
    "hidden": true
   },
   "outputs": [
    {
     "data": {
      "image/png": "[encoded data removed]",
      "text/plain": [
       "<Figure size 432x288 with 2 Axes>"
      ]
     },
     "metadata": {
      "needs_background": "light"
     },
     "output_type": "display_data"
    }
   ],
   "source": [
    "visualize_training_results(dropout_20b_history)"
   ]
  },
  {
   "cell_type": "code",
   "execution_count": 15,
   "metadata": {
    "ExecuteTime": {
     "end_time": "2021-05-12T21:31:05.348207Z",
     "start_time": "2021-05-12T21:30:54.189198Z"
    },
    "hidden": true
   },
   "outputs": [
    {
     "name": "stdout",
     "output_type": "stream",
     "text": [
      "163/163 [==============================] - 11s 66ms/step - loss: 0.1055 - accuracy: 0.9680\n",
      "Training Loss:0.1055\n",
      "Training Accuracy:0.968\n",
      "1/1 [==============================] - 0s 130ms/step - loss: 0.3069 - accuracy: 0.8125\n",
      "Val Loss:0.3069\n",
      "Val Accuracy:0.8125\n"
     ]
    }
   ],
   "source": [
    "dp20b = load_model('best_dropout_20b.h5')\n",
    "model_evaluation(dp20b)"
   ]
  },
  {
   "cell_type": "markdown",
   "metadata": {},
   "source": [
    "### Dropout 50\n",
    "- Add (50%) dropout layer and earlystopping"
   ]
  },
  {
   "cell_type": "code",
   "execution_count": 37,
   "metadata": {
    "ExecuteTime": {
     "end_time": "2021-05-14T01:34:26.975291Z",
     "start_time": "2021-05-14T01:34:26.889369Z"
    }
   },
   "outputs": [],
   "source": [
    "dropout_50 = models.Sequential()\n",
    "dropout_50.add(layers.Conv2D(32, (3, 3), activation='relu', input_shape=(128,128,3)))\n",
    "dropout_50.add(layers.MaxPooling2D((2, 2)))\n",
    "dropout_50.add(layers.Dropout(0.5))\n",
    "\n",
    "dropout_50.add(layers.Conv2D(64, (3, 3), activation='relu'))\n",
    "dropout_50.add(layers.MaxPooling2D((2, 2)))\n",
    "dropout_50.add(layers.Dropout(0.5))\n",
    "\n",
    "dropout_50.add(layers.Conv2D(128, (3, 3), activation='relu'))\n",
    "dropout_50.add(layers.MaxPooling2D((2, 2)))\n",
    "dropout_50.add(layers.Dropout(0.5))\n",
    "\n",
    "dropout_50.add(layers.Flatten())\n",
    "dropout_50.add(layers.Dense(128, activation='relu'))\n",
    "dropout_50.add(layers.Dense(1, activation='sigmoid'))\n",
    "\n",
    "dropout_50.compile(optimizer='adam',\n",
    "                   loss='binary_crossentropy',\n",
    "                   metrics=['accuracy'])"
   ]
  },
  {
   "cell_type": "code",
   "execution_count": 38,
   "metadata": {
    "ExecuteTime": {
     "end_time": "2021-05-14T01:35:05.761352Z",
     "start_time": "2021-05-14T01:35:05.758388Z"
    }
   },
   "outputs": [],
   "source": [
    "es_dp_50 = [EarlyStopping(monitor='val_loss', mode='min', verbose=1, patience=6),\n",
    "            ModelCheckpoint(filepath='saved_models/best_dropout_50.h5', \n",
    "                            monitor='val_accuracy', mode='max', verbose=1, save_best_only=True)]"
   ]
  },
  {
   "cell_type": "code",
   "execution_count": 39,
   "metadata": {
    "ExecuteTime": {
     "end_time": "2021-05-14T01:42:28.749141Z",
     "start_time": "2021-05-14T01:35:16.630677Z"
    },
    "scrolled": false
   },
   "outputs": [
    {
     "name": "stdout",
     "output_type": "stream",
     "text": [
      "Epoch 1/50\n",
      "163/163 [==============================] - 48s 292ms/step - loss: 1.0002 - accuracy: 0.6767 - val_loss: 0.4933 - val_accuracy: 0.6250\n",
      "\n",
      "Epoch 00001: val_accuracy improved from -inf to 0.62500, saving model to saved_models/best_dropout_50.h5\n",
      "Epoch 2/50\n",
      "163/163 [==============================] - 50s 308ms/step - loss: 0.3354 - accuracy: 0.8167 - val_loss: 0.5553 - val_accuracy: 0.6474\n",
      "\n",
      "Epoch 00002: val_accuracy improved from 0.62500 to 0.64744, saving model to saved_models/best_dropout_50.h5\n",
      "Epoch 3/50\n",
      "163/163 [==============================] - 47s 290ms/step - loss: 0.2649 - accuracy: 0.9223 - val_loss: 0.4720 - val_accuracy: 0.7628\n",
      "\n",
      "Epoch 00003: val_accuracy improved from 0.64744 to 0.76282, saving model to saved_models/best_dropout_50.h5\n",
      "Epoch 4/50\n",
      "163/163 [==============================] - 48s 292ms/step - loss: 0.2340 - accuracy: 0.9359 - val_loss: 0.6679 - val_accuracy: 0.7099\n",
      "\n",
      "Epoch 00004: val_accuracy did not improve from 0.76282\n",
      "Epoch 5/50\n",
      "163/163 [==============================] - 48s 293ms/step - loss: 0.2266 - accuracy: 0.9381 - val_loss: 0.6674 - val_accuracy: 0.7147\n",
      "\n",
      "Epoch 00005: val_accuracy did not improve from 0.76282\n",
      "Epoch 6/50\n",
      "163/163 [==============================] - 48s 292ms/step - loss: 0.1979 - accuracy: 0.9532 - val_loss: 0.7976 - val_accuracy: 0.7388\n",
      "\n",
      "Epoch 00006: val_accuracy did not improve from 0.76282\n",
      "Epoch 7/50\n",
      "163/163 [==============================] - 48s 292ms/step - loss: 0.1827 - accuracy: 0.9506 - val_loss: 0.6248 - val_accuracy: 0.7869\n",
      "\n",
      "Epoch 00007: val_accuracy improved from 0.76282 to 0.78686, saving model to saved_models/best_dropout_50.h5\n",
      "Epoch 8/50\n",
      "163/163 [==============================] - 48s 293ms/step - loss: 0.1861 - accuracy: 0.9558 - val_loss: 1.0581 - val_accuracy: 0.7179\n",
      "\n",
      "Epoch 00008: val_accuracy did not improve from 0.78686\n",
      "Epoch 9/50\n",
      "163/163 [==============================] - 48s 295ms/step - loss: 0.1641 - accuracy: 0.9552 - val_loss: 1.0041 - val_accuracy: 0.7500\n",
      "\n",
      "Epoch 00009: val_accuracy did not improve from 0.78686\n",
      "Epoch 00009: early stopping\n"
     ]
    }
   ],
   "source": [
    "dropout_50_history = dropout_50.fit(X_train, y_train,\n",
    "                                epochs=50,\n",
    "                                batch_size=32,\n",
    "                                callbacks=es_dp_50,\n",
    "                                validation_data=(X_test, y_test))"
   ]
  },
  {
   "cell_type": "code",
   "execution_count": 40,
   "metadata": {
    "ExecuteTime": {
     "end_time": "2021-05-14T01:42:29.078048Z",
     "start_time": "2021-05-14T01:42:28.750948Z"
    },
    "scrolled": false
   },
   "outputs": [
    {
     "data": {
      "image/png": "[encoded data removed]",
      "text/plain": [
       "<Figure size 432x288 with 2 Axes>"
      ]
     },
     "metadata": {
      "needs_background": "light"
     },
     "output_type": "display_data"
    }
   ],
   "source": [
    "visualize_training_results(dropout_50_history)"
   ]
  },
  {
   "cell_type": "code",
   "execution_count": 41,
   "metadata": {
    "ExecuteTime": {
     "end_time": "2021-05-14T01:42:43.044109Z",
     "start_time": "2021-05-14T01:42:29.079974Z"
    },
    "scrolled": false
   },
   "outputs": [
    {
     "name": "stdout",
     "output_type": "stream",
     "text": [
      "163/163 [==============================] - 11s 65ms/step - loss: 0.1660 - accuracy: 0.9709\n",
      "Training Loss:0.166\n",
      "Training Accuracy:0.9709\n",
      "20/20 [==============================] - 1s 68ms/step - loss: 0.6248 - accuracy: 0.7869\n",
      "Test Loss:0.6248\n",
      "Test Accuracy:0.7869\n"
     ]
    },
    {
     "data": {
      "image/png": "[encoded data removed]",
      "text/plain": [
       "<Figure size 432x288 with 2 Axes>"
      ]
     },
     "metadata": {
      "needs_background": "light"
     },
     "output_type": "display_data"
    },
    {
     "data": {
      "text/plain": [
       "([0.9709], [0.7869])"
      ]
     },
     "execution_count": 41,
     "metadata": {},
     "output_type": "execute_result"
    }
   ],
   "source": [
    "dp50 = load_model('saved_models/best_dropout_50.h5')\n",
    "model_evaluation(dp50)"
   ]
  },
  {
   "cell_type": "markdown",
   "metadata": {},
   "source": [
    ">**Comment:**\n",
    "- The dropout_50 model took less time to run compare with the baseline model\n",
    "- The train accuracy (0.9709) is higher than test accuracy (0.7869) which indicates the model is overfit\n",
    "- Compare with the baseline model, test accuray shows some improvements\n",
    "- Compare with dp20, test accuracy is slightly lower\n",
    "    Decrease the complexity => lose some useful information?\n",
    "- There are more false positive than false negative"
   ]
  },
  {
   "cell_type": "markdown",
   "metadata": {},
   "source": [
    "### L2 Regularizer"
   ]
  },
  {
   "cell_type": "markdown",
   "metadata": {},
   "source": [
    "https://machinelearningmastery.com/how-to-reduce-overfitting-in-deep-learning-with-weight-regularization/"
   ]
  },
  {
   "cell_type": "markdown",
   "metadata": {},
   "source": [
    "https://machinelearningmastery.com/weight-regularization-to-reduce-overfitting-of-deep-learning-models/"
   ]
  },
  {
   "cell_type": "code",
   "execution_count": 42,
   "metadata": {
    "ExecuteTime": {
     "end_time": "2021-05-14T01:49:30.385214Z",
     "start_time": "2021-05-14T01:49:30.303991Z"
    }
   },
   "outputs": [],
   "source": [
    "L2_reg = models.Sequential()\n",
    "L2_reg.add(layers.Conv2D(32, (3, 3), kernel_regularizer=regularizers.l2(0.005), activation='relu', input_shape=(128,128,3)))\n",
    "L2_reg.add(layers.MaxPooling2D((2, 2)))\n",
    "\n",
    "L2_reg.add(layers.Conv2D(64, (3, 3), kernel_regularizer=regularizers.l2(0.005), activation='relu'))\n",
    "L2_reg.add(layers.MaxPooling2D((2, 2)))\n",
    "\n",
    "L2_reg.add(layers.Conv2D(128, (3, 3), kernel_regularizer=regularizers.l2(0.005), activation='relu'))\n",
    "L2_reg.add(layers.MaxPooling2D((2, 2)))\n",
    "\n",
    "L2_reg.add(layers.Flatten())\n",
    "L2_reg.add(layers.Dense(128, activation='relu'))\n",
    "L2_reg.add(layers.Dense(1, activation='sigmoid'))\n",
    "\n",
    "L2_reg.compile(optimizer='adam',\n",
    "               loss='binary_crossentropy',\n",
    "               metrics=['accuracy'])"
   ]
  },
  {
   "cell_type": "code",
   "execution_count": 43,
   "metadata": {
    "ExecuteTime": {
     "end_time": "2021-05-14T01:49:35.833275Z",
     "start_time": "2021-05-14T01:49:35.830506Z"
    }
   },
   "outputs": [],
   "source": [
    "es_L2 = [EarlyStopping(monitor='val_loss', mode='min', verbose=1, patience=6),\n",
    "         ModelCheckpoint(filepath='saved_models/best_L2.h5', \n",
    "                         monitor='val_accuracy', mode='max', verbose=1, save_best_only=True)]"
   ]
  },
  {
   "cell_type": "code",
   "execution_count": 44,
   "metadata": {
    "ExecuteTime": {
     "end_time": "2021-05-14T01:55:39.499137Z",
     "start_time": "2021-05-14T01:49:59.304428Z"
    },
    "scrolled": false
   },
   "outputs": [
    {
     "name": "stdout",
     "output_type": "stream",
     "text": [
      "Epoch 1/50\n",
      "163/163 [==============================] - 42s 257ms/step - loss: 0.8745 - accuracy: 0.7786 - val_loss: 0.9707 - val_accuracy: 0.6683\n",
      "\n",
      "Epoch 00001: val_accuracy improved from -inf to 0.66827, saving model to saved_models/best_L2.h5\n",
      "Epoch 2/50\n",
      "163/163 [==============================] - 42s 259ms/step - loss: 0.2809 - accuracy: 0.9524 - val_loss: 0.5034 - val_accuracy: 0.8446\n",
      "\n",
      "Epoch 00002: val_accuracy improved from 0.66827 to 0.84455, saving model to saved_models/best_L2.h5\n",
      "Epoch 3/50\n",
      "163/163 [==============================] - 42s 260ms/step - loss: 0.1937 - accuracy: 0.9637 - val_loss: 0.7715 - val_accuracy: 0.7901\n",
      "\n",
      "Epoch 00003: val_accuracy did not improve from 0.84455\n",
      "Epoch 4/50\n",
      "163/163 [==============================] - 43s 261ms/step - loss: 0.1605 - accuracy: 0.9641 - val_loss: 1.1403 - val_accuracy: 0.7404\n",
      "\n",
      "Epoch 00004: val_accuracy did not improve from 0.84455\n",
      "Epoch 5/50\n",
      "163/163 [==============================] - 43s 261ms/step - loss: 0.1460 - accuracy: 0.9695 - val_loss: 1.1098 - val_accuracy: 0.7452\n",
      "\n",
      "Epoch 00005: val_accuracy did not improve from 0.84455\n",
      "Epoch 6/50\n",
      "163/163 [==============================] - 42s 260ms/step - loss: 0.1255 - accuracy: 0.9710 - val_loss: 1.2205 - val_accuracy: 0.7244\n",
      "\n",
      "Epoch 00006: val_accuracy did not improve from 0.84455\n",
      "Epoch 7/50\n",
      "163/163 [==============================] - 43s 262ms/step - loss: 0.1313 - accuracy: 0.9657 - val_loss: 1.9696 - val_accuracy: 0.7083\n",
      "\n",
      "Epoch 00007: val_accuracy did not improve from 0.84455\n",
      "Epoch 8/50\n",
      "163/163 [==============================] - 43s 263ms/step - loss: 0.1211 - accuracy: 0.9759 - val_loss: 1.0669 - val_accuracy: 0.7500\n",
      "\n",
      "Epoch 00008: val_accuracy did not improve from 0.84455\n",
      "Epoch 00008: early stopping\n"
     ]
    }
   ],
   "source": [
    "L2_reg_history = L2_reg.fit(X_train, y_train,\n",
    "                            epochs=50,\n",
    "                            batch_size=32,\n",
    "                            callbacks=es_L2,\n",
    "                            validation_data=(X_test, y_test))"
   ]
  },
  {
   "cell_type": "code",
   "execution_count": 45,
   "metadata": {
    "ExecuteTime": {
     "end_time": "2021-05-14T01:55:39.918079Z",
     "start_time": "2021-05-14T01:55:39.501206Z"
    },
    "scrolled": true
   },
   "outputs": [
    {
     "data": {
      "image/png": "[encoded data removed]",
      "text/plain": [
       "<Figure size 432x288 with 2 Axes>"
      ]
     },
     "metadata": {
      "needs_background": "light"
     },
     "output_type": "display_data"
    }
   ],
   "source": [
    "visualize_training_results(L2_reg_history)"
   ]
  },
  {
   "cell_type": "code",
   "execution_count": 46,
   "metadata": {
    "ExecuteTime": {
     "end_time": "2021-05-14T01:55:54.145403Z",
     "start_time": "2021-05-14T01:55:39.920166Z"
    },
    "scrolled": false
   },
   "outputs": [
    {
     "name": "stdout",
     "output_type": "stream",
     "text": [
      "163/163 [==============================] - 11s 67ms/step - loss: 0.2492 - accuracy: 0.9442\n",
      "Training Loss:0.2492\n",
      "Training Accuracy:0.9442\n",
      "20/20 [==============================] - 2s 69ms/step - loss: 0.5034 - accuracy: 0.8446\n",
      "Test Loss:0.5034\n",
      "Test Accuracy:0.8446\n"
     ]
    },
    {
     "data": {
      "image/png": "[encoded data removed]",
      "text/plain": [
       "<Figure size 432x288 with 2 Axes>"
      ]
     },
     "metadata": {
      "needs_background": "light"
     },
     "output_type": "display_data"
    },
    {
     "data": {
      "text/plain": [
       "([0.9442], [0.8446])"
      ]
     },
     "execution_count": 46,
     "metadata": {},
     "output_type": "execute_result"
    }
   ],
   "source": [
    "L2 = load_model('saved_models/best_L2.h5')\n",
    "model_evaluation(L2)"
   ]
  },
  {
   "cell_type": "markdown",
   "metadata": {},
   "source": [
    ">**Comment:** \n",
    "- The L2 took less time to run compare with the baseline model\n",
    "- The train accuracy (0.9442) is higher than test accuracy (0.8446) which indicates the model is overfit\n",
    "- Compare with the baseline model, test accuray shows some improvements\n",
    "- There are more false positive than false negative"
   ]
  },
  {
   "cell_type": "markdown",
   "metadata": {
    "heading_collapsed": true
   },
   "source": [
    "#### L2_01"
   ]
  },
  {
   "cell_type": "code",
   "execution_count": 16,
   "metadata": {
    "ExecuteTime": {
     "end_time": "2021-05-12T20:53:08.685774Z",
     "start_time": "2021-05-12T20:53:08.608792Z"
    },
    "hidden": true
   },
   "outputs": [],
   "source": [
    "L2_01 = models.Sequential()\n",
    "L2_01.add(layers.Conv2D(32, (3, 3), kernel_regularizer=regularizers.l2(0.01), activation='relu', input_shape=(128,128,3)))\n",
    "L2_01.add(layers.MaxPooling2D((2, 2)))\n",
    "\n",
    "L2_01.add(layers.Conv2D(64, (3, 3), kernel_regularizer=regularizers.l2(0.01), activation='relu'))\n",
    "L2_01.add(layers.MaxPooling2D((2, 2)))\n",
    "\n",
    "L2_01.add(layers.Conv2D(128, (3, 3), kernel_regularizer=regularizers.l2(0.01), activation='relu'))\n",
    "L2_01.add(layers.MaxPooling2D((2, 2)))\n",
    "\n",
    "L2_01.add(layers.Flatten())\n",
    "L2_01.add(layers.Dense(128, activation='relu'))\n",
    "L2_01.add(layers.Dense(1, activation='sigmoid'))\n",
    "\n",
    "L2_01.compile(optimizer='adam',\n",
    "                    loss='binary_crossentropy',\n",
    "                    metrics=['accuracy'])"
   ]
  },
  {
   "cell_type": "code",
   "execution_count": 17,
   "metadata": {
    "ExecuteTime": {
     "end_time": "2021-05-12T20:53:08.690089Z",
     "start_time": "2021-05-12T20:53:08.687588Z"
    },
    "hidden": true
   },
   "outputs": [],
   "source": [
    "es_L2_01 = [EarlyStopping(monitor='val_loss', mode='min', verbose=1, patience=6),\n",
    "                    ModelCheckpoint(filepath='best_L2_01.h5', \n",
    "                                    monitor='val_accuracy', mode='max', verbose=1, save_best_only=True)]"
   ]
  },
  {
   "cell_type": "code",
   "execution_count": 18,
   "metadata": {
    "ExecuteTime": {
     "end_time": "2021-05-12T21:01:13.745547Z",
     "start_time": "2021-05-12T20:53:08.692192Z"
    },
    "hidden": true
   },
   "outputs": [
    {
     "name": "stdout",
     "output_type": "stream",
     "text": [
      "Epoch 1/50\n",
      "163/163 [==============================] - 43s 261ms/step - loss: 1.1511 - accuracy: 0.7802 - val_loss: 0.8041 - val_accuracy: 0.7612\n",
      "\n",
      "Epoch 00001: val_accuracy improved from -inf to 0.76122, saving model to best_L2_01.h5\n",
      "Epoch 2/50\n",
      "163/163 [==============================] - 43s 266ms/step - loss: 0.2782 - accuracy: 0.9547 - val_loss: 0.6924 - val_accuracy: 0.7692\n",
      "\n",
      "Epoch 00002: val_accuracy improved from 0.76122 to 0.76923, saving model to best_L2_01.h5\n",
      "Epoch 3/50\n",
      "163/163 [==============================] - 43s 263ms/step - loss: 0.2047 - accuracy: 0.9644 - val_loss: 0.7289 - val_accuracy: 0.7885\n",
      "\n",
      "Epoch 00003: val_accuracy improved from 0.76923 to 0.78846, saving model to best_L2_01.h5\n",
      "Epoch 4/50\n",
      "163/163 [==============================] - 46s 280ms/step - loss: 0.1814 - accuracy: 0.9639 - val_loss: 0.7634 - val_accuracy: 0.7628\n",
      "\n",
      "Epoch 00004: val_accuracy did not improve from 0.78846\n",
      "Epoch 5/50\n",
      "163/163 [==============================] - 46s 284ms/step - loss: 0.1462 - accuracy: 0.9669 - val_loss: 0.6291 - val_accuracy: 0.7740\n",
      "\n",
      "Epoch 00005: val_accuracy did not improve from 0.78846\n",
      "Epoch 6/50\n",
      "163/163 [==============================] - 46s 284ms/step - loss: 0.1281 - accuracy: 0.9728 - val_loss: 0.9264 - val_accuracy: 0.7019\n",
      "\n",
      "Epoch 00006: val_accuracy did not improve from 0.78846\n",
      "Epoch 7/50\n",
      "163/163 [==============================] - 44s 272ms/step - loss: 0.1452 - accuracy: 0.9606 - val_loss: 1.0046 - val_accuracy: 0.7612\n",
      "\n",
      "Epoch 00007: val_accuracy did not improve from 0.78846\n",
      "Epoch 8/50\n",
      "163/163 [==============================] - 43s 264ms/step - loss: 0.1108 - accuracy: 0.9734 - val_loss: 0.8988 - val_accuracy: 0.7676\n",
      "\n",
      "Epoch 00008: val_accuracy did not improve from 0.78846\n",
      "Epoch 9/50\n",
      "163/163 [==============================] - 43s 265ms/step - loss: 0.1084 - accuracy: 0.9714 - val_loss: 1.0987 - val_accuracy: 0.7244\n",
      "\n",
      "Epoch 00009: val_accuracy did not improve from 0.78846\n",
      "Epoch 10/50\n",
      "163/163 [==============================] - 43s 267ms/step - loss: 0.1133 - accuracy: 0.9707 - val_loss: 1.1416 - val_accuracy: 0.7404\n",
      "\n",
      "Epoch 00010: val_accuracy did not improve from 0.78846\n",
      "Epoch 11/50\n",
      "163/163 [==============================] - 43s 266ms/step - loss: 0.1061 - accuracy: 0.9698 - val_loss: 0.9292 - val_accuracy: 0.7548\n",
      "\n",
      "Epoch 00011: val_accuracy did not improve from 0.78846\n",
      "Epoch 00011: early stopping\n"
     ]
    }
   ],
   "source": [
    "L2_01_history = L2_01.fit(X_train, y_train,\n",
    "                                epochs=50,\n",
    "                                batch_size=32,\n",
    "                                callbacks=es_L2_01,\n",
    "                                validation_data=(X_test, y_test))"
   ]
  },
  {
   "cell_type": "code",
   "execution_count": 19,
   "metadata": {
    "ExecuteTime": {
     "end_time": "2021-05-12T21:01:14.012693Z",
     "start_time": "2021-05-12T21:01:13.747217Z"
    },
    "hidden": true,
    "scrolled": true
   },
   "outputs": [
    {
     "data": {
      "image/png": "[encoded data removed]",
      "text/plain": [
       "<Figure size 432x288 with 2 Axes>"
      ]
     },
     "metadata": {
      "needs_background": "light"
     },
     "output_type": "display_data"
    }
   ],
   "source": [
    "visualize_training_results(L2_01_history)"
   ]
  },
  {
   "cell_type": "code",
   "execution_count": 20,
   "metadata": {
    "ExecuteTime": {
     "end_time": "2021-05-12T21:01:25.808550Z",
     "start_time": "2021-05-12T21:01:14.014232Z"
    },
    "hidden": true
   },
   "outputs": [
    {
     "name": "stdout",
     "output_type": "stream",
     "text": [
      "163/163 [==============================] - 11s 70ms/step - loss: 0.1782 - accuracy: 0.9615\n",
      "Training Loss:0.1782\n",
      "Training Accuracy:0.9615\n",
      "1/1 [==============================] - 0s 142ms/step - loss: 0.2084 - accuracy: 1.0000\n",
      "Val Loss:0.2084\n",
      "Val Accuracy:1.0\n"
     ]
    }
   ],
   "source": [
    "L201 = load_model('best_L2_01.h5')\n",
    "model_evaluation(L201)"
   ]
  },
  {
   "cell_type": "markdown",
   "metadata": {},
   "source": [
    "#### L2(0.005) prediction TRY"
   ]
  },
  {
   "cell_type": "code",
   "execution_count": 45,
   "metadata": {
    "ExecuteTime": {
     "end_time": "2021-05-14T05:49:22.378604Z",
     "start_time": "2021-05-14T05:49:08.437494Z"
    }
   },
   "outputs": [
    {
     "name": "stdout",
     "output_type": "stream",
     "text": [
      "163/163 [==============================] - 11s 64ms/step - loss: 0.2492 - accuracy: 0.9442\n",
      "Training Loss:0.2492\n",
      "Training Accuracy:0.9442\n",
      "20/20 [==============================] - 2s 64ms/step - loss: 0.5034 - accuracy: 0.8446\n",
      "Test Loss:0.5034\n",
      "Test Accuracy:0.8446\n"
     ]
    },
    {
     "data": {
      "image/png": "[encoded data removed]",
      "text/plain": [
       "<Figure size 432x288 with 2 Axes>"
      ]
     },
     "metadata": {
      "needs_background": "light"
     },
     "output_type": "display_data"
    },
    {
     "data": {
      "text/plain": [
       "([0.9442], [0.8446])"
      ]
     },
     "execution_count": 45,
     "metadata": {},
     "output_type": "execute_result"
    }
   ],
   "source": [
    "L2 = load_model('saved_models/best_L2.h5')\n",
    "model_evaluation(L2)"
   ]
  },
  {
   "cell_type": "code",
   "execution_count": 46,
   "metadata": {
    "ExecuteTime": {
     "end_time": "2021-05-14T05:49:41.211943Z",
     "start_time": "2021-05-14T05:49:41.138069Z"
    }
   },
   "outputs": [
    {
     "data": {
      "text/plain": [
       "array([[0.33516 ],\n",
       "       [0.758586],\n",
       "       [0.917087],\n",
       "       [0.022783],\n",
       "       [0.994851],\n",
       "       [0.096325],\n",
       "       [0.827329],\n",
       "       [0.985   ],\n",
       "       [0.020615],\n",
       "       [0.097032],\n",
       "       [0.082617],\n",
       "       [0.134354],\n",
       "       [0.387113],\n",
       "       [0.03226 ],\n",
       "       [0.99537 ],\n",
       "       [0.924776]], dtype=float32)"
      ]
     },
     "execution_count": 46,
     "metadata": {},
     "output_type": "execute_result"
    }
   ],
   "source": [
    "# Predict for probability of getting 1\n",
    "L2.predict(X_val)\n",
    "\n",
    "# predict_proba was deprecated"
   ]
  },
  {
   "cell_type": "code",
   "execution_count": 47,
   "metadata": {
    "ExecuteTime": {
     "end_time": "2021-05-14T05:50:46.749886Z",
     "start_time": "2021-05-14T05:50:46.677596Z"
    }
   },
   "outputs": [
    {
     "data": {
      "text/plain": [
       "array([0.33516 , 0.758586, 0.917087, 0.022783, 0.994851, 0.096325,\n",
       "       0.827329, 0.985   , 0.020615, 0.097032, 0.082617, 0.134354,\n",
       "       0.387113, 0.03226 , 0.99537 , 0.924776], dtype=float32)"
      ]
     },
     "execution_count": 47,
     "metadata": {},
     "output_type": "execute_result"
    }
   ],
   "source": [
    "# Flatten the array\n",
    "prob = L2.predict(X_val).flatten()\n",
    "prob"
   ]
  },
  {
   "cell_type": "code",
   "execution_count": 48,
   "metadata": {
    "ExecuteTime": {
     "end_time": "2021-05-14T05:51:47.191820Z",
     "start_time": "2021-05-14T05:51:47.120646Z"
    }
   },
   "outputs": [
    {
     "data": {
      "text/plain": [
       "array([0, 1, 1, 0, 1, 0, 1, 1, 0, 0, 0, 0, 0, 0, 1, 1], dtype=int32)"
      ]
     },
     "execution_count": 48,
     "metadata": {},
     "output_type": "execute_result"
    }
   ],
   "source": [
    "# Make prediction \n",
    "y_val_pred = ((L2.predict(X_val) > 0.5).astype(\"int32\")).flatten()\n",
    "y_val_pred\n",
    "\n",
    "# pad.predict_classes(X_val) was deprecated"
   ]
  },
  {
   "cell_type": "code",
   "execution_count": 49,
   "metadata": {
    "ExecuteTime": {
     "end_time": "2021-05-14T05:52:18.482069Z",
     "start_time": "2021-05-14T05:52:18.477833Z"
    }
   },
   "outputs": [
    {
     "data": {
      "text/plain": [
       "array([0, 1, 1, 0, 1, 0, 1, 1, 0, 0, 0, 0, 1, 0, 1, 1], dtype=int32)"
      ]
     },
     "execution_count": 49,
     "metadata": {},
     "output_type": "execute_result"
    }
   ],
   "source": [
    "y_act = y_val.astype(\"int32\").flatten()\n",
    "y_act"
   ]
  },
  {
   "cell_type": "code",
   "execution_count": 50,
   "metadata": {
    "ExecuteTime": {
     "end_time": "2021-05-14T05:53:23.375754Z",
     "start_time": "2021-05-14T05:53:23.365598Z"
    }
   },
   "outputs": [],
   "source": [
    "compare_df = pd.concat([pd.Series(y_act, name=\"Actual\"),\n",
    "                        pd.Series(y_val_pred, name=\"Predicted\"),\n",
    "                        pd.Series(prob, name=\"Probabilities\")], axis=1)"
   ]
  },
  {
   "cell_type": "code",
   "execution_count": 51,
   "metadata": {
    "ExecuteTime": {
     "end_time": "2021-05-14T05:53:37.181940Z",
     "start_time": "2021-05-14T05:53:37.160736Z"
    }
   },
   "outputs": [
    {
     "data": {
      "text/html": [
       "<div>\n",
       "<style scoped>\n",
       "    .dataframe tbody tr th:only-of-type {\n",
       "        vertical-align: middle;\n",
       "    }\n",
       "\n",
       "    .dataframe tbody tr th {\n",
       "        vertical-align: top;\n",
       "    }\n",
       "\n",
       "    .dataframe thead th {\n",
       "        text-align: right;\n",
       "    }\n",
       "</style>\n",
       "<table border=\"1\" class=\"dataframe\">\n",
       "  <thead>\n",
       "    <tr style=\"text-align: right;\">\n",
       "      <th></th>\n",
       "      <th>Actual</th>\n",
       "      <th>Predicted</th>\n",
       "      <th>Probabilities</th>\n",
       "    </tr>\n",
       "  </thead>\n",
       "  <tbody>\n",
       "    <tr>\n",
       "      <th>0</th>\n",
       "      <td>0</td>\n",
       "      <td>0</td>\n",
       "      <td>0.335160</td>\n",
       "    </tr>\n",
       "    <tr>\n",
       "      <th>1</th>\n",
       "      <td>1</td>\n",
       "      <td>1</td>\n",
       "      <td>0.758586</td>\n",
       "    </tr>\n",
       "    <tr>\n",
       "      <th>2</th>\n",
       "      <td>1</td>\n",
       "      <td>1</td>\n",
       "      <td>0.917087</td>\n",
       "    </tr>\n",
       "    <tr>\n",
       "      <th>3</th>\n",
       "      <td>0</td>\n",
       "      <td>0</td>\n",
       "      <td>0.022783</td>\n",
       "    </tr>\n",
       "    <tr>\n",
       "      <th>4</th>\n",
       "      <td>1</td>\n",
       "      <td>1</td>\n",
       "      <td>0.994851</td>\n",
       "    </tr>\n",
       "    <tr>\n",
       "      <th>5</th>\n",
       "      <td>0</td>\n",
       "      <td>0</td>\n",
       "      <td>0.096325</td>\n",
       "    </tr>\n",
       "    <tr>\n",
       "      <th>6</th>\n",
       "      <td>1</td>\n",
       "      <td>1</td>\n",
       "      <td>0.827329</td>\n",
       "    </tr>\n",
       "    <tr>\n",
       "      <th>7</th>\n",
       "      <td>1</td>\n",
       "      <td>1</td>\n",
       "      <td>0.985000</td>\n",
       "    </tr>\n",
       "    <tr>\n",
       "      <th>8</th>\n",
       "      <td>0</td>\n",
       "      <td>0</td>\n",
       "      <td>0.020615</td>\n",
       "    </tr>\n",
       "    <tr>\n",
       "      <th>9</th>\n",
       "      <td>0</td>\n",
       "      <td>0</td>\n",
       "      <td>0.097032</td>\n",
       "    </tr>\n",
       "    <tr>\n",
       "      <th>10</th>\n",
       "      <td>0</td>\n",
       "      <td>0</td>\n",
       "      <td>0.082617</td>\n",
       "    </tr>\n",
       "    <tr>\n",
       "      <th>11</th>\n",
       "      <td>0</td>\n",
       "      <td>0</td>\n",
       "      <td>0.134354</td>\n",
       "    </tr>\n",
       "    <tr>\n",
       "      <th>12</th>\n",
       "      <td>1</td>\n",
       "      <td>0</td>\n",
       "      <td>0.387113</td>\n",
       "    </tr>\n",
       "    <tr>\n",
       "      <th>13</th>\n",
       "      <td>0</td>\n",
       "      <td>0</td>\n",
       "      <td>0.032260</td>\n",
       "    </tr>\n",
       "    <tr>\n",
       "      <th>14</th>\n",
       "      <td>1</td>\n",
       "      <td>1</td>\n",
       "      <td>0.995370</td>\n",
       "    </tr>\n",
       "    <tr>\n",
       "      <th>15</th>\n",
       "      <td>1</td>\n",
       "      <td>1</td>\n",
       "      <td>0.924776</td>\n",
       "    </tr>\n",
       "  </tbody>\n",
       "</table>\n",
       "</div>"
      ],
      "text/plain": [
       "    Actual  Predicted  Probabilities\n",
       "0        0          0       0.335160\n",
       "1        1          1       0.758586\n",
       "2        1          1       0.917087\n",
       "3        0          0       0.022783\n",
       "4        1          1       0.994851\n",
       "5        0          0       0.096325\n",
       "6        1          1       0.827329\n",
       "7        1          1       0.985000\n",
       "8        0          0       0.020615\n",
       "9        0          0       0.097032\n",
       "10       0          0       0.082617\n",
       "11       0          0       0.134354\n",
       "12       1          0       0.387113\n",
       "13       0          0       0.032260\n",
       "14       1          1       0.995370\n",
       "15       1          1       0.924776"
      ]
     },
     "execution_count": 51,
     "metadata": {},
     "output_type": "execute_result"
    }
   ],
   "source": [
    "compare_df"
   ]
  },
  {
   "cell_type": "code",
   "execution_count": null,
   "metadata": {},
   "outputs": [],
   "source": []
  },
  {
   "cell_type": "code",
   "execution_count": null,
   "metadata": {},
   "outputs": [],
   "source": []
  },
  {
   "cell_type": "code",
   "execution_count": null,
   "metadata": {},
   "outputs": [],
   "source": []
  },
  {
   "cell_type": "code",
   "execution_count": null,
   "metadata": {},
   "outputs": [],
   "source": []
  },
  {
   "cell_type": "code",
   "execution_count": null,
   "metadata": {},
   "outputs": [],
   "source": []
  },
  {
   "cell_type": "markdown",
   "metadata": {},
   "source": [
    "### Padding"
   ]
  },
  {
   "cell_type": "code",
   "execution_count": 47,
   "metadata": {
    "ExecuteTime": {
     "end_time": "2021-05-14T03:45:11.752084Z",
     "start_time": "2021-05-14T03:45:11.668415Z"
    }
   },
   "outputs": [],
   "source": [
    "padding = models.Sequential()\n",
    "padding.add(layers.Conv2D(32, (3, 3), padding='same', activation='relu', input_shape=(128,128,3)))\n",
    "padding.add(layers.MaxPooling2D((2, 2)))\n",
    "\n",
    "padding.add(layers.Conv2D(64, (3, 3), padding='same', activation='relu'))\n",
    "padding.add(layers.MaxPooling2D((2, 2)))\n",
    "\n",
    "padding.add(layers.Conv2D(128, (3, 3), padding='same', activation='relu'))\n",
    "padding.add(layers.MaxPooling2D((2, 2)))\n",
    "\n",
    "padding.add(layers.Flatten())\n",
    "padding.add(layers.Dense(128, activation='relu'))\n",
    "padding.add(layers.Dense(1, activation='sigmoid'))\n",
    "\n",
    "padding.compile(optimizer='adam',\n",
    "                loss='binary_crossentropy',\n",
    "                metrics=['accuracy'])"
   ]
  },
  {
   "cell_type": "code",
   "execution_count": 48,
   "metadata": {
    "ExecuteTime": {
     "end_time": "2021-05-14T03:45:15.546645Z",
     "start_time": "2021-05-14T03:45:15.543689Z"
    }
   },
   "outputs": [],
   "source": [
    "es_padding = [EarlyStopping(monitor='val_loss', mode='min', verbose=1, patience=6),\n",
    "              ModelCheckpoint(filepath='saved_models/best_padding.h5', \n",
    "                              monitor='val_accuracy', mode='max', verbose=1, save_best_only=True)]"
   ]
  },
  {
   "cell_type": "code",
   "execution_count": 49,
   "metadata": {
    "ExecuteTime": {
     "end_time": "2021-05-14T03:52:40.924165Z",
     "start_time": "2021-05-14T03:45:33.606200Z"
    }
   },
   "outputs": [
    {
     "name": "stdout",
     "output_type": "stream",
     "text": [
      "Epoch 1/50\n",
      "163/163 [==============================] - 50s 302ms/step - loss: 0.5563 - accuracy: 0.7632 - val_loss: 0.9447 - val_accuracy: 0.7244\n",
      "\n",
      "Epoch 00001: val_accuracy improved from -inf to 0.72436, saving model to saved_models/best_padding.h5\n",
      "Epoch 2/50\n",
      "163/163 [==============================] - 47s 287ms/step - loss: 0.1118 - accuracy: 0.9594 - val_loss: 0.8752 - val_accuracy: 0.7564\n",
      "\n",
      "Epoch 00002: val_accuracy improved from 0.72436 to 0.75641, saving model to saved_models/best_padding.h5\n",
      "Epoch 3/50\n",
      "163/163 [==============================] - 47s 289ms/step - loss: 0.0956 - accuracy: 0.9680 - val_loss: 0.7980 - val_accuracy: 0.7804\n",
      "\n",
      "Epoch 00003: val_accuracy improved from 0.75641 to 0.78045, saving model to saved_models/best_padding.h5\n",
      "Epoch 4/50\n",
      "163/163 [==============================] - 47s 288ms/step - loss: 0.0781 - accuracy: 0.9728 - val_loss: 1.6736 - val_accuracy: 0.6971\n",
      "\n",
      "Epoch 00004: val_accuracy did not improve from 0.78045\n",
      "Epoch 5/50\n",
      "163/163 [==============================] - 47s 289ms/step - loss: 0.0731 - accuracy: 0.9710 - val_loss: 0.8812 - val_accuracy: 0.7804\n",
      "\n",
      "Epoch 00005: val_accuracy did not improve from 0.78045\n",
      "Epoch 6/50\n",
      "163/163 [==============================] - 47s 290ms/step - loss: 0.0439 - accuracy: 0.9838 - val_loss: 1.3175 - val_accuracy: 0.7644\n",
      "\n",
      "Epoch 00006: val_accuracy did not improve from 0.78045\n",
      "Epoch 7/50\n",
      "163/163 [==============================] - 47s 289ms/step - loss: 0.0344 - accuracy: 0.9854 - val_loss: 1.7792 - val_accuracy: 0.7340\n",
      "\n",
      "Epoch 00007: val_accuracy did not improve from 0.78045\n",
      "Epoch 8/50\n",
      "163/163 [==============================] - 48s 292ms/step - loss: 0.0312 - accuracy: 0.9881 - val_loss: 2.0384 - val_accuracy: 0.7212\n",
      "\n",
      "Epoch 00008: val_accuracy did not improve from 0.78045\n",
      "Epoch 9/50\n",
      "163/163 [==============================] - 47s 291ms/step - loss: 0.0158 - accuracy: 0.9949 - val_loss: 1.6243 - val_accuracy: 0.7532\n",
      "\n",
      "Epoch 00009: val_accuracy did not improve from 0.78045\n",
      "Epoch 00009: early stopping\n"
     ]
    }
   ],
   "source": [
    "padding_history = padding.fit(X_train, y_train,\n",
    "                              epochs=50,\n",
    "                              batch_size=32,\n",
    "                              callbacks=es_padding,\n",
    "                              validation_data=(X_test, y_test))"
   ]
  },
  {
   "cell_type": "code",
   "execution_count": 50,
   "metadata": {
    "ExecuteTime": {
     "end_time": "2021-05-14T03:53:13.677990Z",
     "start_time": "2021-05-14T03:53:13.378257Z"
    },
    "scrolled": false
   },
   "outputs": [
    {
     "data": {
      "image/png": "[encoded data removed]",
      "text/plain": [
       "<Figure size 432x288 with 2 Axes>"
      ]
     },
     "metadata": {
      "needs_background": "light"
     },
     "output_type": "display_data"
    }
   ],
   "source": [
    "visualize_training_results(padding_history)"
   ]
  },
  {
   "cell_type": "code",
   "execution_count": 51,
   "metadata": {
    "ExecuteTime": {
     "end_time": "2021-05-14T03:53:33.432973Z",
     "start_time": "2021-05-14T03:53:17.915988Z"
    }
   },
   "outputs": [
    {
     "name": "stdout",
     "output_type": "stream",
     "text": [
      "163/163 [==============================] - 12s 74ms/step - loss: 0.0582 - accuracy: 0.9785\n",
      "Training Loss:0.05816\n",
      "Training Accuracy:0.9785\n",
      "20/20 [==============================] - 2s 74ms/step - loss: 0.7980 - accuracy: 0.7804\n",
      "Test Loss:0.798\n",
      "Test Accuracy:0.7804\n"
     ]
    },
    {
     "data": {
      "image/png": "[encoded data removed]",
      "text/plain": [
       "<Figure size 432x288 with 2 Axes>"
      ]
     },
     "metadata": {
      "needs_background": "light"
     },
     "output_type": "display_data"
    },
    {
     "data": {
      "text/plain": [
       "([0.9785], [0.7804])"
      ]
     },
     "execution_count": 51,
     "metadata": {},
     "output_type": "execute_result"
    }
   ],
   "source": [
    "pad = load_model('saved_models/best_padding.h5')\n",
    "model_evaluation(pad)"
   ]
  },
  {
   "cell_type": "markdown",
   "metadata": {},
   "source": [
    ">**Comment:** \n",
    "- The Padding took less time to run compare with the baseline model\n",
    "- The train accuracy (0.9785) is higher than test accuracy (0.7804) which indicates the model is overfit\n",
    "- Compare with the baseline model, test accuray shows some improvements\n",
    "- There are more false positive than false negative"
   ]
  },
  {
   "cell_type": "markdown",
   "metadata": {},
   "source": [
    "### Pretrained VGG19"
   ]
  },
  {
   "cell_type": "code",
   "execution_count": 12,
   "metadata": {
    "ExecuteTime": {
     "end_time": "2021-05-14T04:40:13.418650Z",
     "start_time": "2021-05-14T04:40:13.391445Z"
    }
   },
   "outputs": [],
   "source": [
    "from keras.applications import VGG19"
   ]
  },
  {
   "cell_type": "code",
   "execution_count": 38,
   "metadata": {
    "ExecuteTime": {
     "end_time": "2021-05-14T04:51:43.852540Z",
     "start_time": "2021-05-14T04:51:43.487178Z"
    }
   },
   "outputs": [],
   "source": [
    "pretrained = VGG19(weights='imagenet',\n",
    "                   include_top=False,\n",
    "                   input_shape=X_train.shape[1:])"
   ]
  },
  {
   "cell_type": "code",
   "execution_count": 39,
   "metadata": {
    "ExecuteTime": {
     "end_time": "2021-05-14T04:51:46.539564Z",
     "start_time": "2021-05-14T04:51:46.463608Z"
    }
   },
   "outputs": [],
   "source": [
    "pre = models.Sequential()\n",
    "pre.add(pretrained)\n",
    "pre.add(layers.Flatten())\n",
    "pre.add(layers.Dense(128, activation='relu'))\n",
    "pre.add(layers.Dense(1, activation='sigmoid'))\n",
    "\n",
    "# Freeze pretained layer\n",
    "pretrained.trainable = False"
   ]
  },
  {
   "cell_type": "code",
   "execution_count": 40,
   "metadata": {
    "ExecuteTime": {
     "end_time": "2021-05-14T04:51:47.589552Z",
     "start_time": "2021-05-14T04:51:47.584847Z"
    }
   },
   "outputs": [
    {
     "name": "stdout",
     "output_type": "stream",
     "text": [
      "Model: \"sequential_3\"\n",
      "_________________________________________________________________\n",
      "Layer (type)                 Output Shape              Param #   \n",
      "=================================================================\n",
      "vgg19 (Functional)           (None, 4, 4, 512)         20024384  \n",
      "_________________________________________________________________\n",
      "flatten_3 (Flatten)          (None, 8192)              0         \n",
      "_________________________________________________________________\n",
      "dense_6 (Dense)              (None, 128)               1048704   \n",
      "_________________________________________________________________\n",
      "dense_7 (Dense)              (None, 1)                 129       \n",
      "=================================================================\n",
      "Total params: 21,073,217\n",
      "Trainable params: 1,048,833\n",
      "Non-trainable params: 20,024,384\n",
      "_________________________________________________________________\n"
     ]
    }
   ],
   "source": [
    "pre.summary()"
   ]
  },
  {
   "cell_type": "code",
   "execution_count": 41,
   "metadata": {
    "ExecuteTime": {
     "end_time": "2021-05-14T04:51:53.008199Z",
     "start_time": "2021-05-14T04:51:53.004416Z"
    }
   },
   "outputs": [
    {
     "name": "stdout",
     "output_type": "stream",
     "text": [
      "vgg19 False\n",
      "flatten_3 True\n",
      "dense_6 True\n",
      "dense_7 True\n"
     ]
    }
   ],
   "source": [
    "# Verify \"frozen\"\n",
    "for layer in pre.layers:\n",
    "    print(layer.name, layer.trainable)"
   ]
  },
  {
   "cell_type": "code",
   "execution_count": 42,
   "metadata": {
    "ExecuteTime": {
     "end_time": "2021-05-14T04:51:56.883049Z",
     "start_time": "2021-05-14T04:51:56.873339Z"
    }
   },
   "outputs": [],
   "source": [
    "pre.compile(optimizer='adam',\n",
    "            loss='binary_crossentropy',\n",
    "            metrics=['accuracy'])"
   ]
  },
  {
   "cell_type": "code",
   "execution_count": 43,
   "metadata": {
    "ExecuteTime": {
     "end_time": "2021-05-14T04:51:58.701607Z",
     "start_time": "2021-05-14T04:51:58.698780Z"
    }
   },
   "outputs": [],
   "source": [
    "es_pre = [EarlyStopping(monitor='val_loss', mode='min', verbose=1, patience=6),\n",
    "          ModelCheckpoint(filepath='saved_models/best_pre.h5', \n",
    "                          monitor='val_accuracy', mode='max', verbose=1, save_best_only=True)]"
   ]
  },
  {
   "cell_type": "code",
   "execution_count": null,
   "metadata": {},
   "outputs": [],
   "source": [
    "pre_history = pre.fit(X_train, y_train,\n",
    "                      epochs=50,\n",
    "                      batch_size=32,\n",
    "                      callbacks=es_pre,\n",
    "                      validation_data=(X_test, y_test))"
   ]
  },
  {
   "cell_type": "code",
   "execution_count": 79,
   "metadata": {
    "ExecuteTime": {
     "end_time": "2021-05-13T21:38:31.189791Z",
     "start_time": "2021-05-13T21:38:30.928600Z"
    }
   },
   "outputs": [
    {
     "data": {
      "image/png": "[encoded data removed]",
      "text/plain": [
       "<Figure size 432x288 with 2 Axes>"
      ]
     },
     "metadata": {
      "needs_background": "light"
     },
     "output_type": "display_data"
    }
   ],
   "source": [
    "visualize_training_results(pre_history)"
   ]
  },
  {
   "cell_type": "code",
   "execution_count": 145,
   "metadata": {
    "ExecuteTime": {
     "end_time": "2021-05-13T22:23:46.756508Z",
     "start_time": "2021-05-13T22:23:34.914655Z"
    }
   },
   "outputs": [
    {
     "name": "stdout",
     "output_type": "stream",
     "text": [
      "163/163 [==============================] - 11s 68ms/step - loss: 1.9432e-04 - accuracy: 1.0000\n",
      "Training Loss:0.000194323\n",
      "Training Accuracy:1.0\n",
      "1/1 [==============================] - 0s 135ms/step - loss: 0.1564 - accuracy: 0.8750\n",
      "Val Loss:0.156365\n",
      "Val Accuracy:0.875\n"
     ]
    },
    {
     "data": {
      "image/png": "[encoded data removed]",
      "text/plain": [
       "<Figure size 432x288 with 2 Axes>"
      ]
     },
     "metadata": {
      "needs_background": "light"
     },
     "output_type": "display_data"
    },
    {
     "data": {
      "text/plain": [
       "([1.0], [0.875])"
      ]
     },
     "execution_count": 145,
     "metadata": {},
     "output_type": "execute_result"
    }
   ],
   "source": [
    "pret = load_model('saved_models/best_pre.h5')\n",
    "model_evaluation(pret)"
   ]
  },
  {
   "cell_type": "code",
   "execution_count": 98,
   "metadata": {
    "ExecuteTime": {
     "end_time": "2021-05-13T21:59:49.095048Z",
     "start_time": "2021-05-13T21:59:49.021496Z"
    }
   },
   "outputs": [
    {
     "data": {
      "text/plain": [
       "array([[0],\n",
       "       [1],\n",
       "       [1],\n",
       "       [0],\n",
       "       [0],\n",
       "       [1],\n",
       "       [1],\n",
       "       [1],\n",
       "       [0],\n",
       "       [1],\n",
       "       [0],\n",
       "       [1],\n",
       "       [1],\n",
       "       [1],\n",
       "       [0],\n",
       "       [1]], dtype=int32)"
      ]
     },
     "execution_count": 98,
     "metadata": {},
     "output_type": "execute_result"
    }
   ],
   "source": [
    "y_val_pred = (xx2.predict(X_val) > 0.5).astype(\"int32\")\n",
    "y_val_pred"
   ]
  },
  {
   "cell_type": "code",
   "execution_count": 99,
   "metadata": {
    "ExecuteTime": {
     "end_time": "2021-05-13T21:59:51.461748Z",
     "start_time": "2021-05-13T21:59:51.457697Z"
    }
   },
   "outputs": [
    {
     "data": {
      "text/plain": [
       "array([0., 1., 1., 0., 0., 1., 1., 0., 0., 1., 0., 1., 1., 1., 0., 0.],\n",
       "      dtype=float32)"
      ]
     },
     "execution_count": 99,
     "metadata": {},
     "output_type": "execute_result"
    }
   ],
   "source": [
    "y_val"
   ]
  },
  {
   "cell_type": "code",
   "execution_count": 100,
   "metadata": {
    "ExecuteTime": {
     "end_time": "2021-05-13T21:59:52.541038Z",
     "start_time": "2021-05-13T21:59:52.538695Z"
    }
   },
   "outputs": [],
   "source": [
    "from sklearn.metrics import confusion_matrix"
   ]
  },
  {
   "cell_type": "code",
   "execution_count": 106,
   "metadata": {
    "ExecuteTime": {
     "end_time": "2021-05-13T22:01:37.236363Z",
     "start_time": "2021-05-13T22:01:37.024477Z"
    }
   },
   "outputs": [],
   "source": [
    "import seaborn as sns"
   ]
  },
  {
   "cell_type": "code",
   "execution_count": 120,
   "metadata": {
    "ExecuteTime": {
     "end_time": "2021-05-13T22:05:04.523633Z",
     "start_time": "2021-05-13T22:05:04.380115Z"
    }
   },
   "outputs": [
    {
     "data": {
      "image/png": "[encoded data removed]",
      "text/plain": [
       "<Figure size 432x288 with 2 Axes>"
      ]
     },
     "metadata": {
      "needs_background": "light"
     },
     "output_type": "display_data"
    }
   ],
   "source": [
    "cm = confusion_matrix(y_val, y_val_pred)\n",
    "ax = sns.heatmap(cm, annot=True, cmap='Blues')\n",
    "ax.set_ylim(2,0)\n",
    "plt.xlabel('Predictions')\n",
    "plt.ylabel('Actuals')\n",
    "plt.show()"
   ]
  },
  {
   "cell_type": "code",
   "execution_count": 126,
   "metadata": {
    "ExecuteTime": {
     "end_time": "2021-05-13T22:15:56.068895Z",
     "start_time": "2021-05-13T22:15:55.988532Z"
    }
   },
   "outputs": [
    {
     "name": "stdout",
     "output_type": "stream",
     "text": [
      "1/1 [==============================] - 0s 52ms/step - loss: 0.1564 - accuracy: 0.8750\n"
     ]
    },
    {
     "data": {
      "text/plain": [
       "[0.15636546909809113, 0.875]"
      ]
     },
     "execution_count": 126,
     "metadata": {},
     "output_type": "execute_result"
    }
   ],
   "source": [
    "rs = xx2.evaluate(X_val, y_val)\n",
    "rs"
   ]
  },
  {
   "cell_type": "code",
   "execution_count": 132,
   "metadata": {
    "ExecuteTime": {
     "end_time": "2021-05-13T22:17:31.454095Z",
     "start_time": "2021-05-13T22:17:31.450647Z"
    }
   },
   "outputs": [
    {
     "data": {
      "text/plain": [
       "0.875"
      ]
     },
     "execution_count": 132,
     "metadata": {},
     "output_type": "execute_result"
    }
   ],
   "source": [
    "rs[1]"
   ]
  },
  {
   "cell_type": "code",
   "execution_count": 133,
   "metadata": {
    "ExecuteTime": {
     "end_time": "2021-05-13T22:17:33.922668Z",
     "start_time": "2021-05-13T22:17:33.920394Z"
    }
   },
   "outputs": [],
   "source": [
    "valacc = []"
   ]
  },
  {
   "cell_type": "code",
   "execution_count": 140,
   "metadata": {
    "ExecuteTime": {
     "end_time": "2021-05-13T22:21:53.415249Z",
     "start_time": "2021-05-13T22:21:53.339055Z"
    }
   },
   "outputs": [
    {
     "name": "stdout",
     "output_type": "stream",
     "text": [
      "1/1 [==============================] - 0s 50ms/step - loss: 0.1564 - accuracy: 0.8750\n"
     ]
    }
   ],
   "source": [
    "valacc.append(xx2.evaluate(X_val, y_val)[1])"
   ]
  },
  {
   "cell_type": "code",
   "execution_count": 141,
   "metadata": {
    "ExecuteTime": {
     "end_time": "2021-05-13T22:21:59.456834Z",
     "start_time": "2021-05-13T22:21:59.453565Z"
    }
   },
   "outputs": [
    {
     "data": {
      "text/plain": [
       "[0.875]"
      ]
     },
     "execution_count": 141,
     "metadata": {},
     "output_type": "execute_result"
    }
   ],
   "source": [
    "valacc"
   ]
  }
 ],
 "metadata": {
  "kernelspec": {
   "display_name": "Python 3",
   "language": "python",
   "name": "python3"
  },
  "language_info": {
   "codemirror_mode": {
    "name": "ipython",
    "version": 3
   },
   "file_extension": ".py",
   "mimetype": "text/x-python",
   "name": "python",
   "nbconvert_exporter": "python",
   "pygments_lexer": "ipython3",
   "version": "3.6.9"
  },
  "toc": {
   "base_numbering": 1,
   "nav_menu": {},
   "number_sections": false,
   "sideBar": true,
   "skip_h1_title": false,
   "title_cell": "Table of Contents",
   "title_sidebar": "Contents",
   "toc_cell": false,
   "toc_position": {
    "height": "calc(100% - 180px)",
    "left": "10px",
    "top": "150px",
    "width": "325.81px"
   },
   "toc_section_display": true,
   "toc_window_display": true
  }
 },
 "nbformat": 4,
 "nbformat_minor": 4
}
