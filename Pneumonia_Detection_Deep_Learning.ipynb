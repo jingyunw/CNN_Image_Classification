{
 "cells": [
  {
   "cell_type": "markdown",
   "metadata": {},
   "source": [
    "# Pneumonia Detection from Chest X-ray through Deep Learning"
   ]
  },
  {
   "cell_type": "markdown",
   "metadata": {},
   "source": [
    "## I. Overview"
   ]
  },
  {
   "cell_type": "markdown",
   "metadata": {},
   "source": [
    "## II. Business Problem"
   ]
  },
  {
   "cell_type": "markdown",
   "metadata": {},
   "source": [
    "## III. Data Understanding and Preparation\n",
    "- The datasets acquired from [Kaggle](https://www.kaggle.com/paultimothymooney/chest-xray-pneumonia) were downloaded in a \"chest_xray\" folder. This folder has 3 sub-folders inside which are \"train\", \"test\", and \"val\". Each sub-folder contains 2 sub-folders: \"NORMAL\" and \"PNEUMONIA\""
   ]
  },
  {
   "cell_type": "code",
   "execution_count": 1,
   "metadata": {
    "ExecuteTime": {
     "end_time": "2021-05-17T18:48:50.014355Z",
     "start_time": "2021-05-17T18:48:49.268201Z"
    }
   },
   "outputs": [],
   "source": [
    "import os\n",
    "\n",
    "import pandas as pd\n",
    "import numpy as np\n",
    "np.random.seed(24)\n",
    "# Set for displaying prediction probability for later\n",
    "np.set_printoptions(precision=6, suppress=True)  # if absolute value < 1e-4, set equal to 0\n",
    "\n",
    "import matplotlib.pyplot as plt\n",
    "%matplotlib inline\n",
    "import seaborn as sns"
   ]
  },
  {
   "cell_type": "code",
   "execution_count": 2,
   "metadata": {
    "ExecuteTime": {
     "end_time": "2021-05-17T18:48:52.539930Z",
     "start_time": "2021-05-17T18:48:50.016139Z"
    }
   },
   "outputs": [],
   "source": [
    "from tensorflow import random\n",
    "random.set_seed(24)\n",
    "from tensorflow.keras.preprocessing.image import ImageDataGenerator, array_to_img, img_to_array, load_img\n",
    "\n",
    "from tensorflow.keras import models\n",
    "from tensorflow.keras import layers\n",
    "from tensorflow.keras import regularizers\n",
    "from tensorflow.keras import optimizers\n",
    "\n",
    "from tensorflow.keras.callbacks import EarlyStopping, ModelCheckpoint\n",
    "\n",
    "from tensorflow.keras.models import load_model\n",
    "\n",
    "from sklearn.metrics import confusion_matrix"
   ]
  },
  {
   "cell_type": "code",
   "execution_count": 3,
   "metadata": {
    "ExecuteTime": {
     "end_time": "2021-05-17T18:48:52.568335Z",
     "start_time": "2021-05-17T18:48:52.542327Z"
    }
   },
   "outputs": [
    {
     "name": "stdout",
     "output_type": "stream",
     "text": [
      "Train Normal: 1341\n",
      "Train Pneumonia: 3875\n",
      "Train Total: 5216\n",
      "\n",
      "Test Normal: 234\n",
      "Test Pneumonia: 390\n",
      "Test Total: 624\n",
      "\n",
      "Val Normal: 8\n",
      "Val Pneumonia: 8\n",
      "Val Total: 16\n"
     ]
    }
   ],
   "source": [
    "# Check the number of images in each sub-folders\n",
    "\n",
    "# Train\n",
    "train_normal = 'chest_xray/train/NORMAL'\n",
    "train_pneumonia = 'chest_xray/train/PNEUMONIA'\n",
    "\n",
    "print(\"Train Normal:\", len(os.listdir(train_normal)))\n",
    "print(\"Train Pneumonia:\", len(os.listdir(train_pneumonia)))\n",
    "print(\"Train Total:\", len(os.listdir(train_normal)) + len(os.listdir(train_pneumonia)))\n",
    "\n",
    "# Test\n",
    "test_normal = 'chest_xray/test/NORMAL'\n",
    "test_pneumonia = 'chest_xray/test/PNEUMONIA'\n",
    "\n",
    "print(\"\\nTest Normal:\", len(os.listdir(test_normal)))\n",
    "print(\"Test Pneumonia:\", len(os.listdir(test_pneumonia)))\n",
    "print(\"Test Total:\", len(os.listdir(test_normal)) + len(os.listdir(test_pneumonia)))\n",
    "\n",
    "# Validation\n",
    "val_normal = 'chest_xray/val/NORMAL'\n",
    "val_pneumonia = 'chest_xray/val/PNEUMONIA'\n",
    "\n",
    "print(\"\\nVal Normal:\", len(os.listdir(val_normal)))\n",
    "print(\"Val Pneumonia:\", len(os.listdir(val_pneumonia)))\n",
    "print(\"Val Total:\", len(os.listdir(val_normal)) + len(os.listdir(val_pneumonia)))"
   ]
  },
  {
   "cell_type": "code",
   "execution_count": 4,
   "metadata": {
    "ExecuteTime": {
     "end_time": "2021-05-17T18:48:52.573099Z",
     "start_time": "2021-05-17T18:48:52.570517Z"
    }
   },
   "outputs": [],
   "source": [
    "# Create file directory\n",
    "train_dir = 'chest_xray/train'\n",
    "test_dir = 'chest_xray/test'\n",
    "val_dir = 'chest_xray/val'"
   ]
  },
  {
   "cell_type": "code",
   "execution_count": 5,
   "metadata": {
    "ExecuteTime": {
     "end_time": "2021-05-17T18:48:53.113048Z",
     "start_time": "2021-05-17T18:48:52.574761Z"
    }
   },
   "outputs": [
    {
     "name": "stdout",
     "output_type": "stream",
     "text": [
      "Found 5216 images belonging to 2 classes.\n",
      "Found 624 images belonging to 2 classes.\n",
      "Found 16 images belonging to 2 classes.\n"
     ]
    }
   ],
   "source": [
    "# Create data generator\n",
    "# Get all the train data (5216), test data (624), validation data (16) in the corresponding directory\n",
    "# Scale data\n",
    "# Set each image to 128×128 px\n",
    "# Set binary class mode\n",
    "\n",
    "train_generator = ImageDataGenerator(rescale=1./255)\\\n",
    "                  .flow_from_directory(train_dir, target_size=(128,128), batch_size=5216, class_mode='binary')\n",
    "\n",
    "test_generator = ImageDataGenerator(rescale=1./255)\\\n",
    "                 .flow_from_directory(test_dir, target_size=(128,128), batch_size=624, class_mode='binary') \n",
    "\n",
    "val_generator = ImageDataGenerator(rescale=1./255)\\\n",
    "                .flow_from_directory(val_dir, target_size=(128,128), batch_size=16, class_mode='binary') "
   ]
  },
  {
   "cell_type": "code",
   "execution_count": 6,
   "metadata": {
    "ExecuteTime": {
     "end_time": "2021-05-17T18:49:35.760235Z",
     "start_time": "2021-05-17T18:48:53.115115Z"
    },
    "scrolled": true
   },
   "outputs": [],
   "source": [
    "# Create the data sets\n",
    "# next - retrieve the next item from iterator\n",
    "X_train, y_train = next(train_generator)\n",
    "X_test, y_test = next(test_generator)\n",
    "X_val, y_val = next(val_generator)"
   ]
  },
  {
   "cell_type": "code",
   "execution_count": 7,
   "metadata": {
    "ExecuteTime": {
     "end_time": "2021-05-17T18:49:35.765879Z",
     "start_time": "2021-05-17T18:49:35.761731Z"
    }
   },
   "outputs": [
    {
     "name": "stdout",
     "output_type": "stream",
     "text": [
      "X_train shape: (5216, 128, 128, 3)\n",
      "y_train shape: (5216,)\n",
      "\n",
      "X_test shape: (624, 128, 128, 3)\n",
      "y_test shape: (624,)\n",
      "\n",
      "X_val shape: (16, 128, 128, 3)\n",
      "y_val shape: (16,)\n"
     ]
    }
   ],
   "source": [
    "# Check the shape\n",
    "print (\"X_train shape: \" + str(X_train.shape))\n",
    "print (\"y_train shape: \" + str(y_train.shape))\n",
    "\n",
    "print (\"\\nX_test shape: \" + str(X_test.shape))\n",
    "print (\"y_test shape: \" + str(y_test.shape))\n",
    "\n",
    "print (\"\\nX_val shape: \" + str(X_val.shape))\n",
    "print (\"y_val shape: \" + str(y_val.shape))"
   ]
  },
  {
   "cell_type": "code",
   "execution_count": 8,
   "metadata": {
    "ExecuteTime": {
     "end_time": "2021-05-17T18:49:35.772794Z",
     "start_time": "2021-05-17T18:49:35.768726Z"
    }
   },
   "outputs": [
    {
     "data": {
      "text/plain": [
       "{'NORMAL': 0, 'PNEUMONIA': 1}"
      ]
     },
     "execution_count": 8,
     "metadata": {},
     "output_type": "execute_result"
    }
   ],
   "source": [
    "# Check if the binary indicator was correctly labeled\n",
    "train_generator.class_indices"
   ]
  },
  {
   "cell_type": "code",
   "execution_count": 9,
   "metadata": {
    "ExecuteTime": {
     "end_time": "2021-05-17T18:49:35.779628Z",
     "start_time": "2021-05-17T18:49:35.774483Z"
    }
   },
   "outputs": [
    {
     "name": "stdout",
     "output_type": "stream",
     "text": [
      "[1, 3, 5, 6, 8, 9, 12, 14]\n",
      "[0, 2, 4, 7, 10, 11, 13, 15]\n"
     ]
    }
   ],
   "source": [
    "# Create two lists for storing the image number from validation set\n",
    "normal_img_num = []\n",
    "pneumonia_img_num = []\n",
    "\n",
    "# Validation set only contains 16 images\n",
    "# target label = 0 means normal\n",
    "# target label = 1 means pneumonis\n",
    "\n",
    "numbers = list(range(0,16))\n",
    "for num in numbers:\n",
    "    \n",
    "    if y_val[num] == 0:\n",
    "        normal_img_num.append(num)\n",
    "    \n",
    "    else:\n",
    "        pneumonia_img_num.append(num)\n",
    "\n",
    "print(normal_img_num)\n",
    "print(pneumonia_img_num)"
   ]
  },
  {
   "cell_type": "code",
   "execution_count": 10,
   "metadata": {
    "ExecuteTime": {
     "end_time": "2021-05-17T18:50:10.689163Z",
     "start_time": "2021-05-17T18:50:10.398837Z"
    }
   },
   "outputs": [
    {
     "name": "stdout",
     "output_type": "stream",
     "text": [
      "0.0\n",
      "1.0\n"
     ]
    },
    {
     "data": {
      "image/png": "[encoded data removed]",
      "text/plain": [
       "<Figure size 720x720 with 2 Axes>"
      ]
     },
     "metadata": {
      "needs_background": "light"
     },
     "output_type": "display_data"
    }
   ],
   "source": [
    "# Plot one image from each list \n",
    "# Choose the 1st image from each list\n",
    "fig = plt.figure(figsize=(10,10))\n",
    "n = 0\n",
    "\n",
    "# Normal\n",
    "ax1 = fig.add_subplot(121)\n",
    "plt.imshow(X_val[normal_img_num[n]])\n",
    "print(y_val[normal_img_num[n]])\n",
    "plt.title(\"Normal\");\n",
    "\n",
    "# Pneumonia\n",
    "ax2 = fig.add_subplot(122)\n",
    "plt.imshow(X_val[pneumonia_img_num[n]])\n",
    "print(y_val[pneumonia_img_num[n]])\n",
    "plt.title(\"Pneumonia\");"
   ]
  },
  {
   "cell_type": "code",
   "execution_count": 11,
   "metadata": {
    "ExecuteTime": {
     "end_time": "2021-05-17T18:50:24.674571Z",
     "start_time": "2021-05-17T18:50:24.664665Z"
    }
   },
   "outputs": [],
   "source": [
    "def visualize_training_results(history):\n",
    "    '''\n",
    "    Input: keras history object \n",
    "    \n",
    "    '''\n",
    "    \n",
    "    fig, (ax1, ax2) = plt.subplots(2, sharex=True)\n",
    "    fig.suptitle('Model Results')\n",
    "\n",
    "    # summarize history for accuracy\n",
    "    ax1.plot(history.history['accuracy'])\n",
    "    ax1.plot(history.history['val_accuracy'])\n",
    "    ax1.set_ylabel('Accuracy')\n",
    "    ax1.legend(['train', 'test'], loc='upper left')\n",
    "    \n",
    "    # summarize history for loss\n",
    "    ax2.plot(history.history['loss'])\n",
    "    ax2.plot(history.history['val_loss'])\n",
    "    ax2.set_ylabel('Loss')\n",
    "    ax2.legend(['train', 'test'], loc='upper left')\n",
    "    \n",
    "    plt.xlabel('Epoch')\n",
    "    plt.show()"
   ]
  },
  {
   "cell_type": "code",
   "execution_count": 12,
   "metadata": {
    "ExecuteTime": {
     "end_time": "2021-05-17T18:50:30.323245Z",
     "start_time": "2021-05-17T18:50:30.306115Z"
    }
   },
   "outputs": [],
   "source": [
    "def model_evaluation(model):\n",
    "    '''\n",
    "    Input: keras model\n",
    "    \n",
    "    Append accuracy results\n",
    "    \n",
    "    Plot confusion matrix\n",
    "    '''\n",
    "    \n",
    "    train_acc = []\n",
    "    test_acc = []\n",
    "    \n",
    "    # Train loss and accuracy\n",
    "    result_train = model.evaluate(X_train, y_train)\n",
    "    print(f'Training Loss:{result_train[0]:.4}')\n",
    "    print(f'Training Accuracy:{result_train[1]:.4}')\n",
    "    train_acc.append(round(result_train[1], 4))\n",
    "    \n",
    "    # Test loss and accuracy\n",
    "    result_test = model.evaluate(X_test, y_test)\n",
    "    print(f'Test Loss:{result_test[0]:.4}')\n",
    "    print(f'Test Accuracy:{result_test[1]:.4}')\n",
    "    test_acc.append(round(result_test[1], 4))\n",
    "    \n",
    "    # Prediction\n",
    "    y_test_pred = (model.predict(X_test) > 0.5).astype(\"int32\")\n",
    "    \n",
    "    # Plot confusion matrix\n",
    "    cm = confusion_matrix(y_test, y_test_pred)\n",
    "    ax = sns.heatmap(cm, annot=True, cmap='Blues', fmt='d')\n",
    "    ax.set_ylim(2,0)\n",
    "    plt.xlabel('Predictions')\n",
    "    plt.ylabel('Actuals')\n",
    "    plt.show()\n",
    "    \n",
    "    return train_acc, test_acc"
   ]
  },
  {
   "cell_type": "markdown",
   "metadata": {},
   "source": [
    "### Note:\n",
    "- Since the <u>*validation set*</u> contains much less data than the <u>*test set*</u>, I will use the <u>*test set*</u> as my validation during the model fit step\n",
    "- <u>*validation set*</u> will be used as true holdout which only use at the end \n",
    "\n",
    "### Problem of small validation set\n",
    "- If the validation set contains much less data than training set, the validation curves (accuracy and loss) will be spiky before convergence. In other words, more epochs and longer training time will be required"
   ]
  },
  {
   "cell_type": "markdown",
   "metadata": {},
   "source": [
    "## IV. Modeling"
   ]
  },
  {
   "cell_type": "markdown",
   "metadata": {},
   "source": [
    "### CNN Baseline Model"
   ]
  },
  {
   "cell_type": "code",
   "execution_count": 12,
   "metadata": {
    "ExecuteTime": {
     "end_time": "2021-05-13T23:28:07.696452Z",
     "start_time": "2021-05-13T23:28:07.595950Z"
    }
   },
   "outputs": [],
   "source": [
    "base_model = models.Sequential()\n",
    "base_model.add(layers.Conv2D(32, (3, 3), activation='relu', input_shape=X_train.shape[1:]))\n",
    "base_model.add(layers.MaxPooling2D((2, 2)))\n",
    "\n",
    "base_model.add(layers.Conv2D(64, (3, 3), activation='relu'))\n",
    "base_model.add(layers.MaxPooling2D((2, 2)))\n",
    "\n",
    "base_model.add(layers.Conv2D(128, (3, 3), activation='relu'))\n",
    "base_model.add(layers.MaxPooling2D((2, 2)))\n",
    "\n",
    "base_model.add(layers.Flatten())\n",
    "base_model.add(layers.Dense(128, activation='relu'))\n",
    "base_model.add(layers.Dense(1, activation='sigmoid'))\n",
    "\n",
    "base_model.compile(optimizer='adam',\n",
    "                   loss='binary_crossentropy',\n",
    "                   metrics=['accuracy'])"
   ]
  },
  {
   "cell_type": "code",
   "execution_count": 13,
   "metadata": {
    "ExecuteTime": {
     "end_time": "2021-05-14T00:27:53.313068Z",
     "start_time": "2021-05-13T23:28:07.698384Z"
    },
    "scrolled": false
   },
   "outputs": [
    {
     "name": "stdout",
     "output_type": "stream",
     "text": [
      "Epoch 1/50\n",
      "163/163 [==============================] - 44s 267ms/step - loss: 0.4309 - accuracy: 0.8076 - val_loss: 1.0070 - val_accuracy: 0.6955\n",
      "Epoch 2/50\n",
      "163/163 [==============================] - 42s 259ms/step - loss: 0.0984 - accuracy: 0.9634 - val_loss: 0.6370 - val_accuracy: 0.7788\n",
      "Epoch 3/50\n",
      "163/163 [==============================] - 42s 260ms/step - loss: 0.0815 - accuracy: 0.9737 - val_loss: 0.7579 - val_accuracy: 0.7788\n",
      "Epoch 4/50\n",
      "163/163 [==============================] - 42s 259ms/step - loss: 0.0730 - accuracy: 0.9707 - val_loss: 1.4351 - val_accuracy: 0.6955\n",
      "Epoch 5/50\n",
      "163/163 [==============================] - 42s 260ms/step - loss: 0.0738 - accuracy: 0.9740 - val_loss: 0.9536 - val_accuracy: 0.7788\n",
      "Epoch 6/50\n",
      "163/163 [==============================] - 42s 259ms/step - loss: 0.0471 - accuracy: 0.9833 - val_loss: 1.5497 - val_accuracy: 0.7308\n",
      "Epoch 7/50\n",
      "163/163 [==============================] - 42s 259ms/step - loss: 0.0390 - accuracy: 0.9855 - val_loss: 2.0710 - val_accuracy: 0.7067\n",
      "Epoch 8/50\n",
      "163/163 [==============================] - 43s 262ms/step - loss: 0.0407 - accuracy: 0.9831 - val_loss: 1.4931 - val_accuracy: 0.7420\n",
      "Epoch 9/50\n",
      "163/163 [==============================] - 43s 262ms/step - loss: 0.0235 - accuracy: 0.9920 - val_loss: 2.0459 - val_accuracy: 0.7324\n",
      "Epoch 10/50\n",
      "163/163 [==============================] - 43s 263ms/step - loss: 0.0176 - accuracy: 0.9943 - val_loss: 2.3164 - val_accuracy: 0.7372\n",
      "Epoch 11/50\n",
      "163/163 [==============================] - 43s 262ms/step - loss: 0.0160 - accuracy: 0.9945 - val_loss: 1.9299 - val_accuracy: 0.7788\n",
      "Epoch 12/50\n",
      "163/163 [==============================] - 43s 263ms/step - loss: 0.0143 - accuracy: 0.9959 - val_loss: 1.8807 - val_accuracy: 0.7596\n",
      "Epoch 13/50\n",
      "163/163 [==============================] - 43s 263ms/step - loss: 0.0125 - accuracy: 0.9958 - val_loss: 2.8677 - val_accuracy: 0.7404\n",
      "Epoch 14/50\n",
      "163/163 [==============================] - 43s 262ms/step - loss: 0.0159 - accuracy: 0.9950 - val_loss: 3.9766 - val_accuracy: 0.7292\n",
      "Epoch 15/50\n",
      "163/163 [==============================] - 43s 262ms/step - loss: 0.0233 - accuracy: 0.9923 - val_loss: 2.1110 - val_accuracy: 0.7644\n",
      "Epoch 16/50\n",
      "163/163 [==============================] - 707s 4s/step - loss: 0.0050 - accuracy: 0.9979 - val_loss: 2.0386 - val_accuracy: 0.7708\n",
      "Epoch 17/50\n",
      "163/163 [==============================] - 42s 259ms/step - loss: 0.0052 - accuracy: 0.9981 - val_loss: 2.3234 - val_accuracy: 0.7853\n",
      "Epoch 18/50\n",
      "163/163 [==============================] - 42s 259ms/step - loss: 0.0066 - accuracy: 0.9972 - val_loss: 3.9806 - val_accuracy: 0.7276\n",
      "Epoch 19/50\n",
      "163/163 [==============================] - 42s 259ms/step - loss: 0.0032 - accuracy: 0.9987 - val_loss: 3.7439 - val_accuracy: 0.7516\n",
      "Epoch 20/50\n",
      "163/163 [==============================] - 42s 259ms/step - loss: 5.1137e-04 - accuracy: 1.0000 - val_loss: 3.4938 - val_accuracy: 0.7596\n",
      "Epoch 21/50\n",
      "163/163 [==============================] - 42s 259ms/step - loss: 6.9805e-05 - accuracy: 1.0000 - val_loss: 3.6431 - val_accuracy: 0.7564\n",
      "Epoch 22/50\n",
      "163/163 [==============================] - 42s 260ms/step - loss: 4.5422e-05 - accuracy: 1.0000 - val_loss: 3.7115 - val_accuracy: 0.7580\n",
      "Epoch 23/50\n",
      "163/163 [==============================] - 42s 258ms/step - loss: 3.8860e-05 - accuracy: 1.0000 - val_loss: 3.8646 - val_accuracy: 0.7580\n",
      "Epoch 24/50\n",
      "163/163 [==============================] - 42s 259ms/step - loss: 2.6164e-05 - accuracy: 1.0000 - val_loss: 3.9748 - val_accuracy: 0.7548\n",
      "Epoch 25/50\n",
      "163/163 [==============================] - 42s 260ms/step - loss: 2.7054e-05 - accuracy: 1.0000 - val_loss: 4.0059 - val_accuracy: 0.7580\n",
      "Epoch 26/50\n",
      "163/163 [==============================] - 42s 259ms/step - loss: 2.0599e-05 - accuracy: 1.0000 - val_loss: 4.0661 - val_accuracy: 0.7580\n",
      "Epoch 27/50\n",
      "163/163 [==============================] - 42s 259ms/step - loss: 1.8598e-05 - accuracy: 1.0000 - val_loss: 4.1413 - val_accuracy: 0.7564\n",
      "Epoch 28/50\n",
      "163/163 [==============================] - 42s 259ms/step - loss: 1.3762e-05 - accuracy: 1.0000 - val_loss: 4.2380 - val_accuracy: 0.7564\n",
      "Epoch 29/50\n",
      "163/163 [==============================] - 42s 259ms/step - loss: 1.0461e-05 - accuracy: 1.0000 - val_loss: 4.2437 - val_accuracy: 0.7564\n",
      "Epoch 30/50\n",
      "163/163 [==============================] - 42s 260ms/step - loss: 1.0439e-05 - accuracy: 1.0000 - val_loss: 4.3643 - val_accuracy: 0.7548\n",
      "Epoch 31/50\n",
      "163/163 [==============================] - 724s 4s/step - loss: 9.6058e-06 - accuracy: 1.0000 - val_loss: 4.3947 - val_accuracy: 0.7548\n",
      "Epoch 32/50\n",
      "163/163 [==============================] - 149s 916ms/step - loss: 8.4659e-06 - accuracy: 1.0000 - val_loss: 4.4380 - val_accuracy: 0.7548\n",
      "Epoch 33/50\n",
      "163/163 [==============================] - 42s 258ms/step - loss: 7.2622e-06 - accuracy: 1.0000 - val_loss: 4.4658 - val_accuracy: 0.7548\n",
      "Epoch 34/50\n",
      "163/163 [==============================] - 44s 271ms/step - loss: 5.8735e-06 - accuracy: 1.0000 - val_loss: 4.5258 - val_accuracy: 0.7548\n",
      "Epoch 35/50\n",
      "163/163 [==============================] - 43s 263ms/step - loss: 5.5619e-06 - accuracy: 1.0000 - val_loss: 4.5590 - val_accuracy: 0.7548\n",
      "Epoch 36/50\n",
      "163/163 [==============================] - 42s 256ms/step - loss: 5.6160e-06 - accuracy: 1.0000 - val_loss: 4.6127 - val_accuracy: 0.7548\n",
      "Epoch 37/50\n",
      "163/163 [==============================] - 44s 269ms/step - loss: 5.7391e-06 - accuracy: 1.0000 - val_loss: 4.6792 - val_accuracy: 0.7548\n",
      "Epoch 38/50\n",
      "163/163 [==============================] - 43s 263ms/step - loss: 4.5881e-06 - accuracy: 1.0000 - val_loss: 4.6863 - val_accuracy: 0.7548\n",
      "Epoch 39/50\n",
      "163/163 [==============================] - 43s 264ms/step - loss: 3.3822e-06 - accuracy: 1.0000 - val_loss: 4.7377 - val_accuracy: 0.7548\n",
      "Epoch 40/50\n",
      "163/163 [==============================] - 44s 270ms/step - loss: 3.1981e-06 - accuracy: 1.0000 - val_loss: 4.7659 - val_accuracy: 0.7548\n",
      "Epoch 41/50\n",
      "163/163 [==============================] - 43s 265ms/step - loss: 3.6996e-06 - accuracy: 1.0000 - val_loss: 4.8444 - val_accuracy: 0.7532\n",
      "Epoch 42/50\n",
      "163/163 [==============================] - 43s 265ms/step - loss: 3.0452e-06 - accuracy: 1.0000 - val_loss: 4.8799 - val_accuracy: 0.7532\n",
      "Epoch 43/50\n",
      "163/163 [==============================] - 43s 265ms/step - loss: 2.5771e-06 - accuracy: 1.0000 - val_loss: 4.9402 - val_accuracy: 0.7532\n",
      "Epoch 44/50\n",
      "163/163 [==============================] - 43s 266ms/step - loss: 2.1963e-06 - accuracy: 1.0000 - val_loss: 4.9874 - val_accuracy: 0.7532\n",
      "Epoch 45/50\n",
      "163/163 [==============================] - 43s 261ms/step - loss: 2.3860e-06 - accuracy: 1.0000 - val_loss: 4.9962 - val_accuracy: 0.7532\n",
      "Epoch 46/50\n",
      "163/163 [==============================] - 43s 266ms/step - loss: 1.9488e-06 - accuracy: 1.0000 - val_loss: 5.0546 - val_accuracy: 0.7532\n",
      "Epoch 47/50\n",
      "163/163 [==============================] - 43s 266ms/step - loss: 2.0809e-06 - accuracy: 1.0000 - val_loss: 5.1198 - val_accuracy: 0.7548\n",
      "Epoch 48/50\n",
      "163/163 [==============================] - 42s 257ms/step - loss: 1.5720e-06 - accuracy: 1.0000 - val_loss: 5.1678 - val_accuracy: 0.7548\n",
      "Epoch 49/50\n",
      "163/163 [==============================] - 42s 256ms/step - loss: 1.2861e-06 - accuracy: 1.0000 - val_loss: 5.1385 - val_accuracy: 0.7532\n",
      "Epoch 50/50\n",
      "163/163 [==============================] - 43s 266ms/step - loss: 1.3079e-06 - accuracy: 1.0000 - val_loss: 5.2010 - val_accuracy: 0.7532\n"
     ]
    }
   ],
   "source": [
    "base_history = base_model.fit(X_train, y_train,\n",
    "                              epochs=50,\n",
    "                              batch_size=32,\n",
    "                              validation_data=(X_test, y_test))"
   ]
  },
  {
   "cell_type": "code",
   "execution_count": 14,
   "metadata": {
    "ExecuteTime": {
     "end_time": "2021-05-14T00:27:53.600904Z",
     "start_time": "2021-05-14T00:27:53.315099Z"
    },
    "scrolled": true
   },
   "outputs": [
    {
     "data": {
      "image/png": "[encoded data removed]",
      "text/plain": [
       "<Figure size 432x288 with 2 Axes>"
      ]
     },
     "metadata": {
      "needs_background": "light"
     },
     "output_type": "display_data"
    }
   ],
   "source": [
    "visualize_training_results(base_history)"
   ]
  },
  {
   "cell_type": "code",
   "execution_count": 15,
   "metadata": {
    "ExecuteTime": {
     "end_time": "2021-05-14T00:27:53.657376Z",
     "start_time": "2021-05-14T00:27:53.602968Z"
    }
   },
   "outputs": [],
   "source": [
    "base_model.save('saved_models/base_model.h5')"
   ]
  },
  {
   "cell_type": "code",
   "execution_count": 31,
   "metadata": {
    "ExecuteTime": {
     "end_time": "2021-05-14T01:07:33.197633Z",
     "start_time": "2021-05-14T01:07:18.964715Z"
    }
   },
   "outputs": [
    {
     "name": "stdout",
     "output_type": "stream",
     "text": [
      "163/163 [==============================] - 11s 67ms/step - loss: 1.2462e-06 - accuracy: 1.0000\n",
      "Training Loss:1.246e-06\n",
      "Training Accuracy:1.0\n",
      "20/20 [==============================] - 1s 68ms/step - loss: 5.2010 - accuracy: 0.7532\n",
      "Test Loss:5.201\n",
      "Test Accuracy:0.7532\n"
     ]
    },
    {
     "data": {
      "image/png": "[encoded data removed]",
      "text/plain": [
       "<Figure size 432x288 with 2 Axes>"
      ]
     },
     "metadata": {
      "needs_background": "light"
     },
     "output_type": "display_data"
    },
    {
     "data": {
      "text/plain": [
       "([1.0], [0.7532])"
      ]
     },
     "execution_count": 31,
     "metadata": {},
     "output_type": "execute_result"
    }
   ],
   "source": [
    "base = load_model('saved_models/base_model.h5')\n",
    "model_evaluation(base)"
   ]
  },
  {
   "cell_type": "markdown",
   "metadata": {},
   "source": [
    ">**Comment:** *Baseline Model*\n",
    "- The CNN baseline model took more than 40 minutes to run\n",
    "- The train accuracy (100%) is higher than val accuracy (0.753) which indicates that the baseline model is overfit\n",
    "- The accuracy plot shows that test accuracy reaches convergence after 20 epochs \n",
    "- The loss plot shows that test loss still increase after 20 epochs\n",
    "- Early stopping can be used for iteration model tunning to prevent overfit and saving time\n",
    "- There are more false positive than false negative"
   ]
  },
  {
   "cell_type": "markdown",
   "metadata": {},
   "source": [
    "### Dropout 20\n",
    "- Add (20%) dropout layers and earlystopping "
   ]
  },
  {
   "cell_type": "code",
   "execution_count": 32,
   "metadata": {
    "ExecuteTime": {
     "end_time": "2021-05-14T01:12:09.376545Z",
     "start_time": "2021-05-14T01:12:09.284686Z"
    }
   },
   "outputs": [],
   "source": [
    "dropout_20 = models.Sequential()\n",
    "dropout_20.add(layers.Conv2D(32, (3, 3), activation='relu', input_shape=(128,128,3)))\n",
    "dropout_20.add(layers.MaxPooling2D((2, 2)))\n",
    "dropout_20.add(layers.Dropout(0.2))\n",
    "\n",
    "dropout_20.add(layers.Conv2D(64, (3, 3), activation='relu'))\n",
    "dropout_20.add(layers.MaxPooling2D((2, 2)))\n",
    "dropout_20.add(layers.Dropout(0.2))\n",
    "\n",
    "dropout_20.add(layers.Conv2D(128, (3, 3), activation='relu'))\n",
    "dropout_20.add(layers.MaxPooling2D((2, 2)))\n",
    "dropout_20.add(layers.Dropout(0.2))\n",
    "\n",
    "dropout_20.add(layers.Flatten())\n",
    "dropout_20.add(layers.Dense(128, activation='relu'))\n",
    "dropout_20.add(layers.Dense(1, activation='sigmoid'))\n",
    "\n",
    "dropout_20.compile(optimizer='adam',\n",
    "                    loss='binary_crossentropy',\n",
    "                    metrics=['accuracy'])"
   ]
  },
  {
   "cell_type": "code",
   "execution_count": 33,
   "metadata": {
    "ExecuteTime": {
     "end_time": "2021-05-14T01:12:27.637366Z",
     "start_time": "2021-05-14T01:12:27.634406Z"
    }
   },
   "outputs": [],
   "source": [
    "es_dp_20 = [EarlyStopping(monitor='val_accuracy', mode='max', verbose=1, patience=6),\n",
    "            ModelCheckpoint(filepath='saved_models/best_dropout_20.h5', \n",
    "                            monitor='val_accuracy', mode='max', verbose=1, save_best_only=True)]"
   ]
  },
  {
   "cell_type": "code",
   "execution_count": 34,
   "metadata": {
    "ExecuteTime": {
     "end_time": "2021-05-14T01:18:49.628664Z",
     "start_time": "2021-05-14T01:12:32.843179Z"
    }
   },
   "outputs": [
    {
     "name": "stdout",
     "output_type": "stream",
     "text": [
      "Epoch 1/50\n",
      "163/163 [==============================] - 50s 307ms/step - loss: 0.6226 - accuracy: 0.7624 - val_loss: 0.6808 - val_accuracy: 0.7644\n",
      "\n",
      "Epoch 00001: val_accuracy improved from -inf to 0.76442, saving model to saved_models/best_dropout_20.h5\n",
      "Epoch 2/50\n",
      "163/163 [==============================] - 50s 304ms/step - loss: 0.1236 - accuracy: 0.9561 - val_loss: 0.4815 - val_accuracy: 0.7997\n",
      "\n",
      "Epoch 00002: val_accuracy improved from 0.76442 to 0.79968, saving model to saved_models/best_dropout_20.h5\n",
      "Epoch 3/50\n",
      "163/163 [==============================] - 46s 284ms/step - loss: 0.1147 - accuracy: 0.9558 - val_loss: 0.6525 - val_accuracy: 0.7885\n",
      "\n",
      "Epoch 00003: val_accuracy did not improve from 0.79968\n",
      "Epoch 4/50\n",
      "163/163 [==============================] - 46s 283ms/step - loss: 0.0994 - accuracy: 0.9635 - val_loss: 1.2538 - val_accuracy: 0.7388\n",
      "\n",
      "Epoch 00004: val_accuracy did not improve from 0.79968\n",
      "Epoch 5/50\n",
      "163/163 [==============================] - 46s 281ms/step - loss: 0.0867 - accuracy: 0.9677 - val_loss: 1.0673 - val_accuracy: 0.7500\n",
      "\n",
      "Epoch 00005: val_accuracy did not improve from 0.79968\n",
      "Epoch 6/50\n",
      "163/163 [==============================] - 46s 282ms/step - loss: 0.0732 - accuracy: 0.9717 - val_loss: 1.4507 - val_accuracy: 0.7260\n",
      "\n",
      "Epoch 00006: val_accuracy did not improve from 0.79968\n",
      "Epoch 7/50\n",
      "163/163 [==============================] - 46s 282ms/step - loss: 0.0670 - accuracy: 0.9738 - val_loss: 1.5014 - val_accuracy: 0.7420\n",
      "\n",
      "Epoch 00007: val_accuracy did not improve from 0.79968\n",
      "Epoch 8/50\n",
      "163/163 [==============================] - 46s 284ms/step - loss: 0.0552 - accuracy: 0.9802 - val_loss: 1.1205 - val_accuracy: 0.7484\n",
      "\n",
      "Epoch 00008: val_accuracy did not improve from 0.79968\n",
      "Epoch 00008: early stopping\n"
     ]
    }
   ],
   "source": [
    "dropout_20_history = dropout_20.fit(X_train, y_train,\n",
    "                                    epochs=50,\n",
    "                                    batch_size=32,\n",
    "                                    callbacks=es_dp_20,\n",
    "                                    validation_data=(X_test, y_test))"
   ]
  },
  {
   "cell_type": "code",
   "execution_count": 35,
   "metadata": {
    "ExecuteTime": {
     "end_time": "2021-05-14T01:19:11.280717Z",
     "start_time": "2021-05-14T01:19:10.997160Z"
    },
    "scrolled": true
   },
   "outputs": [
    {
     "data": {
      "image/png": "[encoded data removed]",
      "text/plain": [
       "<Figure size 432x288 with 2 Axes>"
      ]
     },
     "metadata": {
      "needs_background": "light"
     },
     "output_type": "display_data"
    }
   ],
   "source": [
    "visualize_training_results(dropout_20_history)"
   ]
  },
  {
   "cell_type": "code",
   "execution_count": 36,
   "metadata": {
    "ExecuteTime": {
     "end_time": "2021-05-14T01:19:30.596265Z",
     "start_time": "2021-05-14T01:19:16.556779Z"
    }
   },
   "outputs": [
    {
     "name": "stdout",
     "output_type": "stream",
     "text": [
      "163/163 [==============================] - 11s 64ms/step - loss: 0.1166 - accuracy: 0.9659\n",
      "Training Loss:0.1166\n",
      "Training Accuracy:0.9659\n",
      "20/20 [==============================] - 2s 75ms/step - loss: 0.4815 - accuracy: 0.7997\n",
      "Test Loss:0.4815\n",
      "Test Accuracy:0.7997\n"
     ]
    },
    {
     "data": {
      "image/png": "[encoded data removed]",
      "text/plain": [
       "<Figure size 432x288 with 2 Axes>"
      ]
     },
     "metadata": {
      "needs_background": "light"
     },
     "output_type": "display_data"
    },
    {
     "data": {
      "text/plain": [
       "([0.9659], [0.7997])"
      ]
     },
     "execution_count": 36,
     "metadata": {},
     "output_type": "execute_result"
    }
   ],
   "source": [
    "dp20 = load_model('saved_models/best_dropout_20.h5')\n",
    "model_evaluation(dp20)"
   ]
  },
  {
   "cell_type": "markdown",
   "metadata": {},
   "source": [
    ">**Comment:** Dropout 20%\n",
    "- The dropout_20 model took less time to run compare with the baseline model\n",
    "- The train accuracy (0.9659) is higher than test accuracy (0.7997) which indicates the model is overfit \n",
    "- Compare with the baseline model, test accuray shows some improvements\n",
    "- There are more false positive than false negative\n",
    "- dp20 has more FN than base"
   ]
  },
  {
   "cell_type": "markdown",
   "metadata": {},
   "source": [
    "### Dropout 50\n",
    "- Add (50%) dropout layer and earlystopping"
   ]
  },
  {
   "cell_type": "code",
   "execution_count": 37,
   "metadata": {
    "ExecuteTime": {
     "end_time": "2021-05-14T01:34:26.975291Z",
     "start_time": "2021-05-14T01:34:26.889369Z"
    }
   },
   "outputs": [],
   "source": [
    "dropout_50 = models.Sequential()\n",
    "dropout_50.add(layers.Conv2D(32, (3, 3), activation='relu', input_shape=(128,128,3)))\n",
    "dropout_50.add(layers.MaxPooling2D((2, 2)))\n",
    "dropout_50.add(layers.Dropout(0.5))\n",
    "\n",
    "dropout_50.add(layers.Conv2D(64, (3, 3), activation='relu'))\n",
    "dropout_50.add(layers.MaxPooling2D((2, 2)))\n",
    "dropout_50.add(layers.Dropout(0.5))\n",
    "\n",
    "dropout_50.add(layers.Conv2D(128, (3, 3), activation='relu'))\n",
    "dropout_50.add(layers.MaxPooling2D((2, 2)))\n",
    "dropout_50.add(layers.Dropout(0.5))\n",
    "\n",
    "dropout_50.add(layers.Flatten())\n",
    "dropout_50.add(layers.Dense(128, activation='relu'))\n",
    "dropout_50.add(layers.Dense(1, activation='sigmoid'))\n",
    "\n",
    "dropout_50.compile(optimizer='adam',\n",
    "                   loss='binary_crossentropy',\n",
    "                   metrics=['accuracy'])"
   ]
  },
  {
   "cell_type": "code",
   "execution_count": 38,
   "metadata": {
    "ExecuteTime": {
     "end_time": "2021-05-14T01:35:05.761352Z",
     "start_time": "2021-05-14T01:35:05.758388Z"
    }
   },
   "outputs": [],
   "source": [
    "es_dp_50 = [EarlyStopping(monitor='val_accuracy', mode='max', verbose=1, patience=6),\n",
    "            ModelCheckpoint(filepath='saved_models/best_dropout_50.h5', \n",
    "                            monitor='val_accuracy', mode='max', verbose=1, save_best_only=True)]"
   ]
  },
  {
   "cell_type": "code",
   "execution_count": 39,
   "metadata": {
    "ExecuteTime": {
     "end_time": "2021-05-14T01:42:28.749141Z",
     "start_time": "2021-05-14T01:35:16.630677Z"
    },
    "scrolled": false
   },
   "outputs": [
    {
     "name": "stdout",
     "output_type": "stream",
     "text": [
      "Epoch 1/50\n",
      "163/163 [==============================] - 48s 292ms/step - loss: 1.0002 - accuracy: 0.6767 - val_loss: 0.4933 - val_accuracy: 0.6250\n",
      "\n",
      "Epoch 00001: val_accuracy improved from -inf to 0.62500, saving model to saved_models/best_dropout_50.h5\n",
      "Epoch 2/50\n",
      "163/163 [==============================] - 50s 308ms/step - loss: 0.3354 - accuracy: 0.8167 - val_loss: 0.5553 - val_accuracy: 0.6474\n",
      "\n",
      "Epoch 00002: val_accuracy improved from 0.62500 to 0.64744, saving model to saved_models/best_dropout_50.h5\n",
      "Epoch 3/50\n",
      "163/163 [==============================] - 47s 290ms/step - loss: 0.2649 - accuracy: 0.9223 - val_loss: 0.4720 - val_accuracy: 0.7628\n",
      "\n",
      "Epoch 00003: val_accuracy improved from 0.64744 to 0.76282, saving model to saved_models/best_dropout_50.h5\n",
      "Epoch 4/50\n",
      "163/163 [==============================] - 48s 292ms/step - loss: 0.2340 - accuracy: 0.9359 - val_loss: 0.6679 - val_accuracy: 0.7099\n",
      "\n",
      "Epoch 00004: val_accuracy did not improve from 0.76282\n",
      "Epoch 5/50\n",
      "163/163 [==============================] - 48s 293ms/step - loss: 0.2266 - accuracy: 0.9381 - val_loss: 0.6674 - val_accuracy: 0.7147\n",
      "\n",
      "Epoch 00005: val_accuracy did not improve from 0.76282\n",
      "Epoch 6/50\n",
      "163/163 [==============================] - 48s 292ms/step - loss: 0.1979 - accuracy: 0.9532 - val_loss: 0.7976 - val_accuracy: 0.7388\n",
      "\n",
      "Epoch 00006: val_accuracy did not improve from 0.76282\n",
      "Epoch 7/50\n",
      "163/163 [==============================] - 48s 292ms/step - loss: 0.1827 - accuracy: 0.9506 - val_loss: 0.6248 - val_accuracy: 0.7869\n",
      "\n",
      "Epoch 00007: val_accuracy improved from 0.76282 to 0.78686, saving model to saved_models/best_dropout_50.h5\n",
      "Epoch 8/50\n",
      "163/163 [==============================] - 48s 293ms/step - loss: 0.1861 - accuracy: 0.9558 - val_loss: 1.0581 - val_accuracy: 0.7179\n",
      "\n",
      "Epoch 00008: val_accuracy did not improve from 0.78686\n",
      "Epoch 9/50\n",
      "163/163 [==============================] - 48s 295ms/step - loss: 0.1641 - accuracy: 0.9552 - val_loss: 1.0041 - val_accuracy: 0.7500\n",
      "\n",
      "Epoch 00009: val_accuracy did not improve from 0.78686\n",
      "Epoch 00009: early stopping\n"
     ]
    }
   ],
   "source": [
    "dropout_50_history = dropout_50.fit(X_train, y_train,\n",
    "                                epochs=50,\n",
    "                                batch_size=32,\n",
    "                                callbacks=es_dp_50,\n",
    "                                validation_data=(X_test, y_test))"
   ]
  },
  {
   "cell_type": "code",
   "execution_count": 40,
   "metadata": {
    "ExecuteTime": {
     "end_time": "2021-05-14T01:42:29.078048Z",
     "start_time": "2021-05-14T01:42:28.750948Z"
    },
    "scrolled": false
   },
   "outputs": [
    {
     "data": {
      "image/png": "[encoded data removed]",
      "text/plain": [
       "<Figure size 432x288 with 2 Axes>"
      ]
     },
     "metadata": {
      "needs_background": "light"
     },
     "output_type": "display_data"
    }
   ],
   "source": [
    "visualize_training_results(dropout_50_history)"
   ]
  },
  {
   "cell_type": "code",
   "execution_count": 41,
   "metadata": {
    "ExecuteTime": {
     "end_time": "2021-05-14T01:42:43.044109Z",
     "start_time": "2021-05-14T01:42:29.079974Z"
    },
    "scrolled": false
   },
   "outputs": [
    {
     "name": "stdout",
     "output_type": "stream",
     "text": [
      "163/163 [==============================] - 11s 65ms/step - loss: 0.1660 - accuracy: 0.9709\n",
      "Training Loss:0.166\n",
      "Training Accuracy:0.9709\n",
      "20/20 [==============================] - 1s 68ms/step - loss: 0.6248 - accuracy: 0.7869\n",
      "Test Loss:0.6248\n",
      "Test Accuracy:0.7869\n"
     ]
    },
    {
     "data": {
      "image/png": "[encoded data removed]",
      "text/plain": [
       "<Figure size 432x288 with 2 Axes>"
      ]
     },
     "metadata": {
      "needs_background": "light"
     },
     "output_type": "display_data"
    },
    {
     "data": {
      "text/plain": [
       "([0.9709], [0.7869])"
      ]
     },
     "execution_count": 41,
     "metadata": {},
     "output_type": "execute_result"
    }
   ],
   "source": [
    "dp50 = load_model('saved_models/best_dropout_50.h5')\n",
    "model_evaluation(dp50)"
   ]
  },
  {
   "cell_type": "markdown",
   "metadata": {},
   "source": [
    ">**Comment:**\n",
    "- The dropout_50 model took less time to run compare with the baseline model\n",
    "- The train accuracy (0.9709) is higher than test accuracy (0.7869) which indicates the model is overfit\n",
    "- Compare with the baseline model, test accuray shows some improvements\n",
    "- Compare with dp20, test accuracy is slightly lower\n",
    "    Decrease the complexity => lose some useful information?\n",
    "- There are more false positive than false negative"
   ]
  },
  {
   "cell_type": "markdown",
   "metadata": {},
   "source": [
    "### L2 Regularizer"
   ]
  },
  {
   "cell_type": "markdown",
   "metadata": {},
   "source": [
    "https://machinelearningmastery.com/how-to-reduce-overfitting-in-deep-learning-with-weight-regularization/"
   ]
  },
  {
   "cell_type": "markdown",
   "metadata": {},
   "source": [
    "https://machinelearningmastery.com/weight-regularization-to-reduce-overfitting-of-deep-learning-models/"
   ]
  },
  {
   "cell_type": "code",
   "execution_count": 42,
   "metadata": {
    "ExecuteTime": {
     "end_time": "2021-05-14T01:49:30.385214Z",
     "start_time": "2021-05-14T01:49:30.303991Z"
    }
   },
   "outputs": [],
   "source": [
    "L2_reg = models.Sequential()\n",
    "L2_reg.add(layers.Conv2D(32, (3, 3), kernel_regularizer=regularizers.l2(0.005), activation='relu', input_shape=(128,128,3)))\n",
    "L2_reg.add(layers.MaxPooling2D((2, 2)))\n",
    "\n",
    "L2_reg.add(layers.Conv2D(64, (3, 3), kernel_regularizer=regularizers.l2(0.005), activation='relu'))\n",
    "L2_reg.add(layers.MaxPooling2D((2, 2)))\n",
    "\n",
    "L2_reg.add(layers.Conv2D(128, (3, 3), kernel_regularizer=regularizers.l2(0.005), activation='relu'))\n",
    "L2_reg.add(layers.MaxPooling2D((2, 2)))\n",
    "\n",
    "L2_reg.add(layers.Flatten())\n",
    "L2_reg.add(layers.Dense(128, activation='relu'))\n",
    "L2_reg.add(layers.Dense(1, activation='sigmoid'))\n",
    "\n",
    "L2_reg.compile(optimizer='adam',\n",
    "               loss='binary_crossentropy',\n",
    "               metrics=['accuracy'])"
   ]
  },
  {
   "cell_type": "code",
   "execution_count": 43,
   "metadata": {
    "ExecuteTime": {
     "end_time": "2021-05-14T01:49:35.833275Z",
     "start_time": "2021-05-14T01:49:35.830506Z"
    }
   },
   "outputs": [],
   "source": [
    "es_L2 = [EarlyStopping(monitor='val_accuracy', mode='max', verbose=1, patience=6),\n",
    "         ModelCheckpoint(filepath='saved_models/best_L2.h5', \n",
    "                         monitor='val_accuracy', mode='max', verbose=1, save_best_only=True)]"
   ]
  },
  {
   "cell_type": "code",
   "execution_count": 44,
   "metadata": {
    "ExecuteTime": {
     "end_time": "2021-05-14T01:55:39.499137Z",
     "start_time": "2021-05-14T01:49:59.304428Z"
    },
    "scrolled": false
   },
   "outputs": [
    {
     "name": "stdout",
     "output_type": "stream",
     "text": [
      "Epoch 1/50\n",
      "163/163 [==============================] - 42s 257ms/step - loss: 0.8745 - accuracy: 0.7786 - val_loss: 0.9707 - val_accuracy: 0.6683\n",
      "\n",
      "Epoch 00001: val_accuracy improved from -inf to 0.66827, saving model to saved_models/best_L2.h5\n",
      "Epoch 2/50\n",
      "163/163 [==============================] - 42s 259ms/step - loss: 0.2809 - accuracy: 0.9524 - val_loss: 0.5034 - val_accuracy: 0.8446\n",
      "\n",
      "Epoch 00002: val_accuracy improved from 0.66827 to 0.84455, saving model to saved_models/best_L2.h5\n",
      "Epoch 3/50\n",
      "163/163 [==============================] - 42s 260ms/step - loss: 0.1937 - accuracy: 0.9637 - val_loss: 0.7715 - val_accuracy: 0.7901\n",
      "\n",
      "Epoch 00003: val_accuracy did not improve from 0.84455\n",
      "Epoch 4/50\n",
      "163/163 [==============================] - 43s 261ms/step - loss: 0.1605 - accuracy: 0.9641 - val_loss: 1.1403 - val_accuracy: 0.7404\n",
      "\n",
      "Epoch 00004: val_accuracy did not improve from 0.84455\n",
      "Epoch 5/50\n",
      "163/163 [==============================] - 43s 261ms/step - loss: 0.1460 - accuracy: 0.9695 - val_loss: 1.1098 - val_accuracy: 0.7452\n",
      "\n",
      "Epoch 00005: val_accuracy did not improve from 0.84455\n",
      "Epoch 6/50\n",
      "163/163 [==============================] - 42s 260ms/step - loss: 0.1255 - accuracy: 0.9710 - val_loss: 1.2205 - val_accuracy: 0.7244\n",
      "\n",
      "Epoch 00006: val_accuracy did not improve from 0.84455\n",
      "Epoch 7/50\n",
      "163/163 [==============================] - 43s 262ms/step - loss: 0.1313 - accuracy: 0.9657 - val_loss: 1.9696 - val_accuracy: 0.7083\n",
      "\n",
      "Epoch 00007: val_accuracy did not improve from 0.84455\n",
      "Epoch 8/50\n",
      "163/163 [==============================] - 43s 263ms/step - loss: 0.1211 - accuracy: 0.9759 - val_loss: 1.0669 - val_accuracy: 0.7500\n",
      "\n",
      "Epoch 00008: val_accuracy did not improve from 0.84455\n",
      "Epoch 00008: early stopping\n"
     ]
    }
   ],
   "source": [
    "L2_reg_history = L2_reg.fit(X_train, y_train,\n",
    "                            epochs=50,\n",
    "                            batch_size=32,\n",
    "                            callbacks=es_L2,\n",
    "                            validation_data=(X_test, y_test))"
   ]
  },
  {
   "cell_type": "code",
   "execution_count": 45,
   "metadata": {
    "ExecuteTime": {
     "end_time": "2021-05-14T01:55:39.918079Z",
     "start_time": "2021-05-14T01:55:39.501206Z"
    },
    "scrolled": true
   },
   "outputs": [
    {
     "data": {
      "image/png": "[encoded data removed]",
      "text/plain": [
       "<Figure size 432x288 with 2 Axes>"
      ]
     },
     "metadata": {
      "needs_background": "light"
     },
     "output_type": "display_data"
    }
   ],
   "source": [
    "visualize_training_results(L2_reg_history)"
   ]
  },
  {
   "cell_type": "code",
   "execution_count": 13,
   "metadata": {
    "ExecuteTime": {
     "end_time": "2021-05-17T18:51:44.199559Z",
     "start_time": "2021-05-17T18:51:29.865975Z"
    },
    "scrolled": false
   },
   "outputs": [
    {
     "name": "stdout",
     "output_type": "stream",
     "text": [
      "163/163 [==============================] - 11s 67ms/step - loss: 0.2492 - accuracy: 0.9442\n",
      "Training Loss:0.2492\n",
      "Training Accuracy:0.9442\n",
      "20/20 [==============================] - 2s 70ms/step - loss: 0.5034 - accuracy: 0.8446\n",
      "Test Loss:0.5034\n",
      "Test Accuracy:0.8446\n"
     ]
    },
    {
     "data": {
      "image/png": "[encoded data removed]",
      "text/plain": [
       "<Figure size 432x288 with 2 Axes>"
      ]
     },
     "metadata": {
      "needs_background": "light"
     },
     "output_type": "display_data"
    },
    {
     "data": {
      "text/plain": [
       "([0.9442], [0.8446])"
      ]
     },
     "execution_count": 13,
     "metadata": {},
     "output_type": "execute_result"
    }
   ],
   "source": [
    "L2 = load_model('saved_models/best_L2.h5')\n",
    "model_evaluation(L2)"
   ]
  },
  {
   "cell_type": "markdown",
   "metadata": {},
   "source": [
    ">**Comment:** \n",
    "- The L2 took less time to run compare with the baseline model\n",
    "- The train accuracy (0.9442) is higher than test accuracy (0.8446) which indicates the model is overfit\n",
    "- Compare with the baseline model, test accuray shows some improvements\n",
    "- There are more false positive than false negative"
   ]
  },
  {
   "cell_type": "markdown",
   "metadata": {},
   "source": [
    "#### If L2(0.005) is the best model..."
   ]
  },
  {
   "cell_type": "code",
   "execution_count": 45,
   "metadata": {
    "ExecuteTime": {
     "end_time": "2021-05-14T05:49:22.378604Z",
     "start_time": "2021-05-14T05:49:08.437494Z"
    }
   },
   "outputs": [
    {
     "name": "stdout",
     "output_type": "stream",
     "text": [
      "163/163 [==============================] - 11s 64ms/step - loss: 0.2492 - accuracy: 0.9442\n",
      "Training Loss:0.2492\n",
      "Training Accuracy:0.9442\n",
      "20/20 [==============================] - 2s 64ms/step - loss: 0.5034 - accuracy: 0.8446\n",
      "Test Loss:0.5034\n",
      "Test Accuracy:0.8446\n"
     ]
    },
    {
     "data": {
      "image/png": "[encoded data removed]",
      "text/plain": [
       "<Figure size 432x288 with 2 Axes>"
      ]
     },
     "metadata": {
      "needs_background": "light"
     },
     "output_type": "display_data"
    },
    {
     "data": {
      "text/plain": [
       "([0.9442], [0.8446])"
      ]
     },
     "execution_count": 45,
     "metadata": {},
     "output_type": "execute_result"
    }
   ],
   "source": [
    "L2 = load_model('saved_models/best_L2.h5')\n",
    "model_evaluation(L2)"
   ]
  },
  {
   "cell_type": "code",
   "execution_count": 52,
   "metadata": {
    "ExecuteTime": {
     "end_time": "2021-05-14T05:58:41.067141Z",
     "start_time": "2021-05-14T05:58:40.989539Z"
    }
   },
   "outputs": [
    {
     "name": "stdout",
     "output_type": "stream",
     "text": [
      "1/1 [==============================] - 0s 50ms/step - loss: 0.2613 - accuracy: 0.9375\n"
     ]
    },
    {
     "data": {
      "text/plain": [
       "[0.26126253604888916, 0.9375]"
      ]
     },
     "execution_count": 52,
     "metadata": {},
     "output_type": "execute_result"
    }
   ],
   "source": [
    "L2.evaluate(X_val, y_val)"
   ]
  },
  {
   "cell_type": "code",
   "execution_count": 46,
   "metadata": {
    "ExecuteTime": {
     "end_time": "2021-05-14T05:49:41.211943Z",
     "start_time": "2021-05-14T05:49:41.138069Z"
    }
   },
   "outputs": [
    {
     "data": {
      "text/plain": [
       "array([[0.33516 ],\n",
       "       [0.758586],\n",
       "       [0.917087],\n",
       "       [0.022783],\n",
       "       [0.994851],\n",
       "       [0.096325],\n",
       "       [0.827329],\n",
       "       [0.985   ],\n",
       "       [0.020615],\n",
       "       [0.097032],\n",
       "       [0.082617],\n",
       "       [0.134354],\n",
       "       [0.387113],\n",
       "       [0.03226 ],\n",
       "       [0.99537 ],\n",
       "       [0.924776]], dtype=float32)"
      ]
     },
     "execution_count": 46,
     "metadata": {},
     "output_type": "execute_result"
    }
   ],
   "source": [
    "# Predict for probability of getting 1\n",
    "L2.predict(X_val)\n",
    "\n",
    "# predict_proba was deprecated"
   ]
  },
  {
   "cell_type": "code",
   "execution_count": 47,
   "metadata": {
    "ExecuteTime": {
     "end_time": "2021-05-14T05:50:46.749886Z",
     "start_time": "2021-05-14T05:50:46.677596Z"
    }
   },
   "outputs": [
    {
     "data": {
      "text/plain": [
       "array([0.33516 , 0.758586, 0.917087, 0.022783, 0.994851, 0.096325,\n",
       "       0.827329, 0.985   , 0.020615, 0.097032, 0.082617, 0.134354,\n",
       "       0.387113, 0.03226 , 0.99537 , 0.924776], dtype=float32)"
      ]
     },
     "execution_count": 47,
     "metadata": {},
     "output_type": "execute_result"
    }
   ],
   "source": [
    "# Flatten the array\n",
    "prob = L2.predict(X_val).flatten()\n",
    "prob"
   ]
  },
  {
   "cell_type": "code",
   "execution_count": 48,
   "metadata": {
    "ExecuteTime": {
     "end_time": "2021-05-14T05:51:47.191820Z",
     "start_time": "2021-05-14T05:51:47.120646Z"
    }
   },
   "outputs": [
    {
     "data": {
      "text/plain": [
       "array([0, 1, 1, 0, 1, 0, 1, 1, 0, 0, 0, 0, 0, 0, 1, 1], dtype=int32)"
      ]
     },
     "execution_count": 48,
     "metadata": {},
     "output_type": "execute_result"
    }
   ],
   "source": [
    "# Make prediction by using the best model\n",
    "y_val_pred = ((L2.predict(X_val) > 0.5).astype(\"int32\")).flatten()\n",
    "y_val_pred\n",
    "\n",
    "# pad.predict_classes(X_val) was deprecated"
   ]
  },
  {
   "cell_type": "code",
   "execution_count": 49,
   "metadata": {
    "ExecuteTime": {
     "end_time": "2021-05-14T05:52:18.482069Z",
     "start_time": "2021-05-14T05:52:18.477833Z"
    }
   },
   "outputs": [
    {
     "data": {
      "text/plain": [
       "array([0, 1, 1, 0, 1, 0, 1, 1, 0, 0, 0, 0, 1, 0, 1, 1], dtype=int32)"
      ]
     },
     "execution_count": 49,
     "metadata": {},
     "output_type": "execute_result"
    }
   ],
   "source": [
    "y_act = y_val.astype(\"int32\").flatten()\n",
    "y_act"
   ]
  },
  {
   "cell_type": "code",
   "execution_count": 50,
   "metadata": {
    "ExecuteTime": {
     "end_time": "2021-05-14T05:53:23.375754Z",
     "start_time": "2021-05-14T05:53:23.365598Z"
    }
   },
   "outputs": [],
   "source": [
    "compare_df = pd.concat([pd.Series(y_act, name=\"Actual\"),\n",
    "                        pd.Series(y_val_pred, name=\"Predicted\"),\n",
    "                        pd.Series(prob, name=\"Probabilities\")], axis=1)"
   ]
  },
  {
   "cell_type": "code",
   "execution_count": 51,
   "metadata": {
    "ExecuteTime": {
     "end_time": "2021-05-14T05:53:37.181940Z",
     "start_time": "2021-05-14T05:53:37.160736Z"
    }
   },
   "outputs": [
    {
     "data": {
      "text/html": [
       "<div>\n",
       "<style scoped>\n",
       "    .dataframe tbody tr th:only-of-type {\n",
       "        vertical-align: middle;\n",
       "    }\n",
       "\n",
       "    .dataframe tbody tr th {\n",
       "        vertical-align: top;\n",
       "    }\n",
       "\n",
       "    .dataframe thead th {\n",
       "        text-align: right;\n",
       "    }\n",
       "</style>\n",
       "<table border=\"1\" class=\"dataframe\">\n",
       "  <thead>\n",
       "    <tr style=\"text-align: right;\">\n",
       "      <th></th>\n",
       "      <th>Actual</th>\n",
       "      <th>Predicted</th>\n",
       "      <th>Probabilities</th>\n",
       "    </tr>\n",
       "  </thead>\n",
       "  <tbody>\n",
       "    <tr>\n",
       "      <th>0</th>\n",
       "      <td>0</td>\n",
       "      <td>0</td>\n",
       "      <td>0.335160</td>\n",
       "    </tr>\n",
       "    <tr>\n",
       "      <th>1</th>\n",
       "      <td>1</td>\n",
       "      <td>1</td>\n",
       "      <td>0.758586</td>\n",
       "    </tr>\n",
       "    <tr>\n",
       "      <th>2</th>\n",
       "      <td>1</td>\n",
       "      <td>1</td>\n",
       "      <td>0.917087</td>\n",
       "    </tr>\n",
       "    <tr>\n",
       "      <th>3</th>\n",
       "      <td>0</td>\n",
       "      <td>0</td>\n",
       "      <td>0.022783</td>\n",
       "    </tr>\n",
       "    <tr>\n",
       "      <th>4</th>\n",
       "      <td>1</td>\n",
       "      <td>1</td>\n",
       "      <td>0.994851</td>\n",
       "    </tr>\n",
       "    <tr>\n",
       "      <th>5</th>\n",
       "      <td>0</td>\n",
       "      <td>0</td>\n",
       "      <td>0.096325</td>\n",
       "    </tr>\n",
       "    <tr>\n",
       "      <th>6</th>\n",
       "      <td>1</td>\n",
       "      <td>1</td>\n",
       "      <td>0.827329</td>\n",
       "    </tr>\n",
       "    <tr>\n",
       "      <th>7</th>\n",
       "      <td>1</td>\n",
       "      <td>1</td>\n",
       "      <td>0.985000</td>\n",
       "    </tr>\n",
       "    <tr>\n",
       "      <th>8</th>\n",
       "      <td>0</td>\n",
       "      <td>0</td>\n",
       "      <td>0.020615</td>\n",
       "    </tr>\n",
       "    <tr>\n",
       "      <th>9</th>\n",
       "      <td>0</td>\n",
       "      <td>0</td>\n",
       "      <td>0.097032</td>\n",
       "    </tr>\n",
       "    <tr>\n",
       "      <th>10</th>\n",
       "      <td>0</td>\n",
       "      <td>0</td>\n",
       "      <td>0.082617</td>\n",
       "    </tr>\n",
       "    <tr>\n",
       "      <th>11</th>\n",
       "      <td>0</td>\n",
       "      <td>0</td>\n",
       "      <td>0.134354</td>\n",
       "    </tr>\n",
       "    <tr>\n",
       "      <th>12</th>\n",
       "      <td>1</td>\n",
       "      <td>0</td>\n",
       "      <td>0.387113</td>\n",
       "    </tr>\n",
       "    <tr>\n",
       "      <th>13</th>\n",
       "      <td>0</td>\n",
       "      <td>0</td>\n",
       "      <td>0.032260</td>\n",
       "    </tr>\n",
       "    <tr>\n",
       "      <th>14</th>\n",
       "      <td>1</td>\n",
       "      <td>1</td>\n",
       "      <td>0.995370</td>\n",
       "    </tr>\n",
       "    <tr>\n",
       "      <th>15</th>\n",
       "      <td>1</td>\n",
       "      <td>1</td>\n",
       "      <td>0.924776</td>\n",
       "    </tr>\n",
       "  </tbody>\n",
       "</table>\n",
       "</div>"
      ],
      "text/plain": [
       "    Actual  Predicted  Probabilities\n",
       "0        0          0       0.335160\n",
       "1        1          1       0.758586\n",
       "2        1          1       0.917087\n",
       "3        0          0       0.022783\n",
       "4        1          1       0.994851\n",
       "5        0          0       0.096325\n",
       "6        1          1       0.827329\n",
       "7        1          1       0.985000\n",
       "8        0          0       0.020615\n",
       "9        0          0       0.097032\n",
       "10       0          0       0.082617\n",
       "11       0          0       0.134354\n",
       "12       1          0       0.387113\n",
       "13       0          0       0.032260\n",
       "14       1          1       0.995370\n",
       "15       1          1       0.924776"
      ]
     },
     "execution_count": 51,
     "metadata": {},
     "output_type": "execute_result"
    }
   ],
   "source": [
    "compare_df"
   ]
  },
  {
   "cell_type": "markdown",
   "metadata": {},
   "source": [
    "#### Consider visualize plotting"
   ]
  },
  {
   "cell_type": "code",
   "execution_count": null,
   "metadata": {},
   "outputs": [],
   "source": []
  },
  {
   "cell_type": "code",
   "execution_count": null,
   "metadata": {},
   "outputs": [],
   "source": []
  },
  {
   "cell_type": "markdown",
   "metadata": {},
   "source": [
    "### Grid Search For L2 weight decay"
   ]
  },
  {
   "cell_type": "markdown",
   "metadata": {},
   "source": [
    "https://heartbeat.fritz.ai/introduction-to-deep-learning-with-keras-c7c3d14e1527"
   ]
  },
  {
   "cell_type": "code",
   "execution_count": 12,
   "metadata": {
    "ExecuteTime": {
     "end_time": "2021-05-15T00:58:01.619023Z",
     "start_time": "2021-05-15T00:58:01.581106Z"
    }
   },
   "outputs": [],
   "source": [
    "from sklearn.model_selection import GridSearchCV\n",
    "\n",
    "from keras.wrappers.scikit_learn import KerasClassifier"
   ]
  },
  {
   "cell_type": "code",
   "execution_count": 13,
   "metadata": {
    "ExecuteTime": {
     "end_time": "2021-05-15T00:58:09.829579Z",
     "start_time": "2021-05-15T00:58:09.816889Z"
    }
   },
   "outputs": [],
   "source": [
    "def L2_regularizer_model(weight_decay):\n",
    "    \n",
    "    # Build the model with L2 regularizer\n",
    "    model = models.Sequential()\n",
    "    model.add(layers.Conv2D(32, (3, 3), kernel_regularizer=regularizers.l2(weight_decay), \n",
    "                                        activation='relu', input_shape=X_train.shape[1:]))\n",
    "    model.add(layers.MaxPooling2D((2, 2)))\n",
    "\n",
    "    model.add(layers.Conv2D(64, (3, 3), kernel_regularizer=regularizers.l2(weight_decay), activation='relu'))\n",
    "    model.add(layers.MaxPooling2D((2, 2)))\n",
    "\n",
    "    model.add(layers.Conv2D(128, (3, 3), kernel_regularizer=regularizers.l2(weight_decay), activation='relu'))\n",
    "    model.add(layers.MaxPooling2D((2, 2)))\n",
    "\n",
    "    model.add(layers.Flatten())\n",
    "    model.add(layers.Dense(128, activation='relu'))\n",
    "    model.add(layers.Dense(1, activation='sigmoid'))\n",
    "\n",
    "    # Compile the model\n",
    "    model.compile(optimizer='adam',\n",
    "                  loss='binary_crossentropy',\n",
    "                  metrics=['accuracy'])\n",
    "    \n",
    "    return model"
   ]
  },
  {
   "cell_type": "code",
   "execution_count": 14,
   "metadata": {
    "ExecuteTime": {
     "end_time": "2021-05-15T00:58:39.088139Z",
     "start_time": "2021-05-15T00:58:39.085533Z"
    }
   },
   "outputs": [],
   "source": [
    "# Early Stopping\n",
    "es = EarlyStopping(monitor='val_accuracy', mode='max', verbose=1, patience=6)"
   ]
  },
  {
   "cell_type": "code",
   "execution_count": 15,
   "metadata": {
    "ExecuteTime": {
     "end_time": "2021-05-15T00:58:51.671554Z",
     "start_time": "2021-05-15T00:58:51.669116Z"
    }
   },
   "outputs": [],
   "source": [
    "L2_model = KerasClassifier(build_fn=L2_regularizer_model)"
   ]
  },
  {
   "cell_type": "code",
   "execution_count": 16,
   "metadata": {
    "ExecuteTime": {
     "end_time": "2021-05-15T00:58:59.308590Z",
     "start_time": "2021-05-15T00:58:59.305293Z"
    }
   },
   "outputs": [],
   "source": [
    "# parameter grid\n",
    "param_grid = {'weight_decay': [0.5, 0.05, 0.005, 0.0005]}\n",
    "\n",
    "grid = GridSearchCV(L2_model, param_grid=param_grid, cv=3)"
   ]
  },
  {
   "cell_type": "code",
   "execution_count": 17,
   "metadata": {
    "ExecuteTime": {
     "end_time": "2021-05-15T02:16:33.568878Z",
     "start_time": "2021-05-15T00:59:00.304136Z"
    },
    "scrolled": false
   },
   "outputs": [
    {
     "name": "stdout",
     "output_type": "stream",
     "text": [
      "Epoch 1/50\n",
      "109/109 [==============================] - 28s 255ms/step - loss: 28.7343 - accuracy: 0.7292 - val_loss: 0.8509 - val_accuracy: 0.7228\n",
      "Epoch 2/50\n",
      "109/109 [==============================] - 28s 260ms/step - loss: 0.4432 - accuracy: 0.9142 - val_loss: 0.7533 - val_accuracy: 0.7244\n",
      "Epoch 3/50\n",
      "109/109 [==============================] - 27s 250ms/step - loss: 0.2843 - accuracy: 0.9248 - val_loss: 0.5699 - val_accuracy: 0.7804\n",
      "Epoch 4/50\n",
      "109/109 [==============================] - 27s 251ms/step - loss: 0.2968 - accuracy: 0.9249 - val_loss: 0.6365 - val_accuracy: 0.7708\n",
      "Epoch 5/50\n",
      "109/109 [==============================] - 29s 262ms/step - loss: 0.2483 - accuracy: 0.9358 - val_loss: 0.5289 - val_accuracy: 0.8029\n",
      "Epoch 6/50\n",
      "109/109 [==============================] - 29s 270ms/step - loss: 0.2505 - accuracy: 0.9354 - val_loss: 0.9211 - val_accuracy: 0.6859\n",
      "Epoch 7/50\n",
      "109/109 [==============================] - 28s 259ms/step - loss: 0.2548 - accuracy: 0.9312 - val_loss: 0.8000 - val_accuracy: 0.7420\n",
      "Epoch 8/50\n",
      "109/109 [==============================] - 28s 258ms/step - loss: 0.2190 - accuracy: 0.9424 - val_loss: 0.7523 - val_accuracy: 0.7564\n",
      "Epoch 9/50\n",
      "109/109 [==============================] - 28s 259ms/step - loss: 0.2105 - accuracy: 0.9416 - val_loss: 0.7448 - val_accuracy: 0.7212\n",
      "Epoch 10/50\n",
      "109/109 [==============================] - 29s 262ms/step - loss: 0.2115 - accuracy: 0.9451 - val_loss: 0.7534 - val_accuracy: 0.7516\n",
      "Epoch 11/50\n",
      "109/109 [==============================] - 28s 258ms/step - loss: 0.2125 - accuracy: 0.9434 - val_loss: 1.1267 - val_accuracy: 0.6667\n",
      "Epoch 00011: early stopping\n",
      "55/55 [==============================] - 4s 64ms/step - loss: 0.2670 - accuracy: 0.9040\n",
      "Epoch 1/50\n",
      "109/109 [==============================] - 30s 267ms/step - loss: 28.8137 - accuracy: 0.7817 - val_loss: 0.8947 - val_accuracy: 0.7340\n",
      "Epoch 2/50\n",
      "109/109 [==============================] - 28s 261ms/step - loss: 0.4502 - accuracy: 0.9141 - val_loss: 0.5489 - val_accuracy: 0.8077\n",
      "Epoch 3/50\n",
      "109/109 [==============================] - 28s 255ms/step - loss: 0.2956 - accuracy: 0.9332 - val_loss: 0.5604 - val_accuracy: 0.7981\n",
      "Epoch 4/50\n",
      "109/109 [==============================] - 27s 245ms/step - loss: 0.2708 - accuracy: 0.9312 - val_loss: 0.7737 - val_accuracy: 0.7292\n",
      "Epoch 5/50\n",
      "109/109 [==============================] - 27s 245ms/step - loss: 0.2536 - accuracy: 0.9382 - val_loss: 1.0669 - val_accuracy: 0.6843\n",
      "Epoch 6/50\n",
      "109/109 [==============================] - 27s 246ms/step - loss: 0.2535 - accuracy: 0.9402 - val_loss: 1.1162 - val_accuracy: 0.6715\n",
      "Epoch 7/50\n",
      "109/109 [==============================] - 27s 245ms/step - loss: 0.2429 - accuracy: 0.9373 - val_loss: 0.7057 - val_accuracy: 0.7532\n",
      "Epoch 8/50\n",
      "109/109 [==============================] - 27s 245ms/step - loss: 0.2248 - accuracy: 0.9448 - val_loss: 0.7962 - val_accuracy: 0.7276\n",
      "Epoch 00008: early stopping\n",
      "55/55 [==============================] - 3s 61ms/step - loss: 0.2263 - accuracy: 0.9327\n",
      "Epoch 1/50\n",
      "109/109 [==============================] - 30s 275ms/step - loss: 28.7038 - accuracy: 0.7499 - val_loss: 0.7257 - val_accuracy: 0.8349\n",
      "Epoch 2/50\n",
      "109/109 [==============================] - 29s 264ms/step - loss: 0.4559 - accuracy: 0.9194 - val_loss: 0.5530 - val_accuracy: 0.7772\n",
      "Epoch 3/50\n",
      "109/109 [==============================] - 29s 263ms/step - loss: 0.3213 - accuracy: 0.9242 - val_loss: 0.6941 - val_accuracy: 0.7724\n",
      "Epoch 4/50\n",
      "109/109 [==============================] - 29s 265ms/step - loss: 0.3017 - accuracy: 0.9188 - val_loss: 0.6687 - val_accuracy: 0.7756\n",
      "Epoch 5/50\n",
      "109/109 [==============================] - 29s 263ms/step - loss: 0.2631 - accuracy: 0.9294 - val_loss: 0.8012 - val_accuracy: 0.7308\n",
      "Epoch 6/50\n",
      "109/109 [==============================] - 29s 265ms/step - loss: 0.2567 - accuracy: 0.9343 - val_loss: 0.5922 - val_accuracy: 0.7772\n",
      "Epoch 7/50\n",
      "109/109 [==============================] - 29s 269ms/step - loss: 0.2380 - accuracy: 0.9405 - val_loss: 0.5980 - val_accuracy: 0.7756\n",
      "Epoch 00007: early stopping\n",
      "55/55 [==============================] - 4s 70ms/step - loss: 0.2514 - accuracy: 0.9350\n",
      "Epoch 1/50\n",
      "109/109 [==============================] - 29s 263ms/step - loss: 3.5562 - accuracy: 0.7664 - val_loss: 1.0992 - val_accuracy: 0.6843\n",
      "Epoch 2/50\n",
      "109/109 [==============================] - 29s 262ms/step - loss: 0.3658 - accuracy: 0.9368 - val_loss: 0.9221 - val_accuracy: 0.7372\n",
      "Epoch 3/50\n",
      "109/109 [==============================] - 29s 262ms/step - loss: 0.2465 - accuracy: 0.9453 - val_loss: 0.6010 - val_accuracy: 0.7756\n",
      "Epoch 4/50\n",
      "109/109 [==============================] - 29s 262ms/step - loss: 0.2300 - accuracy: 0.9455 - val_loss: 0.8344 - val_accuracy: 0.7452\n",
      "Epoch 5/50\n",
      "109/109 [==============================] - 29s 262ms/step - loss: 0.1578 - accuracy: 0.9597 - val_loss: 0.7224 - val_accuracy: 0.7372\n",
      "Epoch 6/50\n",
      "109/109 [==============================] - 29s 261ms/step - loss: 0.1591 - accuracy: 0.9552 - val_loss: 1.2780 - val_accuracy: 0.6763\n",
      "Epoch 7/50\n",
      "109/109 [==============================] - 29s 262ms/step - loss: 0.1755 - accuracy: 0.9500 - val_loss: 0.9611 - val_accuracy: 0.7340\n",
      "Epoch 8/50\n",
      "109/109 [==============================] - 29s 262ms/step - loss: 0.1372 - accuracy: 0.9652 - val_loss: 0.9891 - val_accuracy: 0.7324\n",
      "Epoch 9/50\n",
      "109/109 [==============================] - 27s 251ms/step - loss: 0.1255 - accuracy: 0.9670 - val_loss: 0.7514 - val_accuracy: 0.7452\n",
      "Epoch 00009: early stopping\n",
      "55/55 [==============================] - 4s 63ms/step - loss: 0.1368 - accuracy: 0.9655\n",
      "Epoch 1/50\n",
      "109/109 [==============================] - 29s 262ms/step - loss: 3.5654 - accuracy: 0.7897 - val_loss: 1.0489 - val_accuracy: 0.6795\n",
      "Epoch 2/50\n",
      "109/109 [==============================] - 28s 257ms/step - loss: 0.3728 - accuracy: 0.9406 - val_loss: 0.5818 - val_accuracy: 0.8157\n",
      "Epoch 3/50\n",
      "109/109 [==============================] - 28s 259ms/step - loss: 0.2432 - accuracy: 0.9540 - val_loss: 0.4537 - val_accuracy: 0.8285\n",
      "Epoch 4/50\n",
      "109/109 [==============================] - 28s 259ms/step - loss: 0.2056 - accuracy: 0.9482 - val_loss: 0.6871 - val_accuracy: 0.7724\n",
      "Epoch 5/50\n",
      "109/109 [==============================] - 28s 258ms/step - loss: 0.1677 - accuracy: 0.9590 - val_loss: 0.8182 - val_accuracy: 0.7292\n",
      "Epoch 6/50\n",
      "109/109 [==============================] - 28s 259ms/step - loss: 0.1524 - accuracy: 0.9632 - val_loss: 1.4389 - val_accuracy: 0.6795\n",
      "Epoch 7/50\n",
      "109/109 [==============================] - 28s 260ms/step - loss: 0.1755 - accuracy: 0.9503 - val_loss: 0.8736 - val_accuracy: 0.7484\n",
      "Epoch 8/50\n",
      "109/109 [==============================] - 28s 259ms/step - loss: 0.1397 - accuracy: 0.9615 - val_loss: 1.0495 - val_accuracy: 0.7147\n",
      "Epoch 9/50\n",
      "109/109 [==============================] - 28s 260ms/step - loss: 0.1375 - accuracy: 0.9604 - val_loss: 0.6148 - val_accuracy: 0.8093\n",
      "Epoch 00009: early stopping\n",
      "55/55 [==============================] - 4s 67ms/step - loss: 0.1497 - accuracy: 0.9528\n",
      "Epoch 1/50\n",
      "109/109 [==============================] - 29s 259ms/step - loss: 3.4626 - accuracy: 0.7916 - val_loss: 0.6287 - val_accuracy: 0.8237\n",
      "Epoch 2/50\n",
      "109/109 [==============================] - 28s 261ms/step - loss: 0.3841 - accuracy: 0.9481 - val_loss: 0.6850 - val_accuracy: 0.7804\n",
      "Epoch 3/50\n",
      "109/109 [==============================] - 28s 257ms/step - loss: 0.2826 - accuracy: 0.9532 - val_loss: 0.7278 - val_accuracy: 0.7788\n",
      "Epoch 4/50\n",
      "109/109 [==============================] - 28s 257ms/step - loss: 0.2290 - accuracy: 0.9544 - val_loss: 0.5614 - val_accuracy: 0.8029\n",
      "Epoch 5/50\n",
      "109/109 [==============================] - 28s 258ms/step - loss: 0.2102 - accuracy: 0.9609 - val_loss: 0.7571 - val_accuracy: 0.7596\n",
      "Epoch 6/50\n",
      "109/109 [==============================] - 29s 269ms/step - loss: 0.1667 - accuracy: 0.9631 - val_loss: 0.5165 - val_accuracy: 0.8173\n",
      "Epoch 7/50\n",
      "109/109 [==============================] - 28s 258ms/step - loss: 0.1706 - accuracy: 0.9587 - val_loss: 0.7156 - val_accuracy: 0.7452\n",
      "Epoch 00007: early stopping\n",
      "55/55 [==============================] - 4s 66ms/step - loss: 0.1616 - accuracy: 0.9638\n",
      "Epoch 1/50\n",
      "109/109 [==============================] - 29s 261ms/step - loss: 0.8630 - accuracy: 0.7785 - val_loss: 1.3140 - val_accuracy: 0.6907\n",
      "Epoch 2/50\n",
      "109/109 [==============================] - 27s 246ms/step - loss: 0.2657 - accuracy: 0.9548 - val_loss: 0.7849 - val_accuracy: 0.7676\n",
      "Epoch 3/50\n",
      "109/109 [==============================] - 27s 252ms/step - loss: 0.1976 - accuracy: 0.9693 - val_loss: 0.9537 - val_accuracy: 0.7468\n",
      "Epoch 4/50\n",
      "109/109 [==============================] - 29s 264ms/step - loss: 0.1955 - accuracy: 0.9538 - val_loss: 1.1908 - val_accuracy: 0.7468\n",
      "Epoch 5/50\n",
      "109/109 [==============================] - 28s 253ms/step - loss: 0.1414 - accuracy: 0.9771 - val_loss: 0.7772 - val_accuracy: 0.7724\n",
      "Epoch 6/50\n",
      "109/109 [==============================] - 27s 251ms/step - loss: 0.1395 - accuracy: 0.9740 - val_loss: 1.4987 - val_accuracy: 0.7292\n",
      "Epoch 7/50\n",
      "109/109 [==============================] - 27s 252ms/step - loss: 0.1392 - accuracy: 0.9728 - val_loss: 0.9512 - val_accuracy: 0.7756\n",
      "Epoch 8/50\n",
      "109/109 [==============================] - 28s 253ms/step - loss: 0.1070 - accuracy: 0.9817 - val_loss: 0.7112 - val_accuracy: 0.8125\n",
      "Epoch 9/50\n",
      "109/109 [==============================] - 28s 252ms/step - loss: 0.0964 - accuracy: 0.9829 - val_loss: 1.0971 - val_accuracy: 0.7869\n",
      "Epoch 10/50\n",
      "109/109 [==============================] - 27s 252ms/step - loss: 0.0961 - accuracy: 0.9842 - val_loss: 0.7565 - val_accuracy: 0.7997\n",
      "Epoch 11/50\n",
      "109/109 [==============================] - 27s 252ms/step - loss: 0.1002 - accuracy: 0.9828 - val_loss: 1.7803 - val_accuracy: 0.6923\n",
      "Epoch 12/50\n",
      "109/109 [==============================] - 28s 253ms/step - loss: 0.1029 - accuracy: 0.9808 - val_loss: 0.9724 - val_accuracy: 0.7660\n",
      "Epoch 13/50\n",
      "109/109 [==============================] - 30s 274ms/step - loss: 0.0791 - accuracy: 0.9864 - val_loss: 1.1176 - val_accuracy: 0.7788\n",
      "Epoch 14/50\n",
      "109/109 [==============================] - 28s 252ms/step - loss: 0.0861 - accuracy: 0.9821 - val_loss: 1.1446 - val_accuracy: 0.7740\n",
      "Epoch 00014: early stopping\n",
      "55/55 [==============================] - 4s 62ms/step - loss: 0.1160 - accuracy: 0.9695\n",
      "Epoch 1/50\n",
      "109/109 [==============================] - 29s 266ms/step - loss: 0.8422 - accuracy: 0.7963 - val_loss: 0.8752 - val_accuracy: 0.7500\n",
      "Epoch 2/50\n",
      "109/109 [==============================] - 29s 265ms/step - loss: 0.2539 - accuracy: 0.9605 - val_loss: 0.7473 - val_accuracy: 0.7885\n",
      "Epoch 3/50\n",
      "109/109 [==============================] - 29s 264ms/step - loss: 0.2042 - accuracy: 0.9590 - val_loss: 0.7883 - val_accuracy: 0.7917\n",
      "Epoch 4/50\n",
      "109/109 [==============================] - 29s 264ms/step - loss: 0.1869 - accuracy: 0.9555 - val_loss: 1.3606 - val_accuracy: 0.6987\n",
      "Epoch 5/50\n",
      "109/109 [==============================] - 29s 266ms/step - loss: 0.1483 - accuracy: 0.9705 - val_loss: 0.9180 - val_accuracy: 0.7500\n",
      "Epoch 6/50\n",
      "109/109 [==============================] - 29s 268ms/step - loss: 0.1524 - accuracy: 0.9672 - val_loss: 0.7811 - val_accuracy: 0.7837\n",
      "Epoch 7/50\n",
      "109/109 [==============================] - 29s 267ms/step - loss: 0.1264 - accuracy: 0.9747 - val_loss: 0.7369 - val_accuracy: 0.8013\n",
      "Epoch 8/50\n",
      "109/109 [==============================] - 29s 267ms/step - loss: 0.1251 - accuracy: 0.9724 - val_loss: 1.0425 - val_accuracy: 0.7692\n",
      "Epoch 9/50\n",
      "109/109 [==============================] - 29s 268ms/step - loss: 0.1198 - accuracy: 0.9764 - val_loss: 0.7719 - val_accuracy: 0.8253\n",
      "Epoch 10/50\n",
      "109/109 [==============================] - 29s 269ms/step - loss: 0.1124 - accuracy: 0.9755 - val_loss: 0.9006 - val_accuracy: 0.7821\n",
      "Epoch 11/50\n",
      "109/109 [==============================] - 29s 268ms/step - loss: 0.1046 - accuracy: 0.9762 - val_loss: 1.7177 - val_accuracy: 0.6779\n",
      "Epoch 12/50\n",
      "109/109 [==============================] - 29s 264ms/step - loss: 0.1194 - accuracy: 0.9777 - val_loss: 0.8939 - val_accuracy: 0.7949\n",
      "Epoch 13/50\n",
      "109/109 [==============================] - 29s 262ms/step - loss: 0.0988 - accuracy: 0.9827 - val_loss: 1.1738 - val_accuracy: 0.7708\n",
      "Epoch 14/50\n",
      "109/109 [==============================] - 29s 265ms/step - loss: 0.0955 - accuracy: 0.9815 - val_loss: 0.9900 - val_accuracy: 0.7708\n",
      "Epoch 15/50\n",
      "109/109 [==============================] - 29s 265ms/step - loss: 0.0853 - accuracy: 0.9832 - val_loss: 1.2615 - val_accuracy: 0.7644\n",
      "Epoch 00015: early stopping\n",
      "55/55 [==============================] - 4s 68ms/step - loss: 0.1061 - accuracy: 0.9770\n",
      "Epoch 1/50\n",
      "109/109 [==============================] - 29s 262ms/step - loss: 0.9235 - accuracy: 0.7511 - val_loss: 0.5885 - val_accuracy: 0.8221\n",
      "Epoch 2/50\n",
      "109/109 [==============================] - 28s 253ms/step - loss: 0.2811 - accuracy: 0.9469 - val_loss: 1.0018 - val_accuracy: 0.7308\n",
      "Epoch 3/50\n",
      "109/109 [==============================] - 29s 263ms/step - loss: 0.1965 - accuracy: 0.9572 - val_loss: 0.7586 - val_accuracy: 0.7580\n",
      "Epoch 4/50\n",
      "109/109 [==============================] - 28s 256ms/step - loss: 0.1658 - accuracy: 0.9674 - val_loss: 0.4961 - val_accuracy: 0.8285\n",
      "Epoch 5/50\n",
      "109/109 [==============================] - 29s 269ms/step - loss: 0.1581 - accuracy: 0.9639 - val_loss: 1.2135 - val_accuracy: 0.7147\n",
      "Epoch 6/50\n",
      "109/109 [==============================] - 28s 253ms/step - loss: 0.1248 - accuracy: 0.9725 - val_loss: 0.5682 - val_accuracy: 0.8221\n",
      "Epoch 7/50\n",
      "109/109 [==============================] - 28s 253ms/step - loss: 0.1381 - accuracy: 0.9668 - val_loss: 0.6019 - val_accuracy: 0.8029\n",
      "Epoch 8/50\n",
      "109/109 [==============================] - 28s 253ms/step - loss: 0.1196 - accuracy: 0.9750 - val_loss: 0.9065 - val_accuracy: 0.7660\n",
      "Epoch 9/50\n",
      "109/109 [==============================] - 28s 253ms/step - loss: 0.1275 - accuracy: 0.9708 - val_loss: 0.8572 - val_accuracy: 0.7724\n",
      "Epoch 10/50\n",
      "109/109 [==============================] - 28s 255ms/step - loss: 0.0999 - accuracy: 0.9788 - val_loss: 0.5815 - val_accuracy: 0.8333\n",
      "Epoch 11/50\n",
      "109/109 [==============================] - 28s 252ms/step - loss: 0.1177 - accuracy: 0.9682 - val_loss: 0.7690 - val_accuracy: 0.7917\n",
      "Epoch 12/50\n",
      "109/109 [==============================] - 28s 260ms/step - loss: 0.0934 - accuracy: 0.9780 - val_loss: 0.9982 - val_accuracy: 0.7548\n",
      "Epoch 13/50\n",
      "109/109 [==============================] - 28s 254ms/step - loss: 0.0875 - accuracy: 0.9809 - val_loss: 1.0553 - val_accuracy: 0.7580\n",
      "Epoch 14/50\n",
      "109/109 [==============================] - 27s 250ms/step - loss: 0.0820 - accuracy: 0.9835 - val_loss: 0.9186 - val_accuracy: 0.7676\n",
      "Epoch 15/50\n",
      "109/109 [==============================] - 27s 250ms/step - loss: 0.0907 - accuracy: 0.9795 - val_loss: 1.4483 - val_accuracy: 0.7340\n",
      "Epoch 16/50\n",
      "109/109 [==============================] - 27s 251ms/step - loss: 0.0871 - accuracy: 0.9785 - val_loss: 0.8513 - val_accuracy: 0.8029\n",
      "Epoch 00016: early stopping\n",
      "55/55 [==============================] - 4s 62ms/step - loss: 0.1534 - accuracy: 0.9563\n",
      "Epoch 1/50\n",
      "109/109 [==============================] - 29s 264ms/step - loss: 0.4928 - accuracy: 0.8228 - val_loss: 1.1557 - val_accuracy: 0.7019\n",
      "Epoch 2/50\n",
      "109/109 [==============================] - 29s 263ms/step - loss: 0.1467 - accuracy: 0.9566 - val_loss: 1.1181 - val_accuracy: 0.7163\n",
      "Epoch 3/50\n",
      "109/109 [==============================] - 29s 262ms/step - loss: 0.1337 - accuracy: 0.9636 - val_loss: 0.8295 - val_accuracy: 0.7660\n",
      "Epoch 4/50\n",
      "109/109 [==============================] - 29s 264ms/step - loss: 0.1056 - accuracy: 0.9740 - val_loss: 1.4460 - val_accuracy: 0.7596\n",
      "Epoch 5/50\n",
      "109/109 [==============================] - 29s 262ms/step - loss: 0.0900 - accuracy: 0.9797 - val_loss: 1.0659 - val_accuracy: 0.7596\n",
      "Epoch 6/50\n",
      "109/109 [==============================] - 29s 263ms/step - loss: 0.0862 - accuracy: 0.9814 - val_loss: 1.6467 - val_accuracy: 0.7324\n",
      "Epoch 7/50\n",
      "109/109 [==============================] - 29s 262ms/step - loss: 0.0698 - accuracy: 0.9843 - val_loss: 1.4856 - val_accuracy: 0.7580\n",
      "Epoch 8/50\n",
      "109/109 [==============================] - 29s 263ms/step - loss: 0.0684 - accuracy: 0.9874 - val_loss: 1.6524 - val_accuracy: 0.7468\n",
      "Epoch 9/50\n",
      "109/109 [==============================] - 29s 263ms/step - loss: 0.0525 - accuracy: 0.9907 - val_loss: 1.8500 - val_accuracy: 0.7484\n",
      "Epoch 00009: early stopping\n"
     ]
    },
    {
     "name": "stdout",
     "output_type": "stream",
     "text": [
      "55/55 [==============================] - 4s 66ms/step - loss: 0.1154 - accuracy: 0.9718\n",
      "Epoch 1/50\n",
      "109/109 [==============================] - 28s 254ms/step - loss: 0.4736 - accuracy: 0.8173 - val_loss: 1.0211 - val_accuracy: 0.6811\n",
      "Epoch 2/50\n",
      "109/109 [==============================] - 27s 246ms/step - loss: 0.1605 - accuracy: 0.9539 - val_loss: 0.4958 - val_accuracy: 0.8189\n",
      "Epoch 3/50\n",
      "109/109 [==============================] - 27s 247ms/step - loss: 0.1311 - accuracy: 0.9671 - val_loss: 0.3712 - val_accuracy: 0.8734\n",
      "Epoch 4/50\n",
      "109/109 [==============================] - 27s 246ms/step - loss: 0.1417 - accuracy: 0.9600 - val_loss: 1.0109 - val_accuracy: 0.7548\n",
      "Epoch 5/50\n",
      "109/109 [==============================] - 27s 246ms/step - loss: 0.0918 - accuracy: 0.9787 - val_loss: 1.0000 - val_accuracy: 0.7596\n",
      "Epoch 6/50\n",
      "109/109 [==============================] - 27s 247ms/step - loss: 0.0901 - accuracy: 0.9795 - val_loss: 1.2339 - val_accuracy: 0.7500\n",
      "Epoch 7/50\n",
      "109/109 [==============================] - 27s 246ms/step - loss: 0.0685 - accuracy: 0.9851 - val_loss: 1.1207 - val_accuracy: 0.7804\n",
      "Epoch 8/50\n",
      "109/109 [==============================] - 27s 247ms/step - loss: 0.0735 - accuracy: 0.9815 - val_loss: 1.3992 - val_accuracy: 0.7692\n",
      "Epoch 9/50\n",
      "109/109 [==============================] - 27s 246ms/step - loss: 0.0650 - accuracy: 0.9873 - val_loss: 0.9889 - val_accuracy: 0.8077\n",
      "Epoch 00009: early stopping\n",
      "55/55 [==============================] - 3s 61ms/step - loss: 0.1094 - accuracy: 0.9735\n",
      "Epoch 1/50\n",
      "109/109 [==============================] - 29s 264ms/step - loss: 0.5737 - accuracy: 0.7706 - val_loss: 0.6463 - val_accuracy: 0.7452\n",
      "Epoch 2/50\n",
      "109/109 [==============================] - 774s 7s/step - loss: 0.1825 - accuracy: 0.9487 - val_loss: 0.8244 - val_accuracy: 0.7660\n",
      "Epoch 3/50\n",
      "109/109 [==============================] - 29s 263ms/step - loss: 0.1379 - accuracy: 0.9570 - val_loss: 0.9613 - val_accuracy: 0.7516\n",
      "Epoch 4/50\n",
      "109/109 [==============================] - 29s 263ms/step - loss: 0.1139 - accuracy: 0.9685 - val_loss: 0.5759 - val_accuracy: 0.8253\n",
      "Epoch 5/50\n",
      "109/109 [==============================] - 29s 263ms/step - loss: 0.1161 - accuracy: 0.9712 - val_loss: 1.0748 - val_accuracy: 0.7500\n",
      "Epoch 6/50\n",
      "109/109 [==============================] - 29s 267ms/step - loss: 0.0915 - accuracy: 0.9764 - val_loss: 0.7920 - val_accuracy: 0.7949\n",
      "Epoch 7/50\n",
      "109/109 [==============================] - 33s 302ms/step - loss: 0.0864 - accuracy: 0.9774 - val_loss: 0.6852 - val_accuracy: 0.7917\n",
      "Epoch 8/50\n",
      "109/109 [==============================] - 29s 265ms/step - loss: 0.0750 - accuracy: 0.9827 - val_loss: 1.0400 - val_accuracy: 0.7644\n",
      "Epoch 9/50\n",
      "109/109 [==============================] - 29s 265ms/step - loss: 0.0856 - accuracy: 0.9745 - val_loss: 1.4462 - val_accuracy: 0.7436\n",
      "Epoch 10/50\n",
      "109/109 [==============================] - 29s 264ms/step - loss: 0.0631 - accuracy: 0.9875 - val_loss: 1.0669 - val_accuracy: 0.7660\n",
      "Epoch 00010: early stopping\n",
      "55/55 [==============================] - 4s 72ms/step - loss: 0.0918 - accuracy: 0.9770\n",
      "Epoch 1/50\n",
      "163/163 [==============================] - 47s 287ms/step - loss: 0.4091 - accuracy: 0.8399 - val_loss: 1.0588 - val_accuracy: 0.7468\n",
      "Epoch 2/50\n",
      "163/163 [==============================] - 44s 270ms/step - loss: 0.1285 - accuracy: 0.9615 - val_loss: 0.4716 - val_accuracy: 0.8285\n",
      "Epoch 3/50\n",
      "163/163 [==============================] - 44s 267ms/step - loss: 0.1180 - accuracy: 0.9667 - val_loss: 0.7930 - val_accuracy: 0.7708\n",
      "Epoch 4/50\n",
      "163/163 [==============================] - 42s 260ms/step - loss: 0.1044 - accuracy: 0.9732 - val_loss: 0.9764 - val_accuracy: 0.7708\n",
      "Epoch 5/50\n",
      "163/163 [==============================] - 45s 278ms/step - loss: 0.0768 - accuracy: 0.9851 - val_loss: 1.2172 - val_accuracy: 0.7564\n",
      "Epoch 6/50\n",
      "163/163 [==============================] - 44s 267ms/step - loss: 0.0697 - accuracy: 0.9831 - val_loss: 1.5441 - val_accuracy: 0.7340\n",
      "Epoch 7/50\n",
      "163/163 [==============================] - 40s 248ms/step - loss: 0.0527 - accuracy: 0.9916 - val_loss: 1.1864 - val_accuracy: 0.7756\n",
      "Epoch 8/50\n",
      "163/163 [==============================] - 40s 248ms/step - loss: 0.0637 - accuracy: 0.9838 - val_loss: 1.5719 - val_accuracy: 0.7837\n",
      "Epoch 00008: early stopping\n"
     ]
    }
   ],
   "source": [
    "grid_history = grid.fit(X_train, y_train,\n",
    "                        epochs=50,\n",
    "                        batch_size=32,\n",
    "                        callbacks=es,\n",
    "                        validation_data=(X_test, y_test))"
   ]
  },
  {
   "cell_type": "code",
   "execution_count": 19,
   "metadata": {
    "ExecuteTime": {
     "end_time": "2021-05-15T02:18:05.210886Z",
     "start_time": "2021-05-15T02:18:05.207560Z"
    }
   },
   "outputs": [
    {
     "data": {
      "text/plain": [
       "{'weight_decay': 0.0005}"
      ]
     },
     "execution_count": 19,
     "metadata": {},
     "output_type": "execute_result"
    }
   ],
   "source": [
    "# Find the best weight_decay value\n",
    "grid_history.best_params_"
   ]
  },
  {
   "cell_type": "code",
   "execution_count": 25,
   "metadata": {
    "ExecuteTime": {
     "end_time": "2021-05-15T02:37:55.323863Z",
     "start_time": "2021-05-15T02:37:55.320221Z"
    }
   },
   "outputs": [
    {
     "data": {
      "text/plain": [
       "0.9741186300913492"
      ]
     },
     "execution_count": 25,
     "metadata": {},
     "output_type": "execute_result"
    }
   ],
   "source": [
    "# Best training score\n",
    "grid_history.best_score_"
   ]
  },
  {
   "cell_type": "code",
   "execution_count": 26,
   "metadata": {
    "ExecuteTime": {
     "end_time": "2021-05-15T02:40:57.337914Z",
     "start_time": "2021-05-15T02:40:57.332347Z"
    }
   },
   "outputs": [
    {
     "data": {
      "text/plain": [
       "{'mean_fit_time': array([245.209726, 237.249872, 424.280167, 513.789364]),\n",
       " 'std_fit_time': array([ 47.179785,  26.728232,  24.700214, 371.020007]),\n",
       " 'mean_score_time': array([3.71327 , 3.751416, 3.670151, 3.786239]),\n",
       " 'std_score_time': array([0.218963, 0.087531, 0.13402 , 0.240686]),\n",
       " 'param_weight_decay': masked_array(data=[0.5, 0.05, 0.005, 0.0005],\n",
       "              mask=[False, False, False, False],\n",
       "        fill_value='?',\n",
       "             dtype=object),\n",
       " 'params': [{'weight_decay': 0.5},\n",
       "  {'weight_decay': 0.05},\n",
       "  {'weight_decay': 0.005},\n",
       "  {'weight_decay': 0.0005}],\n",
       " 'split0_test_score': array([0.903968, 0.965497, 0.969523, 0.971823]),\n",
       " 'split1_test_score': array([0.93272 , 0.952846, 0.976998, 0.973548]),\n",
       " 'split2_test_score': array([0.934983, 0.963751, 0.956272, 0.976985]),\n",
       " 'mean_test_score': array([0.92389 , 0.960698, 0.967598, 0.974119]),\n",
       " 'std_test_score': array([0.014117, 0.005598, 0.00857 , 0.002146]),\n",
       " 'rank_test_score': array([4, 3, 2, 1], dtype=int32)}"
      ]
     },
     "execution_count": 26,
     "metadata": {},
     "output_type": "execute_result"
    }
   ],
   "source": [
    "grid_history.cv_results_"
   ]
  },
  {
   "cell_type": "code",
   "execution_count": 27,
   "metadata": {
    "ExecuteTime": {
     "end_time": "2021-05-15T03:30:17.366720Z",
     "start_time": "2021-05-15T03:30:15.805119Z"
    }
   },
   "outputs": [
    {
     "name": "stdout",
     "output_type": "stream",
     "text": [
      "20/20 [==============================] - 2s 70ms/step - loss: 1.5719 - accuracy: 0.7837\n"
     ]
    },
    {
     "data": {
      "text/plain": [
       "0.7836538553237915"
      ]
     },
     "execution_count": 27,
     "metadata": {},
     "output_type": "execute_result"
    }
   ],
   "source": [
    "grid_history.score(X_test, y_test)"
   ]
  },
  {
   "cell_type": "markdown",
   "metadata": {},
   "source": [
    "https://datascience.stackexchange.com/questions/77881/whats-the-difference-between-gridsearchcrossvalidation-score-and-score-on-tests#:~:text=Grid%20search%20trains%20different%20models,score%20of%20the%20best%20estimator.&text=It%20means%20that%20the%20model,not%20on%20the%20unseen%20data."
   ]
  },
  {
   "cell_type": "code",
   "execution_count": null,
   "metadata": {},
   "outputs": [],
   "source": []
  },
  {
   "cell_type": "code",
   "execution_count": null,
   "metadata": {},
   "outputs": [],
   "source": []
  },
  {
   "cell_type": "code",
   "execution_count": null,
   "metadata": {},
   "outputs": [],
   "source": []
  },
  {
   "cell_type": "markdown",
   "metadata": {},
   "source": [
    "### Best Model (L2 0.0005)"
   ]
  },
  {
   "cell_type": "code",
   "execution_count": 20,
   "metadata": {
    "ExecuteTime": {
     "end_time": "2021-05-15T02:25:08.696050Z",
     "start_time": "2021-05-15T02:25:08.607257Z"
    }
   },
   "outputs": [],
   "source": [
    "L2_best = models.Sequential()\n",
    "L2_best.add(layers.Conv2D(32, (3, 3), kernel_regularizer=regularizers.l2(0.0005), \n",
    "                                      activation='relu', input_shape=X_train.shape[1:]))\n",
    "L2_best.add(layers.MaxPooling2D((2, 2)))\n",
    "\n",
    "L2_best.add(layers.Conv2D(64, (3, 3), kernel_regularizer=regularizers.l2(0.0005), activation='relu'))\n",
    "L2_best.add(layers.MaxPooling2D((2, 2)))\n",
    "\n",
    "L2_best.add(layers.Conv2D(128, (3, 3), kernel_regularizer=regularizers.l2(0.0005), activation='relu'))\n",
    "L2_best.add(layers.MaxPooling2D((2, 2)))\n",
    "\n",
    "L2_best.add(layers.Flatten())\n",
    "L2_best.add(layers.Dense(128, activation='relu'))\n",
    "L2_best.add(layers.Dense(1, activation='sigmoid'))\n",
    "\n",
    "L2_best.compile(optimizer='adam',\n",
    "                loss='binary_crossentropy',\n",
    "                metrics=['accuracy'])"
   ]
  },
  {
   "cell_type": "code",
   "execution_count": 21,
   "metadata": {
    "ExecuteTime": {
     "end_time": "2021-05-15T02:26:44.243433Z",
     "start_time": "2021-05-15T02:26:44.240397Z"
    }
   },
   "outputs": [],
   "source": [
    "es_L2_best = [EarlyStopping(monitor='val_accuracy', mode='max', verbose=1, patience=6),\n",
    "              ModelCheckpoint(filepath='saved_models/L2_best.h5', \n",
    "                         monitor='val_accuracy', mode='max', verbose=1, save_best_only=True)]"
   ]
  },
  {
   "cell_type": "code",
   "execution_count": 22,
   "metadata": {
    "ExecuteTime": {
     "end_time": "2021-05-15T02:33:11.862592Z",
     "start_time": "2021-05-15T02:27:01.987792Z"
    }
   },
   "outputs": [
    {
     "name": "stdout",
     "output_type": "stream",
     "text": [
      "Epoch 1/50\n",
      "163/163 [==============================] - 42s 253ms/step - loss: 0.5629 - accuracy: 0.7813 - val_loss: 1.0858 - val_accuracy: 0.6843\n",
      "\n",
      "Epoch 00001: val_accuracy improved from -inf to 0.68429, saving model to saved_models/L2_best.h5\n",
      "Epoch 2/50\n",
      "163/163 [==============================] - 42s 256ms/step - loss: 0.1465 - accuracy: 0.9577 - val_loss: 0.7735 - val_accuracy: 0.7837\n",
      "\n",
      "Epoch 00002: val_accuracy improved from 0.68429 to 0.78365, saving model to saved_models/L2_best.h5\n",
      "Epoch 3/50\n",
      "163/163 [==============================] - 41s 253ms/step - loss: 0.1315 - accuracy: 0.9668 - val_loss: 0.5174 - val_accuracy: 0.8269\n",
      "\n",
      "Epoch 00003: val_accuracy improved from 0.78365 to 0.82692, saving model to saved_models/L2_best.h5\n",
      "Epoch 4/50\n",
      "163/163 [==============================] - 41s 249ms/step - loss: 0.1226 - accuracy: 0.9652 - val_loss: 1.0259 - val_accuracy: 0.7676\n",
      "\n",
      "Epoch 00004: val_accuracy did not improve from 0.82692\n",
      "Epoch 5/50\n",
      "163/163 [==============================] - 41s 249ms/step - loss: 0.0881 - accuracy: 0.9820 - val_loss: 0.8067 - val_accuracy: 0.7981\n",
      "\n",
      "Epoch 00005: val_accuracy did not improve from 0.82692\n",
      "Epoch 6/50\n",
      "163/163 [==============================] - 41s 250ms/step - loss: 0.0898 - accuracy: 0.9772 - val_loss: 1.2508 - val_accuracy: 0.7532\n",
      "\n",
      "Epoch 00006: val_accuracy did not improve from 0.82692\n",
      "Epoch 7/50\n",
      "163/163 [==============================] - 41s 252ms/step - loss: 0.0696 - accuracy: 0.9828 - val_loss: 0.8570 - val_accuracy: 0.7933\n",
      "\n",
      "Epoch 00007: val_accuracy did not improve from 0.82692\n",
      "Epoch 8/50\n",
      "163/163 [==============================] - 41s 252ms/step - loss: 0.0737 - accuracy: 0.9814 - val_loss: 1.3763 - val_accuracy: 0.7628\n",
      "\n",
      "Epoch 00008: val_accuracy did not improve from 0.82692\n",
      "Epoch 9/50\n",
      "163/163 [==============================] - 41s 252ms/step - loss: 0.0629 - accuracy: 0.9825 - val_loss: 1.6757 - val_accuracy: 0.7212\n",
      "\n",
      "Epoch 00009: val_accuracy did not improve from 0.82692\n",
      "Epoch 00009: early stopping\n"
     ]
    }
   ],
   "source": [
    "L2_best_history = L2_best.fit(X_train, y_train,\n",
    "                              epochs=50,\n",
    "                              batch_size=32,\n",
    "                              callbacks=es_L2_best,\n",
    "                              validation_data=(X_test, y_test))"
   ]
  },
  {
   "cell_type": "code",
   "execution_count": 23,
   "metadata": {
    "ExecuteTime": {
     "end_time": "2021-05-15T02:33:23.401893Z",
     "start_time": "2021-05-15T02:33:23.118584Z"
    }
   },
   "outputs": [
    {
     "data": {
      "image/png": "[encoded data removed]",
      "text/plain": [
       "<Figure size 432x288 with 2 Axes>"
      ]
     },
     "metadata": {
      "needs_background": "light"
     },
     "output_type": "display_data"
    }
   ],
   "source": [
    "visualize_training_results(L2_best_history)"
   ]
  },
  {
   "cell_type": "code",
   "execution_count": 24,
   "metadata": {
    "ExecuteTime": {
     "end_time": "2021-05-15T02:33:40.103665Z",
     "start_time": "2021-05-15T02:33:27.144211Z"
    }
   },
   "outputs": [
    {
     "name": "stdout",
     "output_type": "stream",
     "text": [
      "163/163 [==============================] - 10s 61ms/step - loss: 0.1378 - accuracy: 0.9592\n",
      "Training Loss:0.1378\n",
      "Training Accuracy:0.9592\n",
      "20/20 [==============================] - 1s 61ms/step - loss: 0.5174 - accuracy: 0.8269\n",
      "Test Loss:0.5174\n",
      "Test Accuracy:0.8269\n"
     ]
    },
    {
     "data": {
      "image/png": "[encoded data removed]",
      "text/plain": [
       "<Figure size 432x288 with 2 Axes>"
      ]
     },
     "metadata": {
      "needs_background": "light"
     },
     "output_type": "display_data"
    },
    {
     "data": {
      "text/plain": [
       "([0.9592], [0.8269])"
      ]
     },
     "execution_count": 24,
     "metadata": {},
     "output_type": "execute_result"
    }
   ],
   "source": [
    "L2best = load_model('saved_models/L2_best.h5')\n",
    "model_evaluation(L2best)"
   ]
  },
  {
   "cell_type": "markdown",
   "metadata": {},
   "source": [
    "### Padding"
   ]
  },
  {
   "cell_type": "code",
   "execution_count": 47,
   "metadata": {
    "ExecuteTime": {
     "end_time": "2021-05-14T03:45:11.752084Z",
     "start_time": "2021-05-14T03:45:11.668415Z"
    }
   },
   "outputs": [],
   "source": [
    "padding = models.Sequential()\n",
    "padding.add(layers.Conv2D(32, (3, 3), padding='same', activation='relu', input_shape=(128,128,3)))\n",
    "padding.add(layers.MaxPooling2D((2, 2)))\n",
    "\n",
    "padding.add(layers.Conv2D(64, (3, 3), padding='same', activation='relu'))\n",
    "padding.add(layers.MaxPooling2D((2, 2)))\n",
    "\n",
    "padding.add(layers.Conv2D(128, (3, 3), padding='same', activation='relu'))\n",
    "padding.add(layers.MaxPooling2D((2, 2)))\n",
    "\n",
    "padding.add(layers.Flatten())\n",
    "padding.add(layers.Dense(128, activation='relu'))\n",
    "padding.add(layers.Dense(1, activation='sigmoid'))\n",
    "\n",
    "padding.compile(optimizer='adam',\n",
    "                loss='binary_crossentropy',\n",
    "                metrics=['accuracy'])"
   ]
  },
  {
   "cell_type": "code",
   "execution_count": 48,
   "metadata": {
    "ExecuteTime": {
     "end_time": "2021-05-14T03:45:15.546645Z",
     "start_time": "2021-05-14T03:45:15.543689Z"
    }
   },
   "outputs": [],
   "source": [
    "es_padding = [EarlyStopping(monitor='val_accuracy', mode='max', verbose=1, patience=6),\n",
    "              ModelCheckpoint(filepath='saved_models/best_padding.h5', \n",
    "                              monitor='val_accuracy', mode='max', verbose=1, save_best_only=True)]"
   ]
  },
  {
   "cell_type": "code",
   "execution_count": 49,
   "metadata": {
    "ExecuteTime": {
     "end_time": "2021-05-14T03:52:40.924165Z",
     "start_time": "2021-05-14T03:45:33.606200Z"
    }
   },
   "outputs": [
    {
     "name": "stdout",
     "output_type": "stream",
     "text": [
      "Epoch 1/50\n",
      "163/163 [==============================] - 50s 302ms/step - loss: 0.5563 - accuracy: 0.7632 - val_loss: 0.9447 - val_accuracy: 0.7244\n",
      "\n",
      "Epoch 00001: val_accuracy improved from -inf to 0.72436, saving model to saved_models/best_padding.h5\n",
      "Epoch 2/50\n",
      "163/163 [==============================] - 47s 287ms/step - loss: 0.1118 - accuracy: 0.9594 - val_loss: 0.8752 - val_accuracy: 0.7564\n",
      "\n",
      "Epoch 00002: val_accuracy improved from 0.72436 to 0.75641, saving model to saved_models/best_padding.h5\n",
      "Epoch 3/50\n",
      "163/163 [==============================] - 47s 289ms/step - loss: 0.0956 - accuracy: 0.9680 - val_loss: 0.7980 - val_accuracy: 0.7804\n",
      "\n",
      "Epoch 00003: val_accuracy improved from 0.75641 to 0.78045, saving model to saved_models/best_padding.h5\n",
      "Epoch 4/50\n",
      "163/163 [==============================] - 47s 288ms/step - loss: 0.0781 - accuracy: 0.9728 - val_loss: 1.6736 - val_accuracy: 0.6971\n",
      "\n",
      "Epoch 00004: val_accuracy did not improve from 0.78045\n",
      "Epoch 5/50\n",
      "163/163 [==============================] - 47s 289ms/step - loss: 0.0731 - accuracy: 0.9710 - val_loss: 0.8812 - val_accuracy: 0.7804\n",
      "\n",
      "Epoch 00005: val_accuracy did not improve from 0.78045\n",
      "Epoch 6/50\n",
      "163/163 [==============================] - 47s 290ms/step - loss: 0.0439 - accuracy: 0.9838 - val_loss: 1.3175 - val_accuracy: 0.7644\n",
      "\n",
      "Epoch 00006: val_accuracy did not improve from 0.78045\n",
      "Epoch 7/50\n",
      "163/163 [==============================] - 47s 289ms/step - loss: 0.0344 - accuracy: 0.9854 - val_loss: 1.7792 - val_accuracy: 0.7340\n",
      "\n",
      "Epoch 00007: val_accuracy did not improve from 0.78045\n",
      "Epoch 8/50\n",
      "163/163 [==============================] - 48s 292ms/step - loss: 0.0312 - accuracy: 0.9881 - val_loss: 2.0384 - val_accuracy: 0.7212\n",
      "\n",
      "Epoch 00008: val_accuracy did not improve from 0.78045\n",
      "Epoch 9/50\n",
      "163/163 [==============================] - 47s 291ms/step - loss: 0.0158 - accuracy: 0.9949 - val_loss: 1.6243 - val_accuracy: 0.7532\n",
      "\n",
      "Epoch 00009: val_accuracy did not improve from 0.78045\n",
      "Epoch 00009: early stopping\n"
     ]
    }
   ],
   "source": [
    "padding_history = padding.fit(X_train, y_train,\n",
    "                              epochs=50,\n",
    "                              batch_size=32,\n",
    "                              callbacks=es_padding,\n",
    "                              validation_data=(X_test, y_test))"
   ]
  },
  {
   "cell_type": "code",
   "execution_count": 50,
   "metadata": {
    "ExecuteTime": {
     "end_time": "2021-05-14T03:53:13.677990Z",
     "start_time": "2021-05-14T03:53:13.378257Z"
    },
    "scrolled": false
   },
   "outputs": [
    {
     "data": {
      "image/png": "[encoded data removed]",
      "text/plain": [
       "<Figure size 432x288 with 2 Axes>"
      ]
     },
     "metadata": {
      "needs_background": "light"
     },
     "output_type": "display_data"
    }
   ],
   "source": [
    "visualize_training_results(padding_history)"
   ]
  },
  {
   "cell_type": "code",
   "execution_count": 51,
   "metadata": {
    "ExecuteTime": {
     "end_time": "2021-05-14T03:53:33.432973Z",
     "start_time": "2021-05-14T03:53:17.915988Z"
    }
   },
   "outputs": [
    {
     "name": "stdout",
     "output_type": "stream",
     "text": [
      "163/163 [==============================] - 12s 74ms/step - loss: 0.0582 - accuracy: 0.9785\n",
      "Training Loss:0.05816\n",
      "Training Accuracy:0.9785\n",
      "20/20 [==============================] - 2s 74ms/step - loss: 0.7980 - accuracy: 0.7804\n",
      "Test Loss:0.798\n",
      "Test Accuracy:0.7804\n"
     ]
    },
    {
     "data": {
      "image/png": "[encoded data removed]",
      "text/plain": [
       "<Figure size 432x288 with 2 Axes>"
      ]
     },
     "metadata": {
      "needs_background": "light"
     },
     "output_type": "display_data"
    },
    {
     "data": {
      "text/plain": [
       "([0.9785], [0.7804])"
      ]
     },
     "execution_count": 51,
     "metadata": {},
     "output_type": "execute_result"
    }
   ],
   "source": [
    "pad = load_model('saved_models/best_padding.h5')\n",
    "model_evaluation(pad)"
   ]
  },
  {
   "cell_type": "markdown",
   "metadata": {},
   "source": [
    ">**Comment:** \n",
    "- The Padding took less time to run compare with the baseline model\n",
    "- The train accuracy (0.9785) is higher than test accuracy (0.7804) which indicates the model is overfit\n",
    "- Compare with the baseline model, test accuray shows some improvements\n",
    "- There are more false positive than false negative"
   ]
  },
  {
   "cell_type": "markdown",
   "metadata": {},
   "source": [
    "### Pretrained VGG19"
   ]
  },
  {
   "cell_type": "code",
   "execution_count": 12,
   "metadata": {
    "ExecuteTime": {
     "end_time": "2021-05-14T15:42:58.136905Z",
     "start_time": "2021-05-14T15:42:58.113204Z"
    }
   },
   "outputs": [],
   "source": [
    "from keras.applications import VGG19"
   ]
  },
  {
   "cell_type": "code",
   "execution_count": 13,
   "metadata": {
    "ExecuteTime": {
     "end_time": "2021-05-14T15:42:58.532785Z",
     "start_time": "2021-05-14T15:42:58.138399Z"
    }
   },
   "outputs": [],
   "source": [
    "pretrained = VGG19(weights='imagenet',\n",
    "                   include_top=False,\n",
    "                   input_shape=X_train.shape[1:])"
   ]
  },
  {
   "cell_type": "code",
   "execution_count": 14,
   "metadata": {
    "ExecuteTime": {
     "end_time": "2021-05-14T15:42:58.606327Z",
     "start_time": "2021-05-14T15:42:58.535272Z"
    }
   },
   "outputs": [],
   "source": [
    "pre = models.Sequential()\n",
    "pre.add(pretrained)\n",
    "pre.add(layers.Flatten())\n",
    "pre.add(layers.Dense(128, activation='relu'))\n",
    "pre.add(layers.Dense(1, activation='sigmoid'))\n",
    "\n",
    "# Freeze pretained layer\n",
    "pretrained.trainable = False"
   ]
  },
  {
   "cell_type": "code",
   "execution_count": 15,
   "metadata": {
    "ExecuteTime": {
     "end_time": "2021-05-14T15:42:58.612138Z",
     "start_time": "2021-05-14T15:42:58.608240Z"
    }
   },
   "outputs": [
    {
     "name": "stdout",
     "output_type": "stream",
     "text": [
      "Model: \"sequential\"\n",
      "_________________________________________________________________\n",
      "Layer (type)                 Output Shape              Param #   \n",
      "=================================================================\n",
      "vgg19 (Functional)           (None, 4, 4, 512)         20024384  \n",
      "_________________________________________________________________\n",
      "flatten (Flatten)            (None, 8192)              0         \n",
      "_________________________________________________________________\n",
      "dense (Dense)                (None, 128)               1048704   \n",
      "_________________________________________________________________\n",
      "dense_1 (Dense)              (None, 1)                 129       \n",
      "=================================================================\n",
      "Total params: 21,073,217\n",
      "Trainable params: 1,048,833\n",
      "Non-trainable params: 20,024,384\n",
      "_________________________________________________________________\n"
     ]
    }
   ],
   "source": [
    "pre.summary()"
   ]
  },
  {
   "cell_type": "code",
   "execution_count": 16,
   "metadata": {
    "ExecuteTime": {
     "end_time": "2021-05-14T15:42:58.616314Z",
     "start_time": "2021-05-14T15:42:58.613743Z"
    }
   },
   "outputs": [
    {
     "name": "stdout",
     "output_type": "stream",
     "text": [
      "vgg19 False\n",
      "flatten True\n",
      "dense True\n",
      "dense_1 True\n"
     ]
    }
   ],
   "source": [
    "# Verify \"frozen\"\n",
    "for layer in pre.layers:\n",
    "    print(layer.name, layer.trainable)"
   ]
  },
  {
   "cell_type": "code",
   "execution_count": 17,
   "metadata": {
    "ExecuteTime": {
     "end_time": "2021-05-14T15:42:58.632935Z",
     "start_time": "2021-05-14T15:42:58.617737Z"
    }
   },
   "outputs": [],
   "source": [
    "pre.compile(optimizer='adam',\n",
    "            loss='binary_crossentropy',\n",
    "            metrics=['accuracy'])"
   ]
  },
  {
   "cell_type": "code",
   "execution_count": 18,
   "metadata": {
    "ExecuteTime": {
     "end_time": "2021-05-14T15:42:58.637100Z",
     "start_time": "2021-05-14T15:42:58.634543Z"
    }
   },
   "outputs": [],
   "source": [
    "es_pre = [EarlyStopping(monitor='val_accuracy', mode='max', verbose=1, patience=6),\n",
    "          ModelCheckpoint(filepath='saved_models/best_pre.h5', \n",
    "                          monitor='val_accuracy', mode='max', verbose=1, save_best_only=True)]"
   ]
  },
  {
   "cell_type": "code",
   "execution_count": 19,
   "metadata": {
    "ExecuteTime": {
     "end_time": "2021-05-14T16:01:08.614892Z",
     "start_time": "2021-05-14T15:42:58.639825Z"
    }
   },
   "outputs": [
    {
     "name": "stdout",
     "output_type": "stream",
     "text": [
      "Epoch 1/50\n",
      "163/163 [==============================] - 156s 952ms/step - loss: 0.4121 - accuracy: 0.8460 - val_loss: 0.4542 - val_accuracy: 0.8029\n",
      "\n",
      "Epoch 00001: val_accuracy improved from -inf to 0.80288, saving model to saved_models/best_pre.h5\n",
      "Epoch 2/50\n",
      "163/163 [==============================] - 155s 953ms/step - loss: 0.0867 - accuracy: 0.9704 - val_loss: 0.7819 - val_accuracy: 0.7468\n",
      "\n",
      "Epoch 00002: val_accuracy did not improve from 0.80288\n",
      "Epoch 3/50\n",
      "163/163 [==============================] - 155s 953ms/step - loss: 0.0631 - accuracy: 0.9819 - val_loss: 0.8639 - val_accuracy: 0.7436\n",
      "\n",
      "Epoch 00003: val_accuracy did not improve from 0.80288\n",
      "Epoch 4/50\n",
      "163/163 [==============================] - 155s 951ms/step - loss: 0.0481 - accuracy: 0.9822 - val_loss: 0.8599 - val_accuracy: 0.7628\n",
      "\n",
      "Epoch 00004: val_accuracy did not improve from 0.80288\n",
      "Epoch 5/50\n",
      "163/163 [==============================] - 155s 950ms/step - loss: 0.0441 - accuracy: 0.9856 - val_loss: 1.2581 - val_accuracy: 0.7099\n",
      "\n",
      "Epoch 00005: val_accuracy did not improve from 0.80288\n",
      "Epoch 6/50\n",
      "163/163 [==============================] - 156s 960ms/step - loss: 0.0518 - accuracy: 0.9803 - val_loss: 0.7018 - val_accuracy: 0.8253\n",
      "\n",
      "Epoch 00006: val_accuracy improved from 0.80288 to 0.82532, saving model to saved_models/best_pre.h5\n",
      "Epoch 7/50\n",
      "163/163 [==============================] - 158s 967ms/step - loss: 0.0362 - accuracy: 0.9878 - val_loss: 0.9511 - val_accuracy: 0.7821\n",
      "\n",
      "Epoch 00007: val_accuracy did not improve from 0.82532\n",
      "Epoch 00007: early stopping\n"
     ]
    }
   ],
   "source": [
    "pre_history = pre.fit(X_train, y_train,\n",
    "                      epochs=50,\n",
    "                      batch_size=32,\n",
    "                      callbacks=es_pre,\n",
    "                      validation_data=(X_test, y_test))"
   ]
  },
  {
   "cell_type": "code",
   "execution_count": 20,
   "metadata": {
    "ExecuteTime": {
     "end_time": "2021-05-14T16:01:08.966908Z",
     "start_time": "2021-05-14T16:01:08.617002Z"
    }
   },
   "outputs": [
    {
     "data": {
      "image/png": "[encoded data removed]",
      "text/plain": [
       "<Figure size 432x288 with 2 Axes>"
      ]
     },
     "metadata": {
      "needs_background": "light"
     },
     "output_type": "display_data"
    }
   ],
   "source": [
    "visualize_training_results(pre_history)"
   ]
  },
  {
   "cell_type": "code",
   "execution_count": 21,
   "metadata": {
    "ExecuteTime": {
     "end_time": "2021-05-14T16:04:06.143360Z",
     "start_time": "2021-05-14T16:01:08.968799Z"
    }
   },
   "outputs": [
    {
     "name": "stdout",
     "output_type": "stream",
     "text": [
      "163/163 [==============================] - 143s 875ms/step - loss: 0.0371 - accuracy: 0.9864\n",
      "Training Loss:0.03707\n",
      "Training Accuracy:0.9864\n",
      "20/20 [==============================] - 17s 825ms/step - loss: 0.7018 - accuracy: 0.8253\n",
      "Test Loss:0.7018\n",
      "Test Accuracy:0.8253\n"
     ]
    },
    {
     "data": {
      "image/png": "[encoded data removed]",
      "text/plain": [
       "<Figure size 432x288 with 2 Axes>"
      ]
     },
     "metadata": {
      "needs_background": "light"
     },
     "output_type": "display_data"
    },
    {
     "data": {
      "text/plain": [
       "([0.9864], [0.8253])"
      ]
     },
     "execution_count": 21,
     "metadata": {},
     "output_type": "execute_result"
    }
   ],
   "source": [
    "pret = load_model('saved_models/best_pre.h5')\n",
    "model_evaluation(pret)"
   ]
  },
  {
   "cell_type": "markdown",
   "metadata": {},
   "source": [
    "## V. Evaluation"
   ]
  },
  {
   "cell_type": "markdown",
   "metadata": {},
   "source": [
    "## VI. Conclusion"
   ]
  },
  {
   "cell_type": "code",
   "execution_count": null,
   "metadata": {},
   "outputs": [],
   "source": []
  }
 ],
 "metadata": {
  "kernelspec": {
   "display_name": "Python 3",
   "language": "python",
   "name": "python3"
  },
  "language_info": {
   "codemirror_mode": {
    "name": "ipython",
    "version": 3
   },
   "file_extension": ".py",
   "mimetype": "text/x-python",
   "name": "python",
   "nbconvert_exporter": "python",
   "pygments_lexer": "ipython3",
   "version": "3.6.9"
  },
  "toc": {
   "base_numbering": 1,
   "nav_menu": {},
   "number_sections": false,
   "sideBar": true,
   "skip_h1_title": false,
   "title_cell": "Table of Contents",
   "title_sidebar": "Contents",
   "toc_cell": false,
   "toc_position": {
    "height": "calc(100% - 180px)",
    "left": "10px",
    "top": "150px",
    "width": "262.798px"
   },
   "toc_section_display": true,
   "toc_window_display": true
  }
 },
 "nbformat": 4,
 "nbformat_minor": 4
}
