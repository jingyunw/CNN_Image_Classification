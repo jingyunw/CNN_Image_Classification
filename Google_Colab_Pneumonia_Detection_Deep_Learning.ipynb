{
 "cells": [
  {
   "cell_type": "markdown",
   "metadata": {
    "id": "_EB9vMjyCoJe"
   },
   "source": [
    "# Pneumonia Detection from Chest X-ray through Deep Learning"
   ]
  },
  {
   "cell_type": "markdown",
   "metadata": {
    "id": "siR2UA53CoJj"
   },
   "source": [
    "## I. Overview"
   ]
  },
  {
   "cell_type": "markdown",
   "metadata": {
    "id": "7X2_SNHPCoJk"
   },
   "source": [
    "## II. Business Problem"
   ]
  },
  {
   "cell_type": "markdown",
   "metadata": {
    "id": "xKb_XqbeCoJk"
   },
   "source": [
    "## III. Data Understanding and Preparation\n",
    "- The datasets acquired from [Kaggle](https://www.kaggle.com/paultimothymooney/chest-xray-pneumonia) were downloaded in a \"chest_xray\" folder. This folder has 3 sub-folders inside which are \"train\", \"test\", and \"val\". Each sub-folder contains 2 sub-folders: \"NORMAL\" and \"PNEUMONIA\""
   ]
  },
  {
   "cell_type": "code",
   "execution_count": 19,
   "metadata": {
    "ExecuteTime": {
     "end_time": "2021-05-17T18:48:50.014355Z",
     "start_time": "2021-05-17T18:48:49.268201Z"
    },
    "id": "wcvZdPTWCoJk"
   },
   "outputs": [],
   "source": [
    "import os\n",
    "\n",
    "import pandas as pd\n",
    "import numpy as np\n",
    "np.random.seed(24)\n",
    "# Set for displaying prediction probability for later\n",
    "np.set_printoptions(precision=6, suppress=True)  # if absolute value < 1e-4, set equal to 0\n",
    "\n",
    "import matplotlib.pyplot as plt\n",
    "%matplotlib inline\n",
    "import seaborn as sns"
   ]
  },
  {
   "cell_type": "code",
   "execution_count": 20,
   "metadata": {
    "id": "bgC--C5VCyh2"
   },
   "outputs": [],
   "source": [
    "from google.colab import drive"
   ]
  },
  {
   "cell_type": "code",
   "execution_count": 21,
   "metadata": {
    "ExecuteTime": {
     "end_time": "2021-05-17T18:48:52.539930Z",
     "start_time": "2021-05-17T18:48:50.016139Z"
    },
    "id": "6D2ChJhICoJl"
   },
   "outputs": [],
   "source": [
    "from tensorflow import random\n",
    "random.set_seed(24)\n",
    "from tensorflow.keras.preprocessing.image import ImageDataGenerator, array_to_img, img_to_array, load_img\n",
    "\n",
    "from tensorflow.keras import models\n",
    "from tensorflow.keras import layers\n",
    "from tensorflow.keras import regularizers\n",
    "from tensorflow.keras import optimizers\n",
    "from tensorflow.keras.callbacks import EarlyStopping, ModelCheckpoint\n",
    "from tensorflow.keras.models import load_model\n",
    "\n",
    "from sklearn.model_selection import GridSearchCV\n",
    "from sklearn.metrics import confusion_matrix, classification_reportreport\n",
    "\n",
    "# Implementation of the scikit-learn classifier API for Keras\n",
    "from keras.wrappers.scikit_learn import KerasClassifier"
   ]
  },
  {
   "cell_type": "code",
   "execution_count": 22,
   "metadata": {
    "colab": {
     "base_uri": "https://localhost:8080/"
    },
    "id": "bsaFeGfNC5BX",
    "outputId": "c2b61243-fc6b-4700-869a-e9d52257e4dd"
   },
   "outputs": [
    {
     "name": "stdout",
     "output_type": "stream",
     "text": [
      "Mounted at /gdrive\n"
     ]
    }
   ],
   "source": [
    "# Mount Google Drive\n",
    "drive.mount('/gdrive', force_remount=True)"
   ]
  },
  {
   "cell_type": "code",
   "execution_count": null,
   "metadata": {},
   "outputs": [],
   "source": [
    "# Get the current working directory\n",
    "print(os.getcwd())"
   ]
  },
  {
   "cell_type": "code",
   "execution_count": 20,
   "metadata": {
    "id": "aSaoe_ucJBRv"
   },
   "outputs": [],
   "source": [
    "# Drive path is the path where I upload the zip file\n",
    "drive_path = '/gdrive/MyDrive/chest_xray.zip'\n",
    "\n",
    "# Expect to move the zip file into the local path\n",
    "local_path = '/content'"
   ]
  },
  {
   "cell_type": "code",
   "execution_count": 25,
   "metadata": {
    "id": "deZVGXnpJRs5"
   },
   "outputs": [],
   "source": [
    "# Copy the file in drive path\n",
    "!cp '{drive_path}' .\n",
    "\n",
    "# Change the file from drive path to the local path\n",
    "os.chdir(local_path)\n",
    "\n",
    "# Unzip the file\n",
    "!unzip -q 'chest_xray.zip'"
   ]
  },
  {
   "cell_type": "code",
   "execution_count": 28,
   "metadata": {
    "ExecuteTime": {
     "end_time": "2021-05-17T18:48:52.568335Z",
     "start_time": "2021-05-17T18:48:52.542327Z"
    },
    "colab": {
     "base_uri": "https://localhost:8080/"
    },
    "id": "pmsnQ3I8CoJl",
    "outputId": "0d237d99-09ca-46a5-b770-19a06010ac4c"
   },
   "outputs": [
    {
     "name": "stdout",
     "output_type": "stream",
     "text": [
      "Train Normal: 1341\n",
      "Train Pneumonia: 3875\n",
      "Train Total: 5216\n",
      "\n",
      "Test Normal: 234\n",
      "Test Pneumonia: 390\n",
      "Test Total: 624\n",
      "\n",
      "Val Normal: 8\n",
      "Val Pneumonia: 8\n",
      "Val Total: 16\n"
     ]
    }
   ],
   "source": [
    "# Check the number of images in each sub-folders\n",
    "\n",
    "# Train\n",
    "train_normal = '/content/chest_xray/train/NORMAL'\n",
    "train_pneumonia = '/content/chest_xray/train/PNEUMONIA'\n",
    "\n",
    "print(\"Train Normal:\", len(os.listdir(train_normal)))\n",
    "print(\"Train Pneumonia:\", len(os.listdir(train_pneumonia)))\n",
    "print(\"Train Total:\", len(os.listdir(train_normal)) + len(os.listdir(train_pneumonia)))\n",
    "\n",
    "# Test\n",
    "test_normal = '/content/chest_xray/test/NORMAL'\n",
    "test_pneumonia = '/content/chest_xray/test/PNEUMONIA'\n",
    "\n",
    "print(\"\\nTest Normal:\", len(os.listdir(test_normal)))\n",
    "print(\"Test Pneumonia:\", len(os.listdir(test_pneumonia)))\n",
    "print(\"Test Total:\", len(os.listdir(test_normal)) + len(os.listdir(test_pneumonia)))\n",
    "\n",
    "# Validation\n",
    "val_normal = '/content/chest_xray/val/NORMAL'\n",
    "val_pneumonia = '/content/chest_xray/val/PNEUMONIA'\n",
    "\n",
    "print(\"\\nVal Normal:\", len(os.listdir(val_normal)))\n",
    "print(\"Val Pneumonia:\", len(os.listdir(val_pneumonia)))\n",
    "print(\"Val Total:\", len(os.listdir(val_normal)) + len(os.listdir(val_pneumonia)))"
   ]
  },
  {
   "cell_type": "code",
   "execution_count": 29,
   "metadata": {
    "ExecuteTime": {
     "end_time": "2021-05-17T18:48:52.573099Z",
     "start_time": "2021-05-17T18:48:52.570517Z"
    },
    "id": "mUxwLHOoCoJm"
   },
   "outputs": [],
   "source": [
    "# Create file directory\n",
    "train_dir = '/content/chest_xray/train'\n",
    "test_dir = '/content/chest_xray/test'\n",
    "val_dir = '/content/chest_xray/val'"
   ]
  },
  {
   "cell_type": "code",
   "execution_count": 30,
   "metadata": {
    "ExecuteTime": {
     "end_time": "2021-05-17T18:48:53.113048Z",
     "start_time": "2021-05-17T18:48:52.574761Z"
    },
    "colab": {
     "base_uri": "https://localhost:8080/"
    },
    "id": "MRW08O_qCoJm",
    "outputId": "add2c92c-4d23-4d05-be18-e2deeb289d74"
   },
   "outputs": [
    {
     "name": "stdout",
     "output_type": "stream",
     "text": [
      "Found 5216 images belonging to 2 classes.\n",
      "Found 624 images belonging to 2 classes.\n",
      "Found 16 images belonging to 2 classes.\n"
     ]
    }
   ],
   "source": [
    "# Create data generator\n",
    "# Get all the train data (5216), test data (624), validation data (16) in the corresponding directory\n",
    "# Scale data\n",
    "# Set each image to 128×128 px\n",
    "# Set binary class mode\n",
    "\n",
    "train_generator = ImageDataGenerator(rescale=1./255)\\\n",
    "                  .flow_from_directory(train_dir, target_size=(128,128), batch_size=5216, class_mode='binary')\n",
    "\n",
    "test_generator = ImageDataGenerator(rescale=1./255)\\\n",
    "                 .flow_from_directory(test_dir, target_size=(128,128), batch_size=624, class_mode='binary') \n",
    "\n",
    "val_generator = ImageDataGenerator(rescale=1./255)\\\n",
    "                .flow_from_directory(val_dir, target_size=(128,128), batch_size=16, class_mode='binary') "
   ]
  },
  {
   "cell_type": "code",
   "execution_count": 31,
   "metadata": {
    "id": "SJOlGFSVLU1D"
   },
   "outputs": [],
   "source": [
    "# Create the data sets\n",
    "# next - retrieve the next item from iterator\n",
    "X_train, y_train = next(train_generator)\n",
    "X_test, y_test = next(test_generator)\n",
    "X_val, y_val = next(val_generator)"
   ]
  },
  {
   "cell_type": "code",
   "execution_count": 32,
   "metadata": {
    "ExecuteTime": {
     "end_time": "2021-05-17T18:49:35.765879Z",
     "start_time": "2021-05-17T18:49:35.761731Z"
    },
    "colab": {
     "base_uri": "https://localhost:8080/"
    },
    "id": "_w9vyc2gCoJn",
    "outputId": "e2dcf571-ac22-4ba8-d8f5-98cc7de1a7aa"
   },
   "outputs": [
    {
     "name": "stdout",
     "output_type": "stream",
     "text": [
      "X_train shape: (5216, 128, 128, 3)\n",
      "y_train shape: (5216,)\n",
      "\n",
      "X_test shape: (624, 128, 128, 3)\n",
      "y_test shape: (624,)\n",
      "\n",
      "X_val shape: (16, 128, 128, 3)\n",
      "y_val shape: (16,)\n"
     ]
    }
   ],
   "source": [
    "# Check the shape\n",
    "print (\"X_train shape: \" + str(X_train.shape))\n",
    "print (\"y_train shape: \" + str(y_train.shape))\n",
    "\n",
    "print (\"\\nX_test shape: \" + str(X_test.shape))\n",
    "print (\"y_test shape: \" + str(y_test.shape))\n",
    "\n",
    "print (\"\\nX_val shape: \" + str(X_val.shape))\n",
    "print (\"y_val shape: \" + str(y_val.shape))"
   ]
  },
  {
   "cell_type": "code",
   "execution_count": 33,
   "metadata": {
    "ExecuteTime": {
     "end_time": "2021-05-17T18:49:35.772794Z",
     "start_time": "2021-05-17T18:49:35.768726Z"
    },
    "colab": {
     "base_uri": "https://localhost:8080/"
    },
    "id": "_RsUXDdCCoJn",
    "outputId": "3f08b81c-08f3-4f44-9ae1-ef690ac7bc79"
   },
   "outputs": [
    {
     "data": {
      "text/plain": [
       "{'NORMAL': 0, 'PNEUMONIA': 1}"
      ]
     },
     "execution_count": 33,
     "metadata": {
      "tags": []
     },
     "output_type": "execute_result"
    }
   ],
   "source": [
    "# Check if the binary indicator was correctly labeled\n",
    "train_generator.class_indices"
   ]
  },
  {
   "cell_type": "code",
   "execution_count": 34,
   "metadata": {
    "ExecuteTime": {
     "end_time": "2021-05-17T18:49:35.779628Z",
     "start_time": "2021-05-17T18:49:35.774483Z"
    },
    "colab": {
     "base_uri": "https://localhost:8080/"
    },
    "id": "snIKCA5ACoJn",
    "outputId": "427f8fcb-8dfd-49e1-ef34-9425d5c19d9c"
   },
   "outputs": [
    {
     "name": "stdout",
     "output_type": "stream",
     "text": [
      "[1, 3, 5, 6, 8, 9, 12, 14]\n",
      "[0, 2, 4, 7, 10, 11, 13, 15]\n"
     ]
    }
   ],
   "source": [
    "# Create two lists for storing the image number from validation set\n",
    "normal_img_num = []\n",
    "pneumonia_img_num = []\n",
    "\n",
    "# Validation set only contains 16 images\n",
    "# target label = 0 means normal\n",
    "# target label = 1 means pneumonis\n",
    "\n",
    "numbers = list(range(0,16))\n",
    "for num in numbers:\n",
    "    \n",
    "    if y_val[num] == 0:\n",
    "        normal_img_num.append(num)\n",
    "    \n",
    "    else:\n",
    "        pneumonia_img_num.append(num)\n",
    "\n",
    "print(normal_img_num)\n",
    "print(pneumonia_img_num)"
   ]
  },
  {
   "cell_type": "code",
   "execution_count": 35,
   "metadata": {
    "ExecuteTime": {
     "end_time": "2021-05-17T18:50:10.689163Z",
     "start_time": "2021-05-17T18:50:10.398837Z"
    },
    "colab": {
     "base_uri": "https://localhost:8080/",
     "height": 352
    },
    "id": "som0l4GgCoJo",
    "outputId": "52b37e31-c8f7-443e-ae53-7fb5e724f576"
   },
   "outputs": [
    {
     "name": "stdout",
     "output_type": "stream",
     "text": [
      "0.0\n",
      "1.0\n"
     ]
    },
    {
     "data": {
      "image/png": "[encoded data removed]",
      "text/plain": [
       "<Figure size 720x720 with 2 Axes>"
      ]
     },
     "metadata": {
      "needs_background": "light",
      "tags": []
     },
     "output_type": "display_data"
    }
   ],
   "source": [
    "# Plot one image from each list \n",
    "# Choose the 1st image from each list\n",
    "fig = plt.figure(figsize=(10,10))\n",
    "n = 0\n",
    "\n",
    "# Normal\n",
    "ax1 = fig.add_subplot(121)\n",
    "plt.imshow(X_val[normal_img_num[n]])\n",
    "print(y_val[normal_img_num[n]])\n",
    "plt.title(\"Normal\");\n",
    "\n",
    "# Pneumonia\n",
    "ax2 = fig.add_subplot(122)\n",
    "plt.imshow(X_val[pneumonia_img_num[n]])\n",
    "print(y_val[pneumonia_img_num[n]])\n",
    "plt.title(\"Pneumonia\");"
   ]
  },
  {
   "cell_type": "code",
   "execution_count": 36,
   "metadata": {
    "ExecuteTime": {
     "end_time": "2021-05-17T18:50:24.674571Z",
     "start_time": "2021-05-17T18:50:24.664665Z"
    },
    "id": "vZT3x_5eCoJo"
   },
   "outputs": [],
   "source": [
    "def visualize_training_results(history):\n",
    "    '''\n",
    "    Input: keras history object \n",
    "    \n",
    "    '''\n",
    "    \n",
    "    fig, (ax1, ax2) = plt.subplots(2, sharex=True)\n",
    "    fig.suptitle('Model Results')\n",
    "\n",
    "    # summarize history for accuracy\n",
    "    ax1.plot(history.history['accuracy'])\n",
    "    ax1.plot(history.history['val_accuracy'])\n",
    "    ax1.set_ylabel('Accuracy')\n",
    "    ax1.legend(['train', 'test'], loc='upper left')\n",
    "    \n",
    "    # summarize history for loss\n",
    "    ax2.plot(history.history['loss'])\n",
    "    ax2.plot(history.history['val_loss'])\n",
    "    ax2.set_ylabel('Loss')\n",
    "    ax2.legend(['train', 'test'], loc='upper left')\n",
    "    \n",
    "    plt.xlabel('Epoch')\n",
    "    plt.show()"
   ]
  },
  {
   "cell_type": "code",
   "execution_count": 37,
   "metadata": {
    "ExecuteTime": {
     "end_time": "2021-05-17T18:50:30.323245Z",
     "start_time": "2021-05-17T18:50:30.306115Z"
    },
    "id": "lMkhGc9fCoJo"
   },
   "outputs": [],
   "source": [
    "def model_evaluation(model):\n",
    "    '''\n",
    "    Input: keras model\n",
    "    \n",
    "    Append accuracy results\n",
    "    \n",
    "    Plot confusion matrix\n",
    "    '''\n",
    "    \n",
    "    train_acc = []\n",
    "    test_acc = []\n",
    "    \n",
    "    # Train loss and accuracy\n",
    "    result_train = model.evaluate(X_train, y_train)\n",
    "    print(f'Training Loss:{result_train[0]:.4}')\n",
    "    print(f'Training Accuracy:{result_train[1]:.4}')\n",
    "    train_acc.append(round(result_train[1], 4))\n",
    "    \n",
    "    # Test loss and accuracy\n",
    "    result_test = model.evaluate(X_test, y_test)\n",
    "    print(f'Test Loss:{result_test[0]:.4}')\n",
    "    print(f'Test Accuracy:{result_test[1]:.4}')\n",
    "    test_acc.append(round(result_test[1], 4))\n",
    "    \n",
    "    # Prediction\n",
    "    y_test_pred = (model.predict(X_test) > 0.5).astype(\"int32\")\n",
    "    \n",
    "    # Plot confusion matrix\n",
    "    cm = confusion_matrix(y_test, y_test_pred)\n",
    "    ax = sns.heatmap(cm, annot=True, cmap='Blues', fmt='d')\n",
    "    ax.set_ylim(2,0)\n",
    "    plt.xlabel('Predictions')\n",
    "    plt.ylabel('Actuals')\n",
    "    plt.show()\n",
    "    \n",
    "    # Classification Report\n",
    "    print(classification_report(y_test, y_test_pred))\n",
    "    \n",
    "    return train_acc, test_acc"
   ]
  },
  {
   "cell_type": "markdown",
   "metadata": {
    "id": "_5nRRLuYCoJp"
   },
   "source": [
    "### Note:\n",
    "- Since the <u>*validation set*</u> contains much less data than the <u>*test set*</u>, I will use the <u>*test set*</u> as my validation during the model fit step\n",
    "- <u>*validation set*</u> will be used as true holdout which only use at the end \n",
    "\n",
    "### Problem of small validation set\n",
    "- If the validation set contains much less data than training set, the validation curves (accuracy and loss) will be spiky before convergence. In other words, more epochs and longer training time will be required"
   ]
  },
  {
   "cell_type": "markdown",
   "metadata": {
    "id": "opYqIOuxCoJp"
   },
   "source": [
    "## IV. Modeling"
   ]
  },
  {
   "cell_type": "markdown",
   "metadata": {
    "id": "yycCf9_vCoJp"
   },
   "source": [
    "### CNN Baseline Model"
   ]
  },
  {
   "cell_type": "code",
   "execution_count": 65,
   "metadata": {
    "ExecuteTime": {
     "end_time": "2021-05-13T23:28:07.696452Z",
     "start_time": "2021-05-13T23:28:07.595950Z"
    },
    "id": "Dc0AEldoCoJp"
   },
   "outputs": [],
   "source": [
    "base_model = models.Sequential()\n",
    "base_model.add(layers.Conv2D(32, (3, 3), activation='relu', input_shape=X_train.shape[1:]))\n",
    "base_model.add(layers.MaxPooling2D((2, 2)))\n",
    "\n",
    "base_model.add(layers.Conv2D(64, (3, 3), activation='relu'))\n",
    "base_model.add(layers.MaxPooling2D((2, 2)))\n",
    "\n",
    "base_model.add(layers.Conv2D(128, (3, 3), activation='relu'))\n",
    "base_model.add(layers.MaxPooling2D((2, 2)))\n",
    "\n",
    "base_model.add(layers.Flatten())\n",
    "base_model.add(layers.Dense(128, activation='relu'))\n",
    "base_model.add(layers.Dense(1, activation='sigmoid'))\n",
    "\n",
    "base_model.compile(optimizer='adam',\n",
    "                   loss='binary_crossentropy',\n",
    "                   metrics=['accuracy'])"
   ]
  },
  {
   "cell_type": "code",
   "execution_count": 66,
   "metadata": {
    "ExecuteTime": {
     "end_time": "2021-05-14T00:27:53.313068Z",
     "start_time": "2021-05-13T23:28:07.698384Z"
    },
    "colab": {
     "base_uri": "https://localhost:8080/"
    },
    "id": "LH7InrWbCoJp",
    "outputId": "71c32c84-78e4-4cef-c84b-fffd87ac85fa",
    "scrolled": false
   },
   "outputs": [
    {
     "name": "stdout",
     "output_type": "stream",
     "text": [
      "Epoch 1/50\n",
      "163/163 [==============================] - 4s 21ms/step - loss: 0.4303 - accuracy: 0.8152 - val_loss: 1.1098 - val_accuracy: 0.7212\n",
      "Epoch 2/50\n",
      "163/163 [==============================] - 3s 20ms/step - loss: 0.1145 - accuracy: 0.9550 - val_loss: 0.5855 - val_accuracy: 0.8109\n",
      "Epoch 3/50\n",
      "163/163 [==============================] - 3s 20ms/step - loss: 0.0777 - accuracy: 0.9707 - val_loss: 0.9440 - val_accuracy: 0.7484\n",
      "Epoch 4/50\n",
      "163/163 [==============================] - 3s 20ms/step - loss: 0.0714 - accuracy: 0.9715 - val_loss: 0.6994 - val_accuracy: 0.8013\n",
      "Epoch 5/50\n",
      "163/163 [==============================] - 3s 20ms/step - loss: 0.0548 - accuracy: 0.9795 - val_loss: 1.0496 - val_accuracy: 0.7821\n",
      "Epoch 6/50\n",
      "163/163 [==============================] - 3s 20ms/step - loss: 0.0437 - accuracy: 0.9839 - val_loss: 1.5179 - val_accuracy: 0.7516\n",
      "Epoch 7/50\n",
      "163/163 [==============================] - 3s 20ms/step - loss: 0.0257 - accuracy: 0.9922 - val_loss: 1.3001 - val_accuracy: 0.7660\n",
      "Epoch 8/50\n",
      "163/163 [==============================] - 3s 20ms/step - loss: 0.0338 - accuracy: 0.9860 - val_loss: 1.4789 - val_accuracy: 0.7869\n",
      "Epoch 9/50\n",
      "163/163 [==============================] - 3s 20ms/step - loss: 0.0287 - accuracy: 0.9868 - val_loss: 1.6494 - val_accuracy: 0.7452\n",
      "Epoch 10/50\n",
      "163/163 [==============================] - 3s 20ms/step - loss: 0.0222 - accuracy: 0.9919 - val_loss: 2.3219 - val_accuracy: 0.7612\n",
      "Epoch 11/50\n",
      "163/163 [==============================] - 3s 20ms/step - loss: 0.0101 - accuracy: 0.9959 - val_loss: 1.7961 - val_accuracy: 0.7580\n",
      "Epoch 12/50\n",
      "163/163 [==============================] - 3s 20ms/step - loss: 0.0182 - accuracy: 0.9947 - val_loss: 1.7259 - val_accuracy: 0.7676\n",
      "Epoch 13/50\n",
      "163/163 [==============================] - 3s 20ms/step - loss: 0.0044 - accuracy: 0.9999 - val_loss: 2.9576 - val_accuracy: 0.7484\n",
      "Epoch 14/50\n",
      "163/163 [==============================] - 3s 20ms/step - loss: 0.0031 - accuracy: 0.9994 - val_loss: 2.8096 - val_accuracy: 0.7628\n",
      "Epoch 15/50\n",
      "163/163 [==============================] - 3s 20ms/step - loss: 0.0025 - accuracy: 0.9996 - val_loss: 2.9781 - val_accuracy: 0.7692\n",
      "Epoch 16/50\n",
      "163/163 [==============================] - 3s 20ms/step - loss: 2.5940e-04 - accuracy: 1.0000 - val_loss: 3.5814 - val_accuracy: 0.7612\n",
      "Epoch 17/50\n",
      "163/163 [==============================] - 3s 20ms/step - loss: 1.0390e-04 - accuracy: 1.0000 - val_loss: 3.4452 - val_accuracy: 0.7692\n",
      "Epoch 18/50\n",
      "163/163 [==============================] - 3s 20ms/step - loss: 6.0041e-05 - accuracy: 1.0000 - val_loss: 3.7028 - val_accuracy: 0.7676\n",
      "Epoch 19/50\n",
      "163/163 [==============================] - 3s 20ms/step - loss: 4.8242e-05 - accuracy: 1.0000 - val_loss: 3.6379 - val_accuracy: 0.7692\n",
      "Epoch 20/50\n",
      "163/163 [==============================] - 3s 20ms/step - loss: 3.7859e-05 - accuracy: 1.0000 - val_loss: 3.7614 - val_accuracy: 0.7692\n",
      "Epoch 21/50\n",
      "163/163 [==============================] - 3s 21ms/step - loss: 3.1444e-05 - accuracy: 1.0000 - val_loss: 3.8174 - val_accuracy: 0.7692\n",
      "Epoch 22/50\n",
      "163/163 [==============================] - 3s 21ms/step - loss: 3.2346e-05 - accuracy: 1.0000 - val_loss: 3.9682 - val_accuracy: 0.7676\n",
      "Epoch 23/50\n",
      "163/163 [==============================] - 3s 21ms/step - loss: 2.2916e-05 - accuracy: 1.0000 - val_loss: 3.9595 - val_accuracy: 0.7692\n",
      "Epoch 24/50\n",
      "163/163 [==============================] - 3s 21ms/step - loss: 2.1560e-05 - accuracy: 1.0000 - val_loss: 4.0132 - val_accuracy: 0.7692\n",
      "Epoch 25/50\n",
      "163/163 [==============================] - 3s 21ms/step - loss: 1.5942e-05 - accuracy: 1.0000 - val_loss: 4.0947 - val_accuracy: 0.7692\n",
      "Epoch 26/50\n",
      "163/163 [==============================] - 3s 21ms/step - loss: 1.4721e-05 - accuracy: 1.0000 - val_loss: 4.1545 - val_accuracy: 0.7692\n",
      "Epoch 27/50\n",
      "163/163 [==============================] - 3s 21ms/step - loss: 1.7470e-05 - accuracy: 1.0000 - val_loss: 4.1602 - val_accuracy: 0.7692\n",
      "Epoch 28/50\n",
      "163/163 [==============================] - 3s 21ms/step - loss: 1.3486e-05 - accuracy: 1.0000 - val_loss: 4.2651 - val_accuracy: 0.7692\n",
      "Epoch 29/50\n",
      "163/163 [==============================] - 3s 21ms/step - loss: 1.3121e-05 - accuracy: 1.0000 - val_loss: 4.3541 - val_accuracy: 0.7676\n",
      "Epoch 30/50\n",
      "163/163 [==============================] - 3s 21ms/step - loss: 9.2904e-06 - accuracy: 1.0000 - val_loss: 4.2886 - val_accuracy: 0.7692\n",
      "Epoch 31/50\n",
      "163/163 [==============================] - 3s 20ms/step - loss: 9.2987e-06 - accuracy: 1.0000 - val_loss: 4.4069 - val_accuracy: 0.7692\n",
      "Epoch 32/50\n",
      "163/163 [==============================] - 3s 20ms/step - loss: 8.2384e-06 - accuracy: 1.0000 - val_loss: 4.4661 - val_accuracy: 0.7692\n",
      "Epoch 33/50\n",
      "163/163 [==============================] - 3s 20ms/step - loss: 7.6133e-06 - accuracy: 1.0000 - val_loss: 4.4431 - val_accuracy: 0.7692\n",
      "Epoch 34/50\n",
      "163/163 [==============================] - 3s 20ms/step - loss: 6.8937e-06 - accuracy: 1.0000 - val_loss: 4.4572 - val_accuracy: 0.7708\n",
      "Epoch 35/50\n",
      "163/163 [==============================] - 3s 20ms/step - loss: 5.6605e-06 - accuracy: 1.0000 - val_loss: 4.6315 - val_accuracy: 0.7676\n",
      "Epoch 36/50\n",
      "163/163 [==============================] - 3s 20ms/step - loss: 6.6247e-06 - accuracy: 1.0000 - val_loss: 4.6275 - val_accuracy: 0.7692\n",
      "Epoch 37/50\n",
      "163/163 [==============================] - 3s 20ms/step - loss: 4.4301e-06 - accuracy: 1.0000 - val_loss: 4.6585 - val_accuracy: 0.7692\n",
      "Epoch 38/50\n",
      "163/163 [==============================] - 3s 20ms/step - loss: 4.7053e-06 - accuracy: 1.0000 - val_loss: 4.6593 - val_accuracy: 0.7708\n",
      "Epoch 39/50\n",
      "163/163 [==============================] - 3s 20ms/step - loss: 3.8480e-06 - accuracy: 1.0000 - val_loss: 4.7673 - val_accuracy: 0.7692\n",
      "Epoch 40/50\n",
      "163/163 [==============================] - 3s 20ms/step - loss: 3.4680e-06 - accuracy: 1.0000 - val_loss: 4.7391 - val_accuracy: 0.7708\n",
      "Epoch 41/50\n",
      "163/163 [==============================] - 3s 20ms/step - loss: 3.3511e-06 - accuracy: 1.0000 - val_loss: 4.7850 - val_accuracy: 0.7708\n",
      "Epoch 42/50\n",
      "163/163 [==============================] - 3s 20ms/step - loss: 3.3646e-06 - accuracy: 1.0000 - val_loss: 4.8103 - val_accuracy: 0.7708\n",
      "Epoch 43/50\n",
      "163/163 [==============================] - 3s 20ms/step - loss: 2.6075e-06 - accuracy: 1.0000 - val_loss: 4.9017 - val_accuracy: 0.7692\n",
      "Epoch 44/50\n",
      "163/163 [==============================] - 3s 20ms/step - loss: 2.3905e-06 - accuracy: 1.0000 - val_loss: 4.9034 - val_accuracy: 0.7708\n",
      "Epoch 45/50\n",
      "163/163 [==============================] - 3s 20ms/step - loss: 2.2422e-06 - accuracy: 1.0000 - val_loss: 4.9626 - val_accuracy: 0.7708\n",
      "Epoch 46/50\n",
      "163/163 [==============================] - 3s 20ms/step - loss: 2.3233e-06 - accuracy: 1.0000 - val_loss: 5.0168 - val_accuracy: 0.7708\n",
      "Epoch 47/50\n",
      "163/163 [==============================] - 3s 20ms/step - loss: 1.6767e-06 - accuracy: 1.0000 - val_loss: 5.0280 - val_accuracy: 0.7708\n",
      "Epoch 48/50\n",
      "163/163 [==============================] - 3s 20ms/step - loss: 1.4166e-06 - accuracy: 1.0000 - val_loss: 5.1041 - val_accuracy: 0.7708\n",
      "Epoch 49/50\n",
      "163/163 [==============================] - 3s 20ms/step - loss: 1.5990e-06 - accuracy: 1.0000 - val_loss: 5.1210 - val_accuracy: 0.7708\n",
      "Epoch 50/50\n",
      "163/163 [==============================] - 3s 20ms/step - loss: 1.5161e-06 - accuracy: 1.0000 - val_loss: 5.1855 - val_accuracy: 0.7708\n"
     ]
    }
   ],
   "source": [
    "base_history = base_model.fit(X_train, y_train,\n",
    "                              epochs=50,\n",
    "                              batch_size=32,\n",
    "                              validation_data=(X_test, y_test))"
   ]
  },
  {
   "cell_type": "code",
   "execution_count": 67,
   "metadata": {
    "ExecuteTime": {
     "end_time": "2021-05-14T00:27:53.600904Z",
     "start_time": "2021-05-14T00:27:53.315099Z"
    },
    "colab": {
     "base_uri": "https://localhost:8080/",
     "height": 308
    },
    "id": "jv0T-0LvCoJq",
    "outputId": "a43f4859-5a6c-497f-8d63-330cc06004ad",
    "scrolled": true
   },
   "outputs": [
    {
     "data": {
      "image/png": "[encoded data removed]",
      "text/plain": [
       "<Figure size 432x288 with 2 Axes>"
      ]
     },
     "metadata": {
      "needs_background": "light",
      "tags": []
     },
     "output_type": "display_data"
    }
   ],
   "source": [
    "visualize_training_results(base_history)"
   ]
  },
  {
   "cell_type": "code",
   "execution_count": 68,
   "metadata": {
    "ExecuteTime": {
     "end_time": "2021-05-14T00:27:53.657376Z",
     "start_time": "2021-05-14T00:27:53.602968Z"
    },
    "id": "hyGLmFJVCoJq"
   },
   "outputs": [],
   "source": [
    "base_model.save('/content/saved_models/base_model.h5')"
   ]
  },
  {
   "cell_type": "code",
   "execution_count": 69,
   "metadata": {
    "ExecuteTime": {
     "end_time": "2021-05-14T01:07:33.197633Z",
     "start_time": "2021-05-14T01:07:18.964715Z"
    },
    "colab": {
     "base_uri": "https://localhost:8080/",
     "height": 398
    },
    "id": "wi4NkWnZCoJq",
    "outputId": "88a9b51d-4fa0-43f8-8625-b837a1ef012a"
   },
   "outputs": [
    {
     "name": "stdout",
     "output_type": "stream",
     "text": [
      "163/163 [==============================] - 1s 7ms/step - loss: 1.2693e-06 - accuracy: 1.0000\n",
      "Training Loss:1.269e-06\n",
      "Training Accuracy:1.0\n",
      "20/20 [==============================] - 0s 7ms/step - loss: 5.1855 - accuracy: 0.7708\n",
      "Test Loss:5.185\n",
      "Test Accuracy:0.7708\n"
     ]
    },
    {
     "data": {
      "image/png": "[encoded data removed]",
      "text/plain": [
       "<Figure size 432x288 with 2 Axes>"
      ]
     },
     "metadata": {
      "needs_background": "light",
      "tags": []
     },
     "output_type": "display_data"
    },
    {
     "data": {
      "text/plain": [
       "([1.0], [0.7708])"
      ]
     },
     "execution_count": 69,
     "metadata": {
      "tags": []
     },
     "output_type": "execute_result"
    }
   ],
   "source": [
    "base = load_model('/content/saved_models/base_model.h5')\n",
    "bm = model_evaluation(base)\n",
    "bm"
   ]
  },
  {
   "cell_type": "markdown",
   "metadata": {
    "id": "H6oiu2U7CoJq"
   },
   "source": [
    ">**Comment:** *Baseline Model*\n",
    "- The CNN baseline model took more than 40 minutes to run\n",
    "- The train accuracy (100%) is higher than val accuracy (0.753) which indicates that the baseline model is overfit\n",
    "- The accuracy plot shows that test accuracy reaches convergence after 20 epochs \n",
    "- The loss plot shows that test loss still increase after 20 epochs\n",
    "- Early stopping can be used for iteration model tunning to prevent overfit and saving time\n",
    "- There are more false positive than false negative"
   ]
  },
  {
   "cell_type": "markdown",
   "metadata": {},
   "source": [
    "### Early Stopping"
   ]
  },
  {
   "cell_type": "code",
   "execution_count": null,
   "metadata": {},
   "outputs": [],
   "source": [
    "# Early Stopping\n",
    "es = EarlyStopping(monitor='val_accuracy', mode='max', verbose=1, patience=6)"
   ]
  },
  {
   "cell_type": "markdown",
   "metadata": {},
   "source": [
    "### Solve Overfitting Technique\n",
    "1. Dropout\n",
    "2. Regularization, L1, L2, L1+L2"
   ]
  },
  {
   "cell_type": "markdown",
   "metadata": {
    "id": "k0948YpbCoJq"
   },
   "source": [
    "### 1) Dropout 20\n",
    "- Add (20%) dropout layers and earlystopping "
   ]
  },
  {
   "cell_type": "code",
   "execution_count": 70,
   "metadata": {
    "ExecuteTime": {
     "end_time": "2021-05-14T01:12:09.376545Z",
     "start_time": "2021-05-14T01:12:09.284686Z"
    },
    "id": "elkPwtPyCoJr"
   },
   "outputs": [],
   "source": [
    "dropout_20 = models.Sequential()\n",
    "dropout_20.add(layers.Conv2D(32, (3, 3), activation='relu', input_shape=X_train.shape[1:]))\n",
    "dropout_20.add(layers.MaxPooling2D((2, 2)))\n",
    "dropout_20.add(layers.Dropout(0.2))\n",
    "\n",
    "dropout_20.add(layers.Conv2D(64, (3, 3), activation='relu'))\n",
    "dropout_20.add(layers.MaxPooling2D((2, 2)))\n",
    "dropout_20.add(layers.Dropout(0.2))\n",
    "\n",
    "dropout_20.add(layers.Conv2D(128, (3, 3), activation='relu'))\n",
    "dropout_20.add(layers.MaxPooling2D((2, 2)))\n",
    "dropout_20.add(layers.Dropout(0.2))\n",
    "\n",
    "dropout_20.add(layers.Flatten())\n",
    "dropout_20.add(layers.Dense(128, activation='relu'))\n",
    "dropout_20.add(layers.Dense(1, activation='sigmoid'))\n",
    "\n",
    "dropout_20.compile(optimizer='adam',\n",
    "                   loss='binary_crossentropy',\n",
    "                   metrics=['accuracy'])"
   ]
  },
  {
   "cell_type": "code",
   "execution_count": 71,
   "metadata": {
    "ExecuteTime": {
     "end_time": "2021-05-14T01:12:27.637366Z",
     "start_time": "2021-05-14T01:12:27.634406Z"
    },
    "id": "qY02Cs5OCoJr"
   },
   "outputs": [],
   "source": [
    "mc_dp_20 = ModelCheckpoint(filepath='/content/saved_models/dropout_20.h5', \n",
    "                           monitor='val_accuracy', mode='max', verbose=1, save_best_only=True)"
   ]
  },
  {
   "cell_type": "code",
   "execution_count": 72,
   "metadata": {
    "ExecuteTime": {
     "end_time": "2021-05-14T01:18:49.628664Z",
     "start_time": "2021-05-14T01:12:32.843179Z"
    },
    "colab": {
     "base_uri": "https://localhost:8080/"
    },
    "id": "lx9TGQ2yCoJr",
    "outputId": "e87bc0f6-d4b4-454b-e619-9ba0e04b6f8e"
   },
   "outputs": [
    {
     "name": "stdout",
     "output_type": "stream",
     "text": [
      "Epoch 1/50\n",
      "163/163 [==============================] - 4s 22ms/step - loss: 0.5606 - accuracy: 0.7662 - val_loss: 0.9235 - val_accuracy: 0.7260\n",
      "\n",
      "Epoch 00001: val_accuracy improved from -inf to 0.72596, saving model to /content/saved_models/best_dropout_20.h5\n",
      "Epoch 2/50\n",
      "163/163 [==============================] - 4s 21ms/step - loss: 0.1552 - accuracy: 0.9388 - val_loss: 0.6252 - val_accuracy: 0.8029\n",
      "\n",
      "Epoch 00002: val_accuracy improved from 0.72596 to 0.80288, saving model to /content/saved_models/best_dropout_20.h5\n",
      "Epoch 3/50\n",
      "163/163 [==============================] - 4s 22ms/step - loss: 0.1018 - accuracy: 0.9622 - val_loss: 0.9918 - val_accuracy: 0.7404\n",
      "\n",
      "Epoch 00003: val_accuracy did not improve from 0.80288\n",
      "Epoch 4/50\n",
      "163/163 [==============================] - 3s 21ms/step - loss: 0.0996 - accuracy: 0.9673 - val_loss: 0.7593 - val_accuracy: 0.7981\n",
      "\n",
      "Epoch 00004: val_accuracy did not improve from 0.80288\n",
      "Epoch 5/50\n",
      "163/163 [==============================] - 3s 21ms/step - loss: 0.0667 - accuracy: 0.9762 - val_loss: 0.8616 - val_accuracy: 0.7837\n",
      "\n",
      "Epoch 00005: val_accuracy did not improve from 0.80288\n",
      "Epoch 6/50\n",
      "163/163 [==============================] - 4s 21ms/step - loss: 0.0617 - accuracy: 0.9778 - val_loss: 1.0255 - val_accuracy: 0.7692\n",
      "\n",
      "Epoch 00006: val_accuracy did not improve from 0.80288\n",
      "Epoch 7/50\n",
      "163/163 [==============================] - 4s 22ms/step - loss: 0.0549 - accuracy: 0.9806 - val_loss: 0.9993 - val_accuracy: 0.7644\n",
      "\n",
      "Epoch 00007: val_accuracy did not improve from 0.80288\n",
      "Epoch 8/50\n",
      "163/163 [==============================] - 4s 22ms/step - loss: 0.0656 - accuracy: 0.9755 - val_loss: 1.1663 - val_accuracy: 0.7756\n",
      "\n",
      "Epoch 00008: val_accuracy did not improve from 0.80288\n",
      "Epoch 00008: early stopping\n"
     ]
    }
   ],
   "source": [
    "dropout_20_history = dropout_20.fit(X_train, y_train,\n",
    "                                    epochs=50,\n",
    "                                    batch_size=32,\n",
    "                                    callbacks=[es, mc_dp_20],\n",
    "                                    validation_data=(X_test, y_test))"
   ]
  },
  {
   "cell_type": "code",
   "execution_count": 73,
   "metadata": {
    "ExecuteTime": {
     "end_time": "2021-05-14T01:19:11.280717Z",
     "start_time": "2021-05-14T01:19:10.997160Z"
    },
    "colab": {
     "base_uri": "https://localhost:8080/",
     "height": 308
    },
    "id": "4jDp62c7CoJr",
    "outputId": "523844ae-411d-4a75-fa5f-9a7c6e6ff1e3",
    "scrolled": true
   },
   "outputs": [
    {
     "data": {
      "image/png": "[encoded data removed]",
      "text/plain": [
       "<Figure size 432x288 with 2 Axes>"
      ]
     },
     "metadata": {
      "needs_background": "light",
      "tags": []
     },
     "output_type": "display_data"
    }
   ],
   "source": [
    "visualize_training_results(dropout_20_history)"
   ]
  },
  {
   "cell_type": "code",
   "execution_count": 74,
   "metadata": {
    "ExecuteTime": {
     "end_time": "2021-05-14T01:19:30.596265Z",
     "start_time": "2021-05-14T01:19:16.556779Z"
    },
    "colab": {
     "base_uri": "https://localhost:8080/",
     "height": 398
    },
    "id": "UrlLyZWVCoJs",
    "outputId": "28368d9c-4883-4d6f-8ae6-8211d13f5aa3"
   },
   "outputs": [
    {
     "name": "stdout",
     "output_type": "stream",
     "text": [
      "163/163 [==============================] - 1s 8ms/step - loss: 0.1052 - accuracy: 0.9632\n",
      "Training Loss:0.1052\n",
      "Training Accuracy:0.9632\n",
      "20/20 [==============================] - 0s 8ms/step - loss: 0.6252 - accuracy: 0.8029\n",
      "Test Loss:0.6252\n",
      "Test Accuracy:0.8029\n"
     ]
    },
    {
     "data": {
      "image/png": "[encoded data removed]",
      "text/plain": [
       "<Figure size 432x288 with 2 Axes>"
      ]
     },
     "metadata": {
      "needs_background": "light",
      "tags": []
     },
     "output_type": "display_data"
    },
    {
     "data": {
      "text/plain": [
       "([0.9632], [0.8029])"
      ]
     },
     "execution_count": 74,
     "metadata": {
      "tags": []
     },
     "output_type": "execute_result"
    }
   ],
   "source": [
    "dp20 = load_model('/content/saved_models/dropout_20.h5')\n",
    "dp20m = model_evaluation(dp20)\n",
    "dp20m"
   ]
  },
  {
   "cell_type": "markdown",
   "metadata": {
    "id": "VqCTlH2PCoJs"
   },
   "source": [
    ">**Comment:** Dropout 20%\n",
    "- The dropout_20 model took less time to run compare with the baseline model\n",
    "- The train accuracy (0.9659) is higher than test accuracy (0.7997) which indicates the model is overfit \n",
    "- Compare with the baseline model, test accuray shows some improvements\n",
    "- There are more false positive than false negative\n",
    "- dp20 has more FN than base"
   ]
  },
  {
   "cell_type": "markdown",
   "metadata": {},
   "source": [
    "#### Grid Search for dropout %"
   ]
  },
  {
   "cell_type": "code",
   "execution_count": null,
   "metadata": {},
   "outputs": [],
   "source": [
    "def dropout_model(percent):\n",
    "    model = models.Sequential()\n",
    "    model.add(layers.Conv2D(32, (3, 3), activation='relu', input_shape=X_train.shape[1:]))\n",
    "    model.add(layers.MaxPooling2D((2, 2)))\n",
    "    model.add(layers.Dropout(percent))\n",
    "\n",
    "    model.add(layers.Conv2D(64, (3, 3), activation='relu'))\n",
    "    model.add(layers.MaxPooling2D((2, 2)))\n",
    "    model.add(layers.Dropout(percent))\n",
    "\n",
    "    model.add(layers.Conv2D(128, (3, 3), activation='relu'))\n",
    "    model.add(layers.MaxPooling2D((2, 2)))\n",
    "    model.add(layers.Dropout(percent))\n",
    "\n",
    "    model.add(layers.Flatten())\n",
    "    model.add(layers.Dense(128, activation='relu'))\n",
    "    model.add(layers.Dense(1, activation='sigmoid'))\n",
    "\n",
    "    model.compile(optimizer='adam',\n",
    "                  loss='binary_crossentropy',\n",
    "                  metrics=['accuracy'])\n",
    "    \n",
    "    return model"
   ]
  },
  {
   "cell_type": "markdown",
   "metadata": {},
   "source": [
    "https://faroit.com/keras-docs/1.0.6/scikit-learn-api/"
   ]
  },
  {
   "cell_type": "code",
   "execution_count": null,
   "metadata": {},
   "outputs": [],
   "source": [
    "# Wrapper\n",
    "DP_model = KerasClassifier(build_fn=dropout_model)"
   ]
  },
  {
   "cell_type": "code",
   "execution_count": null,
   "metadata": {},
   "outputs": [],
   "source": [
    "# parameter grid\n",
    "dp_param_grid = {'percent': [0.2, 0.3, 0.4, 0.5]}\n",
    "\n",
    "DP_grid = GridSearchCV(DP_model, param_grid=dp_param_grid, cv=3)"
   ]
  },
  {
   "cell_type": "code",
   "execution_count": null,
   "metadata": {},
   "outputs": [],
   "source": [
    "DP_grid_history = DP_grid.fit(X_train, y_train,\n",
    "                              epochs=50,\n",
    "                              batch_size=32,\n",
    "                              callbacks=es,\n",
    "                              validation_data=(X_test, y_test))"
   ]
  },
  {
   "cell_type": "code",
   "execution_count": null,
   "metadata": {},
   "outputs": [],
   "source": [
    "# Find the best weight_decay value\n",
    "DP_grid_history.best_params_"
   ]
  },
  {
   "cell_type": "code",
   "execution_count": null,
   "metadata": {},
   "outputs": [],
   "source": [
    "# DP_grid_history.best_score_"
   ]
  },
  {
   "cell_type": "code",
   "execution_count": null,
   "metadata": {},
   "outputs": [],
   "source": [
    "# DP_grid_history.cv_results_"
   ]
  },
  {
   "cell_type": "code",
   "execution_count": null,
   "metadata": {},
   "outputs": [],
   "source": [
    "# DP_grid_history.score(X_test, y_test)"
   ]
  },
  {
   "cell_type": "markdown",
   "metadata": {
    "id": "qvp7f48KCoJs"
   },
   "source": [
    "### Best Dropout\n",
    "- Add (50%) dropout layer and earlystopping"
   ]
  },
  {
   "cell_type": "code",
   "execution_count": 75,
   "metadata": {
    "ExecuteTime": {
     "end_time": "2021-05-14T01:34:26.975291Z",
     "start_time": "2021-05-14T01:34:26.889369Z"
    },
    "id": "4JhIYa3uCoJs"
   },
   "outputs": [],
   "source": [
    "dropout_50 = models.Sequential()\n",
    "dropout_50.add(layers.Conv2D(32, (3, 3), activation='relu', input_shape=X_train.shape[1:]))\n",
    "dropout_50.add(layers.MaxPooling2D((2, 2)))\n",
    "dropout_50.add(layers.Dropout(0.5))\n",
    "\n",
    "dropout_50.add(layers.Conv2D(64, (3, 3), activation='relu'))\n",
    "dropout_50.add(layers.MaxPooling2D((2, 2)))\n",
    "dropout_50.add(layers.Dropout(0.5))\n",
    "\n",
    "dropout_50.add(layers.Conv2D(128, (3, 3), activation='relu'))\n",
    "dropout_50.add(layers.MaxPooling2D((2, 2)))\n",
    "dropout_50.add(layers.Dropout(0.5))\n",
    "\n",
    "dropout_50.add(layers.Flatten())\n",
    "dropout_50.add(layers.Dense(128, activation='relu'))\n",
    "dropout_50.add(layers.Dense(1, activation='sigmoid'))\n",
    "\n",
    "dropout_50.compile(optimizer='adam',\n",
    "                   loss='binary_crossentropy',\n",
    "                   metrics=['accuracy'])"
   ]
  },
  {
   "cell_type": "code",
   "execution_count": 76,
   "metadata": {
    "ExecuteTime": {
     "end_time": "2021-05-14T01:35:05.761352Z",
     "start_time": "2021-05-14T01:35:05.758388Z"
    },
    "id": "MGVbuP-8CoJs"
   },
   "outputs": [],
   "source": [
    "mc_dp_50 = ModelCheckpoint(filepath='/content/saved_models/best_dropout_50.h5', \n",
    "                           monitor='val_accuracy', mode='max', verbose=1, save_best_only=True)]"
   ]
  },
  {
   "cell_type": "code",
   "execution_count": 77,
   "metadata": {
    "ExecuteTime": {
     "end_time": "2021-05-14T01:42:28.749141Z",
     "start_time": "2021-05-14T01:35:16.630677Z"
    },
    "colab": {
     "base_uri": "https://localhost:8080/"
    },
    "id": "UMjb4dyFCoJs",
    "outputId": "1d2c9e15-cbda-45ff-d22c-5af34e868cd5",
    "scrolled": false
   },
   "outputs": [
    {
     "name": "stdout",
     "output_type": "stream",
     "text": [
      "Epoch 1/50\n",
      "163/163 [==============================] - 4s 23ms/step - loss: 0.8368 - accuracy: 0.6998 - val_loss: 0.3846 - val_accuracy: 0.8349\n",
      "\n",
      "Epoch 00001: val_accuracy improved from -inf to 0.83494, saving model to /content/saved_models/best_dropout_50.h5\n",
      "Epoch 2/50\n",
      "163/163 [==============================] - 3s 21ms/step - loss: 0.2143 - accuracy: 0.9161 - val_loss: 0.5772 - val_accuracy: 0.7436\n",
      "\n",
      "Epoch 00002: val_accuracy did not improve from 0.83494\n",
      "Epoch 3/50\n",
      "163/163 [==============================] - 4s 22ms/step - loss: 0.1575 - accuracy: 0.9399 - val_loss: 0.4640 - val_accuracy: 0.7821\n",
      "\n",
      "Epoch 00003: val_accuracy did not improve from 0.83494\n",
      "Epoch 4/50\n",
      "163/163 [==============================] - 4s 22ms/step - loss: 0.1380 - accuracy: 0.9495 - val_loss: 0.5296 - val_accuracy: 0.7692\n",
      "\n",
      "Epoch 00004: val_accuracy did not improve from 0.83494\n",
      "Epoch 5/50\n",
      "163/163 [==============================] - 4s 22ms/step - loss: 0.1182 - accuracy: 0.9540 - val_loss: 0.5277 - val_accuracy: 0.7756\n",
      "\n",
      "Epoch 00005: val_accuracy did not improve from 0.83494\n",
      "Epoch 6/50\n",
      "163/163 [==============================] - 3s 21ms/step - loss: 0.1124 - accuracy: 0.9579 - val_loss: 0.7579 - val_accuracy: 0.7516\n",
      "\n",
      "Epoch 00006: val_accuracy did not improve from 0.83494\n",
      "Epoch 7/50\n",
      "163/163 [==============================] - 4s 22ms/step - loss: 0.0904 - accuracy: 0.9678 - val_loss: 0.5973 - val_accuracy: 0.7772\n",
      "\n",
      "Epoch 00007: val_accuracy did not improve from 0.83494\n",
      "Epoch 00007: early stopping\n"
     ]
    }
   ],
   "source": [
    "dropout_50_history = dropout_50.fit(X_train, y_train,\n",
    "                                    epochs=50,\n",
    "                                    batch_size=32,\n",
    "                                    callbacks=[es, mc_dp_50],\n",
    "                                    validation_data=(X_test, y_test))"
   ]
  },
  {
   "cell_type": "code",
   "execution_count": 78,
   "metadata": {
    "ExecuteTime": {
     "end_time": "2021-05-14T01:42:29.078048Z",
     "start_time": "2021-05-14T01:42:28.750948Z"
    },
    "colab": {
     "base_uri": "https://localhost:8080/",
     "height": 308
    },
    "id": "Y0vOzFJYCoJt",
    "outputId": "a9b5df8a-62c7-4a2b-a597-880f7310090e",
    "scrolled": false
   },
   "outputs": [
    {
     "data": {
      "image/png": "[encoded data removed]",
      "text/plain": [
       "<Figure size 432x288 with 2 Axes>"
      ]
     },
     "metadata": {
      "needs_background": "light",
      "tags": []
     },
     "output_type": "display_data"
    }
   ],
   "source": [
    "visualize_training_results(dropout_50_history)"
   ]
  },
  {
   "cell_type": "code",
   "execution_count": 79,
   "metadata": {
    "ExecuteTime": {
     "end_time": "2021-05-14T01:42:43.044109Z",
     "start_time": "2021-05-14T01:42:29.079974Z"
    },
    "colab": {
     "base_uri": "https://localhost:8080/",
     "height": 398
    },
    "id": "NRs6PJ6MCoJt",
    "outputId": "22787439-66e0-4a73-c5fe-edb80f79823c",
    "scrolled": false
   },
   "outputs": [
    {
     "name": "stdout",
     "output_type": "stream",
     "text": [
      "163/163 [==============================] - 1s 8ms/step - loss: 0.2802 - accuracy: 0.9114\n",
      "Training Loss:0.2802\n",
      "Training Accuracy:0.9114\n",
      "20/20 [==============================] - 0s 8ms/step - loss: 0.3846 - accuracy: 0.8349\n",
      "Test Loss:0.3846\n",
      "Test Accuracy:0.8349\n"
     ]
    },
    {
     "data": {
      "image/png": "[encoded data removed]",
      "text/plain": [
       "<Figure size 432x288 with 2 Axes>"
      ]
     },
     "metadata": {
      "needs_background": "light",
      "tags": []
     },
     "output_type": "display_data"
    },
    {
     "data": {
      "text/plain": [
       "([0.9114], [0.8349])"
      ]
     },
     "execution_count": 79,
     "metadata": {
      "tags": []
     },
     "output_type": "execute_result"
    }
   ],
   "source": [
    "dp50 = load_model('/content/saved_models/best_dropout_50.h5')\n",
    "dp50m = model_evaluation(dp50)\n",
    "dp50m"
   ]
  },
  {
   "cell_type": "markdown",
   "metadata": {
    "id": "HZl2Ey0TCoJt"
   },
   "source": [
    ">**Comment:**\n",
    "- The dropout_50 model took less time to run compare with the baseline model\n",
    "- The train accuracy (0.9709) is higher than test accuracy (0.7869) which indicates the model is overfit\n",
    "- Compare with the baseline model, test accuray shows some improvements\n",
    "- Compare with dp20, test accuracy is slightly lower\n",
    "    Decrease the complexity => lose some useful information?\n",
    "- There are more false positive than false negative"
   ]
  },
  {
   "cell_type": "markdown",
   "metadata": {
    "id": "Yk4p0Z4PCoJt"
   },
   "source": [
    "### 2) L2 Regularizer"
   ]
  },
  {
   "cell_type": "markdown",
   "metadata": {
    "id": "lXnm2A8qCoJt"
   },
   "source": [
    "https://machinelearningmastery.com/weight-regularization-to-reduce-overfitting-of-deep-learning-models/"
   ]
  },
  {
   "cell_type": "markdown",
   "metadata": {},
   "source": [
    "L2 hyperparameter choosing https://machinelearningmastery.com/how-to-reduce-overfitting-in-deep-learning-with-weight-regularization/"
   ]
  },
  {
   "cell_type": "code",
   "execution_count": 80,
   "metadata": {
    "ExecuteTime": {
     "end_time": "2021-05-14T01:49:30.385214Z",
     "start_time": "2021-05-14T01:49:30.303991Z"
    },
    "id": "sbnjX7tUCoJt"
   },
   "outputs": [],
   "source": [
    "L2_reg = models.Sequential()\n",
    "L2_reg.add(layers.Conv2D(32, (3, 3), kernel_regularizer=regularizers.l2(0.005), \n",
    "                         activation='relu', input_shape=X_train.shape[1:]))\n",
    "L2_reg.add(layers.MaxPooling2D((2, 2)))\n",
    "\n",
    "L2_reg.add(layers.Conv2D(64, (3, 3), kernel_regularizer=regularizers.l2(0.005), activation='relu'))\n",
    "L2_reg.add(layers.MaxPooling2D((2, 2)))\n",
    "\n",
    "L2_reg.add(layers.Conv2D(128, (3, 3), kernel_regularizer=regularizers.l2(0.005), activation='relu'))\n",
    "L2_reg.add(layers.MaxPooling2D((2, 2)))\n",
    "\n",
    "L2_reg.add(layers.Flatten())\n",
    "L2_reg.add(layers.Dense(128, activation='relu'))\n",
    "L2_reg.add(layers.Dense(1, activation='sigmoid'))\n",
    "\n",
    "L2_reg.compile(optimizer='adam',\n",
    "               loss='binary_crossentropy',\n",
    "               metrics=['accuracy'])"
   ]
  },
  {
   "cell_type": "code",
   "execution_count": 81,
   "metadata": {
    "ExecuteTime": {
     "end_time": "2021-05-14T01:49:35.833275Z",
     "start_time": "2021-05-14T01:49:35.830506Z"
    },
    "id": "l_JdjNyKCoJu"
   },
   "outputs": [],
   "source": [
    "mc_L2_reg = ModelCheckpoint(filepath='/content/saved_models/L2_reg.h5', \n",
    "                            monitor='val_accuracy', mode='max', verbose=1, save_best_only=True)"
   ]
  },
  {
   "cell_type": "code",
   "execution_count": 82,
   "metadata": {
    "ExecuteTime": {
     "end_time": "2021-05-14T01:55:39.499137Z",
     "start_time": "2021-05-14T01:49:59.304428Z"
    },
    "colab": {
     "base_uri": "https://localhost:8080/"
    },
    "id": "eZxCp_gFCoJu",
    "outputId": "09f5b3b4-9d37-4791-ed4c-52d08d8d531c",
    "scrolled": false
   },
   "outputs": [
    {
     "name": "stdout",
     "output_type": "stream",
     "text": [
      "Epoch 1/50\n",
      "163/163 [==============================] - 4s 21ms/step - loss: 0.8313 - accuracy: 0.7861 - val_loss: 1.0609 - val_accuracy: 0.7196\n",
      "\n",
      "Epoch 00001: val_accuracy improved from -inf to 0.71955, saving model to /content/saved_models/best_L2.h5\n",
      "Epoch 2/50\n",
      "163/163 [==============================] - 3s 20ms/step - loss: 0.2493 - accuracy: 0.9551 - val_loss: 0.7727 - val_accuracy: 0.7821\n",
      "\n",
      "Epoch 00002: val_accuracy improved from 0.71955 to 0.78205, saving model to /content/saved_models/best_L2.h5\n",
      "Epoch 3/50\n",
      "163/163 [==============================] - 3s 20ms/step - loss: 0.1846 - accuracy: 0.9614 - val_loss: 0.8393 - val_accuracy: 0.7596\n",
      "\n",
      "Epoch 00003: val_accuracy did not improve from 0.78205\n",
      "Epoch 4/50\n",
      "163/163 [==============================] - 3s 20ms/step - loss: 0.1672 - accuracy: 0.9645 - val_loss: 0.8755 - val_accuracy: 0.7596\n",
      "\n",
      "Epoch 00004: val_accuracy did not improve from 0.78205\n",
      "Epoch 5/50\n",
      "163/163 [==============================] - 3s 20ms/step - loss: 0.1309 - accuracy: 0.9747 - val_loss: 0.5866 - val_accuracy: 0.8253\n",
      "\n",
      "Epoch 00005: val_accuracy improved from 0.78205 to 0.82532, saving model to /content/saved_models/best_L2.h5\n",
      "Epoch 6/50\n",
      "163/163 [==============================] - 3s 20ms/step - loss: 0.1286 - accuracy: 0.9720 - val_loss: 1.1864 - val_accuracy: 0.7500\n",
      "\n",
      "Epoch 00006: val_accuracy did not improve from 0.82532\n",
      "Epoch 7/50\n",
      "163/163 [==============================] - 3s 20ms/step - loss: 0.0984 - accuracy: 0.9814 - val_loss: 0.9400 - val_accuracy: 0.7692\n",
      "\n",
      "Epoch 00007: val_accuracy did not improve from 0.82532\n",
      "Epoch 8/50\n",
      "163/163 [==============================] - 3s 20ms/step - loss: 0.1090 - accuracy: 0.9758 - val_loss: 1.1386 - val_accuracy: 0.7484\n",
      "\n",
      "Epoch 00008: val_accuracy did not improve from 0.82532\n",
      "Epoch 9/50\n",
      "163/163 [==============================] - 3s 20ms/step - loss: 0.0991 - accuracy: 0.9782 - val_loss: 1.0677 - val_accuracy: 0.7740\n",
      "\n",
      "Epoch 00009: val_accuracy did not improve from 0.82532\n",
      "Epoch 10/50\n",
      "163/163 [==============================] - 3s 20ms/step - loss: 0.0936 - accuracy: 0.9805 - val_loss: 0.9254 - val_accuracy: 0.7628\n",
      "\n",
      "Epoch 00010: val_accuracy did not improve from 0.82532\n",
      "Epoch 11/50\n",
      "163/163 [==============================] - 3s 20ms/step - loss: 0.0921 - accuracy: 0.9813 - val_loss: 1.1537 - val_accuracy: 0.7564\n",
      "\n",
      "Epoch 00011: val_accuracy did not improve from 0.82532\n",
      "Epoch 00011: early stopping\n"
     ]
    }
   ],
   "source": [
    "L2_reg_history = L2_reg.fit(X_train, y_train,\n",
    "                            epochs=50,\n",
    "                            batch_size=32,\n",
    "                            callbacks=[es, mc_L2_reg],\n",
    "                            validation_data=(X_test, y_test))"
   ]
  },
  {
   "cell_type": "code",
   "execution_count": 83,
   "metadata": {
    "ExecuteTime": {
     "end_time": "2021-05-14T01:55:39.918079Z",
     "start_time": "2021-05-14T01:55:39.501206Z"
    },
    "colab": {
     "base_uri": "https://localhost:8080/",
     "height": 308
    },
    "id": "CM6c5d0eCoJu",
    "outputId": "1c356d59-fbfd-4fad-9df6-7a10a1ce5661",
    "scrolled": true
   },
   "outputs": [
    {
     "data": {
      "image/png": "[encoded data removed]",
      "text/plain": [
       "<Figure size 432x288 with 2 Axes>"
      ]
     },
     "metadata": {
      "needs_background": "light",
      "tags": []
     },
     "output_type": "display_data"
    }
   ],
   "source": [
    "visualize_training_results(L2_reg_history)"
   ]
  },
  {
   "cell_type": "code",
   "execution_count": 84,
   "metadata": {
    "ExecuteTime": {
     "end_time": "2021-05-17T18:51:44.199559Z",
     "start_time": "2021-05-17T18:51:29.865975Z"
    },
    "colab": {
     "base_uri": "https://localhost:8080/",
     "height": 398
    },
    "id": "ZrU8n2n1CoJu",
    "outputId": "f91e1f87-2ca3-4151-c1da-d90983b42701",
    "scrolled": false
   },
   "outputs": [
    {
     "name": "stdout",
     "output_type": "stream",
     "text": [
      "163/163 [==============================] - 1s 8ms/step - loss: 0.1566 - accuracy: 0.9617\n",
      "Training Loss:0.1566\n",
      "Training Accuracy:0.9617\n",
      "20/20 [==============================] - 0s 8ms/step - loss: 0.5866 - accuracy: 0.8253\n",
      "Test Loss:0.5866\n",
      "Test Accuracy:0.8253\n"
     ]
    },
    {
     "data": {
      "image/png": "[encoded data removed]",
      "text/plain": [
       "<Figure size 432x288 with 2 Axes>"
      ]
     },
     "metadata": {
      "needs_background": "light",
      "tags": []
     },
     "output_type": "display_data"
    },
    {
     "data": {
      "text/plain": [
       "([0.9617], [0.8253])"
      ]
     },
     "execution_count": 84,
     "metadata": {
      "tags": []
     },
     "output_type": "execute_result"
    }
   ],
   "source": [
    "L2 = load_model('/content/saved_models/L2_reg.h5')\n",
    "L2m = model_evaluation(L2)\n",
    "L2m"
   ]
  },
  {
   "cell_type": "markdown",
   "metadata": {
    "id": "roiFVUUeCoJu"
   },
   "source": [
    ">**Comment:** \n",
    "- The L2 took less time to run compare with the baseline model\n",
    "- The train accuracy (0.9442) is higher than test accuracy (0.8446) which indicates the model is overfit\n",
    "- Compare with the baseline model, test accuray shows some improvements\n",
    "- There are more false positive than false negative"
   ]
  },
  {
   "cell_type": "markdown",
   "metadata": {
    "id": "dsOlquukCoJw"
   },
   "source": [
    "#### Grid Search For L2 weight decay"
   ]
  },
  {
   "cell_type": "markdown",
   "metadata": {
    "id": "GbJoYOHXCoJw"
   },
   "source": [
    "GridSearch https://heartbeat.fritz.ai/introduction-to-deep-learning-with-keras-c7c3d14e1527"
   ]
  },
  {
   "cell_type": "code",
   "execution_count": 56,
   "metadata": {
    "ExecuteTime": {
     "end_time": "2021-05-15T00:58:09.829579Z",
     "start_time": "2021-05-15T00:58:09.816889Z"
    },
    "id": "mw1DHvjtCoJw"
   },
   "outputs": [],
   "source": [
    "def L2_regularizer_model(weight_decay):\n",
    "    \n",
    "    # Build the model with L2 regularizer\n",
    "    model = models.Sequential()\n",
    "    model.add(layers.Conv2D(32, (3, 3), kernel_regularizer=regularizers.l2(weight_decay), \n",
    "                                        activation='relu', input_shape=X_train.shape[1:]))\n",
    "    model.add(layers.MaxPooling2D((2, 2)))\n",
    "\n",
    "    model.add(layers.Conv2D(64, (3, 3), kernel_regularizer=regularizers.l2(weight_decay), activation='relu'))\n",
    "    model.add(layers.MaxPooling2D((2, 2)))\n",
    "\n",
    "    model.add(layers.Conv2D(128, (3, 3), kernel_regularizer=regularizers.l2(weight_decay), activation='relu'))\n",
    "    model.add(layers.MaxPooling2D((2, 2)))\n",
    "\n",
    "    model.add(layers.Flatten())\n",
    "    model.add(layers.Dense(128, activation='relu'))\n",
    "    model.add(layers.Dense(1, activation='sigmoid'))\n",
    "\n",
    "    # Compile the model\n",
    "    model.compile(optimizer='adam',\n",
    "                  loss='binary_crossentropy',\n",
    "                  metrics=['accuracy'])\n",
    "    \n",
    "    return model"
   ]
  },
  {
   "cell_type": "code",
   "execution_count": 58,
   "metadata": {
    "ExecuteTime": {
     "end_time": "2021-05-15T00:58:51.671554Z",
     "start_time": "2021-05-15T00:58:51.669116Z"
    },
    "id": "8DZ2VBZjCoJx"
   },
   "outputs": [],
   "source": [
    "L2_model = KerasClassifier(build_fn=L2_regularizer_model)"
   ]
  },
  {
   "cell_type": "code",
   "execution_count": null,
   "metadata": {},
   "outputs": [],
   "source": [
    "# parameter grid\n",
    "reg_param_grid = {'weight_decay': [0.5, 0.05, 0.005, 0.0005]}"
   ]
  },
  {
   "cell_type": "code",
   "execution_count": 59,
   "metadata": {
    "ExecuteTime": {
     "end_time": "2021-05-15T00:58:59.308590Z",
     "start_time": "2021-05-15T00:58:59.305293Z"
    },
    "id": "Unu0zt-rCoJx"
   },
   "outputs": [],
   "source": [
    "L2_grid = GridSearchCV(L2_model, param_grid=reg_param_grid, cv=3)"
   ]
  },
  {
   "cell_type": "code",
   "execution_count": 60,
   "metadata": {
    "ExecuteTime": {
     "end_time": "2021-05-15T02:16:33.568878Z",
     "start_time": "2021-05-15T00:59:00.304136Z"
    },
    "colab": {
     "base_uri": "https://localhost:8080/"
    },
    "id": "WytCIZ0_CoJx",
    "outputId": "73d309cf-00cd-42a0-ce44-80c2811207f5",
    "scrolled": false
   },
   "outputs": [
    {
     "name": "stdout",
     "output_type": "stream",
     "text": [
      "Epoch 1/50\n",
      "109/109 [==============================] - 3s 25ms/step - loss: 28.7311 - accuracy: 0.7446 - val_loss: 0.8945 - val_accuracy: 0.7228\n",
      "Epoch 2/50\n",
      "109/109 [==============================] - 2s 21ms/step - loss: 0.4407 - accuracy: 0.9126 - val_loss: 0.7479 - val_accuracy: 0.7372\n",
      "Epoch 3/50\n",
      "109/109 [==============================] - 2s 21ms/step - loss: 0.2830 - accuracy: 0.9234 - val_loss: 0.5918 - val_accuracy: 0.7869\n",
      "Epoch 4/50\n",
      "109/109 [==============================] - 2s 21ms/step - loss: 0.2855 - accuracy: 0.9263 - val_loss: 0.6774 - val_accuracy: 0.7580\n",
      "Epoch 5/50\n",
      "109/109 [==============================] - 2s 21ms/step - loss: 0.2508 - accuracy: 0.9338 - val_loss: 0.5414 - val_accuracy: 0.7933\n",
      "Epoch 6/50\n",
      "109/109 [==============================] - 2s 21ms/step - loss: 0.2498 - accuracy: 0.9335 - val_loss: 1.0724 - val_accuracy: 0.6715\n",
      "Epoch 7/50\n",
      "109/109 [==============================] - 2s 21ms/step - loss: 0.2653 - accuracy: 0.9240 - val_loss: 0.7180 - val_accuracy: 0.7628\n",
      "Epoch 8/50\n",
      "109/109 [==============================] - 2s 21ms/step - loss: 0.2149 - accuracy: 0.9432 - val_loss: 0.7226 - val_accuracy: 0.7468\n",
      "Epoch 9/50\n",
      "109/109 [==============================] - 2s 21ms/step - loss: 0.2133 - accuracy: 0.9431 - val_loss: 0.6954 - val_accuracy: 0.7324\n",
      "Epoch 10/50\n",
      "109/109 [==============================] - 2s 21ms/step - loss: 0.2092 - accuracy: 0.9461 - val_loss: 0.7522 - val_accuracy: 0.7644\n",
      "Epoch 11/50\n",
      "109/109 [==============================] - 2s 21ms/step - loss: 0.2134 - accuracy: 0.9406 - val_loss: 1.0804 - val_accuracy: 0.6811\n",
      "Epoch 00011: early stopping\n",
      "55/55 [==============================] - 1s 9ms/step - loss: 0.2393 - accuracy: 0.9235\n",
      "Epoch 1/50\n",
      "109/109 [==============================] - 3s 23ms/step - loss: 28.9362 - accuracy: 0.7836 - val_loss: 0.9536 - val_accuracy: 0.6955\n",
      "Epoch 2/50\n",
      "109/109 [==============================] - 2s 21ms/step - loss: 0.4431 - accuracy: 0.9168 - val_loss: 0.5494 - val_accuracy: 0.7997\n",
      "Epoch 3/50\n",
      "109/109 [==============================] - 2s 21ms/step - loss: 0.2977 - accuracy: 0.9322 - val_loss: 0.5615 - val_accuracy: 0.7869\n",
      "Epoch 4/50\n",
      "109/109 [==============================] - 2s 21ms/step - loss: 0.2719 - accuracy: 0.9286 - val_loss: 0.7823 - val_accuracy: 0.7260\n",
      "Epoch 5/50\n",
      "109/109 [==============================] - 2s 21ms/step - loss: 0.2593 - accuracy: 0.9366 - val_loss: 1.1259 - val_accuracy: 0.6955\n",
      "Epoch 6/50\n",
      "109/109 [==============================] - 2s 21ms/step - loss: 0.2498 - accuracy: 0.9400 - val_loss: 1.2641 - val_accuracy: 0.6635\n",
      "Epoch 7/50\n",
      "109/109 [==============================] - 2s 21ms/step - loss: 0.2487 - accuracy: 0.9366 - val_loss: 0.7810 - val_accuracy: 0.7388\n",
      "Epoch 8/50\n",
      "109/109 [==============================] - 2s 22ms/step - loss: 0.2178 - accuracy: 0.9467 - val_loss: 0.7773 - val_accuracy: 0.7372\n",
      "Epoch 00008: early stopping\n",
      "55/55 [==============================] - 1s 8ms/step - loss: 0.2202 - accuracy: 0.9339\n",
      "Epoch 1/50\n",
      "109/109 [==============================] - 3s 24ms/step - loss: 28.6541 - accuracy: 0.7768 - val_loss: 0.7247 - val_accuracy: 0.8301\n",
      "Epoch 2/50\n",
      "109/109 [==============================] - 2s 21ms/step - loss: 0.4637 - accuracy: 0.9068 - val_loss: 0.6306 - val_accuracy: 0.7564\n",
      "Epoch 3/50\n",
      "109/109 [==============================] - 2s 21ms/step - loss: 0.2966 - accuracy: 0.9317 - val_loss: 0.6081 - val_accuracy: 0.7772\n",
      "Epoch 4/50\n",
      "109/109 [==============================] - 2s 21ms/step - loss: 0.2913 - accuracy: 0.9216 - val_loss: 0.6598 - val_accuracy: 0.7612\n",
      "Epoch 5/50\n",
      "109/109 [==============================] - 2s 21ms/step - loss: 0.2564 - accuracy: 0.9301 - val_loss: 0.6757 - val_accuracy: 0.7532\n",
      "Epoch 6/50\n",
      "109/109 [==============================] - 2s 21ms/step - loss: 0.2321 - accuracy: 0.9376 - val_loss: 0.5918 - val_accuracy: 0.7804\n",
      "Epoch 7/50\n",
      "109/109 [==============================] - 2s 21ms/step - loss: 0.2459 - accuracy: 0.9366 - val_loss: 0.7156 - val_accuracy: 0.7340\n",
      "Epoch 00007: early stopping\n",
      "55/55 [==============================] - 1s 9ms/step - loss: 0.2291 - accuracy: 0.9453\n",
      "Epoch 1/50\n",
      "109/109 [==============================] - 3s 22ms/step - loss: 3.5141 - accuracy: 0.7714 - val_loss: 1.0568 - val_accuracy: 0.6538\n",
      "Epoch 2/50\n",
      "109/109 [==============================] - 2s 21ms/step - loss: 0.3639 - accuracy: 0.9400 - val_loss: 0.7154 - val_accuracy: 0.7708\n",
      "Epoch 3/50\n",
      "109/109 [==============================] - 2s 21ms/step - loss: 0.2347 - accuracy: 0.9544 - val_loss: 0.7554 - val_accuracy: 0.7452\n",
      "Epoch 4/50\n",
      "109/109 [==============================] - 2s 21ms/step - loss: 0.2298 - accuracy: 0.9415 - val_loss: 0.8890 - val_accuracy: 0.7404\n",
      "Epoch 5/50\n",
      "109/109 [==============================] - 2s 21ms/step - loss: 0.1623 - accuracy: 0.9635 - val_loss: 0.7475 - val_accuracy: 0.7484\n",
      "Epoch 6/50\n",
      "109/109 [==============================] - 2s 21ms/step - loss: 0.1586 - accuracy: 0.9593 - val_loss: 1.4857 - val_accuracy: 0.6619\n",
      "Epoch 7/50\n",
      "109/109 [==============================] - 2s 21ms/step - loss: 0.1837 - accuracy: 0.9485 - val_loss: 0.8048 - val_accuracy: 0.7548\n",
      "Epoch 8/50\n",
      "109/109 [==============================] - 2s 21ms/step - loss: 0.1393 - accuracy: 0.9674 - val_loss: 0.8250 - val_accuracy: 0.7500\n",
      "Epoch 00008: early stopping\n",
      "55/55 [==============================] - 1s 8ms/step - loss: 0.1362 - accuracy: 0.9661\n",
      "Epoch 1/50\n",
      "109/109 [==============================] - 3s 23ms/step - loss: 3.6958 - accuracy: 0.8078 - val_loss: 0.9742 - val_accuracy: 0.7372\n",
      "Epoch 2/50\n",
      "109/109 [==============================] - 2s 21ms/step - loss: 0.4193 - accuracy: 0.9464 - val_loss: 0.6723 - val_accuracy: 0.7853\n",
      "Epoch 3/50\n",
      "109/109 [==============================] - 2s 21ms/step - loss: 0.2751 - accuracy: 0.9513 - val_loss: 0.4446 - val_accuracy: 0.8622\n",
      "Epoch 4/50\n",
      "109/109 [==============================] - 2s 21ms/step - loss: 0.2238 - accuracy: 0.9471 - val_loss: 0.9898 - val_accuracy: 0.7131\n",
      "Epoch 5/50\n",
      "109/109 [==============================] - 2s 21ms/step - loss: 0.1659 - accuracy: 0.9630 - val_loss: 0.9581 - val_accuracy: 0.7276\n",
      "Epoch 6/50\n",
      "109/109 [==============================] - 2s 21ms/step - loss: 0.1440 - accuracy: 0.9659 - val_loss: 1.4763 - val_accuracy: 0.6635\n",
      "Epoch 7/50\n",
      "109/109 [==============================] - 2s 21ms/step - loss: 0.1650 - accuracy: 0.9531 - val_loss: 0.9740 - val_accuracy: 0.7292\n",
      "Epoch 8/50\n",
      "109/109 [==============================] - 2s 21ms/step - loss: 0.1349 - accuracy: 0.9629 - val_loss: 0.9997 - val_accuracy: 0.7308\n",
      "Epoch 9/50\n",
      "109/109 [==============================] - 2s 21ms/step - loss: 0.1274 - accuracy: 0.9621 - val_loss: 0.7168 - val_accuracy: 0.8045\n",
      "Epoch 00009: early stopping\n",
      "55/55 [==============================] - 1s 8ms/step - loss: 0.1370 - accuracy: 0.9597\n",
      "Epoch 1/50\n",
      "109/109 [==============================] - 3s 22ms/step - loss: 3.6432 - accuracy: 0.7795 - val_loss: 0.6781 - val_accuracy: 0.8494\n",
      "Epoch 2/50\n",
      "109/109 [==============================] - 2s 21ms/step - loss: 0.4550 - accuracy: 0.9370 - val_loss: 0.8523 - val_accuracy: 0.7340\n",
      "Epoch 3/50\n",
      "109/109 [==============================] - 2s 21ms/step - loss: 0.2880 - accuracy: 0.9542 - val_loss: 0.7464 - val_accuracy: 0.7484\n",
      "Epoch 4/50\n",
      "109/109 [==============================] - 2s 21ms/step - loss: 0.2389 - accuracy: 0.9494 - val_loss: 0.6966 - val_accuracy: 0.7628\n",
      "Epoch 5/50\n",
      "109/109 [==============================] - 2s 21ms/step - loss: 0.2082 - accuracy: 0.9526 - val_loss: 0.7913 - val_accuracy: 0.7516\n",
      "Epoch 6/50\n",
      "109/109 [==============================] - 2s 21ms/step - loss: 0.1801 - accuracy: 0.9564 - val_loss: 0.5772 - val_accuracy: 0.7853\n",
      "Epoch 7/50\n",
      "109/109 [==============================] - 2s 21ms/step - loss: 0.1672 - accuracy: 0.9575 - val_loss: 0.6889 - val_accuracy: 0.7532\n",
      "Epoch 00007: early stopping\n",
      "55/55 [==============================] - 1s 8ms/step - loss: 0.1709 - accuracy: 0.9632\n",
      "Epoch 1/50\n",
      "109/109 [==============================] - 3s 23ms/step - loss: 0.8530 - accuracy: 0.8114 - val_loss: 1.0481 - val_accuracy: 0.6683\n",
      "Epoch 2/50\n",
      "109/109 [==============================] - 2s 21ms/step - loss: 0.3023 - accuracy: 0.9492 - val_loss: 1.2743 - val_accuracy: 0.7212\n",
      "Epoch 3/50\n",
      "109/109 [==============================] - 2s 21ms/step - loss: 0.2162 - accuracy: 0.9661 - val_loss: 0.7911 - val_accuracy: 0.7724\n",
      "Epoch 4/50\n",
      "109/109 [==============================] - 2s 22ms/step - loss: 0.1854 - accuracy: 0.9681 - val_loss: 1.1017 - val_accuracy: 0.7596\n",
      "Epoch 5/50\n",
      "109/109 [==============================] - 2s 21ms/step - loss: 0.1415 - accuracy: 0.9793 - val_loss: 0.8095 - val_accuracy: 0.7724\n",
      "Epoch 6/50\n",
      "109/109 [==============================] - 2s 21ms/step - loss: 0.1465 - accuracy: 0.9740 - val_loss: 1.4137 - val_accuracy: 0.7308\n",
      "Epoch 7/50\n",
      "109/109 [==============================] - 2s 21ms/step - loss: 0.1389 - accuracy: 0.9712 - val_loss: 1.1327 - val_accuracy: 0.7500\n",
      "Epoch 8/50\n",
      "109/109 [==============================] - 2s 21ms/step - loss: 0.1179 - accuracy: 0.9783 - val_loss: 0.9214 - val_accuracy: 0.7917\n",
      "Epoch 9/50\n",
      "109/109 [==============================] - 2s 21ms/step - loss: 0.0971 - accuracy: 0.9841 - val_loss: 0.9939 - val_accuracy: 0.7901\n",
      "Epoch 10/50\n",
      "109/109 [==============================] - 2s 21ms/step - loss: 0.1001 - accuracy: 0.9835 - val_loss: 0.6125 - val_accuracy: 0.8109\n",
      "Epoch 11/50\n",
      "109/109 [==============================] - 2s 21ms/step - loss: 0.1132 - accuracy: 0.9811 - val_loss: 1.9649 - val_accuracy: 0.6587\n",
      "Epoch 12/50\n",
      "109/109 [==============================] - 2s 21ms/step - loss: 0.1092 - accuracy: 0.9825 - val_loss: 1.1381 - val_accuracy: 0.7628\n",
      "Epoch 13/50\n",
      "109/109 [==============================] - 2s 21ms/step - loss: 0.0764 - accuracy: 0.9884 - val_loss: 0.9233 - val_accuracy: 0.7885\n",
      "Epoch 14/50\n",
      "109/109 [==============================] - 2s 21ms/step - loss: 0.0883 - accuracy: 0.9836 - val_loss: 0.9800 - val_accuracy: 0.7917\n",
      "Epoch 15/50\n",
      "109/109 [==============================] - 2s 21ms/step - loss: 0.0756 - accuracy: 0.9852 - val_loss: 1.1566 - val_accuracy: 0.7612\n",
      "Epoch 16/50\n",
      "109/109 [==============================] - 2s 21ms/step - loss: 0.0747 - accuracy: 0.9889 - val_loss: 1.1615 - val_accuracy: 0.8061\n",
      "Epoch 00016: early stopping\n",
      "55/55 [==============================] - 1s 8ms/step - loss: 0.1239 - accuracy: 0.9741\n",
      "Epoch 1/50\n",
      "109/109 [==============================] - 3s 22ms/step - loss: 0.8709 - accuracy: 0.7928 - val_loss: 0.8916 - val_accuracy: 0.7580\n",
      "Epoch 2/50\n",
      "109/109 [==============================] - 2s 21ms/step - loss: 0.2477 - accuracy: 0.9646 - val_loss: 0.6348 - val_accuracy: 0.8013\n",
      "Epoch 3/50\n",
      "109/109 [==============================] - 2s 21ms/step - loss: 0.2062 - accuracy: 0.9602 - val_loss: 0.5594 - val_accuracy: 0.8221\n",
      "Epoch 4/50\n",
      "109/109 [==============================] - 2s 21ms/step - loss: 0.1809 - accuracy: 0.9624 - val_loss: 0.9826 - val_accuracy: 0.7212\n",
      "Epoch 5/50\n",
      "109/109 [==============================] - 2s 21ms/step - loss: 0.1468 - accuracy: 0.9698 - val_loss: 0.8908 - val_accuracy: 0.7580\n",
      "Epoch 6/50\n",
      "109/109 [==============================] - 2s 21ms/step - loss: 0.1463 - accuracy: 0.9682 - val_loss: 0.9345 - val_accuracy: 0.7580\n",
      "Epoch 7/50\n",
      "109/109 [==============================] - 2s 21ms/step - loss: 0.1266 - accuracy: 0.9764 - val_loss: 0.8994 - val_accuracy: 0.7788\n",
      "Epoch 8/50\n",
      "109/109 [==============================] - 2s 21ms/step - loss: 0.1285 - accuracy: 0.9691 - val_loss: 0.9804 - val_accuracy: 0.7772\n",
      "Epoch 9/50\n",
      "109/109 [==============================] - 2s 21ms/step - loss: 0.1150 - accuracy: 0.9743 - val_loss: 0.7698 - val_accuracy: 0.8157\n",
      "Epoch 00009: early stopping\n",
      "55/55 [==============================] - 1s 8ms/step - loss: 0.1249 - accuracy: 0.9753\n",
      "Epoch 1/50\n",
      "109/109 [==============================] - 3s 23ms/step - loss: 0.8825 - accuracy: 0.7723 - val_loss: 0.7622 - val_accuracy: 0.7564\n",
      "Epoch 2/50\n",
      "109/109 [==============================] - 2s 21ms/step - loss: 0.2985 - accuracy: 0.9491 - val_loss: 0.8399 - val_accuracy: 0.7436\n",
      "Epoch 3/50\n",
      "109/109 [==============================] - 2s 21ms/step - loss: 0.1997 - accuracy: 0.9668 - val_loss: 0.8633 - val_accuracy: 0.7660\n",
      "Epoch 4/50\n",
      "109/109 [==============================] - 2s 21ms/step - loss: 0.1761 - accuracy: 0.9671 - val_loss: 0.6084 - val_accuracy: 0.8061\n",
      "Epoch 5/50\n",
      "109/109 [==============================] - 2s 21ms/step - loss: 0.1741 - accuracy: 0.9643 - val_loss: 1.1386 - val_accuracy: 0.7468\n",
      "Epoch 6/50\n",
      "109/109 [==============================] - 2s 21ms/step - loss: 0.1367 - accuracy: 0.9699 - val_loss: 0.9568 - val_accuracy: 0.7644\n",
      "Epoch 7/50\n",
      "109/109 [==============================] - 2s 21ms/step - loss: 0.1155 - accuracy: 0.9789 - val_loss: 0.8278 - val_accuracy: 0.7740\n",
      "Epoch 8/50\n",
      "109/109 [==============================] - 2s 21ms/step - loss: 0.1107 - accuracy: 0.9809 - val_loss: 0.9424 - val_accuracy: 0.7644\n",
      "Epoch 9/50\n",
      "109/109 [==============================] - 2s 21ms/step - loss: 0.1278 - accuracy: 0.9669 - val_loss: 0.9620 - val_accuracy: 0.7596\n",
      "Epoch 10/50\n",
      "109/109 [==============================] - 2s 21ms/step - loss: 0.1087 - accuracy: 0.9779 - val_loss: 0.8644 - val_accuracy: 0.7917\n",
      "Epoch 00010: early stopping\n",
      "55/55 [==============================] - 1s 8ms/step - loss: 0.1362 - accuracy: 0.9638\n",
      "Epoch 1/50\n",
      "109/109 [==============================] - 3s 23ms/step - loss: 0.4695 - accuracy: 0.8081 - val_loss: 1.5028 - val_accuracy: 0.6763\n",
      "Epoch 2/50\n",
      "109/109 [==============================] - 2s 21ms/step - loss: 0.1646 - accuracy: 0.9478 - val_loss: 1.6057 - val_accuracy: 0.6923\n",
      "Epoch 3/50\n",
      "109/109 [==============================] - 2s 21ms/step - loss: 0.1400 - accuracy: 0.9588 - val_loss: 1.0228 - val_accuracy: 0.7452\n",
      "Epoch 4/50\n",
      "109/109 [==============================] - 2s 21ms/step - loss: 0.1121 - accuracy: 0.9690 - val_loss: 0.9730 - val_accuracy: 0.7580\n",
      "Epoch 5/50\n",
      "109/109 [==============================] - 2s 21ms/step - loss: 0.0679 - accuracy: 0.9832 - val_loss: 1.1686 - val_accuracy: 0.7324\n",
      "Epoch 6/50\n",
      "109/109 [==============================] - 2s 21ms/step - loss: 0.0746 - accuracy: 0.9855 - val_loss: 1.6364 - val_accuracy: 0.7452\n",
      "Epoch 7/50\n",
      "109/109 [==============================] - 2s 21ms/step - loss: 0.0701 - accuracy: 0.9835 - val_loss: 0.9041 - val_accuracy: 0.7965\n",
      "Epoch 8/50\n",
      "109/109 [==============================] - 2s 21ms/step - loss: 0.0582 - accuracy: 0.9890 - val_loss: 1.2238 - val_accuracy: 0.7837\n",
      "Epoch 9/50\n",
      "109/109 [==============================] - 2s 21ms/step - loss: 0.0561 - accuracy: 0.9877 - val_loss: 1.4039 - val_accuracy: 0.7564\n",
      "Epoch 10/50\n",
      "109/109 [==============================] - 2s 21ms/step - loss: 0.0560 - accuracy: 0.9883 - val_loss: 1.2500 - val_accuracy: 0.8029\n",
      "Epoch 11/50\n",
      "109/109 [==============================] - 2s 21ms/step - loss: 0.0487 - accuracy: 0.9896 - val_loss: 2.0412 - val_accuracy: 0.7308\n",
      "Epoch 12/50\n",
      "109/109 [==============================] - 2s 21ms/step - loss: 0.0358 - accuracy: 0.9965 - val_loss: 1.5384 - val_accuracy: 0.7837\n",
      "Epoch 13/50\n",
      "109/109 [==============================] - 2s 21ms/step - loss: 0.0337 - accuracy: 0.9967 - val_loss: 1.4257 - val_accuracy: 0.7724\n",
      "Epoch 14/50\n",
      "109/109 [==============================] - 2s 21ms/step - loss: 0.0323 - accuracy: 0.9970 - val_loss: 2.2474 - val_accuracy: 0.7324\n",
      "Epoch 15/50\n",
      "109/109 [==============================] - 2s 21ms/step - loss: 0.0384 - accuracy: 0.9947 - val_loss: 2.4636 - val_accuracy: 0.7260\n",
      "Epoch 16/50\n",
      "109/109 [==============================] - 2s 21ms/step - loss: 0.0310 - accuracy: 0.9960 - val_loss: 1.8846 - val_accuracy: 0.7837\n",
      "Epoch 00016: early stopping\n",
      "55/55 [==============================] - 1s 8ms/step - loss: 0.1209 - accuracy: 0.9770\n",
      "Epoch 1/50\n",
      "109/109 [==============================] - 3s 23ms/step - loss: 0.5013 - accuracy: 0.8221 - val_loss: 1.2213 - val_accuracy: 0.7260\n",
      "Epoch 2/50\n",
      "109/109 [==============================] - 2s 21ms/step - loss: 0.1364 - accuracy: 0.9613 - val_loss: 1.1153 - val_accuracy: 0.7324\n",
      "Epoch 3/50\n",
      "109/109 [==============================] - 2s 21ms/step - loss: 0.1281 - accuracy: 0.9660 - val_loss: 0.6398 - val_accuracy: 0.8173\n",
      "Epoch 4/50\n",
      "109/109 [==============================] - 2s 21ms/step - loss: 0.1144 - accuracy: 0.9751 - val_loss: 1.2494 - val_accuracy: 0.7532\n",
      "Epoch 5/50\n",
      "109/109 [==============================] - 2s 21ms/step - loss: 0.0797 - accuracy: 0.9820 - val_loss: 1.0479 - val_accuracy: 0.7500\n",
      "Epoch 6/50\n",
      "109/109 [==============================] - 2s 21ms/step - loss: 0.0865 - accuracy: 0.9783 - val_loss: 1.1449 - val_accuracy: 0.7548\n",
      "Epoch 7/50\n",
      "109/109 [==============================] - 2s 21ms/step - loss: 0.0605 - accuracy: 0.9877 - val_loss: 1.2539 - val_accuracy: 0.7821\n",
      "Epoch 8/50\n",
      "109/109 [==============================] - 2s 21ms/step - loss: 0.0657 - accuracy: 0.9846 - val_loss: 1.4611 - val_accuracy: 0.7548\n",
      "Epoch 9/50\n",
      "109/109 [==============================] - 2s 22ms/step - loss: 0.0556 - accuracy: 0.9868 - val_loss: 1.0993 - val_accuracy: 0.8061\n",
      "Epoch 00009: early stopping\n",
      "55/55 [==============================] - 1s 8ms/step - loss: 0.1072 - accuracy: 0.9735\n",
      "Epoch 1/50\n",
      "109/109 [==============================] - 3s 22ms/step - loss: 0.5564 - accuracy: 0.7556 - val_loss: 0.4376 - val_accuracy: 0.8317\n",
      "Epoch 2/50\n",
      "109/109 [==============================] - 2s 21ms/step - loss: 0.1935 - accuracy: 0.9427 - val_loss: 0.7100 - val_accuracy: 0.7516\n",
      "Epoch 3/50\n",
      "109/109 [==============================] - 2s 21ms/step - loss: 0.1371 - accuracy: 0.9614 - val_loss: 1.1735 - val_accuracy: 0.7340\n",
      "Epoch 4/50\n",
      "109/109 [==============================] - 2s 21ms/step - loss: 0.1171 - accuracy: 0.9673 - val_loss: 0.6071 - val_accuracy: 0.8093\n",
      "Epoch 5/50\n",
      "109/109 [==============================] - 2s 21ms/step - loss: 0.1029 - accuracy: 0.9731 - val_loss: 1.1660 - val_accuracy: 0.7260\n",
      "Epoch 6/50\n",
      "109/109 [==============================] - 2s 21ms/step - loss: 0.0893 - accuracy: 0.9747 - val_loss: 0.9097 - val_accuracy: 0.7660\n",
      "Epoch 7/50\n",
      "109/109 [==============================] - 2s 21ms/step - loss: 0.0758 - accuracy: 0.9818 - val_loss: 0.8463 - val_accuracy: 0.7788\n",
      "Epoch 00007: early stopping\n",
      "55/55 [==============================] - 1s 8ms/step - loss: 0.1237 - accuracy: 0.9626\n",
      "Epoch 1/50\n",
      "163/163 [==============================] - 4s 21ms/step - loss: 0.7740 - accuracy: 0.8216 - val_loss: 1.1790 - val_accuracy: 0.6827\n",
      "Epoch 2/50\n",
      "163/163 [==============================] - 3s 20ms/step - loss: 0.2330 - accuracy: 0.9565 - val_loss: 0.9708 - val_accuracy: 0.7612\n",
      "Epoch 3/50\n",
      "163/163 [==============================] - 3s 20ms/step - loss: 0.1896 - accuracy: 0.9586 - val_loss: 0.7204 - val_accuracy: 0.7788\n",
      "Epoch 4/50\n",
      "163/163 [==============================] - 3s 20ms/step - loss: 0.1614 - accuracy: 0.9664 - val_loss: 0.8287 - val_accuracy: 0.7788\n",
      "Epoch 5/50\n",
      "163/163 [==============================] - 3s 20ms/step - loss: 0.1275 - accuracy: 0.9769 - val_loss: 0.6959 - val_accuracy: 0.8157\n",
      "Epoch 6/50\n",
      "163/163 [==============================] - 3s 20ms/step - loss: 0.1252 - accuracy: 0.9717 - val_loss: 1.1465 - val_accuracy: 0.7532\n",
      "Epoch 7/50\n",
      "163/163 [==============================] - 3s 20ms/step - loss: 0.1021 - accuracy: 0.9784 - val_loss: 1.0434 - val_accuracy: 0.7580\n",
      "Epoch 8/50\n",
      "163/163 [==============================] - 3s 20ms/step - loss: 0.1106 - accuracy: 0.9750 - val_loss: 1.4507 - val_accuracy: 0.7452\n",
      "Epoch 9/50\n",
      "163/163 [==============================] - 3s 20ms/step - loss: 0.0928 - accuracy: 0.9768 - val_loss: 1.2414 - val_accuracy: 0.7404\n",
      "Epoch 10/50\n",
      "163/163 [==============================] - 3s 20ms/step - loss: 0.1020 - accuracy: 0.9770 - val_loss: 0.7373 - val_accuracy: 0.7949\n",
      "Epoch 11/50\n",
      "163/163 [==============================] - 3s 20ms/step - loss: 0.0858 - accuracy: 0.9825 - val_loss: 1.1628 - val_accuracy: 0.7580\n",
      "Epoch 00011: early stopping\n"
     ]
    }
   ],
   "source": [
    "L2_grid_history = L2_grid.fit(X_train, y_train,\n",
    "                              epochs=50,\n",
    "                              batch_size=32,\n",
    "                              callbacks=es,\n",
    "                              validation_data=(X_test, y_test))"
   ]
  },
  {
   "cell_type": "code",
   "execution_count": 61,
   "metadata": {
    "ExecuteTime": {
     "end_time": "2021-05-15T02:18:05.210886Z",
     "start_time": "2021-05-15T02:18:05.207560Z"
    },
    "colab": {
     "base_uri": "https://localhost:8080/"
    },
    "id": "oBAMfKXhCoJx",
    "outputId": "7fec9a9d-d3c1-4ea0-93e8-23db504e5cf7"
   },
   "outputs": [
    {
     "data": {
      "text/plain": [
       "{'weight_decay': 0.005}"
      ]
     },
     "execution_count": 61,
     "metadata": {
      "tags": []
     },
     "output_type": "execute_result"
    }
   ],
   "source": [
    "# Find the best weight_decay value\n",
    "L2_grid_history.best_params_"
   ]
  },
  {
   "cell_type": "code",
   "execution_count": 62,
   "metadata": {
    "ExecuteTime": {
     "end_time": "2021-05-15T02:37:55.323863Z",
     "start_time": "2021-05-15T02:37:55.320221Z"
    },
    "colab": {
     "base_uri": "https://localhost:8080/"
    },
    "id": "ZHPWEFi9CoJx",
    "outputId": "7e40ddfb-df91-4189-f296-4d69e46db986"
   },
   "outputs": [
    {
     "data": {
      "text/plain": [
       "0.9710492094357809"
      ]
     },
     "execution_count": 62,
     "metadata": {
      "tags": []
     },
     "output_type": "execute_result"
    }
   ],
   "source": [
    "# grid_history.best_score_"
   ]
  },
  {
   "cell_type": "code",
   "execution_count": 63,
   "metadata": {
    "ExecuteTime": {
     "end_time": "2021-05-15T02:40:57.337914Z",
     "start_time": "2021-05-15T02:40:57.332347Z"
    },
    "colab": {
     "base_uri": "https://localhost:8080/"
    },
    "id": "MYmo9alKCoJx",
    "outputId": "0f8b922b-4116-48b3-9cf7-2124136228ec"
   },
   "outputs": [
    {
     "data": {
      "text/plain": [
       "{'mean_fit_time': array([21.286398, 19.7284  , 28.567023, 25.789003]),\n",
       " 'mean_score_time': array([0.629992, 0.590011, 0.601974, 0.598321]),\n",
       " 'mean_test_score': array([0.934243, 0.962998, 0.971049, 0.971049]),\n",
       " 'param_weight_decay': masked_array(data=[0.5, 0.05, 0.005, 0.0005],\n",
       "              mask=[False, False, False, False],\n",
       "        fill_value='?',\n",
       "             dtype=object),\n",
       " 'params': [{'weight_decay': 0.5},\n",
       "  {'weight_decay': 0.05},\n",
       "  {'weight_decay': 0.005},\n",
       "  {'weight_decay': 0.0005}],\n",
       " 'rank_test_score': array([4, 3, 1, 2], dtype=int32),\n",
       " 'split0_test_score': array([0.923519, 0.966072, 0.974123, 0.976998]),\n",
       " 'split1_test_score': array([0.93387 , 0.959747, 0.975273, 0.973548]),\n",
       " 'split2_test_score': array([0.945339, 0.963176, 0.963751, 0.962601]),\n",
       " 'std_fit_time': array([3.924649, 1.970564, 7.150637, 8.920431]),\n",
       " 'std_score_time': array([0.04408 , 0.00707 , 0.007733, 0.012888]),\n",
       " 'std_test_score': array([0.008912, 0.002585, 0.005182, 0.006138])}"
      ]
     },
     "execution_count": 63,
     "metadata": {
      "tags": []
     },
     "output_type": "execute_result"
    }
   ],
   "source": [
    "# grid_history.cv_results_"
   ]
  },
  {
   "cell_type": "code",
   "execution_count": 64,
   "metadata": {
    "ExecuteTime": {
     "end_time": "2021-05-15T03:30:17.366720Z",
     "start_time": "2021-05-15T03:30:15.805119Z"
    },
    "colab": {
     "base_uri": "https://localhost:8080/"
    },
    "id": "rFrtHQ_SCoJy",
    "outputId": "57c50cf8-ad38-4899-a145-225d76302e7b"
   },
   "outputs": [
    {
     "name": "stdout",
     "output_type": "stream",
     "text": [
      "20/20 [==============================] - 0s 9ms/step - loss: 1.1628 - accuracy: 0.7580\n"
     ]
    },
    {
     "data": {
      "text/plain": [
       "0.7580128312110901"
      ]
     },
     "execution_count": 64,
     "metadata": {
      "tags": []
     },
     "output_type": "execute_result"
    }
   ],
   "source": [
    "# grid_history.score(X_test, y_test)"
   ]
  },
  {
   "cell_type": "markdown",
   "metadata": {
    "id": "UoamlcPnCoJy"
   },
   "source": [
    "https://datascience.stackexchange.com/questions/77881/whats-the-difference-between-gridsearchcrossvalidation-score-and-score-on-tests#:~:text=Grid%20search%20trains%20different%20models,score%20of%20the%20best%20estimator.&text=It%20means%20that%20the%20model,not%20on%20the%20unseen%20data."
   ]
  },
  {
   "cell_type": "markdown",
   "metadata": {},
   "source": [
    "### Best L2 (weight decay)"
   ]
  },
  {
   "cell_type": "code",
   "execution_count": null,
   "metadata": {},
   "outputs": [],
   "source": [
    "L2_wd = models.Sequential()\n",
    "L2_wd.add(layers.Conv2D(32, (3, 3), kernel_regularizer=regularizers.l2(0.005), \n",
    "                         activation='relu', input_shape=X_train.shape[1:]))\n",
    "L2_wd.add(layers.MaxPooling2D((2, 2)))\n",
    "\n",
    "L2_wd.add(layers.Conv2D(64, (3, 3), kernel_regularizer=regularizers.l2(0.005), activation='relu'))\n",
    "L2_wd.add(layers.MaxPooling2D((2, 2)))\n",
    "\n",
    "L2_reg.add(layers.Conv2D(128, (3, 3), kernel_regularizer=regularizers.l2(0.005), activation='relu'))\n",
    "L2_reg.add(layers.MaxPooling2D((2, 2)))\n",
    "\n",
    "L2_reg.add(layers.Flatten())\n",
    "L2_reg.add(layers.Dense(128, activation='relu'))\n",
    "L2_reg.add(layers.Dense(1, activation='sigmoid'))\n",
    "\n",
    "L2_reg.compile(optimizer='adam',\n",
    "               loss='binary_crossentropy',\n",
    "               metrics=['accuracy'])"
   ]
  },
  {
   "cell_type": "code",
   "execution_count": null,
   "metadata": {},
   "outputs": [],
   "source": [
    "mc_L2_reg = ModelCheckpoint(filepath='/content/saved_models/L2_reg.h5', \n",
    "                            monitor='val_accuracy', mode='max', verbose=1, save_best_only=True)"
   ]
  },
  {
   "cell_type": "code",
   "execution_count": null,
   "metadata": {},
   "outputs": [],
   "source": []
  },
  {
   "cell_type": "code",
   "execution_count": null,
   "metadata": {},
   "outputs": [],
   "source": []
  },
  {
   "cell_type": "code",
   "execution_count": null,
   "metadata": {},
   "outputs": [],
   "source": []
  },
  {
   "cell_type": "code",
   "execution_count": null,
   "metadata": {},
   "outputs": [],
   "source": []
  },
  {
   "cell_type": "code",
   "execution_count": null,
   "metadata": {},
   "outputs": [],
   "source": []
  },
  {
   "cell_type": "code",
   "execution_count": null,
   "metadata": {},
   "outputs": [],
   "source": []
  },
  {
   "cell_type": "code",
   "execution_count": null,
   "metadata": {},
   "outputs": [],
   "source": []
  },
  {
   "cell_type": "code",
   "execution_count": null,
   "metadata": {},
   "outputs": [],
   "source": []
  },
  {
   "cell_type": "markdown",
   "metadata": {},
   "source": [
    "### 3) L1 Regularizer"
   ]
  },
  {
   "cell_type": "code",
   "execution_count": null,
   "metadata": {},
   "outputs": [],
   "source": [
    "L1_reg = models.Sequential()\n",
    "L1_reg.add(layers.Conv2D(32, (3, 3), kernel_regularizer=regularizers.l1(0.005), \n",
    "                         activation='relu', input_shape=X_train.shape[1:]))\n",
    "L1_reg.add(layers.MaxPooling2D((2, 2)))\n",
    "\n",
    "L1_reg.add(layers.Conv2D(64, (3, 3), kernel_regularizer=regularizers.l1(0.005), activation='relu'))\n",
    "L1_reg.add(layers.MaxPooling2D((2, 2)))\n",
    "\n",
    "L1_reg.add(layers.Conv2D(128, (3, 3), kernel_regularizer=regularizers.l1(0.005), activation='relu'))\n",
    "L1_reg.add(layers.MaxPooling2D((2, 2)))\n",
    "\n",
    "L1_reg.add(layers.Flatten())\n",
    "L1_reg.add(layers.Dense(128, activation='relu'))\n",
    "L1_reg.add(layers.Dense(1, activation='sigmoid'))\n",
    "\n",
    "L1_reg.compile(optimizer='adam',\n",
    "               loss='binary_crossentropy',\n",
    "               metrics=['accuracy'])"
   ]
  },
  {
   "cell_type": "code",
   "execution_count": null,
   "metadata": {},
   "outputs": [],
   "source": [
    "mc_L1_reg = ModelCheckpoint(filepath='/content/saved_models/L1_reg.h5', monitor='val_accuracy', \n",
    "                            mode='max', verbose=1, save_best_only=True)"
   ]
  },
  {
   "cell_type": "code",
   "execution_count": null,
   "metadata": {},
   "outputs": [],
   "source": [
    "L1_reg_history = L1_reg.fit(X_train, y_train,\n",
    "                            epochs=50,\n",
    "                            batch_size=32,\n",
    "                            callbacks=[es, mc_L1_reg],\n",
    "                            validation_data=(X_test, y_test))"
   ]
  },
  {
   "cell_type": "code",
   "execution_count": null,
   "metadata": {},
   "outputs": [],
   "source": [
    "visualize_training_results(L1_reg_history)"
   ]
  },
  {
   "cell_type": "code",
   "execution_count": null,
   "metadata": {},
   "outputs": [],
   "source": [
    "L1 = load_model('/content/saved_models/L1_reg.h5')\n",
    "L1m = model_evaluation(L1)\n",
    "L1m"
   ]
  },
  {
   "cell_type": "code",
   "execution_count": null,
   "metadata": {},
   "outputs": [],
   "source": []
  },
  {
   "cell_type": "markdown",
   "metadata": {},
   "source": [
    "#### Grid Search For L1 weight decay"
   ]
  },
  {
   "cell_type": "code",
   "execution_count": null,
   "metadata": {},
   "outputs": [],
   "source": [
    "def L1_regularizer_model(weight_decay):\n",
    "    \n",
    "    # Build the model with L2 regularizer\n",
    "    model = models.Sequential()\n",
    "    model.add(layers.Conv2D(32, (3, 3), kernel_regularizer=regularizers.l1(weight_decay), \n",
    "                                        activation='relu', input_shape=X_train.shape[1:]))\n",
    "    model.add(layers.MaxPooling2D((2, 2)))\n",
    "\n",
    "    model.add(layers.Conv2D(64, (3, 3), kernel_regularizer=regularizers.l1(weight_decay), activation='relu'))\n",
    "    model.add(layers.MaxPooling2D((2, 2)))\n",
    "\n",
    "    model.add(layers.Conv2D(128, (3, 3), kernel_regularizer=regularizers.l1(weight_decay), activation='relu'))\n",
    "    model.add(layers.MaxPooling2D((2, 2)))\n",
    "\n",
    "    model.add(layers.Flatten())\n",
    "    model.add(layers.Dense(128, activation='relu'))\n",
    "    model.add(layers.Dense(1, activation='sigmoid'))\n",
    "\n",
    "    # Compile the model\n",
    "    model.compile(optimizer='adam',\n",
    "                  loss='binary_crossentropy',\n",
    "                  metrics=['accuracy'])\n",
    "    \n",
    "    return model"
   ]
  },
  {
   "cell_type": "code",
   "execution_count": null,
   "metadata": {},
   "outputs": [],
   "source": [
    "L1_model = KerasClassifier(build_fn=L1_regularizer_model)"
   ]
  },
  {
   "cell_type": "code",
   "execution_count": null,
   "metadata": {},
   "outputs": [],
   "source": [
    "L1_grid = GridSearchCV(L1_model, param_grid=reg_param_grid, cv=3)"
   ]
  },
  {
   "cell_type": "code",
   "execution_count": null,
   "metadata": {},
   "outputs": [],
   "source": [
    "L1_grid_history = L1_grid.fit(X_train, y_train,\n",
    "                              epochs=50,\n",
    "                              batch_size=32,\n",
    "                              callbacks=es,\n",
    "                              validation_data=(X_test, y_test))"
   ]
  },
  {
   "cell_type": "code",
   "execution_count": null,
   "metadata": {},
   "outputs": [],
   "source": [
    "# Find the best weight_decay value\n",
    "L1_grid_history.best_params_"
   ]
  },
  {
   "cell_type": "code",
   "execution_count": null,
   "metadata": {},
   "outputs": [],
   "source": []
  },
  {
   "cell_type": "code",
   "execution_count": null,
   "metadata": {},
   "outputs": [],
   "source": []
  },
  {
   "cell_type": "code",
   "execution_count": null,
   "metadata": {},
   "outputs": [],
   "source": []
  },
  {
   "cell_type": "markdown",
   "metadata": {
    "id": "R2-PxjnUCoJy"
   },
   "source": [
    "### Best Model (L2 0.0005)"
   ]
  },
  {
   "cell_type": "code",
   "execution_count": null,
   "metadata": {
    "ExecuteTime": {
     "end_time": "2021-05-15T02:25:08.696050Z",
     "start_time": "2021-05-15T02:25:08.607257Z"
    },
    "id": "l_7K3YvJCoJy"
   },
   "outputs": [],
   "source": [
    "L2_best = models.Sequential()\n",
    "L2_best.add(layers.Conv2D(32, (3, 3), kernel_regularizer=regularizers.l2(0.0005), \n",
    "                                      activation='relu', input_shape=X_train.shape[1:]))\n",
    "L2_best.add(layers.MaxPooling2D((2, 2)))\n",
    "\n",
    "L2_best.add(layers.Conv2D(64, (3, 3), kernel_regularizer=regularizers.l2(0.0005), activation='relu'))\n",
    "L2_best.add(layers.MaxPooling2D((2, 2)))\n",
    "\n",
    "L2_best.add(layers.Conv2D(128, (3, 3), kernel_regularizer=regularizers.l2(0.0005), activation='relu'))\n",
    "L2_best.add(layers.MaxPooling2D((2, 2)))\n",
    "\n",
    "L2_best.add(layers.Flatten())\n",
    "L2_best.add(layers.Dense(128, activation='relu'))\n",
    "L2_best.add(layers.Dense(1, activation='sigmoid'))\n",
    "\n",
    "L2_best.compile(optimizer='adam',\n",
    "                loss='binary_crossentropy',\n",
    "                metrics=['accuracy'])"
   ]
  },
  {
   "cell_type": "code",
   "execution_count": null,
   "metadata": {
    "ExecuteTime": {
     "end_time": "2021-05-15T02:26:44.243433Z",
     "start_time": "2021-05-15T02:26:44.240397Z"
    },
    "id": "2TH2HLn0CoJy"
   },
   "outputs": [],
   "source": [
    "es_L2_best = [EarlyStopping(monitor='val_accuracy', mode='max', verbose=1, patience=6),\n",
    "              ModelCheckpoint(filepath='saved_models/L2_best.h5', \n",
    "                         monitor='val_accuracy', mode='max', verbose=1, save_best_only=True)]"
   ]
  },
  {
   "cell_type": "code",
   "execution_count": null,
   "metadata": {
    "ExecuteTime": {
     "end_time": "2021-05-15T02:33:11.862592Z",
     "start_time": "2021-05-15T02:27:01.987792Z"
    },
    "id": "R0cc4ZhXCoJz",
    "outputId": "d6a01363-701e-4040-c306-eeb086b27c24"
   },
   "outputs": [
    {
     "name": "stdout",
     "output_type": "stream",
     "text": [
      "Epoch 1/50\n",
      "163/163 [==============================] - 42s 253ms/step - loss: 0.5629 - accuracy: 0.7813 - val_loss: 1.0858 - val_accuracy: 0.6843\n",
      "\n",
      "Epoch 00001: val_accuracy improved from -inf to 0.68429, saving model to saved_models/L2_best.h5\n",
      "Epoch 2/50\n",
      "163/163 [==============================] - 42s 256ms/step - loss: 0.1465 - accuracy: 0.9577 - val_loss: 0.7735 - val_accuracy: 0.7837\n",
      "\n",
      "Epoch 00002: val_accuracy improved from 0.68429 to 0.78365, saving model to saved_models/L2_best.h5\n",
      "Epoch 3/50\n",
      "163/163 [==============================] - 41s 253ms/step - loss: 0.1315 - accuracy: 0.9668 - val_loss: 0.5174 - val_accuracy: 0.8269\n",
      "\n",
      "Epoch 00003: val_accuracy improved from 0.78365 to 0.82692, saving model to saved_models/L2_best.h5\n",
      "Epoch 4/50\n",
      "163/163 [==============================] - 41s 249ms/step - loss: 0.1226 - accuracy: 0.9652 - val_loss: 1.0259 - val_accuracy: 0.7676\n",
      "\n",
      "Epoch 00004: val_accuracy did not improve from 0.82692\n",
      "Epoch 5/50\n",
      "163/163 [==============================] - 41s 249ms/step - loss: 0.0881 - accuracy: 0.9820 - val_loss: 0.8067 - val_accuracy: 0.7981\n",
      "\n",
      "Epoch 00005: val_accuracy did not improve from 0.82692\n",
      "Epoch 6/50\n",
      "163/163 [==============================] - 41s 250ms/step - loss: 0.0898 - accuracy: 0.9772 - val_loss: 1.2508 - val_accuracy: 0.7532\n",
      "\n",
      "Epoch 00006: val_accuracy did not improve from 0.82692\n",
      "Epoch 7/50\n",
      "163/163 [==============================] - 41s 252ms/step - loss: 0.0696 - accuracy: 0.9828 - val_loss: 0.8570 - val_accuracy: 0.7933\n",
      "\n",
      "Epoch 00007: val_accuracy did not improve from 0.82692\n",
      "Epoch 8/50\n",
      "163/163 [==============================] - 41s 252ms/step - loss: 0.0737 - accuracy: 0.9814 - val_loss: 1.3763 - val_accuracy: 0.7628\n",
      "\n",
      "Epoch 00008: val_accuracy did not improve from 0.82692\n",
      "Epoch 9/50\n",
      "163/163 [==============================] - 41s 252ms/step - loss: 0.0629 - accuracy: 0.9825 - val_loss: 1.6757 - val_accuracy: 0.7212\n",
      "\n",
      "Epoch 00009: val_accuracy did not improve from 0.82692\n",
      "Epoch 00009: early stopping\n"
     ]
    }
   ],
   "source": [
    "L2_best_history = L2_best.fit(X_train, y_train,\n",
    "                              epochs=50,\n",
    "                              batch_size=32,\n",
    "                              callbacks=es_L2_best,\n",
    "                              validation_data=(X_test, y_test))"
   ]
  },
  {
   "cell_type": "code",
   "execution_count": null,
   "metadata": {
    "ExecuteTime": {
     "end_time": "2021-05-15T02:33:23.401893Z",
     "start_time": "2021-05-15T02:33:23.118584Z"
    },
    "id": "EWxeD5fXCoJz",
    "outputId": "35c18025-bc0d-419e-862a-94b7e99f9f7c"
   },
   "outputs": [
    {
     "data": {
      "image/png": "[encoded data removed]",
      "text/plain": [
       "<Figure size 432x288 with 2 Axes>"
      ]
     },
     "metadata": {
      "needs_background": "light",
      "tags": []
     },
     "output_type": "display_data"
    }
   ],
   "source": [
    "visualize_training_results(L2_best_history)"
   ]
  },
  {
   "cell_type": "code",
   "execution_count": null,
   "metadata": {
    "ExecuteTime": {
     "end_time": "2021-05-15T02:33:40.103665Z",
     "start_time": "2021-05-15T02:33:27.144211Z"
    },
    "id": "HSPDL2oDCoJz",
    "outputId": "01e35f66-1b7c-4352-85b4-3c1da9dfd308"
   },
   "outputs": [
    {
     "name": "stdout",
     "output_type": "stream",
     "text": [
      "163/163 [==============================] - 10s 61ms/step - loss: 0.1378 - accuracy: 0.9592\n",
      "Training Loss:0.1378\n",
      "Training Accuracy:0.9592\n",
      "20/20 [==============================] - 1s 61ms/step - loss: 0.5174 - accuracy: 0.8269\n",
      "Test Loss:0.5174\n",
      "Test Accuracy:0.8269\n"
     ]
    },
    {
     "data": {
      "image/png": "[encoded data removed]",
      "text/plain": [
       "<Figure size 432x288 with 2 Axes>"
      ]
     },
     "metadata": {
      "needs_background": "light",
      "tags": []
     },
     "output_type": "display_data"
    },
    {
     "data": {
      "text/plain": [
       "([0.9592], [0.8269])"
      ]
     },
     "execution_count": 24,
     "metadata": {
      "tags": []
     },
     "output_type": "execute_result"
    }
   ],
   "source": [
    "L2best = load_model('saved_models/L2_best.h5')\n",
    "model_evaluation(L2best)"
   ]
  },
  {
   "cell_type": "code",
   "execution_count": null,
   "metadata": {},
   "outputs": [],
   "source": []
  },
  {
   "cell_type": "markdown",
   "metadata": {},
   "source": [
    "### 4) L1 + L2"
   ]
  },
  {
   "cell_type": "code",
   "execution_count": null,
   "metadata": {},
   "outputs": [],
   "source": [
    "def L1_L2_regularizer_model(wd_1, wd_2):\n",
    "    model = models.Sequential()\n",
    "    model.add(layers.Conv2D(32, (3, 3), kernel_regularizer=regularizers.l1_l2(l1=wd_1, l2=wd_2), \n",
    "                        activation='relu', input_shape=(128,128,3)))\n",
    "    model.add(layers.MaxPooling2D((2, 2)))\n",
    "\n",
    "    model.add(layers.Conv2D(64, (3, 3), kernel_regularizer=regularizers.l1_l2(l1=wd_1, l2=wd_2), \n",
    "                        activation='relu'))\n",
    "    model.add(layers.MaxPooling2D((2, 2)))\n",
    "\n",
    "    model.add(layers.Conv2D(128, (3, 3), kernel_regularizer=regularizers.l1_l2(l1=wd_1, l2=wd_2), \n",
    "                        activation='relu'))\n",
    "    model.add(layers.MaxPooling2D((2, 2)))\n",
    "\n",
    "    model.add(layers.Flatten())\n",
    "    model.add(layers.Dense(128, activation='relu'))\n",
    "    model.add(layers.Dense(1, activation='sigmoid'))\n",
    "\n",
    "    model.compile(optimizer='adam',\n",
    "                  loss='binary_crossentropy',\n",
    "                  metrics=['accuracy'])\n",
    "    \n",
    "    return model"
   ]
  },
  {
   "cell_type": "code",
   "execution_count": null,
   "metadata": {},
   "outputs": [],
   "source": [
    "L_model = KerasClassifier(build_fn=L1_L2_regularizer_model)"
   ]
  },
  {
   "cell_type": "code",
   "execution_count": null,
   "metadata": {},
   "outputs": [],
   "source": [
    "# parameter grid\n",
    "l1l2_param_grid = {'wd_1': [0.5, 0.05, 0.005, 0.0005],\n",
    "                   'wd_2': [0.5, 0.05, 0.005, 0.0005]}\n",
    "\n",
    "L_grid = GridSearchCV(L_model, param_grid=l1l2_param_grid, cv=3)"
   ]
  },
  {
   "cell_type": "code",
   "execution_count": null,
   "metadata": {},
   "outputs": [],
   "source": [
    "L_grid_history = L_grid.fit(X_train, y_train,\n",
    "                            epochs=50,\n",
    "                            batch_size=32,\n",
    "                            callbacks=es,\n",
    "                            validation_data=(X_test, y_test))"
   ]
  },
  {
   "cell_type": "code",
   "execution_count": null,
   "metadata": {},
   "outputs": [],
   "source": [
    "# Find the best weight_decay value\n",
    "L_grid_history.best_params_"
   ]
  },
  {
   "cell_type": "code",
   "execution_count": null,
   "metadata": {},
   "outputs": [],
   "source": []
  },
  {
   "cell_type": "code",
   "execution_count": null,
   "metadata": {},
   "outputs": [],
   "source": []
  },
  {
   "cell_type": "code",
   "execution_count": null,
   "metadata": {},
   "outputs": [],
   "source": []
  },
  {
   "cell_type": "markdown",
   "metadata": {
    "id": "tKy-okD8CoJz"
   },
   "source": [
    "### 5) Padding"
   ]
  },
  {
   "cell_type": "markdown",
   "metadata": {},
   "source": [
    "https://deepai.org/machine-learning-glossary-and-terms/padding#:~:text=In%20order%20to%20assist%20the,more%20accurate%20analysis%20of%20images."
   ]
  },
  {
   "cell_type": "code",
   "execution_count": null,
   "metadata": {
    "ExecuteTime": {
     "end_time": "2021-05-14T03:45:11.752084Z",
     "start_time": "2021-05-14T03:45:11.668415Z"
    },
    "id": "ndCKCCMTCoJz"
   },
   "outputs": [],
   "source": [
    "padding = models.Sequential()\n",
    "padding.add(layers.Conv2D(32, (3, 3), padding='same', activation='relu', input_shape=X_train.shape[1:]))\n",
    "padding.add(layers.MaxPooling2D((2, 2)))\n",
    "\n",
    "padding.add(layers.Conv2D(64, (3, 3), padding='same', activation='relu'))\n",
    "padding.add(layers.MaxPooling2D((2, 2)))\n",
    "\n",
    "padding.add(layers.Conv2D(128, (3, 3), padding='same', activation='relu'))\n",
    "padding.add(layers.MaxPooling2D((2, 2)))\n",
    "\n",
    "padding.add(layers.Flatten())\n",
    "padding.add(layers.Dense(128, activation='relu'))\n",
    "padding.add(layers.Dense(1, activation='sigmoid'))\n",
    "\n",
    "padding.compile(optimizer='adam',\n",
    "                loss='binary_crossentropy',\n",
    "                metrics=['accuracy'])"
   ]
  },
  {
   "cell_type": "code",
   "execution_count": null,
   "metadata": {
    "ExecuteTime": {
     "end_time": "2021-05-14T03:45:15.546645Z",
     "start_time": "2021-05-14T03:45:15.543689Z"
    },
    "id": "vvHt9PmlCoJz"
   },
   "outputs": [],
   "source": [
    "mc_padding = ModelCheckpoint(filepath='/content/saved_models/padding.h5', \n",
    "                             monitor='val_accuracy', mode='max', verbose=1, save_best_only=True)]"
   ]
  },
  {
   "cell_type": "code",
   "execution_count": null,
   "metadata": {
    "ExecuteTime": {
     "end_time": "2021-05-14T03:52:40.924165Z",
     "start_time": "2021-05-14T03:45:33.606200Z"
    },
    "id": "kUR0obooCoJz",
    "outputId": "79d2c8c9-f485-4fd7-c2ef-90b90dee2b8e"
   },
   "outputs": [
    {
     "name": "stdout",
     "output_type": "stream",
     "text": [
      "Epoch 1/50\n",
      "163/163 [==============================] - 50s 302ms/step - loss: 0.5563 - accuracy: 0.7632 - val_loss: 0.9447 - val_accuracy: 0.7244\n",
      "\n",
      "Epoch 00001: val_accuracy improved from -inf to 0.72436, saving model to saved_models/best_padding.h5\n",
      "Epoch 2/50\n",
      "163/163 [==============================] - 47s 287ms/step - loss: 0.1118 - accuracy: 0.9594 - val_loss: 0.8752 - val_accuracy: 0.7564\n",
      "\n",
      "Epoch 00002: val_accuracy improved from 0.72436 to 0.75641, saving model to saved_models/best_padding.h5\n",
      "Epoch 3/50\n",
      "163/163 [==============================] - 47s 289ms/step - loss: 0.0956 - accuracy: 0.9680 - val_loss: 0.7980 - val_accuracy: 0.7804\n",
      "\n",
      "Epoch 00003: val_accuracy improved from 0.75641 to 0.78045, saving model to saved_models/best_padding.h5\n",
      "Epoch 4/50\n",
      "163/163 [==============================] - 47s 288ms/step - loss: 0.0781 - accuracy: 0.9728 - val_loss: 1.6736 - val_accuracy: 0.6971\n",
      "\n",
      "Epoch 00004: val_accuracy did not improve from 0.78045\n",
      "Epoch 5/50\n",
      "163/163 [==============================] - 47s 289ms/step - loss: 0.0731 - accuracy: 0.9710 - val_loss: 0.8812 - val_accuracy: 0.7804\n",
      "\n",
      "Epoch 00005: val_accuracy did not improve from 0.78045\n",
      "Epoch 6/50\n",
      "163/163 [==============================] - 47s 290ms/step - loss: 0.0439 - accuracy: 0.9838 - val_loss: 1.3175 - val_accuracy: 0.7644\n",
      "\n",
      "Epoch 00006: val_accuracy did not improve from 0.78045\n",
      "Epoch 7/50\n",
      "163/163 [==============================] - 47s 289ms/step - loss: 0.0344 - accuracy: 0.9854 - val_loss: 1.7792 - val_accuracy: 0.7340\n",
      "\n",
      "Epoch 00007: val_accuracy did not improve from 0.78045\n",
      "Epoch 8/50\n",
      "163/163 [==============================] - 48s 292ms/step - loss: 0.0312 - accuracy: 0.9881 - val_loss: 2.0384 - val_accuracy: 0.7212\n",
      "\n",
      "Epoch 00008: val_accuracy did not improve from 0.78045\n",
      "Epoch 9/50\n",
      "163/163 [==============================] - 47s 291ms/step - loss: 0.0158 - accuracy: 0.9949 - val_loss: 1.6243 - val_accuracy: 0.7532\n",
      "\n",
      "Epoch 00009: val_accuracy did not improve from 0.78045\n",
      "Epoch 00009: early stopping\n"
     ]
    }
   ],
   "source": [
    "padding_history = padding.fit(X_train, y_train,\n",
    "                              epochs=50,\n",
    "                              batch_size=32,\n",
    "                              callbacks=[es, mc_padding],\n",
    "                              validation_data=(X_test, y_test))"
   ]
  },
  {
   "cell_type": "code",
   "execution_count": null,
   "metadata": {
    "ExecuteTime": {
     "end_time": "2021-05-14T03:53:13.677990Z",
     "start_time": "2021-05-14T03:53:13.378257Z"
    },
    "id": "J0pw8enSCoJ0",
    "outputId": "e63f8578-0148-4877-81fd-68a8b31b1941",
    "scrolled": false
   },
   "outputs": [
    {
     "data": {
      "image/png": "[encoded data removed]",
      "text/plain": [
       "<Figure size 432x288 with 2 Axes>"
      ]
     },
     "metadata": {
      "needs_background": "light",
      "tags": []
     },
     "output_type": "display_data"
    }
   ],
   "source": [
    "visualize_training_results(padding_history)"
   ]
  },
  {
   "cell_type": "code",
   "execution_count": null,
   "metadata": {
    "ExecuteTime": {
     "end_time": "2021-05-14T03:53:33.432973Z",
     "start_time": "2021-05-14T03:53:17.915988Z"
    },
    "id": "dlJzmHaSCoJ0",
    "outputId": "5cc974b2-a1e6-4e1a-aafd-7a3886fedd56"
   },
   "outputs": [
    {
     "name": "stdout",
     "output_type": "stream",
     "text": [
      "163/163 [==============================] - 12s 74ms/step - loss: 0.0582 - accuracy: 0.9785\n",
      "Training Loss:0.05816\n",
      "Training Accuracy:0.9785\n",
      "20/20 [==============================] - 2s 74ms/step - loss: 0.7980 - accuracy: 0.7804\n",
      "Test Loss:0.798\n",
      "Test Accuracy:0.7804\n"
     ]
    },
    {
     "data": {
      "image/png": "[encoded data removed]",
      "text/plain": [
       "<Figure size 432x288 with 2 Axes>"
      ]
     },
     "metadata": {
      "needs_background": "light",
      "tags": []
     },
     "output_type": "display_data"
    },
    {
     "data": {
      "text/plain": [
       "([0.9785], [0.7804])"
      ]
     },
     "execution_count": 51,
     "metadata": {
      "tags": []
     },
     "output_type": "execute_result"
    }
   ],
   "source": [
    "pad = load_model('/content/saved_models/padding.h5')\n",
    "padd = model_evaluation(pad)\n",
    "padd"
   ]
  },
  {
   "cell_type": "markdown",
   "metadata": {
    "id": "OU6pMckXCoJ0"
   },
   "source": [
    ">**Comment:** \n",
    "- The Padding took less time to run compare with the baseline model\n",
    "- The train accuracy (0.9785) is higher than test accuracy (0.7804) which indicates the model is overfit\n",
    "- Compare with the baseline model, test accuray shows some improvements\n",
    "- There are more false positive than false negative"
   ]
  },
  {
   "cell_type": "code",
   "execution_count": null,
   "metadata": {},
   "outputs": [],
   "source": []
  },
  {
   "cell_type": "markdown",
   "metadata": {},
   "source": [
    "#### Padding + L1 L2"
   ]
  },
  {
   "cell_type": "code",
   "execution_count": null,
   "metadata": {},
   "outputs": [],
   "source": [
    "L_padding = models.Sequential()\n",
    "L_padding.add(layers.Conv2D(32, (3, 3), kernel_regularizer=regularizers.l1_l2(l1=0.005, l2=0.005),\n",
    "                          padding='same', activation='relu', input_shape=X_train.shape[1:]))\n",
    "L_padding.add(layers.MaxPooling2D((2, 2)))\n",
    "\n",
    "L_padding.add(layers.Conv2D(64, (3, 3), kernel_regularizer=regularizers.l1_l2(l1=0.005, l2=0.005),\n",
    "                          padding='same', activation='relu'))\n",
    "L_padding.add(layers.MaxPooling2D((2, 2)))\n",
    "\n",
    "L_padding.add(layers.Conv2D(128, (3, 3), kernel_regularizer=regularizers.l1_l2(l1=0.005, l2=0.005),\n",
    "                          padding='same', activation='relu'))\n",
    "L_padding.add(layers.MaxPooling2D((2, 2)))\n",
    "\n",
    "L_padding.add(layers.Flatten())\n",
    "L_padding.add(layers.Dense(128, activation='relu'))\n",
    "L_padding.add(layers.Dense(1, activation='sigmoid'))\n",
    "\n",
    "L_padding.compile(optimizer='adam',\n",
    "                  loss='binary_crossentropy',\n",
    "                metrics=['accuracy'])"
   ]
  },
  {
   "cell_type": "code",
   "execution_count": null,
   "metadata": {},
   "outputs": [],
   "source": [
    "mc_L_padding = ModelCheckpoint(filepath='/content/saved_models/L_padding.h5', \n",
    "                               monitor='val_accuracy', mode='max', verbose=1, save_best_only=True)"
   ]
  },
  {
   "cell_type": "code",
   "execution_count": null,
   "metadata": {},
   "outputs": [],
   "source": [
    "L_padding_history = L_padding.fit(X_train, y_train,\n",
    "                                  epochs=50,\n",
    "                                  batch_size=32,\n",
    "                                  callbacks=[es, mc_L_padding],\n",
    "                                  validation_data=(X_test, y_test))"
   ]
  },
  {
   "cell_type": "code",
   "execution_count": null,
   "metadata": {},
   "outputs": [],
   "source": [
    "visualize_training_results(L_padding_history)"
   ]
  },
  {
   "cell_type": "code",
   "execution_count": null,
   "metadata": {},
   "outputs": [],
   "source": [
    "Lpad = load_model('/content/saved_models/L_padding.h5')\n",
    "LP = model_evaluation(Lpad)\n",
    "LP"
   ]
  },
  {
   "cell_type": "code",
   "execution_count": null,
   "metadata": {},
   "outputs": [],
   "source": []
  },
  {
   "cell_type": "code",
   "execution_count": null,
   "metadata": {},
   "outputs": [],
   "source": []
  },
  {
   "cell_type": "code",
   "execution_count": null,
   "metadata": {},
   "outputs": [],
   "source": []
  },
  {
   "cell_type": "code",
   "execution_count": null,
   "metadata": {},
   "outputs": [],
   "source": []
  },
  {
   "cell_type": "code",
   "execution_count": null,
   "metadata": {},
   "outputs": [],
   "source": []
  },
  {
   "cell_type": "code",
   "execution_count": null,
   "metadata": {},
   "outputs": [],
   "source": []
  },
  {
   "cell_type": "markdown",
   "metadata": {
    "id": "peEt_w4GCoJ0"
   },
   "source": [
    "### 6) Pretrained VGG19"
   ]
  },
  {
   "cell_type": "code",
   "execution_count": 38,
   "metadata": {
    "ExecuteTime": {
     "end_time": "2021-05-14T15:42:58.136905Z",
     "start_time": "2021-05-14T15:42:58.113204Z"
    },
    "id": "XwttM22yCoJ0"
   },
   "outputs": [],
   "source": [
    "from keras.applications import VGG19"
   ]
  },
  {
   "cell_type": "code",
   "execution_count": 39,
   "metadata": {
    "ExecuteTime": {
     "end_time": "2021-05-14T15:42:58.532785Z",
     "start_time": "2021-05-14T15:42:58.138399Z"
    },
    "colab": {
     "base_uri": "https://localhost:8080/"
    },
    "id": "Rp54aBMhCoJ0",
    "outputId": "13778118-e471-46ef-95ad-960b54417093"
   },
   "outputs": [
    {
     "name": "stdout",
     "output_type": "stream",
     "text": [
      "Downloading data from https://storage.googleapis.com/tensorflow/keras-applications/vgg19/vgg19_weights_tf_dim_ordering_tf_kernels_notop.h5\n",
      "80142336/80134624 [==============================] - 1s 0us/step\n"
     ]
    }
   ],
   "source": [
    "pretrained = VGG19(weights='imagenet',\n",
    "                   include_top=False,\n",
    "                   input_shape=X_train.shape[1:])"
   ]
  },
  {
   "cell_type": "code",
   "execution_count": 40,
   "metadata": {
    "ExecuteTime": {
     "end_time": "2021-05-14T15:42:58.606327Z",
     "start_time": "2021-05-14T15:42:58.535272Z"
    },
    "id": "GtyukIiHCoJ0"
   },
   "outputs": [],
   "source": [
    "pre = models.Sequential()\n",
    "pre.add(pretrained)\n",
    "pre.add(layers.Flatten())\n",
    "pre.add(layers.Dense(128, activation='relu'))\n",
    "pre.add(layers.Dense(1, activation='sigmoid'))\n",
    "\n",
    "# Freeze pretained layer\n",
    "pretrained.trainable = False"
   ]
  },
  {
   "cell_type": "code",
   "execution_count": 41,
   "metadata": {
    "ExecuteTime": {
     "end_time": "2021-05-14T15:42:58.612138Z",
     "start_time": "2021-05-14T15:42:58.608240Z"
    },
    "colab": {
     "base_uri": "https://localhost:8080/"
    },
    "id": "R29h1OGXCoJ1",
    "outputId": "72bbacd1-eac9-4001-c5cd-37157824d502"
   },
   "outputs": [
    {
     "name": "stdout",
     "output_type": "stream",
     "text": [
      "Model: \"sequential\"\n",
      "_________________________________________________________________\n",
      "Layer (type)                 Output Shape              Param #   \n",
      "=================================================================\n",
      "vgg19 (Functional)           (None, 4, 4, 512)         20024384  \n",
      "_________________________________________________________________\n",
      "flatten (Flatten)            (None, 8192)              0         \n",
      "_________________________________________________________________\n",
      "dense (Dense)                (None, 128)               1048704   \n",
      "_________________________________________________________________\n",
      "dense_1 (Dense)              (None, 1)                 129       \n",
      "=================================================================\n",
      "Total params: 21,073,217\n",
      "Trainable params: 1,048,833\n",
      "Non-trainable params: 20,024,384\n",
      "_________________________________________________________________\n"
     ]
    }
   ],
   "source": [
    "pre.summary()"
   ]
  },
  {
   "cell_type": "code",
   "execution_count": 42,
   "metadata": {
    "ExecuteTime": {
     "end_time": "2021-05-14T15:42:58.616314Z",
     "start_time": "2021-05-14T15:42:58.613743Z"
    },
    "colab": {
     "base_uri": "https://localhost:8080/"
    },
    "id": "vNsgMQl7CoJ1",
    "outputId": "5db64aff-9b11-4b8f-b794-149f14c98b3f"
   },
   "outputs": [
    {
     "name": "stdout",
     "output_type": "stream",
     "text": [
      "vgg19 False\n",
      "flatten True\n",
      "dense True\n",
      "dense_1 True\n"
     ]
    }
   ],
   "source": [
    "# Verify \"frozen\"\n",
    "for layer in pre.layers:\n",
    "    print(layer.name, layer.trainable)"
   ]
  },
  {
   "cell_type": "code",
   "execution_count": 43,
   "metadata": {
    "ExecuteTime": {
     "end_time": "2021-05-14T15:42:58.632935Z",
     "start_time": "2021-05-14T15:42:58.617737Z"
    },
    "id": "k2EG2LLwCoJ1"
   },
   "outputs": [],
   "source": [
    "pre.compile(optimizer='adam',\n",
    "            loss='binary_crossentropy',\n",
    "            metrics=['accuracy'])"
   ]
  },
  {
   "cell_type": "code",
   "execution_count": 44,
   "metadata": {
    "ExecuteTime": {
     "end_time": "2021-05-14T15:42:58.637100Z",
     "start_time": "2021-05-14T15:42:58.634543Z"
    },
    "id": "RSLzhIBbCoJ1"
   },
   "outputs": [],
   "source": [
    "mc_pre = ModelCheckpoint(filepath='/content/saved_models/pre.h5', \n",
    "                         monitor='val_accuracy', mode='max', verbose=1, save_best_only=True)]"
   ]
  },
  {
   "cell_type": "code",
   "execution_count": 85,
   "metadata": {
    "ExecuteTime": {
     "end_time": "2021-05-14T16:01:08.614892Z",
     "start_time": "2021-05-14T15:42:58.639825Z"
    },
    "colab": {
     "base_uri": "https://localhost:8080/"
    },
    "id": "q3-FqRlrCoJ1",
    "outputId": "6909464d-6e64-4194-91f0-e16cc1787c33"
   },
   "outputs": [
    {
     "name": "stdout",
     "output_type": "stream",
     "text": [
      "Epoch 1/50\n",
      "163/163 [==============================] - 9s 56ms/step - loss: 0.0206 - accuracy: 0.9921 - val_loss: 1.4883 - val_accuracy: 0.7420\n",
      "\n",
      "Epoch 00001: val_accuracy did not improve from 0.82692\n",
      "Epoch 2/50\n",
      "163/163 [==============================] - 9s 56ms/step - loss: 0.0159 - accuracy: 0.9944 - val_loss: 1.3385 - val_accuracy: 0.7612\n",
      "\n",
      "Epoch 00002: val_accuracy did not improve from 0.82692\n",
      "Epoch 3/50\n",
      "163/163 [==============================] - 9s 57ms/step - loss: 0.0160 - accuracy: 0.9941 - val_loss: 1.0398 - val_accuracy: 0.8125\n",
      "\n",
      "Epoch 00003: val_accuracy did not improve from 0.82692\n",
      "Epoch 4/50\n",
      "163/163 [==============================] - 9s 57ms/step - loss: 0.0139 - accuracy: 0.9946 - val_loss: 0.7635 - val_accuracy: 0.8413\n",
      "\n",
      "Epoch 00004: val_accuracy improved from 0.82692 to 0.84135, saving model to /content/saved_models/best_pre.h5\n",
      "Epoch 5/50\n",
      "163/163 [==============================] - 9s 58ms/step - loss: 0.0128 - accuracy: 0.9960 - val_loss: 0.8857 - val_accuracy: 0.8397\n",
      "\n",
      "Epoch 00005: val_accuracy did not improve from 0.84135\n",
      "Epoch 6/50\n",
      "163/163 [==============================] - 9s 57ms/step - loss: 0.0212 - accuracy: 0.9914 - val_loss: 2.0207 - val_accuracy: 0.7131\n",
      "\n",
      "Epoch 00006: val_accuracy did not improve from 0.84135\n",
      "Epoch 7/50\n",
      "163/163 [==============================] - 9s 57ms/step - loss: 0.0077 - accuracy: 0.9977 - val_loss: 1.2069 - val_accuracy: 0.8013\n",
      "\n",
      "Epoch 00007: val_accuracy did not improve from 0.84135\n",
      "Epoch 8/50\n",
      "163/163 [==============================] - 9s 56ms/step - loss: 0.0152 - accuracy: 0.9942 - val_loss: 1.8106 - val_accuracy: 0.7612\n",
      "\n",
      "Epoch 00008: val_accuracy did not improve from 0.84135\n",
      "Epoch 9/50\n",
      "163/163 [==============================] - 9s 56ms/step - loss: 0.0053 - accuracy: 0.9992 - val_loss: 1.1813 - val_accuracy: 0.8141\n",
      "\n",
      "Epoch 00009: val_accuracy did not improve from 0.84135\n",
      "Epoch 10/50\n",
      "163/163 [==============================] - 9s 56ms/step - loss: 0.0293 - accuracy: 0.9895 - val_loss: 1.5533 - val_accuracy: 0.7628\n",
      "\n",
      "Epoch 00010: val_accuracy did not improve from 0.84135\n",
      "Epoch 00010: early stopping\n"
     ]
    }
   ],
   "source": [
    "pre_history = pre.fit(X_train, y_train,\n",
    "                      epochs=50,\n",
    "                      batch_size=32,\n",
    "                      callbacks=[es, mc_pre],\n",
    "                      validation_data=(X_test, y_test))"
   ]
  },
  {
   "cell_type": "code",
   "execution_count": 86,
   "metadata": {
    "ExecuteTime": {
     "end_time": "2021-05-14T16:01:08.966908Z",
     "start_time": "2021-05-14T16:01:08.617002Z"
    },
    "colab": {
     "base_uri": "https://localhost:8080/",
     "height": 308
    },
    "id": "w3Fu7wsnCoJ1",
    "outputId": "01c956e6-88be-438c-de64-36e960380f76"
   },
   "outputs": [
    {
     "data": {
      "image/png": "[encoded data removed]",
      "text/plain": [
       "<Figure size 432x288 with 2 Axes>"
      ]
     },
     "metadata": {
      "needs_background": "light",
      "tags": []
     },
     "output_type": "display_data"
    }
   ],
   "source": [
    "visualize_training_results(pre_history)"
   ]
  },
  {
   "cell_type": "code",
   "execution_count": 87,
   "metadata": {
    "ExecuteTime": {
     "end_time": "2021-05-14T16:04:06.143360Z",
     "start_time": "2021-05-14T16:01:08.968799Z"
    },
    "colab": {
     "base_uri": "https://localhost:8080/",
     "height": 398
    },
    "id": "XYnD6FVECoJ1",
    "outputId": "1c349bee-835d-49a3-a1ff-36acad79f50e"
   },
   "outputs": [
    {
     "name": "stdout",
     "output_type": "stream",
     "text": [
      "163/163 [==============================] - 8s 49ms/step - loss: 0.0455 - accuracy: 0.9804\n",
      "Training Loss:0.04553\n",
      "Training Accuracy:0.9804\n",
      "20/20 [==============================] - 1s 49ms/step - loss: 0.7635 - accuracy: 0.8413\n",
      "Test Loss:0.7635\n",
      "Test Accuracy:0.8413\n"
     ]
    },
    {
     "data": {
      "image/png": "[encoded data removed]",
      "text/plain": [
       "<Figure size 432x288 with 2 Axes>"
      ]
     },
     "metadata": {
      "needs_background": "light",
      "tags": []
     },
     "output_type": "display_data"
    },
    {
     "data": {
      "text/plain": [
       "([0.9804], [0.8413])"
      ]
     },
     "execution_count": 87,
     "metadata": {
      "tags": []
     },
     "output_type": "execute_result"
    }
   ],
   "source": [
    "pret = load_model('/content/saved_models/pre.h5')\n",
    "PRE = model_evaluation(pret)\n",
    "PRE"
   ]
  },
  {
   "cell_type": "markdown",
   "metadata": {
    "id": "zjMTXZkJCoJ2"
   },
   "source": [
    "## V. Evaluation"
   ]
  },
  {
   "cell_type": "code",
   "execution_count": null,
   "metadata": {
    "ExecuteTime": {
     "end_time": "2021-05-14T05:49:22.378604Z",
     "start_time": "2021-05-14T05:49:08.437494Z"
    },
    "id": "Q36c80MMCoJu",
    "outputId": "fd3d0edd-b09d-49ab-c91f-e5bf64a903e5",
    "scrolled": false
   },
   "outputs": [
    {
     "name": "stdout",
     "output_type": "stream",
     "text": [
      "163/163 [==============================] - 11s 64ms/step - loss: 0.2492 - accuracy: 0.9442\n",
      "Training Loss:0.2492\n",
      "Training Accuracy:0.9442\n",
      "20/20 [==============================] - 2s 64ms/step - loss: 0.5034 - accuracy: 0.8446\n",
      "Test Loss:0.5034\n",
      "Test Accuracy:0.8446\n"
     ]
    },
    {
     "data": {
      "image/png": "[encoded data removed]",
      "text/plain": [
       "<Figure size 432x288 with 2 Axes>"
      ]
     },
     "metadata": {
      "needs_background": "light",
      "tags": []
     },
     "output_type": "display_data"
    },
    {
     "data": {
      "text/plain": [
       "([0.9442], [0.8446])"
      ]
     },
     "execution_count": 45,
     "metadata": {
      "tags": []
     },
     "output_type": "execute_result"
    }
   ],
   "source": [
    "best = load_model('/content/saved_models/best_L2.h5')\n",
    "BEST = model_evaluation(L2)\n",
    "BEST"
   ]
  },
  {
   "cell_type": "code",
   "execution_count": null,
   "metadata": {
    "ExecuteTime": {
     "end_time": "2021-05-14T05:58:41.067141Z",
     "start_time": "2021-05-14T05:58:40.989539Z"
    },
    "id": "meykacCuCoJv",
    "outputId": "4bec6dfa-5abb-4b08-a8a4-b10932979200"
   },
   "outputs": [
    {
     "name": "stdout",
     "output_type": "stream",
     "text": [
      "1/1 [==============================] - 0s 50ms/step - loss: 0.2613 - accuracy: 0.9375\n"
     ]
    },
    {
     "data": {
      "text/plain": [
       "[0.26126253604888916, 0.9375]"
      ]
     },
     "execution_count": 52,
     "metadata": {
      "tags": []
     },
     "output_type": "execute_result"
    }
   ],
   "source": [
    "L2.evaluate(X_val, y_val)"
   ]
  },
  {
   "cell_type": "code",
   "execution_count": null,
   "metadata": {
    "ExecuteTime": {
     "end_time": "2021-05-14T05:49:41.211943Z",
     "start_time": "2021-05-14T05:49:41.138069Z"
    },
    "id": "go-TdjA_CoJv",
    "outputId": "6e543966-ca30-4d8a-d7a4-7da0fd095927"
   },
   "outputs": [
    {
     "data": {
      "text/plain": [
       "array([[0.33516 ],\n",
       "       [0.758586],\n",
       "       [0.917087],\n",
       "       [0.022783],\n",
       "       [0.994851],\n",
       "       [0.096325],\n",
       "       [0.827329],\n",
       "       [0.985   ],\n",
       "       [0.020615],\n",
       "       [0.097032],\n",
       "       [0.082617],\n",
       "       [0.134354],\n",
       "       [0.387113],\n",
       "       [0.03226 ],\n",
       "       [0.99537 ],\n",
       "       [0.924776]], dtype=float32)"
      ]
     },
     "execution_count": 46,
     "metadata": {
      "tags": []
     },
     "output_type": "execute_result"
    }
   ],
   "source": [
    "# Predict for probability of getting 1\n",
    "L2.predict(X_val)\n",
    "\n",
    "# predict_proba was deprecated"
   ]
  },
  {
   "cell_type": "code",
   "execution_count": null,
   "metadata": {
    "ExecuteTime": {
     "end_time": "2021-05-14T05:50:46.749886Z",
     "start_time": "2021-05-14T05:50:46.677596Z"
    },
    "id": "SOHDq9ApCoJv",
    "outputId": "33b3bf5a-8c31-4ab7-ed33-4fd03fb9867d"
   },
   "outputs": [
    {
     "data": {
      "text/plain": [
       "array([0.33516 , 0.758586, 0.917087, 0.022783, 0.994851, 0.096325,\n",
       "       0.827329, 0.985   , 0.020615, 0.097032, 0.082617, 0.134354,\n",
       "       0.387113, 0.03226 , 0.99537 , 0.924776], dtype=float32)"
      ]
     },
     "execution_count": 47,
     "metadata": {
      "tags": []
     },
     "output_type": "execute_result"
    }
   ],
   "source": [
    "# Flatten the array\n",
    "prob = L2.predict(X_val).flatten()\n",
    "prob"
   ]
  },
  {
   "cell_type": "code",
   "execution_count": null,
   "metadata": {
    "ExecuteTime": {
     "end_time": "2021-05-14T05:51:47.191820Z",
     "start_time": "2021-05-14T05:51:47.120646Z"
    },
    "id": "B8kbQVb9CoJv",
    "outputId": "e42d712c-0e88-4bc8-fb34-395782359658"
   },
   "outputs": [
    {
     "data": {
      "text/plain": [
       "array([0, 1, 1, 0, 1, 0, 1, 1, 0, 0, 0, 0, 0, 0, 1, 1], dtype=int32)"
      ]
     },
     "execution_count": 48,
     "metadata": {
      "tags": []
     },
     "output_type": "execute_result"
    }
   ],
   "source": [
    "# Make prediction by using the best model\n",
    "y_val_pred = ((L2.predict(X_val) > 0.5).astype(\"int32\")).flatten()\n",
    "y_val_pred\n",
    "\n",
    "# pad.predict_classes(X_val) was deprecated"
   ]
  },
  {
   "cell_type": "code",
   "execution_count": null,
   "metadata": {
    "ExecuteTime": {
     "end_time": "2021-05-14T05:52:18.482069Z",
     "start_time": "2021-05-14T05:52:18.477833Z"
    },
    "id": "YpN7XIK3CoJv",
    "outputId": "c02b676e-05ee-4d7e-9f6e-cdeaade3c05b"
   },
   "outputs": [
    {
     "data": {
      "text/plain": [
       "array([0, 1, 1, 0, 1, 0, 1, 1, 0, 0, 0, 0, 1, 0, 1, 1], dtype=int32)"
      ]
     },
     "execution_count": 49,
     "metadata": {
      "tags": []
     },
     "output_type": "execute_result"
    }
   ],
   "source": [
    "y_act = y_val.astype(\"int32\").flatten()\n",
    "y_act"
   ]
  },
  {
   "cell_type": "code",
   "execution_count": null,
   "metadata": {
    "ExecuteTime": {
     "end_time": "2021-05-14T05:53:23.375754Z",
     "start_time": "2021-05-14T05:53:23.365598Z"
    },
    "id": "ApYyXA70CoJw"
   },
   "outputs": [],
   "source": [
    "compare_df = pd.concat([pd.Series(y_act, name=\"Actual\"),\n",
    "                        pd.Series(y_val_pred, name=\"Predicted\"),\n",
    "                        pd.Series(prob, name=\"Probabilities\")], axis=1)"
   ]
  },
  {
   "cell_type": "code",
   "execution_count": null,
   "metadata": {
    "ExecuteTime": {
     "end_time": "2021-05-14T05:53:37.181940Z",
     "start_time": "2021-05-14T05:53:37.160736Z"
    },
    "id": "uwmMHArLCoJw",
    "outputId": "99e34787-a494-41b1-ebb9-3fede362a2a8",
    "scrolled": true
   },
   "outputs": [
    {
     "data": {
      "text/html": [
       "<div>\n",
       "<style scoped>\n",
       "    .dataframe tbody tr th:only-of-type {\n",
       "        vertical-align: middle;\n",
       "    }\n",
       "\n",
       "    .dataframe tbody tr th {\n",
       "        vertical-align: top;\n",
       "    }\n",
       "\n",
       "    .dataframe thead th {\n",
       "        text-align: right;\n",
       "    }\n",
       "</style>\n",
       "<table border=\"1\" class=\"dataframe\">\n",
       "  <thead>\n",
       "    <tr style=\"text-align: right;\">\n",
       "      <th></th>\n",
       "      <th>Actual</th>\n",
       "      <th>Predicted</th>\n",
       "      <th>Probabilities</th>\n",
       "    </tr>\n",
       "  </thead>\n",
       "  <tbody>\n",
       "    <tr>\n",
       "      <th>0</th>\n",
       "      <td>0</td>\n",
       "      <td>0</td>\n",
       "      <td>0.335160</td>\n",
       "    </tr>\n",
       "    <tr>\n",
       "      <th>1</th>\n",
       "      <td>1</td>\n",
       "      <td>1</td>\n",
       "      <td>0.758586</td>\n",
       "    </tr>\n",
       "    <tr>\n",
       "      <th>2</th>\n",
       "      <td>1</td>\n",
       "      <td>1</td>\n",
       "      <td>0.917087</td>\n",
       "    </tr>\n",
       "    <tr>\n",
       "      <th>3</th>\n",
       "      <td>0</td>\n",
       "      <td>0</td>\n",
       "      <td>0.022783</td>\n",
       "    </tr>\n",
       "    <tr>\n",
       "      <th>4</th>\n",
       "      <td>1</td>\n",
       "      <td>1</td>\n",
       "      <td>0.994851</td>\n",
       "    </tr>\n",
       "    <tr>\n",
       "      <th>5</th>\n",
       "      <td>0</td>\n",
       "      <td>0</td>\n",
       "      <td>0.096325</td>\n",
       "    </tr>\n",
       "    <tr>\n",
       "      <th>6</th>\n",
       "      <td>1</td>\n",
       "      <td>1</td>\n",
       "      <td>0.827329</td>\n",
       "    </tr>\n",
       "    <tr>\n",
       "      <th>7</th>\n",
       "      <td>1</td>\n",
       "      <td>1</td>\n",
       "      <td>0.985000</td>\n",
       "    </tr>\n",
       "    <tr>\n",
       "      <th>8</th>\n",
       "      <td>0</td>\n",
       "      <td>0</td>\n",
       "      <td>0.020615</td>\n",
       "    </tr>\n",
       "    <tr>\n",
       "      <th>9</th>\n",
       "      <td>0</td>\n",
       "      <td>0</td>\n",
       "      <td>0.097032</td>\n",
       "    </tr>\n",
       "    <tr>\n",
       "      <th>10</th>\n",
       "      <td>0</td>\n",
       "      <td>0</td>\n",
       "      <td>0.082617</td>\n",
       "    </tr>\n",
       "    <tr>\n",
       "      <th>11</th>\n",
       "      <td>0</td>\n",
       "      <td>0</td>\n",
       "      <td>0.134354</td>\n",
       "    </tr>\n",
       "    <tr>\n",
       "      <th>12</th>\n",
       "      <td>1</td>\n",
       "      <td>0</td>\n",
       "      <td>0.387113</td>\n",
       "    </tr>\n",
       "    <tr>\n",
       "      <th>13</th>\n",
       "      <td>0</td>\n",
       "      <td>0</td>\n",
       "      <td>0.032260</td>\n",
       "    </tr>\n",
       "    <tr>\n",
       "      <th>14</th>\n",
       "      <td>1</td>\n",
       "      <td>1</td>\n",
       "      <td>0.995370</td>\n",
       "    </tr>\n",
       "    <tr>\n",
       "      <th>15</th>\n",
       "      <td>1</td>\n",
       "      <td>1</td>\n",
       "      <td>0.924776</td>\n",
       "    </tr>\n",
       "  </tbody>\n",
       "</table>\n",
       "</div>"
      ],
      "text/plain": [
       "    Actual  Predicted  Probabilities\n",
       "0        0          0       0.335160\n",
       "1        1          1       0.758586\n",
       "2        1          1       0.917087\n",
       "3        0          0       0.022783\n",
       "4        1          1       0.994851\n",
       "5        0          0       0.096325\n",
       "6        1          1       0.827329\n",
       "7        1          1       0.985000\n",
       "8        0          0       0.020615\n",
       "9        0          0       0.097032\n",
       "10       0          0       0.082617\n",
       "11       0          0       0.134354\n",
       "12       1          0       0.387113\n",
       "13       0          0       0.032260\n",
       "14       1          1       0.995370\n",
       "15       1          1       0.924776"
      ]
     },
     "execution_count": 51,
     "metadata": {
      "tags": []
     },
     "output_type": "execute_result"
    }
   ],
   "source": [
    "compare_df"
   ]
  },
  {
   "cell_type": "markdown",
   "metadata": {
    "id": "bDdOIsdeCoJ2"
   },
   "source": [
    "## VI. Conclusion"
   ]
  },
  {
   "cell_type": "code",
   "execution_count": null,
   "metadata": {
    "id": "pwmkLuJjCoJ2"
   },
   "outputs": [],
   "source": []
  }
 ],
 "metadata": {
  "colab": {
   "collapsed_sections": [
    "_5nRRLuYCoJp",
    "yycCf9_vCoJp",
    "k0948YpbCoJq",
    "qvp7f48KCoJs",
    "Yk4p0Z4PCoJt",
    "UUQX672uCoJu",
    "Pd-pbCyvCoJw",
    "dsOlquukCoJw",
    "R2-PxjnUCoJy",
    "tKy-okD8CoJz"
   ],
   "name": "Pneumonia_Detection_Deep_Learning.ipynb",
   "provenance": []
  },
  "kernelspec": {
   "display_name": "Python 3",
   "language": "python",
   "name": "python3"
  },
  "language_info": {
   "codemirror_mode": {
    "name": "ipython",
    "version": 3
   },
   "file_extension": ".py",
   "mimetype": "text/x-python",
   "name": "python",
   "nbconvert_exporter": "python",
   "pygments_lexer": "ipython3",
   "version": "3.6.9"
  },
  "toc": {
   "base_numbering": 1,
   "nav_menu": {},
   "number_sections": false,
   "sideBar": true,
   "skip_h1_title": false,
   "title_cell": "Table of Contents",
   "title_sidebar": "Contents",
   "toc_cell": false,
   "toc_position": {
    "height": "calc(100% - 180px)",
    "left": "10px",
    "top": "150px",
    "width": "262.784px"
   },
   "toc_section_display": true,
   "toc_window_display": true
  }
 },
 "nbformat": 4,
 "nbformat_minor": 1
}
