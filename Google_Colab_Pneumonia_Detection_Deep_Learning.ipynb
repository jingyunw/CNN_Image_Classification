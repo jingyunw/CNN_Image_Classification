{
 "cells": [
  {
   "cell_type": "markdown",
   "metadata": {
    "id": "_EB9vMjyCoJe"
   },
   "source": [
    "# Pneumonia Detection from Chest X-ray through Deep Learning"
   ]
  },
  {
   "cell_type": "markdown",
   "metadata": {
    "id": "siR2UA53CoJj"
   },
   "source": [
    "## I. Overview"
   ]
  },
  {
   "cell_type": "markdown",
   "metadata": {
    "id": "7X2_SNHPCoJk"
   },
   "source": [
    "## II. Business Problem"
   ]
  },
  {
   "cell_type": "markdown",
   "metadata": {
    "id": "xKb_XqbeCoJk"
   },
   "source": [
    "## III. Data Understanding and Preparation\n",
    "- The datasets acquired from [Kaggle](https://www.kaggle.com/paultimothymooney/chest-xray-pneumonia) were downloaded in a \"chest_xray\" folder. This folder has 3 sub-folders inside which are \"train\", \"test\", and \"val\". Each sub-folder contains 2 sub-folders: \"NORMAL\" and \"PNEUMONIA\""
   ]
  },
  {
   "cell_type": "code",
   "execution_count": 1,
   "metadata": {
    "ExecuteTime": {
     "end_time": "2021-05-17T18:48:50.014355Z",
     "start_time": "2021-05-17T18:48:49.268201Z"
    },
    "id": "wcvZdPTWCoJk"
   },
   "outputs": [],
   "source": [
    "import os\n",
    "\n",
    "import pandas as pd\n",
    "import numpy as np\n",
    "np.random.seed(24)\n",
    "# Set for displaying prediction probability for later\n",
    "np.set_printoptions(precision=6, suppress=True)  # if absolute value < 1e-4, set equal to 0\n",
    "\n",
    "import matplotlib.pyplot as plt\n",
    "%matplotlib inline\n",
    "import seaborn as sns"
   ]
  },
  {
   "cell_type": "code",
   "execution_count": 2,
   "metadata": {
    "id": "bgC--C5VCyh2"
   },
   "outputs": [],
   "source": [
    "from google.colab import drive"
   ]
  },
  {
   "cell_type": "code",
   "execution_count": 4,
   "metadata": {
    "ExecuteTime": {
     "end_time": "2021-05-17T18:48:52.539930Z",
     "start_time": "2021-05-17T18:48:50.016139Z"
    },
    "id": "6D2ChJhICoJl"
   },
   "outputs": [],
   "source": [
    "from tensorflow import random\n",
    "random.set_seed(24)\n",
    "from tensorflow.keras.preprocessing.image import ImageDataGenerator, array_to_img, img_to_array, load_img\n",
    "\n",
    "from tensorflow.keras import models\n",
    "from tensorflow.keras import layers\n",
    "from tensorflow.keras import regularizers\n",
    "# from tensorflow.keras import optimizers\n",
    "from tensorflow.keras.callbacks import EarlyStopping, ModelCheckpoint\n",
    "from tensorflow.keras.models import load_model\n",
    "\n",
    "from sklearn.model_selection import GridSearchCV\n",
    "from sklearn.metrics import confusion_matrix, classification_report\n",
    "\n",
    "# Implementation of the scikit-learn classifier API for Keras\n",
    "from keras.wrappers.scikit_learn import KerasClassifier"
   ]
  },
  {
   "cell_type": "code",
   "execution_count": 5,
   "metadata": {
    "colab": {
     "base_uri": "https://localhost:8080/"
    },
    "id": "bsaFeGfNC5BX",
    "outputId": "5358684a-7368-48e2-f9e7-cddf24e9f735"
   },
   "outputs": [
    {
     "name": "stdout",
     "output_type": "stream",
     "text": [
      "Mounted at /gdrive\n"
     ]
    }
   ],
   "source": [
    "# Mount Google Drive\n",
    "drive.mount('/gdrive', force_remount=True)"
   ]
  },
  {
   "cell_type": "code",
   "execution_count": 6,
   "metadata": {
    "colab": {
     "base_uri": "https://localhost:8080/"
    },
    "id": "QSzNraq0YaUu",
    "outputId": "d9b03d88-afa7-486b-ce82-d9e638268f0b"
   },
   "outputs": [
    {
     "name": "stdout",
     "output_type": "stream",
     "text": [
      "/content\n"
     ]
    }
   ],
   "source": [
    "# Get the current working directory\n",
    "print(os.getcwd())"
   ]
  },
  {
   "cell_type": "code",
   "execution_count": 7,
   "metadata": {
    "id": "aSaoe_ucJBRv"
   },
   "outputs": [],
   "source": [
    "# Drive path is the path where I upload the zip file\n",
    "drive_path = '/gdrive/MyDrive/chest_xray.zip'\n",
    "\n",
    "# Expect to move the zip file into the local path\n",
    "local_path = '/content'"
   ]
  },
  {
   "cell_type": "code",
   "execution_count": 8,
   "metadata": {
    "id": "deZVGXnpJRs5"
   },
   "outputs": [],
   "source": [
    "# Copy the file in drive path\n",
    "!cp '{drive_path}' .\n",
    "\n",
    "# Change the file from drive path to the local path\n",
    "os.chdir(local_path)\n",
    "\n",
    "# Unzip the file\n",
    "!unzip -q 'chest_xray.zip'"
   ]
  },
  {
   "cell_type": "code",
   "execution_count": 9,
   "metadata": {
    "ExecuteTime": {
     "end_time": "2021-05-17T18:48:52.568335Z",
     "start_time": "2021-05-17T18:48:52.542327Z"
    },
    "colab": {
     "base_uri": "https://localhost:8080/"
    },
    "id": "pmsnQ3I8CoJl",
    "outputId": "f851fb29-8de8-488b-a72b-bc45001bc7a4"
   },
   "outputs": [
    {
     "name": "stdout",
     "output_type": "stream",
     "text": [
      "Train Normal: 1341\n",
      "Train Pneumonia: 3875\n",
      "Train Total: 5216\n",
      "\n",
      "Test Normal: 234\n",
      "Test Pneumonia: 390\n",
      "Test Total: 624\n",
      "\n",
      "Val Normal: 8\n",
      "Val Pneumonia: 8\n",
      "Val Total: 16\n"
     ]
    }
   ],
   "source": [
    "# Check the number of images in each sub-folders\n",
    "\n",
    "# Train\n",
    "train_normal = '/content/chest_xray/train/NORMAL'\n",
    "train_pneumonia = '/content/chest_xray/train/PNEUMONIA'\n",
    "\n",
    "print(\"Train Normal:\", len(os.listdir(train_normal)))\n",
    "print(\"Train Pneumonia:\", len(os.listdir(train_pneumonia)))\n",
    "print(\"Train Total:\", len(os.listdir(train_normal)) + len(os.listdir(train_pneumonia)))\n",
    "\n",
    "# Test\n",
    "test_normal = '/content/chest_xray/test/NORMAL'\n",
    "test_pneumonia = '/content/chest_xray/test/PNEUMONIA'\n",
    "\n",
    "print(\"\\nTest Normal:\", len(os.listdir(test_normal)))\n",
    "print(\"Test Pneumonia:\", len(os.listdir(test_pneumonia)))\n",
    "print(\"Test Total:\", len(os.listdir(test_normal)) + len(os.listdir(test_pneumonia)))\n",
    "\n",
    "# Validation\n",
    "val_normal = '/content/chest_xray/val/NORMAL'\n",
    "val_pneumonia = '/content/chest_xray/val/PNEUMONIA'\n",
    "\n",
    "print(\"\\nVal Normal:\", len(os.listdir(val_normal)))\n",
    "print(\"Val Pneumonia:\", len(os.listdir(val_pneumonia)))\n",
    "print(\"Val Total:\", len(os.listdir(val_normal)) + len(os.listdir(val_pneumonia)))"
   ]
  },
  {
   "cell_type": "code",
   "execution_count": 10,
   "metadata": {
    "ExecuteTime": {
     "end_time": "2021-05-17T18:48:52.573099Z",
     "start_time": "2021-05-17T18:48:52.570517Z"
    },
    "id": "mUxwLHOoCoJm"
   },
   "outputs": [],
   "source": [
    "# Create file directory\n",
    "train_dir = '/content/chest_xray/train'\n",
    "test_dir = '/content/chest_xray/test'\n",
    "val_dir = '/content/chest_xray/val'"
   ]
  },
  {
   "cell_type": "code",
   "execution_count": 11,
   "metadata": {
    "ExecuteTime": {
     "end_time": "2021-05-17T18:48:53.113048Z",
     "start_time": "2021-05-17T18:48:52.574761Z"
    },
    "colab": {
     "base_uri": "https://localhost:8080/"
    },
    "id": "MRW08O_qCoJm",
    "outputId": "dda59863-6bd6-4c21-d043-a8159cf31413"
   },
   "outputs": [
    {
     "name": "stdout",
     "output_type": "stream",
     "text": [
      "Found 5216 images belonging to 2 classes.\n",
      "Found 624 images belonging to 2 classes.\n",
      "Found 16 images belonging to 2 classes.\n"
     ]
    }
   ],
   "source": [
    "# Create data generator\n",
    "# Get all the train data (5216), test data (624), validation data (16) in the corresponding directory\n",
    "# Scale data\n",
    "# Set each image to 128×128 px\n",
    "# Set binary class mode\n",
    "\n",
    "train_generator = ImageDataGenerator(rescale=1./255)\\\n",
    "                  .flow_from_directory(train_dir, target_size=(128,128), batch_size=5216, class_mode='binary')\n",
    "\n",
    "test_generator = ImageDataGenerator(rescale=1./255)\\\n",
    "                 .flow_from_directory(test_dir, target_size=(128,128), batch_size=624, class_mode='binary') \n",
    "\n",
    "val_generator = ImageDataGenerator(rescale=1./255)\\\n",
    "                .flow_from_directory(val_dir, target_size=(128,128), batch_size=16, class_mode='binary') "
   ]
  },
  {
   "cell_type": "code",
   "execution_count": 12,
   "metadata": {
    "id": "SJOlGFSVLU1D"
   },
   "outputs": [],
   "source": [
    "# Create the data sets\n",
    "# next - retrieve the next item from iterator\n",
    "X_train, y_train = next(train_generator)\n",
    "X_test, y_test = next(test_generator)\n",
    "X_val, y_val = next(val_generator)"
   ]
  },
  {
   "cell_type": "code",
   "execution_count": 13,
   "metadata": {
    "ExecuteTime": {
     "end_time": "2021-05-17T18:49:35.765879Z",
     "start_time": "2021-05-17T18:49:35.761731Z"
    },
    "colab": {
     "base_uri": "https://localhost:8080/"
    },
    "id": "_w9vyc2gCoJn",
    "outputId": "60cdc1fb-6882-43a0-f612-205118830744"
   },
   "outputs": [
    {
     "name": "stdout",
     "output_type": "stream",
     "text": [
      "X_train shape: (5216, 128, 128, 3)\n",
      "y_train shape: (5216,)\n",
      "\n",
      "X_test shape: (624, 128, 128, 3)\n",
      "y_test shape: (624,)\n",
      "\n",
      "X_val shape: (16, 128, 128, 3)\n",
      "y_val shape: (16,)\n"
     ]
    }
   ],
   "source": [
    "# Check the shape\n",
    "print (\"X_train shape: \" + str(X_train.shape))\n",
    "print (\"y_train shape: \" + str(y_train.shape))\n",
    "\n",
    "print (\"\\nX_test shape: \" + str(X_test.shape))\n",
    "print (\"y_test shape: \" + str(y_test.shape))\n",
    "\n",
    "print (\"\\nX_val shape: \" + str(X_val.shape))\n",
    "print (\"y_val shape: \" + str(y_val.shape))"
   ]
  },
  {
   "cell_type": "code",
   "execution_count": 14,
   "metadata": {
    "ExecuteTime": {
     "end_time": "2021-05-17T18:49:35.772794Z",
     "start_time": "2021-05-17T18:49:35.768726Z"
    },
    "colab": {
     "base_uri": "https://localhost:8080/"
    },
    "id": "_RsUXDdCCoJn",
    "outputId": "400742c3-2168-4a70-c8af-6437ff2664e4"
   },
   "outputs": [
    {
     "data": {
      "text/plain": [
       "{'NORMAL': 0, 'PNEUMONIA': 1}"
      ]
     },
     "execution_count": 14,
     "metadata": {
      "tags": []
     },
     "output_type": "execute_result"
    }
   ],
   "source": [
    "# Check if the binary indicator was correctly labeled\n",
    "train_generator.class_indices"
   ]
  },
  {
   "cell_type": "code",
   "execution_count": 15,
   "metadata": {
    "ExecuteTime": {
     "end_time": "2021-05-17T18:49:35.779628Z",
     "start_time": "2021-05-17T18:49:35.774483Z"
    },
    "colab": {
     "base_uri": "https://localhost:8080/"
    },
    "id": "snIKCA5ACoJn",
    "outputId": "677703f5-8017-44ba-bee2-401744c6041d"
   },
   "outputs": [
    {
     "name": "stdout",
     "output_type": "stream",
     "text": [
      "[1, 3, 5, 6, 8, 9, 12, 14]\n",
      "[0, 2, 4, 7, 10, 11, 13, 15]\n"
     ]
    }
   ],
   "source": [
    "# Create two lists for storing the image number from validation set\n",
    "normal_img_num = []\n",
    "pneumonia_img_num = []\n",
    "\n",
    "# Validation set only contains 16 images\n",
    "# target label = 0 means normal\n",
    "# target label = 1 means pneumonis\n",
    "\n",
    "numbers = list(range(0,16))\n",
    "for num in numbers:\n",
    "    \n",
    "    if y_val[num] == 0:\n",
    "        normal_img_num.append(num)\n",
    "    \n",
    "    else:\n",
    "        pneumonia_img_num.append(num)\n",
    "\n",
    "print(normal_img_num)\n",
    "print(pneumonia_img_num)"
   ]
  },
  {
   "cell_type": "code",
   "execution_count": 16,
   "metadata": {
    "ExecuteTime": {
     "end_time": "2021-05-17T18:50:10.689163Z",
     "start_time": "2021-05-17T18:50:10.398837Z"
    },
    "colab": {
     "base_uri": "https://localhost:8080/",
     "height": 352
    },
    "id": "som0l4GgCoJo",
    "outputId": "db065c76-bfe7-414a-d559-38d9b57c1b91"
   },
   "outputs": [
    {
     "name": "stdout",
     "output_type": "stream",
     "text": [
      "0.0\n",
      "1.0\n"
     ]
    },
    {
     "data": {
      "image/png": "[encoded data removed]",
      "text/plain": [
       "<Figure size 720x720 with 2 Axes>"
      ]
     },
     "metadata": {
      "needs_background": "light",
      "tags": []
     },
     "output_type": "display_data"
    }
   ],
   "source": [
    "# Plot one image from each list \n",
    "# Choose the 1st image from each list\n",
    "fig = plt.figure(figsize=(10,10))\n",
    "n = 0\n",
    "\n",
    "# Normal\n",
    "ax1 = fig.add_subplot(121)\n",
    "plt.imshow(X_val[normal_img_num[n]])\n",
    "print(y_val[normal_img_num[n]])\n",
    "plt.title(\"Normal\");\n",
    "\n",
    "# Pneumonia\n",
    "ax2 = fig.add_subplot(122)\n",
    "plt.imshow(X_val[pneumonia_img_num[n]])\n",
    "print(y_val[pneumonia_img_num[n]])\n",
    "plt.title(\"Pneumonia\");"
   ]
  },
  {
   "cell_type": "code",
   "execution_count": 17,
   "metadata": {
    "ExecuteTime": {
     "end_time": "2021-05-17T18:50:24.674571Z",
     "start_time": "2021-05-17T18:50:24.664665Z"
    },
    "id": "vZT3x_5eCoJo"
   },
   "outputs": [],
   "source": [
    "def visualize_training_results(history):\n",
    "    '''\n",
    "    Input: keras history object \n",
    "    \n",
    "    '''\n",
    "    \n",
    "    fig, (ax1, ax2) = plt.subplots(2, sharex=True)\n",
    "    fig.suptitle('Model Results')\n",
    "\n",
    "    # summarize history for accuracy\n",
    "    ax1.plot(history.history['accuracy'])\n",
    "    ax1.plot(history.history['val_accuracy'])\n",
    "    ax1.set_ylabel('Accuracy')\n",
    "    ax1.legend(['train', 'test'], loc='upper left')\n",
    "    \n",
    "    # summarize history for loss\n",
    "    ax2.plot(history.history['loss'])\n",
    "    ax2.plot(history.history['val_loss'])\n",
    "    ax2.set_ylabel('Loss')\n",
    "    ax2.legend(['train', 'test'], loc='upper left')\n",
    "    \n",
    "    plt.xlabel('Epoch')\n",
    "    plt.show()"
   ]
  },
  {
   "cell_type": "code",
   "execution_count": 18,
   "metadata": {
    "ExecuteTime": {
     "end_time": "2021-05-17T18:50:30.323245Z",
     "start_time": "2021-05-17T18:50:30.306115Z"
    },
    "id": "lMkhGc9fCoJo"
   },
   "outputs": [],
   "source": [
    "def model_evaluation(model):\n",
    "    '''\n",
    "    Input: keras model\n",
    "    \n",
    "    Append accuracy results\n",
    "    \n",
    "    Plot confusion matrix\n",
    "    '''\n",
    "    \n",
    "    train_acc = []\n",
    "    test_acc = []\n",
    "    \n",
    "    # Train loss and accuracy\n",
    "    result_train = model.evaluate(X_train, y_train)\n",
    "    print(f'Training Loss:{result_train[0]:.4}')\n",
    "    print(f'Training Accuracy:{result_train[1]:.4}')\n",
    "    train_acc.append(round(result_train[1], 4))\n",
    "    \n",
    "    # Test loss and accuracy\n",
    "    result_test = model.evaluate(X_test, y_test)\n",
    "    print(f'Test Loss:{result_test[0]:.4}')\n",
    "    print(f'Test Accuracy:{result_test[1]:.4}')\n",
    "    test_acc.append(round(result_test[1], 4))\n",
    "    \n",
    "    # Prediction\n",
    "    y_test_pred = (model.predict(X_test) > 0.5).astype(\"int32\")\n",
    "    \n",
    "    # Plot confusion matrix\n",
    "    cm = confusion_matrix(y_test, y_test_pred)\n",
    "    ax = sns.heatmap(cm, annot=True, cmap='Blues', fmt='d')\n",
    "    ax.set_ylim(2,0)\n",
    "    plt.xlabel('Predictions')\n",
    "    plt.ylabel('Actuals')\n",
    "    plt.show()\n",
    "    \n",
    "    # Classification Report\n",
    "    print(classification_report(y_test, y_test_pred))\n",
    "    \n",
    "    return train_acc, test_acc"
   ]
  },
  {
   "cell_type": "markdown",
   "metadata": {
    "id": "_5nRRLuYCoJp"
   },
   "source": [
    "### Note:\n",
    "- Since the <u>*validation set*</u> contains much less data than the <u>*test set*</u>, I will use the <u>*test set*</u> as my validation during the model fit step\n",
    "- <u>*validation set*</u> will be used as true holdout which only use at the end \n",
    "\n",
    "### Problem of small validation set\n",
    "- If the validation set contains much less data than training set, the validation curves (accuracy and loss) will be spiky before convergence. In other words, more epochs and longer training time will be required"
   ]
  },
  {
   "cell_type": "markdown",
   "metadata": {
    "id": "opYqIOuxCoJp"
   },
   "source": [
    "## IV. Modeling"
   ]
  },
  {
   "cell_type": "markdown",
   "metadata": {
    "id": "yycCf9_vCoJp"
   },
   "source": [
    "### CNN Baseline Model"
   ]
  },
  {
   "cell_type": "code",
   "execution_count": 19,
   "metadata": {
    "ExecuteTime": {
     "end_time": "2021-05-13T23:28:07.696452Z",
     "start_time": "2021-05-13T23:28:07.595950Z"
    },
    "id": "Dc0AEldoCoJp"
   },
   "outputs": [],
   "source": [
    "base_model = models.Sequential()\n",
    "base_model.add(layers.Conv2D(32, (3, 3), activation='relu', input_shape=X_train.shape[1:]))\n",
    "base_model.add(layers.MaxPooling2D((2, 2)))\n",
    "\n",
    "base_model.add(layers.Conv2D(64, (3, 3), activation='relu'))\n",
    "base_model.add(layers.MaxPooling2D((2, 2)))\n",
    "\n",
    "base_model.add(layers.Conv2D(128, (3, 3), activation='relu'))\n",
    "base_model.add(layers.MaxPooling2D((2, 2)))\n",
    "\n",
    "base_model.add(layers.Flatten())\n",
    "base_model.add(layers.Dense(128, activation='relu'))\n",
    "base_model.add(layers.Dense(1, activation='sigmoid'))\n",
    "\n",
    "base_model.compile(optimizer='adam',\n",
    "                   loss='binary_crossentropy',\n",
    "                   metrics=['accuracy'])"
   ]
  },
  {
   "cell_type": "code",
   "execution_count": 21,
   "metadata": {
    "ExecuteTime": {
     "end_time": "2021-05-14T00:27:53.313068Z",
     "start_time": "2021-05-13T23:28:07.698384Z"
    },
    "colab": {
     "base_uri": "https://localhost:8080/"
    },
    "id": "LH7InrWbCoJp",
    "outputId": "f8a6be08-3dea-4e55-db0f-34502990583d",
    "scrolled": false
   },
   "outputs": [
    {
     "name": "stdout",
     "output_type": "stream",
     "text": [
      "Epoch 1/50\n",
      "163/163 [==============================] - 3s 16ms/step - loss: 0.2261 - accuracy: 0.9089 - val_loss: 0.7923 - val_accuracy: 0.7564\n",
      "Epoch 2/50\n",
      "163/163 [==============================] - 2s 14ms/step - loss: 0.0990 - accuracy: 0.9649 - val_loss: 0.6141 - val_accuracy: 0.7837\n",
      "Epoch 3/50\n",
      "163/163 [==============================] - 2s 14ms/step - loss: 0.0956 - accuracy: 0.9655 - val_loss: 1.0894 - val_accuracy: 0.7452\n",
      "Epoch 4/50\n",
      "163/163 [==============================] - 2s 14ms/step - loss: 0.0782 - accuracy: 0.9709 - val_loss: 0.8628 - val_accuracy: 0.7997\n",
      "Epoch 5/50\n",
      "163/163 [==============================] - 2s 14ms/step - loss: 0.0552 - accuracy: 0.9799 - val_loss: 1.0802 - val_accuracy: 0.7772\n",
      "Epoch 6/50\n",
      "163/163 [==============================] - 2s 14ms/step - loss: 0.0451 - accuracy: 0.9839 - val_loss: 1.6465 - val_accuracy: 0.7308\n",
      "Epoch 7/50\n",
      "163/163 [==============================] - 2s 14ms/step - loss: 0.0313 - accuracy: 0.9893 - val_loss: 1.3960 - val_accuracy: 0.7724\n",
      "Epoch 8/50\n",
      "163/163 [==============================] - 2s 14ms/step - loss: 0.0301 - accuracy: 0.9868 - val_loss: 2.6004 - val_accuracy: 0.7051\n",
      "Epoch 9/50\n",
      "163/163 [==============================] - 2s 14ms/step - loss: 0.0264 - accuracy: 0.9904 - val_loss: 1.5929 - val_accuracy: 0.7372\n",
      "Epoch 10/50\n",
      "163/163 [==============================] - 2s 14ms/step - loss: 0.0265 - accuracy: 0.9902 - val_loss: 1.4026 - val_accuracy: 0.7949\n",
      "Epoch 11/50\n",
      "163/163 [==============================] - 2s 14ms/step - loss: 0.0216 - accuracy: 0.9914 - val_loss: 2.6177 - val_accuracy: 0.7147\n",
      "Epoch 12/50\n",
      "163/163 [==============================] - 2s 14ms/step - loss: 0.0048 - accuracy: 0.9987 - val_loss: 2.0812 - val_accuracy: 0.7724\n",
      "Epoch 13/50\n",
      "163/163 [==============================] - 2s 14ms/step - loss: 0.0118 - accuracy: 0.9952 - val_loss: 2.4069 - val_accuracy: 0.7372\n",
      "Epoch 14/50\n",
      "163/163 [==============================] - 2s 14ms/step - loss: 0.0140 - accuracy: 0.9946 - val_loss: 2.1579 - val_accuracy: 0.7804\n",
      "Epoch 15/50\n",
      "163/163 [==============================] - 2s 14ms/step - loss: 0.0083 - accuracy: 0.9973 - val_loss: 3.1964 - val_accuracy: 0.7147\n",
      "Epoch 16/50\n",
      "163/163 [==============================] - 2s 14ms/step - loss: 0.0098 - accuracy: 0.9962 - val_loss: 2.4932 - val_accuracy: 0.7372\n",
      "Epoch 17/50\n",
      "163/163 [==============================] - 2s 14ms/step - loss: 0.0029 - accuracy: 0.9992 - val_loss: 3.2410 - val_accuracy: 0.7468\n",
      "Epoch 18/50\n",
      "163/163 [==============================] - 2s 14ms/step - loss: 6.3038e-04 - accuracy: 1.0000 - val_loss: 3.8321 - val_accuracy: 0.7356\n",
      "Epoch 19/50\n",
      "163/163 [==============================] - 2s 14ms/step - loss: 1.7310e-04 - accuracy: 1.0000 - val_loss: 3.8901 - val_accuracy: 0.7484\n",
      "Epoch 20/50\n",
      "163/163 [==============================] - 2s 14ms/step - loss: 6.1299e-05 - accuracy: 1.0000 - val_loss: 4.1476 - val_accuracy: 0.7404\n",
      "Epoch 21/50\n",
      "163/163 [==============================] - 2s 14ms/step - loss: 4.3607e-05 - accuracy: 1.0000 - val_loss: 4.2381 - val_accuracy: 0.7420\n",
      "Epoch 22/50\n",
      "163/163 [==============================] - 2s 15ms/step - loss: 3.4000e-05 - accuracy: 1.0000 - val_loss: 4.3793 - val_accuracy: 0.7404\n",
      "Epoch 23/50\n",
      "163/163 [==============================] - 2s 14ms/step - loss: 2.8491e-05 - accuracy: 1.0000 - val_loss: 4.4501 - val_accuracy: 0.7388\n",
      "Epoch 24/50\n",
      "163/163 [==============================] - 2s 14ms/step - loss: 2.3818e-05 - accuracy: 1.0000 - val_loss: 4.5332 - val_accuracy: 0.7388\n",
      "Epoch 25/50\n",
      "163/163 [==============================] - 2s 14ms/step - loss: 2.0147e-05 - accuracy: 1.0000 - val_loss: 4.5926 - val_accuracy: 0.7388\n",
      "Epoch 26/50\n",
      "163/163 [==============================] - 2s 14ms/step - loss: 1.7312e-05 - accuracy: 1.0000 - val_loss: 4.6286 - val_accuracy: 0.7404\n",
      "Epoch 27/50\n",
      "163/163 [==============================] - 2s 14ms/step - loss: 1.5176e-05 - accuracy: 1.0000 - val_loss: 4.7259 - val_accuracy: 0.7388\n",
      "Epoch 28/50\n",
      "163/163 [==============================] - 2s 14ms/step - loss: 1.3310e-05 - accuracy: 1.0000 - val_loss: 4.8061 - val_accuracy: 0.7388\n",
      "Epoch 29/50\n",
      "163/163 [==============================] - 2s 14ms/step - loss: 1.1797e-05 - accuracy: 1.0000 - val_loss: 4.8514 - val_accuracy: 0.7388\n",
      "Epoch 30/50\n",
      "163/163 [==============================] - 2s 15ms/step - loss: 1.0323e-05 - accuracy: 1.0000 - val_loss: 4.8553 - val_accuracy: 0.7436\n",
      "Epoch 31/50\n",
      "163/163 [==============================] - 2s 14ms/step - loss: 9.2939e-06 - accuracy: 1.0000 - val_loss: 4.9489 - val_accuracy: 0.7388\n",
      "Epoch 32/50\n",
      "163/163 [==============================] - 2s 14ms/step - loss: 8.1509e-06 - accuracy: 1.0000 - val_loss: 5.0174 - val_accuracy: 0.7404\n",
      "Epoch 33/50\n",
      "163/163 [==============================] - 2s 14ms/step - loss: 7.4116e-06 - accuracy: 1.0000 - val_loss: 5.0576 - val_accuracy: 0.7404\n",
      "Epoch 34/50\n",
      "163/163 [==============================] - 2s 14ms/step - loss: 6.5453e-06 - accuracy: 1.0000 - val_loss: 5.0294 - val_accuracy: 0.7436\n",
      "Epoch 35/50\n",
      "163/163 [==============================] - 2s 14ms/step - loss: 5.9238e-06 - accuracy: 1.0000 - val_loss: 5.1778 - val_accuracy: 0.7388\n",
      "Epoch 36/50\n",
      "163/163 [==============================] - 2s 14ms/step - loss: 5.2952e-06 - accuracy: 1.0000 - val_loss: 5.1739 - val_accuracy: 0.7436\n",
      "Epoch 37/50\n",
      "163/163 [==============================] - 2s 14ms/step - loss: 4.8458e-06 - accuracy: 1.0000 - val_loss: 5.2719 - val_accuracy: 0.7404\n",
      "Epoch 38/50\n",
      "163/163 [==============================] - 2s 14ms/step - loss: 4.3354e-06 - accuracy: 1.0000 - val_loss: 5.3090 - val_accuracy: 0.7404\n",
      "Epoch 39/50\n",
      "163/163 [==============================] - 2s 14ms/step - loss: 3.9314e-06 - accuracy: 1.0000 - val_loss: 5.3062 - val_accuracy: 0.7436\n",
      "Epoch 40/50\n",
      "163/163 [==============================] - 2s 14ms/step - loss: 3.5954e-06 - accuracy: 1.0000 - val_loss: 5.3721 - val_accuracy: 0.7436\n",
      "Epoch 41/50\n",
      "163/163 [==============================] - 2s 14ms/step - loss: 3.2175e-06 - accuracy: 1.0000 - val_loss: 5.3729 - val_accuracy: 0.7436\n",
      "Epoch 42/50\n",
      "163/163 [==============================] - 2s 15ms/step - loss: 2.9289e-06 - accuracy: 1.0000 - val_loss: 5.4802 - val_accuracy: 0.7436\n",
      "Epoch 43/50\n",
      "163/163 [==============================] - 2s 14ms/step - loss: 2.6474e-06 - accuracy: 1.0000 - val_loss: 5.5116 - val_accuracy: 0.7436\n",
      "Epoch 44/50\n",
      "163/163 [==============================] - 2s 14ms/step - loss: 2.4617e-06 - accuracy: 1.0000 - val_loss: 5.5296 - val_accuracy: 0.7468\n",
      "Epoch 45/50\n",
      "163/163 [==============================] - 2s 14ms/step - loss: 2.2042e-06 - accuracy: 1.0000 - val_loss: 5.6055 - val_accuracy: 0.7436\n",
      "Epoch 46/50\n",
      "163/163 [==============================] - 2s 14ms/step - loss: 1.9897e-06 - accuracy: 1.0000 - val_loss: 5.6916 - val_accuracy: 0.7420\n",
      "Epoch 47/50\n",
      "163/163 [==============================] - 2s 14ms/step - loss: 1.8439e-06 - accuracy: 1.0000 - val_loss: 5.7018 - val_accuracy: 0.7420\n",
      "Epoch 48/50\n",
      "163/163 [==============================] - 2s 14ms/step - loss: 1.6957e-06 - accuracy: 1.0000 - val_loss: 5.7144 - val_accuracy: 0.7420\n",
      "Epoch 49/50\n",
      "163/163 [==============================] - 2s 14ms/step - loss: 1.5058e-06 - accuracy: 1.0000 - val_loss: 5.7441 - val_accuracy: 0.7468\n",
      "Epoch 50/50\n",
      "163/163 [==============================] - 2s 14ms/step - loss: 1.3848e-06 - accuracy: 1.0000 - val_loss: 5.7993 - val_accuracy: 0.7468\n"
     ]
    }
   ],
   "source": [
    "base_history = base_model.fit(X_train, y_train,\n",
    "                              epochs=50,\n",
    "                              batch_size=32,\n",
    "                              validation_data=(X_test, y_test))"
   ]
  },
  {
   "cell_type": "code",
   "execution_count": 22,
   "metadata": {
    "ExecuteTime": {
     "end_time": "2021-05-14T00:27:53.600904Z",
     "start_time": "2021-05-14T00:27:53.315099Z"
    },
    "colab": {
     "base_uri": "https://localhost:8080/",
     "height": 308
    },
    "id": "jv0T-0LvCoJq",
    "outputId": "90f551bb-fdfd-4231-9b1a-9061390a8fc0",
    "scrolled": true
   },
   "outputs": [
    {
     "data": {
      "image/png": "[encoded data removed]",
      "text/plain": [
       "<Figure size 432x288 with 2 Axes>"
      ]
     },
     "metadata": {
      "needs_background": "light",
      "tags": []
     },
     "output_type": "display_data"
    }
   ],
   "source": [
    "visualize_training_results(base_history)"
   ]
  },
  {
   "cell_type": "code",
   "execution_count": 23,
   "metadata": {
    "ExecuteTime": {
     "end_time": "2021-05-14T00:27:53.657376Z",
     "start_time": "2021-05-14T00:27:53.602968Z"
    },
    "id": "hyGLmFJVCoJq"
   },
   "outputs": [],
   "source": [
    "base_model.save('/content/saved_models/base_model.h5')"
   ]
  },
  {
   "cell_type": "code",
   "execution_count": 24,
   "metadata": {
    "ExecuteTime": {
     "end_time": "2021-05-14T01:07:33.197633Z",
     "start_time": "2021-05-14T01:07:18.964715Z"
    },
    "colab": {
     "base_uri": "https://localhost:8080/",
     "height": 551
    },
    "id": "wi4NkWnZCoJq",
    "outputId": "58beb179-7d61-435a-e2f9-fa0a19a38028"
   },
   "outputs": [
    {
     "name": "stdout",
     "output_type": "stream",
     "text": [
      "163/163 [==============================] - 1s 7ms/step - loss: 1.2432e-06 - accuracy: 1.0000\n",
      "Training Loss:1.243e-06\n",
      "Training Accuracy:1.0\n",
      "20/20 [==============================] - 0s 9ms/step - loss: 5.7993 - accuracy: 0.7468\n",
      "Test Loss:5.799\n",
      "Test Accuracy:0.7468\n"
     ]
    },
    {
     "data": {
      "image/png": "[encoded data removed]",
      "text/plain": [
       "<Figure size 432x288 with 2 Axes>"
      ]
     },
     "metadata": {
      "needs_background": "light",
      "tags": []
     },
     "output_type": "display_data"
    },
    {
     "name": "stdout",
     "output_type": "stream",
     "text": [
      "              precision    recall  f1-score   support\n",
      "\n",
      "         0.0       0.97      0.33      0.50       234\n",
      "         1.0       0.71      0.99      0.83       390\n",
      "\n",
      "    accuracy                           0.75       624\n",
      "   macro avg       0.84      0.66      0.66       624\n",
      "weighted avg       0.81      0.75      0.71       624\n",
      "\n"
     ]
    },
    {
     "data": {
      "text/plain": [
       "([1.0], [0.7468])"
      ]
     },
     "execution_count": 24,
     "metadata": {
      "tags": []
     },
     "output_type": "execute_result"
    }
   ],
   "source": [
    "base = load_model('/content/saved_models/base_model.h5')\n",
    "bm = model_evaluation(base)\n",
    "bm"
   ]
  },
  {
   "cell_type": "markdown",
   "metadata": {
    "id": "H6oiu2U7CoJq"
   },
   "source": [
    ">**Comment:** *Baseline Model*\n",
    "- The CNN baseline model took more than 40 minutes to run\n",
    "- The train accuracy (100%) is higher than val accuracy (0.753) which indicates that the baseline model is overfit\n",
    "- The accuracy plot shows that test accuracy reaches convergence after 20 epochs \n",
    "- The loss plot shows that test loss still increase after 20 epochs\n",
    "- Early stopping can be used for iteration model tunning to prevent overfit and saving time\n",
    "- There are more false positive than false negative"
   ]
  },
  {
   "cell_type": "markdown",
   "metadata": {
    "id": "ohMjYCVzYaU0"
   },
   "source": [
    "### Early Stopping"
   ]
  },
  {
   "cell_type": "code",
   "execution_count": 25,
   "metadata": {
    "id": "O2AtKeH8YaU0"
   },
   "outputs": [],
   "source": [
    "# Early Stopping\n",
    "es = EarlyStopping(monitor='val_accuracy', mode='max', verbose=1, patience=6)"
   ]
  },
  {
   "cell_type": "markdown",
   "metadata": {
    "id": "XwgNtwvPYaU0"
   },
   "source": [
    "### Solve Overfitting Technique\n",
    "1. Dropout\n",
    "2. Regularization, L1, L2, L1+L2"
   ]
  },
  {
   "cell_type": "markdown",
   "metadata": {
    "id": "LZvn1RztYaU1"
   },
   "source": [
    "### Grid Search for dropout %"
   ]
  },
  {
   "cell_type": "code",
   "execution_count": 31,
   "metadata": {
    "id": "TTMhjxKFYaU2"
   },
   "outputs": [],
   "source": [
    "def dropout_model(percent):\n",
    "    model = models.Sequential()\n",
    "    model.add(layers.Conv2D(32, (3, 3), activation='relu', input_shape=X_train.shape[1:]))\n",
    "    model.add(layers.MaxPooling2D((2, 2)))\n",
    "    model.add(layers.Dropout(percent))\n",
    "\n",
    "    model.add(layers.Conv2D(64, (3, 3), activation='relu'))\n",
    "    model.add(layers.MaxPooling2D((2, 2)))\n",
    "    model.add(layers.Dropout(percent))\n",
    "\n",
    "    model.add(layers.Conv2D(128, (3, 3), activation='relu'))\n",
    "    model.add(layers.MaxPooling2D((2, 2)))\n",
    "    model.add(layers.Dropout(percent))\n",
    "\n",
    "    model.add(layers.Flatten())\n",
    "    model.add(layers.Dense(128, activation='relu'))\n",
    "    model.add(layers.Dense(1, activation='sigmoid'))\n",
    "\n",
    "    model.compile(optimizer='adam',\n",
    "                  loss='binary_crossentropy',\n",
    "                  metrics=['accuracy'])\n",
    "    \n",
    "    return model"
   ]
  },
  {
   "cell_type": "markdown",
   "metadata": {
    "id": "mMPfLjcIYaU2"
   },
   "source": [
    "https://faroit.com/keras-docs/1.0.6/scikit-learn-api/"
   ]
  },
  {
   "cell_type": "code",
   "execution_count": 32,
   "metadata": {
    "id": "uLf3KgmIYaU2"
   },
   "outputs": [],
   "source": [
    "# Wrapper\n",
    "DP_model = KerasClassifier(build_fn=dropout_model)"
   ]
  },
  {
   "cell_type": "code",
   "execution_count": 33,
   "metadata": {
    "id": "aENvnXIWYaU2"
   },
   "outputs": [],
   "source": [
    "# parameter grid\n",
    "dp_param_grid = {'percent': [0.2, 0.3, 0.4, 0.5]}\n",
    "\n",
    "DP_grid = GridSearchCV(DP_model, param_grid=dp_param_grid, cv=3)"
   ]
  },
  {
   "cell_type": "code",
   "execution_count": 34,
   "metadata": {
    "colab": {
     "base_uri": "https://localhost:8080/"
    },
    "id": "pDh_Qcs_YaU2",
    "outputId": "0f677351-b334-4ca6-b06e-d27f0f391b84",
    "scrolled": false
   },
   "outputs": [
    {
     "name": "stdout",
     "output_type": "stream",
     "text": [
      "Epoch 1/50\n",
      "109/109 [==============================] - 3s 20ms/step - loss: 0.6244 - accuracy: 0.7551 - val_loss: 0.6548 - val_accuracy: 0.7420\n",
      "Epoch 2/50\n",
      "109/109 [==============================] - 2s 17ms/step - loss: 0.1502 - accuracy: 0.9400 - val_loss: 0.7824 - val_accuracy: 0.7452\n",
      "Epoch 3/50\n",
      "109/109 [==============================] - 2s 17ms/step - loss: 0.1228 - accuracy: 0.9533 - val_loss: 0.6096 - val_accuracy: 0.7724\n",
      "Epoch 4/50\n",
      "109/109 [==============================] - 2s 17ms/step - loss: 0.1168 - accuracy: 0.9528 - val_loss: 0.5453 - val_accuracy: 0.8061\n",
      "Epoch 5/50\n",
      "109/109 [==============================] - 2s 17ms/step - loss: 0.0687 - accuracy: 0.9736 - val_loss: 0.8917 - val_accuracy: 0.7532\n",
      "Epoch 6/50\n",
      "109/109 [==============================] - 2s 16ms/step - loss: 0.0628 - accuracy: 0.9781 - val_loss: 1.1591 - val_accuracy: 0.7388\n",
      "Epoch 7/50\n",
      "109/109 [==============================] - 2s 17ms/step - loss: 0.0573 - accuracy: 0.9761 - val_loss: 1.1737 - val_accuracy: 0.7452\n",
      "Epoch 8/50\n",
      "109/109 [==============================] - 2s 17ms/step - loss: 0.0601 - accuracy: 0.9829 - val_loss: 0.8014 - val_accuracy: 0.7965\n",
      "Epoch 9/50\n",
      "109/109 [==============================] - 2s 17ms/step - loss: 0.0453 - accuracy: 0.9885 - val_loss: 1.0516 - val_accuracy: 0.7772\n",
      "Epoch 10/50\n",
      "109/109 [==============================] - 2s 16ms/step - loss: 0.0401 - accuracy: 0.9860 - val_loss: 0.9495 - val_accuracy: 0.7917\n",
      "Epoch 00010: early stopping\n",
      "55/55 [==============================] - 1s 9ms/step - loss: 0.1010 - accuracy: 0.9689\n",
      "Epoch 1/50\n",
      "109/109 [==============================] - 3s 18ms/step - loss: 0.5536 - accuracy: 0.7664 - val_loss: 0.7684 - val_accuracy: 0.7083\n",
      "Epoch 2/50\n",
      "109/109 [==============================] - 2s 17ms/step - loss: 0.1466 - accuracy: 0.9383 - val_loss: 0.5812 - val_accuracy: 0.7804\n",
      "Epoch 3/50\n",
      "109/109 [==============================] - 2s 16ms/step - loss: 0.1121 - accuracy: 0.9567 - val_loss: 0.4833 - val_accuracy: 0.8189\n",
      "Epoch 4/50\n",
      "109/109 [==============================] - 2s 17ms/step - loss: 0.1126 - accuracy: 0.9588 - val_loss: 1.0019 - val_accuracy: 0.7212\n",
      "Epoch 5/50\n",
      "109/109 [==============================] - 2s 17ms/step - loss: 0.0857 - accuracy: 0.9652 - val_loss: 0.6349 - val_accuracy: 0.7885\n",
      "Epoch 6/50\n",
      "109/109 [==============================] - 2s 17ms/step - loss: 0.0848 - accuracy: 0.9656 - val_loss: 0.8558 - val_accuracy: 0.7644\n",
      "Epoch 7/50\n",
      "109/109 [==============================] - 2s 17ms/step - loss: 0.0632 - accuracy: 0.9788 - val_loss: 0.8726 - val_accuracy: 0.7869\n",
      "Epoch 8/50\n",
      "109/109 [==============================] - 2s 16ms/step - loss: 0.0862 - accuracy: 0.9648 - val_loss: 0.8838 - val_accuracy: 0.7628\n",
      "Epoch 9/50\n",
      "109/109 [==============================] - 2s 17ms/step - loss: 0.0615 - accuracy: 0.9771 - val_loss: 1.1132 - val_accuracy: 0.7724\n",
      "Epoch 00009: early stopping\n",
      "55/55 [==============================] - 1s 8ms/step - loss: 0.0676 - accuracy: 0.9747\n",
      "Epoch 1/50\n",
      "109/109 [==============================] - 3s 19ms/step - loss: 0.5849 - accuracy: 0.7267 - val_loss: 0.3295 - val_accuracy: 0.8638\n",
      "Epoch 2/50\n",
      "109/109 [==============================] - 2s 16ms/step - loss: 0.1521 - accuracy: 0.9385 - val_loss: 0.8025 - val_accuracy: 0.7131\n",
      "Epoch 3/50\n",
      "109/109 [==============================] - 2s 17ms/step - loss: 0.1099 - accuracy: 0.9593 - val_loss: 0.7930 - val_accuracy: 0.7436\n",
      "Epoch 4/50\n",
      "109/109 [==============================] - 2s 17ms/step - loss: 0.0845 - accuracy: 0.9705 - val_loss: 0.5602 - val_accuracy: 0.7997\n",
      "Epoch 5/50\n",
      "109/109 [==============================] - 2s 17ms/step - loss: 0.0778 - accuracy: 0.9692 - val_loss: 0.8660 - val_accuracy: 0.7564\n",
      "Epoch 6/50\n",
      "109/109 [==============================] - 2s 17ms/step - loss: 0.0692 - accuracy: 0.9710 - val_loss: 0.5499 - val_accuracy: 0.8045\n",
      "Epoch 7/50\n",
      "109/109 [==============================] - 2s 17ms/step - loss: 0.0630 - accuracy: 0.9760 - val_loss: 0.7270 - val_accuracy: 0.7837\n",
      "Epoch 00007: early stopping\n",
      "55/55 [==============================] - 1s 9ms/step - loss: 0.0886 - accuracy: 0.9701\n",
      "Epoch 1/50\n",
      "109/109 [==============================] - 3s 19ms/step - loss: 0.7070 - accuracy: 0.6890 - val_loss: 0.5324 - val_accuracy: 0.7484\n",
      "Epoch 2/50\n",
      "109/109 [==============================] - 2s 17ms/step - loss: 0.2164 - accuracy: 0.9079 - val_loss: 0.8334 - val_accuracy: 0.7404\n",
      "Epoch 3/50\n",
      "109/109 [==============================] - 2s 17ms/step - loss: 0.1492 - accuracy: 0.9453 - val_loss: 0.6465 - val_accuracy: 0.7772\n",
      "Epoch 4/50\n",
      "109/109 [==============================] - 2s 17ms/step - loss: 0.1217 - accuracy: 0.9525 - val_loss: 0.8255 - val_accuracy: 0.7724\n",
      "Epoch 5/50\n",
      "109/109 [==============================] - 2s 17ms/step - loss: 0.0888 - accuracy: 0.9663 - val_loss: 0.7869 - val_accuracy: 0.7692\n",
      "Epoch 6/50\n",
      "109/109 [==============================] - 2s 16ms/step - loss: 0.0734 - accuracy: 0.9754 - val_loss: 1.4402 - val_accuracy: 0.7147\n",
      "Epoch 7/50\n",
      "109/109 [==============================] - 2s 16ms/step - loss: 0.0879 - accuracy: 0.9645 - val_loss: 1.0967 - val_accuracy: 0.7548\n",
      "Epoch 8/50\n",
      "109/109 [==============================] - 2s 17ms/step - loss: 0.0830 - accuracy: 0.9669 - val_loss: 0.8695 - val_accuracy: 0.7885\n",
      "Epoch 9/50\n",
      "109/109 [==============================] - 2s 17ms/step - loss: 0.0768 - accuracy: 0.9728 - val_loss: 1.1379 - val_accuracy: 0.7516\n",
      "Epoch 10/50\n",
      "109/109 [==============================] - 2s 17ms/step - loss: 0.0517 - accuracy: 0.9806 - val_loss: 0.6811 - val_accuracy: 0.7997\n",
      "Epoch 11/50\n",
      "109/109 [==============================] - 2s 17ms/step - loss: 0.0467 - accuracy: 0.9822 - val_loss: 1.2002 - val_accuracy: 0.7308\n",
      "Epoch 12/50\n",
      "109/109 [==============================] - 2s 16ms/step - loss: 0.0421 - accuracy: 0.9806 - val_loss: 1.0780 - val_accuracy: 0.7724\n",
      "Epoch 13/50\n",
      "109/109 [==============================] - 2s 16ms/step - loss: 0.0355 - accuracy: 0.9867 - val_loss: 1.0629 - val_accuracy: 0.7901\n",
      "Epoch 14/50\n",
      "109/109 [==============================] - 2s 17ms/step - loss: 0.0477 - accuracy: 0.9801 - val_loss: 1.3756 - val_accuracy: 0.7949\n",
      "Epoch 15/50\n",
      "109/109 [==============================] - 2s 16ms/step - loss: 0.0312 - accuracy: 0.9881 - val_loss: 1.0335 - val_accuracy: 0.7917\n",
      "Epoch 16/50\n",
      "109/109 [==============================] - 2s 17ms/step - loss: 0.0317 - accuracy: 0.9881 - val_loss: 1.0028 - val_accuracy: 0.7997\n",
      "Epoch 00016: early stopping\n",
      "55/55 [==============================] - 1s 8ms/step - loss: 0.0903 - accuracy: 0.9701\n",
      "Epoch 1/50\n",
      "109/109 [==============================] - 3s 19ms/step - loss: 0.6896 - accuracy: 0.7301 - val_loss: 0.5221 - val_accuracy: 0.7885\n",
      "Epoch 2/50\n",
      "109/109 [==============================] - 2s 17ms/step - loss: 0.1745 - accuracy: 0.9321 - val_loss: 0.5167 - val_accuracy: 0.8045\n",
      "Epoch 3/50\n",
      "109/109 [==============================] - 2s 16ms/step - loss: 0.1272 - accuracy: 0.9539 - val_loss: 0.5576 - val_accuracy: 0.7997\n",
      "Epoch 4/50\n",
      "109/109 [==============================] - 2s 17ms/step - loss: 0.1067 - accuracy: 0.9594 - val_loss: 0.9966 - val_accuracy: 0.7035\n",
      "Epoch 5/50\n",
      "109/109 [==============================] - 2s 17ms/step - loss: 0.1022 - accuracy: 0.9627 - val_loss: 0.5756 - val_accuracy: 0.7869\n",
      "Epoch 6/50\n",
      "109/109 [==============================] - 2s 17ms/step - loss: 0.0860 - accuracy: 0.9720 - val_loss: 0.7689 - val_accuracy: 0.7821\n",
      "Epoch 7/50\n",
      "109/109 [==============================] - 2s 17ms/step - loss: 0.0726 - accuracy: 0.9770 - val_loss: 0.9079 - val_accuracy: 0.7612\n",
      "Epoch 8/50\n",
      "109/109 [==============================] - 2s 17ms/step - loss: 0.0967 - accuracy: 0.9633 - val_loss: 0.7979 - val_accuracy: 0.7949\n",
      "Epoch 00008: early stopping\n",
      "55/55 [==============================] - 1s 8ms/step - loss: 0.0847 - accuracy: 0.9718\n",
      "Epoch 1/50\n",
      "109/109 [==============================] - 3s 19ms/step - loss: 0.6591 - accuracy: 0.7055 - val_loss: 0.3740 - val_accuracy: 0.8558\n",
      "Epoch 2/50\n",
      "109/109 [==============================] - 2s 17ms/step - loss: 0.1870 - accuracy: 0.9307 - val_loss: 0.6320 - val_accuracy: 0.7596\n",
      "Epoch 3/50\n",
      "109/109 [==============================] - 2s 17ms/step - loss: 0.1348 - accuracy: 0.9462 - val_loss: 0.6667 - val_accuracy: 0.7676\n",
      "Epoch 4/50\n",
      "109/109 [==============================] - 2s 17ms/step - loss: 0.1077 - accuracy: 0.9607 - val_loss: 0.7379 - val_accuracy: 0.7628\n",
      "Epoch 5/50\n",
      "109/109 [==============================] - 2s 18ms/step - loss: 0.0976 - accuracy: 0.9638 - val_loss: 0.7908 - val_accuracy: 0.7500\n",
      "Epoch 6/50\n",
      "109/109 [==============================] - 2s 17ms/step - loss: 0.0827 - accuracy: 0.9742 - val_loss: 0.8193 - val_accuracy: 0.7724\n",
      "Epoch 7/50\n",
      "109/109 [==============================] - 2s 17ms/step - loss: 0.0705 - accuracy: 0.9729 - val_loss: 0.7589 - val_accuracy: 0.7740\n",
      "Epoch 00007: early stopping\n",
      "55/55 [==============================] - 1s 8ms/step - loss: 0.0969 - accuracy: 0.9655\n",
      "Epoch 1/50\n",
      "109/109 [==============================] - 3s 18ms/step - loss: 0.7298 - accuracy: 0.6890 - val_loss: 0.6311 - val_accuracy: 0.7067\n",
      "Epoch 2/50\n",
      "109/109 [==============================] - 2s 17ms/step - loss: 0.2112 - accuracy: 0.9082 - val_loss: 0.5028 - val_accuracy: 0.7596\n",
      "Epoch 3/50\n",
      "109/109 [==============================] - 2s 17ms/step - loss: 0.1526 - accuracy: 0.9397 - val_loss: 0.4498 - val_accuracy: 0.7837\n",
      "Epoch 4/50\n",
      "109/109 [==============================] - 2s 17ms/step - loss: 0.1332 - accuracy: 0.9505 - val_loss: 0.5359 - val_accuracy: 0.7804\n",
      "Epoch 5/50\n",
      "109/109 [==============================] - 2s 17ms/step - loss: 0.0892 - accuracy: 0.9665 - val_loss: 0.4737 - val_accuracy: 0.8061\n",
      "Epoch 6/50\n",
      "109/109 [==============================] - 2s 17ms/step - loss: 0.1213 - accuracy: 0.9500 - val_loss: 0.7414 - val_accuracy: 0.7772\n",
      "Epoch 7/50\n",
      "109/109 [==============================] - 2s 17ms/step - loss: 0.0937 - accuracy: 0.9695 - val_loss: 0.7682 - val_accuracy: 0.7676\n",
      "Epoch 8/50\n",
      "109/109 [==============================] - 2s 17ms/step - loss: 0.0869 - accuracy: 0.9719 - val_loss: 0.8083 - val_accuracy: 0.7436\n",
      "Epoch 9/50\n",
      "109/109 [==============================] - 2s 17ms/step - loss: 0.0868 - accuracy: 0.9675 - val_loss: 0.9890 - val_accuracy: 0.7324\n",
      "Epoch 10/50\n",
      "109/109 [==============================] - 2s 17ms/step - loss: 0.0600 - accuracy: 0.9793 - val_loss: 0.6839 - val_accuracy: 0.7853\n",
      "Epoch 11/50\n",
      "109/109 [==============================] - 2s 17ms/step - loss: 0.0654 - accuracy: 0.9707 - val_loss: 1.2847 - val_accuracy: 0.7003\n",
      "Epoch 00011: early stopping\n",
      "55/55 [==============================] - 1s 8ms/step - loss: 0.1502 - accuracy: 0.9517\n",
      "Epoch 1/50\n",
      "109/109 [==============================] - 3s 19ms/step - loss: 0.7175 - accuracy: 0.7518 - val_loss: 0.4741 - val_accuracy: 0.7821\n",
      "Epoch 2/50\n",
      "109/109 [==============================] - 2s 17ms/step - loss: 0.2126 - accuracy: 0.9129 - val_loss: 0.5994 - val_accuracy: 0.7596\n",
      "Epoch 3/50\n",
      "109/109 [==============================] - 2s 18ms/step - loss: 0.1461 - accuracy: 0.9382 - val_loss: 0.5947 - val_accuracy: 0.7612\n",
      "Epoch 4/50\n",
      "109/109 [==============================] - 2s 18ms/step - loss: 0.1335 - accuracy: 0.9399 - val_loss: 0.7653 - val_accuracy: 0.7292\n",
      "Epoch 5/50\n",
      "109/109 [==============================] - 2s 17ms/step - loss: 0.1216 - accuracy: 0.9575 - val_loss: 0.5585 - val_accuracy: 0.7644\n",
      "Epoch 6/50\n",
      "109/109 [==============================] - 2s 17ms/step - loss: 0.1082 - accuracy: 0.9620 - val_loss: 0.8052 - val_accuracy: 0.7740\n",
      "Epoch 7/50\n",
      "109/109 [==============================] - 2s 17ms/step - loss: 0.0972 - accuracy: 0.9610 - val_loss: 0.7631 - val_accuracy: 0.7804\n",
      "Epoch 00007: early stopping\n",
      "55/55 [==============================] - 1s 8ms/step - loss: 0.0843 - accuracy: 0.9747\n",
      "Epoch 1/50\n",
      "109/109 [==============================] - 3s 19ms/step - loss: 0.6564 - accuracy: 0.7074 - val_loss: 0.4347 - val_accuracy: 0.6250\n",
      "Epoch 2/50\n",
      "109/109 [==============================] - 2s 17ms/step - loss: 0.2542 - accuracy: 0.8897 - val_loss: 0.4885 - val_accuracy: 0.7756\n",
      "Epoch 3/50\n",
      "109/109 [==============================] - 2s 17ms/step - loss: 0.1242 - accuracy: 0.9536 - val_loss: 0.8006 - val_accuracy: 0.7292\n",
      "Epoch 4/50\n",
      "109/109 [==============================] - 2s 17ms/step - loss: 0.1331 - accuracy: 0.9440 - val_loss: 0.5307 - val_accuracy: 0.7853\n",
      "Epoch 5/50\n",
      "109/109 [==============================] - 2s 17ms/step - loss: 0.0995 - accuracy: 0.9647 - val_loss: 0.5490 - val_accuracy: 0.7837\n",
      "Epoch 6/50\n",
      "109/109 [==============================] - 2s 17ms/step - loss: 0.0903 - accuracy: 0.9619 - val_loss: 0.6243 - val_accuracy: 0.7724\n",
      "Epoch 7/50\n",
      "109/109 [==============================] - 2s 17ms/step - loss: 0.0879 - accuracy: 0.9703 - val_loss: 0.4921 - val_accuracy: 0.7981\n",
      "Epoch 8/50\n",
      "109/109 [==============================] - 2s 17ms/step - loss: 0.0939 - accuracy: 0.9717 - val_loss: 0.6465 - val_accuracy: 0.7885\n",
      "Epoch 9/50\n",
      "109/109 [==============================] - 2s 17ms/step - loss: 0.0822 - accuracy: 0.9706 - val_loss: 0.8343 - val_accuracy: 0.7756\n",
      "Epoch 10/50\n",
      "109/109 [==============================] - 2s 17ms/step - loss: 0.0729 - accuracy: 0.9699 - val_loss: 0.7887 - val_accuracy: 0.7612\n",
      "Epoch 11/50\n",
      "109/109 [==============================] - 2s 17ms/step - loss: 0.0792 - accuracy: 0.9703 - val_loss: 0.7768 - val_accuracy: 0.7756\n",
      "Epoch 12/50\n",
      "109/109 [==============================] - 2s 17ms/step - loss: 0.0619 - accuracy: 0.9796 - val_loss: 0.9831 - val_accuracy: 0.7516\n",
      "Epoch 13/50\n",
      "109/109 [==============================] - 2s 18ms/step - loss: 0.0628 - accuracy: 0.9766 - val_loss: 0.7287 - val_accuracy: 0.7869\n",
      "Epoch 00013: early stopping\n",
      "55/55 [==============================] - 1s 9ms/step - loss: 0.1019 - accuracy: 0.9638\n",
      "Epoch 1/50\n",
      "109/109 [==============================] - 3s 20ms/step - loss: 1.0167 - accuracy: 0.7071 - val_loss: 0.4901 - val_accuracy: 0.7692\n",
      "Epoch 2/50\n",
      "109/109 [==============================] - 2s 19ms/step - loss: 0.3283 - accuracy: 0.8624 - val_loss: 0.4545 - val_accuracy: 0.7740\n",
      "Epoch 3/50\n",
      "109/109 [==============================] - 2s 19ms/step - loss: 0.2286 - accuracy: 0.9071 - val_loss: 0.4678 - val_accuracy: 0.7660\n",
      "Epoch 4/50\n",
      "109/109 [==============================] - 2s 18ms/step - loss: 0.1608 - accuracy: 0.9375 - val_loss: 0.4658 - val_accuracy: 0.7837\n",
      "Epoch 5/50\n",
      "109/109 [==============================] - 2s 18ms/step - loss: 0.1300 - accuracy: 0.9498 - val_loss: 0.6228 - val_accuracy: 0.7099\n",
      "Epoch 6/50\n",
      "109/109 [==============================] - 2s 19ms/step - loss: 0.1212 - accuracy: 0.9560 - val_loss: 0.7773 - val_accuracy: 0.7244\n",
      "Epoch 7/50\n",
      "109/109 [==============================] - 2s 19ms/step - loss: 0.1178 - accuracy: 0.9480 - val_loss: 0.5708 - val_accuracy: 0.7772\n",
      "Epoch 8/50\n",
      "109/109 [==============================] - 2s 18ms/step - loss: 0.1078 - accuracy: 0.9633 - val_loss: 0.5105 - val_accuracy: 0.7788\n",
      "Epoch 9/50\n",
      "109/109 [==============================] - 2s 18ms/step - loss: 0.0887 - accuracy: 0.9665 - val_loss: 0.7082 - val_accuracy: 0.7660\n",
      "Epoch 10/50\n",
      "109/109 [==============================] - 2s 18ms/step - loss: 0.0769 - accuracy: 0.9722 - val_loss: 0.4926 - val_accuracy: 0.7949\n",
      "Epoch 11/50\n",
      "109/109 [==============================] - 2s 18ms/step - loss: 0.0813 - accuracy: 0.9701 - val_loss: 0.9602 - val_accuracy: 0.6923\n",
      "Epoch 12/50\n",
      "109/109 [==============================] - 2s 19ms/step - loss: 0.0793 - accuracy: 0.9684 - val_loss: 0.7220 - val_accuracy: 0.7708\n",
      "Epoch 13/50\n",
      "109/109 [==============================] - 2s 18ms/step - loss: 0.0596 - accuracy: 0.9756 - val_loss: 0.5949 - val_accuracy: 0.7772\n",
      "Epoch 14/50\n",
      "109/109 [==============================] - 2s 19ms/step - loss: 0.0771 - accuracy: 0.9711 - val_loss: 0.8752 - val_accuracy: 0.7484\n",
      "Epoch 15/50\n",
      "109/109 [==============================] - 2s 19ms/step - loss: 0.0628 - accuracy: 0.9744 - val_loss: 0.8041 - val_accuracy: 0.7628\n",
      "Epoch 16/50\n",
      "109/109 [==============================] - 2s 19ms/step - loss: 0.0535 - accuracy: 0.9800 - val_loss: 0.6869 - val_accuracy: 0.7837\n",
      "Epoch 00016: early stopping\n",
      "55/55 [==============================] - 1s 10ms/step - loss: 0.0778 - accuracy: 0.9724\n",
      "Epoch 1/50\n",
      "109/109 [==============================] - 3s 20ms/step - loss: 1.0744 - accuracy: 0.6920 - val_loss: 0.6424 - val_accuracy: 0.6250\n",
      "Epoch 2/50\n",
      "109/109 [==============================] - 2s 18ms/step - loss: 0.4267 - accuracy: 0.7718 - val_loss: 0.3819 - val_accuracy: 0.8510\n",
      "Epoch 3/50\n",
      "109/109 [==============================] - 2s 19ms/step - loss: 0.2538 - accuracy: 0.8965 - val_loss: 0.3994 - val_accuracy: 0.8093\n",
      "Epoch 4/50\n",
      "109/109 [==============================] - 2s 19ms/step - loss: 0.1995 - accuracy: 0.9162 - val_loss: 0.4886 - val_accuracy: 0.7516\n",
      "Epoch 5/50\n",
      "109/109 [==============================] - 2s 18ms/step - loss: 0.1448 - accuracy: 0.9436 - val_loss: 0.5306 - val_accuracy: 0.7404\n",
      "Epoch 6/50\n",
      "109/109 [==============================] - 2s 19ms/step - loss: 0.1214 - accuracy: 0.9528 - val_loss: 0.6293 - val_accuracy: 0.7292\n",
      "Epoch 7/50\n",
      "109/109 [==============================] - 2s 18ms/step - loss: 0.1335 - accuracy: 0.9466 - val_loss: 0.5835 - val_accuracy: 0.7484\n",
      "Epoch 8/50\n",
      "109/109 [==============================] - 2s 18ms/step - loss: 0.1212 - accuracy: 0.9532 - val_loss: 0.4907 - val_accuracy: 0.7692\n",
      "Epoch 00008: early stopping\n",
      "55/55 [==============================] - 1s 10ms/step - loss: 0.1323 - accuracy: 0.9638\n",
      "Epoch 1/50\n",
      "109/109 [==============================] - 3s 19ms/step - loss: 0.7071 - accuracy: 0.6988 - val_loss: 0.4751 - val_accuracy: 0.8413\n",
      "Epoch 2/50\n",
      "109/109 [==============================] - 2s 17ms/step - loss: 0.2867 - accuracy: 0.8920 - val_loss: 0.4621 - val_accuracy: 0.7452\n",
      "Epoch 3/50\n",
      "109/109 [==============================] - 2s 17ms/step - loss: 0.2118 - accuracy: 0.9236 - val_loss: 0.6092 - val_accuracy: 0.7452\n",
      "Epoch 4/50\n",
      "109/109 [==============================] - 2s 17ms/step - loss: 0.1498 - accuracy: 0.9392 - val_loss: 0.5493 - val_accuracy: 0.7804\n",
      "Epoch 5/50\n",
      "109/109 [==============================] - 2s 17ms/step - loss: 0.1201 - accuracy: 0.9544 - val_loss: 0.5942 - val_accuracy: 0.7644\n",
      "Epoch 6/50\n",
      "109/109 [==============================] - 2s 18ms/step - loss: 0.1273 - accuracy: 0.9561 - val_loss: 0.4716 - val_accuracy: 0.8029\n",
      "Epoch 7/50\n",
      "109/109 [==============================] - 2s 17ms/step - loss: 0.1137 - accuracy: 0.9564 - val_loss: 0.4544 - val_accuracy: 0.7837\n",
      "Epoch 00007: early stopping\n",
      "55/55 [==============================] - 1s 8ms/step - loss: 0.1725 - accuracy: 0.9551\n",
      "Epoch 1/50\n",
      "163/163 [==============================] - 3s 17ms/step - loss: 0.6056 - accuracy: 0.7376 - val_loss: 0.6325 - val_accuracy: 0.7612\n",
      "Epoch 2/50\n",
      "163/163 [==============================] - 3s 16ms/step - loss: 0.1292 - accuracy: 0.9495 - val_loss: 0.4748 - val_accuracy: 0.8157\n",
      "Epoch 3/50\n",
      "163/163 [==============================] - 3s 16ms/step - loss: 0.1098 - accuracy: 0.9610 - val_loss: 0.7851 - val_accuracy: 0.7500\n",
      "Epoch 4/50\n",
      "163/163 [==============================] - 3s 15ms/step - loss: 0.0882 - accuracy: 0.9712 - val_loss: 0.7920 - val_accuracy: 0.7869\n",
      "Epoch 5/50\n",
      "163/163 [==============================] - 3s 15ms/step - loss: 0.0701 - accuracy: 0.9746 - val_loss: 0.7841 - val_accuracy: 0.7804\n",
      "Epoch 6/50\n",
      "163/163 [==============================] - 3s 15ms/step - loss: 0.0634 - accuracy: 0.9771 - val_loss: 1.1916 - val_accuracy: 0.7500\n",
      "Epoch 7/50\n",
      "163/163 [==============================] - 3s 16ms/step - loss: 0.0470 - accuracy: 0.9816 - val_loss: 0.7565 - val_accuracy: 0.7997\n",
      "Epoch 8/50\n",
      "163/163 [==============================] - 3s 16ms/step - loss: 0.0491 - accuracy: 0.9803 - val_loss: 1.4150 - val_accuracy: 0.7420\n",
      "Epoch 00008: early stopping\n"
     ]
    }
   ],
   "source": [
    "DP_grid_history = DP_grid.fit(X_train, y_train,\n",
    "                              epochs=50,\n",
    "                              batch_size=32,\n",
    "                              callbacks=es,\n",
    "                              validation_data=(X_test, y_test))"
   ]
  },
  {
   "cell_type": "code",
   "execution_count": 35,
   "metadata": {
    "colab": {
     "base_uri": "https://localhost:8080/"
    },
    "id": "IFzzMR09YaU2",
    "outputId": "cfc5bc0b-1004-477e-d4a3-2f27fab3bd4a"
   },
   "outputs": [
    {
     "data": {
      "text/plain": [
       "{'percent': 0.2}"
      ]
     },
     "execution_count": 35,
     "metadata": {
      "tags": []
     },
     "output_type": "execute_result"
    }
   ],
   "source": [
    "# Find the best weight_decay value\n",
    "DP_grid_history.best_params_"
   ]
  },
  {
   "cell_type": "markdown",
   "metadata": {
    "id": "k0948YpbCoJq"
   },
   "source": [
    "#### 1) Dropout 20\n",
    "- Add (20%) dropout layers and earlystopping "
   ]
  },
  {
   "cell_type": "code",
   "execution_count": null,
   "metadata": {},
   "outputs": [],
   "source": [
    "dropout_20 = dropout_model(0.2)"
   ]
  },
  {
   "cell_type": "code",
   "execution_count": 26,
   "metadata": {
    "ExecuteTime": {
     "end_time": "2021-05-14T01:12:09.376545Z",
     "start_time": "2021-05-14T01:12:09.284686Z"
    },
    "id": "elkPwtPyCoJr"
   },
   "outputs": [],
   "source": [
    "# dropout_20 = models.Sequential()\n",
    "# dropout_20.add(layers.Conv2D(32, (3, 3), activation='relu', input_shape=X_train.shape[1:]))\n",
    "# dropout_20.add(layers.MaxPooling2D((2, 2)))\n",
    "# dropout_20.add(layers.Dropout(0.2))\n",
    "\n",
    "# dropout_20.add(layers.Conv2D(64, (3, 3), activation='relu'))\n",
    "# dropout_20.add(layers.MaxPooling2D((2, 2)))\n",
    "# dropout_20.add(layers.Dropout(0.2))\n",
    "\n",
    "# dropout_20.add(layers.Conv2D(128, (3, 3), activation='relu'))\n",
    "# dropout_20.add(layers.MaxPooling2D((2, 2)))\n",
    "# dropout_20.add(layers.Dropout(0.2))\n",
    "\n",
    "# dropout_20.add(layers.Flatten())\n",
    "# dropout_20.add(layers.Dense(128, activation='relu'))\n",
    "# dropout_20.add(layers.Dense(1, activation='sigmoid'))\n",
    "\n",
    "# dropout_20.compile(optimizer='adam',\n",
    "#                    loss='binary_crossentropy',\n",
    "#                    metrics=['accuracy'])"
   ]
  },
  {
   "cell_type": "code",
   "execution_count": 27,
   "metadata": {
    "ExecuteTime": {
     "end_time": "2021-05-14T01:12:27.637366Z",
     "start_time": "2021-05-14T01:12:27.634406Z"
    },
    "id": "qY02Cs5OCoJr"
   },
   "outputs": [],
   "source": [
    "mc_dp_20 = ModelCheckpoint(filepath='/content/saved_models/dropout_20.h5', \n",
    "                           monitor='val_accuracy', mode='max', verbose=1, save_best_only=True)"
   ]
  },
  {
   "cell_type": "code",
   "execution_count": 28,
   "metadata": {
    "ExecuteTime": {
     "end_time": "2021-05-14T01:18:49.628664Z",
     "start_time": "2021-05-14T01:12:32.843179Z"
    },
    "colab": {
     "base_uri": "https://localhost:8080/"
    },
    "id": "lx9TGQ2yCoJr",
    "outputId": "6eb248d9-d5bb-4f8d-c56b-b9b94d92d0c3"
   },
   "outputs": [
    {
     "name": "stdout",
     "output_type": "stream",
     "text": [
      "Epoch 1/50\n",
      "163/163 [==============================] - 3s 16ms/step - loss: 0.6293 - accuracy: 0.7261 - val_loss: 0.5762 - val_accuracy: 0.7756\n",
      "\n",
      "Epoch 00001: val_accuracy improved from -inf to 0.77564, saving model to /content/saved_models/dropout_20.h5\n",
      "Epoch 2/50\n",
      "163/163 [==============================] - 2s 15ms/step - loss: 0.1283 - accuracy: 0.9502 - val_loss: 0.6231 - val_accuracy: 0.7885\n",
      "\n",
      "Epoch 00002: val_accuracy improved from 0.77564 to 0.78846, saving model to /content/saved_models/dropout_20.h5\n",
      "Epoch 3/50\n",
      "163/163 [==============================] - 2s 15ms/step - loss: 0.1150 - accuracy: 0.9569 - val_loss: 0.7523 - val_accuracy: 0.7628\n",
      "\n",
      "Epoch 00003: val_accuracy did not improve from 0.78846\n",
      "Epoch 4/50\n",
      "163/163 [==============================] - 2s 15ms/step - loss: 0.1003 - accuracy: 0.9647 - val_loss: 0.8891 - val_accuracy: 0.7532\n",
      "\n",
      "Epoch 00004: val_accuracy did not improve from 0.78846\n",
      "Epoch 5/50\n",
      "163/163 [==============================] - 2s 15ms/step - loss: 0.0751 - accuracy: 0.9755 - val_loss: 1.0087 - val_accuracy: 0.7628\n",
      "\n",
      "Epoch 00005: val_accuracy did not improve from 0.78846\n",
      "Epoch 6/50\n",
      "163/163 [==============================] - 2s 15ms/step - loss: 0.0748 - accuracy: 0.9765 - val_loss: 0.9445 - val_accuracy: 0.7772\n",
      "\n",
      "Epoch 00006: val_accuracy did not improve from 0.78846\n",
      "Epoch 7/50\n",
      "163/163 [==============================] - 2s 15ms/step - loss: 0.0592 - accuracy: 0.9801 - val_loss: 0.8184 - val_accuracy: 0.8045\n",
      "\n",
      "Epoch 00007: val_accuracy improved from 0.78846 to 0.80449, saving model to /content/saved_models/dropout_20.h5\n",
      "Epoch 8/50\n",
      "163/163 [==============================] - 2s 15ms/step - loss: 0.0650 - accuracy: 0.9777 - val_loss: 1.3214 - val_accuracy: 0.7436\n",
      "\n",
      "Epoch 00008: val_accuracy did not improve from 0.80449\n",
      "Epoch 9/50\n",
      "163/163 [==============================] - 2s 15ms/step - loss: 0.0529 - accuracy: 0.9797 - val_loss: 0.9572 - val_accuracy: 0.7869\n",
      "\n",
      "Epoch 00009: val_accuracy did not improve from 0.80449\n",
      "Epoch 10/50\n",
      "163/163 [==============================] - 2s 15ms/step - loss: 0.0643 - accuracy: 0.9756 - val_loss: 1.2607 - val_accuracy: 0.7869\n",
      "\n",
      "Epoch 00010: val_accuracy did not improve from 0.80449\n",
      "Epoch 11/50\n",
      "163/163 [==============================] - 2s 15ms/step - loss: 0.0508 - accuracy: 0.9823 - val_loss: 1.0425 - val_accuracy: 0.7965\n",
      "\n",
      "Epoch 00011: val_accuracy did not improve from 0.80449\n",
      "Epoch 12/50\n",
      "163/163 [==============================] - 2s 15ms/step - loss: 0.0315 - accuracy: 0.9881 - val_loss: 0.8881 - val_accuracy: 0.8029\n",
      "\n",
      "Epoch 00012: val_accuracy did not improve from 0.80449\n",
      "Epoch 13/50\n",
      "163/163 [==============================] - 2s 15ms/step - loss: 0.0344 - accuracy: 0.9856 - val_loss: 1.3415 - val_accuracy: 0.7484\n",
      "\n",
      "Epoch 00013: val_accuracy did not improve from 0.80449\n",
      "Epoch 00013: early stopping\n"
     ]
    }
   ],
   "source": [
    "dropout_20_history = dropout_20.fit(X_train, y_train,\n",
    "                                    epochs=50,\n",
    "                                    batch_size=32,\n",
    "                                    callbacks=[es, mc_dp_20],\n",
    "                                    validation_data=(X_test, y_test))"
   ]
  },
  {
   "cell_type": "code",
   "execution_count": 29,
   "metadata": {
    "ExecuteTime": {
     "end_time": "2021-05-14T01:19:11.280717Z",
     "start_time": "2021-05-14T01:19:10.997160Z"
    },
    "colab": {
     "base_uri": "https://localhost:8080/",
     "height": 308
    },
    "id": "4jDp62c7CoJr",
    "outputId": "cb989481-e090-4987-e31a-d9c4c00b4db9",
    "scrolled": true
   },
   "outputs": [
    {
     "data": {
      "image/png": "[encoded data removed]",
      "text/plain": [
       "<Figure size 432x288 with 2 Axes>"
      ]
     },
     "metadata": {
      "needs_background": "light",
      "tags": []
     },
     "output_type": "display_data"
    }
   ],
   "source": [
    "visualize_training_results(dropout_20_history)"
   ]
  },
  {
   "cell_type": "code",
   "execution_count": 30,
   "metadata": {
    "ExecuteTime": {
     "end_time": "2021-05-14T01:19:30.596265Z",
     "start_time": "2021-05-14T01:19:16.556779Z"
    },
    "colab": {
     "base_uri": "https://localhost:8080/",
     "height": 551
    },
    "id": "UrlLyZWVCoJs",
    "outputId": "d3c4e8c4-3cb3-469c-f7c7-0af77d6a10ec"
   },
   "outputs": [
    {
     "name": "stdout",
     "output_type": "stream",
     "text": [
      "163/163 [==============================] - 1s 7ms/step - loss: 0.0539 - accuracy: 0.9785\n",
      "Training Loss:0.05393\n",
      "Training Accuracy:0.9785\n",
      "20/20 [==============================] - 0s 8ms/step - loss: 0.8184 - accuracy: 0.8045\n",
      "Test Loss:0.8184\n",
      "Test Accuracy:0.8045\n"
     ]
    },
    {
     "data": {
      "image/png": "[encoded data removed]",
      "text/plain": [
       "<Figure size 432x288 with 2 Axes>"
      ]
     },
     "metadata": {
      "needs_background": "light",
      "tags": []
     },
     "output_type": "display_data"
    },
    {
     "name": "stdout",
     "output_type": "stream",
     "text": [
      "              precision    recall  f1-score   support\n",
      "\n",
      "         0.0       0.96      0.50      0.66       234\n",
      "         1.0       0.77      0.99      0.86       390\n",
      "\n",
      "    accuracy                           0.80       624\n",
      "   macro avg       0.86      0.74      0.76       624\n",
      "weighted avg       0.84      0.80      0.79       624\n",
      "\n"
     ]
    },
    {
     "data": {
      "text/plain": [
       "([0.9785], [0.8045])"
      ]
     },
     "execution_count": 30,
     "metadata": {
      "tags": []
     },
     "output_type": "execute_result"
    }
   ],
   "source": [
    "dp20 = load_model('/content/saved_models/dropout_20.h5')\n",
    "dp20m = model_evaluation(dp20)\n",
    "dp20m"
   ]
  },
  {
   "cell_type": "markdown",
   "metadata": {
    "id": "VqCTlH2PCoJs"
   },
   "source": [
    ">**Comment:** Dropout 20%\n",
    "- The dropout_20 model took less time to run compare with the baseline model\n",
    "- The train accuracy (0.9659) is higher than test accuracy (0.7997) which indicates the model is overfit \n",
    "- Compare with the baseline model, test accuray shows some improvements\n",
    "- There are more false positive than false negative\n",
    "- dp20 has more FN than base"
   ]
  },
  {
   "cell_type": "markdown",
   "metadata": {
    "id": "dsOlquukCoJw"
   },
   "source": [
    "### Grid Search For L2 weight decay"
   ]
  },
  {
   "cell_type": "markdown",
   "metadata": {
    "id": "GbJoYOHXCoJw"
   },
   "source": [
    "GridSearch https://heartbeat.fritz.ai/introduction-to-deep-learning-with-keras-c7c3d14e1527"
   ]
  },
  {
   "cell_type": "code",
   "execution_count": 41,
   "metadata": {
    "ExecuteTime": {
     "end_time": "2021-05-15T00:58:09.829579Z",
     "start_time": "2021-05-15T00:58:09.816889Z"
    },
    "id": "mw1DHvjtCoJw"
   },
   "outputs": [],
   "source": [
    "def L2_regularizer_model(weight_decay):\n",
    "    \n",
    "    # Build the model with L2 regularizer\n",
    "    model = models.Sequential()\n",
    "    model.add(layers.Conv2D(32, (3, 3), kernel_regularizer=regularizers.l2(weight_decay), \n",
    "                                        activation='relu', input_shape=X_train.shape[1:]))\n",
    "    model.add(layers.MaxPooling2D((2, 2)))\n",
    "\n",
    "    model.add(layers.Conv2D(64, (3, 3), kernel_regularizer=regularizers.l2(weight_decay), activation='relu'))\n",
    "    model.add(layers.MaxPooling2D((2, 2)))\n",
    "\n",
    "    model.add(layers.Conv2D(128, (3, 3), kernel_regularizer=regularizers.l2(weight_decay), activation='relu'))\n",
    "    model.add(layers.MaxPooling2D((2, 2)))\n",
    "\n",
    "    model.add(layers.Flatten())\n",
    "    model.add(layers.Dense(128, activation='relu'))\n",
    "    model.add(layers.Dense(1, activation='sigmoid'))\n",
    "\n",
    "    # Compile the model\n",
    "    model.compile(optimizer='adam',\n",
    "                  loss='binary_crossentropy',\n",
    "                  metrics=['accuracy'])\n",
    "    \n",
    "    return model"
   ]
  },
  {
   "cell_type": "code",
   "execution_count": 42,
   "metadata": {
    "ExecuteTime": {
     "end_time": "2021-05-15T00:58:51.671554Z",
     "start_time": "2021-05-15T00:58:51.669116Z"
    },
    "id": "8DZ2VBZjCoJx"
   },
   "outputs": [],
   "source": [
    "L2_model = KerasClassifier(build_fn=L2_regularizer_model)"
   ]
  },
  {
   "cell_type": "code",
   "execution_count": 43,
   "metadata": {
    "id": "6fgM5PuqYaU5"
   },
   "outputs": [],
   "source": [
    "# parameter grid\n",
    "reg_param_grid = {'weight_decay': [0.5, 0.05, 0.005, 0.0005]}"
   ]
  },
  {
   "cell_type": "code",
   "execution_count": 44,
   "metadata": {
    "ExecuteTime": {
     "end_time": "2021-05-15T00:58:59.308590Z",
     "start_time": "2021-05-15T00:58:59.305293Z"
    },
    "id": "Unu0zt-rCoJx"
   },
   "outputs": [],
   "source": [
    "L2_grid = GridSearchCV(L2_model, param_grid=reg_param_grid, cv=3)"
   ]
  },
  {
   "cell_type": "code",
   "execution_count": 45,
   "metadata": {
    "ExecuteTime": {
     "end_time": "2021-05-15T02:16:33.568878Z",
     "start_time": "2021-05-15T00:59:00.304136Z"
    },
    "colab": {
     "base_uri": "https://localhost:8080/"
    },
    "id": "WytCIZ0_CoJx",
    "outputId": "744ac53d-b340-4cab-f0a5-32a2e88227c8",
    "scrolled": false
   },
   "outputs": [
    {
     "name": "stdout",
     "output_type": "stream",
     "text": [
      "Epoch 1/50\n",
      "109/109 [==============================] - 3s 18ms/step - loss: 28.6440 - accuracy: 0.7588 - val_loss: 0.8412 - val_accuracy: 0.7580\n",
      "Epoch 2/50\n",
      "109/109 [==============================] - 2s 16ms/step - loss: 0.4291 - accuracy: 0.9145 - val_loss: 0.7227 - val_accuracy: 0.7452\n",
      "Epoch 3/50\n",
      "109/109 [==============================] - 2s 16ms/step - loss: 0.2737 - accuracy: 0.9200 - val_loss: 0.6167 - val_accuracy: 0.7708\n",
      "Epoch 4/50\n",
      "109/109 [==============================] - 2s 16ms/step - loss: 0.2799 - accuracy: 0.9236 - val_loss: 0.7038 - val_accuracy: 0.7564\n",
      "Epoch 5/50\n",
      "109/109 [==============================] - 2s 16ms/step - loss: 0.2471 - accuracy: 0.9335 - val_loss: 0.6076 - val_accuracy: 0.7853\n",
      "Epoch 6/50\n",
      "109/109 [==============================] - 2s 17ms/step - loss: 0.2402 - accuracy: 0.9344 - val_loss: 1.2060 - val_accuracy: 0.6571\n",
      "Epoch 7/50\n",
      "109/109 [==============================] - 2s 16ms/step - loss: 0.2649 - accuracy: 0.9255 - val_loss: 0.6807 - val_accuracy: 0.7644\n",
      "Epoch 8/50\n",
      "109/109 [==============================] - 2s 16ms/step - loss: 0.2177 - accuracy: 0.9439 - val_loss: 0.6790 - val_accuracy: 0.7676\n",
      "Epoch 9/50\n",
      "109/109 [==============================] - 2s 16ms/step - loss: 0.2156 - accuracy: 0.9387 - val_loss: 0.8279 - val_accuracy: 0.7308\n",
      "Epoch 10/50\n",
      "109/109 [==============================] - 2s 17ms/step - loss: 0.2173 - accuracy: 0.9356 - val_loss: 0.7700 - val_accuracy: 0.7404\n",
      "Epoch 11/50\n",
      "109/109 [==============================] - 2s 16ms/step - loss: 0.2193 - accuracy: 0.9388 - val_loss: 1.2263 - val_accuracy: 0.6763\n",
      "Epoch 00011: early stopping\n",
      "55/55 [==============================] - 1s 10ms/step - loss: 0.2603 - accuracy: 0.9143\n",
      "Epoch 1/50\n",
      "109/109 [==============================] - 3s 19ms/step - loss: 28.5724 - accuracy: 0.7926 - val_loss: 0.8500 - val_accuracy: 0.6955\n",
      "Epoch 2/50\n",
      "109/109 [==============================] - 2s 17ms/step - loss: 0.4072 - accuracy: 0.9224 - val_loss: 0.5125 - val_accuracy: 0.8125\n",
      "Epoch 3/50\n",
      "109/109 [==============================] - 2s 17ms/step - loss: 0.2744 - accuracy: 0.9339 - val_loss: 0.6399 - val_accuracy: 0.7628\n",
      "Epoch 4/50\n",
      "109/109 [==============================] - 2s 17ms/step - loss: 0.2661 - accuracy: 0.9343 - val_loss: 0.6689 - val_accuracy: 0.7548\n",
      "Epoch 5/50\n",
      "109/109 [==============================] - 2s 17ms/step - loss: 0.2531 - accuracy: 0.9359 - val_loss: 1.1329 - val_accuracy: 0.6939\n",
      "Epoch 6/50\n",
      "109/109 [==============================] - 2s 17ms/step - loss: 0.2423 - accuracy: 0.9416 - val_loss: 1.3068 - val_accuracy: 0.6587\n",
      "Epoch 7/50\n",
      "109/109 [==============================] - 2s 16ms/step - loss: 0.2496 - accuracy: 0.9361 - val_loss: 0.7314 - val_accuracy: 0.7548\n",
      "Epoch 8/50\n",
      "109/109 [==============================] - 2s 17ms/step - loss: 0.2201 - accuracy: 0.9411 - val_loss: 0.7448 - val_accuracy: 0.7420\n",
      "Epoch 00008: early stopping\n",
      "55/55 [==============================] - 1s 9ms/step - loss: 0.2121 - accuracy: 0.9327\n",
      "Epoch 1/50\n",
      "109/109 [==============================] - 3s 18ms/step - loss: 28.6386 - accuracy: 0.7540 - val_loss: 0.7300 - val_accuracy: 0.8253\n",
      "Epoch 2/50\n",
      "109/109 [==============================] - 2s 17ms/step - loss: 0.4596 - accuracy: 0.9078 - val_loss: 0.5469 - val_accuracy: 0.7788\n",
      "Epoch 3/50\n",
      "109/109 [==============================] - 2s 16ms/step - loss: 0.3125 - accuracy: 0.9235 - val_loss: 0.6788 - val_accuracy: 0.7548\n",
      "Epoch 4/50\n",
      "109/109 [==============================] - 2s 16ms/step - loss: 0.2912 - accuracy: 0.9247 - val_loss: 0.6355 - val_accuracy: 0.7708\n",
      "Epoch 5/50\n",
      "109/109 [==============================] - 2s 16ms/step - loss: 0.2562 - accuracy: 0.9296 - val_loss: 0.7441 - val_accuracy: 0.7404\n",
      "Epoch 6/50\n",
      "109/109 [==============================] - 2s 17ms/step - loss: 0.2490 - accuracy: 0.9401 - val_loss: 0.5737 - val_accuracy: 0.7933\n",
      "Epoch 7/50\n",
      "109/109 [==============================] - 2s 16ms/step - loss: 0.2461 - accuracy: 0.9413 - val_loss: 0.6448 - val_accuracy: 0.7436\n",
      "Epoch 00007: early stopping\n",
      "55/55 [==============================] - 1s 9ms/step - loss: 0.2312 - accuracy: 0.9430\n",
      "Epoch 1/50\n",
      "109/109 [==============================] - 3s 18ms/step - loss: 3.7182 - accuracy: 0.7961 - val_loss: 0.9303 - val_accuracy: 0.7532\n",
      "Epoch 2/50\n",
      "109/109 [==============================] - 2s 16ms/step - loss: 0.4188 - accuracy: 0.9451 - val_loss: 0.9978 - val_accuracy: 0.7051\n",
      "Epoch 3/50\n",
      "109/109 [==============================] - 2s 16ms/step - loss: 0.2601 - accuracy: 0.9573 - val_loss: 0.8804 - val_accuracy: 0.7308\n",
      "Epoch 4/50\n",
      "109/109 [==============================] - 2s 17ms/step - loss: 0.2331 - accuracy: 0.9442 - val_loss: 1.0799 - val_accuracy: 0.7228\n",
      "Epoch 5/50\n",
      "109/109 [==============================] - 2s 16ms/step - loss: 0.1604 - accuracy: 0.9604 - val_loss: 0.6937 - val_accuracy: 0.7724\n",
      "Epoch 6/50\n",
      "109/109 [==============================] - 2s 16ms/step - loss: 0.1548 - accuracy: 0.9598 - val_loss: 1.8256 - val_accuracy: 0.6603\n",
      "Epoch 7/50\n",
      "109/109 [==============================] - 2s 16ms/step - loss: 0.1880 - accuracy: 0.9494 - val_loss: 1.0856 - val_accuracy: 0.7308\n",
      "Epoch 8/50\n",
      "109/109 [==============================] - 2s 16ms/step - loss: 0.1352 - accuracy: 0.9675 - val_loss: 0.9161 - val_accuracy: 0.7372\n",
      "Epoch 9/50\n",
      "109/109 [==============================] - 2s 17ms/step - loss: 0.1190 - accuracy: 0.9707 - val_loss: 0.8149 - val_accuracy: 0.7724\n",
      "Epoch 10/50\n",
      "109/109 [==============================] - 2s 16ms/step - loss: 0.1166 - accuracy: 0.9721 - val_loss: 0.7982 - val_accuracy: 0.7628\n",
      "Epoch 11/50\n",
      "109/109 [==============================] - 2s 16ms/step - loss: 0.1132 - accuracy: 0.9723 - val_loss: 1.3969 - val_accuracy: 0.6635\n",
      "Epoch 00011: early stopping\n",
      "55/55 [==============================] - 1s 9ms/step - loss: 0.2156 - accuracy: 0.9258\n",
      "Epoch 1/50\n",
      "109/109 [==============================] - 3s 18ms/step - loss: 3.4897 - accuracy: 0.7910 - val_loss: 1.1326 - val_accuracy: 0.6651\n",
      "Epoch 2/50\n",
      "109/109 [==============================] - 2s 17ms/step - loss: 0.3651 - accuracy: 0.9414 - val_loss: 0.6798 - val_accuracy: 0.7821\n",
      "Epoch 3/50\n",
      "109/109 [==============================] - 2s 16ms/step - loss: 0.2312 - accuracy: 0.9525 - val_loss: 0.4470 - val_accuracy: 0.8333\n",
      "Epoch 4/50\n",
      "109/109 [==============================] - 2s 16ms/step - loss: 0.2009 - accuracy: 0.9463 - val_loss: 0.8292 - val_accuracy: 0.7436\n",
      "Epoch 5/50\n",
      "109/109 [==============================] - 2s 16ms/step - loss: 0.1637 - accuracy: 0.9588 - val_loss: 0.8813 - val_accuracy: 0.7340\n",
      "Epoch 6/50\n",
      "109/109 [==============================] - 2s 16ms/step - loss: 0.1464 - accuracy: 0.9621 - val_loss: 1.7681 - val_accuracy: 0.6538\n",
      "Epoch 7/50\n",
      "109/109 [==============================] - 2s 16ms/step - loss: 0.1862 - accuracy: 0.9496 - val_loss: 0.8131 - val_accuracy: 0.7628\n",
      "Epoch 8/50\n",
      "109/109 [==============================] - 2s 17ms/step - loss: 0.1387 - accuracy: 0.9603 - val_loss: 0.8120 - val_accuracy: 0.7596\n",
      "Epoch 9/50\n",
      "109/109 [==============================] - 2s 17ms/step - loss: 0.1326 - accuracy: 0.9627 - val_loss: 0.6883 - val_accuracy: 0.8045\n",
      "Epoch 00009: early stopping\n",
      "55/55 [==============================] - 1s 8ms/step - loss: 0.1413 - accuracy: 0.9597\n",
      "Epoch 1/50\n",
      "109/109 [==============================] - 3s 18ms/step - loss: 3.6175 - accuracy: 0.7822 - val_loss: 0.6305 - val_accuracy: 0.8606\n",
      "Epoch 2/50\n",
      "109/109 [==============================] - 2s 16ms/step - loss: 0.4433 - accuracy: 0.9325 - val_loss: 0.8044 - val_accuracy: 0.7388\n",
      "Epoch 3/50\n",
      "109/109 [==============================] - 2s 16ms/step - loss: 0.2785 - accuracy: 0.9562 - val_loss: 0.7827 - val_accuracy: 0.7564\n",
      "Epoch 4/50\n",
      "109/109 [==============================] - 2s 16ms/step - loss: 0.2396 - accuracy: 0.9564 - val_loss: 0.5953 - val_accuracy: 0.7901\n",
      "Epoch 5/50\n",
      "109/109 [==============================] - 2s 17ms/step - loss: 0.2130 - accuracy: 0.9471 - val_loss: 0.8452 - val_accuracy: 0.7436\n",
      "Epoch 6/50\n",
      "109/109 [==============================] - 2s 16ms/step - loss: 0.1730 - accuracy: 0.9610 - val_loss: 0.5437 - val_accuracy: 0.8077\n",
      "Epoch 7/50\n",
      "109/109 [==============================] - 2s 17ms/step - loss: 0.1743 - accuracy: 0.9527 - val_loss: 0.7628 - val_accuracy: 0.7324\n",
      "Epoch 00007: early stopping\n",
      "55/55 [==============================] - 1s 9ms/step - loss: 0.1666 - accuracy: 0.9620\n",
      "Epoch 1/50\n",
      "109/109 [==============================] - 3s 18ms/step - loss: 0.8932 - accuracy: 0.7716 - val_loss: 1.1738 - val_accuracy: 0.6651\n",
      "Epoch 2/50\n",
      "109/109 [==============================] - 2s 16ms/step - loss: 0.2543 - accuracy: 0.9540 - val_loss: 1.1872 - val_accuracy: 0.6987\n",
      "Epoch 3/50\n",
      "109/109 [==============================] - 2s 17ms/step - loss: 0.2006 - accuracy: 0.9609 - val_loss: 0.7773 - val_accuracy: 0.7580\n",
      "Epoch 4/50\n",
      "109/109 [==============================] - 2s 16ms/step - loss: 0.1959 - accuracy: 0.9569 - val_loss: 1.0043 - val_accuracy: 0.7580\n",
      "Epoch 5/50\n",
      "109/109 [==============================] - 2s 16ms/step - loss: 0.1331 - accuracy: 0.9772 - val_loss: 0.8757 - val_accuracy: 0.7564\n",
      "Epoch 6/50\n",
      "109/109 [==============================] - 2s 17ms/step - loss: 0.1289 - accuracy: 0.9774 - val_loss: 1.2089 - val_accuracy: 0.7452\n",
      "Epoch 7/50\n",
      "109/109 [==============================] - 2s 16ms/step - loss: 0.1205 - accuracy: 0.9737 - val_loss: 0.9350 - val_accuracy: 0.7708\n",
      "Epoch 8/50\n",
      "109/109 [==============================] - 2s 16ms/step - loss: 0.1070 - accuracy: 0.9778 - val_loss: 0.9273 - val_accuracy: 0.7788\n",
      "Epoch 9/50\n",
      "109/109 [==============================] - 2s 16ms/step - loss: 0.0910 - accuracy: 0.9839 - val_loss: 0.8780 - val_accuracy: 0.7869\n",
      "Epoch 10/50\n",
      "109/109 [==============================] - 2s 16ms/step - loss: 0.0978 - accuracy: 0.9830 - val_loss: 0.5687 - val_accuracy: 0.8125\n",
      "Epoch 11/50\n",
      "109/109 [==============================] - 2s 16ms/step - loss: 0.1120 - accuracy: 0.9814 - val_loss: 1.8963 - val_accuracy: 0.6763\n",
      "Epoch 12/50\n",
      "109/109 [==============================] - 2s 17ms/step - loss: 0.1020 - accuracy: 0.9791 - val_loss: 0.9668 - val_accuracy: 0.7660\n",
      "Epoch 13/50\n",
      "109/109 [==============================] - 2s 17ms/step - loss: 0.0755 - accuracy: 0.9873 - val_loss: 0.9049 - val_accuracy: 0.7837\n",
      "Epoch 14/50\n",
      "109/109 [==============================] - 2s 17ms/step - loss: 0.0823 - accuracy: 0.9832 - val_loss: 1.0472 - val_accuracy: 0.8061\n",
      "Epoch 15/50\n",
      "109/109 [==============================] - 2s 17ms/step - loss: 0.0850 - accuracy: 0.9813 - val_loss: 1.3996 - val_accuracy: 0.7404\n",
      "Epoch 16/50\n",
      "109/109 [==============================] - 2s 17ms/step - loss: 0.0811 - accuracy: 0.9838 - val_loss: 1.0552 - val_accuracy: 0.8013\n",
      "Epoch 00016: early stopping\n",
      "55/55 [==============================] - 1s 9ms/step - loss: 0.1237 - accuracy: 0.9735\n",
      "Epoch 1/50\n",
      "109/109 [==============================] - 3s 19ms/step - loss: 0.8300 - accuracy: 0.8017 - val_loss: 1.2216 - val_accuracy: 0.7099\n",
      "Epoch 2/50\n",
      "109/109 [==============================] - 2s 17ms/step - loss: 0.2815 - accuracy: 0.9429 - val_loss: 0.8196 - val_accuracy: 0.7692\n",
      "Epoch 3/50\n",
      "109/109 [==============================] - 2s 17ms/step - loss: 0.2057 - accuracy: 0.9578 - val_loss: 0.6087 - val_accuracy: 0.7981\n",
      "Epoch 4/50\n",
      "109/109 [==============================] - 2s 17ms/step - loss: 0.1902 - accuracy: 0.9627 - val_loss: 1.0757 - val_accuracy: 0.7500\n",
      "Epoch 5/50\n",
      "109/109 [==============================] - 2s 17ms/step - loss: 0.1402 - accuracy: 0.9738 - val_loss: 0.8890 - val_accuracy: 0.7516\n",
      "Epoch 6/50\n",
      "109/109 [==============================] - 2s 17ms/step - loss: 0.1390 - accuracy: 0.9701 - val_loss: 0.9422 - val_accuracy: 0.7500\n",
      "Epoch 7/50\n",
      "109/109 [==============================] - 2s 16ms/step - loss: 0.1230 - accuracy: 0.9711 - val_loss: 0.7547 - val_accuracy: 0.7997\n",
      "Epoch 8/50\n",
      "109/109 [==============================] - 2s 16ms/step - loss: 0.1240 - accuracy: 0.9704 - val_loss: 0.9945 - val_accuracy: 0.7788\n",
      "Epoch 9/50\n",
      "109/109 [==============================] - 2s 17ms/step - loss: 0.1114 - accuracy: 0.9779 - val_loss: 0.9025 - val_accuracy: 0.8093\n",
      "Epoch 10/50\n",
      "109/109 [==============================] - 2s 17ms/step - loss: 0.1076 - accuracy: 0.9769 - val_loss: 0.9353 - val_accuracy: 0.7853\n",
      "Epoch 11/50\n",
      "109/109 [==============================] - 2s 16ms/step - loss: 0.0979 - accuracy: 0.9772 - val_loss: 1.1262 - val_accuracy: 0.7548\n",
      "Epoch 12/50\n",
      "109/109 [==============================] - 2s 17ms/step - loss: 0.1024 - accuracy: 0.9803 - val_loss: 0.8529 - val_accuracy: 0.8045\n",
      "Epoch 13/50\n",
      "109/109 [==============================] - 2s 17ms/step - loss: 0.0956 - accuracy: 0.9804 - val_loss: 1.0619 - val_accuracy: 0.7788\n",
      "Epoch 14/50\n",
      "109/109 [==============================] - 2s 17ms/step - loss: 0.0872 - accuracy: 0.9831 - val_loss: 1.0566 - val_accuracy: 0.7676\n",
      "Epoch 15/50\n",
      "109/109 [==============================] - 2s 17ms/step - loss: 0.0866 - accuracy: 0.9807 - val_loss: 1.0476 - val_accuracy: 0.7853\n",
      "Epoch 00015: early stopping\n",
      "55/55 [==============================] - 1s 8ms/step - loss: 0.1118 - accuracy: 0.9718\n",
      "Epoch 1/50\n",
      "109/109 [==============================] - 3s 19ms/step - loss: 0.7780 - accuracy: 0.8224 - val_loss: 0.6280 - val_accuracy: 0.8045\n",
      "Epoch 2/50\n",
      "109/109 [==============================] - 2s 16ms/step - loss: 0.2809 - accuracy: 0.9527 - val_loss: 0.8313 - val_accuracy: 0.7564\n",
      "Epoch 3/50\n",
      "109/109 [==============================] - 2s 17ms/step - loss: 0.1970 - accuracy: 0.9621 - val_loss: 0.8036 - val_accuracy: 0.7804\n",
      "Epoch 4/50\n",
      "109/109 [==============================] - 2s 17ms/step - loss: 0.1581 - accuracy: 0.9683 - val_loss: 0.5284 - val_accuracy: 0.8349\n",
      "Epoch 5/50\n",
      "109/109 [==============================] - 2s 17ms/step - loss: 0.1593 - accuracy: 0.9653 - val_loss: 0.8861 - val_accuracy: 0.7596\n",
      "Epoch 6/50\n",
      "109/109 [==============================] - 2s 16ms/step - loss: 0.1263 - accuracy: 0.9746 - val_loss: 1.0081 - val_accuracy: 0.7644\n",
      "Epoch 7/50\n",
      "109/109 [==============================] - 2s 17ms/step - loss: 0.1060 - accuracy: 0.9806 - val_loss: 0.7471 - val_accuracy: 0.7740\n",
      "Epoch 8/50\n",
      "109/109 [==============================] - 2s 17ms/step - loss: 0.1069 - accuracy: 0.9804 - val_loss: 1.2152 - val_accuracy: 0.7452\n",
      "Epoch 9/50\n",
      "109/109 [==============================] - 2s 17ms/step - loss: 0.1074 - accuracy: 0.9772 - val_loss: 0.8450 - val_accuracy: 0.7949\n",
      "Epoch 10/50\n",
      "109/109 [==============================] - 2s 17ms/step - loss: 0.0954 - accuracy: 0.9809 - val_loss: 0.8914 - val_accuracy: 0.7660\n",
      "Epoch 00010: early stopping\n",
      "55/55 [==============================] - 1s 8ms/step - loss: 0.1271 - accuracy: 0.9730\n",
      "Epoch 1/50\n",
      "109/109 [==============================] - 3s 19ms/step - loss: 0.4904 - accuracy: 0.8246 - val_loss: 0.9143 - val_accuracy: 0.7468\n",
      "Epoch 2/50\n",
      "109/109 [==============================] - 2s 16ms/step - loss: 0.1443 - accuracy: 0.9589 - val_loss: 0.8564 - val_accuracy: 0.7532\n",
      "Epoch 3/50\n",
      "109/109 [==============================] - 2s 17ms/step - loss: 0.1253 - accuracy: 0.9684 - val_loss: 0.8686 - val_accuracy: 0.7628\n",
      "Epoch 4/50\n",
      "109/109 [==============================] - 2s 16ms/step - loss: 0.1061 - accuracy: 0.9712 - val_loss: 1.2992 - val_accuracy: 0.7628\n",
      "Epoch 5/50\n",
      "109/109 [==============================] - 2s 17ms/step - loss: 0.0826 - accuracy: 0.9815 - val_loss: 1.0478 - val_accuracy: 0.7612\n",
      "Epoch 6/50\n",
      "109/109 [==============================] - 2s 17ms/step - loss: 0.0932 - accuracy: 0.9781 - val_loss: 1.6613 - val_accuracy: 0.7452\n",
      "Epoch 7/50\n",
      "109/109 [==============================] - 2s 16ms/step - loss: 0.0696 - accuracy: 0.9846 - val_loss: 1.0909 - val_accuracy: 0.7772\n",
      "Epoch 8/50\n",
      "109/109 [==============================] - 2s 17ms/step - loss: 0.0636 - accuracy: 0.9868 - val_loss: 1.7272 - val_accuracy: 0.7372\n",
      "Epoch 9/50\n",
      "109/109 [==============================] - 2s 16ms/step - loss: 0.0556 - accuracy: 0.9889 - val_loss: 1.6014 - val_accuracy: 0.7596\n",
      "Epoch 10/50\n",
      "109/109 [==============================] - 2s 16ms/step - loss: 0.0472 - accuracy: 0.9923 - val_loss: 1.1475 - val_accuracy: 0.7949\n",
      "Epoch 11/50\n",
      "109/109 [==============================] - 2s 16ms/step - loss: 0.0423 - accuracy: 0.9949 - val_loss: 2.9151 - val_accuracy: 0.6875\n",
      "Epoch 12/50\n",
      "109/109 [==============================] - 2s 16ms/step - loss: 0.0682 - accuracy: 0.9866 - val_loss: 1.3572 - val_accuracy: 0.7933\n",
      "Epoch 13/50\n",
      "109/109 [==============================] - 2s 17ms/step - loss: 0.0529 - accuracy: 0.9902 - val_loss: 1.5251 - val_accuracy: 0.7532\n",
      "Epoch 14/50\n",
      "109/109 [==============================] - 2s 17ms/step - loss: 0.0392 - accuracy: 0.9941 - val_loss: 2.2506 - val_accuracy: 0.7564\n",
      "Epoch 15/50\n",
      "109/109 [==============================] - 2s 17ms/step - loss: 0.0385 - accuracy: 0.9960 - val_loss: 1.9982 - val_accuracy: 0.7340\n",
      "Epoch 16/50\n",
      "109/109 [==============================] - 2s 16ms/step - loss: 0.0539 - accuracy: 0.9882 - val_loss: 1.4492 - val_accuracy: 0.8029\n",
      "Epoch 17/50\n",
      "109/109 [==============================] - 2s 17ms/step - loss: 0.0357 - accuracy: 0.9966 - val_loss: 1.6336 - val_accuracy: 0.7708\n",
      "Epoch 18/50\n",
      "109/109 [==============================] - 2s 17ms/step - loss: 0.0272 - accuracy: 0.9983 - val_loss: 1.9648 - val_accuracy: 0.7821\n",
      "Epoch 19/50\n",
      "109/109 [==============================] - 2s 17ms/step - loss: 0.0228 - accuracy: 1.0000 - val_loss: 2.2685 - val_accuracy: 0.7628\n",
      "Epoch 20/50\n",
      "109/109 [==============================] - 2s 17ms/step - loss: 0.0213 - accuracy: 0.9997 - val_loss: 2.8409 - val_accuracy: 0.7212\n",
      "Epoch 21/50\n",
      "109/109 [==============================] - 2s 16ms/step - loss: 0.0412 - accuracy: 0.9890 - val_loss: 2.4192 - val_accuracy: 0.7532\n",
      "Epoch 22/50\n",
      "109/109 [==============================] - 2s 16ms/step - loss: 0.0213 - accuracy: 0.9988 - val_loss: 2.1358 - val_accuracy: 0.7676\n",
      "Epoch 00022: early stopping\n",
      "55/55 [==============================] - 1s 9ms/step - loss: 0.1370 - accuracy: 0.9701\n",
      "Epoch 1/50\n",
      "109/109 [==============================] - 3s 19ms/step - loss: 0.4920 - accuracy: 0.8228 - val_loss: 0.9568 - val_accuracy: 0.7179\n",
      "Epoch 2/50\n",
      "109/109 [==============================] - 2s 17ms/step - loss: 0.1797 - accuracy: 0.9384 - val_loss: 0.9243 - val_accuracy: 0.7388\n",
      "Epoch 3/50\n",
      "109/109 [==============================] - 2s 17ms/step - loss: 0.1408 - accuracy: 0.9585 - val_loss: 0.6684 - val_accuracy: 0.7965\n",
      "Epoch 4/50\n",
      "109/109 [==============================] - 2s 17ms/step - loss: 0.1179 - accuracy: 0.9652 - val_loss: 1.1896 - val_accuracy: 0.7228\n",
      "Epoch 5/50\n",
      "109/109 [==============================] - 2s 16ms/step - loss: 0.0973 - accuracy: 0.9772 - val_loss: 1.1239 - val_accuracy: 0.7244\n",
      "Epoch 6/50\n",
      "109/109 [==============================] - 2s 16ms/step - loss: 0.1036 - accuracy: 0.9717 - val_loss: 0.8954 - val_accuracy: 0.7837\n",
      "Epoch 7/50\n",
      "109/109 [==============================] - 2s 16ms/step - loss: 0.0753 - accuracy: 0.9820 - val_loss: 0.9938 - val_accuracy: 0.7869\n",
      "Epoch 8/50\n",
      "109/109 [==============================] - 2s 17ms/step - loss: 0.0714 - accuracy: 0.9845 - val_loss: 1.2826 - val_accuracy: 0.7676\n",
      "Epoch 9/50\n",
      "109/109 [==============================] - 2s 17ms/step - loss: 0.0776 - accuracy: 0.9824 - val_loss: 0.9465 - val_accuracy: 0.7997\n",
      "Epoch 10/50\n",
      "109/109 [==============================] - 2s 17ms/step - loss: 0.0662 - accuracy: 0.9843 - val_loss: 1.4021 - val_accuracy: 0.7724\n",
      "Epoch 11/50\n",
      "109/109 [==============================] - 2s 16ms/step - loss: 0.0687 - accuracy: 0.9834 - val_loss: 1.5295 - val_accuracy: 0.7548\n",
      "Epoch 12/50\n",
      "109/109 [==============================] - 2s 16ms/step - loss: 0.0519 - accuracy: 0.9910 - val_loss: 1.4123 - val_accuracy: 0.7660\n",
      "Epoch 13/50\n",
      "109/109 [==============================] - 2s 16ms/step - loss: 0.0368 - accuracy: 0.9951 - val_loss: 1.8887 - val_accuracy: 0.7420\n",
      "Epoch 14/50\n",
      "109/109 [==============================] - 2s 16ms/step - loss: 0.0435 - accuracy: 0.9925 - val_loss: 1.7986 - val_accuracy: 0.7468\n",
      "Epoch 15/50\n",
      "109/109 [==============================] - 2s 17ms/step - loss: 0.0335 - accuracy: 0.9953 - val_loss: 1.4633 - val_accuracy: 0.7788\n",
      "Epoch 00015: early stopping\n",
      "55/55 [==============================] - 1s 8ms/step - loss: 0.1279 - accuracy: 0.9735\n",
      "Epoch 1/50\n",
      "109/109 [==============================] - 3s 18ms/step - loss: 0.4716 - accuracy: 0.8106 - val_loss: 0.4284 - val_accuracy: 0.8317\n",
      "Epoch 2/50\n",
      "109/109 [==============================] - 2s 17ms/step - loss: 0.1625 - accuracy: 0.9473 - val_loss: 0.8151 - val_accuracy: 0.7356\n",
      "Epoch 3/50\n",
      "109/109 [==============================] - 2s 16ms/step - loss: 0.1369 - accuracy: 0.9578 - val_loss: 1.0409 - val_accuracy: 0.7612\n",
      "Epoch 4/50\n",
      "109/109 [==============================] - 2s 17ms/step - loss: 0.1029 - accuracy: 0.9767 - val_loss: 0.6375 - val_accuracy: 0.7997\n",
      "Epoch 5/50\n",
      "109/109 [==============================] - 2s 17ms/step - loss: 0.1024 - accuracy: 0.9728 - val_loss: 1.0961 - val_accuracy: 0.7420\n",
      "Epoch 6/50\n",
      "109/109 [==============================] - 2s 17ms/step - loss: 0.0819 - accuracy: 0.9815 - val_loss: 0.7225 - val_accuracy: 0.7740\n",
      "Epoch 7/50\n",
      "109/109 [==============================] - 2s 16ms/step - loss: 0.0713 - accuracy: 0.9851 - val_loss: 0.9946 - val_accuracy: 0.7628\n",
      "Epoch 00007: early stopping\n",
      "55/55 [==============================] - 1s 8ms/step - loss: 0.1119 - accuracy: 0.9666\n",
      "Epoch 1/50\n",
      "163/163 [==============================] - 3s 16ms/step - loss: 0.7312 - accuracy: 0.8273 - val_loss: 0.9803 - val_accuracy: 0.7147\n",
      "Epoch 2/50\n",
      "163/163 [==============================] - 2s 15ms/step - loss: 0.2142 - accuracy: 0.9569 - val_loss: 0.8229 - val_accuracy: 0.7740\n",
      "Epoch 3/50\n",
      "163/163 [==============================] - 2s 15ms/step - loss: 0.1723 - accuracy: 0.9632 - val_loss: 0.8604 - val_accuracy: 0.7580\n",
      "Epoch 4/50\n",
      "163/163 [==============================] - 2s 15ms/step - loss: 0.1447 - accuracy: 0.9719 - val_loss: 0.6963 - val_accuracy: 0.8093\n",
      "Epoch 5/50\n",
      "163/163 [==============================] - 2s 15ms/step - loss: 0.1212 - accuracy: 0.9780 - val_loss: 1.6063 - val_accuracy: 0.7324\n",
      "Epoch 6/50\n",
      "163/163 [==============================] - 2s 15ms/step - loss: 0.1351 - accuracy: 0.9722 - val_loss: 1.1397 - val_accuracy: 0.7596\n",
      "Epoch 7/50\n",
      "163/163 [==============================] - 2s 15ms/step - loss: 0.1048 - accuracy: 0.9767 - val_loss: 0.9237 - val_accuracy: 0.7837\n",
      "Epoch 8/50\n",
      "163/163 [==============================] - 2s 15ms/step - loss: 0.1128 - accuracy: 0.9744 - val_loss: 1.4501 - val_accuracy: 0.7404\n",
      "Epoch 9/50\n",
      "163/163 [==============================] - 2s 15ms/step - loss: 0.0942 - accuracy: 0.9786 - val_loss: 1.1770 - val_accuracy: 0.7468\n",
      "Epoch 10/50\n",
      "163/163 [==============================] - 2s 15ms/step - loss: 0.1083 - accuracy: 0.9748 - val_loss: 0.7584 - val_accuracy: 0.7756\n",
      "Epoch 00010: early stopping\n"
     ]
    }
   ],
   "source": [
    "L2_grid_history = L2_grid.fit(X_train, y_train,\n",
    "                              epochs=50,\n",
    "                              batch_size=32,\n",
    "                              callbacks=es,\n",
    "                              validation_data=(X_test, y_test))"
   ]
  },
  {
   "cell_type": "code",
   "execution_count": 46,
   "metadata": {
    "ExecuteTime": {
     "end_time": "2021-05-15T02:18:05.210886Z",
     "start_time": "2021-05-15T02:18:05.207560Z"
    },
    "colab": {
     "base_uri": "https://localhost:8080/"
    },
    "id": "oBAMfKXhCoJx",
    "outputId": "d09561e9-74ff-4512-d793-4ed3bd5fe164"
   },
   "outputs": [
    {
     "data": {
      "text/plain": [
       "{'weight_decay': 0.005}"
      ]
     },
     "execution_count": 46,
     "metadata": {
      "tags": []
     },
     "output_type": "execute_result"
    }
   ],
   "source": [
    "# Find the best weight_decay value\n",
    "L2_grid_history.best_params_"
   ]
  },
  {
   "cell_type": "markdown",
   "metadata": {
    "id": "Yk4p0Z4PCoJt"
   },
   "source": [
    "#### 2) L2 Regularizer (0.005)"
   ]
  },
  {
   "cell_type": "markdown",
   "metadata": {
    "id": "lXnm2A8qCoJt"
   },
   "source": [
    "https://machinelearningmastery.com/weight-regularization-to-reduce-overfitting-of-deep-learning-models/"
   ]
  },
  {
   "cell_type": "markdown",
   "metadata": {
    "id": "z3Zssv-MYaU4"
   },
   "source": [
    "L2 hyperparameter choosing https://machinelearningmastery.com/how-to-reduce-overfitting-in-deep-learning-with-weight-regularization/"
   ]
  },
  {
   "cell_type": "code",
   "execution_count": null,
   "metadata": {},
   "outputs": [],
   "source": [
    "L2_reg = L2_regularizer_model(0.005)"
   ]
  },
  {
   "cell_type": "code",
   "execution_count": 36,
   "metadata": {
    "ExecuteTime": {
     "end_time": "2021-05-14T01:49:30.385214Z",
     "start_time": "2021-05-14T01:49:30.303991Z"
    },
    "id": "sbnjX7tUCoJt"
   },
   "outputs": [],
   "source": [
    "# L2_reg = models.Sequential()\n",
    "# L2_reg.add(layers.Conv2D(32, (3, 3), kernel_regularizer=regularizers.l2(0.005), \n",
    "#                          activation='relu', input_shape=X_train.shape[1:]))\n",
    "# L2_reg.add(layers.MaxPooling2D((2, 2)))\n",
    "\n",
    "# L2_reg.add(layers.Conv2D(64, (3, 3), kernel_regularizer=regularizers.l2(0.005), activation='relu'))\n",
    "# L2_reg.add(layers.MaxPooling2D((2, 2)))\n",
    "\n",
    "# L2_reg.add(layers.Conv2D(128, (3, 3), kernel_regularizer=regularizers.l2(0.005), activation='relu'))\n",
    "# L2_reg.add(layers.MaxPooling2D((2, 2)))\n",
    "\n",
    "# L2_reg.add(layers.Flatten())\n",
    "# L2_reg.add(layers.Dense(128, activation='relu'))\n",
    "# L2_reg.add(layers.Dense(1, activation='sigmoid'))\n",
    "\n",
    "# L2_reg.compile(optimizer='adam',\n",
    "#                loss='binary_crossentropy',\n",
    "#                metrics=['accuracy'])"
   ]
  },
  {
   "cell_type": "code",
   "execution_count": 37,
   "metadata": {
    "ExecuteTime": {
     "end_time": "2021-05-14T01:49:35.833275Z",
     "start_time": "2021-05-14T01:49:35.830506Z"
    },
    "id": "l_JdjNyKCoJu"
   },
   "outputs": [],
   "source": [
    "mc_L2_reg = ModelCheckpoint(filepath='/content/saved_models/L2_reg.h5', \n",
    "                            monitor='val_accuracy', mode='max', verbose=1, save_best_only=True)"
   ]
  },
  {
   "cell_type": "code",
   "execution_count": 38,
   "metadata": {
    "ExecuteTime": {
     "end_time": "2021-05-14T01:55:39.499137Z",
     "start_time": "2021-05-14T01:49:59.304428Z"
    },
    "colab": {
     "base_uri": "https://localhost:8080/"
    },
    "id": "eZxCp_gFCoJu",
    "outputId": "c66d6929-e674-4340-c537-5cb8264978ed",
    "scrolled": false
   },
   "outputs": [
    {
     "name": "stdout",
     "output_type": "stream",
     "text": [
      "Epoch 1/50\n",
      "163/163 [==============================] - 3s 16ms/step - loss: 0.8248 - accuracy: 0.7854 - val_loss: 0.7667 - val_accuracy: 0.7692\n",
      "\n",
      "Epoch 00001: val_accuracy improved from -inf to 0.76923, saving model to /content/saved_models/L2_reg.h5\n",
      "Epoch 2/50\n",
      "163/163 [==============================] - 2s 15ms/step - loss: 0.2280 - accuracy: 0.9576 - val_loss: 0.9412 - val_accuracy: 0.7628\n",
      "\n",
      "Epoch 00002: val_accuracy did not improve from 0.76923\n",
      "Epoch 3/50\n",
      "163/163 [==============================] - 2s 15ms/step - loss: 0.1819 - accuracy: 0.9608 - val_loss: 0.8173 - val_accuracy: 0.7644\n",
      "\n",
      "Epoch 00003: val_accuracy did not improve from 0.76923\n",
      "Epoch 4/50\n",
      "163/163 [==============================] - 2s 15ms/step - loss: 0.1576 - accuracy: 0.9642 - val_loss: 0.7476 - val_accuracy: 0.7917\n",
      "\n",
      "Epoch 00004: val_accuracy improved from 0.76923 to 0.79167, saving model to /content/saved_models/L2_reg.h5\n",
      "Epoch 5/50\n",
      "163/163 [==============================] - 2s 15ms/step - loss: 0.1228 - accuracy: 0.9715 - val_loss: 0.6067 - val_accuracy: 0.8157\n",
      "\n",
      "Epoch 00005: val_accuracy improved from 0.79167 to 0.81571, saving model to /content/saved_models/L2_reg.h5\n",
      "Epoch 6/50\n",
      "163/163 [==============================] - 2s 15ms/step - loss: 0.1206 - accuracy: 0.9745 - val_loss: 1.0808 - val_accuracy: 0.7580\n",
      "\n",
      "Epoch 00006: val_accuracy did not improve from 0.81571\n",
      "Epoch 7/50\n",
      "163/163 [==============================] - 2s 15ms/step - loss: 0.1011 - accuracy: 0.9787 - val_loss: 0.8724 - val_accuracy: 0.7788\n",
      "\n",
      "Epoch 00007: val_accuracy did not improve from 0.81571\n",
      "Epoch 8/50\n",
      "163/163 [==============================] - 2s 15ms/step - loss: 0.1060 - accuracy: 0.9778 - val_loss: 1.3023 - val_accuracy: 0.7484\n",
      "\n",
      "Epoch 00008: val_accuracy did not improve from 0.81571\n",
      "Epoch 9/50\n",
      "163/163 [==============================] - 2s 15ms/step - loss: 0.0904 - accuracy: 0.9775 - val_loss: 1.0005 - val_accuracy: 0.7532\n",
      "\n",
      "Epoch 00009: val_accuracy did not improve from 0.81571\n",
      "Epoch 10/50\n",
      "163/163 [==============================] - 2s 15ms/step - loss: 0.0968 - accuracy: 0.9790 - val_loss: 0.8271 - val_accuracy: 0.7692\n",
      "\n",
      "Epoch 00010: val_accuracy did not improve from 0.81571\n",
      "Epoch 11/50\n",
      "163/163 [==============================] - 2s 15ms/step - loss: 0.0911 - accuracy: 0.9792 - val_loss: 0.9622 - val_accuracy: 0.7676\n",
      "\n",
      "Epoch 00011: val_accuracy did not improve from 0.81571\n",
      "Epoch 00011: early stopping\n"
     ]
    }
   ],
   "source": [
    "L2_reg_history = L2_reg.fit(X_train, y_train,\n",
    "                            epochs=50,\n",
    "                            batch_size=32,\n",
    "                            callbacks=[es, mc_L2_reg],\n",
    "                            validation_data=(X_test, y_test))"
   ]
  },
  {
   "cell_type": "code",
   "execution_count": 39,
   "metadata": {
    "ExecuteTime": {
     "end_time": "2021-05-14T01:55:39.918079Z",
     "start_time": "2021-05-14T01:55:39.501206Z"
    },
    "colab": {
     "base_uri": "https://localhost:8080/",
     "height": 308
    },
    "id": "CM6c5d0eCoJu",
    "outputId": "942c67b0-38a5-4047-d510-a113777318ed",
    "scrolled": true
   },
   "outputs": [
    {
     "data": {
      "image/png": "[encoded data removed]",
      "text/plain": [
       "<Figure size 432x288 with 2 Axes>"
      ]
     },
     "metadata": {
      "needs_background": "light",
      "tags": []
     },
     "output_type": "display_data"
    }
   ],
   "source": [
    "visualize_training_results(L2_reg_history)"
   ]
  },
  {
   "cell_type": "code",
   "execution_count": 40,
   "metadata": {
    "ExecuteTime": {
     "end_time": "2021-05-17T18:51:44.199559Z",
     "start_time": "2021-05-17T18:51:29.865975Z"
    },
    "colab": {
     "base_uri": "https://localhost:8080/",
     "height": 551
    },
    "id": "ZrU8n2n1CoJu",
    "outputId": "7bfb1275-8aeb-4f8d-d2bd-22b124826553",
    "scrolled": false
   },
   "outputs": [
    {
     "name": "stdout",
     "output_type": "stream",
     "text": [
      "163/163 [==============================] - 1s 8ms/step - loss: 0.1401 - accuracy: 0.9666\n",
      "Training Loss:0.1401\n",
      "Training Accuracy:0.9666\n",
      "20/20 [==============================] - 0s 8ms/step - loss: 0.6067 - accuracy: 0.8157\n",
      "Test Loss:0.6067\n",
      "Test Accuracy:0.8157\n"
     ]
    },
    {
     "data": {
      "image/png": "[encoded data removed]",
      "text/plain": [
       "<Figure size 432x288 with 2 Axes>"
      ]
     },
     "metadata": {
      "needs_background": "light",
      "tags": []
     },
     "output_type": "display_data"
    },
    {
     "name": "stdout",
     "output_type": "stream",
     "text": [
      "              precision    recall  f1-score   support\n",
      "\n",
      "         0.0       0.95      0.54      0.69       234\n",
      "         1.0       0.78      0.98      0.87       390\n",
      "\n",
      "    accuracy                           0.82       624\n",
      "   macro avg       0.86      0.76      0.78       624\n",
      "weighted avg       0.84      0.82      0.80       624\n",
      "\n"
     ]
    },
    {
     "data": {
      "text/plain": [
       "([0.9666], [0.8157])"
      ]
     },
     "execution_count": 40,
     "metadata": {
      "tags": []
     },
     "output_type": "execute_result"
    }
   ],
   "source": [
    "L2 = load_model('/content/saved_models/L2_reg.h5')\n",
    "L2m = model_evaluation(L2)\n",
    "L2m"
   ]
  },
  {
   "cell_type": "markdown",
   "metadata": {
    "id": "roiFVUUeCoJu"
   },
   "source": [
    ">**Comment:** \n",
    "- The L2 took less time to run compare with the baseline model\n",
    "- The train accuracy (0.9442) is higher than test accuracy (0.8446) which indicates the model is overfit\n",
    "- Compare with the baseline model, test accuray shows some improvements\n",
    "- There are more false positive than false negative"
   ]
  },
  {
   "cell_type": "markdown",
   "metadata": {
    "id": "UoamlcPnCoJy"
   },
   "source": [
    "https://datascience.stackexchange.com/questions/77881/whats-the-difference-between-gridsearchcrossvalidation-score-and-score-on-tests#:~:text=Grid%20search%20trains%20different%20models,score%20of%20the%20best%20estimator.&text=It%20means%20that%20the%20model,not%20on%20the%20unseen%20data."
   ]
  },
  {
   "cell_type": "code",
   "execution_count": null,
   "metadata": {
    "id": "pFhOQvUpYaU7"
   },
   "outputs": [],
   "source": []
  },
  {
   "cell_type": "markdown",
   "metadata": {
    "id": "oItcC03sYaU-"
   },
   "source": [
    "### Grid Search For L1 weight decay"
   ]
  },
  {
   "cell_type": "code",
   "execution_count": 52,
   "metadata": {
    "id": "6WYOHH_EYaU-"
   },
   "outputs": [],
   "source": [
    "def L1_regularizer_model(weight_decay):\n",
    "    \n",
    "    # Build the model with L2 regularizer\n",
    "    model = models.Sequential()\n",
    "    model.add(layers.Conv2D(32, (3, 3), kernel_regularizer=regularizers.l1(weight_decay), \n",
    "                                        activation='relu', input_shape=X_train.shape[1:]))\n",
    "    model.add(layers.MaxPooling2D((2, 2)))\n",
    "\n",
    "    model.add(layers.Conv2D(64, (3, 3), kernel_regularizer=regularizers.l1(weight_decay), activation='relu'))\n",
    "    model.add(layers.MaxPooling2D((2, 2)))\n",
    "\n",
    "    model.add(layers.Conv2D(128, (3, 3), kernel_regularizer=regularizers.l1(weight_decay), activation='relu'))\n",
    "    model.add(layers.MaxPooling2D((2, 2)))\n",
    "\n",
    "    model.add(layers.Flatten())\n",
    "    model.add(layers.Dense(128, activation='relu'))\n",
    "    model.add(layers.Dense(1, activation='sigmoid'))\n",
    "\n",
    "    # Compile the model\n",
    "    model.compile(optimizer='adam',\n",
    "                  loss='binary_crossentropy',\n",
    "                  metrics=['accuracy'])\n",
    "    \n",
    "    return model"
   ]
  },
  {
   "cell_type": "code",
   "execution_count": 53,
   "metadata": {
    "id": "Km6KDjDkYaU-"
   },
   "outputs": [],
   "source": [
    "L1_model = KerasClassifier(build_fn=L1_regularizer_model)"
   ]
  },
  {
   "cell_type": "code",
   "execution_count": 54,
   "metadata": {
    "id": "_EjsdBjVYaU-"
   },
   "outputs": [],
   "source": [
    "L1_grid = GridSearchCV(L1_model, param_grid=reg_param_grid, cv=3)"
   ]
  },
  {
   "cell_type": "code",
   "execution_count": 55,
   "metadata": {
    "colab": {
     "base_uri": "https://localhost:8080/"
    },
    "id": "8hCWzP_XYaU-",
    "outputId": "041e455f-1293-4b75-9c65-75618a48c272",
    "scrolled": false
   },
   "outputs": [
    {
     "name": "stdout",
     "output_type": "stream",
     "text": [
      "Epoch 1/50\n",
      "109/109 [==============================] - 3s 18ms/step - loss: 726.3731 - accuracy: 0.7468 - val_loss: 8.8447 - val_accuracy: 0.6250\n",
      "Epoch 2/50\n",
      "109/109 [==============================] - 2s 16ms/step - loss: 7.1011 - accuracy: 0.7432 - val_loss: 6.4452 - val_accuracy: 0.6250\n",
      "Epoch 3/50\n",
      "109/109 [==============================] - 2s 16ms/step - loss: 6.2979 - accuracy: 0.7477 - val_loss: 6.4079 - val_accuracy: 0.6250\n",
      "Epoch 4/50\n",
      "109/109 [==============================] - 2s 16ms/step - loss: 6.2940 - accuracy: 0.7428 - val_loss: 6.4158 - val_accuracy: 0.6250\n",
      "Epoch 5/50\n",
      "109/109 [==============================] - 2s 16ms/step - loss: 6.2940 - accuracy: 0.7393 - val_loss: 6.4389 - val_accuracy: 0.6250\n",
      "Epoch 6/50\n",
      "109/109 [==============================] - 2s 16ms/step - loss: 6.2895 - accuracy: 0.7477 - val_loss: 6.4661 - val_accuracy: 0.6250\n",
      "Epoch 7/50\n",
      "109/109 [==============================] - 2s 16ms/step - loss: 6.3028 - accuracy: 0.7342 - val_loss: 6.4340 - val_accuracy: 0.6250\n",
      "Epoch 00007: early stopping\n",
      "55/55 [==============================] - 1s 8ms/step - loss: 6.3007 - accuracy: 0.7458\n",
      "Epoch 1/50\n",
      "109/109 [==============================] - 3s 19ms/step - loss: 724.7550 - accuracy: 0.7285 - val_loss: 9.0597 - val_accuracy: 0.6250\n",
      "Epoch 2/50\n",
      "109/109 [==============================] - 2s 16ms/step - loss: 7.1595 - accuracy: 0.7570 - val_loss: 6.4168 - val_accuracy: 0.6250\n",
      "Epoch 3/50\n",
      "109/109 [==============================] - 2s 16ms/step - loss: 6.3040 - accuracy: 0.7498 - val_loss: 6.4260 - val_accuracy: 0.6250\n",
      "Epoch 4/50\n",
      "109/109 [==============================] - 2s 16ms/step - loss: 6.2914 - accuracy: 0.7532 - val_loss: 6.4585 - val_accuracy: 0.6250\n",
      "Epoch 5/50\n",
      "109/109 [==============================] - 2s 16ms/step - loss: 6.2973 - accuracy: 0.7479 - val_loss: 6.4099 - val_accuracy: 0.6250\n",
      "Epoch 6/50\n",
      "109/109 [==============================] - 2s 16ms/step - loss: 6.3039 - accuracy: 0.7395 - val_loss: 6.4818 - val_accuracy: 0.6250\n",
      "Epoch 7/50\n",
      "109/109 [==============================] - 2s 17ms/step - loss: 6.3104 - accuracy: 0.7388 - val_loss: 6.4576 - val_accuracy: 0.6250\n",
      "Epoch 00007: early stopping\n",
      "55/55 [==============================] - 1s 9ms/step - loss: 6.3433 - accuracy: 0.7384\n",
      "Epoch 1/50\n",
      "109/109 [==============================] - 3s 19ms/step - loss: 723.6189 - accuracy: 0.7056 - val_loss: 8.8541 - val_accuracy: 0.6250\n",
      "Epoch 2/50\n",
      "109/109 [==============================] - 2s 16ms/step - loss: 7.0992 - accuracy: 0.7364 - val_loss: 6.4296 - val_accuracy: 0.6250\n",
      "Epoch 3/50\n",
      "109/109 [==============================] - 2s 16ms/step - loss: 6.3244 - accuracy: 0.7303 - val_loss: 6.4197 - val_accuracy: 0.6250\n",
      "Epoch 4/50\n",
      "109/109 [==============================] - 2s 16ms/step - loss: 6.2995 - accuracy: 0.7508 - val_loss: 6.4195 - val_accuracy: 0.6250\n",
      "Epoch 5/50\n",
      "109/109 [==============================] - 2s 16ms/step - loss: 6.2894 - accuracy: 0.7495 - val_loss: 6.3878 - val_accuracy: 0.6250\n",
      "Epoch 6/50\n",
      "109/109 [==============================] - 2s 16ms/step - loss: 6.3035 - accuracy: 0.7392 - val_loss: 6.5138 - val_accuracy: 0.6250\n",
      "Epoch 7/50\n",
      "109/109 [==============================] - 2s 17ms/step - loss: 6.2927 - accuracy: 0.7462 - val_loss: 6.4373 - val_accuracy: 0.6250\n",
      "Epoch 00007: early stopping\n",
      "55/55 [==============================] - 1s 9ms/step - loss: 6.3133 - accuracy: 0.7445\n",
      "Epoch 1/50\n",
      "109/109 [==============================] - 3s 18ms/step - loss: 73.3134 - accuracy: 0.7567 - val_loss: 1.6602 - val_accuracy: 0.6250\n",
      "Epoch 2/50\n",
      "109/109 [==============================] - 2s 16ms/step - loss: 1.3074 - accuracy: 0.7432 - val_loss: 1.2956 - val_accuracy: 0.6250\n",
      "Epoch 3/50\n",
      "109/109 [==============================] - 2s 16ms/step - loss: 1.1412 - accuracy: 0.7477 - val_loss: 1.2639 - val_accuracy: 0.6250\n",
      "Epoch 4/50\n",
      "109/109 [==============================] - 2s 16ms/step - loss: 1.1451 - accuracy: 0.7428 - val_loss: 1.2653 - val_accuracy: 0.6250\n",
      "Epoch 5/50\n",
      "109/109 [==============================] - 2s 17ms/step - loss: 1.1470 - accuracy: 0.7393 - val_loss: 1.2786 - val_accuracy: 0.6250\n",
      "Epoch 6/50\n",
      "109/109 [==============================] - 2s 17ms/step - loss: 1.1366 - accuracy: 0.7477 - val_loss: 1.2589 - val_accuracy: 0.6250\n",
      "Epoch 7/50\n",
      "109/109 [==============================] - 2s 16ms/step - loss: 1.1566 - accuracy: 0.7342 - val_loss: 1.2618 - val_accuracy: 0.6250\n",
      "Epoch 00007: early stopping\n",
      "55/55 [==============================] - 1s 9ms/step - loss: 1.1316 - accuracy: 0.7458\n",
      "Epoch 1/50\n",
      "109/109 [==============================] - 3s 19ms/step - loss: 72.8894 - accuracy: 0.7318 - val_loss: 1.6410 - val_accuracy: 0.6250\n",
      "Epoch 2/50\n",
      "109/109 [==============================] - 2s 17ms/step - loss: 1.2482 - accuracy: 0.7570 - val_loss: 1.2664 - val_accuracy: 0.6250\n",
      "Epoch 3/50\n",
      "109/109 [==============================] - 2s 16ms/step - loss: 1.1317 - accuracy: 0.7498 - val_loss: 1.2637 - val_accuracy: 0.6250\n",
      "Epoch 4/50\n",
      "109/109 [==============================] - 2s 16ms/step - loss: 1.1214 - accuracy: 0.7532 - val_loss: 1.3185 - val_accuracy: 0.6250\n",
      "Epoch 5/50\n",
      "109/109 [==============================] - 2s 16ms/step - loss: 1.1296 - accuracy: 0.7479 - val_loss: 1.2471 - val_accuracy: 0.6250\n",
      "Epoch 6/50\n",
      "109/109 [==============================] - 2s 16ms/step - loss: 1.1330 - accuracy: 0.7395 - val_loss: 1.2596 - val_accuracy: 0.6250\n",
      "Epoch 7/50\n",
      "109/109 [==============================] - 2s 16ms/step - loss: 1.1426 - accuracy: 0.7388 - val_loss: 1.2504 - val_accuracy: 0.6250\n",
      "Epoch 00007: early stopping\n",
      "55/55 [==============================] - 1s 9ms/step - loss: 1.1344 - accuracy: 0.7384\n",
      "Epoch 1/50\n",
      "109/109 [==============================] - 3s 18ms/step - loss: 73.1750 - accuracy: 0.7328 - val_loss: 1.6923 - val_accuracy: 0.6250\n",
      "Epoch 2/50\n",
      "109/109 [==============================] - 2s 16ms/step - loss: 1.3261 - accuracy: 0.7364 - val_loss: 1.2582 - val_accuracy: 0.6250\n",
      "Epoch 3/50\n",
      "109/109 [==============================] - 2s 16ms/step - loss: 1.1582 - accuracy: 0.7303 - val_loss: 1.2520 - val_accuracy: 0.6250\n",
      "Epoch 4/50\n",
      "109/109 [==============================] - 2s 16ms/step - loss: 1.1391 - accuracy: 0.7508 - val_loss: 1.2606 - val_accuracy: 0.6250\n",
      "Epoch 5/50\n",
      "109/109 [==============================] - 2s 16ms/step - loss: 1.1352 - accuracy: 0.7495 - val_loss: 1.2756 - val_accuracy: 0.6250\n",
      "Epoch 6/50\n",
      "109/109 [==============================] - 2s 16ms/step - loss: 1.1499 - accuracy: 0.7392 - val_loss: 1.2724 - val_accuracy: 0.6250\n",
      "Epoch 7/50\n",
      "109/109 [==============================] - 2s 17ms/step - loss: 1.1365 - accuracy: 0.7462 - val_loss: 1.2569 - val_accuracy: 0.6250\n",
      "Epoch 00007: early stopping\n",
      "55/55 [==============================] - 1s 9ms/step - loss: 1.1329 - accuracy: 0.7445\n",
      "Epoch 1/50\n",
      "109/109 [==============================] - 3s 22ms/step - loss: 8.6176 - accuracy: 0.7656 - val_loss: 1.0415 - val_accuracy: 0.7708\n",
      "Epoch 2/50\n",
      "109/109 [==============================] - 2s 16ms/step - loss: 0.5952 - accuracy: 0.9271 - val_loss: 0.9061 - val_accuracy: 0.7516\n",
      "Epoch 3/50\n",
      "109/109 [==============================] - 2s 16ms/step - loss: 0.3744 - accuracy: 0.9355 - val_loss: 0.8790 - val_accuracy: 0.7452\n",
      "Epoch 4/50\n",
      "109/109 [==============================] - 2s 16ms/step - loss: 0.3388 - accuracy: 0.9481 - val_loss: 1.1185 - val_accuracy: 0.7131\n",
      "Epoch 5/50\n",
      "109/109 [==============================] - 2s 16ms/step - loss: 0.2674 - accuracy: 0.9579 - val_loss: 0.6725 - val_accuracy: 0.7837\n",
      "Epoch 6/50\n",
      "109/109 [==============================] - 2s 16ms/step - loss: 0.2550 - accuracy: 0.9605 - val_loss: 1.2599 - val_accuracy: 0.6939\n",
      "Epoch 7/50\n",
      "109/109 [==============================] - 2s 16ms/step - loss: 0.2570 - accuracy: 0.9543 - val_loss: 0.8849 - val_accuracy: 0.7564\n",
      "Epoch 8/50\n",
      "109/109 [==============================] - 2s 16ms/step - loss: 0.2188 - accuracy: 0.9668 - val_loss: 1.0441 - val_accuracy: 0.7244\n",
      "Epoch 9/50\n",
      "109/109 [==============================] - 2s 17ms/step - loss: 0.1960 - accuracy: 0.9701 - val_loss: 0.9218 - val_accuracy: 0.7580\n",
      "Epoch 10/50\n",
      "109/109 [==============================] - 2s 16ms/step - loss: 0.1929 - accuracy: 0.9686 - val_loss: 0.8392 - val_accuracy: 0.7644\n",
      "Epoch 11/50\n",
      "109/109 [==============================] - 2s 16ms/step - loss: 0.1857 - accuracy: 0.9701 - val_loss: 1.1679 - val_accuracy: 0.7179\n",
      "Epoch 00011: early stopping\n",
      "55/55 [==============================] - 1s 9ms/step - loss: 0.1961 - accuracy: 0.9649\n",
      "Epoch 1/50\n",
      "109/109 [==============================] - 3s 18ms/step - loss: 8.1296 - accuracy: 0.7930 - val_loss: 0.9172 - val_accuracy: 0.7596\n",
      "Epoch 2/50\n",
      "109/109 [==============================] - 2s 17ms/step - loss: 0.5120 - accuracy: 0.9444 - val_loss: 0.6984 - val_accuracy: 0.7949\n",
      "Epoch 3/50\n",
      "109/109 [==============================] - 2s 16ms/step - loss: 0.3358 - accuracy: 0.9471 - val_loss: 0.5808 - val_accuracy: 0.8157\n",
      "Epoch 4/50\n",
      "109/109 [==============================] - 2s 16ms/step - loss: 0.2973 - accuracy: 0.9490 - val_loss: 1.0031 - val_accuracy: 0.7051\n",
      "Epoch 5/50\n",
      "109/109 [==============================] - 2s 16ms/step - loss: 0.2601 - accuracy: 0.9583 - val_loss: 1.0926 - val_accuracy: 0.7276\n",
      "Epoch 6/50\n",
      "109/109 [==============================] - 2s 16ms/step - loss: 0.2313 - accuracy: 0.9651 - val_loss: 1.6181 - val_accuracy: 0.6827\n",
      "Epoch 7/50\n",
      "109/109 [==============================] - 2s 16ms/step - loss: 0.2492 - accuracy: 0.9574 - val_loss: 0.9497 - val_accuracy: 0.7548\n",
      "Epoch 8/50\n",
      "109/109 [==============================] - 2s 17ms/step - loss: 0.2153 - accuracy: 0.9638 - val_loss: 1.1694 - val_accuracy: 0.7131\n",
      "Epoch 9/50\n",
      "109/109 [==============================] - 2s 16ms/step - loss: 0.2104 - accuracy: 0.9608 - val_loss: 0.7548 - val_accuracy: 0.7933\n",
      "Epoch 00009: early stopping\n",
      "55/55 [==============================] - 1s 8ms/step - loss: 0.2166 - accuracy: 0.9626\n",
      "Epoch 1/50\n",
      "109/109 [==============================] - 3s 18ms/step - loss: 8.2037 - accuracy: 0.7504 - val_loss: 1.0771 - val_accuracy: 0.6250\n",
      "Epoch 2/50\n",
      "109/109 [==============================] - 2s 16ms/step - loss: 0.6899 - accuracy: 0.8510 - val_loss: 0.8140 - val_accuracy: 0.6843\n",
      "Epoch 3/50\n",
      "109/109 [==============================] - 2s 16ms/step - loss: 0.4571 - accuracy: 0.9272 - val_loss: 0.7598 - val_accuracy: 0.7340\n",
      "Epoch 4/50\n",
      "109/109 [==============================] - 2s 16ms/step - loss: 0.3727 - accuracy: 0.9401 - val_loss: 0.7175 - val_accuracy: 0.7596\n",
      "Epoch 5/50\n",
      "109/109 [==============================] - 2s 16ms/step - loss: 0.3426 - accuracy: 0.9454 - val_loss: 1.0201 - val_accuracy: 0.7035\n",
      "Epoch 6/50\n",
      "109/109 [==============================] - 2s 16ms/step - loss: 0.3227 - accuracy: 0.9584 - val_loss: 0.6388 - val_accuracy: 0.7997\n",
      "Epoch 7/50\n",
      "109/109 [==============================] - 2s 16ms/step - loss: 0.2742 - accuracy: 0.9574 - val_loss: 0.8380 - val_accuracy: 0.7484\n",
      "Epoch 8/50\n",
      "109/109 [==============================] - 2s 16ms/step - loss: 0.2117 - accuracy: 0.9670 - val_loss: 0.9579 - val_accuracy: 0.7484\n",
      "Epoch 9/50\n",
      "109/109 [==============================] - 2s 16ms/step - loss: 0.2064 - accuracy: 0.9622 - val_loss: 1.4442 - val_accuracy: 0.7083\n",
      "Epoch 10/50\n",
      "109/109 [==============================] - 2s 17ms/step - loss: 0.1930 - accuracy: 0.9637 - val_loss: 0.8694 - val_accuracy: 0.7772\n",
      "Epoch 11/50\n",
      "109/109 [==============================] - 2s 16ms/step - loss: 0.1750 - accuracy: 0.9701 - val_loss: 0.9184 - val_accuracy: 0.7676\n",
      "Epoch 12/50\n",
      "109/109 [==============================] - 2s 16ms/step - loss: 0.1705 - accuracy: 0.9741 - val_loss: 1.1108 - val_accuracy: 0.7404\n",
      "Epoch 00012: early stopping\n",
      "55/55 [==============================] - 1s 9ms/step - loss: 0.1869 - accuracy: 0.9666\n",
      "Epoch 1/50\n",
      "109/109 [==============================] - 3s 18ms/step - loss: 1.4237 - accuracy: 0.8086 - val_loss: 1.0965 - val_accuracy: 0.7356\n",
      "Epoch 2/50\n",
      "109/109 [==============================] - 2s 16ms/step - loss: 0.4153 - accuracy: 0.9491 - val_loss: 1.0633 - val_accuracy: 0.7388\n",
      "Epoch 3/50\n",
      "109/109 [==============================] - 2s 16ms/step - loss: 0.3114 - accuracy: 0.9613 - val_loss: 1.1401 - val_accuracy: 0.7532\n",
      "Epoch 4/50\n",
      "109/109 [==============================] - 2s 16ms/step - loss: 0.2566 - accuracy: 0.9621 - val_loss: 1.3808 - val_accuracy: 0.7372\n",
      "Epoch 5/50\n",
      "109/109 [==============================] - 2s 16ms/step - loss: 0.1931 - accuracy: 0.9738 - val_loss: 0.9999 - val_accuracy: 0.7596\n",
      "Epoch 6/50\n",
      "109/109 [==============================] - 2s 16ms/step - loss: 0.1856 - accuracy: 0.9726 - val_loss: 1.6478 - val_accuracy: 0.7019\n",
      "Epoch 7/50\n",
      "109/109 [==============================] - 2s 16ms/step - loss: 0.1946 - accuracy: 0.9617 - val_loss: 1.1577 - val_accuracy: 0.7532\n",
      "Epoch 8/50\n",
      "109/109 [==============================] - 2s 17ms/step - loss: 0.1560 - accuracy: 0.9764 - val_loss: 1.2902 - val_accuracy: 0.7532\n",
      "Epoch 9/50\n",
      "109/109 [==============================] - 2s 16ms/step - loss: 0.1334 - accuracy: 0.9801 - val_loss: 0.8739 - val_accuracy: 0.8093\n",
      "Epoch 10/50\n",
      "109/109 [==============================] - 2s 16ms/step - loss: 0.1329 - accuracy: 0.9822 - val_loss: 0.8771 - val_accuracy: 0.7981\n",
      "Epoch 11/50\n",
      "109/109 [==============================] - 2s 16ms/step - loss: 0.1194 - accuracy: 0.9832 - val_loss: 1.4939 - val_accuracy: 0.7099\n",
      "Epoch 12/50\n",
      "109/109 [==============================] - 2s 16ms/step - loss: 0.1202 - accuracy: 0.9789 - val_loss: 1.2981 - val_accuracy: 0.7596\n",
      "Epoch 13/50\n",
      "109/109 [==============================] - 2s 16ms/step - loss: 0.1038 - accuracy: 0.9860 - val_loss: 1.0373 - val_accuracy: 0.7756\n",
      "Epoch 14/50\n",
      "109/109 [==============================] - 2s 16ms/step - loss: 0.1092 - accuracy: 0.9798 - val_loss: 1.0752 - val_accuracy: 0.7772\n",
      "Epoch 15/50\n",
      "109/109 [==============================] - 2s 16ms/step - loss: 0.1067 - accuracy: 0.9798 - val_loss: 1.2363 - val_accuracy: 0.7660\n",
      "Epoch 00015: early stopping\n",
      "55/55 [==============================] - 1s 9ms/step - loss: 0.1314 - accuracy: 0.9724\n",
      "Epoch 1/50\n",
      "109/109 [==============================] - 3s 18ms/step - loss: 1.5557 - accuracy: 0.7999 - val_loss: 0.9958 - val_accuracy: 0.7596\n",
      "Epoch 2/50\n",
      "109/109 [==============================] - 2s 17ms/step - loss: 0.4999 - accuracy: 0.9531 - val_loss: 1.2599 - val_accuracy: 0.7388\n",
      "Epoch 3/50\n",
      "109/109 [==============================] - 2s 16ms/step - loss: 0.3594 - accuracy: 0.9616 - val_loss: 0.7304 - val_accuracy: 0.8141\n",
      "Epoch 4/50\n",
      "109/109 [==============================] - 2s 16ms/step - loss: 0.2797 - accuracy: 0.9635 - val_loss: 1.2771 - val_accuracy: 0.7228\n",
      "Epoch 5/50\n",
      "109/109 [==============================] - 2s 16ms/step - loss: 0.2188 - accuracy: 0.9732 - val_loss: 1.1712 - val_accuracy: 0.7388\n",
      "Epoch 6/50\n",
      "109/109 [==============================] - 2s 17ms/step - loss: 0.1982 - accuracy: 0.9709 - val_loss: 1.1403 - val_accuracy: 0.7163\n",
      "Epoch 7/50\n",
      "109/109 [==============================] - 2s 16ms/step - loss: 0.1846 - accuracy: 0.9701 - val_loss: 0.9017 - val_accuracy: 0.7837\n",
      "Epoch 8/50\n",
      "109/109 [==============================] - 2s 16ms/step - loss: 0.1631 - accuracy: 0.9723 - val_loss: 1.2343 - val_accuracy: 0.7516\n",
      "Epoch 9/50\n",
      "109/109 [==============================] - 2s 16ms/step - loss: 0.1617 - accuracy: 0.9715 - val_loss: 0.7852 - val_accuracy: 0.8125\n",
      "Epoch 00009: early stopping\n",
      "55/55 [==============================] - 1s 9ms/step - loss: 0.1654 - accuracy: 0.9741\n",
      "Epoch 1/50\n",
      "109/109 [==============================] - 3s 18ms/step - loss: 1.4014 - accuracy: 0.7803 - val_loss: 0.5975 - val_accuracy: 0.8606\n",
      "Epoch 2/50\n",
      "109/109 [==============================] - 2s 16ms/step - loss: 0.3870 - accuracy: 0.9418 - val_loss: 1.1276 - val_accuracy: 0.7051\n",
      "Epoch 3/50\n",
      "109/109 [==============================] - 2s 16ms/step - loss: 0.2520 - accuracy: 0.9628 - val_loss: 0.6593 - val_accuracy: 0.8045\n",
      "Epoch 4/50\n",
      "109/109 [==============================] - 2s 17ms/step - loss: 0.2124 - accuracy: 0.9645 - val_loss: 0.5603 - val_accuracy: 0.8157\n",
      "Epoch 5/50\n",
      "109/109 [==============================] - 2s 17ms/step - loss: 0.1949 - accuracy: 0.9644 - val_loss: 1.4021 - val_accuracy: 0.6987\n",
      "Epoch 6/50\n",
      "109/109 [==============================] - 2s 16ms/step - loss: 0.1727 - accuracy: 0.9657 - val_loss: 0.6255 - val_accuracy: 0.8077\n",
      "Epoch 7/50\n",
      "109/109 [==============================] - 2s 16ms/step - loss: 0.1551 - accuracy: 0.9692 - val_loss: 0.7845 - val_accuracy: 0.7853\n",
      "Epoch 00007: early stopping\n",
      "55/55 [==============================] - 1s 9ms/step - loss: 0.1811 - accuracy: 0.9574\n",
      "Epoch 1/50\n",
      "163/163 [==============================] - 3s 16ms/step - loss: 1.1994 - accuracy: 0.8314 - val_loss: 0.9727 - val_accuracy: 0.7692\n",
      "Epoch 2/50\n",
      "163/163 [==============================] - 2s 15ms/step - loss: 0.3198 - accuracy: 0.9564 - val_loss: 1.0164 - val_accuracy: 0.7580\n",
      "Epoch 3/50\n",
      "163/163 [==============================] - 2s 15ms/step - loss: 0.2405 - accuracy: 0.9601 - val_loss: 1.0071 - val_accuracy: 0.7436\n",
      "Epoch 4/50\n",
      "163/163 [==============================] - 2s 15ms/step - loss: 0.2153 - accuracy: 0.9610 - val_loss: 0.8139 - val_accuracy: 0.7917\n",
      "Epoch 5/50\n",
      "163/163 [==============================] - 2s 15ms/step - loss: 0.1640 - accuracy: 0.9730 - val_loss: 0.9053 - val_accuracy: 0.7853\n",
      "Epoch 6/50\n",
      "163/163 [==============================] - 2s 15ms/step - loss: 0.1678 - accuracy: 0.9703 - val_loss: 1.0940 - val_accuracy: 0.7580\n",
      "Epoch 7/50\n",
      "163/163 [==============================] - 2s 15ms/step - loss: 0.1313 - accuracy: 0.9759 - val_loss: 0.9578 - val_accuracy: 0.7740\n",
      "Epoch 8/50\n",
      "163/163 [==============================] - 2s 15ms/step - loss: 0.1324 - accuracy: 0.9752 - val_loss: 1.5307 - val_accuracy: 0.7292\n",
      "Epoch 9/50\n",
      "163/163 [==============================] - 2s 15ms/step - loss: 0.1168 - accuracy: 0.9787 - val_loss: 1.0851 - val_accuracy: 0.7436\n",
      "Epoch 10/50\n",
      "163/163 [==============================] - 2s 15ms/step - loss: 0.1238 - accuracy: 0.9792 - val_loss: 0.8538 - val_accuracy: 0.7660\n",
      "Epoch 00010: early stopping\n"
     ]
    }
   ],
   "source": [
    "L1_grid_history = L1_grid.fit(X_train, y_train,\n",
    "                              epochs=50,\n",
    "                              batch_size=32,\n",
    "                              callbacks=es,\n",
    "                              validation_data=(X_test, y_test))"
   ]
  },
  {
   "cell_type": "code",
   "execution_count": 56,
   "metadata": {
    "colab": {
     "base_uri": "https://localhost:8080/"
    },
    "id": "_bxELHtsYaU_",
    "outputId": "c7b87f86-57cb-4aa6-bfeb-0df1ba73ec81"
   },
   "outputs": [
    {
     "data": {
      "text/plain": [
       "{'weight_decay': 0.0005}"
      ]
     },
     "execution_count": 56,
     "metadata": {
      "tags": []
     },
     "output_type": "execute_result"
    }
   ],
   "source": [
    "# Find the best weight_decay value\n",
    "L1_grid_history.best_params_"
   ]
  },
  {
   "cell_type": "markdown",
   "metadata": {
    "id": "R2-PxjnUCoJy"
   },
   "source": [
    "#### 3) L1 Regularizer (0.0005)"
   ]
  },
  {
   "cell_type": "code",
   "execution_count": 58,
   "metadata": {
    "id": "H8nPF1oIYaU_"
   },
   "outputs": [],
   "source": [
    "L1_reg = L1_regularizer_model(0.0005)"
   ]
  },
  {
   "cell_type": "code",
   "execution_count": 59,
   "metadata": {
    "id": "8c03CHQJYaU_"
   },
   "outputs": [],
   "source": [
    "mc_L1_reg = ModelCheckpoint(filepath='/content/saved_models/L1_reg.h5', \n",
    "                             monitor='val_accuracy', mode='max', verbose=1, save_best_only=True)"
   ]
  },
  {
   "cell_type": "code",
   "execution_count": 60,
   "metadata": {
    "colab": {
     "base_uri": "https://localhost:8080/"
    },
    "id": "kc_f2cXpYaU_",
    "outputId": "544011da-d263-4bd5-a769-2ae933b7817b"
   },
   "outputs": [
    {
     "name": "stdout",
     "output_type": "stream",
     "text": [
      "Epoch 1/50\n",
      "163/163 [==============================] - 3s 17ms/step - loss: 1.2605 - accuracy: 0.8214 - val_loss: 0.7204 - val_accuracy: 0.8349\n",
      "\n",
      "Epoch 00001: val_accuracy improved from -inf to 0.83494, saving model to /content/saved_models/L10005.h5\n",
      "Epoch 2/50\n",
      "163/163 [==============================] - 2s 14ms/step - loss: 0.3509 - accuracy: 0.9563 - val_loss: 0.9128 - val_accuracy: 0.7708\n",
      "\n",
      "Epoch 00002: val_accuracy did not improve from 0.83494\n",
      "Epoch 3/50\n",
      "163/163 [==============================] - 2s 14ms/step - loss: 0.2403 - accuracy: 0.9616 - val_loss: 0.6915 - val_accuracy: 0.7885\n",
      "\n",
      "Epoch 00003: val_accuracy did not improve from 0.83494\n",
      "Epoch 4/50\n",
      "163/163 [==============================] - 2s 15ms/step - loss: 0.2120 - accuracy: 0.9614 - val_loss: 0.7718 - val_accuracy: 0.7917\n",
      "\n",
      "Epoch 00004: val_accuracy did not improve from 0.83494\n",
      "Epoch 5/50\n",
      "163/163 [==============================] - 2s 14ms/step - loss: 0.1650 - accuracy: 0.9707 - val_loss: 0.8191 - val_accuracy: 0.7853\n",
      "\n",
      "Epoch 00005: val_accuracy did not improve from 0.83494\n",
      "Epoch 6/50\n",
      "163/163 [==============================] - 2s 15ms/step - loss: 0.1571 - accuracy: 0.9734 - val_loss: 1.0615 - val_accuracy: 0.7660\n",
      "\n",
      "Epoch 00006: val_accuracy did not improve from 0.83494\n",
      "Epoch 7/50\n",
      "163/163 [==============================] - 2s 15ms/step - loss: 0.1370 - accuracy: 0.9741 - val_loss: 0.9932 - val_accuracy: 0.7740\n",
      "\n",
      "Epoch 00007: val_accuracy did not improve from 0.83494\n",
      "Epoch 00007: early stopping\n"
     ]
    }
   ],
   "source": [
    "L1_reg_history = L1_reg.fit(X_train, y_train,\n",
    "                            epochs=50,\n",
    "                            batch_size=32,\n",
    "                            callbacks=[es, mc_L1_reg],\n",
    "                            validation_data=(X_test, y_test))"
   ]
  },
  {
   "cell_type": "code",
   "execution_count": 62,
   "metadata": {
    "colab": {
     "base_uri": "https://localhost:8080/",
     "height": 308
    },
    "id": "t7XSK8S6YaU_",
    "outputId": "9eaf7ca2-c370-4979-862f-feec654918eb"
   },
   "outputs": [
    {
     "data": {
      "image/png": "[encoded data removed]",
      "text/plain": [
       "<Figure size 432x288 with 2 Axes>"
      ]
     },
     "metadata": {
      "needs_background": "light",
      "tags": []
     },
     "output_type": "display_data"
    }
   ],
   "source": [
    "visualize_training_results(L1_reg_history)"
   ]
  },
  {
   "cell_type": "code",
   "execution_count": 63,
   "metadata": {
    "colab": {
     "base_uri": "https://localhost:8080/",
     "height": 551
    },
    "id": "dUKM0b6QYaU_",
    "outputId": "b99cba75-0d55-41b6-cb9e-f45b8508eb49"
   },
   "outputs": [
    {
     "name": "stdout",
     "output_type": "stream",
     "text": [
      "163/163 [==============================] - 1s 7ms/step - loss: 0.4185 - accuracy: 0.9371\n",
      "Training Loss:0.4185\n",
      "Training Accuracy:0.9371\n",
      "20/20 [==============================] - 0s 7ms/step - loss: 0.7204 - accuracy: 0.8349\n",
      "Test Loss:0.7204\n",
      "Test Accuracy:0.8349\n"
     ]
    },
    {
     "data": {
      "image/png": "[encoded data removed]",
      "text/plain": [
       "<Figure size 432x288 with 2 Axes>"
      ]
     },
     "metadata": {
      "needs_background": "light",
      "tags": []
     },
     "output_type": "display_data"
    },
    {
     "name": "stdout",
     "output_type": "stream",
     "text": [
      "              precision    recall  f1-score   support\n",
      "\n",
      "         0.0       0.91      0.62      0.74       234\n",
      "         1.0       0.81      0.96      0.88       390\n",
      "\n",
      "    accuracy                           0.83       624\n",
      "   macro avg       0.86      0.79      0.81       624\n",
      "weighted avg       0.85      0.83      0.83       624\n",
      "\n"
     ]
    },
    {
     "data": {
      "text/plain": [
       "([0.9371], [0.8349])"
      ]
     },
     "execution_count": 63,
     "metadata": {
      "tags": []
     },
     "output_type": "execute_result"
    }
   ],
   "source": [
    "L1 = load_model('/content/saved_models/L1_reg.h5')\n",
    "L1m = model_evaluation(L1)\n",
    "L1m"
   ]
  },
  {
   "cell_type": "code",
   "execution_count": null,
   "metadata": {
    "id": "CoqflsmeYaVA"
   },
   "outputs": [],
   "source": []
  },
  {
   "cell_type": "code",
   "execution_count": null,
   "metadata": {
    "id": "vrnw9zMCYaVA"
   },
   "outputs": [],
   "source": []
  },
  {
   "cell_type": "markdown",
   "metadata": {
    "id": "v1FCaIQTYaVA"
   },
   "source": [
    "### 4) L1 + L2"
   ]
  },
  {
   "cell_type": "code",
   "execution_count": 64,
   "metadata": {
    "id": "WataFvasYaVA"
   },
   "outputs": [],
   "source": [
    "def L1_L2_regularizer_model(wd_1, wd_2):\n",
    "    model = models.Sequential()\n",
    "    model.add(layers.Conv2D(32, (3, 3), kernel_regularizer=regularizers.l1_l2(l1=wd_1, l2=wd_2), \n",
    "                        activation='relu', input_shape=(128,128,3)))\n",
    "    model.add(layers.MaxPooling2D((2, 2)))\n",
    "\n",
    "    model.add(layers.Conv2D(64, (3, 3), kernel_regularizer=regularizers.l1_l2(l1=wd_1, l2=wd_2), \n",
    "                        activation='relu'))\n",
    "    model.add(layers.MaxPooling2D((2, 2)))\n",
    "\n",
    "    model.add(layers.Conv2D(128, (3, 3), kernel_regularizer=regularizers.l1_l2(l1=wd_1, l2=wd_2), \n",
    "                        activation='relu'))\n",
    "    model.add(layers.MaxPooling2D((2, 2)))\n",
    "\n",
    "    model.add(layers.Flatten())\n",
    "    model.add(layers.Dense(128, activation='relu'))\n",
    "    model.add(layers.Dense(1, activation='sigmoid'))\n",
    "\n",
    "    model.compile(optimizer='adam',\n",
    "                  loss='binary_crossentropy',\n",
    "                  metrics=['accuracy'])\n",
    "    \n",
    "    return model"
   ]
  },
  {
   "cell_type": "code",
   "execution_count": 65,
   "metadata": {
    "id": "iLJPoMtLYaVA"
   },
   "outputs": [],
   "source": [
    "L_model = KerasClassifier(build_fn=L1_L2_regularizer_model)"
   ]
  },
  {
   "cell_type": "code",
   "execution_count": 66,
   "metadata": {
    "id": "YdcKh25sYaVA"
   },
   "outputs": [],
   "source": [
    "# parameter grid\n",
    "l1l2_param_grid = {'wd_1': [0.5, 0.05, 0.005, 0.0005],\n",
    "                   'wd_2': [0.5, 0.05, 0.005, 0.0005]}\n",
    "\n",
    "L_grid = GridSearchCV(L_model, param_grid=l1l2_param_grid, cv=3)"
   ]
  },
  {
   "cell_type": "code",
   "execution_count": 67,
   "metadata": {
    "colab": {
     "base_uri": "https://localhost:8080/"
    },
    "id": "JrgiMMBWYaVA",
    "outputId": "ec5ce2e0-b42e-47e3-e3d7-74aea5e32d53"
   },
   "outputs": [
    {
     "name": "stdout",
     "output_type": "stream",
     "text": [
      "Epoch 1/50\n",
      "109/109 [==============================] - 3s 18ms/step - loss: 753.5940 - accuracy: 0.7272 - val_loss: 9.3321 - val_accuracy: 0.6250\n",
      "Epoch 2/50\n",
      "109/109 [==============================] - 2s 15ms/step - loss: 7.3867 - accuracy: 0.7432 - val_loss: 6.6251 - val_accuracy: 0.6250\n",
      "Epoch 3/50\n",
      "109/109 [==============================] - 2s 15ms/step - loss: 6.4316 - accuracy: 0.7477 - val_loss: 6.5371 - val_accuracy: 0.6250\n",
      "Epoch 4/50\n",
      "109/109 [==============================] - 2s 15ms/step - loss: 6.3847 - accuracy: 0.7428 - val_loss: 6.4807 - val_accuracy: 0.6250\n",
      "Epoch 5/50\n",
      "109/109 [==============================] - 2s 15ms/step - loss: 6.3418 - accuracy: 0.7393 - val_loss: 6.3920 - val_accuracy: 0.6250\n",
      "Epoch 6/50\n",
      "109/109 [==============================] - 2s 15ms/step - loss: 6.2983 - accuracy: 0.7477 - val_loss: 6.4496 - val_accuracy: 0.6250\n",
      "Epoch 7/50\n",
      "109/109 [==============================] - 2s 15ms/step - loss: 6.2901 - accuracy: 0.7342 - val_loss: 6.4079 - val_accuracy: 0.6250\n",
      "Epoch 00007: early stopping\n",
      "55/55 [==============================] - 1s 7ms/step - loss: 6.2741 - accuracy: 0.7458\n",
      "Epoch 1/50\n",
      "109/109 [==============================] - 3s 17ms/step - loss: 752.3048 - accuracy: 0.7485 - val_loss: 9.6806 - val_accuracy: 0.6250\n",
      "Epoch 2/50\n",
      "109/109 [==============================] - 2s 15ms/step - loss: 7.4760 - accuracy: 0.7570 - val_loss: 6.5195 - val_accuracy: 0.6250\n",
      "Epoch 3/50\n",
      "109/109 [==============================] - 2s 15ms/step - loss: 6.3830 - accuracy: 0.7498 - val_loss: 6.4601 - val_accuracy: 0.6250\n",
      "Epoch 4/50\n",
      "109/109 [==============================] - 2s 15ms/step - loss: 6.3205 - accuracy: 0.7532 - val_loss: 6.4875 - val_accuracy: 0.6250\n",
      "Epoch 5/50\n",
      "109/109 [==============================] - 2s 15ms/step - loss: 6.2874 - accuracy: 0.7479 - val_loss: 6.3362 - val_accuracy: 0.6250\n",
      "Epoch 6/50\n",
      "109/109 [==============================] - 2s 15ms/step - loss: 6.2554 - accuracy: 0.7395 - val_loss: 6.4143 - val_accuracy: 0.6250\n",
      "Epoch 7/50\n",
      "109/109 [==============================] - 2s 15ms/step - loss: 6.2358 - accuracy: 0.7388 - val_loss: 6.3697 - val_accuracy: 0.6250\n",
      "Epoch 00007: early stopping\n",
      "55/55 [==============================] - 1s 7ms/step - loss: 6.2536 - accuracy: 0.7384\n",
      "Epoch 1/50\n",
      "109/109 [==============================] - 3s 17ms/step - loss: 758.9397 - accuracy: 0.7334 - val_loss: 9.5280 - val_accuracy: 0.6250\n",
      "Epoch 2/50\n",
      "109/109 [==============================] - 2s 15ms/step - loss: 7.4487 - accuracy: 0.7364 - val_loss: 6.5853 - val_accuracy: 0.6250\n",
      "Epoch 3/50\n",
      "109/109 [==============================] - 2s 15ms/step - loss: 6.4498 - accuracy: 0.7303 - val_loss: 6.5012 - val_accuracy: 0.6250\n",
      "Epoch 4/50\n",
      "109/109 [==============================] - 2s 15ms/step - loss: 6.3772 - accuracy: 0.7508 - val_loss: 6.4824 - val_accuracy: 0.6250\n",
      "Epoch 5/50\n",
      "109/109 [==============================] - 2s 15ms/step - loss: 6.3251 - accuracy: 0.7495 - val_loss: 6.3965 - val_accuracy: 0.6250\n",
      "Epoch 6/50\n",
      "109/109 [==============================] - 2s 16ms/step - loss: 6.3018 - accuracy: 0.7392 - val_loss: 6.4720 - val_accuracy: 0.6250\n",
      "Epoch 7/50\n",
      "109/109 [==============================] - 2s 15ms/step - loss: 6.2659 - accuracy: 0.7462 - val_loss: 6.3850 - val_accuracy: 0.6250\n",
      "Epoch 00007: early stopping\n",
      "55/55 [==============================] - 1s 7ms/step - loss: 6.2614 - accuracy: 0.7445\n",
      "Epoch 1/50\n",
      "109/109 [==============================] - 3s 18ms/step - loss: 733.2865 - accuracy: 0.7238 - val_loss: 9.1471 - val_accuracy: 0.6250\n",
      "Epoch 2/50\n",
      "109/109 [==============================] - 2s 15ms/step - loss: 7.2232 - accuracy: 0.7432 - val_loss: 6.4676 - val_accuracy: 0.6250\n",
      "Epoch 3/50\n",
      "109/109 [==============================] - 2s 16ms/step - loss: 6.3338 - accuracy: 0.7477 - val_loss: 6.4560 - val_accuracy: 0.6250\n",
      "Epoch 4/50\n",
      "109/109 [==============================] - 2s 16ms/step - loss: 6.3285 - accuracy: 0.7428 - val_loss: 6.4648 - val_accuracy: 0.6250\n",
      "Epoch 5/50\n",
      "109/109 [==============================] - 2s 16ms/step - loss: 6.3238 - accuracy: 0.7393 - val_loss: 6.4719 - val_accuracy: 0.6250\n",
      "Epoch 6/50\n",
      "109/109 [==============================] - 2s 16ms/step - loss: 6.3136 - accuracy: 0.7477 - val_loss: 6.4888 - val_accuracy: 0.6250\n",
      "Epoch 7/50\n",
      "109/109 [==============================] - 2s 16ms/step - loss: 6.3218 - accuracy: 0.7342 - val_loss: 6.4221 - val_accuracy: 0.6250\n",
      "Epoch 00007: early stopping\n",
      "55/55 [==============================] - 1s 7ms/step - loss: 6.2894 - accuracy: 0.7458\n",
      "Epoch 1/50\n",
      "109/109 [==============================] - 3s 18ms/step - loss: 728.8847 - accuracy: 0.7510 - val_loss: 8.6610 - val_accuracy: 0.6250\n",
      "Epoch 2/50\n",
      "109/109 [==============================] - 2s 16ms/step - loss: 7.0271 - accuracy: 0.7570 - val_loss: 6.4441 - val_accuracy: 0.6250\n",
      "Epoch 3/50\n",
      "109/109 [==============================] - 2s 16ms/step - loss: 6.3174 - accuracy: 0.7498 - val_loss: 6.4391 - val_accuracy: 0.6250\n",
      "Epoch 4/50\n",
      "109/109 [==============================] - 2s 16ms/step - loss: 6.3012 - accuracy: 0.7532 - val_loss: 6.5027 - val_accuracy: 0.6250\n",
      "Epoch 5/50\n",
      "109/109 [==============================] - 2s 16ms/step - loss: 6.3032 - accuracy: 0.7479 - val_loss: 6.4278 - val_accuracy: 0.6250\n",
      "Epoch 6/50\n",
      "109/109 [==============================] - 2s 16ms/step - loss: 6.3087 - accuracy: 0.7395 - val_loss: 6.4949 - val_accuracy: 0.6250\n",
      "Epoch 7/50\n",
      "109/109 [==============================] - 2s 16ms/step - loss: 6.3043 - accuracy: 0.7388 - val_loss: 6.4093 - val_accuracy: 0.6250\n",
      "Epoch 00007: early stopping\n",
      "55/55 [==============================] - 1s 9ms/step - loss: 6.2971 - accuracy: 0.7384\n",
      "Epoch 1/50\n",
      "109/109 [==============================] - 3s 22ms/step - loss: 729.1564 - accuracy: 0.7484 - val_loss: 8.9697 - val_accuracy: 0.6250\n",
      "Epoch 2/50\n",
      "109/109 [==============================] - 2s 16ms/step - loss: 7.1681 - accuracy: 0.7364 - val_loss: 6.4508 - val_accuracy: 0.6250\n",
      "Epoch 3/50\n",
      "109/109 [==============================] - 2s 16ms/step - loss: 6.3607 - accuracy: 0.7303 - val_loss: 6.4468 - val_accuracy: 0.6250\n",
      "Epoch 4/50\n",
      "109/109 [==============================] - 2s 16ms/step - loss: 6.3279 - accuracy: 0.7508 - val_loss: 6.4575 - val_accuracy: 0.6250\n",
      "Epoch 5/50\n",
      "109/109 [==============================] - 2s 16ms/step - loss: 6.3155 - accuracy: 0.7495 - val_loss: 6.4569 - val_accuracy: 0.6250\n",
      "Epoch 6/50\n",
      "109/109 [==============================] - 2s 16ms/step - loss: 6.3187 - accuracy: 0.7392 - val_loss: 6.4999 - val_accuracy: 0.6250\n",
      "Epoch 7/50\n",
      "109/109 [==============================] - 2s 16ms/step - loss: 6.3017 - accuracy: 0.7462 - val_loss: 6.4294 - val_accuracy: 0.6250\n",
      "Epoch 00007: early stopping\n",
      "55/55 [==============================] - 1s 8ms/step - loss: 6.3072 - accuracy: 0.7445\n",
      "Epoch 1/50\n",
      "109/109 [==============================] - 3s 19ms/step - loss: 726.0095 - accuracy: 0.7030 - val_loss: 8.9488 - val_accuracy: 0.6250\n",
      "Epoch 2/50\n",
      "109/109 [==============================] - 2s 16ms/step - loss: 7.1385 - accuracy: 0.7432 - val_loss: 6.4497 - val_accuracy: 0.6250\n",
      "Epoch 3/50\n",
      "109/109 [==============================] - 2s 16ms/step - loss: 6.2985 - accuracy: 0.7477 - val_loss: 6.4195 - val_accuracy: 0.6250\n",
      "Epoch 4/50\n",
      "109/109 [==============================] - 2s 16ms/step - loss: 6.2933 - accuracy: 0.7428 - val_loss: 6.4341 - val_accuracy: 0.6250\n",
      "Epoch 5/50\n",
      "109/109 [==============================] - 2s 16ms/step - loss: 6.2939 - accuracy: 0.7393 - val_loss: 6.4229 - val_accuracy: 0.6250\n",
      "Epoch 6/50\n",
      "109/109 [==============================] - 2s 17ms/step - loss: 6.2911 - accuracy: 0.7477 - val_loss: 6.4786 - val_accuracy: 0.6250\n",
      "Epoch 7/50\n",
      "109/109 [==============================] - 2s 16ms/step - loss: 6.3035 - accuracy: 0.7342 - val_loss: 6.4273 - val_accuracy: 0.6250\n",
      "Epoch 00007: early stopping\n",
      "55/55 [==============================] - 1s 8ms/step - loss: 6.2943 - accuracy: 0.7458\n",
      "Epoch 1/50\n",
      "109/109 [==============================] - 3s 19ms/step - loss: 723.3378 - accuracy: 0.7495 - val_loss: 8.9363 - val_accuracy: 0.6250\n",
      "Epoch 2/50\n",
      "109/109 [==============================] - 2s 16ms/step - loss: 7.1149 - accuracy: 0.7570 - val_loss: 6.4558 - val_accuracy: 0.6250\n",
      "Epoch 3/50\n",
      "109/109 [==============================] - 2s 16ms/step - loss: 6.3116 - accuracy: 0.7498 - val_loss: 6.4201 - val_accuracy: 0.6250\n",
      "Epoch 4/50\n",
      "109/109 [==============================] - 2s 16ms/step - loss: 6.3000 - accuracy: 0.7532 - val_loss: 6.4765 - val_accuracy: 0.6250\n",
      "Epoch 5/50\n",
      "109/109 [==============================] - 2s 16ms/step - loss: 6.3010 - accuracy: 0.7479 - val_loss: 6.4380 - val_accuracy: 0.6250\n",
      "Epoch 6/50\n",
      "109/109 [==============================] - 2s 16ms/step - loss: 6.3102 - accuracy: 0.7395 - val_loss: 6.4656 - val_accuracy: 0.6250\n",
      "Epoch 7/50\n",
      "109/109 [==============================] - 2s 16ms/step - loss: 6.3133 - accuracy: 0.7388 - val_loss: 6.4666 - val_accuracy: 0.6250\n",
      "Epoch 00007: early stopping\n",
      "55/55 [==============================] - 1s 8ms/step - loss: 6.3506 - accuracy: 0.7384\n",
      "Epoch 1/50\n",
      "109/109 [==============================] - 3s 18ms/step - loss: 723.1733 - accuracy: 0.7334 - val_loss: 8.8738 - val_accuracy: 0.6250\n",
      "Epoch 2/50\n",
      "109/109 [==============================] - 2s 16ms/step - loss: 7.1053 - accuracy: 0.7364 - val_loss: 6.4266 - val_accuracy: 0.6250\n",
      "Epoch 3/50\n",
      "109/109 [==============================] - 2s 16ms/step - loss: 6.3239 - accuracy: 0.7303 - val_loss: 6.3876 - val_accuracy: 0.6250\n",
      "Epoch 4/50\n",
      "109/109 [==============================] - 2s 16ms/step - loss: 6.2893 - accuracy: 0.7508 - val_loss: 6.4252 - val_accuracy: 0.6250\n",
      "Epoch 5/50\n",
      "109/109 [==============================] - 2s 16ms/step - loss: 6.2757 - accuracy: 0.7495 - val_loss: 6.4181 - val_accuracy: 0.6250\n",
      "Epoch 6/50\n",
      "109/109 [==============================] - 2s 16ms/step - loss: 6.2862 - accuracy: 0.7392 - val_loss: 6.4758 - val_accuracy: 0.6250\n",
      "Epoch 7/50\n",
      "109/109 [==============================] - 2s 16ms/step - loss: 6.2726 - accuracy: 0.7462 - val_loss: 6.4126 - val_accuracy: 0.6250\n",
      "Epoch 00007: early stopping\n",
      "55/55 [==============================] - 1s 8ms/step - loss: 6.2886 - accuracy: 0.7445\n",
      "Epoch 1/50\n",
      "109/109 [==============================] - 3s 18ms/step - loss: 728.7860 - accuracy: 0.7348 - val_loss: 8.7915 - val_accuracy: 0.6250\n",
      "Epoch 2/50\n",
      "109/109 [==============================] - 2s 16ms/step - loss: 7.0753 - accuracy: 0.7432 - val_loss: 6.4274 - val_accuracy: 0.6250\n",
      "Epoch 3/50\n",
      "109/109 [==============================] - 2s 17ms/step - loss: 6.2827 - accuracy: 0.7477 - val_loss: 6.4056 - val_accuracy: 0.6250\n",
      "Epoch 4/50\n",
      "109/109 [==============================] - 2s 16ms/step - loss: 6.2806 - accuracy: 0.7428 - val_loss: 6.3972 - val_accuracy: 0.6250\n",
      "Epoch 5/50\n",
      "109/109 [==============================] - 2s 16ms/step - loss: 6.2795 - accuracy: 0.7393 - val_loss: 6.4366 - val_accuracy: 0.6250\n",
      "Epoch 6/50\n",
      "109/109 [==============================] - 2s 17ms/step - loss: 6.2763 - accuracy: 0.7477 - val_loss: 6.4533 - val_accuracy: 0.6250\n",
      "Epoch 7/50\n",
      "109/109 [==============================] - 2s 16ms/step - loss: 6.2932 - accuracy: 0.7342 - val_loss: 6.4234 - val_accuracy: 0.6250\n",
      "Epoch 00007: early stopping\n",
      "55/55 [==============================] - 1s 8ms/step - loss: 6.2901 - accuracy: 0.7458\n",
      "Epoch 1/50\n",
      "109/109 [==============================] - 3s 19ms/step - loss: 727.4269 - accuracy: 0.7353 - val_loss: 8.9957 - val_accuracy: 0.6250\n",
      "Epoch 2/50\n",
      "109/109 [==============================] - 2s 17ms/step - loss: 7.1299 - accuracy: 0.7570 - val_loss: 6.4256 - val_accuracy: 0.6250\n",
      "Epoch 3/50\n",
      "109/109 [==============================] - 2s 17ms/step - loss: 6.3007 - accuracy: 0.7498 - val_loss: 6.4011 - val_accuracy: 0.6250\n",
      "Epoch 4/50\n",
      "109/109 [==============================] - 2s 16ms/step - loss: 6.2879 - accuracy: 0.7532 - val_loss: 6.4861 - val_accuracy: 0.6250\n",
      "Epoch 5/50\n",
      "109/109 [==============================] - 2s 16ms/step - loss: 6.2935 - accuracy: 0.7479 - val_loss: 6.4305 - val_accuracy: 0.6250\n",
      "Epoch 6/50\n",
      "109/109 [==============================] - 2s 17ms/step - loss: 6.3026 - accuracy: 0.7395 - val_loss: 6.4503 - val_accuracy: 0.6250\n",
      "Epoch 7/50\n",
      "109/109 [==============================] - 2s 17ms/step - loss: 6.3040 - accuracy: 0.7388 - val_loss: 6.4199 - val_accuracy: 0.6250\n",
      "Epoch 00007: early stopping\n",
      "55/55 [==============================] - 1s 9ms/step - loss: 6.3076 - accuracy: 0.7384\n",
      "Epoch 1/50\n",
      "109/109 [==============================] - 3s 19ms/step - loss: 724.1804 - accuracy: 0.7028 - val_loss: 8.8841 - val_accuracy: 0.6250\n",
      "Epoch 2/50\n",
      "109/109 [==============================] - 2s 16ms/step - loss: 7.1148 - accuracy: 0.7364 - val_loss: 6.4425 - val_accuracy: 0.6250\n",
      "Epoch 3/50\n",
      "109/109 [==============================] - 2s 17ms/step - loss: 6.3327 - accuracy: 0.7303 - val_loss: 6.3994 - val_accuracy: 0.6250\n",
      "Epoch 4/50\n",
      "109/109 [==============================] - 2s 16ms/step - loss: 6.3035 - accuracy: 0.7508 - val_loss: 6.4224 - val_accuracy: 0.6250\n",
      "Epoch 5/50\n",
      "109/109 [==============================] - 2s 17ms/step - loss: 6.2956 - accuracy: 0.7495 - val_loss: 6.4134 - val_accuracy: 0.6250\n",
      "Epoch 6/50\n",
      "109/109 [==============================] - 2s 16ms/step - loss: 6.3077 - accuracy: 0.7392 - val_loss: 6.5046 - val_accuracy: 0.6250\n",
      "Epoch 7/50\n",
      "109/109 [==============================] - 2s 16ms/step - loss: 6.2963 - accuracy: 0.7462 - val_loss: 6.4391 - val_accuracy: 0.6250\n",
      "Epoch 00007: early stopping\n",
      "55/55 [==============================] - 1s 8ms/step - loss: 6.3137 - accuracy: 0.7445\n",
      "Epoch 1/50\n",
      "109/109 [==============================] - 3s 23ms/step - loss: 101.6665 - accuracy: 0.7470 - val_loss: 1.8056 - val_accuracy: 0.6250\n",
      "Epoch 2/50\n",
      "109/109 [==============================] - 2s 16ms/step - loss: 1.3494 - accuracy: 0.7432 - val_loss: 1.2570 - val_accuracy: 0.6250\n",
      "Epoch 3/50\n",
      "109/109 [==============================] - 2s 16ms/step - loss: 1.1166 - accuracy: 0.7477 - val_loss: 1.2511 - val_accuracy: 0.6250\n",
      "Epoch 4/50\n",
      "109/109 [==============================] - 2s 16ms/step - loss: 1.1364 - accuracy: 0.7428 - val_loss: 1.2650 - val_accuracy: 0.6250\n",
      "Epoch 5/50\n",
      "109/109 [==============================] - 2s 17ms/step - loss: 1.1484 - accuracy: 0.7393 - val_loss: 1.2840 - val_accuracy: 0.6250\n",
      "Epoch 6/50\n",
      "109/109 [==============================] - 2s 16ms/step - loss: 1.1417 - accuracy: 0.7477 - val_loss: 1.2686 - val_accuracy: 0.6250\n",
      "Epoch 7/50\n",
      "109/109 [==============================] - 2s 16ms/step - loss: 1.1656 - accuracy: 0.7342 - val_loss: 1.2745 - val_accuracy: 0.6250\n",
      "Epoch 00007: early stopping\n",
      "55/55 [==============================] - 1s 8ms/step - loss: 1.1438 - accuracy: 0.7458\n",
      "Epoch 1/50\n",
      "109/109 [==============================] - 3s 19ms/step - loss: 102.5940 - accuracy: 0.7108 - val_loss: 1.8904 - val_accuracy: 0.6250\n",
      "Epoch 2/50\n",
      "109/109 [==============================] - 2s 16ms/step - loss: 1.3722 - accuracy: 0.7570 - val_loss: 1.2407 - val_accuracy: 0.6250\n",
      "Epoch 3/50\n",
      "109/109 [==============================] - 2s 17ms/step - loss: 1.1190 - accuracy: 0.7498 - val_loss: 1.2713 - val_accuracy: 0.6250\n",
      "Epoch 4/50\n",
      "109/109 [==============================] - 2s 17ms/step - loss: 1.1296 - accuracy: 0.7532 - val_loss: 1.3338 - val_accuracy: 0.6250\n",
      "Epoch 5/50\n",
      "109/109 [==============================] - 2s 17ms/step - loss: 1.1455 - accuracy: 0.7479 - val_loss: 1.2685 - val_accuracy: 0.6250\n",
      "Epoch 6/50\n",
      "109/109 [==============================] - 2s 16ms/step - loss: 1.1580 - accuracy: 0.7395 - val_loss: 1.2739 - val_accuracy: 0.6250\n",
      "Epoch 7/50\n",
      "109/109 [==============================] - 2s 16ms/step - loss: 1.1640 - accuracy: 0.7388 - val_loss: 1.2825 - val_accuracy: 0.6250\n",
      "Epoch 00007: early stopping\n",
      "55/55 [==============================] - 1s 9ms/step - loss: 1.1635 - accuracy: 0.7384\n",
      "Epoch 1/50\n",
      "109/109 [==============================] - 3s 18ms/step - loss: 102.0650 - accuracy: 0.7484 - val_loss: 1.8551 - val_accuracy: 0.6250\n",
      "Epoch 2/50\n",
      "109/109 [==============================] - 2s 16ms/step - loss: 1.3707 - accuracy: 0.7364 - val_loss: 1.2313 - val_accuracy: 0.6250\n",
      "Epoch 3/50\n",
      "109/109 [==============================] - 2s 16ms/step - loss: 1.1383 - accuracy: 0.7303 - val_loss: 1.2445 - val_accuracy: 0.6250\n",
      "Epoch 4/50\n",
      "109/109 [==============================] - 2s 17ms/step - loss: 1.1374 - accuracy: 0.7508 - val_loss: 1.2682 - val_accuracy: 0.6250\n",
      "Epoch 5/50\n",
      "109/109 [==============================] - 2s 16ms/step - loss: 1.1394 - accuracy: 0.7495 - val_loss: 1.2717 - val_accuracy: 0.6250\n",
      "Epoch 6/50\n",
      "109/109 [==============================] - 2s 16ms/step - loss: 1.1596 - accuracy: 0.7392 - val_loss: 1.2828 - val_accuracy: 0.6250\n",
      "Epoch 7/50\n",
      "109/109 [==============================] - 2s 17ms/step - loss: 1.1498 - accuracy: 0.7462 - val_loss: 1.2705 - val_accuracy: 0.6250\n",
      "Epoch 00007: early stopping\n",
      "55/55 [==============================] - 1s 9ms/step - loss: 1.1480 - accuracy: 0.7445\n",
      "Epoch 1/50\n",
      "109/109 [==============================] - 3s 19ms/step - loss: 76.8530 - accuracy: 0.7559 - val_loss: 1.7116 - val_accuracy: 0.6250\n",
      "Epoch 2/50\n",
      "109/109 [==============================] - 2s 17ms/step - loss: 1.3251 - accuracy: 0.7432 - val_loss: 1.2983 - val_accuracy: 0.6250\n",
      "Epoch 3/50\n",
      "109/109 [==============================] - 2s 17ms/step - loss: 1.1485 - accuracy: 0.7477 - val_loss: 1.2685 - val_accuracy: 0.6250\n",
      "Epoch 4/50\n",
      "109/109 [==============================] - 2s 16ms/step - loss: 1.1477 - accuracy: 0.7428 - val_loss: 1.2647 - val_accuracy: 0.6250\n",
      "Epoch 5/50\n",
      "109/109 [==============================] - 2s 16ms/step - loss: 1.1450 - accuracy: 0.7393 - val_loss: 1.2700 - val_accuracy: 0.6250\n",
      "Epoch 6/50\n",
      "109/109 [==============================] - 2s 17ms/step - loss: 1.1301 - accuracy: 0.7477 - val_loss: 1.2546 - val_accuracy: 0.6250\n",
      "Epoch 7/50\n",
      "109/109 [==============================] - 2s 17ms/step - loss: 1.1485 - accuracy: 0.7342 - val_loss: 1.2525 - val_accuracy: 0.6250\n",
      "Epoch 00007: early stopping\n",
      "55/55 [==============================] - 1s 9ms/step - loss: 1.1231 - accuracy: 0.7458\n",
      "Epoch 1/50\n",
      "109/109 [==============================] - 3s 19ms/step - loss: 76.2443 - accuracy: 0.7580 - val_loss: 1.6700 - val_accuracy: 0.6250\n",
      "Epoch 2/50\n",
      "109/109 [==============================] - 2s 16ms/step - loss: 1.2728 - accuracy: 0.7570 - val_loss: 1.2743 - val_accuracy: 0.6250\n",
      "Epoch 3/50\n",
      "109/109 [==============================] - 2s 16ms/step - loss: 1.1384 - accuracy: 0.7498 - val_loss: 1.2666 - val_accuracy: 0.6250\n",
      "Epoch 4/50\n",
      "109/109 [==============================] - 2s 16ms/step - loss: 1.1227 - accuracy: 0.7532 - val_loss: 1.3073 - val_accuracy: 0.6250\n",
      "Epoch 5/50\n",
      "109/109 [==============================] - 2s 17ms/step - loss: 1.1266 - accuracy: 0.7479 - val_loss: 1.2430 - val_accuracy: 0.6250\n",
      "Epoch 6/50\n",
      "109/109 [==============================] - 2s 16ms/step - loss: 1.1278 - accuracy: 0.7395 - val_loss: 1.2539 - val_accuracy: 0.6250\n",
      "Epoch 7/50\n",
      "109/109 [==============================] - 2s 17ms/step - loss: 1.1338 - accuracy: 0.7388 - val_loss: 1.2426 - val_accuracy: 0.6250\n",
      "Epoch 00007: early stopping\n",
      "55/55 [==============================] - 1s 9ms/step - loss: 1.1258 - accuracy: 0.7384\n",
      "Epoch 1/50\n",
      "109/109 [==============================] - 3s 19ms/step - loss: 76.1586 - accuracy: 0.7484 - val_loss: 1.6669 - val_accuracy: 0.6250\n",
      "Epoch 2/50\n",
      "109/109 [==============================] - 2s 16ms/step - loss: 1.2946 - accuracy: 0.7364 - val_loss: 1.2700 - val_accuracy: 0.6250\n",
      "Epoch 3/50\n",
      "109/109 [==============================] - 2s 16ms/step - loss: 1.1673 - accuracy: 0.7303 - val_loss: 1.2605 - val_accuracy: 0.6250\n",
      "Epoch 4/50\n",
      "109/109 [==============================] - 2s 17ms/step - loss: 1.1490 - accuracy: 0.7508 - val_loss: 1.2584 - val_accuracy: 0.6250\n",
      "Epoch 5/50\n",
      "109/109 [==============================] - 2s 17ms/step - loss: 1.1325 - accuracy: 0.7495 - val_loss: 1.2600 - val_accuracy: 0.6250\n",
      "Epoch 6/50\n",
      "109/109 [==============================] - 2s 17ms/step - loss: 1.1450 - accuracy: 0.7392 - val_loss: 1.2642 - val_accuracy: 0.6250\n",
      "Epoch 7/50\n",
      "109/109 [==============================] - 2s 17ms/step - loss: 1.1274 - accuracy: 0.7462 - val_loss: 1.2483 - val_accuracy: 0.6250\n",
      "Epoch 00007: early stopping\n",
      "55/55 [==============================] - 1s 8ms/step - loss: 1.1257 - accuracy: 0.7445\n",
      "Epoch 1/50\n",
      "109/109 [==============================] - 3s 18ms/step - loss: 74.1375 - accuracy: 0.7569 - val_loss: 1.6912 - val_accuracy: 0.6250\n",
      "Epoch 2/50\n",
      "109/109 [==============================] - 2s 16ms/step - loss: 1.3341 - accuracy: 0.7432 - val_loss: 1.2996 - val_accuracy: 0.6250\n",
      "Epoch 3/50\n",
      "109/109 [==============================] - 2s 17ms/step - loss: 1.1430 - accuracy: 0.7477 - val_loss: 1.2665 - val_accuracy: 0.6250\n",
      "Epoch 4/50\n",
      "109/109 [==============================] - 2s 17ms/step - loss: 1.1454 - accuracy: 0.7428 - val_loss: 1.2718 - val_accuracy: 0.6250\n",
      "Epoch 5/50\n",
      "109/109 [==============================] - 2s 17ms/step - loss: 1.1493 - accuracy: 0.7393 - val_loss: 1.2770 - val_accuracy: 0.6250\n",
      "Epoch 6/50\n",
      "109/109 [==============================] - 2s 17ms/step - loss: 1.1356 - accuracy: 0.7477 - val_loss: 1.2588 - val_accuracy: 0.6250\n",
      "Epoch 7/50\n",
      "109/109 [==============================] - 2s 16ms/step - loss: 1.1556 - accuracy: 0.7342 - val_loss: 1.2604 - val_accuracy: 0.6250\n",
      "Epoch 00007: early stopping\n",
      "55/55 [==============================] - 1s 8ms/step - loss: 1.1295 - accuracy: 0.7458\n",
      "Epoch 1/50\n",
      "109/109 [==============================] - 3s 23ms/step - loss: 74.1155 - accuracy: 0.7561 - val_loss: 1.6682 - val_accuracy: 0.6250\n",
      "Epoch 2/50\n",
      "109/109 [==============================] - 2s 17ms/step - loss: 1.2665 - accuracy: 0.7570 - val_loss: 1.2685 - val_accuracy: 0.6250\n",
      "Epoch 3/50\n",
      "109/109 [==============================] - 2s 17ms/step - loss: 1.1356 - accuracy: 0.7498 - val_loss: 1.2676 - val_accuracy: 0.6250\n",
      "Epoch 4/50\n",
      "109/109 [==============================] - 2s 17ms/step - loss: 1.1239 - accuracy: 0.7532 - val_loss: 1.3197 - val_accuracy: 0.6250\n",
      "Epoch 5/50\n",
      "109/109 [==============================] - 2s 16ms/step - loss: 1.1315 - accuracy: 0.7479 - val_loss: 1.2487 - val_accuracy: 0.6250\n",
      "Epoch 6/50\n",
      "109/109 [==============================] - 2s 17ms/step - loss: 1.1335 - accuracy: 0.7395 - val_loss: 1.2631 - val_accuracy: 0.6250\n",
      "Epoch 7/50\n",
      "109/109 [==============================] - 2s 17ms/step - loss: 1.1409 - accuracy: 0.7388 - val_loss: 1.2490 - val_accuracy: 0.6250\n",
      "Epoch 00007: early stopping\n",
      "55/55 [==============================] - 1s 8ms/step - loss: 1.1327 - accuracy: 0.7384\n",
      "Epoch 1/50\n",
      "109/109 [==============================] - 3s 19ms/step - loss: 73.5510 - accuracy: 0.7484 - val_loss: 1.6019 - val_accuracy: 0.6250\n",
      "Epoch 2/50\n",
      "109/109 [==============================] - 2s 17ms/step - loss: 1.2668 - accuracy: 0.7364 - val_loss: 1.2567 - val_accuracy: 0.6250\n",
      "Epoch 3/50\n",
      "109/109 [==============================] - 2s 16ms/step - loss: 1.1579 - accuracy: 0.7303 - val_loss: 1.2523 - val_accuracy: 0.6250\n",
      "Epoch 4/50\n",
      "109/109 [==============================] - 2s 17ms/step - loss: 1.1404 - accuracy: 0.7508 - val_loss: 1.2627 - val_accuracy: 0.6250\n",
      "Epoch 5/50\n",
      "109/109 [==============================] - 2s 16ms/step - loss: 1.1313 - accuracy: 0.7495 - val_loss: 1.2558 - val_accuracy: 0.6250\n",
      "Epoch 6/50\n",
      "109/109 [==============================] - 2s 16ms/step - loss: 1.1464 - accuracy: 0.7392 - val_loss: 1.2688 - val_accuracy: 0.6250\n",
      "Epoch 7/50\n",
      "109/109 [==============================] - 2s 17ms/step - loss: 1.1331 - accuracy: 0.7462 - val_loss: 1.2557 - val_accuracy: 0.6250\n",
      "Epoch 00007: early stopping\n",
      "55/55 [==============================] - 1s 9ms/step - loss: 1.1325 - accuracy: 0.7445\n",
      "Epoch 1/50\n",
      "109/109 [==============================] - 3s 19ms/step - loss: 73.2105 - accuracy: 0.7513 - val_loss: 1.6620 - val_accuracy: 0.6250\n",
      "Epoch 2/50\n",
      "109/109 [==============================] - 2s 16ms/step - loss: 1.2998 - accuracy: 0.7432 - val_loss: 1.2905 - val_accuracy: 0.6250\n",
      "Epoch 3/50\n",
      "109/109 [==============================] - 2s 17ms/step - loss: 1.1434 - accuracy: 0.7477 - val_loss: 1.2682 - val_accuracy: 0.6250\n",
      "Epoch 4/50\n",
      "109/109 [==============================] - 2s 17ms/step - loss: 1.1476 - accuracy: 0.7428 - val_loss: 1.2627 - val_accuracy: 0.6250\n",
      "Epoch 5/50\n",
      "109/109 [==============================] - 2s 17ms/step - loss: 1.1505 - accuracy: 0.7393 - val_loss: 1.2854 - val_accuracy: 0.6250\n",
      "Epoch 6/50\n",
      "109/109 [==============================] - 2s 16ms/step - loss: 1.1408 - accuracy: 0.7477 - val_loss: 1.2637 - val_accuracy: 0.6250\n",
      "Epoch 7/50\n",
      "109/109 [==============================] - 2s 17ms/step - loss: 1.1607 - accuracy: 0.7342 - val_loss: 1.2683 - val_accuracy: 0.6250\n",
      "Epoch 00007: early stopping\n",
      "55/55 [==============================] - 1s 9ms/step - loss: 1.1374 - accuracy: 0.7458\n",
      "Epoch 1/50\n",
      "109/109 [==============================] - 3s 19ms/step - loss: 73.5222 - accuracy: 0.7589 - val_loss: 1.6322 - val_accuracy: 0.6779\n",
      "Epoch 2/50\n",
      "109/109 [==============================] - 2s 16ms/step - loss: 1.1871 - accuracy: 0.8851 - val_loss: 1.1247 - val_accuracy: 0.8349\n",
      "Epoch 3/50\n",
      "109/109 [==============================] - 2s 16ms/step - loss: 0.9670 - accuracy: 0.9156 - val_loss: 1.2294 - val_accuracy: 0.7692\n",
      "Epoch 4/50\n",
      "109/109 [==============================] - 2s 17ms/step - loss: 0.9069 - accuracy: 0.9257 - val_loss: 1.3191 - val_accuracy: 0.7468\n",
      "Epoch 5/50\n",
      "109/109 [==============================] - 2s 17ms/step - loss: 0.8951 - accuracy: 0.9269 - val_loss: 1.4429 - val_accuracy: 0.7212\n",
      "Epoch 6/50\n",
      "109/109 [==============================] - 2s 16ms/step - loss: 0.8742 - accuracy: 0.9423 - val_loss: 1.5159 - val_accuracy: 0.7163\n",
      "Epoch 7/50\n",
      "109/109 [==============================] - 2s 17ms/step - loss: 0.8856 - accuracy: 0.9376 - val_loss: 1.4233 - val_accuracy: 0.7244\n",
      "Epoch 8/50\n",
      "109/109 [==============================] - 2s 17ms/step - loss: 0.8644 - accuracy: 0.9367 - val_loss: 1.3310 - val_accuracy: 0.7452\n",
      "Epoch 00008: early stopping\n",
      "55/55 [==============================] - 1s 9ms/step - loss: 0.8561 - accuracy: 0.9310\n",
      "Epoch 1/50\n",
      "109/109 [==============================] - 3s 19ms/step - loss: 73.5288 - accuracy: 0.7334 - val_loss: 1.6420 - val_accuracy: 0.6250\n",
      "Epoch 2/50\n",
      "109/109 [==============================] - 2s 16ms/step - loss: 1.2875 - accuracy: 0.7364 - val_loss: 1.2558 - val_accuracy: 0.6250\n",
      "Epoch 3/50\n",
      "109/109 [==============================] - 2s 17ms/step - loss: 1.1589 - accuracy: 0.7303 - val_loss: 1.2517 - val_accuracy: 0.6250\n",
      "Epoch 4/50\n",
      "109/109 [==============================] - 2s 16ms/step - loss: 1.1414 - accuracy: 0.7508 - val_loss: 1.2679 - val_accuracy: 0.6250\n",
      "Epoch 5/50\n",
      "109/109 [==============================] - 2s 16ms/step - loss: 1.1354 - accuracy: 0.7495 - val_loss: 1.2610 - val_accuracy: 0.6250\n",
      "Epoch 6/50\n",
      "109/109 [==============================] - 2s 17ms/step - loss: 1.1507 - accuracy: 0.7392 - val_loss: 1.2730 - val_accuracy: 0.6250\n",
      "Epoch 7/50\n",
      "109/109 [==============================] - 2s 17ms/step - loss: 1.1378 - accuracy: 0.7462 - val_loss: 1.2584 - val_accuracy: 0.6250\n",
      "Epoch 00007: early stopping\n",
      "55/55 [==============================] - 1s 9ms/step - loss: 1.1346 - accuracy: 0.7445\n",
      "Epoch 1/50\n",
      "109/109 [==============================] - 3s 19ms/step - loss: 36.1324 - accuracy: 0.7595 - val_loss: 0.9148 - val_accuracy: 0.7596\n",
      "Epoch 2/50\n",
      "109/109 [==============================] - 2s 16ms/step - loss: 0.5419 - accuracy: 0.9082 - val_loss: 0.7259 - val_accuracy: 0.7516\n",
      "Epoch 3/50\n",
      "109/109 [==============================] - 2s 17ms/step - loss: 0.3488 - accuracy: 0.9207 - val_loss: 0.6387 - val_accuracy: 0.7917\n",
      "Epoch 4/50\n",
      "109/109 [==============================] - 2s 16ms/step - loss: 0.3392 - accuracy: 0.9222 - val_loss: 0.8722 - val_accuracy: 0.7340\n",
      "Epoch 5/50\n",
      "109/109 [==============================] - 2s 17ms/step - loss: 0.3117 - accuracy: 0.9366 - val_loss: 0.7430 - val_accuracy: 0.7516\n",
      "Epoch 6/50\n",
      "109/109 [==============================] - 2s 17ms/step - loss: 0.2981 - accuracy: 0.9349 - val_loss: 1.0866 - val_accuracy: 0.6891\n",
      "Epoch 7/50\n",
      "109/109 [==============================] - 2s 17ms/step - loss: 0.3145 - accuracy: 0.9304 - val_loss: 0.8114 - val_accuracy: 0.7420\n",
      "Epoch 8/50\n",
      "109/109 [==============================] - 2s 17ms/step - loss: 0.2756 - accuracy: 0.9446 - val_loss: 0.7289 - val_accuracy: 0.7516\n",
      "Epoch 9/50\n",
      "109/109 [==============================] - 2s 17ms/step - loss: 0.2719 - accuracy: 0.9424 - val_loss: 0.8559 - val_accuracy: 0.7324\n",
      "Epoch 00009: early stopping\n",
      "55/55 [==============================] - 1s 9ms/step - loss: 0.2667 - accuracy: 0.9523\n",
      "Epoch 1/50\n",
      "109/109 [==============================] - 3s 19ms/step - loss: 36.1034 - accuracy: 0.7821 - val_loss: 0.9589 - val_accuracy: 0.7212\n",
      "Epoch 2/50\n",
      "109/109 [==============================] - 2s 17ms/step - loss: 0.5324 - accuracy: 0.9133 - val_loss: 0.6360 - val_accuracy: 0.7708\n",
      "Epoch 3/50\n",
      "109/109 [==============================] - 2s 17ms/step - loss: 0.3796 - accuracy: 0.9166 - val_loss: 0.6571 - val_accuracy: 0.7660\n",
      "Epoch 4/50\n",
      "109/109 [==============================] - 2s 17ms/step - loss: 0.3332 - accuracy: 0.9296 - val_loss: 0.7966 - val_accuracy: 0.7468\n",
      "Epoch 5/50\n",
      "109/109 [==============================] - 2s 17ms/step - loss: 0.3113 - accuracy: 0.9298 - val_loss: 0.8517 - val_accuracy: 0.7292\n",
      "Epoch 6/50\n",
      "109/109 [==============================] - 2s 17ms/step - loss: 0.2927 - accuracy: 0.9458 - val_loss: 1.0297 - val_accuracy: 0.7051\n",
      "Epoch 7/50\n",
      "109/109 [==============================] - 2s 17ms/step - loss: 0.3010 - accuracy: 0.9426 - val_loss: 0.7555 - val_accuracy: 0.7372\n",
      "Epoch 8/50\n",
      "109/109 [==============================] - 2s 17ms/step - loss: 0.2857 - accuracy: 0.9414 - val_loss: 0.8385 - val_accuracy: 0.7228\n",
      "Epoch 00008: early stopping\n",
      "55/55 [==============================] - 1s 9ms/step - loss: 0.2936 - accuracy: 0.9316\n",
      "Epoch 1/50\n",
      "109/109 [==============================] - 3s 24ms/step - loss: 36.3530 - accuracy: 0.7455 - val_loss: 0.8777 - val_accuracy: 0.8333\n",
      "Epoch 2/50\n",
      "109/109 [==============================] - 2s 17ms/step - loss: 0.5753 - accuracy: 0.8999 - val_loss: 0.6515 - val_accuracy: 0.7724\n",
      "Epoch 3/50\n",
      "109/109 [==============================] - 2s 17ms/step - loss: 0.3606 - accuracy: 0.9227 - val_loss: 0.6154 - val_accuracy: 0.7997\n",
      "Epoch 4/50\n",
      "109/109 [==============================] - 2s 17ms/step - loss: 0.3589 - accuracy: 0.9113 - val_loss: 0.7306 - val_accuracy: 0.7628\n",
      "Epoch 5/50\n",
      "109/109 [==============================] - 2s 17ms/step - loss: 0.3236 - accuracy: 0.9237 - val_loss: 0.8910 - val_accuracy: 0.7244\n",
      "Epoch 6/50\n",
      "109/109 [==============================] - 2s 17ms/step - loss: 0.3052 - accuracy: 0.9365 - val_loss: 0.7707 - val_accuracy: 0.7420\n",
      "Epoch 7/50\n",
      "109/109 [==============================] - 2s 17ms/step - loss: 0.3005 - accuracy: 0.9372 - val_loss: 0.6205 - val_accuracy: 0.7692\n",
      "Epoch 00007: early stopping\n",
      "55/55 [==============================] - 1s 9ms/step - loss: 0.3166 - accuracy: 0.9373\n",
      "Epoch 1/50\n",
      "109/109 [==============================] - 3s 19ms/step - loss: 11.0662 - accuracy: 0.7600 - val_loss: 0.8678 - val_accuracy: 0.7837\n",
      "Epoch 2/50\n",
      "109/109 [==============================] - 2s 17ms/step - loss: 0.4982 - accuracy: 0.9212 - val_loss: 1.0227 - val_accuracy: 0.6971\n",
      "Epoch 3/50\n",
      "109/109 [==============================] - 2s 17ms/step - loss: 0.3120 - accuracy: 0.9482 - val_loss: 0.6567 - val_accuracy: 0.7837\n",
      "Epoch 4/50\n",
      "109/109 [==============================] - 2s 16ms/step - loss: 0.2854 - accuracy: 0.9431 - val_loss: 0.9369 - val_accuracy: 0.7340\n",
      "Epoch 5/50\n",
      "109/109 [==============================] - 2s 17ms/step - loss: 0.2477 - accuracy: 0.9515 - val_loss: 0.6773 - val_accuracy: 0.7772\n",
      "Epoch 6/50\n",
      "109/109 [==============================] - 2s 17ms/step - loss: 0.2467 - accuracy: 0.9493 - val_loss: 1.4732 - val_accuracy: 0.6699\n",
      "Epoch 7/50\n",
      "109/109 [==============================] - 2s 17ms/step - loss: 0.2530 - accuracy: 0.9454 - val_loss: 1.0525 - val_accuracy: 0.7244\n",
      "Epoch 00007: early stopping\n",
      "55/55 [==============================] - 1s 9ms/step - loss: 0.2208 - accuracy: 0.9638\n",
      "Epoch 1/50\n",
      "109/109 [==============================] - 3s 19ms/step - loss: 11.2454 - accuracy: 0.7865 - val_loss: 0.9337 - val_accuracy: 0.7917\n",
      "Epoch 2/50\n",
      "109/109 [==============================] - 2s 17ms/step - loss: 0.5599 - accuracy: 0.9337 - val_loss: 0.8224 - val_accuracy: 0.7548\n",
      "Epoch 3/50\n",
      "109/109 [==============================] - 2s 17ms/step - loss: 0.3428 - accuracy: 0.9438 - val_loss: 0.5831 - val_accuracy: 0.8125\n",
      "Epoch 4/50\n",
      "109/109 [==============================] - 2s 17ms/step - loss: 0.2951 - accuracy: 0.9437 - val_loss: 0.9973 - val_accuracy: 0.7035\n",
      "Epoch 5/50\n",
      "109/109 [==============================] - 2s 17ms/step - loss: 0.2627 - accuracy: 0.9536 - val_loss: 0.9848 - val_accuracy: 0.7212\n",
      "Epoch 6/50\n",
      "109/109 [==============================] - 2s 17ms/step - loss: 0.2399 - accuracy: 0.9628 - val_loss: 1.6043 - val_accuracy: 0.6747\n",
      "Epoch 7/50\n",
      "109/109 [==============================] - 2s 17ms/step - loss: 0.2704 - accuracy: 0.9472 - val_loss: 0.9977 - val_accuracy: 0.7308\n",
      "Epoch 8/50\n",
      "109/109 [==============================] - 2s 17ms/step - loss: 0.2304 - accuracy: 0.9640 - val_loss: 0.9731 - val_accuracy: 0.7196\n",
      "Epoch 9/50\n",
      "109/109 [==============================] - 2s 17ms/step - loss: 0.2215 - accuracy: 0.9588 - val_loss: 0.7032 - val_accuracy: 0.8029\n",
      "Epoch 00009: early stopping\n",
      "55/55 [==============================] - 1s 9ms/step - loss: 0.2335 - accuracy: 0.9546\n",
      "Epoch 1/50\n",
      "109/109 [==============================] - 3s 19ms/step - loss: 11.2475 - accuracy: 0.7336 - val_loss: 0.8084 - val_accuracy: 0.8510\n",
      "Epoch 2/50\n",
      "109/109 [==============================] - 2s 17ms/step - loss: 0.5607 - accuracy: 0.9181 - val_loss: 0.8415 - val_accuracy: 0.7388\n",
      "Epoch 3/50\n",
      "109/109 [==============================] - 2s 17ms/step - loss: 0.3182 - accuracy: 0.9443 - val_loss: 0.6950 - val_accuracy: 0.7772\n",
      "Epoch 4/50\n",
      "109/109 [==============================] - 2s 17ms/step - loss: 0.2834 - accuracy: 0.9529 - val_loss: 0.7407 - val_accuracy: 0.7724\n",
      "Epoch 5/50\n",
      "109/109 [==============================] - 2s 18ms/step - loss: 0.2656 - accuracy: 0.9602 - val_loss: 0.8859 - val_accuracy: 0.7356\n",
      "Epoch 6/50\n",
      "109/109 [==============================] - 2s 17ms/step - loss: 0.2477 - accuracy: 0.9577 - val_loss: 0.7353 - val_accuracy: 0.7724\n",
      "Epoch 7/50\n",
      "109/109 [==============================] - 2s 17ms/step - loss: 0.2376 - accuracy: 0.9603 - val_loss: 0.8082 - val_accuracy: 0.7436\n",
      "Epoch 00007: early stopping\n",
      "55/55 [==============================] - 1s 9ms/step - loss: 0.2494 - accuracy: 0.9574\n",
      "Epoch 1/50\n",
      "109/109 [==============================] - 3s 19ms/step - loss: 8.9824 - accuracy: 0.7827 - val_loss: 1.3622 - val_accuracy: 0.7356\n",
      "Epoch 2/50\n",
      "109/109 [==============================] - 2s 17ms/step - loss: 0.7279 - accuracy: 0.9318 - val_loss: 1.1206 - val_accuracy: 0.7179\n",
      "Epoch 3/50\n",
      "109/109 [==============================] - 2s 17ms/step - loss: 0.4154 - accuracy: 0.9437 - val_loss: 0.8167 - val_accuracy: 0.7596\n",
      "Epoch 4/50\n",
      "109/109 [==============================] - 2s 17ms/step - loss: 0.3458 - accuracy: 0.9500 - val_loss: 0.9325 - val_accuracy: 0.7484\n",
      "Epoch 5/50\n",
      "109/109 [==============================] - 2s 17ms/step - loss: 0.2755 - accuracy: 0.9597 - val_loss: 1.0063 - val_accuracy: 0.7196\n",
      "Epoch 6/50\n",
      "109/109 [==============================] - 2s 17ms/step - loss: 0.2546 - accuracy: 0.9619 - val_loss: 1.7218 - val_accuracy: 0.6731\n",
      "Epoch 7/50\n",
      "109/109 [==============================] - 2s 17ms/step - loss: 0.2741 - accuracy: 0.9478 - val_loss: 1.0500 - val_accuracy: 0.7372\n",
      "Epoch 8/50\n",
      "109/109 [==============================] - 2s 17ms/step - loss: 0.2239 - accuracy: 0.9638 - val_loss: 1.0193 - val_accuracy: 0.7212\n",
      "Epoch 9/50\n",
      "109/109 [==============================] - 2s 17ms/step - loss: 0.2012 - accuracy: 0.9688 - val_loss: 0.8147 - val_accuracy: 0.7804\n",
      "Epoch 10/50\n",
      "109/109 [==============================] - 2s 17ms/step - loss: 0.1976 - accuracy: 0.9693 - val_loss: 0.8654 - val_accuracy: 0.7628\n",
      "Epoch 11/50\n",
      "109/109 [==============================] - 2s 17ms/step - loss: 0.1894 - accuracy: 0.9694 - val_loss: 1.5679 - val_accuracy: 0.6715\n",
      "Epoch 12/50\n",
      "109/109 [==============================] - 2s 17ms/step - loss: 0.1907 - accuracy: 0.9651 - val_loss: 0.9905 - val_accuracy: 0.7260\n",
      "Epoch 13/50\n",
      "109/109 [==============================] - 2s 17ms/step - loss: 0.1824 - accuracy: 0.9714 - val_loss: 0.7974 - val_accuracy: 0.7821\n",
      "Epoch 14/50\n",
      "109/109 [==============================] - 2s 17ms/step - loss: 0.1970 - accuracy: 0.9657 - val_loss: 0.7517 - val_accuracy: 0.8077\n",
      "Epoch 15/50\n",
      "109/109 [==============================] - 2s 16ms/step - loss: 0.1903 - accuracy: 0.9651 - val_loss: 1.2497 - val_accuracy: 0.7179\n",
      "Epoch 16/50\n",
      "109/109 [==============================] - 2s 17ms/step - loss: 0.1760 - accuracy: 0.9760 - val_loss: 0.8845 - val_accuracy: 0.7885\n",
      "Epoch 17/50\n",
      "109/109 [==============================] - 2s 18ms/step - loss: 0.1612 - accuracy: 0.9795 - val_loss: 1.0790 - val_accuracy: 0.7468\n",
      "Epoch 18/50\n",
      "109/109 [==============================] - 2s 17ms/step - loss: 0.1671 - accuracy: 0.9757 - val_loss: 1.1105 - val_accuracy: 0.7484\n",
      "Epoch 19/50\n",
      "109/109 [==============================] - 2s 17ms/step - loss: 0.1717 - accuracy: 0.9740 - val_loss: 1.1331 - val_accuracy: 0.7356\n",
      "Epoch 20/50\n",
      "109/109 [==============================] - 2s 17ms/step - loss: 0.1672 - accuracy: 0.9780 - val_loss: 1.3554 - val_accuracy: 0.7147\n",
      "Epoch 00020: early stopping\n",
      "55/55 [==============================] - 1s 9ms/step - loss: 0.1831 - accuracy: 0.9707\n",
      "Epoch 1/50\n",
      "109/109 [==============================] - 3s 20ms/step - loss: 8.7250 - accuracy: 0.8096 - val_loss: 0.9598 - val_accuracy: 0.8285\n",
      "Epoch 2/50\n",
      "109/109 [==============================] - 2s 18ms/step - loss: 0.6444 - accuracy: 0.9334 - val_loss: 0.7929 - val_accuracy: 0.7885\n",
      "Epoch 3/50\n",
      "109/109 [==============================] - 2s 17ms/step - loss: 0.3759 - accuracy: 0.9511 - val_loss: 0.6084 - val_accuracy: 0.8125\n",
      "Epoch 4/50\n",
      "109/109 [==============================] - 2s 17ms/step - loss: 0.3084 - accuracy: 0.9476 - val_loss: 0.8106 - val_accuracy: 0.7644\n",
      "Epoch 5/50\n",
      "109/109 [==============================] - 2s 17ms/step - loss: 0.2617 - accuracy: 0.9595 - val_loss: 1.1009 - val_accuracy: 0.7212\n",
      "Epoch 6/50\n",
      "109/109 [==============================] - 2s 17ms/step - loss: 0.2235 - accuracy: 0.9616 - val_loss: 2.2907 - val_accuracy: 0.6458\n",
      "Epoch 7/50\n",
      "109/109 [==============================] - 2s 18ms/step - loss: 0.2749 - accuracy: 0.9461 - val_loss: 0.9322 - val_accuracy: 0.7468\n",
      "Epoch 00007: early stopping\n",
      "55/55 [==============================] - 1s 9ms/step - loss: 0.2146 - accuracy: 0.9643\n",
      "Epoch 1/50\n",
      "109/109 [==============================] - 3s 19ms/step - loss: 8.5981 - accuracy: 0.7755 - val_loss: 0.8711 - val_accuracy: 0.8606\n",
      "Epoch 2/50\n",
      "109/109 [==============================] - 2s 17ms/step - loss: 0.6075 - accuracy: 0.9172 - val_loss: 0.8584 - val_accuracy: 0.7484\n",
      "Epoch 3/50\n",
      "109/109 [==============================] - 2s 18ms/step - loss: 0.3670 - accuracy: 0.9431 - val_loss: 0.7700 - val_accuracy: 0.7740\n",
      "Epoch 4/50\n",
      "109/109 [==============================] - 2s 17ms/step - loss: 0.3022 - accuracy: 0.9499 - val_loss: 0.7716 - val_accuracy: 0.7660\n",
      "Epoch 5/50\n",
      "109/109 [==============================] - 2s 18ms/step - loss: 0.2697 - accuracy: 0.9499 - val_loss: 0.9135 - val_accuracy: 0.7324\n",
      "Epoch 6/50\n",
      "109/109 [==============================] - 2s 17ms/step - loss: 0.2430 - accuracy: 0.9589 - val_loss: 0.6955 - val_accuracy: 0.7853\n",
      "Epoch 7/50\n",
      "109/109 [==============================] - 2s 17ms/step - loss: 0.2376 - accuracy: 0.9560 - val_loss: 0.8859 - val_accuracy: 0.7372\n",
      "Epoch 00007: early stopping\n",
      "55/55 [==============================] - 1s 9ms/step - loss: 0.2427 - accuracy: 0.9591\n",
      "Epoch 1/50\n",
      "109/109 [==============================] - 3s 24ms/step - loss: 8.4111 - accuracy: 0.7468 - val_loss: 0.8583 - val_accuracy: 0.7933\n",
      "Epoch 2/50\n",
      "109/109 [==============================] - 2s 17ms/step - loss: 0.5431 - accuracy: 0.9157 - val_loss: 1.1690 - val_accuracy: 0.6875\n",
      "Epoch 3/50\n",
      "109/109 [==============================] - 2s 17ms/step - loss: 0.3410 - accuracy: 0.9451 - val_loss: 0.7380 - val_accuracy: 0.7596\n",
      "Epoch 4/50\n",
      "109/109 [==============================] - 2s 17ms/step - loss: 0.2987 - accuracy: 0.9431 - val_loss: 1.0762 - val_accuracy: 0.7179\n",
      "Epoch 5/50\n",
      "109/109 [==============================] - 2s 17ms/step - loss: 0.2378 - accuracy: 0.9604 - val_loss: 0.7498 - val_accuracy: 0.7676\n",
      "Epoch 6/50\n",
      "109/109 [==============================] - 2s 17ms/step - loss: 0.2357 - accuracy: 0.9590 - val_loss: 1.8507 - val_accuracy: 0.6619\n",
      "Epoch 7/50\n",
      "109/109 [==============================] - 2s 17ms/step - loss: 0.2529 - accuracy: 0.9490 - val_loss: 1.1418 - val_accuracy: 0.7260\n",
      "Epoch 00007: early stopping\n",
      "55/55 [==============================] - 1s 9ms/step - loss: 0.2051 - accuracy: 0.9684\n",
      "Epoch 1/50\n",
      "109/109 [==============================] - 3s 19ms/step - loss: 8.0874 - accuracy: 0.7859 - val_loss: 1.0240 - val_accuracy: 0.7260\n",
      "Epoch 2/50\n",
      "109/109 [==============================] - 2s 17ms/step - loss: 0.5314 - accuracy: 0.9349 - val_loss: 0.7305 - val_accuracy: 0.7837\n",
      "Epoch 3/50\n",
      "109/109 [==============================] - 2s 18ms/step - loss: 0.3601 - accuracy: 0.9482 - val_loss: 0.6116 - val_accuracy: 0.8109\n",
      "Epoch 4/50\n",
      "109/109 [==============================] - 2s 17ms/step - loss: 0.2972 - accuracy: 0.9486 - val_loss: 0.9870 - val_accuracy: 0.7131\n",
      "Epoch 5/50\n",
      "109/109 [==============================] - 2s 17ms/step - loss: 0.2531 - accuracy: 0.9604 - val_loss: 0.9732 - val_accuracy: 0.7324\n",
      "Epoch 6/50\n",
      "109/109 [==============================] - 2s 17ms/step - loss: 0.2223 - accuracy: 0.9641 - val_loss: 2.2594 - val_accuracy: 0.6442\n",
      "Epoch 7/50\n",
      "109/109 [==============================] - 2s 17ms/step - loss: 0.2704 - accuracy: 0.9490 - val_loss: 1.0068 - val_accuracy: 0.7372\n",
      "Epoch 8/50\n",
      "109/109 [==============================] - 2s 18ms/step - loss: 0.2084 - accuracy: 0.9670 - val_loss: 1.1225 - val_accuracy: 0.7131\n",
      "Epoch 9/50\n",
      "109/109 [==============================] - 2s 17ms/step - loss: 0.1995 - accuracy: 0.9630 - val_loss: 0.7108 - val_accuracy: 0.8125\n",
      "Epoch 10/50\n",
      "109/109 [==============================] - 2s 17ms/step - loss: 0.1956 - accuracy: 0.9692 - val_loss: 1.0180 - val_accuracy: 0.7644\n",
      "Epoch 11/50\n",
      "109/109 [==============================] - 2s 17ms/step - loss: 0.1750 - accuracy: 0.9769 - val_loss: 1.2324 - val_accuracy: 0.7019\n",
      "Epoch 12/50\n",
      "109/109 [==============================] - 2s 17ms/step - loss: 0.1853 - accuracy: 0.9671 - val_loss: 0.9409 - val_accuracy: 0.7756\n",
      "Epoch 13/50\n",
      "109/109 [==============================] - 2s 17ms/step - loss: 0.1803 - accuracy: 0.9737 - val_loss: 1.0233 - val_accuracy: 0.7580\n",
      "Epoch 14/50\n",
      "109/109 [==============================] - 2s 17ms/step - loss: 0.1826 - accuracy: 0.9665 - val_loss: 0.9552 - val_accuracy: 0.7628\n",
      "Epoch 15/50\n",
      "109/109 [==============================] - 2s 17ms/step - loss: 0.1708 - accuracy: 0.9725 - val_loss: 1.0361 - val_accuracy: 0.7628\n",
      "Epoch 00015: early stopping\n",
      "55/55 [==============================] - 1s 9ms/step - loss: 0.1839 - accuracy: 0.9661\n",
      "Epoch 1/50\n",
      "109/109 [==============================] - 3s 20ms/step - loss: 8.5825 - accuracy: 0.7764 - val_loss: 1.2441 - val_accuracy: 0.6907\n",
      "Epoch 2/50\n",
      "109/109 [==============================] - 2s 17ms/step - loss: 0.7132 - accuracy: 0.9301 - val_loss: 1.0653 - val_accuracy: 0.7163\n",
      "Epoch 3/50\n",
      "109/109 [==============================] - 2s 18ms/step - loss: 0.3951 - accuracy: 0.9550 - val_loss: 1.0270 - val_accuracy: 0.7484\n",
      "Epoch 4/50\n",
      "109/109 [==============================] - 2s 17ms/step - loss: 0.3186 - accuracy: 0.9550 - val_loss: 0.8680 - val_accuracy: 0.7628\n",
      "Epoch 5/50\n",
      "109/109 [==============================] - 2s 17ms/step - loss: 0.2835 - accuracy: 0.9575 - val_loss: 0.9460 - val_accuracy: 0.7356\n",
      "Epoch 6/50\n",
      "109/109 [==============================] - 2s 17ms/step - loss: 0.2519 - accuracy: 0.9610 - val_loss: 0.7283 - val_accuracy: 0.7837\n",
      "Epoch 7/50\n",
      "109/109 [==============================] - 2s 17ms/step - loss: 0.2396 - accuracy: 0.9624 - val_loss: 0.9436 - val_accuracy: 0.7340\n",
      "Epoch 8/50\n",
      "109/109 [==============================] - 2s 17ms/step - loss: 0.2184 - accuracy: 0.9706 - val_loss: 0.9606 - val_accuracy: 0.7564\n",
      "Epoch 9/50\n",
      "109/109 [==============================] - 2s 17ms/step - loss: 0.2137 - accuracy: 0.9645 - val_loss: 1.3382 - val_accuracy: 0.7131\n",
      "Epoch 10/50\n",
      "109/109 [==============================] - 2s 17ms/step - loss: 0.1988 - accuracy: 0.9671 - val_loss: 0.9412 - val_accuracy: 0.7692\n",
      "Epoch 11/50\n",
      "109/109 [==============================] - 2s 18ms/step - loss: 0.1788 - accuracy: 0.9727 - val_loss: 0.7906 - val_accuracy: 0.7837\n",
      "Epoch 12/50\n",
      "109/109 [==============================] - 2s 17ms/step - loss: 0.1795 - accuracy: 0.9732 - val_loss: 1.1511 - val_accuracy: 0.7324\n",
      "Epoch 00012: early stopping\n",
      "55/55 [==============================] - 1s 10ms/step - loss: 0.1980 - accuracy: 0.9655\n",
      "Epoch 1/50\n",
      "109/109 [==============================] - 3s 20ms/step - loss: 29.5078 - accuracy: 0.7739 - val_loss: 0.8357 - val_accuracy: 0.7644\n",
      "Epoch 2/50\n",
      "109/109 [==============================] - 2s 17ms/step - loss: 0.4631 - accuracy: 0.9100 - val_loss: 0.7177 - val_accuracy: 0.7404\n",
      "Epoch 3/50\n",
      "109/109 [==============================] - 2s 17ms/step - loss: 0.2927 - accuracy: 0.9228 - val_loss: 0.5897 - val_accuracy: 0.7837\n",
      "Epoch 4/50\n",
      "109/109 [==============================] - 2s 18ms/step - loss: 0.3107 - accuracy: 0.9169 - val_loss: 0.7025 - val_accuracy: 0.7484\n",
      "Epoch 5/50\n",
      "109/109 [==============================] - 2s 17ms/step - loss: 0.2634 - accuracy: 0.9349 - val_loss: 0.5784 - val_accuracy: 0.7997\n",
      "Epoch 6/50\n",
      "109/109 [==============================] - 2s 17ms/step - loss: 0.2527 - accuracy: 0.9390 - val_loss: 1.0754 - val_accuracy: 0.6619\n",
      "Epoch 7/50\n",
      "109/109 [==============================] - 2s 17ms/step - loss: 0.2704 - accuracy: 0.9270 - val_loss: 0.8020 - val_accuracy: 0.7356\n",
      "Epoch 8/50\n",
      "109/109 [==============================] - 2s 17ms/step - loss: 0.2276 - accuracy: 0.9432 - val_loss: 0.6985 - val_accuracy: 0.7452\n",
      "Epoch 9/50\n",
      "109/109 [==============================] - 2s 17ms/step - loss: 0.2219 - accuracy: 0.9418 - val_loss: 0.7582 - val_accuracy: 0.7356\n",
      "Epoch 10/50\n",
      "109/109 [==============================] - 2s 17ms/step - loss: 0.2192 - accuracy: 0.9456 - val_loss: 0.7887 - val_accuracy: 0.7500\n",
      "Epoch 11/50\n",
      "109/109 [==============================] - 2s 18ms/step - loss: 0.2182 - accuracy: 0.9419 - val_loss: 1.1312 - val_accuracy: 0.6795\n",
      "Epoch 00011: early stopping\n",
      "55/55 [==============================] - 1s 9ms/step - loss: 0.2501 - accuracy: 0.9189\n",
      "Epoch 1/50\n",
      "109/109 [==============================] - 3s 20ms/step - loss: 29.3196 - accuracy: 0.7762 - val_loss: 0.9585 - val_accuracy: 0.6571\n",
      "Epoch 2/50\n",
      "109/109 [==============================] - 2s 17ms/step - loss: 0.4489 - accuracy: 0.9214 - val_loss: 0.4957 - val_accuracy: 0.8301\n",
      "Epoch 3/50\n",
      "109/109 [==============================] - 2s 17ms/step - loss: 0.3043 - accuracy: 0.9301 - val_loss: 0.5493 - val_accuracy: 0.8029\n",
      "Epoch 4/50\n",
      "109/109 [==============================] - 2s 17ms/step - loss: 0.2757 - accuracy: 0.9351 - val_loss: 0.7392 - val_accuracy: 0.7404\n",
      "Epoch 5/50\n",
      "109/109 [==============================] - 2s 18ms/step - loss: 0.2627 - accuracy: 0.9339 - val_loss: 1.1523 - val_accuracy: 0.6811\n",
      "Epoch 6/50\n",
      "109/109 [==============================] - 2s 17ms/step - loss: 0.2536 - accuracy: 0.9443 - val_loss: 1.0859 - val_accuracy: 0.6859\n",
      "Epoch 7/50\n",
      "109/109 [==============================] - 2s 17ms/step - loss: 0.2418 - accuracy: 0.9397 - val_loss: 0.6939 - val_accuracy: 0.7484\n",
      "Epoch 8/50\n",
      "109/109 [==============================] - 2s 17ms/step - loss: 0.2214 - accuracy: 0.9457 - val_loss: 0.8484 - val_accuracy: 0.7212\n",
      "Epoch 00008: early stopping\n",
      "55/55 [==============================] - 1s 9ms/step - loss: 0.2344 - accuracy: 0.9350\n",
      "Epoch 1/50\n",
      "109/109 [==============================] - 3s 19ms/step - loss: 29.5563 - accuracy: 0.7528 - val_loss: 0.7467 - val_accuracy: 0.8253\n",
      "Epoch 2/50\n",
      "109/109 [==============================] - 2s 17ms/step - loss: 0.4843 - accuracy: 0.9081 - val_loss: 0.5778 - val_accuracy: 0.7756\n",
      "Epoch 3/50\n",
      "109/109 [==============================] - 2s 17ms/step - loss: 0.3209 - accuracy: 0.9241 - val_loss: 0.5634 - val_accuracy: 0.7949\n",
      "Epoch 4/50\n",
      "109/109 [==============================] - 2s 17ms/step - loss: 0.2815 - accuracy: 0.9287 - val_loss: 0.6875 - val_accuracy: 0.7580\n",
      "Epoch 5/50\n",
      "109/109 [==============================] - 2s 18ms/step - loss: 0.2688 - accuracy: 0.9241 - val_loss: 0.6992 - val_accuracy: 0.7564\n",
      "Epoch 6/50\n",
      "109/109 [==============================] - 2s 17ms/step - loss: 0.2411 - accuracy: 0.9406 - val_loss: 0.7470 - val_accuracy: 0.7308\n",
      "Epoch 7/50\n",
      "109/109 [==============================] - 2s 18ms/step - loss: 0.2291 - accuracy: 0.9402 - val_loss: 0.6638 - val_accuracy: 0.7404\n",
      "Epoch 00007: early stopping\n",
      "55/55 [==============================] - 1s 10ms/step - loss: 0.2269 - accuracy: 0.9453\n",
      "Epoch 1/50\n",
      "109/109 [==============================] - 3s 20ms/step - loss: 4.6083 - accuracy: 0.7836 - val_loss: 1.0080 - val_accuracy: 0.7548\n",
      "Epoch 2/50\n",
      "109/109 [==============================] - 2s 17ms/step - loss: 0.4913 - accuracy: 0.9361 - val_loss: 0.7660 - val_accuracy: 0.7596\n",
      "Epoch 3/50\n",
      "109/109 [==============================] - 2s 17ms/step - loss: 0.2754 - accuracy: 0.9478 - val_loss: 0.6956 - val_accuracy: 0.7660\n",
      "Epoch 4/50\n",
      "109/109 [==============================] - 2s 18ms/step - loss: 0.2330 - accuracy: 0.9477 - val_loss: 0.8847 - val_accuracy: 0.7372\n",
      "Epoch 5/50\n",
      "109/109 [==============================] - 2s 17ms/step - loss: 0.1697 - accuracy: 0.9656 - val_loss: 0.7250 - val_accuracy: 0.7596\n",
      "Epoch 6/50\n",
      "109/109 [==============================] - 2s 18ms/step - loss: 0.1695 - accuracy: 0.9573 - val_loss: 1.7953 - val_accuracy: 0.6619\n",
      "Epoch 7/50\n",
      "109/109 [==============================] - 2s 18ms/step - loss: 0.1816 - accuracy: 0.9578 - val_loss: 0.9967 - val_accuracy: 0.7276\n",
      "Epoch 8/50\n",
      "109/109 [==============================] - 2s 18ms/step - loss: 0.1513 - accuracy: 0.9655 - val_loss: 0.8305 - val_accuracy: 0.7468\n",
      "Epoch 9/50\n",
      "109/109 [==============================] - 2s 17ms/step - loss: 0.1414 - accuracy: 0.9655 - val_loss: 0.8042 - val_accuracy: 0.7676\n",
      "Epoch 10/50\n",
      "109/109 [==============================] - 2s 18ms/step - loss: 0.1421 - accuracy: 0.9646 - val_loss: 0.7577 - val_accuracy: 0.7596\n",
      "Epoch 11/50\n",
      "109/109 [==============================] - 2s 18ms/step - loss: 0.1367 - accuracy: 0.9681 - val_loss: 1.6265 - val_accuracy: 0.6651\n",
      "Epoch 12/50\n",
      "109/109 [==============================] - 2s 18ms/step - loss: 0.1424 - accuracy: 0.9618 - val_loss: 1.1655 - val_accuracy: 0.7115\n",
      "Epoch 13/50\n",
      "109/109 [==============================] - 2s 17ms/step - loss: 0.1310 - accuracy: 0.9709 - val_loss: 0.6741 - val_accuracy: 0.7901\n",
      "Epoch 14/50\n",
      "109/109 [==============================] - 2s 17ms/step - loss: 0.1469 - accuracy: 0.9651 - val_loss: 0.9148 - val_accuracy: 0.7516\n",
      "Epoch 15/50\n",
      "109/109 [==============================] - 2s 17ms/step - loss: 0.1325 - accuracy: 0.9682 - val_loss: 0.9515 - val_accuracy: 0.7452\n",
      "Epoch 16/50\n",
      "109/109 [==============================] - 2s 17ms/step - loss: 0.1256 - accuracy: 0.9741 - val_loss: 0.8576 - val_accuracy: 0.7676\n",
      "Epoch 17/50\n",
      "109/109 [==============================] - 2s 17ms/step - loss: 0.1206 - accuracy: 0.9718 - val_loss: 0.8991 - val_accuracy: 0.7532\n",
      "Epoch 18/50\n",
      "109/109 [==============================] - 2s 17ms/step - loss: 0.1218 - accuracy: 0.9694 - val_loss: 0.9255 - val_accuracy: 0.7500\n",
      "Epoch 19/50\n",
      "109/109 [==============================] - 2s 17ms/step - loss: 0.1212 - accuracy: 0.9731 - val_loss: 1.0062 - val_accuracy: 0.7516\n",
      "Epoch 00019: early stopping\n",
      "55/55 [==============================] - 1s 9ms/step - loss: 0.1321 - accuracy: 0.9666\n",
      "Epoch 1/50\n",
      "109/109 [==============================] - 4s 20ms/step - loss: 4.3824 - accuracy: 0.8087 - val_loss: 1.1319 - val_accuracy: 0.6538\n",
      "Epoch 2/50\n",
      "109/109 [==============================] - 2s 18ms/step - loss: 0.4212 - accuracy: 0.9367 - val_loss: 0.5448 - val_accuracy: 0.8237\n",
      "Epoch 3/50\n",
      "109/109 [==============================] - 2s 18ms/step - loss: 0.2521 - accuracy: 0.9509 - val_loss: 0.5035 - val_accuracy: 0.8205\n",
      "Epoch 4/50\n",
      "109/109 [==============================] - 2s 17ms/step - loss: 0.2041 - accuracy: 0.9461 - val_loss: 0.8690 - val_accuracy: 0.7308\n",
      "Epoch 5/50\n",
      "109/109 [==============================] - 2s 18ms/step - loss: 0.1705 - accuracy: 0.9590 - val_loss: 0.9212 - val_accuracy: 0.7276\n",
      "Epoch 6/50\n",
      "109/109 [==============================] - 2s 17ms/step - loss: 0.1498 - accuracy: 0.9642 - val_loss: 1.5852 - val_accuracy: 0.6843\n",
      "Epoch 7/50\n",
      "109/109 [==============================] - 2s 18ms/step - loss: 0.1798 - accuracy: 0.9544 - val_loss: 0.9772 - val_accuracy: 0.7260\n",
      "Epoch 8/50\n",
      "109/109 [==============================] - 2s 18ms/step - loss: 0.1447 - accuracy: 0.9654 - val_loss: 0.9619 - val_accuracy: 0.7244\n",
      "Epoch 00008: early stopping\n",
      "55/55 [==============================] - 1s 9ms/step - loss: 0.1479 - accuracy: 0.9586\n",
      "Epoch 1/50\n",
      "109/109 [==============================] - 3s 20ms/step - loss: 4.3066 - accuracy: 0.7779 - val_loss: 0.7012 - val_accuracy: 0.8301\n",
      "Epoch 2/50\n",
      "109/109 [==============================] - 2s 17ms/step - loss: 0.4804 - accuracy: 0.9238 - val_loss: 0.9299 - val_accuracy: 0.7083\n",
      "Epoch 3/50\n",
      "109/109 [==============================] - 2s 18ms/step - loss: 0.3122 - accuracy: 0.9489 - val_loss: 0.6956 - val_accuracy: 0.7692\n",
      "Epoch 4/50\n",
      "109/109 [==============================] - 2s 17ms/step - loss: 0.2621 - accuracy: 0.9449 - val_loss: 0.7430 - val_accuracy: 0.7644\n",
      "Epoch 5/50\n",
      "109/109 [==============================] - 2s 18ms/step - loss: 0.2255 - accuracy: 0.9494 - val_loss: 0.7731 - val_accuracy: 0.7532\n",
      "Epoch 6/50\n",
      "109/109 [==============================] - 2s 17ms/step - loss: 0.1956 - accuracy: 0.9550 - val_loss: 0.5243 - val_accuracy: 0.8029\n",
      "Epoch 7/50\n",
      "109/109 [==============================] - 2s 17ms/step - loss: 0.1991 - accuracy: 0.9489 - val_loss: 0.6394 - val_accuracy: 0.7564\n",
      "Epoch 00007: early stopping\n",
      "55/55 [==============================] - 1s 10ms/step - loss: 0.1894 - accuracy: 0.9568\n",
      "Epoch 1/50\n",
      "109/109 [==============================] - 3s 20ms/step - loss: 1.7971 - accuracy: 0.8022 - val_loss: 1.1577 - val_accuracy: 0.7324\n",
      "Epoch 2/50\n",
      "109/109 [==============================] - 2s 18ms/step - loss: 0.4416 - accuracy: 0.9518 - val_loss: 0.8718 - val_accuracy: 0.7660\n",
      "Epoch 3/50\n",
      "109/109 [==============================] - 2s 18ms/step - loss: 0.3093 - accuracy: 0.9607 - val_loss: 0.8603 - val_accuracy: 0.7676\n",
      "Epoch 4/50\n",
      "109/109 [==============================] - 2s 18ms/step - loss: 0.2520 - accuracy: 0.9685 - val_loss: 1.0023 - val_accuracy: 0.7596\n",
      "Epoch 5/50\n",
      "109/109 [==============================] - 2s 18ms/step - loss: 0.1884 - accuracy: 0.9749 - val_loss: 0.7145 - val_accuracy: 0.7981\n",
      "Epoch 6/50\n",
      "109/109 [==============================] - 2s 18ms/step - loss: 0.1844 - accuracy: 0.9700 - val_loss: 1.5468 - val_accuracy: 0.7003\n",
      "Epoch 7/50\n",
      "109/109 [==============================] - 2s 17ms/step - loss: 0.2101 - accuracy: 0.9608 - val_loss: 1.0918 - val_accuracy: 0.7660\n",
      "Epoch 8/50\n",
      "109/109 [==============================] - 2s 18ms/step - loss: 0.1573 - accuracy: 0.9728 - val_loss: 0.9363 - val_accuracy: 0.7724\n",
      "Epoch 9/50\n",
      "109/109 [==============================] - 2s 18ms/step - loss: 0.1288 - accuracy: 0.9827 - val_loss: 0.8502 - val_accuracy: 0.7965\n",
      "Epoch 10/50\n",
      "109/109 [==============================] - 2s 18ms/step - loss: 0.1316 - accuracy: 0.9807 - val_loss: 0.6292 - val_accuracy: 0.8173\n",
      "Epoch 11/50\n",
      "109/109 [==============================] - 2s 18ms/step - loss: 0.1352 - accuracy: 0.9779 - val_loss: 1.5458 - val_accuracy: 0.7051\n",
      "Epoch 12/50\n",
      "109/109 [==============================] - 2s 18ms/step - loss: 0.1246 - accuracy: 0.9815 - val_loss: 1.1208 - val_accuracy: 0.7644\n",
      "Epoch 13/50\n",
      "109/109 [==============================] - 2s 18ms/step - loss: 0.1057 - accuracy: 0.9844 - val_loss: 0.7757 - val_accuracy: 0.7901\n",
      "Epoch 14/50\n",
      "109/109 [==============================] - 2s 18ms/step - loss: 0.1171 - accuracy: 0.9747 - val_loss: 1.0769 - val_accuracy: 0.7756\n",
      "Epoch 15/50\n",
      "109/109 [==============================] - 2s 18ms/step - loss: 0.1127 - accuracy: 0.9799 - val_loss: 0.9379 - val_accuracy: 0.7804\n",
      "Epoch 16/50\n",
      "109/109 [==============================] - 2s 17ms/step - loss: 0.0976 - accuracy: 0.9881 - val_loss: 0.9738 - val_accuracy: 0.8061\n",
      "Epoch 00016: early stopping\n",
      "55/55 [==============================] - 1s 9ms/step - loss: 0.1452 - accuracy: 0.9684\n",
      "Epoch 1/50\n",
      "109/109 [==============================] - 3s 20ms/step - loss: 1.6999 - accuracy: 0.8171 - val_loss: 1.4254 - val_accuracy: 0.6571\n",
      "Epoch 2/50\n",
      "109/109 [==============================] - 2s 17ms/step - loss: 0.4457 - accuracy: 0.9444 - val_loss: 0.8326 - val_accuracy: 0.7821\n",
      "Epoch 3/50\n",
      "109/109 [==============================] - 2s 18ms/step - loss: 0.3205 - accuracy: 0.9563 - val_loss: 0.5720 - val_accuracy: 0.8253\n",
      "Epoch 4/50\n",
      "109/109 [==============================] - 2s 18ms/step - loss: 0.2649 - accuracy: 0.9624 - val_loss: 1.0211 - val_accuracy: 0.7484\n",
      "Epoch 5/50\n",
      "109/109 [==============================] - 2s 17ms/step - loss: 0.2082 - accuracy: 0.9691 - val_loss: 1.1964 - val_accuracy: 0.7340\n",
      "Epoch 6/50\n",
      "109/109 [==============================] - 2s 18ms/step - loss: 0.1987 - accuracy: 0.9675 - val_loss: 0.9044 - val_accuracy: 0.7660\n",
      "Epoch 7/50\n",
      "109/109 [==============================] - 2s 18ms/step - loss: 0.1817 - accuracy: 0.9662 - val_loss: 0.8307 - val_accuracy: 0.7837\n",
      "Epoch 8/50\n",
      "109/109 [==============================] - 2s 18ms/step - loss: 0.1645 - accuracy: 0.9669 - val_loss: 1.0543 - val_accuracy: 0.7548\n",
      "Epoch 9/50\n",
      "109/109 [==============================] - 2s 17ms/step - loss: 0.1546 - accuracy: 0.9717 - val_loss: 0.9125 - val_accuracy: 0.7901\n",
      "Epoch 00009: early stopping\n",
      "55/55 [==============================] - 1s 10ms/step - loss: 0.1457 - accuracy: 0.9741\n",
      "Epoch 1/50\n",
      "109/109 [==============================] - 3s 20ms/step - loss: 1.6830 - accuracy: 0.7647 - val_loss: 0.6318 - val_accuracy: 0.8381\n",
      "Epoch 2/50\n",
      "109/109 [==============================] - 2s 17ms/step - loss: 0.3866 - accuracy: 0.9521 - val_loss: 0.8768 - val_accuracy: 0.7372\n",
      "Epoch 3/50\n",
      "109/109 [==============================] - 2s 18ms/step - loss: 0.2569 - accuracy: 0.9614 - val_loss: 0.6515 - val_accuracy: 0.8061\n",
      "Epoch 4/50\n",
      "109/109 [==============================] - 2s 17ms/step - loss: 0.2184 - accuracy: 0.9619 - val_loss: 0.5868 - val_accuracy: 0.8189\n",
      "Epoch 5/50\n",
      "109/109 [==============================] - 2s 18ms/step - loss: 0.2140 - accuracy: 0.9625 - val_loss: 1.3379 - val_accuracy: 0.6987\n",
      "Epoch 6/50\n",
      "109/109 [==============================] - 2s 18ms/step - loss: 0.1733 - accuracy: 0.9704 - val_loss: 0.8298 - val_accuracy: 0.7708\n",
      "Epoch 7/50\n",
      "109/109 [==============================] - 2s 18ms/step - loss: 0.1484 - accuracy: 0.9745 - val_loss: 0.8393 - val_accuracy: 0.7708\n",
      "Epoch 00007: early stopping\n",
      "55/55 [==============================] - 1s 10ms/step - loss: 0.1717 - accuracy: 0.9649\n",
      "Epoch 1/50\n",
      "109/109 [==============================] - 3s 20ms/step - loss: 1.4397 - accuracy: 0.7810 - val_loss: 1.3025 - val_accuracy: 0.6875\n",
      "Epoch 2/50\n",
      "109/109 [==============================] - 2s 17ms/step - loss: 0.3842 - accuracy: 0.9496 - val_loss: 1.4692 - val_accuracy: 0.6795\n",
      "Epoch 3/50\n",
      "109/109 [==============================] - 2s 18ms/step - loss: 0.2710 - accuracy: 0.9561 - val_loss: 1.0043 - val_accuracy: 0.7500\n",
      "Epoch 4/50\n",
      "109/109 [==============================] - 2s 18ms/step - loss: 0.2343 - accuracy: 0.9578 - val_loss: 1.1069 - val_accuracy: 0.7548\n",
      "Epoch 5/50\n",
      "109/109 [==============================] - 2s 17ms/step - loss: 0.1705 - accuracy: 0.9740 - val_loss: 0.8455 - val_accuracy: 0.7756\n",
      "Epoch 6/50\n",
      "109/109 [==============================] - 2s 17ms/step - loss: 0.1631 - accuracy: 0.9754 - val_loss: 1.6637 - val_accuracy: 0.6987\n",
      "Epoch 7/50\n",
      "109/109 [==============================] - 2s 17ms/step - loss: 0.1710 - accuracy: 0.9671 - val_loss: 0.9509 - val_accuracy: 0.7772\n",
      "Epoch 8/50\n",
      "109/109 [==============================] - 2s 18ms/step - loss: 0.1393 - accuracy: 0.9752 - val_loss: 1.0049 - val_accuracy: 0.7788\n",
      "Epoch 9/50\n",
      "109/109 [==============================] - 2s 18ms/step - loss: 0.1122 - accuracy: 0.9839 - val_loss: 0.7723 - val_accuracy: 0.8173\n",
      "Epoch 10/50\n",
      "109/109 [==============================] - 2s 18ms/step - loss: 0.1152 - accuracy: 0.9807 - val_loss: 0.8697 - val_accuracy: 0.7853\n",
      "Epoch 11/50\n",
      "109/109 [==============================] - 2s 18ms/step - loss: 0.1202 - accuracy: 0.9788 - val_loss: 1.4862 - val_accuracy: 0.7163\n",
      "Epoch 12/50\n",
      "109/109 [==============================] - 2s 18ms/step - loss: 0.1091 - accuracy: 0.9825 - val_loss: 1.0687 - val_accuracy: 0.7708\n",
      "Epoch 13/50\n",
      "109/109 [==============================] - 2s 18ms/step - loss: 0.0963 - accuracy: 0.9853 - val_loss: 0.9056 - val_accuracy: 0.8029\n",
      "Epoch 14/50\n",
      "109/109 [==============================] - 2s 18ms/step - loss: 0.1013 - accuracy: 0.9829 - val_loss: 0.9909 - val_accuracy: 0.7917\n",
      "Epoch 15/50\n",
      "109/109 [==============================] - 2s 18ms/step - loss: 0.0957 - accuracy: 0.9834 - val_loss: 1.6586 - val_accuracy: 0.7163\n",
      "Epoch 00015: early stopping\n",
      "55/55 [==============================] - 1s 10ms/step - loss: 0.1671 - accuracy: 0.9626\n",
      "Epoch 1/50\n",
      "109/109 [==============================] - 3s 20ms/step - loss: 1.4774 - accuracy: 0.8024 - val_loss: 1.2496 - val_accuracy: 0.6715\n",
      "Epoch 2/50\n",
      "109/109 [==============================] - 2s 17ms/step - loss: 0.4356 - accuracy: 0.9506 - val_loss: 1.0418 - val_accuracy: 0.7516\n",
      "Epoch 3/50\n",
      "109/109 [==============================] - 2s 17ms/step - loss: 0.3124 - accuracy: 0.9604 - val_loss: 0.5232 - val_accuracy: 0.8590\n",
      "Epoch 4/50\n",
      "109/109 [==============================] - 2s 18ms/step - loss: 0.2683 - accuracy: 0.9592 - val_loss: 1.1800 - val_accuracy: 0.7324\n",
      "Epoch 5/50\n",
      "109/109 [==============================] - 2s 18ms/step - loss: 0.2077 - accuracy: 0.9686 - val_loss: 0.9111 - val_accuracy: 0.7628\n",
      "Epoch 6/50\n",
      "109/109 [==============================] - 2s 18ms/step - loss: 0.1901 - accuracy: 0.9708 - val_loss: 1.0642 - val_accuracy: 0.7196\n",
      "Epoch 7/50\n",
      "109/109 [==============================] - 2s 18ms/step - loss: 0.1802 - accuracy: 0.9683 - val_loss: 0.8636 - val_accuracy: 0.7853\n",
      "Epoch 8/50\n",
      "109/109 [==============================] - 2s 18ms/step - loss: 0.1628 - accuracy: 0.9684 - val_loss: 1.2505 - val_accuracy: 0.7372\n",
      "Epoch 9/50\n",
      "109/109 [==============================] - 2s 18ms/step - loss: 0.1534 - accuracy: 0.9735 - val_loss: 0.8346 - val_accuracy: 0.7981\n",
      "Epoch 00009: early stopping\n",
      "55/55 [==============================] - 1s 10ms/step - loss: 0.1567 - accuracy: 0.9718\n",
      "Epoch 1/50\n",
      "109/109 [==============================] - 4s 20ms/step - loss: 1.4229 - accuracy: 0.7919 - val_loss: 0.6466 - val_accuracy: 0.8670\n",
      "Epoch 2/50\n",
      "109/109 [==============================] - 2s 18ms/step - loss: 0.4234 - accuracy: 0.9482 - val_loss: 0.9907 - val_accuracy: 0.7340\n",
      "Epoch 3/50\n",
      "109/109 [==============================] - 2s 18ms/step - loss: 0.2613 - accuracy: 0.9668 - val_loss: 0.9139 - val_accuracy: 0.7724\n",
      "Epoch 4/50\n",
      "109/109 [==============================] - 2s 18ms/step - loss: 0.2230 - accuracy: 0.9672 - val_loss: 0.6226 - val_accuracy: 0.8029\n",
      "Epoch 5/50\n",
      "109/109 [==============================] - 2s 19ms/step - loss: 0.2124 - accuracy: 0.9658 - val_loss: 1.3398 - val_accuracy: 0.7131\n",
      "Epoch 6/50\n",
      "109/109 [==============================] - 2s 18ms/step - loss: 0.1896 - accuracy: 0.9662 - val_loss: 0.9876 - val_accuracy: 0.7628\n",
      "Epoch 7/50\n",
      "109/109 [==============================] - 2s 18ms/step - loss: 0.1528 - accuracy: 0.9753 - val_loss: 0.7874 - val_accuracy: 0.7788\n",
      "Epoch 00007: early stopping\n",
      "55/55 [==============================] - 1s 9ms/step - loss: 0.1760 - accuracy: 0.9638\n",
      "Epoch 1/50\n",
      "163/163 [==============================] - 4s 17ms/step - loss: 1.5422 - accuracy: 0.8085 - val_loss: 1.0195 - val_accuracy: 0.7340\n",
      "Epoch 2/50\n",
      "163/163 [==============================] - 3s 16ms/step - loss: 0.3489 - accuracy: 0.9542 - val_loss: 0.9784 - val_accuracy: 0.7612\n",
      "Epoch 3/50\n",
      "163/163 [==============================] - 3s 16ms/step - loss: 0.2543 - accuracy: 0.9602 - val_loss: 0.8776 - val_accuracy: 0.7436\n",
      "Epoch 4/50\n",
      "163/163 [==============================] - 3s 16ms/step - loss: 0.2087 - accuracy: 0.9678 - val_loss: 0.8867 - val_accuracy: 0.7692\n",
      "Epoch 5/50\n",
      "163/163 [==============================] - 3s 16ms/step - loss: 0.1696 - accuracy: 0.9718 - val_loss: 0.8998 - val_accuracy: 0.7724\n",
      "Epoch 6/50\n",
      "163/163 [==============================] - 3s 16ms/step - loss: 0.1599 - accuracy: 0.9716 - val_loss: 0.9594 - val_accuracy: 0.7532\n",
      "Epoch 7/50\n",
      "163/163 [==============================] - 3s 16ms/step - loss: 0.1402 - accuracy: 0.9728 - val_loss: 0.9643 - val_accuracy: 0.7612\n",
      "Epoch 8/50\n",
      "163/163 [==============================] - 3s 16ms/step - loss: 0.1334 - accuracy: 0.9726 - val_loss: 1.1819 - val_accuracy: 0.7532\n",
      "Epoch 9/50\n",
      "163/163 [==============================] - 3s 16ms/step - loss: 0.1179 - accuracy: 0.9742 - val_loss: 1.0394 - val_accuracy: 0.7580\n",
      "Epoch 10/50\n",
      "163/163 [==============================] - 3s 16ms/step - loss: 0.1209 - accuracy: 0.9730 - val_loss: 1.1694 - val_accuracy: 0.7548\n",
      "Epoch 11/50\n",
      "163/163 [==============================] - 3s 16ms/step - loss: 0.1128 - accuracy: 0.9767 - val_loss: 0.8352 - val_accuracy: 0.7885\n",
      "Epoch 12/50\n",
      "163/163 [==============================] - 3s 16ms/step - loss: 0.1026 - accuracy: 0.9771 - val_loss: 0.9045 - val_accuracy: 0.7853\n",
      "Epoch 13/50\n",
      "163/163 [==============================] - 3s 16ms/step - loss: 0.0971 - accuracy: 0.9810 - val_loss: 0.9371 - val_accuracy: 0.7788\n",
      "Epoch 14/50\n",
      "163/163 [==============================] - 3s 16ms/step - loss: 0.0853 - accuracy: 0.9815 - val_loss: 0.8651 - val_accuracy: 0.7837\n",
      "Epoch 15/50\n",
      "163/163 [==============================] - 3s 16ms/step - loss: 0.0927 - accuracy: 0.9776 - val_loss: 0.7172 - val_accuracy: 0.8109\n",
      "Epoch 16/50\n",
      "163/163 [==============================] - 3s 16ms/step - loss: 0.0918 - accuracy: 0.9817 - val_loss: 0.9667 - val_accuracy: 0.7853\n",
      "Epoch 17/50\n",
      "163/163 [==============================] - 3s 16ms/step - loss: 0.0896 - accuracy: 0.9779 - val_loss: 1.6757 - val_accuracy: 0.7083\n",
      "Epoch 18/50\n",
      "163/163 [==============================] - 3s 16ms/step - loss: 0.0895 - accuracy: 0.9834 - val_loss: 1.5687 - val_accuracy: 0.7163\n",
      "Epoch 19/50\n",
      "163/163 [==============================] - 3s 16ms/step - loss: 0.0849 - accuracy: 0.9784 - val_loss: 1.1992 - val_accuracy: 0.7772\n",
      "Epoch 20/50\n",
      "163/163 [==============================] - 3s 16ms/step - loss: 0.0733 - accuracy: 0.9878 - val_loss: 1.1225 - val_accuracy: 0.7708\n",
      "Epoch 21/50\n",
      "163/163 [==============================] - 3s 16ms/step - loss: 0.0776 - accuracy: 0.9831 - val_loss: 0.9952 - val_accuracy: 0.7772\n",
      "Epoch 00021: early stopping\n"
     ]
    }
   ],
   "source": [
    "L_grid_history = L_grid.fit(X_train, y_train,\n",
    "                            epochs=50,\n",
    "                            batch_size=32,\n",
    "                            callbacks=es,\n",
    "                            validation_data=(X_test, y_test))"
   ]
  },
  {
   "cell_type": "code",
   "execution_count": 68,
   "metadata": {
    "colab": {
     "base_uri": "https://localhost:8080/"
    },
    "id": "39OQ1EWJYaVB",
    "outputId": "fd119e59-2d7c-4c4f-e433-4df41a044517"
   },
   "outputs": [
    {
     "data": {
      "text/plain": [
       "{'wd_1': 0.0005, 'wd_2': 0.005}"
      ]
     },
     "execution_count": 68,
     "metadata": {
      "tags": []
     },
     "output_type": "execute_result"
    }
   ],
   "source": [
    "# Find the best weight_decay value\n",
    "L_grid_history.best_params_"
   ]
  },
  {
   "cell_type": "code",
   "execution_count": null,
   "metadata": {
    "id": "uWupLdfNYaVB"
   },
   "outputs": [],
   "source": []
  },
  {
   "cell_type": "markdown",
   "metadata": {
    "id": "nRZvp8RsYaVB"
   },
   "source": [
    "#### Best L1 +L2"
   ]
  },
  {
   "cell_type": "code",
   "execution_count": 69,
   "metadata": {
    "id": "ALShD1JgYaVB"
   },
   "outputs": [],
   "source": [
    "L1L2 = L1_L2_regularizer_model(0.0005, 0.005)"
   ]
  },
  {
   "cell_type": "code",
   "execution_count": 70,
   "metadata": {
    "id": "cAEUNlNvYaVB"
   },
   "outputs": [],
   "source": [
    "mc_L1L2 = ModelCheckpoint(filepath='/content/saved_models/L1L2.h5', \n",
    "                            monitor='val_accuracy', mode='max', verbose=1, save_best_only=True)"
   ]
  },
  {
   "cell_type": "code",
   "execution_count": 71,
   "metadata": {
    "colab": {
     "base_uri": "https://localhost:8080/"
    },
    "id": "fc0jQp-1YaVB",
    "outputId": "f5840c6b-c661-4fe0-c26c-0ad1c2385283"
   },
   "outputs": [
    {
     "name": "stdout",
     "output_type": "stream",
     "text": [
      "Epoch 1/50\n",
      "163/163 [==============================] - 3s 16ms/step - loss: 1.4541 - accuracy: 0.8128 - val_loss: 0.7273 - val_accuracy: 0.7949\n",
      "\n",
      "Epoch 00001: val_accuracy improved from -inf to 0.79487, saving model to /content/saved_models/L1L2.h5\n",
      "Epoch 2/50\n",
      "163/163 [==============================] - 2s 15ms/step - loss: 0.3514 - accuracy: 0.9541 - val_loss: 0.8132 - val_accuracy: 0.7724\n",
      "\n",
      "Epoch 00002: val_accuracy did not improve from 0.79487\n",
      "Epoch 3/50\n",
      "163/163 [==============================] - 2s 15ms/step - loss: 0.2688 - accuracy: 0.9550 - val_loss: 0.6561 - val_accuracy: 0.7917\n",
      "\n",
      "Epoch 00003: val_accuracy did not improve from 0.79487\n",
      "Epoch 4/50\n",
      "163/163 [==============================] - 2s 15ms/step - loss: 0.2173 - accuracy: 0.9605 - val_loss: 0.8041 - val_accuracy: 0.7660\n",
      "\n",
      "Epoch 00004: val_accuracy did not improve from 0.79487\n",
      "Epoch 5/50\n",
      "163/163 [==============================] - 2s 15ms/step - loss: 0.1644 - accuracy: 0.9700 - val_loss: 0.7237 - val_accuracy: 0.7981\n",
      "\n",
      "Epoch 00005: val_accuracy improved from 0.79487 to 0.79808, saving model to /content/saved_models/L1L2.h5\n",
      "Epoch 6/50\n",
      "163/163 [==============================] - 2s 15ms/step - loss: 0.1531 - accuracy: 0.9692 - val_loss: 0.9806 - val_accuracy: 0.7436\n",
      "\n",
      "Epoch 00006: val_accuracy did not improve from 0.79808\n",
      "Epoch 7/50\n",
      "163/163 [==============================] - 2s 15ms/step - loss: 0.1354 - accuracy: 0.9683 - val_loss: 0.9896 - val_accuracy: 0.7500\n",
      "\n",
      "Epoch 00007: val_accuracy did not improve from 0.79808\n",
      "Epoch 8/50\n",
      "163/163 [==============================] - 2s 15ms/step - loss: 0.1290 - accuracy: 0.9706 - val_loss: 1.1605 - val_accuracy: 0.7388\n",
      "\n",
      "Epoch 00008: val_accuracy did not improve from 0.79808\n",
      "Epoch 9/50\n",
      "163/163 [==============================] - 2s 15ms/step - loss: 0.1105 - accuracy: 0.9765 - val_loss: 0.9187 - val_accuracy: 0.7692\n",
      "\n",
      "Epoch 00009: val_accuracy did not improve from 0.79808\n",
      "Epoch 10/50\n",
      "163/163 [==============================] - 2s 15ms/step - loss: 0.1123 - accuracy: 0.9748 - val_loss: 1.0285 - val_accuracy: 0.7676\n",
      "\n",
      "Epoch 00010: val_accuracy did not improve from 0.79808\n",
      "Epoch 11/50\n",
      "163/163 [==============================] - 2s 15ms/step - loss: 0.0971 - accuracy: 0.9772 - val_loss: 0.8400 - val_accuracy: 0.7804\n",
      "\n",
      "Epoch 00011: val_accuracy did not improve from 0.79808\n",
      "Epoch 00011: early stopping\n"
     ]
    }
   ],
   "source": [
    "L1L2_history = L1L2.fit(X_train, y_train,\n",
    "                            epochs=50,\n",
    "                            batch_size=32,\n",
    "                            callbacks=[es, mc_L1L2],\n",
    "                            validation_data=(X_test, y_test))"
   ]
  },
  {
   "cell_type": "code",
   "execution_count": 72,
   "metadata": {
    "colab": {
     "base_uri": "https://localhost:8080/",
     "height": 308
    },
    "id": "z29pBYBJYaVB",
    "outputId": "e44216ee-b0e8-4dbc-a78a-c18371369c6c"
   },
   "outputs": [
    {
     "data": {
      "image/png": "[encoded data removed]",
      "text/plain": [
       "<Figure size 432x288 with 2 Axes>"
      ]
     },
     "metadata": {
      "needs_background": "light",
      "tags": []
     },
     "output_type": "display_data"
    }
   ],
   "source": [
    "visualize_training_results(L1L2_history)"
   ]
  },
  {
   "cell_type": "code",
   "execution_count": 74,
   "metadata": {
    "colab": {
     "base_uri": "https://localhost:8080/",
     "height": 551
    },
    "id": "EFyA6S2hYaVB",
    "outputId": "75fcaad2-f1cb-4307-a39f-c10784f3945a"
   },
   "outputs": [
    {
     "name": "stdout",
     "output_type": "stream",
     "text": [
      "163/163 [==============================] - 1s 7ms/step - loss: 0.1650 - accuracy: 0.9664\n",
      "Training Loss:0.165\n",
      "Training Accuracy:0.9664\n",
      "20/20 [==============================] - 0s 8ms/step - loss: 0.7237 - accuracy: 0.7981\n",
      "Test Loss:0.7237\n",
      "Test Accuracy:0.7981\n"
     ]
    },
    {
     "data": {
      "image/png": "[encoded data removed]",
      "text/plain": [
       "<Figure size 432x288 with 2 Axes>"
      ]
     },
     "metadata": {
      "needs_background": "light",
      "tags": []
     },
     "output_type": "display_data"
    },
    {
     "name": "stdout",
     "output_type": "stream",
     "text": [
      "              precision    recall  f1-score   support\n",
      "\n",
      "         0.0       0.95      0.49      0.64       234\n",
      "         1.0       0.76      0.98      0.86       390\n",
      "\n",
      "    accuracy                           0.80       624\n",
      "   macro avg       0.86      0.74      0.75       624\n",
      "weighted avg       0.83      0.80      0.78       624\n",
      "\n"
     ]
    },
    {
     "data": {
      "text/plain": [
       "([0.9664], [0.7981])"
      ]
     },
     "execution_count": 74,
     "metadata": {
      "tags": []
     },
     "output_type": "execute_result"
    }
   ],
   "source": [
    "L1L2_best = load_model('/content/saved_models/L1L2.h5')\n",
    "L1L2_best_m = model_evaluation(L1L2_best)\n",
    "L1L2_best_m"
   ]
  },
  {
   "cell_type": "code",
   "execution_count": null,
   "metadata": {
    "id": "zAbNxV3GYaVB"
   },
   "outputs": [],
   "source": []
  },
  {
   "cell_type": "code",
   "execution_count": null,
   "metadata": {
    "id": "h1_s7hcgYaVB"
   },
   "outputs": [],
   "source": []
  },
  {
   "cell_type": "code",
   "execution_count": null,
   "metadata": {
    "id": "6OlAdHvOYaVC"
   },
   "outputs": [],
   "source": []
  },
  {
   "cell_type": "code",
   "execution_count": null,
   "metadata": {
    "id": "fTIraExJYaVC"
   },
   "outputs": [],
   "source": []
  },
  {
   "cell_type": "markdown",
   "metadata": {
    "id": "tKy-okD8CoJz"
   },
   "source": [
    "### 5) Padding"
   ]
  },
  {
   "cell_type": "markdown",
   "metadata": {
    "id": "HglDPBsxYaVC"
   },
   "source": [
    "https://deepai.org/machine-learning-glossary-and-terms/padding#:~:text=In%20order%20to%20assist%20the,more%20accurate%20analysis%20of%20images."
   ]
  },
  {
   "cell_type": "code",
   "execution_count": 75,
   "metadata": {
    "ExecuteTime": {
     "end_time": "2021-05-14T03:45:11.752084Z",
     "start_time": "2021-05-14T03:45:11.668415Z"
    },
    "id": "ndCKCCMTCoJz"
   },
   "outputs": [],
   "source": [
    "padding = models.Sequential()\n",
    "padding.add(layers.Conv2D(32, (3, 3), padding='same', activation='relu', input_shape=X_train.shape[1:]))\n",
    "padding.add(layers.MaxPooling2D((2, 2)))\n",
    "\n",
    "padding.add(layers.Conv2D(64, (3, 3), padding='same', activation='relu'))\n",
    "padding.add(layers.MaxPooling2D((2, 2)))\n",
    "\n",
    "padding.add(layers.Conv2D(128, (3, 3), padding='same', activation='relu'))\n",
    "padding.add(layers.MaxPooling2D((2, 2)))\n",
    "\n",
    "padding.add(layers.Flatten())\n",
    "padding.add(layers.Dense(128, activation='relu'))\n",
    "padding.add(layers.Dense(1, activation='sigmoid'))\n",
    "\n",
    "padding.compile(optimizer='adam',\n",
    "                loss='binary_crossentropy',\n",
    "                metrics=['accuracy'])"
   ]
  },
  {
   "cell_type": "code",
   "execution_count": 77,
   "metadata": {
    "ExecuteTime": {
     "end_time": "2021-05-14T03:45:15.546645Z",
     "start_time": "2021-05-14T03:45:15.543689Z"
    },
    "id": "vvHt9PmlCoJz"
   },
   "outputs": [],
   "source": [
    "mc_padding = ModelCheckpoint(filepath='/content/saved_models/padding.h5', \n",
    "                             monitor='val_accuracy', mode='max', verbose=1, save_best_only=True)"
   ]
  },
  {
   "cell_type": "code",
   "execution_count": 78,
   "metadata": {
    "ExecuteTime": {
     "end_time": "2021-05-14T03:52:40.924165Z",
     "start_time": "2021-05-14T03:45:33.606200Z"
    },
    "colab": {
     "base_uri": "https://localhost:8080/"
    },
    "id": "kUR0obooCoJz",
    "outputId": "9d1c0227-2c32-41f5-f727-3dda9f30dc95"
   },
   "outputs": [
    {
     "name": "stdout",
     "output_type": "stream",
     "text": [
      "Epoch 1/50\n",
      "163/163 [==============================] - 3s 15ms/step - loss: 0.4506 - accuracy: 0.7818 - val_loss: 1.0416 - val_accuracy: 0.7420\n",
      "\n",
      "Epoch 00001: val_accuracy improved from -inf to 0.74199, saving model to /content/saved_models/padding.h5\n",
      "Epoch 2/50\n",
      "163/163 [==============================] - 2s 14ms/step - loss: 0.0982 - accuracy: 0.9679 - val_loss: 0.6470 - val_accuracy: 0.8269\n",
      "\n",
      "Epoch 00002: val_accuracy improved from 0.74199 to 0.82692, saving model to /content/saved_models/padding.h5\n",
      "Epoch 3/50\n",
      "163/163 [==============================] - 2s 14ms/step - loss: 0.0838 - accuracy: 0.9693 - val_loss: 1.2191 - val_accuracy: 0.7276\n",
      "\n",
      "Epoch 00003: val_accuracy did not improve from 0.82692\n",
      "Epoch 4/50\n",
      "163/163 [==============================] - 2s 14ms/step - loss: 0.0644 - accuracy: 0.9799 - val_loss: 1.2064 - val_accuracy: 0.7628\n",
      "\n",
      "Epoch 00004: val_accuracy did not improve from 0.82692\n",
      "Epoch 5/50\n",
      "163/163 [==============================] - 2s 14ms/step - loss: 0.0437 - accuracy: 0.9868 - val_loss: 0.9836 - val_accuracy: 0.8029\n",
      "\n",
      "Epoch 00005: val_accuracy did not improve from 0.82692\n",
      "Epoch 6/50\n",
      "163/163 [==============================] - 2s 14ms/step - loss: 0.0404 - accuracy: 0.9856 - val_loss: 1.9721 - val_accuracy: 0.7420\n",
      "\n",
      "Epoch 00006: val_accuracy did not improve from 0.82692\n",
      "Epoch 7/50\n",
      "163/163 [==============================] - 2s 14ms/step - loss: 0.0212 - accuracy: 0.9909 - val_loss: 1.6751 - val_accuracy: 0.7548\n",
      "\n",
      "Epoch 00007: val_accuracy did not improve from 0.82692\n",
      "Epoch 8/50\n",
      "163/163 [==============================] - 2s 14ms/step - loss: 0.0307 - accuracy: 0.9882 - val_loss: 2.4446 - val_accuracy: 0.7500\n",
      "\n",
      "Epoch 00008: val_accuracy did not improve from 0.82692\n",
      "Epoch 00008: early stopping\n"
     ]
    }
   ],
   "source": [
    "padding_history = padding.fit(X_train, y_train,\n",
    "                              epochs=50,\n",
    "                              batch_size=32,\n",
    "                              callbacks=[es, mc_padding],\n",
    "                              validation_data=(X_test, y_test))"
   ]
  },
  {
   "cell_type": "code",
   "execution_count": 79,
   "metadata": {
    "ExecuteTime": {
     "end_time": "2021-05-14T03:53:13.677990Z",
     "start_time": "2021-05-14T03:53:13.378257Z"
    },
    "colab": {
     "base_uri": "https://localhost:8080/",
     "height": 308
    },
    "id": "J0pw8enSCoJ0",
    "outputId": "fa4361a1-637c-4298-e3f8-1dac46bbd43c",
    "scrolled": false
   },
   "outputs": [
    {
     "data": {
      "image/png": "[encoded data removed]",
      "text/plain": [
       "<Figure size 432x288 with 2 Axes>"
      ]
     },
     "metadata": {
      "needs_background": "light",
      "tags": []
     },
     "output_type": "display_data"
    }
   ],
   "source": [
    "visualize_training_results(padding_history)"
   ]
  },
  {
   "cell_type": "code",
   "execution_count": 80,
   "metadata": {
    "ExecuteTime": {
     "end_time": "2021-05-14T03:53:33.432973Z",
     "start_time": "2021-05-14T03:53:17.915988Z"
    },
    "colab": {
     "base_uri": "https://localhost:8080/",
     "height": 551
    },
    "id": "dlJzmHaSCoJ0",
    "outputId": "923b3429-f1e6-4a8b-b774-30ef7fb88b64"
   },
   "outputs": [
    {
     "name": "stdout",
     "output_type": "stream",
     "text": [
      "163/163 [==============================] - 1s 6ms/step - loss: 0.0798 - accuracy: 0.9703\n",
      "Training Loss:0.07976\n",
      "Training Accuracy:0.9703\n",
      "20/20 [==============================] - 0s 7ms/step - loss: 0.6470 - accuracy: 0.8269\n",
      "Test Loss:0.647\n",
      "Test Accuracy:0.8269\n"
     ]
    },
    {
     "data": {
      "image/png": "[encoded data removed]",
      "text/plain": [
       "<Figure size 432x288 with 2 Axes>"
      ]
     },
     "metadata": {
      "needs_background": "light",
      "tags": []
     },
     "output_type": "display_data"
    },
    {
     "name": "stdout",
     "output_type": "stream",
     "text": [
      "              precision    recall  f1-score   support\n",
      "\n",
      "         0.0       0.96      0.56      0.71       234\n",
      "         1.0       0.79      0.99      0.88       390\n",
      "\n",
      "    accuracy                           0.83       624\n",
      "   macro avg       0.88      0.77      0.79       624\n",
      "weighted avg       0.85      0.83      0.81       624\n",
      "\n"
     ]
    },
    {
     "data": {
      "text/plain": [
       "([0.9703], [0.8269])"
      ]
     },
     "execution_count": 80,
     "metadata": {
      "tags": []
     },
     "output_type": "execute_result"
    }
   ],
   "source": [
    "pad = load_model('/content/saved_models/padding.h5')\n",
    "padd = model_evaluation(pad)\n",
    "padd"
   ]
  },
  {
   "cell_type": "markdown",
   "metadata": {
    "id": "OU6pMckXCoJ0"
   },
   "source": [
    ">**Comment:** \n",
    "- The Padding took less time to run compare with the baseline model\n",
    "- The train accuracy (0.9785) is higher than test accuracy (0.7804) which indicates the model is overfit\n",
    "- Compare with the baseline model, test accuray shows some improvements\n",
    "- There are more false positive than false negative"
   ]
  },
  {
   "cell_type": "code",
   "execution_count": null,
   "metadata": {
    "id": "nGe0hWuSYaVD"
   },
   "outputs": [],
   "source": []
  },
  {
   "cell_type": "markdown",
   "metadata": {
    "id": "8CoQhOkXYaVD"
   },
   "source": [
    "#### Padding + L1"
   ]
  },
  {
   "cell_type": "code",
   "execution_count": 81,
   "metadata": {
    "id": "bZlSG4XWYaVD"
   },
   "outputs": [],
   "source": [
    "L1_padding = models.Sequential()\n",
    "L1_padding.add(layers.Conv2D(32, (3, 3), kernel_regularizer=regularizers.l1(l1=0.005),\n",
    "                          padding='same', activation='relu', input_shape=X_train.shape[1:]))\n",
    "L1_padding.add(layers.MaxPooling2D((2, 2)))\n",
    "\n",
    "L1_padding.add(layers.Conv2D(64, (3, 3), kernel_regularizer=regularizers.l1(l1=0.005),\n",
    "                          padding='same', activation='relu'))\n",
    "L1_padding.add(layers.MaxPooling2D((2, 2)))\n",
    "\n",
    "L1_padding.add(layers.Conv2D(128, (3, 3), kernel_regularizer=regularizers.l1(l1=0.005),\n",
    "                          padding='same', activation='relu'))\n",
    "L1_padding.add(layers.MaxPooling2D((2, 2)))\n",
    "\n",
    "L1_padding.add(layers.Flatten())\n",
    "L1_padding.add(layers.Dense(128, activation='relu'))\n",
    "L1_padding.add(layers.Dense(1, activation='sigmoid'))\n",
    "\n",
    "L1_padding.compile(optimizer='adam',\n",
    "                  loss='binary_crossentropy',\n",
    "                metrics=['accuracy'])"
   ]
  },
  {
   "cell_type": "code",
   "execution_count": 82,
   "metadata": {
    "id": "lV32YuPLYaVD"
   },
   "outputs": [],
   "source": [
    "mc_L1_padding = ModelCheckpoint(filepath='/content/saved_models/L1_padding.h5', \n",
    "                               monitor='val_accuracy', mode='max', verbose=1, save_best_only=True)"
   ]
  },
  {
   "cell_type": "code",
   "execution_count": 84,
   "metadata": {
    "colab": {
     "base_uri": "https://localhost:8080/"
    },
    "id": "UK3Xpc3OYaVD",
    "outputId": "46f35a22-e99b-421e-a1b8-630d131ac118"
   },
   "outputs": [
    {
     "name": "stdout",
     "output_type": "stream",
     "text": [
      "Epoch 1/50\n",
      "163/163 [==============================] - 3s 16ms/step - loss: 6.9041 - accuracy: 0.8097 - val_loss: 1.1230 - val_accuracy: 0.7292\n",
      "\n",
      "Epoch 00001: val_accuracy improved from -inf to 0.72917, saving model to /content/saved_models/L1_padding.h5\n",
      "Epoch 2/50\n",
      "163/163 [==============================] - 2s 14ms/step - loss: 0.5456 - accuracy: 0.9555 - val_loss: 0.9104 - val_accuracy: 0.7628\n",
      "\n",
      "Epoch 00002: val_accuracy improved from 0.72917 to 0.76282, saving model to /content/saved_models/L1_padding.h5\n",
      "Epoch 3/50\n",
      "163/163 [==============================] - 2s 14ms/step - loss: 0.4051 - accuracy: 0.9510 - val_loss: 0.8153 - val_accuracy: 0.7788\n",
      "\n",
      "Epoch 00003: val_accuracy improved from 0.76282 to 0.77885, saving model to /content/saved_models/L1_padding.h5\n",
      "Epoch 4/50\n",
      "163/163 [==============================] - 2s 15ms/step - loss: 0.3099 - accuracy: 0.9647 - val_loss: 0.8614 - val_accuracy: 0.7548\n",
      "\n",
      "Epoch 00004: val_accuracy did not improve from 0.77885\n",
      "Epoch 5/50\n",
      "163/163 [==============================] - 2s 14ms/step - loss: 0.2654 - accuracy: 0.9693 - val_loss: 0.7759 - val_accuracy: 0.7869\n",
      "\n",
      "Epoch 00005: val_accuracy improved from 0.77885 to 0.78686, saving model to /content/saved_models/L1_padding.h5\n",
      "Epoch 6/50\n",
      "163/163 [==============================] - 2s 15ms/step - loss: 0.2512 - accuracy: 0.9660 - val_loss: 1.2430 - val_accuracy: 0.7260\n",
      "\n",
      "Epoch 00006: val_accuracy did not improve from 0.78686\n",
      "Epoch 7/50\n",
      "163/163 [==============================] - 2s 14ms/step - loss: 0.2360 - accuracy: 0.9662 - val_loss: 0.9731 - val_accuracy: 0.7564\n",
      "\n",
      "Epoch 00007: val_accuracy did not improve from 0.78686\n",
      "Epoch 8/50\n",
      "163/163 [==============================] - 2s 14ms/step - loss: 0.2212 - accuracy: 0.9688 - val_loss: 1.0728 - val_accuracy: 0.7324\n",
      "\n",
      "Epoch 00008: val_accuracy did not improve from 0.78686\n",
      "Epoch 9/50\n",
      "163/163 [==============================] - 2s 14ms/step - loss: 0.2033 - accuracy: 0.9680 - val_loss: 0.7999 - val_accuracy: 0.7821\n",
      "\n",
      "Epoch 00009: val_accuracy did not improve from 0.78686\n",
      "Epoch 10/50\n",
      "163/163 [==============================] - 2s 15ms/step - loss: 0.2077 - accuracy: 0.9717 - val_loss: 1.1370 - val_accuracy: 0.7452\n",
      "\n",
      "Epoch 00010: val_accuracy did not improve from 0.78686\n",
      "Epoch 11/50\n",
      "163/163 [==============================] - 2s 14ms/step - loss: 0.1946 - accuracy: 0.9732 - val_loss: 0.9786 - val_accuracy: 0.7596\n",
      "\n",
      "Epoch 00011: val_accuracy did not improve from 0.78686\n",
      "Epoch 00011: early stopping\n"
     ]
    }
   ],
   "source": [
    "L1_padding_history = L1_padding.fit(X_train, y_train,\n",
    "                                  epochs=50,\n",
    "                                  batch_size=32,\n",
    "                                  callbacks=[es, mc_L1_padding],\n",
    "                                  validation_data=(X_test, y_test))"
   ]
  },
  {
   "cell_type": "code",
   "execution_count": 85,
   "metadata": {
    "colab": {
     "base_uri": "https://localhost:8080/",
     "height": 308
    },
    "id": "hZftCHcwYaVD",
    "outputId": "24c041cc-4193-4318-ae04-0a0b6e7477ee"
   },
   "outputs": [
    {
     "data": {
      "image/png": "[encoded data removed]",
      "text/plain": [
       "<Figure size 432x288 with 2 Axes>"
      ]
     },
     "metadata": {
      "needs_background": "light",
      "tags": []
     },
     "output_type": "display_data"
    }
   ],
   "source": [
    "visualize_training_results(L1_padding_history)"
   ]
  },
  {
   "cell_type": "code",
   "execution_count": 86,
   "metadata": {
    "colab": {
     "base_uri": "https://localhost:8080/",
     "height": 551
    },
    "id": "rCsvDXWpYaVD",
    "outputId": "dd47927f-b92e-420c-926b-80c766791833"
   },
   "outputs": [
    {
     "name": "stdout",
     "output_type": "stream",
     "text": [
      "163/163 [==============================] - 1s 6ms/step - loss: 0.2546 - accuracy: 0.9689\n",
      "Training Loss:0.2546\n",
      "Training Accuracy:0.9689\n",
      "20/20 [==============================] - 0s 7ms/step - loss: 0.7759 - accuracy: 0.7869\n",
      "Test Loss:0.7759\n",
      "Test Accuracy:0.7869\n"
     ]
    },
    {
     "data": {
      "image/png": "[encoded data removed]",
      "text/plain": [
       "<Figure size 432x288 with 2 Axes>"
      ]
     },
     "metadata": {
      "needs_background": "light",
      "tags": []
     },
     "output_type": "display_data"
    },
    {
     "name": "stdout",
     "output_type": "stream",
     "text": [
      "              precision    recall  f1-score   support\n",
      "\n",
      "         0.0       0.95      0.46      0.62       234\n",
      "         1.0       0.75      0.98      0.85       390\n",
      "\n",
      "    accuracy                           0.79       624\n",
      "   macro avg       0.85      0.72      0.73       624\n",
      "weighted avg       0.82      0.79      0.76       624\n",
      "\n"
     ]
    },
    {
     "data": {
      "text/plain": [
       "([0.9689], [0.7869])"
      ]
     },
     "execution_count": 86,
     "metadata": {
      "tags": []
     },
     "output_type": "execute_result"
    }
   ],
   "source": [
    "L1pad = load_model('/content/saved_models/L1_padding.h5')\n",
    "L1P = model_evaluation(L1pad)\n",
    "L1P"
   ]
  },
  {
   "cell_type": "code",
   "execution_count": null,
   "metadata": {
    "id": "Eb71jN3tYaVE"
   },
   "outputs": [],
   "source": []
  },
  {
   "cell_type": "code",
   "execution_count": null,
   "metadata": {
    "id": "7e28-SaYYaVE"
   },
   "outputs": [],
   "source": []
  },
  {
   "cell_type": "code",
   "execution_count": null,
   "metadata": {
    "id": "JEA3-vyMYaVE"
   },
   "outputs": [],
   "source": []
  },
  {
   "cell_type": "code",
   "execution_count": null,
   "metadata": {
    "id": "guwq2DzaYaVE"
   },
   "outputs": [],
   "source": []
  },
  {
   "cell_type": "code",
   "execution_count": null,
   "metadata": {
    "id": "3Alelha5YaVE"
   },
   "outputs": [],
   "source": []
  },
  {
   "cell_type": "code",
   "execution_count": null,
   "metadata": {
    "id": "Je69HXumYaVE"
   },
   "outputs": [],
   "source": []
  },
  {
   "cell_type": "markdown",
   "metadata": {
    "id": "peEt_w4GCoJ0"
   },
   "source": [
    "### 6) Pretrained VGG19"
   ]
  },
  {
   "cell_type": "code",
   "execution_count": 87,
   "metadata": {
    "ExecuteTime": {
     "end_time": "2021-05-14T15:42:58.136905Z",
     "start_time": "2021-05-14T15:42:58.113204Z"
    },
    "id": "XwttM22yCoJ0"
   },
   "outputs": [],
   "source": [
    "from keras.applications import VGG19"
   ]
  },
  {
   "cell_type": "code",
   "execution_count": 88,
   "metadata": {
    "ExecuteTime": {
     "end_time": "2021-05-14T15:42:58.532785Z",
     "start_time": "2021-05-14T15:42:58.138399Z"
    },
    "colab": {
     "base_uri": "https://localhost:8080/"
    },
    "id": "Rp54aBMhCoJ0",
    "outputId": "83357c71-101a-4901-a752-07f74b9b651e"
   },
   "outputs": [
    {
     "name": "stdout",
     "output_type": "stream",
     "text": [
      "Downloading data from https://storage.googleapis.com/tensorflow/keras-applications/vgg19/vgg19_weights_tf_dim_ordering_tf_kernels_notop.h5\n",
      "80142336/80134624 [==============================] - 1s 0us/step\n"
     ]
    }
   ],
   "source": [
    "pretrained = VGG19(weights='imagenet',\n",
    "                   include_top=False,\n",
    "                   input_shape=X_train.shape[1:])"
   ]
  },
  {
   "cell_type": "code",
   "execution_count": 89,
   "metadata": {
    "ExecuteTime": {
     "end_time": "2021-05-14T15:42:58.606327Z",
     "start_time": "2021-05-14T15:42:58.535272Z"
    },
    "id": "GtyukIiHCoJ0"
   },
   "outputs": [],
   "source": [
    "pre = models.Sequential()\n",
    "pre.add(pretrained)\n",
    "pre.add(layers.Flatten())\n",
    "pre.add(layers.Dense(128, activation='relu'))\n",
    "pre.add(layers.Dense(1, activation='sigmoid'))\n",
    "\n",
    "# Freeze pretained layer\n",
    "pretrained.trainable = False"
   ]
  },
  {
   "cell_type": "code",
   "execution_count": 90,
   "metadata": {
    "ExecuteTime": {
     "end_time": "2021-05-14T15:42:58.612138Z",
     "start_time": "2021-05-14T15:42:58.608240Z"
    },
    "colab": {
     "base_uri": "https://localhost:8080/"
    },
    "id": "R29h1OGXCoJ1",
    "outputId": "e1121a7d-8b71-421f-ed5c-c3cc35de15c3"
   },
   "outputs": [
    {
     "name": "stdout",
     "output_type": "stream",
     "text": [
      "Model: \"sequential_96\"\n",
      "_________________________________________________________________\n",
      "Layer (type)                 Output Shape              Param #   \n",
      "=================================================================\n",
      "vgg19 (Functional)           (None, 4, 4, 512)         20024384  \n",
      "_________________________________________________________________\n",
      "flatten_96 (Flatten)         (None, 8192)              0         \n",
      "_________________________________________________________________\n",
      "dense_192 (Dense)            (None, 128)               1048704   \n",
      "_________________________________________________________________\n",
      "dense_193 (Dense)            (None, 1)                 129       \n",
      "=================================================================\n",
      "Total params: 21,073,217\n",
      "Trainable params: 1,048,833\n",
      "Non-trainable params: 20,024,384\n",
      "_________________________________________________________________\n"
     ]
    }
   ],
   "source": [
    "pre.summary()"
   ]
  },
  {
   "cell_type": "code",
   "execution_count": 91,
   "metadata": {
    "ExecuteTime": {
     "end_time": "2021-05-14T15:42:58.616314Z",
     "start_time": "2021-05-14T15:42:58.613743Z"
    },
    "colab": {
     "base_uri": "https://localhost:8080/"
    },
    "id": "vNsgMQl7CoJ1",
    "outputId": "dc0c6216-851c-4dc4-f747-eacaadf7ec0e"
   },
   "outputs": [
    {
     "name": "stdout",
     "output_type": "stream",
     "text": [
      "vgg19 False\n",
      "flatten_96 True\n",
      "dense_192 True\n",
      "dense_193 True\n"
     ]
    }
   ],
   "source": [
    "# Verify \"frozen\"\n",
    "for layer in pre.layers:\n",
    "    print(layer.name, layer.trainable)"
   ]
  },
  {
   "cell_type": "code",
   "execution_count": 92,
   "metadata": {
    "ExecuteTime": {
     "end_time": "2021-05-14T15:42:58.632935Z",
     "start_time": "2021-05-14T15:42:58.617737Z"
    },
    "id": "k2EG2LLwCoJ1"
   },
   "outputs": [],
   "source": [
    "pre.compile(optimizer='adam',\n",
    "            loss='binary_crossentropy',\n",
    "            metrics=['accuracy'])"
   ]
  },
  {
   "cell_type": "code",
   "execution_count": 94,
   "metadata": {
    "ExecuteTime": {
     "end_time": "2021-05-14T15:42:58.637100Z",
     "start_time": "2021-05-14T15:42:58.634543Z"
    },
    "id": "RSLzhIBbCoJ1"
   },
   "outputs": [],
   "source": [
    "mc_pre = ModelCheckpoint(filepath='/content/saved_models/pre.h5', \n",
    "                         monitor='val_accuracy', mode='max', verbose=1, save_best_only=True)"
   ]
  },
  {
   "cell_type": "code",
   "execution_count": 95,
   "metadata": {
    "ExecuteTime": {
     "end_time": "2021-05-14T16:01:08.614892Z",
     "start_time": "2021-05-14T15:42:58.639825Z"
    },
    "colab": {
     "base_uri": "https://localhost:8080/"
    },
    "id": "q3-FqRlrCoJ1",
    "outputId": "6e5be0e4-d55d-44b7-cda0-c8eb3cd5f93f"
   },
   "outputs": [
    {
     "name": "stdout",
     "output_type": "stream",
     "text": [
      "Epoch 1/50\n",
      "163/163 [==============================] - 8s 39ms/step - loss: 0.3083 - accuracy: 0.8880 - val_loss: 0.5745 - val_accuracy: 0.8061\n",
      "\n",
      "Epoch 00001: val_accuracy improved from -inf to 0.80609, saving model to /content/saved_models/pre.h5\n",
      "Epoch 2/50\n",
      "163/163 [==============================] - 5s 33ms/step - loss: 0.0894 - accuracy: 0.9683 - val_loss: 0.8483 - val_accuracy: 0.7676\n",
      "\n",
      "Epoch 00002: val_accuracy did not improve from 0.80609\n",
      "Epoch 3/50\n",
      "163/163 [==============================] - 5s 33ms/step - loss: 0.0578 - accuracy: 0.9804 - val_loss: 0.8776 - val_accuracy: 0.7821\n",
      "\n",
      "Epoch 00003: val_accuracy did not improve from 0.80609\n",
      "Epoch 4/50\n",
      "163/163 [==============================] - 5s 33ms/step - loss: 0.0610 - accuracy: 0.9763 - val_loss: 0.7219 - val_accuracy: 0.8253\n",
      "\n",
      "Epoch 00004: val_accuracy improved from 0.80609 to 0.82532, saving model to /content/saved_models/pre.h5\n",
      "Epoch 5/50\n",
      "163/163 [==============================] - 5s 33ms/step - loss: 0.0331 - accuracy: 0.9884 - val_loss: 0.4898 - val_accuracy: 0.8622\n",
      "\n",
      "Epoch 00005: val_accuracy improved from 0.82532 to 0.86218, saving model to /content/saved_models/pre.h5\n",
      "Epoch 6/50\n",
      "163/163 [==============================] - 5s 33ms/step - loss: 0.0477 - accuracy: 0.9825 - val_loss: 0.9922 - val_accuracy: 0.7885\n",
      "\n",
      "Epoch 00006: val_accuracy did not improve from 0.86218\n",
      "Epoch 7/50\n",
      "163/163 [==============================] - 5s 33ms/step - loss: 0.0204 - accuracy: 0.9921 - val_loss: 1.0618 - val_accuracy: 0.7981\n",
      "\n",
      "Epoch 00007: val_accuracy did not improve from 0.86218\n",
      "Epoch 8/50\n",
      "163/163 [==============================] - 5s 33ms/step - loss: 0.0315 - accuracy: 0.9870 - val_loss: 1.3773 - val_accuracy: 0.7692\n",
      "\n",
      "Epoch 00008: val_accuracy did not improve from 0.86218\n",
      "Epoch 9/50\n",
      "163/163 [==============================] - 5s 33ms/step - loss: 0.0239 - accuracy: 0.9914 - val_loss: 1.0702 - val_accuracy: 0.7997\n",
      "\n",
      "Epoch 00009: val_accuracy did not improve from 0.86218\n",
      "Epoch 10/50\n",
      "163/163 [==============================] - 5s 33ms/step - loss: 0.0294 - accuracy: 0.9888 - val_loss: 1.0478 - val_accuracy: 0.8237\n",
      "\n",
      "Epoch 00010: val_accuracy did not improve from 0.86218\n",
      "Epoch 11/50\n",
      "163/163 [==============================] - 5s 33ms/step - loss: 0.0238 - accuracy: 0.9893 - val_loss: 0.8925 - val_accuracy: 0.8381\n",
      "\n",
      "Epoch 00011: val_accuracy did not improve from 0.86218\n",
      "Epoch 00011: early stopping\n"
     ]
    }
   ],
   "source": [
    "pre_history = pre.fit(X_train, y_train,\n",
    "                      epochs=50,\n",
    "                      batch_size=32,\n",
    "                      callbacks=[es, mc_pre],\n",
    "                      validation_data=(X_test, y_test))"
   ]
  },
  {
   "cell_type": "code",
   "execution_count": 96,
   "metadata": {
    "ExecuteTime": {
     "end_time": "2021-05-14T16:01:08.966908Z",
     "start_time": "2021-05-14T16:01:08.617002Z"
    },
    "colab": {
     "base_uri": "https://localhost:8080/",
     "height": 308
    },
    "id": "w3Fu7wsnCoJ1",
    "outputId": "1bd6bab8-11e7-412c-e528-fb2820f3dc68"
   },
   "outputs": [
    {
     "data": {
      "image/png": "[encoded data removed]",
      "text/plain": [
       "<Figure size 432x288 with 2 Axes>"
      ]
     },
     "metadata": {
      "needs_background": "light",
      "tags": []
     },
     "output_type": "display_data"
    }
   ],
   "source": [
    "visualize_training_results(pre_history)"
   ]
  },
  {
   "cell_type": "code",
   "execution_count": 97,
   "metadata": {
    "ExecuteTime": {
     "end_time": "2021-05-14T16:04:06.143360Z",
     "start_time": "2021-05-14T16:01:08.968799Z"
    },
    "colab": {
     "base_uri": "https://localhost:8080/",
     "height": 551
    },
    "id": "XYnD6FVECoJ1",
    "outputId": "eca48f5d-cf7a-4747-d820-6d1f4dd673c3"
   },
   "outputs": [
    {
     "name": "stdout",
     "output_type": "stream",
     "text": [
      "163/163 [==============================] - 5s 30ms/step - loss: 0.0852 - accuracy: 0.9659\n",
      "Training Loss:0.08523\n",
      "Training Accuracy:0.9659\n",
      "20/20 [==============================] - 1s 30ms/step - loss: 0.4898 - accuracy: 0.8622\n",
      "Test Loss:0.4898\n",
      "Test Accuracy:0.8622\n"
     ]
    },
    {
     "data": {
      "image/png": "[encoded data removed]",
      "text/plain": [
       "<Figure size 432x288 with 2 Axes>"
      ]
     },
     "metadata": {
      "needs_background": "light",
      "tags": []
     },
     "output_type": "display_data"
    },
    {
     "name": "stdout",
     "output_type": "stream",
     "text": [
      "              precision    recall  f1-score   support\n",
      "\n",
      "         0.0       0.96      0.66      0.78       234\n",
      "         1.0       0.83      0.98      0.90       390\n",
      "\n",
      "    accuracy                           0.86       624\n",
      "   macro avg       0.89      0.82      0.84       624\n",
      "weighted avg       0.88      0.86      0.86       624\n",
      "\n"
     ]
    },
    {
     "data": {
      "text/plain": [
       "([0.9659], [0.8622])"
      ]
     },
     "execution_count": 97,
     "metadata": {
      "tags": []
     },
     "output_type": "execute_result"
    }
   ],
   "source": [
    "pret = load_model('/content/saved_models/pre.h5')\n",
    "PRE = model_evaluation(pret)\n",
    "PRE"
   ]
  },
  {
   "cell_type": "markdown",
   "metadata": {
    "id": "zjMTXZkJCoJ2"
   },
   "source": [
    "## V. Evaluation"
   ]
  },
  {
   "cell_type": "code",
   "execution_count": 98,
   "metadata": {
    "ExecuteTime": {
     "end_time": "2021-05-14T05:49:22.378604Z",
     "start_time": "2021-05-14T05:49:08.437494Z"
    },
    "colab": {
     "base_uri": "https://localhost:8080/",
     "height": 551
    },
    "id": "Q36c80MMCoJu",
    "outputId": "a2ed8532-7fc4-4ad9-ee9d-66a7e5646d6c",
    "scrolled": false
   },
   "outputs": [
    {
     "name": "stdout",
     "output_type": "stream",
     "text": [
      "163/163 [==============================] - 5s 30ms/step - loss: 0.0852 - accuracy: 0.9659\n",
      "Training Loss:0.08523\n",
      "Training Accuracy:0.9659\n",
      "20/20 [==============================] - 1s 30ms/step - loss: 0.4898 - accuracy: 0.8622\n",
      "Test Loss:0.4898\n",
      "Test Accuracy:0.8622\n"
     ]
    },
    {
     "data": {
      "image/png": "[encoded data removed]",
      "text/plain": [
       "<Figure size 432x288 with 2 Axes>"
      ]
     },
     "metadata": {
      "needs_background": "light",
      "tags": []
     },
     "output_type": "display_data"
    },
    {
     "name": "stdout",
     "output_type": "stream",
     "text": [
      "              precision    recall  f1-score   support\n",
      "\n",
      "         0.0       0.96      0.66      0.78       234\n",
      "         1.0       0.83      0.98      0.90       390\n",
      "\n",
      "    accuracy                           0.86       624\n",
      "   macro avg       0.89      0.82      0.84       624\n",
      "weighted avg       0.88      0.86      0.86       624\n",
      "\n"
     ]
    },
    {
     "data": {
      "text/plain": [
       "([0.9659], [0.8622])"
      ]
     },
     "execution_count": 98,
     "metadata": {
      "tags": []
     },
     "output_type": "execute_result"
    }
   ],
   "source": [
    "best = load_model('/content/saved_models/pre.h5')\n",
    "BEST = model_evaluation(best)\n",
    "BEST"
   ]
  },
  {
   "cell_type": "code",
   "execution_count": 99,
   "metadata": {
    "ExecuteTime": {
     "end_time": "2021-05-14T05:58:41.067141Z",
     "start_time": "2021-05-14T05:58:40.989539Z"
    },
    "colab": {
     "base_uri": "https://localhost:8080/"
    },
    "id": "meykacCuCoJv",
    "outputId": "026ca835-12f2-4183-8e89-1083c114d08b"
   },
   "outputs": [
    {
     "name": "stdout",
     "output_type": "stream",
     "text": [
      "1/1 [==============================] - 0s 41ms/step - loss: 0.1275 - accuracy: 0.9375\n"
     ]
    },
    {
     "data": {
      "text/plain": [
       "[0.1274668127298355, 0.9375]"
      ]
     },
     "execution_count": 99,
     "metadata": {
      "tags": []
     },
     "output_type": "execute_result"
    }
   ],
   "source": [
    "best.evaluate(X_val, y_val)"
   ]
  },
  {
   "cell_type": "code",
   "execution_count": 100,
   "metadata": {
    "ExecuteTime": {
     "end_time": "2021-05-14T05:49:41.211943Z",
     "start_time": "2021-05-14T05:49:41.138069Z"
    },
    "colab": {
     "base_uri": "https://localhost:8080/"
    },
    "id": "go-TdjA_CoJv",
    "outputId": "674d2ddd-7948-4497-9e94-58baa0059a21"
   },
   "outputs": [
    {
     "data": {
      "text/plain": [
       "array([[0.999979],\n",
       "       [0.122497],\n",
       "       [0.974183],\n",
       "       [0.035604],\n",
       "       [0.996451],\n",
       "       [0.007848],\n",
       "       [0.001094],\n",
       "       [0.997234],\n",
       "       [0.833895],\n",
       "       [0.002181],\n",
       "       [0.999788],\n",
       "       [0.999905],\n",
       "       [0.000965],\n",
       "       [0.971555],\n",
       "       [0.000804],\n",
       "       [0.997188]], dtype=float32)"
      ]
     },
     "execution_count": 100,
     "metadata": {
      "tags": []
     },
     "output_type": "execute_result"
    }
   ],
   "source": [
    "# Predict for probability of getting 1\n",
    "best.predict(X_val)\n",
    "\n",
    "# predict_proba was deprecated"
   ]
  },
  {
   "cell_type": "code",
   "execution_count": 101,
   "metadata": {
    "ExecuteTime": {
     "end_time": "2021-05-14T05:50:46.749886Z",
     "start_time": "2021-05-14T05:50:46.677596Z"
    },
    "colab": {
     "base_uri": "https://localhost:8080/"
    },
    "id": "SOHDq9ApCoJv",
    "outputId": "0b96d8de-5fc2-4de9-82a5-b744524bc5a0"
   },
   "outputs": [
    {
     "data": {
      "text/plain": [
       "array([0.999979, 0.122497, 0.974183, 0.035604, 0.996451, 0.007848,\n",
       "       0.001094, 0.997234, 0.833895, 0.002181, 0.999788, 0.999905,\n",
       "       0.000965, 0.971555, 0.000804, 0.997188], dtype=float32)"
      ]
     },
     "execution_count": 101,
     "metadata": {
      "tags": []
     },
     "output_type": "execute_result"
    }
   ],
   "source": [
    "# Flatten the array\n",
    "prob = best.predict(X_val).flatten()\n",
    "prob"
   ]
  },
  {
   "cell_type": "code",
   "execution_count": 102,
   "metadata": {
    "ExecuteTime": {
     "end_time": "2021-05-14T05:51:47.191820Z",
     "start_time": "2021-05-14T05:51:47.120646Z"
    },
    "colab": {
     "base_uri": "https://localhost:8080/"
    },
    "id": "B8kbQVb9CoJv",
    "outputId": "91b53f3e-72f6-44f0-ec7b-a9563004c5f1"
   },
   "outputs": [
    {
     "data": {
      "text/plain": [
       "array([1, 0, 1, 0, 1, 0, 0, 1, 1, 0, 1, 1, 0, 1, 0, 1], dtype=int32)"
      ]
     },
     "execution_count": 102,
     "metadata": {
      "tags": []
     },
     "output_type": "execute_result"
    }
   ],
   "source": [
    "# Make prediction by using the best model\n",
    "y_val_pred = ((best.predict(X_val) > 0.5).astype(\"int32\")).flatten()\n",
    "y_val_pred\n",
    "\n",
    "# pad.predict_classes(X_val) was deprecated"
   ]
  },
  {
   "cell_type": "code",
   "execution_count": 103,
   "metadata": {
    "ExecuteTime": {
     "end_time": "2021-05-14T05:52:18.482069Z",
     "start_time": "2021-05-14T05:52:18.477833Z"
    },
    "colab": {
     "base_uri": "https://localhost:8080/"
    },
    "id": "YpN7XIK3CoJv",
    "outputId": "c661be26-28ca-4b5d-ec97-364c04b55ea2"
   },
   "outputs": [
    {
     "data": {
      "text/plain": [
       "array([1, 0, 1, 0, 1, 0, 0, 1, 0, 0, 1, 1, 0, 1, 0, 1], dtype=int32)"
      ]
     },
     "execution_count": 103,
     "metadata": {
      "tags": []
     },
     "output_type": "execute_result"
    }
   ],
   "source": [
    "y_act = y_val.astype(\"int32\").flatten()\n",
    "y_act"
   ]
  },
  {
   "cell_type": "code",
   "execution_count": 104,
   "metadata": {
    "ExecuteTime": {
     "end_time": "2021-05-14T05:53:23.375754Z",
     "start_time": "2021-05-14T05:53:23.365598Z"
    },
    "id": "ApYyXA70CoJw"
   },
   "outputs": [],
   "source": [
    "compare_df = pd.concat([pd.Series(y_act, name=\"Actual\"),\n",
    "                        pd.Series(y_val_pred, name=\"Predicted\"),\n",
    "                        pd.Series(prob, name=\"Probabilities\")], axis=1)"
   ]
  },
  {
   "cell_type": "code",
   "execution_count": 105,
   "metadata": {
    "ExecuteTime": {
     "end_time": "2021-05-14T05:53:37.181940Z",
     "start_time": "2021-05-14T05:53:37.160736Z"
    },
    "colab": {
     "base_uri": "https://localhost:8080/",
     "height": 545
    },
    "id": "uwmMHArLCoJw",
    "outputId": "cc082315-e291-4e34-d30e-a9bd76900e7a",
    "scrolled": false
   },
   "outputs": [
    {
     "data": {
      "text/html": [
       "<div>\n",
       "<style scoped>\n",
       "    .dataframe tbody tr th:only-of-type {\n",
       "        vertical-align: middle;\n",
       "    }\n",
       "\n",
       "    .dataframe tbody tr th {\n",
       "        vertical-align: top;\n",
       "    }\n",
       "\n",
       "    .dataframe thead th {\n",
       "        text-align: right;\n",
       "    }\n",
       "</style>\n",
       "<table border=\"1\" class=\"dataframe\">\n",
       "  <thead>\n",
       "    <tr style=\"text-align: right;\">\n",
       "      <th></th>\n",
       "      <th>Actual</th>\n",
       "      <th>Predicted</th>\n",
       "      <th>Probabilities</th>\n",
       "    </tr>\n",
       "  </thead>\n",
       "  <tbody>\n",
       "    <tr>\n",
       "      <th>0</th>\n",
       "      <td>1</td>\n",
       "      <td>1</td>\n",
       "      <td>0.999979</td>\n",
       "    </tr>\n",
       "    <tr>\n",
       "      <th>1</th>\n",
       "      <td>0</td>\n",
       "      <td>0</td>\n",
       "      <td>0.122497</td>\n",
       "    </tr>\n",
       "    <tr>\n",
       "      <th>2</th>\n",
       "      <td>1</td>\n",
       "      <td>1</td>\n",
       "      <td>0.974183</td>\n",
       "    </tr>\n",
       "    <tr>\n",
       "      <th>3</th>\n",
       "      <td>0</td>\n",
       "      <td>0</td>\n",
       "      <td>0.035604</td>\n",
       "    </tr>\n",
       "    <tr>\n",
       "      <th>4</th>\n",
       "      <td>1</td>\n",
       "      <td>1</td>\n",
       "      <td>0.996451</td>\n",
       "    </tr>\n",
       "    <tr>\n",
       "      <th>5</th>\n",
       "      <td>0</td>\n",
       "      <td>0</td>\n",
       "      <td>0.007848</td>\n",
       "    </tr>\n",
       "    <tr>\n",
       "      <th>6</th>\n",
       "      <td>0</td>\n",
       "      <td>0</td>\n",
       "      <td>0.001094</td>\n",
       "    </tr>\n",
       "    <tr>\n",
       "      <th>7</th>\n",
       "      <td>1</td>\n",
       "      <td>1</td>\n",
       "      <td>0.997234</td>\n",
       "    </tr>\n",
       "    <tr>\n",
       "      <th>8</th>\n",
       "      <td>0</td>\n",
       "      <td>1</td>\n",
       "      <td>0.833895</td>\n",
       "    </tr>\n",
       "    <tr>\n",
       "      <th>9</th>\n",
       "      <td>0</td>\n",
       "      <td>0</td>\n",
       "      <td>0.002181</td>\n",
       "    </tr>\n",
       "    <tr>\n",
       "      <th>10</th>\n",
       "      <td>1</td>\n",
       "      <td>1</td>\n",
       "      <td>0.999788</td>\n",
       "    </tr>\n",
       "    <tr>\n",
       "      <th>11</th>\n",
       "      <td>1</td>\n",
       "      <td>1</td>\n",
       "      <td>0.999905</td>\n",
       "    </tr>\n",
       "    <tr>\n",
       "      <th>12</th>\n",
       "      <td>0</td>\n",
       "      <td>0</td>\n",
       "      <td>0.000965</td>\n",
       "    </tr>\n",
       "    <tr>\n",
       "      <th>13</th>\n",
       "      <td>1</td>\n",
       "      <td>1</td>\n",
       "      <td>0.971555</td>\n",
       "    </tr>\n",
       "    <tr>\n",
       "      <th>14</th>\n",
       "      <td>0</td>\n",
       "      <td>0</td>\n",
       "      <td>0.000804</td>\n",
       "    </tr>\n",
       "    <tr>\n",
       "      <th>15</th>\n",
       "      <td>1</td>\n",
       "      <td>1</td>\n",
       "      <td>0.997188</td>\n",
       "    </tr>\n",
       "  </tbody>\n",
       "</table>\n",
       "</div>"
      ],
      "text/plain": [
       "    Actual  Predicted  Probabilities\n",
       "0        1          1       0.999979\n",
       "1        0          0       0.122497\n",
       "2        1          1       0.974183\n",
       "3        0          0       0.035604\n",
       "4        1          1       0.996451\n",
       "5        0          0       0.007848\n",
       "6        0          0       0.001094\n",
       "7        1          1       0.997234\n",
       "8        0          1       0.833895\n",
       "9        0          0       0.002181\n",
       "10       1          1       0.999788\n",
       "11       1          1       0.999905\n",
       "12       0          0       0.000965\n",
       "13       1          1       0.971555\n",
       "14       0          0       0.000804\n",
       "15       1          1       0.997188"
      ]
     },
     "execution_count": 105,
     "metadata": {
      "tags": []
     },
     "output_type": "execute_result"
    }
   ],
   "source": [
    "compare_df"
   ]
  },
  {
   "cell_type": "code",
   "execution_count": 107,
   "metadata": {
    "id": "BrVLv0NRodph"
   },
   "outputs": [],
   "source": [
    "prob_test = best.predict(X_test).flatten()"
   ]
  },
  {
   "cell_type": "code",
   "execution_count": 108,
   "metadata": {
    "id": "D6o3i1n6od4j"
   },
   "outputs": [],
   "source": [
    "y_test_pred = ((best.predict(X_test) > 0.5).astype(\"int32\")).flatten()"
   ]
  },
  {
   "cell_type": "code",
   "execution_count": 110,
   "metadata": {
    "id": "LSmC0ugroeEO"
   },
   "outputs": [],
   "source": [
    "y_test_act = y_test.astype(\"int32\").flatten()"
   ]
  },
  {
   "cell_type": "code",
   "execution_count": 111,
   "metadata": {
    "id": "4rC9mAlvoeO6"
   },
   "outputs": [],
   "source": [
    "compare_test_df = pd.concat([pd.Series(y_test_act, name=\"Actual\"),\n",
    "                        pd.Series(y_test_pred, name=\"Predicted\"),\n",
    "                        pd.Series(prob_test, name=\"Probabilities\")], axis=1)"
   ]
  },
  {
   "cell_type": "code",
   "execution_count": 112,
   "metadata": {
    "colab": {
     "base_uri": "https://localhost:8080/",
     "height": 419
    },
    "id": "MzAXU_AQoeYK",
    "outputId": "1b255c85-36a3-4351-f367-927349eb9611"
   },
   "outputs": [
    {
     "data": {
      "text/html": [
       "<div>\n",
       "<style scoped>\n",
       "    .dataframe tbody tr th:only-of-type {\n",
       "        vertical-align: middle;\n",
       "    }\n",
       "\n",
       "    .dataframe tbody tr th {\n",
       "        vertical-align: top;\n",
       "    }\n",
       "\n",
       "    .dataframe thead th {\n",
       "        text-align: right;\n",
       "    }\n",
       "</style>\n",
       "<table border=\"1\" class=\"dataframe\">\n",
       "  <thead>\n",
       "    <tr style=\"text-align: right;\">\n",
       "      <th></th>\n",
       "      <th>Actual</th>\n",
       "      <th>Predicted</th>\n",
       "      <th>Probabilities</th>\n",
       "    </tr>\n",
       "  </thead>\n",
       "  <tbody>\n",
       "    <tr>\n",
       "      <th>0</th>\n",
       "      <td>0</td>\n",
       "      <td>1</td>\n",
       "      <td>0.999631</td>\n",
       "    </tr>\n",
       "    <tr>\n",
       "      <th>1</th>\n",
       "      <td>1</td>\n",
       "      <td>1</td>\n",
       "      <td>0.999710</td>\n",
       "    </tr>\n",
       "    <tr>\n",
       "      <th>2</th>\n",
       "      <td>1</td>\n",
       "      <td>1</td>\n",
       "      <td>0.996480</td>\n",
       "    </tr>\n",
       "    <tr>\n",
       "      <th>3</th>\n",
       "      <td>0</td>\n",
       "      <td>0</td>\n",
       "      <td>0.000727</td>\n",
       "    </tr>\n",
       "    <tr>\n",
       "      <th>4</th>\n",
       "      <td>0</td>\n",
       "      <td>0</td>\n",
       "      <td>0.006031</td>\n",
       "    </tr>\n",
       "    <tr>\n",
       "      <th>...</th>\n",
       "      <td>...</td>\n",
       "      <td>...</td>\n",
       "      <td>...</td>\n",
       "    </tr>\n",
       "    <tr>\n",
       "      <th>619</th>\n",
       "      <td>1</td>\n",
       "      <td>1</td>\n",
       "      <td>0.999611</td>\n",
       "    </tr>\n",
       "    <tr>\n",
       "      <th>620</th>\n",
       "      <td>1</td>\n",
       "      <td>1</td>\n",
       "      <td>0.999876</td>\n",
       "    </tr>\n",
       "    <tr>\n",
       "      <th>621</th>\n",
       "      <td>1</td>\n",
       "      <td>1</td>\n",
       "      <td>0.999700</td>\n",
       "    </tr>\n",
       "    <tr>\n",
       "      <th>622</th>\n",
       "      <td>1</td>\n",
       "      <td>1</td>\n",
       "      <td>0.999995</td>\n",
       "    </tr>\n",
       "    <tr>\n",
       "      <th>623</th>\n",
       "      <td>1</td>\n",
       "      <td>1</td>\n",
       "      <td>0.980445</td>\n",
       "    </tr>\n",
       "  </tbody>\n",
       "</table>\n",
       "<p>624 rows × 3 columns</p>\n",
       "</div>"
      ],
      "text/plain": [
       "     Actual  Predicted  Probabilities\n",
       "0         0          1       0.999631\n",
       "1         1          1       0.999710\n",
       "2         1          1       0.996480\n",
       "3         0          0       0.000727\n",
       "4         0          0       0.006031\n",
       "..      ...        ...            ...\n",
       "619       1          1       0.999611\n",
       "620       1          1       0.999876\n",
       "621       1          1       0.999700\n",
       "622       1          1       0.999995\n",
       "623       1          1       0.980445\n",
       "\n",
       "[624 rows x 3 columns]"
      ]
     },
     "execution_count": 112,
     "metadata": {
      "tags": []
     },
     "output_type": "execute_result"
    }
   ],
   "source": [
    "compare_test_df"
   ]
  },
  {
   "cell_type": "code",
   "execution_count": 113,
   "metadata": {
    "id": "4xhbPw3OpHg3"
   },
   "outputs": [],
   "source": [
    "compare_test_df.to_csv('/content/compare_test_df.csv')"
   ]
  },
  {
   "cell_type": "code",
   "execution_count": 114,
   "metadata": {
    "id": "XsiaKAb9pHoI"
   },
   "outputs": [],
   "source": [
    "compare_df.to_csv('/content/compare_val_df.csv')"
   ]
  },
  {
   "cell_type": "code",
   "execution_count": null,
   "metadata": {
    "id": "Nx3Q9O__pHv2"
   },
   "outputs": [],
   "source": []
  },
  {
   "cell_type": "markdown",
   "metadata": {
    "id": "bDdOIsdeCoJ2"
   },
   "source": [
    "## VI. Conclusion"
   ]
  },
  {
   "cell_type": "code",
   "execution_count": null,
   "metadata": {
    "id": "pwmkLuJjCoJ2"
   },
   "outputs": [],
   "source": []
  }
 ],
 "metadata": {
  "accelerator": "GPU",
  "colab": {
   "collapsed_sections": [
    "_5nRRLuYCoJp",
    "qvp7f48KCoJs",
    "fyyWMc39YaU7"
   ],
   "name": "Google_Colab_Pneumonia_Detection_Deep_Learning.ipynb",
   "provenance": []
  },
  "kernelspec": {
   "display_name": "Python 3",
   "language": "python",
   "name": "python3"
  },
  "language_info": {
   "codemirror_mode": {
    "name": "ipython",
    "version": 3
   },
   "file_extension": ".py",
   "mimetype": "text/x-python",
   "name": "python",
   "nbconvert_exporter": "python",
   "pygments_lexer": "ipython3",
   "version": "3.6.9"
  },
  "toc": {
   "base_numbering": 1,
   "nav_menu": {},
   "number_sections": false,
   "sideBar": true,
   "skip_h1_title": false,
   "title_cell": "Table of Contents",
   "title_sidebar": "Contents",
   "toc_cell": false,
   "toc_position": {
    "height": "calc(100% - 180px)",
    "left": "10px",
    "top": "150px",
    "width": "262.784px"
   },
   "toc_section_display": true,
   "toc_window_display": true
  }
 },
 "nbformat": 4,
 "nbformat_minor": 1
}
